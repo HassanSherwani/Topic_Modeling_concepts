{
 "cells": [
  {
   "cell_type": "markdown",
   "metadata": {},
   "source": [
    "# Patent analysis for EV"
   ]
  },
  {
   "cell_type": "markdown",
   "metadata": {},
   "source": [
    "- set 1 is fuel cell\n",
    "- set 2 is electric vehicle\n",
    "- set 4 is internal combustion\n",
    "- set 8 is hybrid"
   ]
  },
  {
   "cell_type": "code",
   "execution_count": 102,
   "metadata": {},
   "outputs": [],
   "source": [
    "import warnings\n",
    "warnings.filterwarnings('ignore')"
   ]
  },
  {
   "cell_type": "code",
   "execution_count": 103,
   "metadata": {},
   "outputs": [],
   "source": [
    "import pandas as pd\n",
    "import nltk"
   ]
  },
  {
   "cell_type": "code",
   "execution_count": 101,
   "metadata": {},
   "outputs": [
    {
     "name": "stdout",
     "output_type": "stream",
     "text": [
      "Populating the interactive namespace from numpy and matplotlib\n"
     ]
    }
   ],
   "source": [
    "# Visualization \n",
    "import matplotlib.pyplot as plt\n",
    "import seaborn as sns\n",
    "%matplotlib inline\n",
    "%pylab inline"
   ]
  },
  {
   "cell_type": "code",
   "execution_count": 48,
   "metadata": {},
   "outputs": [],
   "source": [
    "patent=pd.read_csv('hassan_all_en_new.csv')"
   ]
  },
  {
   "cell_type": "code",
   "execution_count": 49,
   "metadata": {},
   "outputs": [
    {
     "data": {
      "text/html": [
       "<div>\n",
       "<style scoped>\n",
       "    .dataframe tbody tr th:only-of-type {\n",
       "        vertical-align: middle;\n",
       "    }\n",
       "\n",
       "    .dataframe tbody tr th {\n",
       "        vertical-align: top;\n",
       "    }\n",
       "\n",
       "    .dataframe thead th {\n",
       "        text-align: right;\n",
       "    }\n",
       "</style>\n",
       "<table border=\"1\" class=\"dataframe\">\n",
       "  <thead>\n",
       "    <tr style=\"text-align: right;\">\n",
       "      <th></th>\n",
       "      <th>appln</th>\n",
       "      <th>appln_id</th>\n",
       "      <th>family_id</th>\n",
       "      <th>sets</th>\n",
       "      <th>direct</th>\n",
       "      <th>granted</th>\n",
       "      <th>earliest_appln</th>\n",
       "      <th>earliest_filing_date</th>\n",
       "      <th>publn_date</th>\n",
       "      <th>publn</th>\n",
       "      <th>...</th>\n",
       "      <th>citing_publn_date</th>\n",
       "      <th>citing_publn</th>\n",
       "      <th>citing_appln</th>\n",
       "      <th>citing_appln_id</th>\n",
       "      <th>citing_family_id</th>\n",
       "      <th>num_citing_family</th>\n",
       "      <th>earliest_applt</th>\n",
       "      <th>current_applt</th>\n",
       "      <th>appln_title</th>\n",
       "      <th>appln_abstr</th>\n",
       "    </tr>\n",
       "  </thead>\n",
       "  <tbody>\n",
       "    <tr>\n",
       "      <th>0</th>\n",
       "      <td>WO9105114W</td>\n",
       "      <td>47158713</td>\n",
       "      <td>1239277</td>\n",
       "      <td>2</td>\n",
       "      <td>1</td>\n",
       "      <td>1</td>\n",
       "      <td>US55592190A</td>\n",
       "      <td>1990-07-19</td>\n",
       "      <td>1993-02-18</td>\n",
       "      <td>WO9303532A1</td>\n",
       "      <td>...</td>\n",
       "      <td>2002-07-11</td>\n",
       "      <td>WO0199222A3</td>\n",
       "      <td>WO0119827W</td>\n",
       "      <td>45621927</td>\n",
       "      <td>24395918</td>\n",
       "      <td>30</td>\n",
       "      <td>LUZ ELECTRIC FUEL ISRAEL LTD.</td>\n",
       "      <td>LUZ ELECTRIC FUEL ISRAEL LTD.</td>\n",
       "      <td>ELECTRICAL ENERGY SYSTEM</td>\n",
       "      <td>An electrical energy system including an elect...</td>\n",
       "    </tr>\n",
       "    <tr>\n",
       "      <th>1</th>\n",
       "      <td>US55592190A</td>\n",
       "      <td>51797454</td>\n",
       "      <td>1239277</td>\n",
       "      <td>2</td>\n",
       "      <td>1</td>\n",
       "      <td>1</td>\n",
       "      <td>US55592190A</td>\n",
       "      <td>1990-07-19</td>\n",
       "      <td>1992-06-09</td>\n",
       "      <td>US5121044A</td>\n",
       "      <td>...</td>\n",
       "      <td>1993-05-04\\n1994-03-09\\n1994-09-20\\n1995-07-18...</td>\n",
       "      <td>US5208526A\\nEP0557287A4\\nUS5349535A\\nUS5434020...</td>\n",
       "      <td>US63645090A\\nEP91915464A\\nUS96399792A\\nUS15296...</td>\n",
       "      <td>52393850\\n16916549\\n54353461\\n48212422\\n457802...</td>\n",
       "      <td>27071024\\n1239277\\n25508001\\n22545199\\n2636904...</td>\n",
       "      <td>30</td>\n",
       "      <td>Luz Electric Fuel Israel, Ltd.</td>\n",
       "      <td>Luz Electric Fuel Israel, Ltd.</td>\n",
       "      <td>Electrical energy system</td>\n",
       "      <td>An electrical energy system including an elect...</td>\n",
       "    </tr>\n",
       "    <tr>\n",
       "      <th>2</th>\n",
       "      <td>DE19512512A</td>\n",
       "      <td>13386323</td>\n",
       "      <td>3505305</td>\n",
       "      <td>2</td>\n",
       "      <td>1</td>\n",
       "      <td>0</td>\n",
       "      <td>AT104194A</td>\n",
       "      <td>1994-05-20</td>\n",
       "      <td>1995-11-23</td>\n",
       "      <td>DE19512512A1</td>\n",
       "      <td>...</td>\n",
       "      <td>1999-04-14\\n2003-02-27\\n2007-05-22\\n2011-05-05...</td>\n",
       "      <td>EP0834977A3\\nDE10137908A1\\nUS7221062B2\\nWO2010...</td>\n",
       "      <td>EP97810450A\\nDE10137908A\\nUS48552204A\\nWO20100...</td>\n",
       "      <td>17254227\\n12994897\\n51255594\\n315713854\\n33380...</td>\n",
       "      <td>4222203\\n7694132\\n7694132\\n43298243\\n44288075\\...</td>\n",
       "      <td>4</td>\n",
       "      <td>STEYR-DAIMLER-PUCH AG, WIEN, AT</td>\n",
       "      <td>STEYR-DAIMLER-PUCH AG, WIEN, AT</td>\n",
       "      <td>Regulating circuit for battery-operated electr...</td>\n",
       "      <td>The regulating circuit has a microprocessor re...</td>\n",
       "    </tr>\n",
       "    <tr>\n",
       "      <th>3</th>\n",
       "      <td>DE4417432A</td>\n",
       "      <td>11295467</td>\n",
       "      <td>3505504</td>\n",
       "      <td>2</td>\n",
       "      <td>1</td>\n",
       "      <td>0</td>\n",
       "      <td>AT105093A</td>\n",
       "      <td>1993-05-28</td>\n",
       "      <td>1994-12-01</td>\n",
       "      <td>DE4417432A1</td>\n",
       "      <td>...</td>\n",
       "      <td>1996-06-07\\n1996-06-13\\n1997-10-21\\n1998-11-26...</td>\n",
       "      <td>FR2727654A1\\nDE4442867A1\\nUS5678646A\\nDE197215...</td>\n",
       "      <td>FR9514218A\\nDE4442867A\\nUS56615095A\\nDE1972152...</td>\n",
       "      <td>20508327\\n11314571\\n51875327\\n13472609\\n172965...</td>\n",
       "      <td>6534688\\n6534688\\n6534688\\n7830237\\n7831607\\n7...</td>\n",
       "      <td>39</td>\n",
       "      <td>STEYR-DAIMLER-PUCH AG, WIEN, AT</td>\n",
       "      <td>STEYR-DAIMLER-PUCH AG, WIEN, AT</td>\n",
       "      <td>Liquid-cooled drive unit for an electric vehicle</td>\n",
       "      <td>A drive unit for an electric vehicle comprises...</td>\n",
       "    </tr>\n",
       "    <tr>\n",
       "      <th>4</th>\n",
       "      <td>US25087194A</td>\n",
       "      <td>49013353</td>\n",
       "      <td>3505504</td>\n",
       "      <td>2</td>\n",
       "      <td>0</td>\n",
       "      <td>1</td>\n",
       "      <td>AT105093A</td>\n",
       "      <td>1993-05-28</td>\n",
       "      <td>1996-12-17</td>\n",
       "      <td>US5585681A</td>\n",
       "      <td>...</td>\n",
       "      <td>1998-08-27\\n2001-03-06\\n2002-10-02\\n2003-03-05...</td>\n",
       "      <td>WO9828833A3\\nUS6198183B1\\nEP0951131A3\\nEP12880...</td>\n",
       "      <td>WO9702146W\\nUS29465599A\\nEP99106967A\\nEP020179...</td>\n",
       "      <td>43603749\\n49378246\\n17378403\\n15912913\\n487780...</td>\n",
       "      <td>20405163\\n7865025\\n7865025\\n19091319\\n19091319...</td>\n",
       "      <td>39</td>\n",
       "      <td>Steyr-Daimler Puch AG</td>\n",
       "      <td>Steyr-Daimler Puch AG</td>\n",
       "      <td>Liquid-cooled drive unit for an electric motor...</td>\n",
       "      <td>A drive unit for an electric motor car compris...</td>\n",
       "    </tr>\n",
       "  </tbody>\n",
       "</table>\n",
       "<p>5 rows × 34 columns</p>\n",
       "</div>"
      ],
      "text/plain": [
       "         appln  appln_id  family_id  sets  direct  granted earliest_appln  \\\n",
       "0   WO9105114W  47158713    1239277     2       1        1    US55592190A   \n",
       "1  US55592190A  51797454    1239277     2       1        1    US55592190A   \n",
       "2  DE19512512A  13386323    3505305     2       1        0      AT104194A   \n",
       "3   DE4417432A  11295467    3505504     2       1        0      AT105093A   \n",
       "4  US25087194A  49013353    3505504     2       0        1      AT105093A   \n",
       "\n",
       "  earliest_filing_date  publn_date         publn  \\\n",
       "0           1990-07-19  1993-02-18   WO9303532A1   \n",
       "1           1990-07-19  1992-06-09    US5121044A   \n",
       "2           1994-05-20  1995-11-23  DE19512512A1   \n",
       "3           1993-05-28  1994-12-01   DE4417432A1   \n",
       "4           1993-05-28  1996-12-17    US5585681A   \n",
       "\n",
       "                         ...                          \\\n",
       "0                        ...                           \n",
       "1                        ...                           \n",
       "2                        ...                           \n",
       "3                        ...                           \n",
       "4                        ...                           \n",
       "\n",
       "                                   citing_publn_date  \\\n",
       "0                                         2002-07-11   \n",
       "1  1993-05-04\\n1994-03-09\\n1994-09-20\\n1995-07-18...   \n",
       "2  1999-04-14\\n2003-02-27\\n2007-05-22\\n2011-05-05...   \n",
       "3  1996-06-07\\n1996-06-13\\n1997-10-21\\n1998-11-26...   \n",
       "4  1998-08-27\\n2001-03-06\\n2002-10-02\\n2003-03-05...   \n",
       "\n",
       "                                        citing_publn  \\\n",
       "0                                        WO0199222A3   \n",
       "1  US5208526A\\nEP0557287A4\\nUS5349535A\\nUS5434020...   \n",
       "2  EP0834977A3\\nDE10137908A1\\nUS7221062B2\\nWO2010...   \n",
       "3  FR2727654A1\\nDE4442867A1\\nUS5678646A\\nDE197215...   \n",
       "4  WO9828833A3\\nUS6198183B1\\nEP0951131A3\\nEP12880...   \n",
       "\n",
       "                                        citing_appln  \\\n",
       "0                                         WO0119827W   \n",
       "1  US63645090A\\nEP91915464A\\nUS96399792A\\nUS15296...   \n",
       "2  EP97810450A\\nDE10137908A\\nUS48552204A\\nWO20100...   \n",
       "3  FR9514218A\\nDE4442867A\\nUS56615095A\\nDE1972152...   \n",
       "4  WO9702146W\\nUS29465599A\\nEP99106967A\\nEP020179...   \n",
       "\n",
       "                                     citing_appln_id  \\\n",
       "0                                           45621927   \n",
       "1  52393850\\n16916549\\n54353461\\n48212422\\n457802...   \n",
       "2  17254227\\n12994897\\n51255594\\n315713854\\n33380...   \n",
       "3  20508327\\n11314571\\n51875327\\n13472609\\n172965...   \n",
       "4  43603749\\n49378246\\n17378403\\n15912913\\n487780...   \n",
       "\n",
       "                                    citing_family_id num_citing_family  \\\n",
       "0                                           24395918                30   \n",
       "1  27071024\\n1239277\\n25508001\\n22545199\\n2636904...                30   \n",
       "2  4222203\\n7694132\\n7694132\\n43298243\\n44288075\\...                 4   \n",
       "3  6534688\\n6534688\\n6534688\\n7830237\\n7831607\\n7...                39   \n",
       "4  20405163\\n7865025\\n7865025\\n19091319\\n19091319...                39   \n",
       "\n",
       "                    earliest_applt                    current_applt  \\\n",
       "0    LUZ ELECTRIC FUEL ISRAEL LTD.    LUZ ELECTRIC FUEL ISRAEL LTD.   \n",
       "1   Luz Electric Fuel Israel, Ltd.   Luz Electric Fuel Israel, Ltd.   \n",
       "2  STEYR-DAIMLER-PUCH AG, WIEN, AT  STEYR-DAIMLER-PUCH AG, WIEN, AT   \n",
       "3  STEYR-DAIMLER-PUCH AG, WIEN, AT  STEYR-DAIMLER-PUCH AG, WIEN, AT   \n",
       "4            Steyr-Daimler Puch AG            Steyr-Daimler Puch AG   \n",
       "\n",
       "                                         appln_title  \\\n",
       "0                           ELECTRICAL ENERGY SYSTEM   \n",
       "1                           Electrical energy system   \n",
       "2  Regulating circuit for battery-operated electr...   \n",
       "3   Liquid-cooled drive unit for an electric vehicle   \n",
       "4  Liquid-cooled drive unit for an electric motor...   \n",
       "\n",
       "                                         appln_abstr  \n",
       "0  An electrical energy system including an elect...  \n",
       "1  An electrical energy system including an elect...  \n",
       "2  The regulating circuit has a microprocessor re...  \n",
       "3  A drive unit for an electric vehicle comprises...  \n",
       "4  A drive unit for an electric motor car compris...  \n",
       "\n",
       "[5 rows x 34 columns]"
      ]
     },
     "execution_count": 49,
     "metadata": {},
     "output_type": "execute_result"
    }
   ],
   "source": [
    "patent.head()"
   ]
  },
  {
   "cell_type": "markdown",
   "metadata": {},
   "source": [
    "- appln                     The identifier of the application (with letter at the end, seems Google omits that)\n",
    "- appln_id                  The (internal) patstat identifier of the application\n",
    "- family_id                 The (internal) patstat identifier of the family that the application is a member of sets  - sets                      Indicate which sets (fuel-cell = 1, electric  vehicle = 2, both = 3) was matched\n",
    "- direct                    Indicate whether this application was found directly (title/abstract/cpc/ipc) or      indirectly (family association)\n",
    "- granted                   Whether or not the application was granted\n",
    "- earliest_appln            Per family, the earliest application\n",
    "- earliest_filing_date      The date of the family's earliest application\n",
    "- publn                     Identifiers of publications associated with this application (*)\n",
    "- publn_date                The dates of associated publications (*)\n",
    "- publn_first_grant         Indicates for each publication if its the first one with granted status\n",
    "- num_cpc_class             The number of CPC classes for this application\n",
    "- cpc_class                 The CPC class symbols for this application\n",
    "- num_ipc_class             The number of IPC classes for this application\n",
    "- ipc_class                 The IPC class symbols for this application\n",
    "- num_cited_publn           The number of forward citations (this applications refers to other publications)\n",
    "- cited_publn_date          The dates of cited publications (**)\n",
    "- cited_publn               The identifiers of cited publications (**)\n",
    "- cited_appln               The identifiers of the applications  associated with cited publications (**)\n",
    "- cited_appln_id            The (internal) patstat identifiers of the  applications associated with cited publications (**)\n",
    "- cited_family_id           The (internal) patstat identifiers of the  family associated with cited publications (**)\n",
    "- num_cited_family          The total number of distinct families  associated with cited publications (***)\n",
    "- num_citing_publn          The number of backward citations (other  publications refer to this application)\n",
    "- citing_publn_date         The dates of citing publications (**)\n",
    "- citing_publn              The identifiers of citing publications (**)\n",
    "- citing_appln              The identifiers of the applications  associated with citing publications (**)\n",
    "- citing_appln_id           The (internal) patstat identifiers of the  applications associated with citing publications (**)\n",
    "- citing_family_id          The (internal) patstat identifiers of the  family associated with citing publications (**)\n",
    "- num_citing_family         The total number of distinct families  associated with citing publications (***)\n",
    "- earliest_applt            The name of the (first) applicant of the  earliest publication of this application \n",
    "- current_applt             The name of the (first) applicant of the most recent publication of this application\n",
    "- appln_title               The title of this application\n",
    ">>\n",
    ">> (*/**) These are one per line, in consistent order\n",
    "\n",
    "\n",
    ">> (***) These seem to be the numbers that google uses to count citations. You can get this from the export if you aggregate all applications within a family and discard duplicates.\n"
   ]
  },
  {
   "cell_type": "code",
   "execution_count": 95,
   "metadata": {},
   "outputs": [
    {
     "data": {
      "text/plain": [
       "(34223, 35)"
      ]
     },
     "execution_count": 95,
     "metadata": {},
     "output_type": "execute_result"
    }
   ],
   "source": [
    "patent.shape"
   ]
  },
  {
   "cell_type": "markdown",
   "metadata": {},
   "source": [
    "# 1) EDA"
   ]
  },
  {
   "cell_type": "markdown",
   "metadata": {},
   "source": [
    "## 1.1)-Types of features in our dataset"
   ]
  },
  {
   "cell_type": "code",
   "execution_count": 87,
   "metadata": {},
   "outputs": [
    {
     "data": {
      "text/plain": [
       "object            23\n",
       "int64             11\n",
       "datetime64[ns]     1\n",
       "dtype: int64"
      ]
     },
     "execution_count": 87,
     "metadata": {},
     "output_type": "execute_result"
    }
   ],
   "source": [
    "patent.dtypes.value_counts()"
   ]
  },
  {
   "cell_type": "code",
   "execution_count": 88,
   "metadata": {},
   "outputs": [
    {
     "data": {
      "text/html": [
       "<div>\n",
       "<style scoped>\n",
       "    .dataframe tbody tr th:only-of-type {\n",
       "        vertical-align: middle;\n",
       "    }\n",
       "\n",
       "    .dataframe tbody tr th {\n",
       "        vertical-align: top;\n",
       "    }\n",
       "\n",
       "    .dataframe thead th {\n",
       "        text-align: right;\n",
       "    }\n",
       "</style>\n",
       "<table border=\"1\" class=\"dataframe\">\n",
       "  <thead>\n",
       "    <tr style=\"text-align: right;\">\n",
       "      <th></th>\n",
       "      <th>Data Type</th>\n",
       "    </tr>\n",
       "  </thead>\n",
       "  <tbody>\n",
       "    <tr>\n",
       "      <th>application_date</th>\n",
       "      <td>datetime64[ns]</td>\n",
       "    </tr>\n",
       "    <tr>\n",
       "      <th>appln_id</th>\n",
       "      <td>int64</td>\n",
       "    </tr>\n",
       "    <tr>\n",
       "      <th>family_id</th>\n",
       "      <td>int64</td>\n",
       "    </tr>\n",
       "    <tr>\n",
       "      <th>sets</th>\n",
       "      <td>int64</td>\n",
       "    </tr>\n",
       "    <tr>\n",
       "      <th>direct</th>\n",
       "      <td>int64</td>\n",
       "    </tr>\n",
       "    <tr>\n",
       "      <th>granted</th>\n",
       "      <td>int64</td>\n",
       "    </tr>\n",
       "    <tr>\n",
       "      <th>num_citing_publn</th>\n",
       "      <td>int64</td>\n",
       "    </tr>\n",
       "    <tr>\n",
       "      <th>num_cited_publn</th>\n",
       "      <td>int64</td>\n",
       "    </tr>\n",
       "    <tr>\n",
       "      <th>num_citing_family</th>\n",
       "      <td>int64</td>\n",
       "    </tr>\n",
       "    <tr>\n",
       "      <th>num_cited_family</th>\n",
       "      <td>int64</td>\n",
       "    </tr>\n",
       "    <tr>\n",
       "      <th>num_cpc_class</th>\n",
       "      <td>int64</td>\n",
       "    </tr>\n",
       "    <tr>\n",
       "      <th>num_ipc_class</th>\n",
       "      <td>int64</td>\n",
       "    </tr>\n",
       "    <tr>\n",
       "      <th>citing_publn_date</th>\n",
       "      <td>object</td>\n",
       "    </tr>\n",
       "    <tr>\n",
       "      <th>citing_publn</th>\n",
       "      <td>object</td>\n",
       "    </tr>\n",
       "    <tr>\n",
       "      <th>citing_family_id</th>\n",
       "      <td>object</td>\n",
       "    </tr>\n",
       "    <tr>\n",
       "      <th>citing_appln_id</th>\n",
       "      <td>object</td>\n",
       "    </tr>\n",
       "    <tr>\n",
       "      <th>earliest_applt</th>\n",
       "      <td>object</td>\n",
       "    </tr>\n",
       "    <tr>\n",
       "      <th>current_applt</th>\n",
       "      <td>object</td>\n",
       "    </tr>\n",
       "    <tr>\n",
       "      <th>appln_title</th>\n",
       "      <td>object</td>\n",
       "    </tr>\n",
       "    <tr>\n",
       "      <th>citing_appln</th>\n",
       "      <td>object</td>\n",
       "    </tr>\n",
       "    <tr>\n",
       "      <th>cited_family_id</th>\n",
       "      <td>object</td>\n",
       "    </tr>\n",
       "    <tr>\n",
       "      <th>appln</th>\n",
       "      <td>object</td>\n",
       "    </tr>\n",
       "    <tr>\n",
       "      <th>cited_appln</th>\n",
       "      <td>object</td>\n",
       "    </tr>\n",
       "    <tr>\n",
       "      <th>cited_publn</th>\n",
       "      <td>object</td>\n",
       "    </tr>\n",
       "    <tr>\n",
       "      <th>appln_abstr</th>\n",
       "      <td>object</td>\n",
       "    </tr>\n",
       "    <tr>\n",
       "      <th>ipc_class</th>\n",
       "      <td>object</td>\n",
       "    </tr>\n",
       "    <tr>\n",
       "      <th>cpc_class</th>\n",
       "      <td>object</td>\n",
       "    </tr>\n",
       "    <tr>\n",
       "      <th>publn_claims</th>\n",
       "      <td>object</td>\n",
       "    </tr>\n",
       "    <tr>\n",
       "      <th>publn_first_grant</th>\n",
       "      <td>object</td>\n",
       "    </tr>\n",
       "    <tr>\n",
       "      <th>publn</th>\n",
       "      <td>object</td>\n",
       "    </tr>\n",
       "    <tr>\n",
       "      <th>publn_date</th>\n",
       "      <td>object</td>\n",
       "    </tr>\n",
       "    <tr>\n",
       "      <th>earliest_filing_date</th>\n",
       "      <td>object</td>\n",
       "    </tr>\n",
       "    <tr>\n",
       "      <th>earliest_appln</th>\n",
       "      <td>object</td>\n",
       "    </tr>\n",
       "    <tr>\n",
       "      <th>cited_appln_id</th>\n",
       "      <td>object</td>\n",
       "    </tr>\n",
       "    <tr>\n",
       "      <th>cited_publn_date</th>\n",
       "      <td>object</td>\n",
       "    </tr>\n",
       "  </tbody>\n",
       "</table>\n",
       "</div>"
      ],
      "text/plain": [
       "                           Data Type\n",
       "application_date      datetime64[ns]\n",
       "appln_id                       int64\n",
       "family_id                      int64\n",
       "sets                           int64\n",
       "direct                         int64\n",
       "granted                        int64\n",
       "num_citing_publn               int64\n",
       "num_cited_publn                int64\n",
       "num_citing_family              int64\n",
       "num_cited_family               int64\n",
       "num_cpc_class                  int64\n",
       "num_ipc_class                  int64\n",
       "citing_publn_date             object\n",
       "citing_publn                  object\n",
       "citing_family_id              object\n",
       "citing_appln_id               object\n",
       "earliest_applt                object\n",
       "current_applt                 object\n",
       "appln_title                   object\n",
       "citing_appln                  object\n",
       "cited_family_id               object\n",
       "appln                         object\n",
       "cited_appln                   object\n",
       "cited_publn                   object\n",
       "appln_abstr                   object\n",
       "ipc_class                     object\n",
       "cpc_class                     object\n",
       "publn_claims                  object\n",
       "publn_first_grant             object\n",
       "publn                         object\n",
       "publn_date                    object\n",
       "earliest_filing_date          object\n",
       "earliest_appln                object\n",
       "cited_appln_id                object\n",
       "cited_publn_date              object"
      ]
     },
     "execution_count": 88,
     "metadata": {},
     "output_type": "execute_result"
    }
   ],
   "source": [
    "# Checking all variables with their data-type\n",
    "def _tbl_dtype(dataset):\n",
    "    sum_dtype = pd.DataFrame(dataset.dtypes).sort_values(0).rename(columns = {0:'Data Type'})\n",
    "    return sum_dtype\n",
    "\n",
    "table_dtype = _tbl_dtype(patent)\n",
    "table_dtype"
   ]
  },
  {
   "cell_type": "markdown",
   "metadata": {},
   "source": [
    "## 1.2)-Checking missing values"
   ]
  },
  {
   "cell_type": "code",
   "execution_count": 89,
   "metadata": {},
   "outputs": [],
   "source": [
    "def find_missing_values(df, columns):\n",
    "    \"\"\"\n",
    "    Finds number of rows where certain columns are missing values.\n",
    "    ::param_df:: = target dataframe\n",
    "    ::param_columns:: = list of columns\n",
    "    \"\"\"\n",
    "    missing_vals = {}\n",
    "    print(\"Number of missing or NaN values for each column:\")\n",
    "    df_length = len(df)\n",
    "    for column in columns:\n",
    "        total_column_values = df[column].value_counts().sum()\n",
    "        missing_vals[column] = df_length-total_column_values\n",
    "        #missing_vals.append(str(column)+ \" column has {} missing or NaN values.\".format())\n",
    "    return missing_vals"
   ]
  },
  {
   "cell_type": "code",
   "execution_count": 91,
   "metadata": {},
   "outputs": [
    {
     "name": "stdout",
     "output_type": "stream",
     "text": [
      "Number of missing or NaN values for each column:\n"
     ]
    },
    {
     "data": {
      "text/plain": [
       "{'appln': 0,\n",
       " 'appln_id': 0,\n",
       " 'family_id': 0,\n",
       " 'sets': 0,\n",
       " 'direct': 0,\n",
       " 'granted': 0,\n",
       " 'earliest_appln': 0,\n",
       " 'earliest_filing_date': 0,\n",
       " 'publn_date': 0,\n",
       " 'publn': 0,\n",
       " 'publn_first_grant': 0,\n",
       " 'publn_claims': 0,\n",
       " 'num_cpc_class': 0,\n",
       " 'cpc_class': 2187,\n",
       " 'num_ipc_class': 0,\n",
       " 'ipc_class': 30,\n",
       " 'num_cited_publn': 0,\n",
       " 'cited_publn_date': 10553,\n",
       " 'cited_publn': 10553,\n",
       " 'cited_appln': 10553,\n",
       " 'cited_appln_id': 10553,\n",
       " 'cited_family_id': 10553,\n",
       " 'num_cited_family': 0,\n",
       " 'num_citing_publn': 0,\n",
       " 'citing_publn_date': 11662,\n",
       " 'citing_publn': 11662,\n",
       " 'citing_appln': 11662,\n",
       " 'citing_appln_id': 11662,\n",
       " 'citing_family_id': 11662,\n",
       " 'num_citing_family': 0,\n",
       " 'earliest_applt': 182,\n",
       " 'current_applt': 182,\n",
       " 'appln_title': 0,\n",
       " 'appln_abstr': 0,\n",
       " 'application_date': 0}"
      ]
     },
     "execution_count": 91,
     "metadata": {},
     "output_type": "execute_result"
    }
   ],
   "source": [
    "missing_values = find_missing_values(patent, columns=patent.columns)\n",
    "missing_values"
   ]
  },
  {
   "cell_type": "code",
   "execution_count": 93,
   "metadata": {},
   "outputs": [
    {
     "data": {
      "text/plain": [
       "<matplotlib.axes._subplots.AxesSubplot at 0x2b6e79b7c18>"
      ]
     },
     "execution_count": 93,
     "metadata": {},
     "output_type": "execute_result"
    },
    {
     "data": {
      "image/png": "[encoded data removed]",
      "text/plain": [
       "<matplotlib.figure.Figure at 0x2b6e3c9f390>"
      ]
     },
     "metadata": {
      "needs_background": "light"
     },
     "output_type": "display_data"
    }
   ],
   "source": [
    "import missingno\n",
    "missingno.matrix(patent, figsize = (30,10))"
   ]
  },
  {
   "cell_type": "code",
   "execution_count": 94,
   "metadata": {},
   "outputs": [
    {
     "name": "stdout",
     "output_type": "stream",
     "text": [
      "No. of fields:  34223\n",
      "No. of missing fields:  14\n"
     ]
    },
    {
     "data": {
      "text/html": [
       "<div>\n",
       "<style scoped>\n",
       "    .dataframe tbody tr th:only-of-type {\n",
       "        vertical-align: middle;\n",
       "    }\n",
       "\n",
       "    .dataframe tbody tr th {\n",
       "        vertical-align: top;\n",
       "    }\n",
       "\n",
       "    .dataframe thead th {\n",
       "        text-align: right;\n",
       "    }\n",
       "</style>\n",
       "<table border=\"1\" class=\"dataframe\">\n",
       "  <thead>\n",
       "    <tr style=\"text-align: right;\">\n",
       "      <th></th>\n",
       "      <th>No. of mising Value</th>\n",
       "      <th>%age of missing Value</th>\n",
       "    </tr>\n",
       "  </thead>\n",
       "  <tbody>\n",
       "    <tr>\n",
       "      <th>citing_appln</th>\n",
       "      <td>11662</td>\n",
       "      <td>34.1</td>\n",
       "    </tr>\n",
       "    <tr>\n",
       "      <th>citing_appln_id</th>\n",
       "      <td>11662</td>\n",
       "      <td>34.1</td>\n",
       "    </tr>\n",
       "    <tr>\n",
       "      <th>citing_publn_date</th>\n",
       "      <td>11662</td>\n",
       "      <td>34.1</td>\n",
       "    </tr>\n",
       "    <tr>\n",
       "      <th>citing_publn</th>\n",
       "      <td>11662</td>\n",
       "      <td>34.1</td>\n",
       "    </tr>\n",
       "    <tr>\n",
       "      <th>citing_family_id</th>\n",
       "      <td>11662</td>\n",
       "      <td>34.1</td>\n",
       "    </tr>\n",
       "    <tr>\n",
       "      <th>cited_appln_id</th>\n",
       "      <td>10553</td>\n",
       "      <td>30.8</td>\n",
       "    </tr>\n",
       "    <tr>\n",
       "      <th>cited_family_id</th>\n",
       "      <td>10553</td>\n",
       "      <td>30.8</td>\n",
       "    </tr>\n",
       "    <tr>\n",
       "      <th>cited_appln</th>\n",
       "      <td>10553</td>\n",
       "      <td>30.8</td>\n",
       "    </tr>\n",
       "    <tr>\n",
       "      <th>cited_publn_date</th>\n",
       "      <td>10553</td>\n",
       "      <td>30.8</td>\n",
       "    </tr>\n",
       "    <tr>\n",
       "      <th>cited_publn</th>\n",
       "      <td>10553</td>\n",
       "      <td>30.8</td>\n",
       "    </tr>\n",
       "    <tr>\n",
       "      <th>cpc_class</th>\n",
       "      <td>2187</td>\n",
       "      <td>6.4</td>\n",
       "    </tr>\n",
       "    <tr>\n",
       "      <th>earliest_applt</th>\n",
       "      <td>182</td>\n",
       "      <td>0.5</td>\n",
       "    </tr>\n",
       "    <tr>\n",
       "      <th>current_applt</th>\n",
       "      <td>182</td>\n",
       "      <td>0.5</td>\n",
       "    </tr>\n",
       "    <tr>\n",
       "      <th>ipc_class</th>\n",
       "      <td>30</td>\n",
       "      <td>0.1</td>\n",
       "    </tr>\n",
       "  </tbody>\n",
       "</table>\n",
       "</div>"
      ],
      "text/plain": [
       "                   No. of mising Value  %age of missing Value\n",
       "citing_appln                     11662                   34.1\n",
       "citing_appln_id                  11662                   34.1\n",
       "citing_publn_date                11662                   34.1\n",
       "citing_publn                     11662                   34.1\n",
       "citing_family_id                 11662                   34.1\n",
       "cited_appln_id                   10553                   30.8\n",
       "cited_family_id                  10553                   30.8\n",
       "cited_appln                      10553                   30.8\n",
       "cited_publn_date                 10553                   30.8\n",
       "cited_publn                      10553                   30.8\n",
       "cpc_class                         2187                    6.4\n",
       "earliest_applt                     182                    0.5\n",
       "current_applt                      182                    0.5\n",
       "ipc_class                           30                    0.1"
      ]
     },
     "execution_count": 94,
     "metadata": {},
     "output_type": "execute_result"
    }
   ],
   "source": [
    "def summary_missing(dataset):\n",
    "    n_miss = dataset.isnull().sum()\n",
    "    n_obs = dataset.shape[0]\n",
    "    n_miss_per = n_miss/n_obs*100\n",
    "    n_miss_tbl = pd.concat([n_miss, n_miss_per], axis = 1).sort_values(1, ascending = False).round(1)\n",
    "    n_miss_tbl = n_miss_tbl[n_miss_tbl[1] != 0]\n",
    "    print('No. of fields: ', dataset.shape[0])\n",
    "    print('No. of missing fields: ', n_miss_tbl.shape[0])\n",
    "    n_miss_tbl = n_miss_tbl.rename(columns = {0:'No. of mising Value', 1:'%age of missing Value'})\n",
    "    return n_miss_tbl\n",
    "\n",
    "summary_missing(patent)"
   ]
  },
  {
   "cell_type": "code",
   "execution_count": 51,
   "metadata": {},
   "outputs": [
    {
     "data": {
      "text/plain": [
       "2     16947\n",
       "8      8048\n",
       "1      4411\n",
       "4      1900\n",
       "10     1867\n",
       "12      672\n",
       "3       160\n",
       "14      112\n",
       "9        49\n",
       "5        21\n",
       "6        20\n",
       "11       16\n",
       "Name: sets, dtype: int64"
      ]
     },
     "execution_count": 51,
     "metadata": {},
     "output_type": "execute_result"
    }
   ],
   "source": [
    "patent.sets.value_counts()"
   ]
  },
  {
   "cell_type": "markdown",
   "metadata": {},
   "source": [
    "- set 1 is fuel cell and contains 4411 values\n",
    "- set 2 is electric vehicle and contains 16947 values\n",
    "- set 4 is internal combustion and contains 1900 values\n",
    "- set 8 is hybrid and contains 8048 values"
   ]
  },
  {
   "cell_type": "markdown",
   "metadata": {},
   "source": [
    "# 2) Comparing groups"
   ]
  },
  {
   "cell_type": "code",
   "execution_count": 56,
   "metadata": {},
   "outputs": [
    {
     "data": {
      "text/plain": [
       "0    1\n",
       "1    1\n",
       "2    0\n",
       "3    0\n",
       "4    1\n",
       "Name: granted, dtype: int64"
      ]
     },
     "execution_count": 56,
     "metadata": {},
     "output_type": "execute_result"
    }
   ],
   "source": [
    "patent['granted'][:5]"
   ]
  },
  {
   "cell_type": "code",
   "execution_count": 57,
   "metadata": {},
   "outputs": [
    {
     "data": {
      "text/plain": [
       "1    25900\n",
       "0     8323\n",
       "Name: granted, dtype: int64"
      ]
     },
     "execution_count": 57,
     "metadata": {},
     "output_type": "execute_result"
    }
   ],
   "source": [
    "patent['granted'].value_counts()"
   ]
  },
  {
   "cell_type": "code",
   "execution_count": 58,
   "metadata": {},
   "outputs": [
    {
     "data": {
      "text/plain": [
       "Toyota Jidosha Kabushiki Kaisha                                  1802\n",
       "Hyundai Motor Company                                            1663\n",
       "TOYOTA MOTOR CORP                                                1543\n",
       "HONDA MOTOR CO LTD                                               1016\n",
       "Ford Global Technologies, LLC                                     745\n",
       "NISSAN MOTOR CO LTD                                               693\n",
       "Honda Motor Co., Ltd.                                             517\n",
       "Nissan Motor Co., Ltd.                                            480\n",
       "Honda Giken Kogyo Kabushiki Kaisha                                340\n",
       "TOYOTA JIDOSHA KABUSHIKI KAISHA                                   307\n",
       "Toyota Motor Corporation                                          303\n",
       "Robert Bosch GmbH                                                 259\n",
       "HONDA MOTOR CO., LTD.                                             255\n",
       "MITSUBISHI MOTORS CORP                                            229\n",
       "TOYOTA MOTOR CO., LTD.                                            207\n",
       "NISSAN MOTOR CO., LTD.                                            198\n",
       "DENSO CORP                                                        195\n",
       "HYUNDAI MOTOR CO LTD                                              179\n",
       "Mitsubishi Electric Corporation                                   176\n",
       "Hitachi, Ltd.                                                     171\n",
       "Suzuki Motor Corporation                                          151\n",
       "SUZUKI MOTOR CORP                                                 151\n",
       "HITACHI LTD                                                       146\n",
       "Mitsubishi Jidosha Kogyo Kabushiki Kaisha                         142\n",
       "General Electric Company                                          137\n",
       "GM Global Technology Operations LLC                               137\n",
       "LSIS CO., LTD.                                                    133\n",
       "Sony Corporation                                                  126\n",
       "BEIQI FOTON MOTOR CO., LTD.                                       122\n",
       "Korea Advanced Institute of Science and Technology                119\n",
       "                                                                 ... \n",
       "ODYNE SYSTEMS, LLC                                                  1\n",
       "DAIHATSU MOTOR CO.                                                  1\n",
       "Jung, Yeon-Sung                                                     1\n",
       "PETER HOFBAUER                                                      1\n",
       "SCHAEFFLER TECHNOLOGIES AG                                          1\n",
       "GERIN MAX                                                           1\n",
       "YANCHENG HONGSHENG NEW ENERGY TECHNOLOGY CO., LTD.                  1\n",
       "Director-General, Agency of Industrial Science and Technology       1\n",
       "SAMSUNG HEAVY INDUSTRY CO., LTD., CHANGWON, KYUNG NAM, KR           1\n",
       "Wagner Mining and Construction Equipment Co.                        1\n",
       "NORTH UNIVERSITY OF CHINA                                           1\n",
       "Avganim, Meir                                                       1\n",
       "Redmond, Scott Douglas                                              1\n",
       "NEC Corp.                                                           1\n",
       "Jungheinrich Aktiengesellschaft                                     1\n",
       "DONG YIFENG                                                         1\n",
       "ELEKTROMOTIVE LIMITED                                               1\n",
       "FORD GLOBAL TECHNOLOGIES, INC.                                      1\n",
       "Gross, Juergen                                                      1\n",
       "DATANG NXP SEMICONDUCTORS CO., LTD.                                 1\n",
       "Aiken, Brian Matthew                                                1\n",
       "MAGNA E CAR SYSTEMS OF AMERICA INC                                  1\n",
       "BROWN, ALBERT, W.                                                   1\n",
       "HOELTZEL, THOMAS                                                    1\n",
       "DONG JIANGUO                                                        1\n",
       "Wang, Jian M                                                        1\n",
       "LI SHICHENG                                                         1\n",
       "Illinois Tool Works, Inc.                                           1\n",
       "C.R.F. Società Consortile per Azioni                                1\n",
       "NANJING HUABO TECHNOLOGY CO.,LTD.                                   1\n",
       "Name: current_applt, Length: 7763, dtype: int64"
      ]
     },
     "execution_count": 58,
     "metadata": {},
     "output_type": "execute_result"
    }
   ],
   "source": [
    "patent['current_applt'].value_counts()"
   ]
  },
  {
   "cell_type": "code",
   "execution_count": 59,
   "metadata": {},
   "outputs": [
    {
     "data": {
      "text/plain": [
       "1    1339\n",
       "0     324\n",
       "Name: granted, dtype: int64"
      ]
     },
     "execution_count": 59,
     "metadata": {},
     "output_type": "execute_result"
    }
   ],
   "source": [
    "# suppose we want to see how many patents are granted to Hyundai Motor Company \n",
    "\n",
    "patent[patent.current_applt == 'Hyundai Motor Company'].granted.value_counts()"
   ]
  },
  {
   "cell_type": "code",
   "execution_count": 60,
   "metadata": {},
   "outputs": [
    {
     "data": {
      "text/plain": [
       "1    0.805171\n",
       "0    0.194829\n",
       "Name: granted, dtype: float64"
      ]
     },
     "execution_count": 60,
     "metadata": {},
     "output_type": "execute_result"
    }
   ],
   "source": [
    "# if we wanna see %age\n",
    "patent[patent.current_applt == 'Hyundai Motor Company'].granted.value_counts(normalize=True)"
   ]
  },
  {
   "cell_type": "code",
   "execution_count": 61,
   "metadata": {},
   "outputs": [
    {
     "data": {
      "text/plain": [
       "granted  current_applt                                                \n",
       "0        Toyota Jidosha Kabushiki Kaisha                                  0.108675\n",
       "         Hyundai Motor Company                                            0.039254\n",
       "         Nissan Motor Co., Ltd.                                           0.023746\n",
       "         Ford Global Technologies, LLC                                    0.021323\n",
       "         Honda Motor Co., Ltd.                                            0.019263\n",
       "         Robert Bosch GmbH                                                0.015992\n",
       "         HONDA MOTOR CO LTD                                               0.011510\n",
       "         TOYOTA MOTOR CORP                                                0.011267\n",
       "         TOYOTA JIDOSHA KABUSHIKI KAISHA                                  0.010783\n",
       "         Mitsubishi Electric Corporation                                  0.010540\n",
       "         Sony Corporation                                                 0.009692\n",
       "         HYUNDAI MOTOR CO LTD                                             0.009329\n",
       "         Kawasaki Jukogyo Kabushiki Kaisha                                0.008965\n",
       "         General Electric Company                                         0.008238\n",
       "         Kia Motors Corporation                                           0.007269\n",
       "         NTN Corporation                                                  0.007027\n",
       "         Panasonic Corporation                                            0.006785\n",
       "         BYD Company Limited                                              0.006421\n",
       "         Yamaha Hatsudoki Kabushiki Kaisha                                0.006421\n",
       "         HONDA MOTOR CO., LTD.                                            0.005937\n",
       "         Suzuki Motor Corporation                                         0.005694\n",
       "         Peugeot Citroen Automobiles SA                                   0.005573\n",
       "         LSIS CO., LTD.                                                   0.005452\n",
       "         Nissan Motor Co., Ltd                                            0.005331\n",
       "         HYUNDAI MOTOR COMPANY CO LTD                                     0.005210\n",
       "         Mitsubishi Jidosha Kogyo Kabushiki Kaisha                        0.005210\n",
       "         Bayerische Motoren Werke Aktiengesellschaft                      0.005088\n",
       "         Qualcomm Incorporated                                            0.005088\n",
       "         SHENZHEN BYD AUTO R&D COMPANY LIMITED                            0.004967\n",
       "         Siemens Aktiengesellschaft                                       0.004967\n",
       "                                                                            ...   \n",
       "1        ZOOMLION HEAVY INDUSTRY SCIENCE & TECHNOLOGY CO., LTD.           0.000039\n",
       "         ZOU BENCAI                                                       0.000039\n",
       "         ZOU CHAOSHENG                                                    0.000039\n",
       "         ZOU DEQIANG                                                      0.000039\n",
       "         ZT YUPIN TECHNOLOGY CO., LTD.                                    0.000039\n",
       "         ZTE NEW ENERGY AUTOMOBILE CO., LTD.                              0.000039\n",
       "         ZTEK CORPORATION                                                 0.000039\n",
       "         ZTEK KOPEHREJSHN                                                 0.000039\n",
       "         ZUNYI TIANYI LIWEI ELECTRICAL CO., LTD.                          0.000039\n",
       "         ZUO GUANGBIN                                                     0.000039\n",
       "         ZUO ZHONG YOU ELECTRIC VEHICLE SERVICE (SHANGHAI) CO., LTD.      0.000039\n",
       "         Zalan, Daryl                                                     0.000039\n",
       "         Zeco Systems Pte Ltd                                             0.000039\n",
       "         Zeh, Dietmar                                                     0.000039\n",
       "         Zell, Helmut                                                     0.000039\n",
       "         Zeng, Hua                                                        0.000039\n",
       "         Zerbini, Mark A.                                                 0.000039\n",
       "         Zettel, Andrew M.                                                0.000039\n",
       "         Zhang, Mingliang                                                 0.000039\n",
       "         Zhejiang Geely Holding Group Co., Ltd                            0.000039\n",
       "         Zhongliyuan (Zhenjiang) Electric Vehicle Technology Co., Ltd.    0.000039\n",
       "         Zhou, Wesley                                                     0.000039\n",
       "         Zhou; Shijian                                                    0.000039\n",
       "         Zhu, Douglas                                                     0.000039\n",
       "         Zollner, Tobias                                                  0.000039\n",
       "         de la Torre Bueno, Jose                                          0.000039\n",
       "         dmc2 Degussa Metals Catalysts Cerdec AG                          0.000039\n",
       "         e-AAM Driveline Systems AB                                       0.000039\n",
       "         innogy SE                                                        0.000039\n",
       "         swissauto powersport llc                                         0.000039\n",
       "Name: current_applt, Length: 8635, dtype: float64"
      ]
     },
     "execution_count": 61,
     "metadata": {},
     "output_type": "execute_result"
    }
   ],
   "source": [
    "# Use groupby\n",
    "patent.groupby('granted').current_applt.value_counts(normalize=True)"
   ]
  },
  {
   "cell_type": "markdown",
   "metadata": {},
   "source": [
    "# 3)- Working with time series\n",
    "\n",
    "Check which year has least and most patents granted <br>\n",
    "earliest_filing_date= no. of patents' application"
   ]
  },
  {
   "cell_type": "code",
   "execution_count": 62,
   "metadata": {},
   "outputs": [
    {
     "data": {
      "text/plain": [
       "0        1990\n",
       "1        1990\n",
       "2        1994\n",
       "3        1993\n",
       "4        1993\n",
       "5        1991\n",
       "6        1995\n",
       "7        1992\n",
       "8        2002\n",
       "9        2002\n",
       "10       2002\n",
       "11       1999\n",
       "12       1999\n",
       "13       1999\n",
       "14       1999\n",
       "15       1999\n",
       "16       1999\n",
       "17       1999\n",
       "18       1999\n",
       "19       1999\n",
       "20       1999\n",
       "21       1999\n",
       "22       1999\n",
       "23       1999\n",
       "24       1999\n",
       "25       1999\n",
       "26       1999\n",
       "27       1999\n",
       "28       1996\n",
       "29       1999\n",
       "         ... \n",
       "34193    2017\n",
       "34194    2017\n",
       "34195    2016\n",
       "34196    2017\n",
       "34197    2017\n",
       "34198    2017\n",
       "34199    2017\n",
       "34200    2017\n",
       "34201    2017\n",
       "34202    2016\n",
       "34203    2016\n",
       "34204    2017\n",
       "34205    2017\n",
       "34206    2017\n",
       "34207    2017\n",
       "34208    2017\n",
       "34209    2017\n",
       "34210    2017\n",
       "34211    2016\n",
       "34212    2014\n",
       "34213    2014\n",
       "34214    2014\n",
       "34215    2016\n",
       "34216    2016\n",
       "34217    2016\n",
       "34218    2016\n",
       "34219    2016\n",
       "34220    2016\n",
       "34221    2015\n",
       "34222    2017\n",
       "Name: earliest_filing_date, Length: 34223, dtype: object"
      ]
     },
     "execution_count": 62,
     "metadata": {},
     "output_type": "execute_result"
    }
   ],
   "source": [
    "patent.earliest_filing_date.str.slice(0,4)"
   ]
  },
  {
   "cell_type": "code",
   "execution_count": 63,
   "metadata": {},
   "outputs": [
    {
     "data": {
      "text/plain": [
       "2011    3816\n",
       "2012    3231\n",
       "2010    2849\n",
       "2013    2615\n",
       "2009    2285\n",
       "2014    2165\n",
       "2007    1844\n",
       "2015    1744\n",
       "2008    1667\n",
       "2006    1619\n",
       "2005    1050\n",
       "2016    1040\n",
       "2004     930\n",
       "2001     892\n",
       "2003     874\n",
       "2002     849\n",
       "2000     790\n",
       "1999     695\n",
       "1998     546\n",
       "1997     507\n",
       "1995     435\n",
       "1996     382\n",
       "1993     356\n",
       "1994     344\n",
       "1992     250\n",
       "2017     198\n",
       "1991     163\n",
       "1990      86\n",
       "2018       1\n",
       "Name: earliest_filing_date, dtype: int64"
      ]
     },
     "execution_count": 63,
     "metadata": {},
     "output_type": "execute_result"
    }
   ],
   "source": [
    "patent.earliest_filing_date.str.slice(0,4).value_counts()"
   ]
  },
  {
   "cell_type": "code",
   "execution_count": 64,
   "metadata": {},
   "outputs": [],
   "source": [
    "# alternative way\n",
    "filling_date= patent.earliest_filing_date\n",
    "patent['application_date']= pd.to_datetime(filling_date)"
   ]
  },
  {
   "cell_type": "code",
   "execution_count": 65,
   "metadata": {},
   "outputs": [
    {
     "data": {
      "text/plain": [
       "appln                           object\n",
       "appln_id                         int64\n",
       "family_id                        int64\n",
       "sets                             int64\n",
       "direct                           int64\n",
       "granted                          int64\n",
       "earliest_appln                  object\n",
       "earliest_filing_date            object\n",
       "publn_date                      object\n",
       "publn                           object\n",
       "publn_first_grant               object\n",
       "publn_claims                    object\n",
       "num_cpc_class                    int64\n",
       "cpc_class                       object\n",
       "num_ipc_class                    int64\n",
       "ipc_class                       object\n",
       "num_cited_publn                  int64\n",
       "cited_publn_date                object\n",
       "cited_publn                     object\n",
       "cited_appln                     object\n",
       "cited_appln_id                  object\n",
       "cited_family_id                 object\n",
       "num_cited_family                 int64\n",
       "num_citing_publn                 int64\n",
       "citing_publn_date               object\n",
       "citing_publn                    object\n",
       "citing_appln                    object\n",
       "citing_appln_id                 object\n",
       "citing_family_id                object\n",
       "num_citing_family                int64\n",
       "earliest_applt                  object\n",
       "current_applt                   object\n",
       "appln_title                     object\n",
       "appln_abstr                     object\n",
       "application_date        datetime64[ns]\n",
       "dtype: object"
      ]
     },
     "execution_count": 65,
     "metadata": {},
     "output_type": "execute_result"
    }
   ],
   "source": [
    "patent.dtypes"
   ]
  },
  {
   "cell_type": "markdown",
   "metadata": {},
   "source": [
    "application_date ..................       datetime64[ns]"
   ]
  },
  {
   "cell_type": "code",
   "execution_count": 66,
   "metadata": {},
   "outputs": [
    {
     "data": {
      "text/plain": [
       "0        1990\n",
       "1        1990\n",
       "2        1994\n",
       "3        1993\n",
       "4        1993\n",
       "5        1991\n",
       "6        1995\n",
       "7        1992\n",
       "8        2002\n",
       "9        2002\n",
       "10       2002\n",
       "11       1999\n",
       "12       1999\n",
       "13       1999\n",
       "14       1999\n",
       "15       1999\n",
       "16       1999\n",
       "17       1999\n",
       "18       1999\n",
       "19       1999\n",
       "20       1999\n",
       "21       1999\n",
       "22       1999\n",
       "23       1999\n",
       "24       1999\n",
       "25       1999\n",
       "26       1999\n",
       "27       1999\n",
       "28       1996\n",
       "29       1999\n",
       "         ... \n",
       "34193    2017\n",
       "34194    2017\n",
       "34195    2016\n",
       "34196    2017\n",
       "34197    2017\n",
       "34198    2017\n",
       "34199    2017\n",
       "34200    2017\n",
       "34201    2017\n",
       "34202    2016\n",
       "34203    2016\n",
       "34204    2017\n",
       "34205    2017\n",
       "34206    2017\n",
       "34207    2017\n",
       "34208    2017\n",
       "34209    2017\n",
       "34210    2017\n",
       "34211    2016\n",
       "34212    2014\n",
       "34213    2014\n",
       "34214    2014\n",
       "34215    2016\n",
       "34216    2016\n",
       "34217    2016\n",
       "34218    2016\n",
       "34219    2016\n",
       "34220    2016\n",
       "34221    2015\n",
       "34222    2017\n",
       "Name: application_date, Length: 34223, dtype: int64"
      ]
     },
     "execution_count": 66,
     "metadata": {},
     "output_type": "execute_result"
    }
   ],
   "source": [
    "patent['application_date'].dt.year"
   ]
  },
  {
   "cell_type": "code",
   "execution_count": 67,
   "metadata": {},
   "outputs": [
    {
     "data": {
      "text/plain": [
       "2011    3816\n",
       "2012    3231\n",
       "2010    2849\n",
       "2013    2615\n",
       "2009    2285\n",
       "2014    2165\n",
       "2007    1844\n",
       "2015    1744\n",
       "2008    1667\n",
       "2006    1619\n",
       "2005    1050\n",
       "2016    1040\n",
       "2004     930\n",
       "2001     892\n",
       "2003     874\n",
       "2002     849\n",
       "2000     790\n",
       "1999     695\n",
       "1998     546\n",
       "1997     507\n",
       "1995     435\n",
       "1996     382\n",
       "1993     356\n",
       "1994     344\n",
       "1992     250\n",
       "2017     198\n",
       "1991     163\n",
       "1990      86\n",
       "2018       1\n",
       "Name: application_date, dtype: int64"
      ]
     },
     "execution_count": 67,
     "metadata": {},
     "output_type": "execute_result"
    }
   ],
   "source": [
    "# checking for highest patent in a year\n",
    "patent['application_date'].dt.year.value_counts()"
   ]
  },
  {
   "cell_type": "code",
   "execution_count": 68,
   "metadata": {},
   "outputs": [
    {
     "data": {
      "text/plain": [
       "2018       1\n",
       "1990      86\n",
       "1991     163\n",
       "2017     198\n",
       "1992     250\n",
       "1994     344\n",
       "1993     356\n",
       "1996     382\n",
       "1995     435\n",
       "1997     507\n",
       "1998     546\n",
       "1999     695\n",
       "2000     790\n",
       "2002     849\n",
       "2003     874\n",
       "2001     892\n",
       "2004     930\n",
       "2016    1040\n",
       "2005    1050\n",
       "2006    1619\n",
       "2008    1667\n",
       "2015    1744\n",
       "2007    1844\n",
       "2014    2165\n",
       "2009    2285\n",
       "2013    2615\n",
       "2010    2849\n",
       "2012    3231\n",
       "2011    3816\n",
       "Name: application_date, dtype: int64"
      ]
     },
     "execution_count": 68,
     "metadata": {},
     "output_type": "execute_result"
    }
   ],
   "source": [
    "# checking for least patents per year\n",
    "patent['application_date'].dt.year.value_counts().sort_values()"
   ]
  },
  {
   "cell_type": "code",
   "execution_count": 69,
   "metadata": {},
   "outputs": [
    {
     "data": {
      "text/plain": [
       "2018       1\n",
       "1990      86\n",
       "1991     163\n",
       "2017     198\n",
       "1992     250\n",
       "1994     344\n",
       "1993     356\n",
       "1996     382\n",
       "1995     435\n",
       "1997     507\n",
       "1998     546\n",
       "1999     695\n",
       "2000     790\n",
       "2002     849\n",
       "2003     874\n",
       "2001     892\n",
       "2004     930\n",
       "2016    1040\n",
       "2005    1050\n",
       "2006    1619\n",
       "2008    1667\n",
       "2015    1744\n",
       "2007    1844\n",
       "2014    2165\n",
       "2009    2285\n",
       "2013    2615\n",
       "2010    2849\n",
       "2012    3231\n",
       "2011    3816\n",
       "Name: application_date, dtype: int64"
      ]
     },
     "execution_count": 69,
     "metadata": {},
     "output_type": "execute_result"
    }
   ],
   "source": [
    "patent['application_date'].dt.year.value_counts(ascending= True)"
   ]
  },
  {
   "cell_type": "code",
   "execution_count": 70,
   "metadata": {},
   "outputs": [
    {
     "data": {
      "text/plain": [
       "2018"
      ]
     },
     "execution_count": 70,
     "metadata": {},
     "output_type": "execute_result"
    }
   ],
   "source": [
    "#We can even pick least patent year\n",
    "patent.application_date.dt.year.value_counts().sort_values().index[0]"
   ]
  },
  {
   "cell_type": "code",
   "execution_count": 71,
   "metadata": {},
   "outputs": [
    {
     "data": {
      "text/plain": [
       "2011"
      ]
     },
     "execution_count": 71,
     "metadata": {},
     "output_type": "execute_result"
    }
   ],
   "source": [
    "# For highest year\n",
    "patent.application_date.dt.year.value_counts().index[0]"
   ]
  },
  {
   "cell_type": "markdown",
   "metadata": {},
   "source": [
    "## 3.1)- Distribution of the patent applications over application years\n",
    "\n",
    "use earliest_filing_date and granted variables\n",
    "figure 3 in paper"
   ]
  },
  {
   "cell_type": "code",
   "execution_count": 72,
   "metadata": {},
   "outputs": [
    {
     "data": {
      "text/html": [
       "<div>\n",
       "<style scoped>\n",
       "    .dataframe tbody tr th:only-of-type {\n",
       "        vertical-align: middle;\n",
       "    }\n",
       "\n",
       "    .dataframe tbody tr th {\n",
       "        vertical-align: top;\n",
       "    }\n",
       "\n",
       "    .dataframe thead th {\n",
       "        text-align: right;\n",
       "    }\n",
       "</style>\n",
       "<table border=\"1\" class=\"dataframe\">\n",
       "  <thead>\n",
       "    <tr style=\"text-align: right;\">\n",
       "      <th></th>\n",
       "      <th>appln</th>\n",
       "      <th>appln_id</th>\n",
       "      <th>family_id</th>\n",
       "      <th>sets</th>\n",
       "      <th>direct</th>\n",
       "      <th>granted</th>\n",
       "      <th>earliest_appln</th>\n",
       "      <th>earliest_filing_date</th>\n",
       "      <th>publn_date</th>\n",
       "      <th>publn</th>\n",
       "      <th>...</th>\n",
       "      <th>citing_publn</th>\n",
       "      <th>citing_appln</th>\n",
       "      <th>citing_appln_id</th>\n",
       "      <th>citing_family_id</th>\n",
       "      <th>num_citing_family</th>\n",
       "      <th>earliest_applt</th>\n",
       "      <th>current_applt</th>\n",
       "      <th>appln_title</th>\n",
       "      <th>appln_abstr</th>\n",
       "      <th>application_date</th>\n",
       "    </tr>\n",
       "  </thead>\n",
       "  <tbody>\n",
       "    <tr>\n",
       "      <th>0</th>\n",
       "      <td>WO9105114W</td>\n",
       "      <td>47158713</td>\n",
       "      <td>1239277</td>\n",
       "      <td>2</td>\n",
       "      <td>1</td>\n",
       "      <td>1</td>\n",
       "      <td>US55592190A</td>\n",
       "      <td>1990-07-19</td>\n",
       "      <td>1993-02-18</td>\n",
       "      <td>WO9303532A1</td>\n",
       "      <td>...</td>\n",
       "      <td>WO0199222A3</td>\n",
       "      <td>WO0119827W</td>\n",
       "      <td>45621927</td>\n",
       "      <td>24395918</td>\n",
       "      <td>30</td>\n",
       "      <td>LUZ ELECTRIC FUEL ISRAEL LTD.</td>\n",
       "      <td>LUZ ELECTRIC FUEL ISRAEL LTD.</td>\n",
       "      <td>ELECTRICAL ENERGY SYSTEM</td>\n",
       "      <td>An electrical energy system including an elect...</td>\n",
       "      <td>1990-07-19</td>\n",
       "    </tr>\n",
       "    <tr>\n",
       "      <th>1</th>\n",
       "      <td>US55592190A</td>\n",
       "      <td>51797454</td>\n",
       "      <td>1239277</td>\n",
       "      <td>2</td>\n",
       "      <td>1</td>\n",
       "      <td>1</td>\n",
       "      <td>US55592190A</td>\n",
       "      <td>1990-07-19</td>\n",
       "      <td>1992-06-09</td>\n",
       "      <td>US5121044A</td>\n",
       "      <td>...</td>\n",
       "      <td>US5208526A\\nEP0557287A4\\nUS5349535A\\nUS5434020...</td>\n",
       "      <td>US63645090A\\nEP91915464A\\nUS96399792A\\nUS15296...</td>\n",
       "      <td>52393850\\n16916549\\n54353461\\n48212422\\n457802...</td>\n",
       "      <td>27071024\\n1239277\\n25508001\\n22545199\\n2636904...</td>\n",
       "      <td>30</td>\n",
       "      <td>Luz Electric Fuel Israel, Ltd.</td>\n",
       "      <td>Luz Electric Fuel Israel, Ltd.</td>\n",
       "      <td>Electrical energy system</td>\n",
       "      <td>An electrical energy system including an elect...</td>\n",
       "      <td>1990-07-19</td>\n",
       "    </tr>\n",
       "    <tr>\n",
       "      <th>2</th>\n",
       "      <td>DE19512512A</td>\n",
       "      <td>13386323</td>\n",
       "      <td>3505305</td>\n",
       "      <td>2</td>\n",
       "      <td>1</td>\n",
       "      <td>0</td>\n",
       "      <td>AT104194A</td>\n",
       "      <td>1994-05-20</td>\n",
       "      <td>1995-11-23</td>\n",
       "      <td>DE19512512A1</td>\n",
       "      <td>...</td>\n",
       "      <td>EP0834977A3\\nDE10137908A1\\nUS7221062B2\\nWO2010...</td>\n",
       "      <td>EP97810450A\\nDE10137908A\\nUS48552204A\\nWO20100...</td>\n",
       "      <td>17254227\\n12994897\\n51255594\\n315713854\\n33380...</td>\n",
       "      <td>4222203\\n7694132\\n7694132\\n43298243\\n44288075\\...</td>\n",
       "      <td>4</td>\n",
       "      <td>STEYR-DAIMLER-PUCH AG, WIEN, AT</td>\n",
       "      <td>STEYR-DAIMLER-PUCH AG, WIEN, AT</td>\n",
       "      <td>Regulating circuit for battery-operated electr...</td>\n",
       "      <td>The regulating circuit has a microprocessor re...</td>\n",
       "      <td>1994-05-20</td>\n",
       "    </tr>\n",
       "    <tr>\n",
       "      <th>3</th>\n",
       "      <td>DE4417432A</td>\n",
       "      <td>11295467</td>\n",
       "      <td>3505504</td>\n",
       "      <td>2</td>\n",
       "      <td>1</td>\n",
       "      <td>0</td>\n",
       "      <td>AT105093A</td>\n",
       "      <td>1993-05-28</td>\n",
       "      <td>1994-12-01</td>\n",
       "      <td>DE4417432A1</td>\n",
       "      <td>...</td>\n",
       "      <td>FR2727654A1\\nDE4442867A1\\nUS5678646A\\nDE197215...</td>\n",
       "      <td>FR9514218A\\nDE4442867A\\nUS56615095A\\nDE1972152...</td>\n",
       "      <td>20508327\\n11314571\\n51875327\\n13472609\\n172965...</td>\n",
       "      <td>6534688\\n6534688\\n6534688\\n7830237\\n7831607\\n7...</td>\n",
       "      <td>39</td>\n",
       "      <td>STEYR-DAIMLER-PUCH AG, WIEN, AT</td>\n",
       "      <td>STEYR-DAIMLER-PUCH AG, WIEN, AT</td>\n",
       "      <td>Liquid-cooled drive unit for an electric vehicle</td>\n",
       "      <td>A drive unit for an electric vehicle comprises...</td>\n",
       "      <td>1993-05-28</td>\n",
       "    </tr>\n",
       "    <tr>\n",
       "      <th>4</th>\n",
       "      <td>US25087194A</td>\n",
       "      <td>49013353</td>\n",
       "      <td>3505504</td>\n",
       "      <td>2</td>\n",
       "      <td>0</td>\n",
       "      <td>1</td>\n",
       "      <td>AT105093A</td>\n",
       "      <td>1993-05-28</td>\n",
       "      <td>1996-12-17</td>\n",
       "      <td>US5585681A</td>\n",
       "      <td>...</td>\n",
       "      <td>WO9828833A3\\nUS6198183B1\\nEP0951131A3\\nEP12880...</td>\n",
       "      <td>WO9702146W\\nUS29465599A\\nEP99106967A\\nEP020179...</td>\n",
       "      <td>43603749\\n49378246\\n17378403\\n15912913\\n487780...</td>\n",
       "      <td>20405163\\n7865025\\n7865025\\n19091319\\n19091319...</td>\n",
       "      <td>39</td>\n",
       "      <td>Steyr-Daimler Puch AG</td>\n",
       "      <td>Steyr-Daimler Puch AG</td>\n",
       "      <td>Liquid-cooled drive unit for an electric motor...</td>\n",
       "      <td>A drive unit for an electric motor car compris...</td>\n",
       "      <td>1993-05-28</td>\n",
       "    </tr>\n",
       "  </tbody>\n",
       "</table>\n",
       "<p>5 rows × 35 columns</p>\n",
       "</div>"
      ],
      "text/plain": [
       "         appln  appln_id  family_id  sets  direct  granted earliest_appln  \\\n",
       "0   WO9105114W  47158713    1239277     2       1        1    US55592190A   \n",
       "1  US55592190A  51797454    1239277     2       1        1    US55592190A   \n",
       "2  DE19512512A  13386323    3505305     2       1        0      AT104194A   \n",
       "3   DE4417432A  11295467    3505504     2       1        0      AT105093A   \n",
       "4  US25087194A  49013353    3505504     2       0        1      AT105093A   \n",
       "\n",
       "  earliest_filing_date  publn_date         publn       ...         \\\n",
       "0           1990-07-19  1993-02-18   WO9303532A1       ...          \n",
       "1           1990-07-19  1992-06-09    US5121044A       ...          \n",
       "2           1994-05-20  1995-11-23  DE19512512A1       ...          \n",
       "3           1993-05-28  1994-12-01   DE4417432A1       ...          \n",
       "4           1993-05-28  1996-12-17    US5585681A       ...          \n",
       "\n",
       "                                        citing_publn  \\\n",
       "0                                        WO0199222A3   \n",
       "1  US5208526A\\nEP0557287A4\\nUS5349535A\\nUS5434020...   \n",
       "2  EP0834977A3\\nDE10137908A1\\nUS7221062B2\\nWO2010...   \n",
       "3  FR2727654A1\\nDE4442867A1\\nUS5678646A\\nDE197215...   \n",
       "4  WO9828833A3\\nUS6198183B1\\nEP0951131A3\\nEP12880...   \n",
       "\n",
       "                                        citing_appln  \\\n",
       "0                                         WO0119827W   \n",
       "1  US63645090A\\nEP91915464A\\nUS96399792A\\nUS15296...   \n",
       "2  EP97810450A\\nDE10137908A\\nUS48552204A\\nWO20100...   \n",
       "3  FR9514218A\\nDE4442867A\\nUS56615095A\\nDE1972152...   \n",
       "4  WO9702146W\\nUS29465599A\\nEP99106967A\\nEP020179...   \n",
       "\n",
       "                                     citing_appln_id  \\\n",
       "0                                           45621927   \n",
       "1  52393850\\n16916549\\n54353461\\n48212422\\n457802...   \n",
       "2  17254227\\n12994897\\n51255594\\n315713854\\n33380...   \n",
       "3  20508327\\n11314571\\n51875327\\n13472609\\n172965...   \n",
       "4  43603749\\n49378246\\n17378403\\n15912913\\n487780...   \n",
       "\n",
       "                                    citing_family_id  num_citing_family  \\\n",
       "0                                           24395918                 30   \n",
       "1  27071024\\n1239277\\n25508001\\n22545199\\n2636904...                 30   \n",
       "2  4222203\\n7694132\\n7694132\\n43298243\\n44288075\\...                  4   \n",
       "3  6534688\\n6534688\\n6534688\\n7830237\\n7831607\\n7...                 39   \n",
       "4  20405163\\n7865025\\n7865025\\n19091319\\n19091319...                 39   \n",
       "\n",
       "                    earliest_applt                    current_applt  \\\n",
       "0    LUZ ELECTRIC FUEL ISRAEL LTD.    LUZ ELECTRIC FUEL ISRAEL LTD.   \n",
       "1   Luz Electric Fuel Israel, Ltd.   Luz Electric Fuel Israel, Ltd.   \n",
       "2  STEYR-DAIMLER-PUCH AG, WIEN, AT  STEYR-DAIMLER-PUCH AG, WIEN, AT   \n",
       "3  STEYR-DAIMLER-PUCH AG, WIEN, AT  STEYR-DAIMLER-PUCH AG, WIEN, AT   \n",
       "4            Steyr-Daimler Puch AG            Steyr-Daimler Puch AG   \n",
       "\n",
       "                                         appln_title  \\\n",
       "0                           ELECTRICAL ENERGY SYSTEM   \n",
       "1                           Electrical energy system   \n",
       "2  Regulating circuit for battery-operated electr...   \n",
       "3   Liquid-cooled drive unit for an electric vehicle   \n",
       "4  Liquid-cooled drive unit for an electric motor...   \n",
       "\n",
       "                                         appln_abstr application_date  \n",
       "0  An electrical energy system including an elect...       1990-07-19  \n",
       "1  An electrical energy system including an elect...       1990-07-19  \n",
       "2  The regulating circuit has a microprocessor re...       1994-05-20  \n",
       "3  A drive unit for an electric vehicle comprises...       1993-05-28  \n",
       "4  A drive unit for an electric motor car compris...       1993-05-28  \n",
       "\n",
       "[5 rows x 35 columns]"
      ]
     },
     "execution_count": 72,
     "metadata": {},
     "output_type": "execute_result"
    }
   ],
   "source": [
    "patent.head()"
   ]
  },
  {
   "cell_type": "code",
   "execution_count": 73,
   "metadata": {},
   "outputs": [
    {
     "data": {
      "text/plain": [
       "1    25900\n",
       "0     8323\n",
       "Name: granted, dtype: int64"
      ]
     },
     "execution_count": 73,
     "metadata": {},
     "output_type": "execute_result"
    }
   ],
   "source": [
    "patent['granted'].value_counts()"
   ]
  },
  {
   "cell_type": "code",
   "execution_count": 74,
   "metadata": {},
   "outputs": [
    {
     "data": {
      "text/plain": [
       "1    0.756801\n",
       "0    0.243199\n",
       "Name: granted, dtype: float64"
      ]
     },
     "execution_count": 74,
     "metadata": {},
     "output_type": "execute_result"
    }
   ],
   "source": [
    "patent['granted'].value_counts(normalize=True)"
   ]
  },
  {
   "cell_type": "code",
   "execution_count": 75,
   "metadata": {},
   "outputs": [
    {
     "data": {
      "text/plain": [
       "0.7568009817958683"
      ]
     },
     "execution_count": 75,
     "metadata": {},
     "output_type": "execute_result"
    }
   ],
   "source": [
    "patent.granted.mean()"
   ]
  },
  {
   "cell_type": "code",
   "execution_count": 76,
   "metadata": {},
   "outputs": [
    {
     "data": {
      "text/plain": [
       "application_date\n",
       "1990      86\n",
       "1991     163\n",
       "1992     250\n",
       "1993     356\n",
       "1994     344\n",
       "1995     435\n",
       "1996     382\n",
       "1997     507\n",
       "1998     546\n",
       "1999     695\n",
       "2000     790\n",
       "2001     892\n",
       "2002     849\n",
       "2003     874\n",
       "2004     930\n",
       "2005    1050\n",
       "2006    1619\n",
       "2007    1844\n",
       "2008    1667\n",
       "2009    2285\n",
       "2010    2849\n",
       "2011    3816\n",
       "2012    3231\n",
       "2013    2615\n",
       "2014    2165\n",
       "2015    1744\n",
       "2016    1040\n",
       "2017     198\n",
       "2018       1\n",
       "Name: granted, dtype: int64"
      ]
     },
     "execution_count": 76,
     "metadata": {},
     "output_type": "execute_result"
    }
   ],
   "source": [
    "patent.groupby(patent.application_date.dt.year).granted.count()"
   ]
  },
  {
   "cell_type": "code",
   "execution_count": 77,
   "metadata": {},
   "outputs": [
    {
     "data": {
      "text/plain": [
       "<matplotlib.axes._subplots.AxesSubplot at 0x2b6e6007080>"
      ]
     },
     "execution_count": 77,
     "metadata": {},
     "output_type": "execute_result"
    },
    {
     "data": {
      "image/png": "[encoded data removed]",
      "text/plain": [
       "<matplotlib.figure.Figure at 0x2b6e5ffec88>"
      ]
     },
     "metadata": {
      "needs_background": "light"
     },
     "output_type": "display_data"
    }
   ],
   "source": [
    "patent.groupby(patent.application_date.dt.year).granted.count().plot()"
   ]
  },
  {
   "cell_type": "code",
   "execution_count": 78,
   "metadata": {},
   "outputs": [
    {
     "data": {
      "text/plain": [
       "application_date\n",
       "2018       1\n",
       "1990      86\n",
       "1991     163\n",
       "2017     198\n",
       "1992     250\n",
       "1994     344\n",
       "1993     356\n",
       "1996     382\n",
       "1995     435\n",
       "1997     507\n",
       "1998     546\n",
       "1999     695\n",
       "2000     790\n",
       "2002     849\n",
       "2003     874\n",
       "2001     892\n",
       "2004     930\n",
       "2016    1040\n",
       "2005    1050\n",
       "2006    1619\n",
       "2008    1667\n",
       "2015    1744\n",
       "2007    1844\n",
       "2014    2165\n",
       "2009    2285\n",
       "2013    2615\n",
       "2010    2849\n",
       "2012    3231\n",
       "2011    3816\n",
       "Name: granted, dtype: int64"
      ]
     },
     "execution_count": 78,
     "metadata": {},
     "output_type": "execute_result"
    }
   ],
   "source": [
    "patent.groupby(patent.application_date.dt.year).granted.count().sort_values()"
   ]
  },
  {
   "cell_type": "markdown",
   "metadata": {},
   "source": [
    "**The steep drop in patent applications in 2014 is due to the patent ﬁlling process at the USPTO, which involves a signiﬁcant time lag between the ﬁling and disclosure or registration of applications, ranging from several months to over two years.**\n",
    "\n",
    "So work uptill fig 3 is done"
   ]
  },
  {
   "cell_type": "markdown",
   "metadata": {},
   "source": [
    "# 3.2) Top assignees of the vehicle related patents.\n"
   ]
  },
  {
   "cell_type": "code",
   "execution_count": 79,
   "metadata": {},
   "outputs": [
    {
     "data": {
      "text/plain": [
       "Toyota Jidosha Kabushiki Kaisha    1802\n",
       "Hyundai Motor Company              1663\n",
       "TOYOTA MOTOR CORP                  1543\n",
       "HONDA MOTOR CO LTD                 1016\n",
       "Ford Global Technologies, LLC       745\n",
       "Name: current_applt, dtype: int64"
      ]
     },
     "execution_count": 79,
     "metadata": {},
     "output_type": "execute_result"
    }
   ],
   "source": [
    "patent['current_applt'].value_counts().head()"
   ]
  },
  {
   "cell_type": "code",
   "execution_count": null,
   "metadata": {},
   "outputs": [],
   "source": []
  },
  {
   "cell_type": "code",
   "execution_count": 80,
   "metadata": {},
   "outputs": [],
   "source": [
    "assigne_data=patent['current_applt'].value_counts()"
   ]
  },
  {
   "cell_type": "code",
   "execution_count": 81,
   "metadata": {},
   "outputs": [],
   "source": [
    "df_assigne= pd.DataFrame(data=assigne_data)"
   ]
  },
  {
   "cell_type": "code",
   "execution_count": 82,
   "metadata": {},
   "outputs": [
    {
     "data": {
      "text/html": [
       "<div>\n",
       "<style scoped>\n",
       "    .dataframe tbody tr th:only-of-type {\n",
       "        vertical-align: middle;\n",
       "    }\n",
       "\n",
       "    .dataframe tbody tr th {\n",
       "        vertical-align: top;\n",
       "    }\n",
       "\n",
       "    .dataframe thead th {\n",
       "        text-align: right;\n",
       "    }\n",
       "</style>\n",
       "<table border=\"1\" class=\"dataframe\">\n",
       "  <thead>\n",
       "    <tr style=\"text-align: right;\">\n",
       "      <th></th>\n",
       "      <th>current_applt</th>\n",
       "    </tr>\n",
       "  </thead>\n",
       "  <tbody>\n",
       "    <tr>\n",
       "      <th>Toyota Jidosha Kabushiki Kaisha</th>\n",
       "      <td>1802</td>\n",
       "    </tr>\n",
       "    <tr>\n",
       "      <th>Hyundai Motor Company</th>\n",
       "      <td>1663</td>\n",
       "    </tr>\n",
       "    <tr>\n",
       "      <th>TOYOTA MOTOR CORP</th>\n",
       "      <td>1543</td>\n",
       "    </tr>\n",
       "    <tr>\n",
       "      <th>HONDA MOTOR CO LTD</th>\n",
       "      <td>1016</td>\n",
       "    </tr>\n",
       "    <tr>\n",
       "      <th>Ford Global Technologies, LLC</th>\n",
       "      <td>745</td>\n",
       "    </tr>\n",
       "  </tbody>\n",
       "</table>\n",
       "</div>"
      ],
      "text/plain": [
       "                                 current_applt\n",
       "Toyota Jidosha Kabushiki Kaisha           1802\n",
       "Hyundai Motor Company                     1663\n",
       "TOYOTA MOTOR CORP                         1543\n",
       "HONDA MOTOR CO LTD                        1016\n",
       "Ford Global Technologies, LLC              745"
      ]
     },
     "execution_count": 82,
     "metadata": {},
     "output_type": "execute_result"
    }
   ],
   "source": [
    "df_assigne.head()"
   ]
  },
  {
   "cell_type": "code",
   "execution_count": 83,
   "metadata": {},
   "outputs": [],
   "source": [
    "df_assigne['Commulative']=patent['current_applt'].value_counts(normalize=True)"
   ]
  },
  {
   "cell_type": "code",
   "execution_count": 84,
   "metadata": {},
   "outputs": [
    {
     "data": {
      "text/html": [
       "<div>\n",
       "<style scoped>\n",
       "    .dataframe tbody tr th:only-of-type {\n",
       "        vertical-align: middle;\n",
       "    }\n",
       "\n",
       "    .dataframe tbody tr th {\n",
       "        vertical-align: top;\n",
       "    }\n",
       "\n",
       "    .dataframe thead th {\n",
       "        text-align: right;\n",
       "    }\n",
       "</style>\n",
       "<table border=\"1\" class=\"dataframe\">\n",
       "  <thead>\n",
       "    <tr style=\"text-align: right;\">\n",
       "      <th></th>\n",
       "      <th>current_applt</th>\n",
       "      <th>Commulative</th>\n",
       "    </tr>\n",
       "  </thead>\n",
       "  <tbody>\n",
       "    <tr>\n",
       "      <th>Toyota Jidosha Kabushiki Kaisha</th>\n",
       "      <td>1802</td>\n",
       "      <td>0.052936</td>\n",
       "    </tr>\n",
       "    <tr>\n",
       "      <th>Hyundai Motor Company</th>\n",
       "      <td>1663</td>\n",
       "      <td>0.048853</td>\n",
       "    </tr>\n",
       "    <tr>\n",
       "      <th>TOYOTA MOTOR CORP</th>\n",
       "      <td>1543</td>\n",
       "      <td>0.045328</td>\n",
       "    </tr>\n",
       "    <tr>\n",
       "      <th>HONDA MOTOR CO LTD</th>\n",
       "      <td>1016</td>\n",
       "      <td>0.029846</td>\n",
       "    </tr>\n",
       "    <tr>\n",
       "      <th>Ford Global Technologies, LLC</th>\n",
       "      <td>745</td>\n",
       "      <td>0.021885</td>\n",
       "    </tr>\n",
       "  </tbody>\n",
       "</table>\n",
       "</div>"
      ],
      "text/plain": [
       "                                 current_applt  Commulative\n",
       "Toyota Jidosha Kabushiki Kaisha           1802     0.052936\n",
       "Hyundai Motor Company                     1663     0.048853\n",
       "TOYOTA MOTOR CORP                         1543     0.045328\n",
       "HONDA MOTOR CO LTD                        1016     0.029846\n",
       "Ford Global Technologies, LLC              745     0.021885"
      ]
     },
     "execution_count": 84,
     "metadata": {},
     "output_type": "execute_result"
    }
   ],
   "source": [
    "df_assigne.head()"
   ]
  },
  {
   "cell_type": "code",
   "execution_count": 85,
   "metadata": {},
   "outputs": [],
   "source": [
    "df_assigne=df_assigne.rename(index=str, columns={\" \": \"Assigne\", \"current_applt\": \"# of patents\"})"
   ]
  },
  {
   "cell_type": "code",
   "execution_count": 86,
   "metadata": {},
   "outputs": [
    {
     "data": {
      "text/html": [
       "<div>\n",
       "<style scoped>\n",
       "    .dataframe tbody tr th:only-of-type {\n",
       "        vertical-align: middle;\n",
       "    }\n",
       "\n",
       "    .dataframe tbody tr th {\n",
       "        vertical-align: top;\n",
       "    }\n",
       "\n",
       "    .dataframe thead th {\n",
       "        text-align: right;\n",
       "    }\n",
       "</style>\n",
       "<table border=\"1\" class=\"dataframe\">\n",
       "  <thead>\n",
       "    <tr style=\"text-align: right;\">\n",
       "      <th></th>\n",
       "      <th># of patents</th>\n",
       "      <th>Commulative</th>\n",
       "    </tr>\n",
       "  </thead>\n",
       "  <tbody>\n",
       "    <tr>\n",
       "      <th>Toyota Jidosha Kabushiki Kaisha</th>\n",
       "      <td>1802</td>\n",
       "      <td>0.052936</td>\n",
       "    </tr>\n",
       "    <tr>\n",
       "      <th>Hyundai Motor Company</th>\n",
       "      <td>1663</td>\n",
       "      <td>0.048853</td>\n",
       "    </tr>\n",
       "    <tr>\n",
       "      <th>TOYOTA MOTOR CORP</th>\n",
       "      <td>1543</td>\n",
       "      <td>0.045328</td>\n",
       "    </tr>\n",
       "    <tr>\n",
       "      <th>HONDA MOTOR CO LTD</th>\n",
       "      <td>1016</td>\n",
       "      <td>0.029846</td>\n",
       "    </tr>\n",
       "    <tr>\n",
       "      <th>Ford Global Technologies, LLC</th>\n",
       "      <td>745</td>\n",
       "      <td>0.021885</td>\n",
       "    </tr>\n",
       "    <tr>\n",
       "      <th>NISSAN MOTOR CO LTD</th>\n",
       "      <td>693</td>\n",
       "      <td>0.020358</td>\n",
       "    </tr>\n",
       "    <tr>\n",
       "      <th>Honda Motor Co., Ltd.</th>\n",
       "      <td>517</td>\n",
       "      <td>0.015188</td>\n",
       "    </tr>\n",
       "    <tr>\n",
       "      <th>Nissan Motor Co., Ltd.</th>\n",
       "      <td>480</td>\n",
       "      <td>0.014101</td>\n",
       "    </tr>\n",
       "    <tr>\n",
       "      <th>Honda Giken Kogyo Kabushiki Kaisha</th>\n",
       "      <td>340</td>\n",
       "      <td>0.009988</td>\n",
       "    </tr>\n",
       "    <tr>\n",
       "      <th>TOYOTA JIDOSHA KABUSHIKI KAISHA</th>\n",
       "      <td>307</td>\n",
       "      <td>0.009019</td>\n",
       "    </tr>\n",
       "    <tr>\n",
       "      <th>Toyota Motor Corporation</th>\n",
       "      <td>303</td>\n",
       "      <td>0.008901</td>\n",
       "    </tr>\n",
       "    <tr>\n",
       "      <th>Robert Bosch GmbH</th>\n",
       "      <td>259</td>\n",
       "      <td>0.007608</td>\n",
       "    </tr>\n",
       "    <tr>\n",
       "      <th>HONDA MOTOR CO., LTD.</th>\n",
       "      <td>255</td>\n",
       "      <td>0.007491</td>\n",
       "    </tr>\n",
       "    <tr>\n",
       "      <th>MITSUBISHI MOTORS CORP</th>\n",
       "      <td>229</td>\n",
       "      <td>0.006727</td>\n",
       "    </tr>\n",
       "    <tr>\n",
       "      <th>TOYOTA MOTOR CO., LTD.</th>\n",
       "      <td>207</td>\n",
       "      <td>0.006081</td>\n",
       "    </tr>\n",
       "  </tbody>\n",
       "</table>\n",
       "</div>"
      ],
      "text/plain": [
       "                                    # of patents  Commulative\n",
       "Toyota Jidosha Kabushiki Kaisha             1802     0.052936\n",
       "Hyundai Motor Company                       1663     0.048853\n",
       "TOYOTA MOTOR CORP                           1543     0.045328\n",
       "HONDA MOTOR CO LTD                          1016     0.029846\n",
       "Ford Global Technologies, LLC                745     0.021885\n",
       "NISSAN MOTOR CO LTD                          693     0.020358\n",
       "Honda Motor Co., Ltd.                        517     0.015188\n",
       "Nissan Motor Co., Ltd.                       480     0.014101\n",
       "Honda Giken Kogyo Kabushiki Kaisha           340     0.009988\n",
       "TOYOTA JIDOSHA KABUSHIKI KAISHA              307     0.009019\n",
       "Toyota Motor Corporation                     303     0.008901\n",
       "Robert Bosch GmbH                            259     0.007608\n",
       "HONDA MOTOR CO., LTD.                        255     0.007491\n",
       "MITSUBISHI MOTORS CORP                       229     0.006727\n",
       "TOYOTA MOTOR CO., LTD.                       207     0.006081"
      ]
     },
     "execution_count": 86,
     "metadata": {},
     "output_type": "execute_result"
    }
   ],
   "source": [
    "df_assigne.head(15)"
   ]
  },
  {
   "cell_type": "markdown",
   "metadata": {},
   "source": [
    "**Problem of duplicate assignee**"
   ]
  },
  {
   "cell_type": "markdown",
   "metadata": {},
   "source": [
    "# 4 Text Mining"
   ]
  },
  {
   "cell_type": "markdown",
   "metadata": {},
   "source": [
    "## 4.1 )-Checking data for text analysis"
   ]
  },
  {
   "cell_type": "code",
   "execution_count": 97,
   "metadata": {},
   "outputs": [],
   "source": [
    "patent_abst=patent['appln_abstr']"
   ]
  },
  {
   "cell_type": "code",
   "execution_count": 98,
   "metadata": {},
   "outputs": [
    {
     "name": "stdout",
     "output_type": "stream",
     "text": [
      "Patent data has chars 34223\n",
      "Patent data has unique chars 28990\n"
     ]
    }
   ],
   "source": [
    "chars = list(set(patent_abst)) \n",
    "data_size, vocab_size = len(patent_abst), len(chars)\n",
    "print (\"Patent data has chars\", data_size)\n",
    "print (\"Patent data has unique chars\", vocab_size)"
   ]
  },
  {
   "cell_type": "markdown",
   "metadata": {},
   "source": [
    "**still there are alot of unique letters. Seems like patents do use key words alot**"
   ]
  },
  {
   "cell_type": "code",
   "execution_count": 99,
   "metadata": {},
   "outputs": [],
   "source": [
    "import warnings\n",
    "warnings.filterwarnings(action='ignore', category=UserWarning, module='gensim')\n",
    "\n",
    "import nltk\n",
    "import gensim"
   ]
  },
  {
   "cell_type": "code",
   "execution_count": 104,
   "metadata": {},
   "outputs": [
    {
     "data": {
      "image/png": "[encoded data removed]",
      "text/plain": [
       "<matplotlib.figure.Figure at 0x2b6e0529dd8>"
      ]
     },
     "metadata": {
      "needs_background": "light"
     },
     "output_type": "display_data"
    }
   ],
   "source": [
    "from wordcloud import WordCloud, STOPWORDS\n",
    "stopwords=set(STOPWORDS)\n",
    "\n",
    "def Mywordcloud (data, title=None):\n",
    "    wordcloud=WordCloud(\n",
    "    background_color='white',\n",
    "    stopwords=stopwords,\n",
    "    max_words= 100 ,\n",
    "    max_font_size=40 ,\n",
    "    scale=3,\n",
    "    random_state=1\n",
    "    ).generate(str(data))\n",
    "    \n",
    "    fig=plt.figure(1 , figsize(20, 20))\n",
    "    plt.axis('off')\n",
    "    if title:\n",
    "        fig.suptitle(title, fontsize=20)\n",
    "        fig.subplots_adjust(top=2.3)\n",
    "    \n",
    "    plt.imshow(wordcloud)\n",
    "    plt.show()\n",
    "Mywordcloud(patent['appln_abstr'].dropna())"
   ]
  },
  {
   "cell_type": "code",
   "execution_count": null,
   "metadata": {},
   "outputs": [],
   "source": []
  }
 ],
 "metadata": {
  "kernelspec": {
   "display_name": "Python 3",
   "language": "python",
   "name": "python3"
  },
  "language_info": {
   "codemirror_mode": {
    "name": "ipython",
    "version": 3
   },
   "file_extension": ".py",
   "mimetype": "text/x-python",
   "name": "python",
   "nbconvert_exporter": "python",
   "pygments_lexer": "ipython3",
   "version": "3.6.3"
  }
 },
 "nbformat": 4,
 "nbformat_minor": 2
}
