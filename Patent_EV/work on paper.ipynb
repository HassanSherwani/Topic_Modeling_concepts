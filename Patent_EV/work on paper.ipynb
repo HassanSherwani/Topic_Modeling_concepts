{
 "cells": [
  {
   "cell_type": "code",
   "execution_count": null,
   "metadata": {},
   "outputs": [],
   "source": []
  },
  {
   "cell_type": "code",
   "execution_count": null,
   "metadata": {},
   "outputs": [],
   "source": []
  },
  {
   "cell_type": "code",
   "execution_count": 1,
   "metadata": {},
   "outputs": [],
   "source": [
    "import warnings\n",
    "warnings.filterwarnings('ignore')"
   ]
  },
  {
   "cell_type": "code",
   "execution_count": 14,
   "metadata": {},
   "outputs": [],
   "source": [
    "import nltk\n",
    "import sys\n",
    "import re, numpy as np, pandas as pd"
   ]
  },
  {
   "cell_type": "code",
   "execution_count": 3,
   "metadata": {},
   "outputs": [
    {
     "name": "stdout",
     "output_type": "stream",
     "text": [
      "Populating the interactive namespace from numpy and matplotlib\n"
     ]
    }
   ],
   "source": [
    "# Visualization \n",
    "import matplotlib.pyplot as plt\n",
    "import seaborn as sns\n",
    "from pprint import pprint\n",
    "%matplotlib inline\n",
    "%pylab inline"
   ]
  },
  {
   "cell_type": "code",
   "execution_count": 4,
   "metadata": {},
   "outputs": [],
   "source": [
    "# Gensim\n",
    "import gensim, spacy, logging, warnings\n",
    "import gensim.corpora as corpora\n",
    "from gensim.utils import lemmatize, simple_preprocess\n",
    "from gensim.models import CoherenceModel"
   ]
  },
  {
   "cell_type": "code",
   "execution_count": 5,
   "metadata": {},
   "outputs": [],
   "source": [
    "# NLTK Stop words\n",
    "from nltk.corpus import stopwords\n",
    "stop_words = stopwords.words('english')\n",
    "stop_words.extend(['from', 'subject', 're', 'edu', 'use', 'not', 'would', 'say', 'could', '_', 'be', 'know', 'good', 'go', 'get', 'do', 'done', 'try', 'many', 'some', 'nice', 'thank', 'think', 'see', 'rather', 'easy', 'easily', 'lot', 'lack', 'make', 'want', 'seem', 'run', 'need', 'even', 'right', 'line', 'even', 'also', 'may', 'take', 'come'])"
   ]
  },
  {
   "cell_type": "markdown",
   "metadata": {},
   "source": [
    "# Loading file"
   ]
  },
  {
   "cell_type": "code",
   "execution_count": 6,
   "metadata": {},
   "outputs": [],
   "source": [
    "import pickle"
   ]
  },
  {
   "cell_type": "code",
   "execution_count": 15,
   "metadata": {},
   "outputs": [],
   "source": [
    "data = pd.read_pickle('top10_topic_dominant.pkl')"
   ]
  },
  {
   "cell_type": "code",
   "execution_count": 16,
   "metadata": {},
   "outputs": [
    {
     "data": {
      "text/html": [
       "<div>\n",
       "<style scoped>\n",
       "    .dataframe tbody tr th:only-of-type {\n",
       "        vertical-align: middle;\n",
       "    }\n",
       "\n",
       "    .dataframe tbody tr th {\n",
       "        vertical-align: top;\n",
       "    }\n",
       "\n",
       "    .dataframe thead th {\n",
       "        text-align: right;\n",
       "    }\n",
       "</style>\n",
       "<table border=\"1\" class=\"dataframe\">\n",
       "  <thead>\n",
       "    <tr style=\"text-align: right;\">\n",
       "      <th></th>\n",
       "      <th>Document_No</th>\n",
       "      <th>Dominant_Topic</th>\n",
       "      <th>Topic_Perc_Contrib</th>\n",
       "      <th>Keywords</th>\n",
       "      <th>Text</th>\n",
       "    </tr>\n",
       "  </thead>\n",
       "  <tbody>\n",
       "    <tr>\n",
       "      <th>0</th>\n",
       "      <td>0</td>\n",
       "      <td>5.0</td>\n",
       "      <td>0.6574</td>\n",
       "      <td>include, system, high, module, energy, low, pr...</td>\n",
       "      <td>[electrical, energy, system, include, electric...</td>\n",
       "    </tr>\n",
       "    <tr>\n",
       "      <th>1</th>\n",
       "      <td>1</td>\n",
       "      <td>5.0</td>\n",
       "      <td>0.7450</td>\n",
       "      <td>include, system, high, module, energy, low, pr...</td>\n",
       "      <td>[electrical, energy, system, include, electric...</td>\n",
       "    </tr>\n",
       "    <tr>\n",
       "      <th>2</th>\n",
       "      <td>2</td>\n",
       "      <td>2.0</td>\n",
       "      <td>0.6005</td>\n",
       "      <td>connect, unit, utility, controller, device, pr...</td>\n",
       "      <td>[regulate, circuit, microprocessor, regulator,...</td>\n",
       "    </tr>\n",
       "    <tr>\n",
       "      <th>3</th>\n",
       "      <td>3</td>\n",
       "      <td>3.0</td>\n",
       "      <td>0.3726</td>\n",
       "      <td>gear, part, transmission, clutch, axle, connec...</td>\n",
       "      <td>[drive, unit, electric, vehicle, comprise, ele...</td>\n",
       "    </tr>\n",
       "    <tr>\n",
       "      <th>4</th>\n",
       "      <td>4</td>\n",
       "      <td>2.0</td>\n",
       "      <td>0.4033</td>\n",
       "      <td>connect, unit, utility, controller, device, pr...</td>\n",
       "      <td>[drive, unit, electric, motor, car, comprise, ...</td>\n",
       "    </tr>\n",
       "    <tr>\n",
       "      <th>5</th>\n",
       "      <td>5</td>\n",
       "      <td>2.0</td>\n",
       "      <td>0.5762</td>\n",
       "      <td>connect, unit, utility, controller, device, pr...</td>\n",
       "      <td>[control, circuit, controller, provide, microp...</td>\n",
       "    </tr>\n",
       "    <tr>\n",
       "      <th>6</th>\n",
       "      <td>6</td>\n",
       "      <td>1.0</td>\n",
       "      <td>0.6564</td>\n",
       "      <td>battery, charge, voltage, system, converter, s...</td>\n",
       "      <td>[system, board, charge, battery, electrical, v...</td>\n",
       "    </tr>\n",
       "    <tr>\n",
       "      <th>7</th>\n",
       "      <td>7</td>\n",
       "      <td>6.0</td>\n",
       "      <td>0.5615</td>\n",
       "      <td>motor, drive, first, engine, second, speed, to...</td>\n",
       "      <td>[invention, drive, electric, vehicle, drive, s...</td>\n",
       "    </tr>\n",
       "    <tr>\n",
       "      <th>8</th>\n",
       "      <td>8</td>\n",
       "      <td>9.0</td>\n",
       "      <td>0.5676</td>\n",
       "      <td>fuel, cell, stack, water, fill, hydrogen, supp...</td>\n",
       "      <td>[method, thermal, management, fuel, cell, meth...</td>\n",
       "    </tr>\n",
       "    <tr>\n",
       "      <th>9</th>\n",
       "      <td>9</td>\n",
       "      <td>9.0</td>\n",
       "      <td>0.5676</td>\n",
       "      <td>fuel, cell, stack, water, fill, hydrogen, supp...</td>\n",
       "      <td>[method, thermal, management, fuel, cell, meth...</td>\n",
       "    </tr>\n",
       "  </tbody>\n",
       "</table>\n",
       "</div>"
      ],
      "text/plain": [
       "   Document_No  Dominant_Topic  Topic_Perc_Contrib  \\\n",
       "0            0             5.0              0.6574   \n",
       "1            1             5.0              0.7450   \n",
       "2            2             2.0              0.6005   \n",
       "3            3             3.0              0.3726   \n",
       "4            4             2.0              0.4033   \n",
       "5            5             2.0              0.5762   \n",
       "6            6             1.0              0.6564   \n",
       "7            7             6.0              0.5615   \n",
       "8            8             9.0              0.5676   \n",
       "9            9             9.0              0.5676   \n",
       "\n",
       "                                            Keywords  \\\n",
       "0  include, system, high, module, energy, low, pr...   \n",
       "1  include, system, high, module, energy, low, pr...   \n",
       "2  connect, unit, utility, controller, device, pr...   \n",
       "3  gear, part, transmission, clutch, axle, connec...   \n",
       "4  connect, unit, utility, controller, device, pr...   \n",
       "5  connect, unit, utility, controller, device, pr...   \n",
       "6  battery, charge, voltage, system, converter, s...   \n",
       "7  motor, drive, first, engine, second, speed, to...   \n",
       "8  fuel, cell, stack, water, fill, hydrogen, supp...   \n",
       "9  fuel, cell, stack, water, fill, hydrogen, supp...   \n",
       "\n",
       "                                                Text  \n",
       "0  [electrical, energy, system, include, electric...  \n",
       "1  [electrical, energy, system, include, electric...  \n",
       "2  [regulate, circuit, microprocessor, regulator,...  \n",
       "3  [drive, unit, electric, vehicle, comprise, ele...  \n",
       "4  [drive, unit, electric, motor, car, comprise, ...  \n",
       "5  [control, circuit, controller, provide, microp...  \n",
       "6  [system, board, charge, battery, electrical, v...  \n",
       "7  [invention, drive, electric, vehicle, drive, s...  \n",
       "8  [method, thermal, management, fuel, cell, meth...  \n",
       "9  [method, thermal, management, fuel, cell, meth...  "
      ]
     },
     "execution_count": 16,
     "metadata": {},
     "output_type": "execute_result"
    }
   ],
   "source": [
    "data.head(10)"
   ]
  },
  {
   "cell_type": "code",
   "execution_count": 19,
   "metadata": {},
   "outputs": [
    {
     "data": {
      "text/plain": [
       "0.0      56\n",
       "3.0     617\n",
       "4.0     802\n",
       "9.0    1673\n",
       "7.0    1860\n",
       "1.0    2828\n",
       "8.0    3276\n",
       "5.0    5038\n",
       "2.0    8368\n",
       "6.0    9705\n",
       "Name: Dominant_Topic, dtype: int64"
      ]
     },
     "execution_count": 19,
     "metadata": {},
     "output_type": "execute_result"
    }
   ],
   "source": [
    "data.Dominant_Topic.value_counts(ascending=True)"
   ]
  },
  {
   "cell_type": "markdown",
   "metadata": {},
   "source": [
    "above table shows Number of patents applications within specific topic"
   ]
  },
  {
   "cell_type": "markdown",
   "metadata": {},
   "source": [
    "# Calculating patent share"
   ]
  },
  {
   "cell_type": "code",
   "execution_count": 20,
   "metadata": {},
   "outputs": [
    {
     "data": {
      "text/plain": [
       "34223"
      ]
     },
     "execution_count": 20,
     "metadata": {},
     "output_type": "execute_result"
    }
   ],
   "source": [
    "len(data)"
   ]
  },
  {
   "cell_type": "code",
   "execution_count": 21,
   "metadata": {},
   "outputs": [
    {
     "data": {
      "text/plain": [
       "6.0    0.283581\n",
       "2.0    0.244514\n",
       "5.0    0.147211\n",
       "8.0    0.095725\n",
       "1.0    0.082634\n",
       "7.0    0.054349\n",
       "9.0    0.048885\n",
       "4.0    0.023435\n",
       "3.0    0.018029\n",
       "0.0    0.001636\n",
       "Name: Dominant_Topic, dtype: float64"
      ]
     },
     "execution_count": 21,
     "metadata": {},
     "output_type": "execute_result"
    }
   ],
   "source": [
    "data.Dominant_Topic.value_counts(normalize=True)"
   ]
  },
  {
   "cell_type": "code",
   "execution_count": 22,
   "metadata": {},
   "outputs": [
    {
     "data": {
      "text/plain": [
       "4.7432428483768225"
      ]
     },
     "execution_count": 22,
     "metadata": {},
     "output_type": "execute_result"
    }
   ],
   "source": [
    "data.Dominant_Topic.mean()"
   ]
  },
  {
   "cell_type": "markdown",
   "metadata": {},
   "source": [
    " # 2)-Trends in the number and the share of patents by topics\n",
    " \n",
    " (a) Change in the number of patents over filing year <br>\n",
    " (b) Change in the share of patents over filing year"
   ]
  },
  {
   "cell_type": "markdown",
   "metadata": {},
   "source": [
    "### 2(a) Change in the number of patents over filing year"
   ]
  },
  {
   "cell_type": "code",
   "execution_count": 23,
   "metadata": {},
   "outputs": [
    {
     "data": {
      "text/html": [
       "<div>\n",
       "<style scoped>\n",
       "    .dataframe tbody tr th:only-of-type {\n",
       "        vertical-align: middle;\n",
       "    }\n",
       "\n",
       "    .dataframe tbody tr th {\n",
       "        vertical-align: top;\n",
       "    }\n",
       "\n",
       "    .dataframe thead th {\n",
       "        text-align: right;\n",
       "    }\n",
       "</style>\n",
       "<table border=\"1\" class=\"dataframe\">\n",
       "  <thead>\n",
       "    <tr style=\"text-align: right;\">\n",
       "      <th></th>\n",
       "      <th>appln</th>\n",
       "      <th>appln_id</th>\n",
       "      <th>family_id</th>\n",
       "      <th>sets</th>\n",
       "      <th>direct</th>\n",
       "      <th>granted</th>\n",
       "      <th>earliest_appln</th>\n",
       "      <th>earliest_filing_date</th>\n",
       "      <th>publn_date</th>\n",
       "      <th>publn</th>\n",
       "      <th>...</th>\n",
       "      <th>citing_publn_date</th>\n",
       "      <th>citing_publn</th>\n",
       "      <th>citing_appln</th>\n",
       "      <th>citing_appln_id</th>\n",
       "      <th>citing_family_id</th>\n",
       "      <th>num_citing_family</th>\n",
       "      <th>earliest_applt</th>\n",
       "      <th>current_applt</th>\n",
       "      <th>appln_title</th>\n",
       "      <th>appln_abstr</th>\n",
       "    </tr>\n",
       "  </thead>\n",
       "  <tbody>\n",
       "    <tr>\n",
       "      <th>0</th>\n",
       "      <td>WO9105114W</td>\n",
       "      <td>47158713</td>\n",
       "      <td>1239277</td>\n",
       "      <td>2</td>\n",
       "      <td>1</td>\n",
       "      <td>1</td>\n",
       "      <td>US55592190A</td>\n",
       "      <td>1990-07-19</td>\n",
       "      <td>1993-02-18</td>\n",
       "      <td>WO9303532A1</td>\n",
       "      <td>...</td>\n",
       "      <td>2002-07-11</td>\n",
       "      <td>WO0199222A3</td>\n",
       "      <td>WO0119827W</td>\n",
       "      <td>45621927</td>\n",
       "      <td>24395918</td>\n",
       "      <td>30</td>\n",
       "      <td>LUZ ELECTRIC FUEL ISRAEL LTD.</td>\n",
       "      <td>LUZ ELECTRIC FUEL ISRAEL LTD.</td>\n",
       "      <td>ELECTRICAL ENERGY SYSTEM</td>\n",
       "      <td>An electrical energy system including an elect...</td>\n",
       "    </tr>\n",
       "    <tr>\n",
       "      <th>1</th>\n",
       "      <td>US55592190A</td>\n",
       "      <td>51797454</td>\n",
       "      <td>1239277</td>\n",
       "      <td>2</td>\n",
       "      <td>1</td>\n",
       "      <td>1</td>\n",
       "      <td>US55592190A</td>\n",
       "      <td>1990-07-19</td>\n",
       "      <td>1992-06-09</td>\n",
       "      <td>US5121044A</td>\n",
       "      <td>...</td>\n",
       "      <td>1993-05-04\\n1994-03-09\\n1994-09-20\\n1995-07-18...</td>\n",
       "      <td>US5208526A\\nEP0557287A4\\nUS5349535A\\nUS5434020...</td>\n",
       "      <td>US63645090A\\nEP91915464A\\nUS96399792A\\nUS15296...</td>\n",
       "      <td>52393850\\n16916549\\n54353461\\n48212422\\n457802...</td>\n",
       "      <td>27071024\\n1239277\\n25508001\\n22545199\\n2636904...</td>\n",
       "      <td>30</td>\n",
       "      <td>Luz Electric Fuel Israel, Ltd.</td>\n",
       "      <td>Luz Electric Fuel Israel, Ltd.</td>\n",
       "      <td>Electrical energy system</td>\n",
       "      <td>An electrical energy system including an elect...</td>\n",
       "    </tr>\n",
       "    <tr>\n",
       "      <th>2</th>\n",
       "      <td>DE19512512A</td>\n",
       "      <td>13386323</td>\n",
       "      <td>3505305</td>\n",
       "      <td>2</td>\n",
       "      <td>1</td>\n",
       "      <td>0</td>\n",
       "      <td>AT104194A</td>\n",
       "      <td>1994-05-20</td>\n",
       "      <td>1995-11-23</td>\n",
       "      <td>DE19512512A1</td>\n",
       "      <td>...</td>\n",
       "      <td>1999-04-14\\n2003-02-27\\n2007-05-22\\n2011-05-05...</td>\n",
       "      <td>EP0834977A3\\nDE10137908A1\\nUS7221062B2\\nWO2010...</td>\n",
       "      <td>EP97810450A\\nDE10137908A\\nUS48552204A\\nWO20100...</td>\n",
       "      <td>17254227\\n12994897\\n51255594\\n315713854\\n33380...</td>\n",
       "      <td>4222203\\n7694132\\n7694132\\n43298243\\n44288075\\...</td>\n",
       "      <td>4</td>\n",
       "      <td>STEYR-DAIMLER-PUCH AG, WIEN, AT</td>\n",
       "      <td>STEYR-DAIMLER-PUCH AG, WIEN, AT</td>\n",
       "      <td>Regulating circuit for battery-operated electr...</td>\n",
       "      <td>The regulating circuit has a microprocessor re...</td>\n",
       "    </tr>\n",
       "    <tr>\n",
       "      <th>3</th>\n",
       "      <td>DE4417432A</td>\n",
       "      <td>11295467</td>\n",
       "      <td>3505504</td>\n",
       "      <td>2</td>\n",
       "      <td>1</td>\n",
       "      <td>0</td>\n",
       "      <td>AT105093A</td>\n",
       "      <td>1993-05-28</td>\n",
       "      <td>1994-12-01</td>\n",
       "      <td>DE4417432A1</td>\n",
       "      <td>...</td>\n",
       "      <td>1996-06-07\\n1996-06-13\\n1997-10-21\\n1998-11-26...</td>\n",
       "      <td>FR2727654A1\\nDE4442867A1\\nUS5678646A\\nDE197215...</td>\n",
       "      <td>FR9514218A\\nDE4442867A\\nUS56615095A\\nDE1972152...</td>\n",
       "      <td>20508327\\n11314571\\n51875327\\n13472609\\n172965...</td>\n",
       "      <td>6534688\\n6534688\\n6534688\\n7830237\\n7831607\\n7...</td>\n",
       "      <td>39</td>\n",
       "      <td>STEYR-DAIMLER-PUCH AG, WIEN, AT</td>\n",
       "      <td>STEYR-DAIMLER-PUCH AG, WIEN, AT</td>\n",
       "      <td>Liquid-cooled drive unit for an electric vehicle</td>\n",
       "      <td>A drive unit for an electric vehicle comprises...</td>\n",
       "    </tr>\n",
       "    <tr>\n",
       "      <th>4</th>\n",
       "      <td>US25087194A</td>\n",
       "      <td>49013353</td>\n",
       "      <td>3505504</td>\n",
       "      <td>2</td>\n",
       "      <td>0</td>\n",
       "      <td>1</td>\n",
       "      <td>AT105093A</td>\n",
       "      <td>1993-05-28</td>\n",
       "      <td>1996-12-17</td>\n",
       "      <td>US5585681A</td>\n",
       "      <td>...</td>\n",
       "      <td>1998-08-27\\n2001-03-06\\n2002-10-02\\n2003-03-05...</td>\n",
       "      <td>WO9828833A3\\nUS6198183B1\\nEP0951131A3\\nEP12880...</td>\n",
       "      <td>WO9702146W\\nUS29465599A\\nEP99106967A\\nEP020179...</td>\n",
       "      <td>43603749\\n49378246\\n17378403\\n15912913\\n487780...</td>\n",
       "      <td>20405163\\n7865025\\n7865025\\n19091319\\n19091319...</td>\n",
       "      <td>39</td>\n",
       "      <td>Steyr-Daimler Puch AG</td>\n",
       "      <td>Steyr-Daimler Puch AG</td>\n",
       "      <td>Liquid-cooled drive unit for an electric motor...</td>\n",
       "      <td>A drive unit for an electric motor car compris...</td>\n",
       "    </tr>\n",
       "  </tbody>\n",
       "</table>\n",
       "<p>5 rows × 34 columns</p>\n",
       "</div>"
      ],
      "text/plain": [
       "         appln  appln_id  family_id  sets  direct  granted earliest_appln  \\\n",
       "0   WO9105114W  47158713    1239277     2       1        1    US55592190A   \n",
       "1  US55592190A  51797454    1239277     2       1        1    US55592190A   \n",
       "2  DE19512512A  13386323    3505305     2       1        0      AT104194A   \n",
       "3   DE4417432A  11295467    3505504     2       1        0      AT105093A   \n",
       "4  US25087194A  49013353    3505504     2       0        1      AT105093A   \n",
       "\n",
       "  earliest_filing_date  publn_date         publn  \\\n",
       "0           1990-07-19  1993-02-18   WO9303532A1   \n",
       "1           1990-07-19  1992-06-09    US5121044A   \n",
       "2           1994-05-20  1995-11-23  DE19512512A1   \n",
       "3           1993-05-28  1994-12-01   DE4417432A1   \n",
       "4           1993-05-28  1996-12-17    US5585681A   \n",
       "\n",
       "                         ...                          \\\n",
       "0                        ...                           \n",
       "1                        ...                           \n",
       "2                        ...                           \n",
       "3                        ...                           \n",
       "4                        ...                           \n",
       "\n",
       "                                   citing_publn_date  \\\n",
       "0                                         2002-07-11   \n",
       "1  1993-05-04\\n1994-03-09\\n1994-09-20\\n1995-07-18...   \n",
       "2  1999-04-14\\n2003-02-27\\n2007-05-22\\n2011-05-05...   \n",
       "3  1996-06-07\\n1996-06-13\\n1997-10-21\\n1998-11-26...   \n",
       "4  1998-08-27\\n2001-03-06\\n2002-10-02\\n2003-03-05...   \n",
       "\n",
       "                                        citing_publn  \\\n",
       "0                                        WO0199222A3   \n",
       "1  US5208526A\\nEP0557287A4\\nUS5349535A\\nUS5434020...   \n",
       "2  EP0834977A3\\nDE10137908A1\\nUS7221062B2\\nWO2010...   \n",
       "3  FR2727654A1\\nDE4442867A1\\nUS5678646A\\nDE197215...   \n",
       "4  WO9828833A3\\nUS6198183B1\\nEP0951131A3\\nEP12880...   \n",
       "\n",
       "                                        citing_appln  \\\n",
       "0                                         WO0119827W   \n",
       "1  US63645090A\\nEP91915464A\\nUS96399792A\\nUS15296...   \n",
       "2  EP97810450A\\nDE10137908A\\nUS48552204A\\nWO20100...   \n",
       "3  FR9514218A\\nDE4442867A\\nUS56615095A\\nDE1972152...   \n",
       "4  WO9702146W\\nUS29465599A\\nEP99106967A\\nEP020179...   \n",
       "\n",
       "                                     citing_appln_id  \\\n",
       "0                                           45621927   \n",
       "1  52393850\\n16916549\\n54353461\\n48212422\\n457802...   \n",
       "2  17254227\\n12994897\\n51255594\\n315713854\\n33380...   \n",
       "3  20508327\\n11314571\\n51875327\\n13472609\\n172965...   \n",
       "4  43603749\\n49378246\\n17378403\\n15912913\\n487780...   \n",
       "\n",
       "                                    citing_family_id num_citing_family  \\\n",
       "0                                           24395918                30   \n",
       "1  27071024\\n1239277\\n25508001\\n22545199\\n2636904...                30   \n",
       "2  4222203\\n7694132\\n7694132\\n43298243\\n44288075\\...                 4   \n",
       "3  6534688\\n6534688\\n6534688\\n7830237\\n7831607\\n7...                39   \n",
       "4  20405163\\n7865025\\n7865025\\n19091319\\n19091319...                39   \n",
       "\n",
       "                    earliest_applt                    current_applt  \\\n",
       "0    LUZ ELECTRIC FUEL ISRAEL LTD.    LUZ ELECTRIC FUEL ISRAEL LTD.   \n",
       "1   Luz Electric Fuel Israel, Ltd.   Luz Electric Fuel Israel, Ltd.   \n",
       "2  STEYR-DAIMLER-PUCH AG, WIEN, AT  STEYR-DAIMLER-PUCH AG, WIEN, AT   \n",
       "3  STEYR-DAIMLER-PUCH AG, WIEN, AT  STEYR-DAIMLER-PUCH AG, WIEN, AT   \n",
       "4            Steyr-Daimler Puch AG            Steyr-Daimler Puch AG   \n",
       "\n",
       "                                         appln_title  \\\n",
       "0                           ELECTRICAL ENERGY SYSTEM   \n",
       "1                           Electrical energy system   \n",
       "2  Regulating circuit for battery-operated electr...   \n",
       "3   Liquid-cooled drive unit for an electric vehicle   \n",
       "4  Liquid-cooled drive unit for an electric motor...   \n",
       "\n",
       "                                         appln_abstr  \n",
       "0  An electrical energy system including an elect...  \n",
       "1  An electrical energy system including an elect...  \n",
       "2  The regulating circuit has a microprocessor re...  \n",
       "3  A drive unit for an electric vehicle comprises...  \n",
       "4  A drive unit for an electric motor car compris...  \n",
       "\n",
       "[5 rows x 34 columns]"
      ]
     },
     "execution_count": 23,
     "metadata": {},
     "output_type": "execute_result"
    }
   ],
   "source": [
    "data_patent = pd.read_pickle('patent_orginal.pkl')\n",
    "data_patent.head()"
   ]
  },
  {
   "cell_type": "code",
   "execution_count": 24,
   "metadata": {},
   "outputs": [],
   "source": [
    "filling_date= data_patent.earliest_filing_date"
   ]
  },
  {
   "cell_type": "code",
   "execution_count": 25,
   "metadata": {},
   "outputs": [],
   "source": [
    "data['application_date']= pd.to_datetime(filling_date)"
   ]
  },
  {
   "cell_type": "code",
   "execution_count": 26,
   "metadata": {},
   "outputs": [
    {
     "data": {
      "text/html": [
       "<div>\n",
       "<style scoped>\n",
       "    .dataframe tbody tr th:only-of-type {\n",
       "        vertical-align: middle;\n",
       "    }\n",
       "\n",
       "    .dataframe tbody tr th {\n",
       "        vertical-align: top;\n",
       "    }\n",
       "\n",
       "    .dataframe thead th {\n",
       "        text-align: right;\n",
       "    }\n",
       "</style>\n",
       "<table border=\"1\" class=\"dataframe\">\n",
       "  <thead>\n",
       "    <tr style=\"text-align: right;\">\n",
       "      <th></th>\n",
       "      <th>Document_No</th>\n",
       "      <th>Dominant_Topic</th>\n",
       "      <th>Topic_Perc_Contrib</th>\n",
       "      <th>Keywords</th>\n",
       "      <th>Text</th>\n",
       "      <th>application_date</th>\n",
       "    </tr>\n",
       "  </thead>\n",
       "  <tbody>\n",
       "    <tr>\n",
       "      <th>0</th>\n",
       "      <td>0</td>\n",
       "      <td>5.0</td>\n",
       "      <td>0.6574</td>\n",
       "      <td>include, system, high, module, energy, low, pr...</td>\n",
       "      <td>[electrical, energy, system, include, electric...</td>\n",
       "      <td>1990-07-19</td>\n",
       "    </tr>\n",
       "    <tr>\n",
       "      <th>1</th>\n",
       "      <td>1</td>\n",
       "      <td>5.0</td>\n",
       "      <td>0.7450</td>\n",
       "      <td>include, system, high, module, energy, low, pr...</td>\n",
       "      <td>[electrical, energy, system, include, electric...</td>\n",
       "      <td>1990-07-19</td>\n",
       "    </tr>\n",
       "    <tr>\n",
       "      <th>2</th>\n",
       "      <td>2</td>\n",
       "      <td>2.0</td>\n",
       "      <td>0.6005</td>\n",
       "      <td>connect, unit, utility, controller, device, pr...</td>\n",
       "      <td>[regulate, circuit, microprocessor, regulator,...</td>\n",
       "      <td>1994-05-20</td>\n",
       "    </tr>\n",
       "    <tr>\n",
       "      <th>3</th>\n",
       "      <td>3</td>\n",
       "      <td>3.0</td>\n",
       "      <td>0.3726</td>\n",
       "      <td>gear, part, transmission, clutch, axle, connec...</td>\n",
       "      <td>[drive, unit, electric, vehicle, comprise, ele...</td>\n",
       "      <td>1993-05-28</td>\n",
       "    </tr>\n",
       "    <tr>\n",
       "      <th>4</th>\n",
       "      <td>4</td>\n",
       "      <td>2.0</td>\n",
       "      <td>0.4033</td>\n",
       "      <td>connect, unit, utility, controller, device, pr...</td>\n",
       "      <td>[drive, unit, electric, motor, car, comprise, ...</td>\n",
       "      <td>1993-05-28</td>\n",
       "    </tr>\n",
       "  </tbody>\n",
       "</table>\n",
       "</div>"
      ],
      "text/plain": [
       "   Document_No  Dominant_Topic  Topic_Perc_Contrib  \\\n",
       "0            0             5.0              0.6574   \n",
       "1            1             5.0              0.7450   \n",
       "2            2             2.0              0.6005   \n",
       "3            3             3.0              0.3726   \n",
       "4            4             2.0              0.4033   \n",
       "\n",
       "                                            Keywords  \\\n",
       "0  include, system, high, module, energy, low, pr...   \n",
       "1  include, system, high, module, energy, low, pr...   \n",
       "2  connect, unit, utility, controller, device, pr...   \n",
       "3  gear, part, transmission, clutch, axle, connec...   \n",
       "4  connect, unit, utility, controller, device, pr...   \n",
       "\n",
       "                                                Text application_date  \n",
       "0  [electrical, energy, system, include, electric...       1990-07-19  \n",
       "1  [electrical, energy, system, include, electric...       1990-07-19  \n",
       "2  [regulate, circuit, microprocessor, regulator,...       1994-05-20  \n",
       "3  [drive, unit, electric, vehicle, comprise, ele...       1993-05-28  \n",
       "4  [drive, unit, electric, motor, car, comprise, ...       1993-05-28  "
      ]
     },
     "execution_count": 26,
     "metadata": {},
     "output_type": "execute_result"
    }
   ],
   "source": [
    "data.head()"
   ]
  },
  {
   "cell_type": "code",
   "execution_count": 27,
   "metadata": {},
   "outputs": [
    {
     "data": {
      "text/html": [
       "<div>\n",
       "<style scoped>\n",
       "    .dataframe tbody tr th:only-of-type {\n",
       "        vertical-align: middle;\n",
       "    }\n",
       "\n",
       "    .dataframe tbody tr th {\n",
       "        vertical-align: top;\n",
       "    }\n",
       "\n",
       "    .dataframe thead th {\n",
       "        text-align: right;\n",
       "    }\n",
       "</style>\n",
       "<table border=\"1\" class=\"dataframe\">\n",
       "  <thead>\n",
       "    <tr style=\"text-align: right;\">\n",
       "      <th></th>\n",
       "      <th></th>\n",
       "      <th>Document_No</th>\n",
       "      <th>Topic_Perc_Contrib</th>\n",
       "      <th>Keywords</th>\n",
       "      <th>Text</th>\n",
       "    </tr>\n",
       "    <tr>\n",
       "      <th>application_date</th>\n",
       "      <th>Dominant_Topic</th>\n",
       "      <th></th>\n",
       "      <th></th>\n",
       "      <th></th>\n",
       "      <th></th>\n",
       "    </tr>\n",
       "  </thead>\n",
       "  <tbody>\n",
       "    <tr>\n",
       "      <th>1990-01-31</th>\n",
       "      <th>5.0</th>\n",
       "      <td>1</td>\n",
       "      <td>1</td>\n",
       "      <td>1</td>\n",
       "      <td>1</td>\n",
       "    </tr>\n",
       "    <tr>\n",
       "      <th>1990-02-08</th>\n",
       "      <th>5.0</th>\n",
       "      <td>2</td>\n",
       "      <td>2</td>\n",
       "      <td>2</td>\n",
       "      <td>2</td>\n",
       "    </tr>\n",
       "    <tr>\n",
       "      <th rowspan=\"2\" valign=\"top\">1990-02-28</th>\n",
       "      <th>2.0</th>\n",
       "      <td>1</td>\n",
       "      <td>1</td>\n",
       "      <td>1</td>\n",
       "      <td>1</td>\n",
       "    </tr>\n",
       "    <tr>\n",
       "      <th>6.0</th>\n",
       "      <td>2</td>\n",
       "      <td>2</td>\n",
       "      <td>2</td>\n",
       "      <td>2</td>\n",
       "    </tr>\n",
       "    <tr>\n",
       "      <th rowspan=\"2\" valign=\"top\">1990-03-08</th>\n",
       "      <th>3.0</th>\n",
       "      <td>1</td>\n",
       "      <td>1</td>\n",
       "      <td>1</td>\n",
       "      <td>1</td>\n",
       "    </tr>\n",
       "    <tr>\n",
       "      <th>5.0</th>\n",
       "      <td>2</td>\n",
       "      <td>2</td>\n",
       "      <td>2</td>\n",
       "      <td>2</td>\n",
       "    </tr>\n",
       "    <tr>\n",
       "      <th>1990-03-30</th>\n",
       "      <th>2.0</th>\n",
       "      <td>1</td>\n",
       "      <td>1</td>\n",
       "      <td>1</td>\n",
       "      <td>1</td>\n",
       "    </tr>\n",
       "    <tr>\n",
       "      <th>1990-04-04</th>\n",
       "      <th>2.0</th>\n",
       "      <td>2</td>\n",
       "      <td>2</td>\n",
       "      <td>2</td>\n",
       "      <td>2</td>\n",
       "    </tr>\n",
       "    <tr>\n",
       "      <th>1990-04-06</th>\n",
       "      <th>6.0</th>\n",
       "      <td>3</td>\n",
       "      <td>3</td>\n",
       "      <td>3</td>\n",
       "      <td>3</td>\n",
       "    </tr>\n",
       "    <tr>\n",
       "      <th>1990-04-11</th>\n",
       "      <th>5.0</th>\n",
       "      <td>1</td>\n",
       "      <td>1</td>\n",
       "      <td>1</td>\n",
       "      <td>1</td>\n",
       "    </tr>\n",
       "    <tr>\n",
       "      <th rowspan=\"2\" valign=\"top\">1990-04-18</th>\n",
       "      <th>2.0</th>\n",
       "      <td>2</td>\n",
       "      <td>2</td>\n",
       "      <td>2</td>\n",
       "      <td>2</td>\n",
       "    </tr>\n",
       "    <tr>\n",
       "      <th>6.0</th>\n",
       "      <td>5</td>\n",
       "      <td>5</td>\n",
       "      <td>5</td>\n",
       "      <td>5</td>\n",
       "    </tr>\n",
       "    <tr>\n",
       "      <th>1990-04-27</th>\n",
       "      <th>1.0</th>\n",
       "      <td>1</td>\n",
       "      <td>1</td>\n",
       "      <td>1</td>\n",
       "      <td>1</td>\n",
       "    </tr>\n",
       "    <tr>\n",
       "      <th>1990-04-30</th>\n",
       "      <th>2.0</th>\n",
       "      <td>2</td>\n",
       "      <td>2</td>\n",
       "      <td>2</td>\n",
       "      <td>2</td>\n",
       "    </tr>\n",
       "    <tr>\n",
       "      <th>1990-05-16</th>\n",
       "      <th>2.0</th>\n",
       "      <td>2</td>\n",
       "      <td>2</td>\n",
       "      <td>2</td>\n",
       "      <td>2</td>\n",
       "    </tr>\n",
       "    <tr>\n",
       "      <th>1990-05-17</th>\n",
       "      <th>2.0</th>\n",
       "      <td>2</td>\n",
       "      <td>2</td>\n",
       "      <td>2</td>\n",
       "      <td>2</td>\n",
       "    </tr>\n",
       "    <tr>\n",
       "      <th>1990-05-18</th>\n",
       "      <th>8.0</th>\n",
       "      <td>1</td>\n",
       "      <td>1</td>\n",
       "      <td>1</td>\n",
       "      <td>1</td>\n",
       "    </tr>\n",
       "    <tr>\n",
       "      <th rowspan=\"2\" valign=\"top\">1990-05-23</th>\n",
       "      <th>5.0</th>\n",
       "      <td>4</td>\n",
       "      <td>4</td>\n",
       "      <td>4</td>\n",
       "      <td>4</td>\n",
       "    </tr>\n",
       "    <tr>\n",
       "      <th>6.0</th>\n",
       "      <td>1</td>\n",
       "      <td>1</td>\n",
       "      <td>1</td>\n",
       "      <td>1</td>\n",
       "    </tr>\n",
       "    <tr>\n",
       "      <th>1990-05-24</th>\n",
       "      <th>2.0</th>\n",
       "      <td>4</td>\n",
       "      <td>4</td>\n",
       "      <td>4</td>\n",
       "      <td>4</td>\n",
       "    </tr>\n",
       "  </tbody>\n",
       "</table>\n",
       "</div>"
      ],
      "text/plain": [
       "                                 Document_No  Topic_Perc_Contrib  Keywords  \\\n",
       "application_date Dominant_Topic                                              \n",
       "1990-01-31       5.0                       1                   1         1   \n",
       "1990-02-08       5.0                       2                   2         2   \n",
       "1990-02-28       2.0                       1                   1         1   \n",
       "                 6.0                       2                   2         2   \n",
       "1990-03-08       3.0                       1                   1         1   \n",
       "                 5.0                       2                   2         2   \n",
       "1990-03-30       2.0                       1                   1         1   \n",
       "1990-04-04       2.0                       2                   2         2   \n",
       "1990-04-06       6.0                       3                   3         3   \n",
       "1990-04-11       5.0                       1                   1         1   \n",
       "1990-04-18       2.0                       2                   2         2   \n",
       "                 6.0                       5                   5         5   \n",
       "1990-04-27       1.0                       1                   1         1   \n",
       "1990-04-30       2.0                       2                   2         2   \n",
       "1990-05-16       2.0                       2                   2         2   \n",
       "1990-05-17       2.0                       2                   2         2   \n",
       "1990-05-18       8.0                       1                   1         1   \n",
       "1990-05-23       5.0                       4                   4         4   \n",
       "                 6.0                       1                   1         1   \n",
       "1990-05-24       2.0                       4                   4         4   \n",
       "\n",
       "                                 Text  \n",
       "application_date Dominant_Topic        \n",
       "1990-01-31       5.0                1  \n",
       "1990-02-08       5.0                2  \n",
       "1990-02-28       2.0                1  \n",
       "                 6.0                2  \n",
       "1990-03-08       3.0                1  \n",
       "                 5.0                2  \n",
       "1990-03-30       2.0                1  \n",
       "1990-04-04       2.0                2  \n",
       "1990-04-06       6.0                3  \n",
       "1990-04-11       5.0                1  \n",
       "1990-04-18       2.0                2  \n",
       "                 6.0                5  \n",
       "1990-04-27       1.0                1  \n",
       "1990-04-30       2.0                2  \n",
       "1990-05-16       2.0                2  \n",
       "1990-05-17       2.0                2  \n",
       "1990-05-18       8.0                1  \n",
       "1990-05-23       5.0                4  \n",
       "                 6.0                1  \n",
       "1990-05-24       2.0                4  "
      ]
     },
     "execution_count": 27,
     "metadata": {},
     "output_type": "execute_result"
    }
   ],
   "source": [
    "data.groupby([\"application_date\",\"Dominant_Topic\"]).count().head(20)"
   ]
  },
  {
   "cell_type": "code",
   "execution_count": 28,
   "metadata": {},
   "outputs": [
    {
     "data": {
      "text/plain": [
       "<matplotlib.axes._subplots.AxesSubplot at 0x12ddd0974e0>"
      ]
     },
     "execution_count": 28,
     "metadata": {},
     "output_type": "execute_result"
    },
    {
     "data": {
      "image/png": "[encoded data removed]",
      "text/plain": [
       "<matplotlib.figure.Figure at 0x12dd7712978>"
      ]
     },
     "metadata": {
      "needs_background": "light"
     },
     "output_type": "display_data"
    }
   ],
   "source": [
    "data.groupby([\"application_date\",\"Dominant_Topic\"]).count().plot()"
   ]
  },
  {
   "cell_type": "markdown",
   "metadata": {},
   "source": [
    "**The problem is occuring as it is taking mponths and days in application date as well. We need to use dt.year to focus only on year**"
   ]
  },
  {
   "cell_type": "code",
   "execution_count": null,
   "metadata": {},
   "outputs": [],
   "source": []
  },
  {
   "cell_type": "code",
   "execution_count": null,
   "metadata": {},
   "outputs": [],
   "source": [
    "data.dtypes"
   ]
  },
  {
   "cell_type": "code",
   "execution_count": null,
   "metadata": {},
   "outputs": [],
   "source": [
    "data['application_date'].dt.year"
   ]
  },
  {
   "cell_type": "code",
   "execution_count": null,
   "metadata": {},
   "outputs": [],
   "source": []
  },
  {
   "cell_type": "code",
   "execution_count": null,
   "metadata": {},
   "outputs": [],
   "source": [
    "data.groupby(data.application_date.dt.year).Dominant_Topic.value_counts()"
   ]
  },
  {
   "cell_type": "code",
   "execution_count": null,
   "metadata": {},
   "outputs": [],
   "source": [
    "data.groupby(data.application_date.dt.year).Dominant_Topic.value_counts().plot(kind='barh')"
   ]
  },
  {
   "cell_type": "code",
   "execution_count": null,
   "metadata": {},
   "outputs": [],
   "source": [
    "data.groupby(data.application_date.dt.year).Dominant_Topic.count().plot()"
   ]
  },
  {
   "cell_type": "code",
   "execution_count": null,
   "metadata": {},
   "outputs": [],
   "source": [
    "data.groupby(data.application_date.dt.year).Dominant_Topic.sum().plot()"
   ]
  },
  {
   "cell_type": "markdown",
   "metadata": {},
   "source": [
    "# For rough work"
   ]
  },
  {
   "cell_type": "code",
   "execution_count": 29,
   "metadata": {},
   "outputs": [
    {
     "data": {
      "text/plain": [
       "0    5.0\n",
       "1    5.0\n",
       "2    2.0\n",
       "3    3.0\n",
       "4    2.0\n",
       "Name: Dominant_Topic, dtype: float64"
      ]
     },
     "execution_count": 29,
     "metadata": {},
     "output_type": "execute_result"
    }
   ],
   "source": [
    "topic=data['Dominant_Topic']\n",
    "topic.head()"
   ]
  },
  {
   "cell_type": "code",
   "execution_count": 30,
   "metadata": {},
   "outputs": [
    {
     "data": {
      "text/html": [
       "<div>\n",
       "<style scoped>\n",
       "    .dataframe tbody tr th:only-of-type {\n",
       "        vertical-align: middle;\n",
       "    }\n",
       "\n",
       "    .dataframe tbody tr th {\n",
       "        vertical-align: top;\n",
       "    }\n",
       "\n",
       "    .dataframe thead th {\n",
       "        text-align: right;\n",
       "    }\n",
       "</style>\n",
       "<table border=\"1\" class=\"dataframe\">\n",
       "  <thead>\n",
       "    <tr style=\"text-align: right;\">\n",
       "      <th></th>\n",
       "      <th>Document_No</th>\n",
       "      <th>Dominant_Topic</th>\n",
       "      <th>Topic_Perc_Contrib</th>\n",
       "      <th>Keywords</th>\n",
       "      <th>Text</th>\n",
       "      <th>application_date</th>\n",
       "    </tr>\n",
       "  </thead>\n",
       "  <tbody>\n",
       "    <tr>\n",
       "      <th>0</th>\n",
       "      <td>0</td>\n",
       "      <td>5.0</td>\n",
       "      <td>0.6574</td>\n",
       "      <td>include, system, high, module, energy, low, pr...</td>\n",
       "      <td>[electrical, energy, system, include, electric...</td>\n",
       "      <td>1990-07-19</td>\n",
       "    </tr>\n",
       "    <tr>\n",
       "      <th>1</th>\n",
       "      <td>1</td>\n",
       "      <td>5.0</td>\n",
       "      <td>0.7450</td>\n",
       "      <td>include, system, high, module, energy, low, pr...</td>\n",
       "      <td>[electrical, energy, system, include, electric...</td>\n",
       "      <td>1990-07-19</td>\n",
       "    </tr>\n",
       "    <tr>\n",
       "      <th>2</th>\n",
       "      <td>2</td>\n",
       "      <td>2.0</td>\n",
       "      <td>0.6005</td>\n",
       "      <td>connect, unit, utility, controller, device, pr...</td>\n",
       "      <td>[regulate, circuit, microprocessor, regulator,...</td>\n",
       "      <td>1994-05-20</td>\n",
       "    </tr>\n",
       "    <tr>\n",
       "      <th>3</th>\n",
       "      <td>3</td>\n",
       "      <td>3.0</td>\n",
       "      <td>0.3726</td>\n",
       "      <td>gear, part, transmission, clutch, axle, connec...</td>\n",
       "      <td>[drive, unit, electric, vehicle, comprise, ele...</td>\n",
       "      <td>1993-05-28</td>\n",
       "    </tr>\n",
       "    <tr>\n",
       "      <th>4</th>\n",
       "      <td>4</td>\n",
       "      <td>2.0</td>\n",
       "      <td>0.4033</td>\n",
       "      <td>connect, unit, utility, controller, device, pr...</td>\n",
       "      <td>[drive, unit, electric, motor, car, comprise, ...</td>\n",
       "      <td>1993-05-28</td>\n",
       "    </tr>\n",
       "  </tbody>\n",
       "</table>\n",
       "</div>"
      ],
      "text/plain": [
       "   Document_No  Dominant_Topic  Topic_Perc_Contrib  \\\n",
       "0            0             5.0              0.6574   \n",
       "1            1             5.0              0.7450   \n",
       "2            2             2.0              0.6005   \n",
       "3            3             3.0              0.3726   \n",
       "4            4             2.0              0.4033   \n",
       "\n",
       "                                            Keywords  \\\n",
       "0  include, system, high, module, energy, low, pr...   \n",
       "1  include, system, high, module, energy, low, pr...   \n",
       "2  connect, unit, utility, controller, device, pr...   \n",
       "3  gear, part, transmission, clutch, axle, connec...   \n",
       "4  connect, unit, utility, controller, device, pr...   \n",
       "\n",
       "                                                Text application_date  \n",
       "0  [electrical, energy, system, include, electric...       1990-07-19  \n",
       "1  [electrical, energy, system, include, electric...       1990-07-19  \n",
       "2  [regulate, circuit, microprocessor, regulator,...       1994-05-20  \n",
       "3  [drive, unit, electric, vehicle, comprise, ele...       1993-05-28  \n",
       "4  [drive, unit, electric, motor, car, comprise, ...       1993-05-28  "
      ]
     },
     "execution_count": 30,
     "metadata": {},
     "output_type": "execute_result"
    }
   ],
   "source": [
    "data.head()"
   ]
  },
  {
   "cell_type": "code",
   "execution_count": 31,
   "metadata": {},
   "outputs": [
    {
     "data": {
      "text/plain": [
       "0   1990-07-19\n",
       "1   1990-07-19\n",
       "2   1994-05-20\n",
       "3   1993-05-28\n",
       "4   1993-05-28\n",
       "Name: application_date, dtype: datetime64[ns]"
      ]
     },
     "execution_count": 31,
     "metadata": {},
     "output_type": "execute_result"
    }
   ],
   "source": [
    "filling_date=data['application_date']\n",
    "filling_date.head()"
   ]
  },
  {
   "cell_type": "code",
   "execution_count": 32,
   "metadata": {},
   "outputs": [
    {
     "data": {
      "text/plain": [
       "(34223,)"
      ]
     },
     "execution_count": 32,
     "metadata": {},
     "output_type": "execute_result"
    }
   ],
   "source": [
    "filling_date.shape"
   ]
  },
  {
   "cell_type": "code",
   "execution_count": 33,
   "metadata": {},
   "outputs": [],
   "source": [
    "df = pd.DataFrame({'TOPIC':topic,\n",
    "                   'Filling_Date':filling_date})"
   ]
  },
  {
   "cell_type": "code",
   "execution_count": 34,
   "metadata": {},
   "outputs": [
    {
     "data": {
      "text/html": [
       "<div>\n",
       "<style scoped>\n",
       "    .dataframe tbody tr th:only-of-type {\n",
       "        vertical-align: middle;\n",
       "    }\n",
       "\n",
       "    .dataframe tbody tr th {\n",
       "        vertical-align: top;\n",
       "    }\n",
       "\n",
       "    .dataframe thead th {\n",
       "        text-align: right;\n",
       "    }\n",
       "</style>\n",
       "<table border=\"1\" class=\"dataframe\">\n",
       "  <thead>\n",
       "    <tr style=\"text-align: right;\">\n",
       "      <th></th>\n",
       "      <th>TOPIC</th>\n",
       "      <th>Filling_Date</th>\n",
       "    </tr>\n",
       "  </thead>\n",
       "  <tbody>\n",
       "    <tr>\n",
       "      <th>0</th>\n",
       "      <td>5.0</td>\n",
       "      <td>1990-07-19</td>\n",
       "    </tr>\n",
       "    <tr>\n",
       "      <th>1</th>\n",
       "      <td>5.0</td>\n",
       "      <td>1990-07-19</td>\n",
       "    </tr>\n",
       "    <tr>\n",
       "      <th>2</th>\n",
       "      <td>2.0</td>\n",
       "      <td>1994-05-20</td>\n",
       "    </tr>\n",
       "    <tr>\n",
       "      <th>3</th>\n",
       "      <td>3.0</td>\n",
       "      <td>1993-05-28</td>\n",
       "    </tr>\n",
       "    <tr>\n",
       "      <th>4</th>\n",
       "      <td>2.0</td>\n",
       "      <td>1993-05-28</td>\n",
       "    </tr>\n",
       "  </tbody>\n",
       "</table>\n",
       "</div>"
      ],
      "text/plain": [
       "   TOPIC Filling_Date\n",
       "0    5.0   1990-07-19\n",
       "1    5.0   1990-07-19\n",
       "2    2.0   1994-05-20\n",
       "3    3.0   1993-05-28\n",
       "4    2.0   1993-05-28"
      ]
     },
     "execution_count": 34,
     "metadata": {},
     "output_type": "execute_result"
    }
   ],
   "source": [
    "df.head()"
   ]
  },
  {
   "cell_type": "markdown",
   "metadata": {},
   "source": [
    "Now get counts per category, per year:"
   ]
  },
  {
   "cell_type": "code",
   "execution_count": 35,
   "metadata": {},
   "outputs": [
    {
     "ename": "AttributeError",
     "evalue": "'Series' object has no attribute 'TOPIC'",
     "output_type": "error",
     "traceback": [
      "\u001b[1;31m---------------------------------------------------------------------------\u001b[0m",
      "\u001b[1;31mAttributeError\u001b[0m                            Traceback (most recent call last)",
      "\u001b[1;32m<ipython-input-35-b5bb8a90186b>\u001b[0m in \u001b[0;36m<module>\u001b[1;34m\u001b[0m\n\u001b[0;32m      1\u001b[0m ctdf = (df.reset_index()\n\u001b[1;32m----> 2\u001b[1;33m           \u001b[1;33m.\u001b[0m\u001b[0mgroupby\u001b[0m\u001b[1;33m(\u001b[0m\u001b[1;33m(\u001b[0m\u001b[0mdf\u001b[0m\u001b[1;33m.\u001b[0m\u001b[0mFilling_Date\u001b[0m\u001b[1;33m.\u001b[0m\u001b[0mdt\u001b[0m\u001b[1;33m.\u001b[0m\u001b[0myear\u001b[0m\u001b[1;33m)\u001b[0m\u001b[1;33m.\u001b[0m\u001b[0mTOPIC\u001b[0m\u001b[1;33m,\u001b[0m \u001b[0mas_index\u001b[0m\u001b[1;33m=\u001b[0m\u001b[1;32mFalse\u001b[0m\u001b[1;33m)\u001b[0m\u001b[1;33m\u001b[0m\u001b[0m\n\u001b[0m\u001b[0;32m      3\u001b[0m           \u001b[1;33m.\u001b[0m\u001b[0mvalue_counts\u001b[0m\u001b[1;33m(\u001b[0m\u001b[1;33m)\u001b[0m\u001b[1;33m\u001b[0m\u001b[0m\n\u001b[0;32m      4\u001b[0m           \u001b[1;31m# rename isn't strictly necessary here, it's just for readability\u001b[0m\u001b[1;33m\u001b[0m\u001b[1;33m\u001b[0m\u001b[0m\n\u001b[0;32m      5\u001b[0m           \u001b[1;33m.\u001b[0m\u001b[0mrename\u001b[0m\u001b[1;33m(\u001b[0m\u001b[0mcolumns\u001b[0m\u001b[1;33m=\u001b[0m\u001b[1;33m{\u001b[0m\u001b[1;34m'index'\u001b[0m\u001b[1;33m:\u001b[0m\u001b[1;34m'ct'\u001b[0m\u001b[1;33m}\u001b[0m\u001b[1;33m)\u001b[0m\u001b[1;33m\u001b[0m\u001b[0m\n",
      "\u001b[1;32m~\\AppData\\Roaming\\Python\\Python36\\site-packages\\pandas\\core\\generic.py\u001b[0m in \u001b[0;36m__getattr__\u001b[1;34m(self, name)\u001b[0m\n\u001b[0;32m   4374\u001b[0m             \u001b[1;32mif\u001b[0m \u001b[0mself\u001b[0m\u001b[1;33m.\u001b[0m\u001b[0m_info_axis\u001b[0m\u001b[1;33m.\u001b[0m\u001b[0m_can_hold_identifiers_and_holds_name\u001b[0m\u001b[1;33m(\u001b[0m\u001b[0mname\u001b[0m\u001b[1;33m)\u001b[0m\u001b[1;33m:\u001b[0m\u001b[1;33m\u001b[0m\u001b[0m\n\u001b[0;32m   4375\u001b[0m                 \u001b[1;32mreturn\u001b[0m \u001b[0mself\u001b[0m\u001b[1;33m[\u001b[0m\u001b[0mname\u001b[0m\u001b[1;33m]\u001b[0m\u001b[1;33m\u001b[0m\u001b[0m\n\u001b[1;32m-> 4376\u001b[1;33m             \u001b[1;32mreturn\u001b[0m \u001b[0mobject\u001b[0m\u001b[1;33m.\u001b[0m\u001b[0m__getattribute__\u001b[0m\u001b[1;33m(\u001b[0m\u001b[0mself\u001b[0m\u001b[1;33m,\u001b[0m \u001b[0mname\u001b[0m\u001b[1;33m)\u001b[0m\u001b[1;33m\u001b[0m\u001b[0m\n\u001b[0m\u001b[0;32m   4377\u001b[0m \u001b[1;33m\u001b[0m\u001b[0m\n\u001b[0;32m   4378\u001b[0m     \u001b[1;32mdef\u001b[0m \u001b[0m__setattr__\u001b[0m\u001b[1;33m(\u001b[0m\u001b[0mself\u001b[0m\u001b[1;33m,\u001b[0m \u001b[0mname\u001b[0m\u001b[1;33m,\u001b[0m \u001b[0mvalue\u001b[0m\u001b[1;33m)\u001b[0m\u001b[1;33m:\u001b[0m\u001b[1;33m\u001b[0m\u001b[0m\n",
      "\u001b[1;31mAttributeError\u001b[0m: 'Series' object has no attribute 'TOPIC'"
     ]
    }
   ],
   "source": [
    "ctdf = (df.reset_index()\n",
    "          .groupby((df.Filling_Date.dt.year).TOPIC, as_index=False)\n",
    "          .value_counts()\n",
    "          # rename isn't strictly necessary here, it's just for readability\n",
    "          .rename(columns={'index':'ct'})\n",
    "       )"
   ]
  },
  {
   "cell_type": "code",
   "execution_count": 36,
   "metadata": {},
   "outputs": [],
   "source": [
    "ctdf=df.groupby(df.Filling_Date.dt.year).TOPIC.value_counts()"
   ]
  },
  {
   "cell_type": "code",
   "execution_count": 37,
   "metadata": {},
   "outputs": [
    {
     "data": {
      "text/plain": [
       "Filling_Date  TOPIC\n",
       "1990          2.0      29\n",
       "              6.0      23\n",
       "              5.0      21\n",
       "              8.0       7\n",
       "              3.0       3\n",
       "Name: TOPIC, dtype: int64"
      ]
     },
     "execution_count": 37,
     "metadata": {},
     "output_type": "execute_result"
    }
   ],
   "source": [
    "ctdf.head()"
   ]
  },
  {
   "cell_type": "code",
   "execution_count": 38,
   "metadata": {},
   "outputs": [
    {
     "data": {
      "image/png": "[encoded data removed]",
      "text/plain": [
       "<matplotlib.figure.Figure at 0x12ddc46e128>"
      ]
     },
     "metadata": {
      "needs_background": "light"
     },
     "output_type": "display_data"
    }
   ],
   "source": [
    "from matplotlib import pyplot as plt\n",
    "fig, ax = plt.subplots()\n",
    "\n",
    "# key gives the group name (i.e. category), data gives the actual values\n",
    "for key, data in ctdf.groupby('TOPIC'):\n",
    "    data.plot(x='Filling_Date', y='ct', ax=ax, label=key)"
   ]
  },
  {
   "cell_type": "code",
   "execution_count": 39,
   "metadata": {},
   "outputs": [
    {
     "ename": "AttributeError",
     "evalue": "'Series' object has no attribute 'application_date'",
     "output_type": "error",
     "traceback": [
      "\u001b[1;31m---------------------------------------------------------------------------\u001b[0m",
      "\u001b[1;31mAttributeError\u001b[0m                            Traceback (most recent call last)",
      "\u001b[1;32m<ipython-input-39-6f7bb2e8c6c1>\u001b[0m in \u001b[0;36m<module>\u001b[1;34m\u001b[0m\n\u001b[1;32m----> 1\u001b[1;33m \u001b[0mdata\u001b[0m\u001b[1;33m.\u001b[0m\u001b[0mgroupby\u001b[0m\u001b[1;33m(\u001b[0m\u001b[0mdata\u001b[0m\u001b[1;33m.\u001b[0m\u001b[0mapplication_date\u001b[0m\u001b[1;33m.\u001b[0m\u001b[0mdt\u001b[0m\u001b[1;33m.\u001b[0m\u001b[0myear\u001b[0m\u001b[1;33m)\u001b[0m\u001b[1;33m.\u001b[0m\u001b[0mDominant_Topic\u001b[0m\u001b[1;33m.\u001b[0m\u001b[0mvalue_counts\u001b[0m\u001b[1;33m(\u001b[0m\u001b[1;33m)\u001b[0m\u001b[1;33m\u001b[0m\u001b[0m\n\u001b[0m",
      "\u001b[1;32m~\\AppData\\Roaming\\Python\\Python36\\site-packages\\pandas\\core\\generic.py\u001b[0m in \u001b[0;36m__getattr__\u001b[1;34m(self, name)\u001b[0m\n\u001b[0;32m   4374\u001b[0m             \u001b[1;32mif\u001b[0m \u001b[0mself\u001b[0m\u001b[1;33m.\u001b[0m\u001b[0m_info_axis\u001b[0m\u001b[1;33m.\u001b[0m\u001b[0m_can_hold_identifiers_and_holds_name\u001b[0m\u001b[1;33m(\u001b[0m\u001b[0mname\u001b[0m\u001b[1;33m)\u001b[0m\u001b[1;33m:\u001b[0m\u001b[1;33m\u001b[0m\u001b[0m\n\u001b[0;32m   4375\u001b[0m                 \u001b[1;32mreturn\u001b[0m \u001b[0mself\u001b[0m\u001b[1;33m[\u001b[0m\u001b[0mname\u001b[0m\u001b[1;33m]\u001b[0m\u001b[1;33m\u001b[0m\u001b[0m\n\u001b[1;32m-> 4376\u001b[1;33m             \u001b[1;32mreturn\u001b[0m \u001b[0mobject\u001b[0m\u001b[1;33m.\u001b[0m\u001b[0m__getattribute__\u001b[0m\u001b[1;33m(\u001b[0m\u001b[0mself\u001b[0m\u001b[1;33m,\u001b[0m \u001b[0mname\u001b[0m\u001b[1;33m)\u001b[0m\u001b[1;33m\u001b[0m\u001b[0m\n\u001b[0m\u001b[0;32m   4377\u001b[0m \u001b[1;33m\u001b[0m\u001b[0m\n\u001b[0;32m   4378\u001b[0m     \u001b[1;32mdef\u001b[0m \u001b[0m__setattr__\u001b[0m\u001b[1;33m(\u001b[0m\u001b[0mself\u001b[0m\u001b[1;33m,\u001b[0m \u001b[0mname\u001b[0m\u001b[1;33m,\u001b[0m \u001b[0mvalue\u001b[0m\u001b[1;33m)\u001b[0m\u001b[1;33m:\u001b[0m\u001b[1;33m\u001b[0m\u001b[0m\n",
      "\u001b[1;31mAttributeError\u001b[0m: 'Series' object has no attribute 'application_date'"
     ]
    }
   ],
   "source": [
    "data.groupby(data.application_date.dt.year).Dominant_Topic.value_counts()"
   ]
  },
  {
   "cell_type": "code",
   "execution_count": 40,
   "metadata": {},
   "outputs": [
    {
     "data": {
      "text/plain": [
       "Filling_Date  TOPIC\n",
       "1990          2.0       29\n",
       "              6.0       23\n",
       "              5.0       21\n",
       "              8.0        7\n",
       "              3.0        3\n",
       "              1.0        1\n",
       "              4.0        1\n",
       "              7.0        1\n",
       "1991          2.0       40\n",
       "              6.0       37\n",
       "              5.0       33\n",
       "              8.0       21\n",
       "              1.0       14\n",
       "              9.0        8\n",
       "              4.0        5\n",
       "              7.0        5\n",
       "1992          6.0       75\n",
       "              2.0       73\n",
       "              5.0       36\n",
       "              8.0       30\n",
       "              1.0       19\n",
       "              4.0        6\n",
       "              7.0        4\n",
       "              9.0        4\n",
       "              3.0        3\n",
       "1993          2.0      112\n",
       "              8.0       90\n",
       "              6.0       47\n",
       "              1.0       32\n",
       "              5.0       31\n",
       "                      ... \n",
       "2015          2.0      568\n",
       "              6.0      458\n",
       "              8.0      195\n",
       "              5.0      162\n",
       "              1.0      144\n",
       "              7.0       84\n",
       "              4.0       56\n",
       "              9.0       50\n",
       "              3.0       21\n",
       "              0.0        6\n",
       "2016          2.0      399\n",
       "              8.0      196\n",
       "              6.0      145\n",
       "              5.0      104\n",
       "              1.0       95\n",
       "              7.0       45\n",
       "              9.0       29\n",
       "              4.0       17\n",
       "              3.0        9\n",
       "              0.0        1\n",
       "2017          2.0       97\n",
       "              8.0       48\n",
       "              6.0       20\n",
       "              5.0       14\n",
       "              1.0        5\n",
       "              7.0        5\n",
       "              3.0        4\n",
       "              9.0        3\n",
       "              4.0        2\n",
       "2018          2.0        1\n",
       "Name: TOPIC, Length: 268, dtype: int64"
      ]
     },
     "execution_count": 40,
     "metadata": {},
     "output_type": "execute_result"
    }
   ],
   "source": [
    "df.groupby(df.Filling_Date.dt.year).TOPIC.value_counts()"
   ]
  },
  {
   "cell_type": "code",
   "execution_count": 41,
   "metadata": {},
   "outputs": [
    {
     "data": {
      "text/plain": [
       "Filling_Date  TOPIC\n",
       "False         6.0      9136\n",
       "              2.0      7753\n",
       "              5.0      4767\n",
       "              8.0      3077\n",
       "              1.0      2644\n",
       "              7.0      1744\n",
       "              9.0      1584\n",
       "              4.0       728\n",
       "              3.0       572\n",
       "              0.0        53\n",
       "True          2.0       615\n",
       "              6.0       569\n",
       "              5.0       271\n",
       "              8.0       199\n",
       "              1.0       184\n",
       "              7.0       116\n",
       "              9.0        89\n",
       "              4.0        74\n",
       "              3.0        45\n",
       "              0.0         3\n",
       "Name: TOPIC, dtype: int64"
      ]
     },
     "execution_count": 41,
     "metadata": {},
     "output_type": "execute_result"
    }
   ],
   "source": [
    "# For year 2014 only, number of patent applications per topic\n",
    "df.groupby(df.Filling_Date.dt.year==2014).TOPIC.value_counts()"
   ]
  },
  {
   "cell_type": "markdown",
   "metadata": {},
   "source": [
    "### (b) Change in the share of patents over filing year"
   ]
  },
  {
   "cell_type": "code",
   "execution_count": 42,
   "metadata": {},
   "outputs": [
    {
     "data": {
      "text/plain": [
       "Filling_Date  TOPIC\n",
       "1990          2.0      0.337209\n",
       "              6.0      0.267442\n",
       "              5.0      0.244186\n",
       "              8.0      0.081395\n",
       "              3.0      0.034884\n",
       "              1.0      0.011628\n",
       "              4.0      0.011628\n",
       "              7.0      0.011628\n",
       "1991          2.0      0.245399\n",
       "              6.0      0.226994\n",
       "              5.0      0.202454\n",
       "              8.0      0.128834\n",
       "              1.0      0.085890\n",
       "              9.0      0.049080\n",
       "              4.0      0.030675\n",
       "              7.0      0.030675\n",
       "1992          6.0      0.300000\n",
       "              2.0      0.292000\n",
       "              5.0      0.144000\n",
       "              8.0      0.120000\n",
       "              1.0      0.076000\n",
       "              4.0      0.024000\n",
       "              7.0      0.016000\n",
       "              9.0      0.016000\n",
       "              3.0      0.012000\n",
       "1993          2.0      0.314607\n",
       "              8.0      0.252809\n",
       "              6.0      0.132022\n",
       "              1.0      0.089888\n",
       "              5.0      0.087079\n",
       "                         ...   \n",
       "2015          2.0      0.325688\n",
       "              6.0      0.262615\n",
       "              8.0      0.111812\n",
       "              5.0      0.092890\n",
       "              1.0      0.082569\n",
       "              7.0      0.048165\n",
       "              4.0      0.032110\n",
       "              9.0      0.028670\n",
       "              3.0      0.012041\n",
       "              0.0      0.003440\n",
       "2016          2.0      0.383654\n",
       "              8.0      0.188462\n",
       "              6.0      0.139423\n",
       "              5.0      0.100000\n",
       "              1.0      0.091346\n",
       "              7.0      0.043269\n",
       "              9.0      0.027885\n",
       "              4.0      0.016346\n",
       "              3.0      0.008654\n",
       "              0.0      0.000962\n",
       "2017          2.0      0.489899\n",
       "              8.0      0.242424\n",
       "              6.0      0.101010\n",
       "              5.0      0.070707\n",
       "              1.0      0.025253\n",
       "              7.0      0.025253\n",
       "              3.0      0.020202\n",
       "              9.0      0.015152\n",
       "              4.0      0.010101\n",
       "2018          2.0      1.000000\n",
       "Name: TOPIC, Length: 268, dtype: float64"
      ]
     },
     "execution_count": 42,
     "metadata": {},
     "output_type": "execute_result"
    }
   ],
   "source": [
    "df.groupby(df.Filling_Date.dt.year).TOPIC.value_counts(normalize=True)"
   ]
  },
  {
   "cell_type": "code",
   "execution_count": 43,
   "metadata": {},
   "outputs": [],
   "source": [
    "ctdf2=df.groupby(df.Filling_Date.dt.year).TOPIC.value_counts(normalize=True)"
   ]
  },
  {
   "cell_type": "code",
   "execution_count": 44,
   "metadata": {},
   "outputs": [
    {
     "data": {
      "image/png": "[encoded data removed]",
      "text/plain": [
       "<matplotlib.figure.Figure at 0x12ddc4b7240>"
      ]
     },
     "metadata": {
      "needs_background": "light"
     },
     "output_type": "display_data"
    }
   ],
   "source": [
    "from matplotlib import pyplot as plt\n",
    "fig, ax = plt.subplots()\n",
    "\n",
    "# key gives the group name (i.e. category), data gives the actual values\n",
    "for key, data in ctdf2.groupby('TOPIC'):\n",
    "    data.plot(x='Filling_Date', y='ct', ax=ax, label=key)"
   ]
  },
  {
   "cell_type": "markdown",
   "metadata": {},
   "source": [
    "# 4)- Share of patents by  technological topics\n",
    "\n",
    "table 3 in paper"
   ]
  },
  {
   "cell_type": "code",
   "execution_count": 49,
   "metadata": {},
   "outputs": [
    {
     "data": {
      "text/plain": [
       "Filling_Date  TOPIC\n",
       "False         6.0      8894\n",
       "              2.0      7682\n",
       "              5.0      4677\n",
       "              8.0      2994\n",
       "              1.0      2510\n",
       "              7.0      1656\n",
       "              9.0      1581\n",
       "              4.0       748\n",
       "              3.0       577\n",
       "              0.0        55\n",
       "True          6.0       811\n",
       "              2.0       686\n",
       "              5.0       361\n",
       "              1.0       318\n",
       "              8.0       282\n",
       "              7.0       204\n",
       "              9.0        92\n",
       "              4.0        54\n",
       "              3.0        40\n",
       "              0.0         1\n",
       "Name: TOPIC, dtype: int64"
      ]
     },
     "execution_count": 49,
     "metadata": {},
     "output_type": "execute_result"
    }
   ],
   "source": [
    "# start with 2010\n",
    "df.groupby(df.Filling_Date.dt.year==2010).TOPIC.value_counts()"
   ]
  },
  {
   "cell_type": "markdown",
   "metadata": {},
   "source": [
    "2849 for 2010<br>\n",
    "2849/34223=8.32 %"
   ]
  },
  {
   "cell_type": "code",
   "execution_count": 48,
   "metadata": {},
   "outputs": [
    {
     "data": {
      "text/plain": [
       "Filling_Date  TOPIC\n",
       "False         6.0      8727\n",
       "              2.0      7342\n",
       "              5.0      4557\n",
       "              8.0      2840\n",
       "              1.0      2408\n",
       "              7.0      1610\n",
       "              9.0      1583\n",
       "              4.0       744\n",
       "              3.0       540\n",
       "              0.0        56\n",
       "True          2.0      1026\n",
       "              6.0       978\n",
       "              5.0       481\n",
       "              8.0       436\n",
       "              1.0       420\n",
       "              7.0       250\n",
       "              9.0        90\n",
       "              3.0        77\n",
       "              4.0        58\n",
       "Name: TOPIC, dtype: int64"
      ]
     },
     "execution_count": 48,
     "metadata": {},
     "output_type": "execute_result"
    }
   ],
   "source": [
    "# For 2011\n",
    "df.groupby(df.Filling_Date.dt.year==2011).TOPIC.value_counts()"
   ]
  },
  {
   "cell_type": "markdown",
   "metadata": {},
   "source": [
    "for year 2010, we have told of 3816 which has patent share of <br>\n",
    "\n",
    "3816/34223=11.15%"
   ]
  },
  {
   "cell_type": "code",
   "execution_count": 50,
   "metadata": {},
   "outputs": [
    {
     "data": {
      "text/plain": [
       "Filling_Date  TOPIC\n",
       "False         6.0      8897\n",
       "              2.0      7508\n",
       "              5.0      4556\n",
       "              8.0      2924\n",
       "              1.0      2536\n",
       "              7.0      1673\n",
       "              9.0      1586\n",
       "              4.0       709\n",
       "              3.0       549\n",
       "              0.0        54\n",
       "True          2.0       860\n",
       "              6.0       808\n",
       "              5.0       482\n",
       "              8.0       352\n",
       "              1.0       292\n",
       "              7.0       187\n",
       "              4.0        93\n",
       "              9.0        87\n",
       "              3.0        68\n",
       "              0.0         2\n",
       "Name: TOPIC, dtype: int64"
      ]
     },
     "execution_count": 50,
     "metadata": {},
     "output_type": "execute_result"
    }
   ],
   "source": [
    "# for 2012\n",
    "df.groupby(df.Filling_Date.dt.year==2012).TOPIC.value_counts()"
   ]
  },
  {
   "cell_type": "markdown",
   "metadata": {},
   "source": [
    "For 2012, 3231 <br>\n",
    "9.44%"
   ]
  },
  {
   "cell_type": "code",
   "execution_count": 51,
   "metadata": {},
   "outputs": [
    {
     "data": {
      "text/plain": [
       "Filling_Date  TOPIC\n",
       "False         6.0      8966\n",
       "              2.0      7661\n",
       "              5.0      4668\n",
       "              8.0      3072\n",
       "              1.0      2578\n",
       "              7.0      1719\n",
       "              9.0      1602\n",
       "              4.0       744\n",
       "              3.0       552\n",
       "              0.0        46\n",
       "True          6.0       739\n",
       "              2.0       707\n",
       "              5.0       370\n",
       "              1.0       250\n",
       "              8.0       204\n",
       "              7.0       141\n",
       "              9.0        71\n",
       "              3.0        65\n",
       "              4.0        58\n",
       "              0.0        10\n",
       "Name: TOPIC, dtype: int64"
      ]
     },
     "execution_count": 51,
     "metadata": {},
     "output_type": "execute_result"
    }
   ],
   "source": [
    "# for 2013\n",
    "df.groupby(df.Filling_Date.dt.year==2013).TOPIC.value_counts()"
   ]
  },
  {
   "cell_type": "code",
   "execution_count": 53,
   "metadata": {},
   "outputs": [
    {
     "data": {
      "text/plain": [
       "Filling_Date\n",
       "False    31608\n",
       "True      2615\n",
       "Name: TOPIC, dtype: int64"
      ]
     },
     "execution_count": 53,
     "metadata": {},
     "output_type": "execute_result"
    }
   ],
   "source": [
    "# for 2013, count function used instead of summing all one by one\n",
    "df.groupby(df.Filling_Date.dt.year==2013).TOPIC.count()"
   ]
  },
  {
   "cell_type": "code",
   "execution_count": 54,
   "metadata": {},
   "outputs": [
    {
     "data": {
      "text/plain": [
       "0.07641060105776817"
      ]
     },
     "execution_count": 54,
     "metadata": {},
     "output_type": "execute_result"
    }
   ],
   "source": [
    "2615/34223"
   ]
  },
  {
   "cell_type": "code",
   "execution_count": 55,
   "metadata": {},
   "outputs": [
    {
     "data": {
      "text/plain": [
       "Filling_Date\n",
       "False    32058\n",
       "True      2165\n",
       "Name: TOPIC, dtype: int64"
      ]
     },
     "execution_count": 55,
     "metadata": {},
     "output_type": "execute_result"
    }
   ],
   "source": [
    "# for 2014, count function used instead of summing all one by one\n",
    "df.groupby(df.Filling_Date.dt.year==2014).TOPIC.count()"
   ]
  },
  {
   "cell_type": "code",
   "execution_count": 56,
   "metadata": {},
   "outputs": [
    {
     "data": {
      "text/plain": [
       "0.06326154925050405"
      ]
     },
     "execution_count": 56,
     "metadata": {},
     "output_type": "execute_result"
    }
   ],
   "source": [
    "2165/34223"
   ]
  },
  {
   "cell_type": "code",
   "execution_count": 57,
   "metadata": {},
   "outputs": [
    {
     "data": {
      "text/plain": [
       "Filling_Date\n",
       "False    32479\n",
       "True      1744\n",
       "Name: TOPIC, dtype: int64"
      ]
     },
     "execution_count": 57,
     "metadata": {},
     "output_type": "execute_result"
    }
   ],
   "source": [
    "# for 2015, count function used instead of summing all one by one\n",
    "df.groupby(df.Filling_Date.dt.year==2015).TOPIC.count()"
   ]
  },
  {
   "cell_type": "code",
   "execution_count": 58,
   "metadata": {},
   "outputs": [
    {
     "data": {
      "text/plain": [
       "0.050959880781930283"
      ]
     },
     "execution_count": 58,
     "metadata": {},
     "output_type": "execute_result"
    }
   ],
   "source": [
    "1744/34223"
   ]
  },
  {
   "cell_type": "code",
   "execution_count": 59,
   "metadata": {},
   "outputs": [
    {
     "data": {
      "text/plain": [
       "Filling_Date\n",
       "False    33183\n",
       "True      1040\n",
       "Name: TOPIC, dtype: int64"
      ]
     },
     "execution_count": 59,
     "metadata": {},
     "output_type": "execute_result"
    }
   ],
   "source": [
    "# for 2016, count function used instead of summing all one by one\n",
    "df.groupby(df.Filling_Date.dt.year==2016).TOPIC.count()"
   ]
  },
  {
   "cell_type": "code",
   "execution_count": 60,
   "metadata": {},
   "outputs": [
    {
     "data": {
      "text/plain": [
       "0.030388919732343745"
      ]
     },
     "execution_count": 60,
     "metadata": {},
     "output_type": "execute_result"
    }
   ],
   "source": [
    "1040/34223"
   ]
  },
  {
   "cell_type": "code",
   "execution_count": 61,
   "metadata": {},
   "outputs": [
    {
     "data": {
      "text/plain": [
       "Filling_Date\n",
       "False    34025\n",
       "True       198\n",
       "Name: TOPIC, dtype: int64"
      ]
     },
     "execution_count": 61,
     "metadata": {},
     "output_type": "execute_result"
    }
   ],
   "source": [
    "# for 2017, count function used instead of summing all one by one\n",
    "df.groupby(df.Filling_Date.dt.year==2017).TOPIC.count()"
   ]
  },
  {
   "cell_type": "code",
   "execution_count": 62,
   "metadata": {},
   "outputs": [
    {
     "data": {
      "text/plain": [
       "0.005785582795196213"
      ]
     },
     "execution_count": 62,
     "metadata": {},
     "output_type": "execute_result"
    }
   ],
   "source": [
    "198/34223"
   ]
  },
  {
   "cell_type": "code",
   "execution_count": 63,
   "metadata": {},
   "outputs": [
    {
     "data": {
      "text/plain": [
       "Filling_Date\n",
       "False    34222\n",
       "True         1\n",
       "Name: TOPIC, dtype: int64"
      ]
     },
     "execution_count": 63,
     "metadata": {},
     "output_type": "execute_result"
    }
   ],
   "source": [
    "# for 2018, count function used instead of summing all one by one\n",
    "df.groupby(df.Filling_Date.dt.year==2018).TOPIC.count()"
   ]
  },
  {
   "cell_type": "code",
   "execution_count": 64,
   "metadata": {},
   "outputs": [
    {
     "data": {
      "text/plain": [
       "2.92201151272536e-05"
      ]
     },
     "execution_count": 64,
     "metadata": {},
     "output_type": "execute_result"
    }
   ],
   "source": [
    "1/34223"
   ]
  },
  {
   "cell_type": "markdown",
   "metadata": {},
   "source": [
    "**The average patent share in 2012 by topic was 9.44%. So, we will take it as reference value to determine whether given patent is samll or large**"
   ]
  },
  {
   "cell_type": "code",
   "execution_count": 69,
   "metadata": {},
   "outputs": [
    {
     "data": {
      "text/plain": [
       "Filling_Date  TOPIC\n",
       "False         6.0      8897\n",
       "              2.0      7508\n",
       "              5.0      4556\n",
       "              8.0      2924\n",
       "              1.0      2536\n",
       "              7.0      1673\n",
       "              9.0      1586\n",
       "              4.0       709\n",
       "              3.0       549\n",
       "              0.0        54\n",
       "True          2.0       860\n",
       "              6.0       808\n",
       "              5.0       482\n",
       "              8.0       352\n",
       "              1.0       292\n",
       "              7.0       187\n",
       "              4.0        93\n",
       "              9.0        87\n",
       "              3.0        68\n",
       "              0.0         2\n",
       "Name: TOPIC, dtype: int64"
      ]
     },
     "execution_count": 69,
     "metadata": {},
     "output_type": "execute_result"
    }
   ],
   "source": [
    "## for 2012\n",
    "df.groupby(df.Filling_Date.dt.year==2012).TOPIC.value_counts()"
   ]
  },
  {
   "cell_type": "code",
   "execution_count": 70,
   "metadata": {},
   "outputs": [
    {
     "data": {
      "text/plain": [
       "Filling_Date\n",
       "False    30992\n",
       "True      3231\n",
       "Name: TOPIC, dtype: int64"
      ]
     },
     "execution_count": 70,
     "metadata": {},
     "output_type": "execute_result"
    }
   ],
   "source": [
    "df.groupby(df.Filling_Date.dt.year==2012).TOPIC.count()"
   ]
  },
  {
   "cell_type": "code",
   "execution_count": 71,
   "metadata": {},
   "outputs": [
    {
     "data": {
      "text/plain": [
       "Filling_Date  TOPIC\n",
       "False         6.0      0.287074\n",
       "              2.0      0.242256\n",
       "              5.0      0.147006\n",
       "              8.0      0.094347\n",
       "              1.0      0.081828\n",
       "              7.0      0.053982\n",
       "              9.0      0.051174\n",
       "              4.0      0.022877\n",
       "              3.0      0.017714\n",
       "              0.0      0.001742\n",
       "True          2.0      0.266171\n",
       "              6.0      0.250077\n",
       "              5.0      0.149180\n",
       "              8.0      0.108945\n",
       "              1.0      0.090374\n",
       "              7.0      0.057877\n",
       "              4.0      0.028784\n",
       "              9.0      0.026927\n",
       "              3.0      0.021046\n",
       "              0.0      0.000619\n",
       "Name: TOPIC, dtype: float64"
      ]
     },
     "execution_count": 71,
     "metadata": {},
     "output_type": "execute_result"
    }
   ],
   "source": [
    "# For 2012,current patent share\n",
    "df.groupby(df.Filling_Date.dt.year==2012).TOPIC.value_counts(normalize=True)"
   ]
  },
  {
   "cell_type": "markdown",
   "metadata": {},
   "source": [
    "### Calculate CAGR\n",
    "https://www.investopedia.com/terms/c/cagr.asp\n",
    "\n",
    "We will consider years from 2010-2014"
   ]
  },
  {
   "cell_type": "code",
   "execution_count": 72,
   "metadata": {},
   "outputs": [
    {
     "data": {
      "text/plain": [
       "Filling_Date  TOPIC\n",
       "False         6.0      8894\n",
       "              2.0      7682\n",
       "              5.0      4677\n",
       "              8.0      2994\n",
       "              1.0      2510\n",
       "              7.0      1656\n",
       "              9.0      1581\n",
       "              4.0       748\n",
       "              3.0       577\n",
       "              0.0        55\n",
       "True          6.0       811\n",
       "              2.0       686\n",
       "              5.0       361\n",
       "              1.0       318\n",
       "              8.0       282\n",
       "              7.0       204\n",
       "              9.0        92\n",
       "              4.0        54\n",
       "              3.0        40\n",
       "              0.0         1\n",
       "Name: TOPIC, dtype: int64"
      ]
     },
     "execution_count": 72,
     "metadata": {},
     "output_type": "execute_result"
    }
   ],
   "source": [
    "df.groupby(df.Filling_Date.dt.year==2010).TOPIC.value_counts()"
   ]
  },
  {
   "cell_type": "markdown",
   "metadata": {},
   "source": [
    "Initial values for patent share are given "
   ]
  },
  {
   "cell_type": "code",
   "execution_count": 73,
   "metadata": {},
   "outputs": [
    {
     "data": {
      "text/plain": [
       "Filling_Date  TOPIC\n",
       "False         6.0      9247\n",
       "              2.0      7800\n",
       "              5.0      4876\n",
       "              8.0      3081\n",
       "              1.0      2684\n",
       "              7.0      1776\n",
       "              9.0      1623\n",
       "              4.0       746\n",
       "              3.0       596\n",
       "              0.0        50\n",
       "True          2.0       568\n",
       "              6.0       458\n",
       "              8.0       195\n",
       "              5.0       162\n",
       "              1.0       144\n",
       "              7.0        84\n",
       "              4.0        56\n",
       "              9.0        50\n",
       "              3.0        21\n",
       "              0.0         6\n",
       "Name: TOPIC, dtype: int64"
      ]
     },
     "execution_count": 73,
     "metadata": {},
     "output_type": "execute_result"
    }
   ],
   "source": [
    "df.groupby(df.Filling_Date.dt.year==2015).TOPIC.value_counts()"
   ]
  },
  {
   "cell_type": "code",
   "execution_count": null,
   "metadata": {},
   "outputs": [],
   "source": []
  }
 ],
 "metadata": {
  "kernelspec": {
   "display_name": "Python 3",
   "language": "python",
   "name": "python3"
  },
  "language_info": {
   "codemirror_mode": {
    "name": "ipython",
    "version": 3
   },
   "file_extension": ".py",
   "mimetype": "text/x-python",
   "name": "python",
   "nbconvert_exporter": "python",
   "pygments_lexer": "ipython3",
   "version": "3.6.3"
  }
 },
 "nbformat": 4,
 "nbformat_minor": 2
}
