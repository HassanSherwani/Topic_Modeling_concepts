{
 "cells": [
  {
   "cell_type": "code",
   "execution_count": null,
   "metadata": {},
   "outputs": [],
   "source": []
  },
  {
   "cell_type": "code",
   "execution_count": null,
   "metadata": {},
   "outputs": [],
   "source": []
  },
  {
   "cell_type": "markdown",
   "metadata": {},
   "source": [
    "# 1)-Importing key modules"
   ]
  },
  {
   "cell_type": "code",
   "execution_count": 1,
   "metadata": {},
   "outputs": [],
   "source": [
    "# Let's be rebels and ignore warnings for now\n",
    "import warnings\n",
    "warnings.filterwarnings('ignore')\n",
    "warnings.filterwarnings(\"ignore\",category=DeprecationWarning)"
   ]
  },
  {
   "cell_type": "code",
   "execution_count": 2,
   "metadata": {},
   "outputs": [],
   "source": [
    "import nltk\n",
    "import re\n",
    "import numpy as np\n",
    "import pandas as pd\n",
    "from pprint import pprint"
   ]
  },
  {
   "cell_type": "code",
   "execution_count": 3,
   "metadata": {},
   "outputs": [],
   "source": [
    "# Gensim\n",
    "import gensim\n",
    "import gensim.corpora as corpora\n",
    "from gensim.utils import simple_preprocess\n",
    "from gensim.models import CoherenceModel"
   ]
  },
  {
   "cell_type": "code",
   "execution_count": 4,
   "metadata": {},
   "outputs": [],
   "source": [
    "# spacy for lemmatization\n",
    "import spacy\n",
    "\n",
    "# Plotting tools\n",
    "import pyLDAvis\n",
    "import pyLDAvis.gensim  # don't skip this\n",
    "import matplotlib.pyplot as plt\n",
    "%matplotlib inline"
   ]
  },
  {
   "cell_type": "markdown",
   "metadata": {},
   "source": [
    "# 2)-Loading dataset"
   ]
  },
  {
   "cell_type": "code",
   "execution_count": 5,
   "metadata": {},
   "outputs": [],
   "source": [
    "df = pd.read_json('newsgroups.json')"
   ]
  },
  {
   "cell_type": "code",
   "execution_count": 6,
   "metadata": {},
   "outputs": [
    {
     "data": {
      "text/html": [
       "<div>\n",
       "<style scoped>\n",
       "    .dataframe tbody tr th:only-of-type {\n",
       "        vertical-align: middle;\n",
       "    }\n",
       "\n",
       "    .dataframe tbody tr th {\n",
       "        vertical-align: top;\n",
       "    }\n",
       "\n",
       "    .dataframe thead th {\n",
       "        text-align: right;\n",
       "    }\n",
       "</style>\n",
       "<table border=\"1\" class=\"dataframe\">\n",
       "  <thead>\n",
       "    <tr style=\"text-align: right;\">\n",
       "      <th></th>\n",
       "      <th>content</th>\n",
       "      <th>target</th>\n",
       "      <th>target_names</th>\n",
       "    </tr>\n",
       "  </thead>\n",
       "  <tbody>\n",
       "    <tr>\n",
       "      <th>0</th>\n",
       "      <td>From: lerxst@wam.umd.edu (where's my thing)\\nS...</td>\n",
       "      <td>7</td>\n",
       "      <td>rec.autos</td>\n",
       "    </tr>\n",
       "    <tr>\n",
       "      <th>1</th>\n",
       "      <td>From: guykuo@carson.u.washington.edu (Guy Kuo)...</td>\n",
       "      <td>4</td>\n",
       "      <td>comp.sys.mac.hardware</td>\n",
       "    </tr>\n",
       "    <tr>\n",
       "      <th>10</th>\n",
       "      <td>From: irwin@cmptrc.lonestar.org (Irwin Arnstei...</td>\n",
       "      <td>8</td>\n",
       "      <td>rec.motorcycles</td>\n",
       "    </tr>\n",
       "    <tr>\n",
       "      <th>100</th>\n",
       "      <td>From: tchen@magnus.acs.ohio-state.edu (Tsung-K...</td>\n",
       "      <td>6</td>\n",
       "      <td>misc.forsale</td>\n",
       "    </tr>\n",
       "    <tr>\n",
       "      <th>1000</th>\n",
       "      <td>From: dabl2@nlm.nih.gov (Don A.B. Lindbergh)\\n...</td>\n",
       "      <td>2</td>\n",
       "      <td>comp.os.ms-windows.misc</td>\n",
       "    </tr>\n",
       "  </tbody>\n",
       "</table>\n",
       "</div>"
      ],
      "text/plain": [
       "                                                content  target  \\\n",
       "0     From: lerxst@wam.umd.edu (where's my thing)\\nS...       7   \n",
       "1     From: guykuo@carson.u.washington.edu (Guy Kuo)...       4   \n",
       "10    From: irwin@cmptrc.lonestar.org (Irwin Arnstei...       8   \n",
       "100   From: tchen@magnus.acs.ohio-state.edu (Tsung-K...       6   \n",
       "1000  From: dabl2@nlm.nih.gov (Don A.B. Lindbergh)\\n...       2   \n",
       "\n",
       "                 target_names  \n",
       "0                   rec.autos  \n",
       "1       comp.sys.mac.hardware  \n",
       "10            rec.motorcycles  \n",
       "100              misc.forsale  \n",
       "1000  comp.os.ms-windows.misc  "
      ]
     },
     "execution_count": 6,
     "metadata": {},
     "output_type": "execute_result"
    }
   ],
   "source": [
    "df.head()"
   ]
  },
  {
   "cell_type": "code",
   "execution_count": 7,
   "metadata": {},
   "outputs": [
    {
     "name": "stdout",
     "output_type": "stream",
     "text": [
      "['rec.autos' 'comp.sys.mac.hardware' 'rec.motorcycles' 'misc.forsale'\n",
      " 'comp.os.ms-windows.misc' 'alt.atheism' 'comp.graphics'\n",
      " 'rec.sport.baseball' 'rec.sport.hockey' 'sci.electronics' 'sci.space'\n",
      " 'talk.politics.misc' 'sci.med' 'talk.politics.mideast'\n",
      " 'soc.religion.christian' 'comp.windows.x' 'comp.sys.ibm.pc.hardware'\n",
      " 'talk.politics.guns' 'talk.religion.misc' 'sci.crypt']\n"
     ]
    }
   ],
   "source": [
    "print(df.target_names.unique())"
   ]
  },
  {
   "cell_type": "code",
   "execution_count": 8,
   "metadata": {},
   "outputs": [
    {
     "data": {
      "text/plain": [
       "Index(['content', 'target', 'target_names'], dtype='object')"
      ]
     },
     "execution_count": 8,
     "metadata": {},
     "output_type": "execute_result"
    }
   ],
   "source": [
    "df.columns"
   ]
  },
  {
   "cell_type": "markdown",
   "metadata": {},
   "source": [
    "# 3)-Data preprocessing"
   ]
  },
  {
   "cell_type": "markdown",
   "metadata": {},
   "source": [
    "### 3.1)-Prepare Stopwords"
   ]
  },
  {
   "cell_type": "code",
   "execution_count": 9,
   "metadata": {},
   "outputs": [],
   "source": [
    "from nltk.corpus import stopwords\n",
    "stop_words = stopwords.words('english')\n",
    "# we can always modify our stopword list\n",
    "stop_words.extend(['from', 'subject', 're', 'edu', 'use'])"
   ]
  },
  {
   "cell_type": "markdown",
   "metadata": {},
   "source": [
    "### 3.2)-emails letters, newline and extra spaces"
   ]
  },
  {
   "cell_type": "markdown",
   "metadata": {},
   "source": [
    "As our key feature is content so, we will perform all preprocessing step over this one. Let's make it a list first"
   ]
  },
  {
   "cell_type": "code",
   "execution_count": 10,
   "metadata": {},
   "outputs": [],
   "source": [
    "# Convert to list\n",
    "data = df.content.values.tolist()"
   ]
  },
  {
   "cell_type": "code",
   "execution_count": 11,
   "metadata": {},
   "outputs": [
    {
     "data": {
      "text/plain": [
       "list"
      ]
     },
     "execution_count": 11,
     "metadata": {},
     "output_type": "execute_result"
    }
   ],
   "source": [
    "type(data)"
   ]
  },
  {
   "cell_type": "code",
   "execution_count": 12,
   "metadata": {},
   "outputs": [
    {
     "name": "stdout",
     "output_type": "stream",
     "text": [
      "(\"From: lerxst@wam.umd.edu (where's my thing)\\n\"\n",
      " 'Subject: WHAT car is this!?\\n'\n",
      " 'Nntp-Posting-Host: rac3.wam.umd.edu\\n'\n",
      " 'Organization: University of Maryland, College Park\\n'\n",
      " 'Lines: 15\\n'\n",
      " '\\n'\n",
      " ' I was wondering if anyone out there could enlighten me on this car I saw\\n'\n",
      " 'the other day. It was a 2-door sports car, looked to be from the late 60s/\\n'\n",
      " 'early 70s. It was called a Bricklin. The doors were really small. In '\n",
      " 'addition,\\n'\n",
      " 'the front bumper was separate from the rest of the body. This is \\n'\n",
      " 'all I know. If anyone can tellme a model name, engine specs, years\\n'\n",
      " 'of production, where this car is made, history, or whatever info you\\n'\n",
      " 'have on this funky looking car, please e-mail.\\n'\n",
      " '\\n'\n",
      " 'Thanks,\\n'\n",
      " '- IL\\n'\n",
      " '   ---- brought to you by your neighborhood Lerxst ----\\n'\n",
      " '\\n'\n",
      " '\\n'\n",
      " '\\n'\n",
      " '\\n')\n"
     ]
    }
   ],
   "source": [
    "pprint(data[0])"
   ]
  },
  {
   "cell_type": "code",
   "execution_count": 13,
   "metadata": {},
   "outputs": [],
   "source": [
    "# Remove Emails\n",
    "data = [re.sub(r'\\S*@\\S*\\s?', '', sent) for sent in data]"
   ]
  },
  {
   "cell_type": "code",
   "execution_count": 14,
   "metadata": {},
   "outputs": [],
   "source": [
    "# Remove new line characters\n",
    "data = [re.sub(r'\\s+', ' ', sent) for sent in data]"
   ]
  },
  {
   "cell_type": "code",
   "execution_count": 15,
   "metadata": {},
   "outputs": [],
   "source": [
    "# Remove distracting single quotes\n",
    "data = [re.sub(\"\\'\", \"\", sent) for sent in data]"
   ]
  },
  {
   "cell_type": "code",
   "execution_count": 16,
   "metadata": {},
   "outputs": [
    {
     "name": "stdout",
     "output_type": "stream",
     "text": [
      "('From: (wheres my thing) Subject: WHAT car is this!? Nntp-Posting-Host: '\n",
      " 'rac3.wam.umd.edu Organization: University of Maryland, College Park Lines: '\n",
      " '15 I was wondering if anyone out there could enlighten me on this car I saw '\n",
      " 'the other day. It was a 2-door sports car, looked to be from the late 60s/ '\n",
      " 'early 70s. It was called a Bricklin. The doors were really small. In '\n",
      " 'addition, the front bumper was separate from the rest of the body. This is '\n",
      " 'all I know. If anyone can tellme a model name, engine specs, years of '\n",
      " 'production, where this car is made, history, or whatever info you have on '\n",
      " 'this funky looking car, please e-mail. Thanks, - IL ---- brought to you by '\n",
      " 'your neighborhood Lerxst ---- ')\n"
     ]
    }
   ],
   "source": [
    "pprint(data[0])"
   ]
  },
  {
   "cell_type": "markdown",
   "metadata": {},
   "source": [
    "### 3.3)- Tokenize words and Clean-up text\n",
    "We need to break down each sentence into a list of words through tokenization, while clearing up all the messy text in the process.\n",
    "\n",
    "Gensim’s **simple_preprocess** is great for this."
   ]
  },
  {
   "cell_type": "code",
   "execution_count": 17,
   "metadata": {},
   "outputs": [],
   "source": [
    "def sent_to_words(sentences):\n",
    "    for sentence in sentences:\n",
    "        yield(gensim.utils.simple_preprocess(str(sentence), deacc=True))  # deacc=True removes punctuations\n",
    "\n",
    "data_words = list(sent_to_words(data))"
   ]
  },
  {
   "cell_type": "code",
   "execution_count": 18,
   "metadata": {},
   "outputs": [
    {
     "name": "stdout",
     "output_type": "stream",
     "text": [
      "['from', 'wheres', 'my', 'thing', 'subject', 'what', 'car', 'is', 'this', 'nntp', 'posting', 'host', 'rac', 'wam', 'umd', 'edu', 'organization', 'university', 'of', 'maryland', 'college', 'park', 'lines', 'was', 'wondering', 'if', 'anyone', 'out', 'there', 'could', 'enlighten', 'me', 'on', 'this', 'car', 'saw', 'the', 'other', 'day', 'it', 'was', 'door', 'sports', 'car', 'looked', 'to', 'be', 'from', 'the', 'late', 'early', 'it', 'was', 'called', 'bricklin', 'the', 'doors', 'were', 'really', 'small', 'in', 'addition', 'the', 'front', 'bumper', 'was', 'separate', 'from', 'the', 'rest', 'of', 'the', 'body', 'this', 'is', 'all', 'know', 'if', 'anyone', 'can', 'tellme', 'model', 'name', 'engine', 'specs', 'years', 'of', 'production', 'where', 'this', 'car', 'is', 'made', 'history', 'or', 'whatever', 'info', 'you', 'have', 'on', 'this', 'funky', 'looking', 'car', 'please', 'mail', 'thanks', 'il', 'brought', 'to', 'you', 'by', 'your', 'neighborhood', 'lerxst']\n"
     ]
    }
   ],
   "source": [
    "print(data_words[0])"
   ]
  },
  {
   "cell_type": "markdown",
   "metadata": {},
   "source": [
    "### 3.4)-Creating Bigram and Trigram Models\n",
    "\n",
    "Bigrams are two words frequently occurring together in the document. Trigrams are 3 words frequently occurring.\n",
    "\n",
    "Some examples in our example are: ‘front_bumper’, ‘oil_leak’, ‘maryland_college_park’ etc.\n",
    "\n",
    "Gensim’s 'Phrases' model can build and implement the bigrams, trigrams, quadgrams and more. The two important arguments to Phrases are 'min_count' and 'threshold'. The higher the values of these param, the harder it is for words to be combined to bigrams."
   ]
  },
  {
   "cell_type": "code",
   "execution_count": 19,
   "metadata": {},
   "outputs": [
    {
     "name": "stdout",
     "output_type": "stream",
     "text": [
      "['from', 'wheres', 'my', 'thing', 'subject', 'what', 'car', 'is', 'this', 'nntp_posting_host', 'rac_wam_umd_edu', 'organization', 'university', 'of', 'maryland_college_park', 'lines', 'was', 'wondering', 'if', 'anyone', 'out', 'there', 'could', 'enlighten', 'me', 'on', 'this', 'car', 'saw', 'the', 'other', 'day', 'it', 'was', 'door', 'sports', 'car', 'looked', 'to', 'be', 'from', 'the', 'late', 'early', 'it', 'was', 'called', 'bricklin', 'the', 'doors', 'were', 'really', 'small', 'in', 'addition', 'the', 'front_bumper', 'was', 'separate', 'from', 'the', 'rest', 'of', 'the', 'body', 'this', 'is', 'all', 'know', 'if', 'anyone', 'can', 'tellme', 'model', 'name', 'engine', 'specs', 'years', 'of', 'production', 'where', 'this', 'car', 'is', 'made', 'history', 'or', 'whatever', 'info', 'you', 'have', 'on', 'this', 'funky', 'looking', 'car', 'please', 'mail', 'thanks', 'il', 'brought', 'to', 'you', 'by', 'your', 'neighborhood', 'lerxst']\n"
     ]
    }
   ],
   "source": [
    "# Build the bigram and trigram models\n",
    "bigram = gensim.models.Phrases(data_words, min_count=5, threshold=100) # higher threshold fewer phrases.\n",
    "trigram = gensim.models.Phrases(bigram[data_words], threshold=100)  \n",
    "\n",
    "# Faster way to get a sentence clubbed as a trigram/bigram\n",
    "bigram_mod = gensim.models.phrases.Phraser(bigram)\n",
    "trigram_mod = gensim.models.phrases.Phraser(trigram)\n",
    "\n",
    "# See trigram example\n",
    "print(trigram_mod[bigram_mod[data_words[0]]])"
   ]
  },
  {
   "cell_type": "markdown",
   "metadata": {},
   "source": [
    "### 3.5)-Remove Stopwords, Make Bigrams and Lemmatize"
   ]
  },
  {
   "cell_type": "code",
   "execution_count": 20,
   "metadata": {},
   "outputs": [],
   "source": [
    "# Define functions for stopwords, bigrams, trigrams and lemmatization\n",
    "def remove_stopwords(texts):\n",
    "    return [[word for word in simple_preprocess(str(doc)) if word not in stop_words] for doc in texts]\n",
    "\n",
    "def make_bigrams(texts):\n",
    "    return [bigram_mod[doc] for doc in texts]\n",
    "\n",
    "def make_trigrams(texts):\n",
    "    return [trigram_mod[bigram_mod[doc]] for doc in texts]\n",
    "\n",
    "def lemmatization(texts, allowed_postags=['NOUN', 'ADJ', 'VERB', 'ADV']):\n",
    "    \"\"\"https://spacy.io/api/annotation\"\"\"\n",
    "    \"\"\"Also adding postags\"\"\"\n",
    "    texts_out = []\n",
    "    for sent in texts:\n",
    "        doc = nlp(\" \".join(sent)) \n",
    "        texts_out.append([token.lemma_ for token in doc if token.pos_ in allowed_postags])\n",
    "    return texts_out"
   ]
  },
  {
   "cell_type": "markdown",
   "metadata": {},
   "source": [
    "Lets call functions now"
   ]
  },
  {
   "cell_type": "code",
   "execution_count": 21,
   "metadata": {},
   "outputs": [],
   "source": [
    "# Remove Stop Words\n",
    "data_words_nostops = remove_stopwords(data_words)\n",
    "\n",
    "# Form Bigrams\n",
    "data_words_bigrams = make_bigrams(data_words_nostops)\n",
    "\n",
    "# Initialize spacy 'en' model, keeping only tagger component (for efficiency)\n",
    "# python3 -m spacy download en\n",
    "nlp = spacy.load('en', disable=['parser', 'ner'])\n",
    "\n",
    "# Do lemmatization keeping only noun, adj, vb, adv\n",
    "data_lemmatized = lemmatization(data_words_bigrams, allowed_postags=['NOUN', 'ADJ', 'VERB', 'ADV'])"
   ]
  },
  {
   "cell_type": "code",
   "execution_count": 23,
   "metadata": {},
   "outputs": [
    {
     "data": {
      "text/plain": [
       "list"
      ]
     },
     "execution_count": 23,
     "metadata": {},
     "output_type": "execute_result"
    }
   ],
   "source": [
    "type(data_lemmatized)"
   ]
  },
  {
   "cell_type": "code",
   "execution_count": 24,
   "metadata": {},
   "outputs": [
    {
     "name": "stdout",
     "output_type": "stream",
     "text": [
      "['where', 's', 'thing', 'car', 'nntp_poste', 'host', 'umd', 'organization', 'university', 'maryland_college', 'park', 'line', 'wonder', 'anyone', 'could', 'enlighten', 'car', 'see', 'day', 'door', 'sport', 'car', 'look', 'late', 'early', 'call', 'bricklin', 'door', 'really', 'small', 'addition', 'front_bumper', 'separate', 'rest', 'body', 'know', 'anyone', 'tellme', 'model', 'name', 'engine', 'specs', 'year', 'production', 'car', 'make', 'history', 'info', 'funky', 'look', 'car', 'mail', 'thank', 'bring', 'neighborhood', 'lerxst']\n"
     ]
    }
   ],
   "source": [
    "print(data_lemmatized[0])"
   ]
  },
  {
   "cell_type": "code",
   "execution_count": 25,
   "metadata": {},
   "outputs": [
    {
     "name": "stdout",
     "output_type": "stream",
     "text": [
      "[['where', 's', 'thing', 'car', 'nntp_poste', 'host', 'umd', 'organization', 'university', 'maryland_college', 'park', 'line', 'wonder', 'anyone', 'could', 'enlighten', 'car', 'see', 'day', 'door', 'sport', 'car', 'look', 'late', 'early', 'call', 'bricklin', 'door', 'really', 'small', 'addition', 'front_bumper', 'separate', 'rest', 'body', 'know', 'anyone', 'tellme', 'model', 'name', 'engine', 'specs', 'year', 'production', 'car', 'make', 'history', 'info', 'funky', 'look', 'car', 'mail', 'thank', 'bring', 'neighborhood', 'lerxst'], ['clock', 'poll', 'final', 'call', 'summary', 'final', 'call', 'si', 'clock', 'report', 'keyword', 'si', 'acceleration', 'clock', 'upgrade', 'article', 'shelley', 'qvfo', 'innc', 'organization', 'university', 'washington', 'line', 'nntp_poste', 'host', 'carson_washington', 'fair', 'number', 'brave', 'soul', 'upgrade', 'si', 'clock', 'oscillator', 'share', 'experience', 'poll', 'send', 'brief', 'message', 'detail', 'experience', 'procedure', 'top', 'speed', 'attain', 'cpu', 'rate', 'speed', 'add', 'card', 'adapter', 'heat_sinks', 'hour', 'usage', 'day', 'floppy_disk', 'functionality', 'floppy', 'especially', 'request', 'summarize', 'next', 'day', 'add', 'network', 'knowledge', 'base', 'do', 'clock', 'upgrade', 'have', 'not', 'answer', 'poll', 'thank']]\n"
     ]
    }
   ],
   "source": [
    "print(data_lemmatized[:2])"
   ]
  },
  {
   "cell_type": "markdown",
   "metadata": {},
   "source": [
    "### 3.6)-Create the Dictionary and Corpus needed for Topic Modeling"
   ]
  },
  {
   "cell_type": "markdown",
   "metadata": {},
   "source": [
    "Two main inputs to the LDA topic model are the **dictionary(id2word)** and the **corpus**."
   ]
  },
  {
   "cell_type": "code",
   "execution_count": 26,
   "metadata": {},
   "outputs": [],
   "source": [
    "# Create Dictionary\n",
    "id2word = corpora.Dictionary(data_lemmatized)\n",
    "\n",
    "# Create Corpus\n",
    "texts = data_lemmatized\n",
    "\n",
    "# Term Document Frequency\n",
    "corpus = [id2word.doc2bow(text) for text in texts]"
   ]
  },
  {
   "cell_type": "code",
   "execution_count": 27,
   "metadata": {},
   "outputs": [
    {
     "data": {
      "text/plain": [
       "11314"
      ]
     },
     "execution_count": 27,
     "metadata": {},
     "output_type": "execute_result"
    }
   ],
   "source": [
    "len(corpus)"
   ]
  },
  {
   "cell_type": "code",
   "execution_count": 28,
   "metadata": {},
   "outputs": [
    {
     "name": "stdout",
     "output_type": "stream",
     "text": [
      "[(0, 1), (1, 2), (2, 1), (3, 1), (4, 1), (5, 1), (6, 5), (7, 1), (8, 1), (9, 2), (10, 1), (11, 1), (12, 1), (13, 1), (14, 1), (15, 1), (16, 1), (17, 1), (18, 1), (19, 1), (20, 1), (21, 1), (22, 2), (23, 1), (24, 1), (25, 1), (26, 1), (27, 1), (28, 1), (29, 1), (30, 1), (31, 1), (32, 1), (33, 1), (34, 1), (35, 1), (36, 1), (37, 1), (38, 1), (39, 1), (40, 1), (41, 1), (42, 1), (43, 1), (44, 1), (45, 1), (46, 1), (47, 1), (48, 1)]\n"
     ]
    }
   ],
   "source": [
    "# View\n",
    "print(corpus[0])"
   ]
  },
  {
   "cell_type": "markdown",
   "metadata": {},
   "source": [
    "Gensim creates a unique id for each word in the document. The produced corpus shown above is a mapping of (word_id, word_frequency).\n",
    "\n",
    "For example, (0, 1) above implies, word id 0 occurs once in the first document. Likewise, word id 1 occurs twice and so on.\n",
    "\n",
    "This is used as the input by the LDA model.\n",
    "\n",
    "If you want to see what word a given id corresponds to, pass the id as a key to the dictionary."
   ]
  },
  {
   "cell_type": "code",
   "execution_count": 29,
   "metadata": {},
   "outputs": [
    {
     "name": "stdout",
     "output_type": "stream",
     "text": [
      "addition\n",
      "anyone\n"
     ]
    }
   ],
   "source": [
    "print(id2word[0])\n",
    "print(id2word[1])"
   ]
  },
  {
   "cell_type": "markdown",
   "metadata": {},
   "source": [
    "Or, you can see a human-readable form of the corpus itself."
   ]
  },
  {
   "cell_type": "code",
   "execution_count": 30,
   "metadata": {},
   "outputs": [
    {
     "data": {
      "text/plain": [
       "[[('addition', 1),\n",
       "  ('anyone', 2),\n",
       "  ('body', 1),\n",
       "  ('bricklin', 1),\n",
       "  ('bring', 1),\n",
       "  ('call', 1),\n",
       "  ('car', 5),\n",
       "  ('could', 1),\n",
       "  ('day', 1),\n",
       "  ('door', 2),\n",
       "  ('early', 1),\n",
       "  ('engine', 1),\n",
       "  ('enlighten', 1),\n",
       "  ('front_bumper', 1),\n",
       "  ('funky', 1),\n",
       "  ('history', 1),\n",
       "  ('host', 1),\n",
       "  ('info', 1),\n",
       "  ('know', 1),\n",
       "  ('late', 1),\n",
       "  ('lerxst', 1),\n",
       "  ('line', 1),\n",
       "  ('look', 2),\n",
       "  ('mail', 1),\n",
       "  ('make', 1),\n",
       "  ('maryland_college', 1),\n",
       "  ('model', 1),\n",
       "  ('name', 1),\n",
       "  ('neighborhood', 1),\n",
       "  ('nntp_poste', 1),\n",
       "  ('organization', 1),\n",
       "  ('park', 1),\n",
       "  ('production', 1),\n",
       "  ('really', 1),\n",
       "  ('rest', 1),\n",
       "  ('s', 1),\n",
       "  ('see', 1),\n",
       "  ('separate', 1),\n",
       "  ('small', 1),\n",
       "  ('specs', 1),\n",
       "  ('sport', 1),\n",
       "  ('tellme', 1),\n",
       "  ('thank', 1),\n",
       "  ('thing', 1),\n",
       "  ('umd', 1),\n",
       "  ('university', 1),\n",
       "  ('where', 1),\n",
       "  ('wonder', 1),\n",
       "  ('year', 1)]]"
      ]
     },
     "execution_count": 30,
     "metadata": {},
     "output_type": "execute_result"
    }
   ],
   "source": [
    "# Human readable format of corpus (term-frequency)\n",
    "[[(id2word[id], freq) for id, freq in cp] for cp in corpus[:1]]"
   ]
  },
  {
   "cell_type": "markdown",
   "metadata": {},
   "source": [
    "# 4)- LDA Model\n",
    "We have everything required to train the LDA model. In addition to the **corpus and dictionary**, you need to provide the **number of topics** as well.\n",
    "\n",
    "Apart from that, **alpha** and **eta** are hyperparameters that affect sparsity of the topics. According to the Gensim docs, both defaults to 1.0/num_topics prior.\n",
    "\n",
    "**chunksize** is the number of documents to be used in each training chunk. **update_every** determines how often the model parameters should be updated and **passes** is the total number of training passes."
   ]
  },
  {
   "cell_type": "code",
   "execution_count": 31,
   "metadata": {},
   "outputs": [],
   "source": [
    "# Build LDA model\n",
    "lda_model = gensim.models.ldamodel.LdaModel(corpus=corpus,\n",
    "                                           id2word=id2word,\n",
    "                                           num_topics=20, \n",
    "                                           random_state=100,\n",
    "                                           update_every=1,\n",
    "                                           chunksize=100,\n",
    "                                           passes=10,\n",
    "                                           alpha='auto',\n",
    "                                           per_word_topics=True)"
   ]
  },
  {
   "cell_type": "markdown",
   "metadata": {},
   "source": [
    "### 4.1)-View the topics in LDA model\n",
    "The above LDA model is built with 20 different topics where each topic is a combination of keywords and each keyword contributes a certain weightage to the topic.\n",
    "\n",
    "You can see the keywords for each topic and the weightage(importance) of each keyword using **lda_model.print_topics()**."
   ]
  },
  {
   "cell_type": "code",
   "execution_count": 32,
   "metadata": {},
   "outputs": [
    {
     "name": "stdout",
     "output_type": "stream",
     "text": [
      "[(0,\n",
      "  '0.051*\"mhz\" + 0.042*\"professional\" + 0.035*\"jeff\" + 0.028*\"microsoft\" + '\n",
      "  '0.026*\"lee\" + 0.026*\"dos\" + 0.024*\"pennsylvania\" + 0.019*\"upenn\" + '\n",
      "  '0.018*\"toolkit\" + 0.017*\"borland\"'),\n",
      " (1,\n",
      "  '0.016*\"god\" + 0.013*\"christian\" + 0.012*\"believe\" + 0.011*\"may\" + '\n",
      "  '0.010*\"claim\" + 0.010*\"would\" + 0.010*\"mean\" + 0.010*\"say\" + 0.009*\"word\" + '\n",
      "  '0.009*\"point\"'),\n",
      " (2,\n",
      "  '0.124*\"israel\" + 0.091*\"israeli\" + 0.061*\"arab\" + 0.044*\"case_western\" + '\n",
      "  '0.043*\"reserve_university\" + 0.029*\"palestinian\" + 0.024*\"policy_research\" '\n",
      "  '+ 0.016*\"center\" + 0.014*\"host_hela\" + 0.013*\"kent\"'),\n",
      " (3,\n",
      "  '0.036*\"command\" + 0.035*\"morning\" + 0.034*\"gay\" + 0.031*\"marriage\" + '\n",
      "  '0.031*\"sex\" + 0.030*\"homosexual\" + 0.027*\"husband\" + 0.026*\"count\" + '\n",
      "  '0.021*\"marry\" + 0.020*\"gospel\"'),\n",
      " (4,\n",
      "  '0.134*\"key\" + 0.049*\"encryption\" + 0.039*\"font\" + 0.035*\"clipper\" + '\n",
      "  '0.034*\"clipper_chip\" + 0.027*\"security\" + 0.025*\"algorithm\" + '\n",
      "  '0.024*\"secure\" + 0.023*\"proposal\" + 0.022*\"nsa\"'),\n",
      " (5,\n",
      "  '0.027*\"loop\" + 0.015*\"bend\" + 0.010*\"working\" + 0.005*\"breed\" + '\n",
      "  '0.003*\"caller\" + 0.000*\"wing\" + 0.000*\"wire\" + 0.000*\"pipe\" + '\n",
      "  '0.000*\"fuselage\" + 0.000*\"wind\"'),\n",
      " (6,\n",
      "  '0.028*\"say\" + 0.021*\"people\" + 0.019*\"go\" + 0.014*\"come\" + 0.013*\"time\" + '\n",
      "  '0.013*\"day\" + 0.012*\"take\" + 0.011*\"see\" + 0.011*\"not\" + 0.009*\"tell\"'),\n",
      " (7,\n",
      "  '0.197*\"space\" + 0.033*\"satellite\" + 0.033*\"water\" + 0.029*\"flight\" + '\n",
      "  '0.026*\"band\" + 0.025*\"station\" + 0.018*\"mar\" + 0.014*\"international\" + '\n",
      "  '0.014*\"music\" + 0.014*\"gov\"'),\n",
      " (8,\n",
      "  '0.041*\"government\" + 0.033*\"gun\" + 0.029*\"law\" + 0.028*\"state\" + '\n",
      "  '0.019*\"right\" + 0.016*\"public\" + 0.016*\"american\" + 0.014*\"police\" + '\n",
      "  '0.014*\"country\" + 0.014*\"criminal\"'),\n",
      " (9,\n",
      "  '0.040*\"year\" + 0.034*\"game\" + 0.033*\"team\" + 0.022*\"play\" + 0.022*\"win\" + '\n",
      "  '0.019*\"player\" + 0.015*\"hockey\" + 0.013*\"season\" + 0.013*\"first\" + '\n",
      "  '0.012*\"hit\"'),\n",
      " (10,\n",
      "  '0.052*\"package\" + 0.043*\"apr\" + 0.032*\"medical\" + 0.027*\"bbs\" + '\n",
      "  '0.025*\"medicine\" + 0.024*\"disease\" + 0.023*\"patient\" + 0.021*\"ohio_state\" + '\n",
      "  '0.020*\"last_night\" + 0.018*\"newsletter\"'),\n",
      " (11,\n",
      "  '0.055*\"jim\" + 0.035*\"gordon_bank\" + 0.033*\"pittsburgh\" + 0.027*\"surrender\" '\n",
      "  '+ 0.024*\"gordon_banks\" + 0.022*\"jet\" + 0.018*\"chastity\" + 0.018*\"intellect\" '\n",
      "  '+ 0.017*\"shameful\" + 0.017*\"soon\"'),\n",
      " (12,\n",
      "  '0.859*\"ax\" + 0.061*\"max\" + 0.003*\"usenet\" + 0.003*\"byte\" + 0.003*\"cd\" + '\n",
      "  '0.002*\"quadra\" + 0.002*\"counter\" + 0.002*\"centris\" + 0.002*\"alaska\" + '\n",
      "  '0.001*\"assistance\"'),\n",
      " (13,\n",
      "  '0.061*\"circuit\" + 0.061*\"league\" + 0.050*\"baseball\" + 0.042*\"directory\" + '\n",
      "  '0.042*\"front\" + 0.029*\"bob\" + 0.029*\"uk\" + 0.024*\"pub\" + 0.023*\"wear\" + '\n",
      "  '0.022*\"duke\"'),\n",
      " (14,\n",
      "  '0.019*\"system\" + 0.018*\"use\" + 0.015*\"thank\" + 0.014*\"line\" + '\n",
      "  '0.013*\"information\" + 0.012*\"new\" + 0.012*\"also\" + 0.011*\"mail\" + '\n",
      "  '0.011*\"file\" + 0.010*\"include\"'),\n",
      " (15,\n",
      "  '0.235*\"drive\" + 0.070*\"disk\" + 0.038*\"andrew\" + 0.037*\"unix\" + '\n",
      "  '0.018*\"sleep\" + 0.018*\"correctly\" + 0.018*\"waco\" + 0.016*\"cult\" + '\n",
      "  '0.014*\"public_access\" + 0.012*\"bureau\"'),\n",
      " (16,\n",
      "  '0.043*\"not\" + 0.031*\"line\" + 0.030*\"organization\" + 0.029*\"do\" + '\n",
      "  '0.028*\"write\" + 0.024*\"be\" + 0.023*\"article\" + 0.021*\"would\" + 0.020*\"get\" '\n",
      "  '+ 0.017*\"know\"'),\n",
      " (17,\n",
      "  '0.073*\"window\" + 0.065*\"card\" + 0.037*\"chip\" + 0.030*\"driver\" + '\n",
      "  '0.027*\"color\" + 0.026*\"graphic\" + 0.025*\"bit\" + 0.022*\"mode\" + '\n",
      "  '0.020*\"problem\" + 0.020*\"board\"'),\n",
      " (18,\n",
      "  '0.038*\"air\" + 0.029*\"hall\" + 0.025*\"purchase\" + 0.025*\"discipline\" + '\n",
      "  '0.024*\"michigan\" + 0.023*\"van\" + 0.023*\"coverage\" + 0.022*\"archive\" + '\n",
      "  '0.021*\"panel\" + 0.021*\"complain\"'),\n",
      " (19,\n",
      "  '0.099*\"image\" + 0.034*\"earth\" + 0.030*\"moon\" + 0.026*\"spacecraft\" + '\n",
      "  '0.025*\"islam\" + 0.025*\"orbit\" + 0.024*\"scientist\" + 0.021*\"planet\" + '\n",
      "  '0.018*\"default\" + 0.016*\"comet\"')]\n"
     ]
    }
   ],
   "source": [
    "# Print the Keyword in the 10 topics\n",
    "pprint(lda_model.print_topics())\n",
    "doc_lda = lda_model[corpus]"
   ]
  },
  {
   "cell_type": "markdown",
   "metadata": {},
   "source": [
    "Topic 0 is a represented as **'0.193*\"game\" + 0.085*\"hockey\" + 0.044*\"league\" + 0.037*\"chicago\" + '\n",
    "  '0.036*\"baseball\" + 0.024*\"play\" + 0.024*\"blue\" + 0.024*\"shot\" + '\n",
    "  '0.022*\"hall\" + 0.021*\"penalty”.**\n",
    "\n",
    "It means the top 10 keywords that contribute to this topic are: ‘game’, ‘hockey’, ‘league’.. and so on and the weight of ‘ga,e’ on topic 0 is 0.193.\n",
    "\n",
    "The weights reflect how important a keyword is to that topic.\n",
    "\n",
    "Looking at these keywords, can you guess what this topic could be? You may summarise it either are ‘sports’ or ‘hockey-game’.\n",
    "\n",
    "Likewise, can you go through the remaining topic keywords and judge what the topic is"
   ]
  },
  {
   "cell_type": "markdown",
   "metadata": {},
   "source": [
    "### 4.2)- Compute Model Perplexity and Coherence Score\n",
    "Model perplexity and topic coherence provide a convenient measure to judge how good a given topic model is."
   ]
  },
  {
   "cell_type": "code",
   "execution_count": 33,
   "metadata": {},
   "outputs": [
    {
     "name": "stdout",
     "output_type": "stream",
     "text": [
      "\n",
      "Perplexity:  -14.704476734613515\n",
      "\n",
      "Coherence Score:  0.48147264926535244\n"
     ]
    }
   ],
   "source": [
    "# Compute Perplexity\n",
    "print('\\nPerplexity: ', lda_model.log_perplexity(corpus))  # a measure of how good the model is. lower the better.\n",
    "\n",
    "# Compute Coherence Score\n",
    "coherence_model_lda = CoherenceModel(model=lda_model, texts=data_lemmatized, dictionary=id2word, coherence='c_v')\n",
    "coherence_lda = coherence_model_lda.get_coherence()\n",
    "print('\\nCoherence Score: ', coherence_lda)"
   ]
  },
  {
   "cell_type": "markdown",
   "metadata": {},
   "source": [
    "### 4.3)-Visualize the topics-keywords"
   ]
  },
  {
   "cell_type": "code",
   "execution_count": 34,
   "metadata": {},
   "outputs": [
    {
     "name": "stderr",
     "output_type": "stream",
     "text": [
      "C:\\Program Files\\Anaconda3\\lib\\site-packages\\numexpr\\cpuinfo.py:109: DeprecationWarning: invalid escape sequence \\d\n",
      "  nbits = re.compile('(\\d+)bit').search(abits).group(1)\n",
      "C:\\Program Files\\Anaconda3\\lib\\site-packages\\numexpr\\cpuinfo.py:662: DeprecationWarning: invalid escape sequence \\s\n",
      "  \"\\s+stepping\\s+(?P<STP>\\d+)\", re.IGNORECASE)\n"
     ]
    },
    {
     "data": {
      "text/html": [
       "\n",
       "<link rel=\"stylesheet\" type=\"text/css\" href=\"https://cdn.rawgit.com/bmabey/pyLDAvis/files/ldavis.v1.0.0.css\">\n",
       "\n",
       "\n",
       "<div id=\"ldavis_el677622883323734725056657014\"></div>\n",
       "<script type=\"text/javascript\">\n",
       "\n",
       "var ldavis_el677622883323734725056657014_data = {\"mdsDat\": {\"x\": [-0.38151716155438914, -0.35379879435637246, -0.3004045163612718, -0.33576298332830534, -0.16900550397344485, -0.08680102080993915, -0.11996824061775492, -0.037246874750963874, 0.13093661388167424, 0.10666446212053772, 0.13106082060292334, 0.12935035421035865, 0.13395029326975386, 0.14774040119873008, 0.15099433552395275, 0.14424960232795264, 0.15484313538662786, 0.1801356093988009, 0.1756860787351275, 0.19889338909600318], \"y\": [0.09851046894582613, 0.09759020189950299, 0.011901704988220872, 0.10018122198044009, -0.0878746401922843, -0.4416645733522046, -0.010540604690520192, -0.09468794517597329, 0.014550109105622598, 0.018544127848884942, 0.015475354769102447, 0.019005483252942986, 0.024069840650201964, 0.027087687460040484, 0.02695232610466289, 0.02274154419605621, 0.0315609230621156, 0.03977904335683424, 0.039747001067405106, 0.04707072472312189], \"topics\": [1, 2, 3, 4, 5, 6, 7, 8, 9, 10, 11, 12, 13, 14, 15, 16, 17, 18, 19, 20], \"cluster\": [1, 1, 1, 1, 1, 1, 1, 1, 1, 1, 1, 1, 1, 1, 1, 1, 1, 1, 1, 1], \"Freq\": [31.125778198242188, 16.88612174987793, 15.980350494384766, 13.449507713317871, 5.485383033752441, 4.51528263092041, 3.470651388168335, 3.0892860889434814, 0.8267597556114197, 0.7861150503158569, 0.713013768196106, 0.6798061728477478, 0.657886803150177, 0.5450354218482971, 0.5138079524040222, 0.5128750801086426, 0.3270411193370819, 0.237870991230011, 0.1651659607887268, 0.03225860372185707]}, \"tinfo\": {\"Category\": [\"Default\", \"Default\", \"Default\", \"Default\", \"Default\", \"Default\", \"Default\", \"Default\", \"Default\", \"Default\", \"Default\", \"Default\", \"Default\", \"Default\", \"Default\", \"Default\", \"Default\", \"Default\", \"Default\", \"Default\", \"Default\", \"Default\", \"Default\", \"Default\", \"Default\", \"Default\", \"Default\", \"Default\", \"Default\", \"Default\", \"Topic1\", \"Topic1\", \"Topic1\", \"Topic1\", \"Topic1\", \"Topic1\", \"Topic1\", \"Topic1\", \"Topic1\", \"Topic1\", \"Topic1\", \"Topic1\", \"Topic1\", \"Topic1\", \"Topic1\", \"Topic1\", \"Topic1\", \"Topic1\", \"Topic1\", \"Topic1\", \"Topic1\", \"Topic1\", \"Topic1\", \"Topic1\", \"Topic1\", \"Topic1\", \"Topic1\", \"Topic1\", \"Topic1\", \"Topic1\", \"Topic1\", \"Topic1\", \"Topic1\", \"Topic1\", \"Topic1\", \"Topic1\", \"Topic1\", \"Topic1\", \"Topic1\", \"Topic1\", \"Topic1\", \"Topic1\", \"Topic1\", \"Topic1\", \"Topic1\", \"Topic1\", \"Topic1\", \"Topic1\", \"Topic1\", \"Topic1\", \"Topic1\", \"Topic1\", \"Topic1\", \"Topic1\", \"Topic1\", \"Topic1\", \"Topic1\", \"Topic1\", \"Topic1\", \"Topic1\", \"Topic1\", \"Topic1\", \"Topic1\", \"Topic1\", \"Topic1\", \"Topic1\", \"Topic2\", \"Topic2\", \"Topic2\", \"Topic2\", \"Topic2\", \"Topic2\", \"Topic2\", \"Topic2\", \"Topic2\", \"Topic2\", \"Topic2\", \"Topic2\", \"Topic2\", \"Topic2\", \"Topic2\", \"Topic2\", \"Topic2\", \"Topic2\", \"Topic2\", \"Topic2\", \"Topic2\", \"Topic2\", \"Topic2\", \"Topic2\", \"Topic2\", \"Topic2\", \"Topic2\", \"Topic2\", \"Topic2\", \"Topic2\", \"Topic2\", \"Topic2\", \"Topic2\", \"Topic2\", \"Topic2\", \"Topic2\", \"Topic2\", \"Topic2\", \"Topic2\", \"Topic2\", \"Topic2\", \"Topic2\", \"Topic2\", \"Topic2\", \"Topic2\", \"Topic2\", \"Topic2\", \"Topic2\", \"Topic2\", \"Topic2\", \"Topic2\", \"Topic2\", \"Topic2\", \"Topic2\", \"Topic2\", \"Topic2\", \"Topic2\", \"Topic2\", \"Topic2\", \"Topic2\", \"Topic2\", \"Topic2\", \"Topic2\", \"Topic2\", \"Topic3\", \"Topic3\", \"Topic3\", \"Topic3\", \"Topic3\", \"Topic3\", \"Topic3\", \"Topic3\", \"Topic3\", \"Topic3\", \"Topic3\", \"Topic3\", \"Topic3\", \"Topic3\", \"Topic3\", \"Topic3\", \"Topic3\", \"Topic3\", \"Topic3\", \"Topic3\", \"Topic3\", \"Topic3\", \"Topic3\", \"Topic3\", \"Topic3\", \"Topic3\", \"Topic3\", \"Topic3\", \"Topic3\", \"Topic3\", \"Topic3\", \"Topic3\", \"Topic3\", \"Topic3\", \"Topic3\", \"Topic3\", \"Topic3\", \"Topic3\", \"Topic3\", \"Topic3\", \"Topic3\", \"Topic3\", \"Topic3\", \"Topic3\", \"Topic3\", \"Topic3\", \"Topic3\", \"Topic3\", \"Topic3\", \"Topic3\", \"Topic3\", \"Topic3\", \"Topic3\", \"Topic3\", \"Topic3\", \"Topic3\", \"Topic3\", \"Topic4\", \"Topic4\", \"Topic4\", \"Topic4\", \"Topic4\", \"Topic4\", \"Topic4\", \"Topic4\", \"Topic4\", \"Topic4\", \"Topic4\", \"Topic4\", \"Topic4\", \"Topic4\", \"Topic4\", \"Topic4\", \"Topic4\", \"Topic4\", \"Topic4\", \"Topic4\", \"Topic4\", \"Topic4\", \"Topic4\", \"Topic4\", \"Topic4\", \"Topic4\", \"Topic4\", \"Topic4\", \"Topic4\", \"Topic4\", \"Topic4\", \"Topic4\", \"Topic4\", \"Topic4\", \"Topic4\", \"Topic4\", \"Topic4\", \"Topic4\", \"Topic4\", \"Topic4\", \"Topic4\", \"Topic4\", \"Topic4\", \"Topic4\", \"Topic4\", \"Topic4\", \"Topic4\", \"Topic4\", \"Topic4\", \"Topic4\", \"Topic4\", \"Topic4\", \"Topic4\", \"Topic4\", \"Topic4\", \"Topic4\", \"Topic4\", \"Topic4\", \"Topic4\", \"Topic4\", \"Topic5\", \"Topic5\", \"Topic5\", \"Topic5\", \"Topic5\", \"Topic5\", \"Topic5\", \"Topic5\", \"Topic5\", \"Topic5\", \"Topic5\", \"Topic5\", \"Topic5\", \"Topic5\", \"Topic5\", \"Topic5\", \"Topic5\", \"Topic5\", \"Topic5\", \"Topic5\", \"Topic5\", \"Topic5\", \"Topic5\", \"Topic5\", \"Topic5\", \"Topic5\", \"Topic5\", \"Topic5\", \"Topic5\", \"Topic5\", \"Topic5\", \"Topic5\", \"Topic5\", \"Topic5\", \"Topic5\", \"Topic5\", \"Topic5\", \"Topic5\", \"Topic5\", \"Topic5\", \"Topic5\", \"Topic5\", \"Topic5\", \"Topic6\", \"Topic6\", \"Topic6\", \"Topic6\", \"Topic6\", \"Topic6\", \"Topic6\", \"Topic6\", \"Topic6\", \"Topic6\", \"Topic6\", \"Topic6\", \"Topic6\", \"Topic6\", \"Topic6\", \"Topic6\", \"Topic6\", \"Topic6\", \"Topic6\", \"Topic6\", \"Topic6\", \"Topic6\", \"Topic6\", \"Topic6\", \"Topic6\", \"Topic6\", \"Topic6\", \"Topic6\", \"Topic6\", \"Topic6\", \"Topic6\", \"Topic6\", \"Topic6\", \"Topic6\", \"Topic6\", \"Topic7\", \"Topic7\", \"Topic7\", \"Topic7\", \"Topic7\", \"Topic7\", \"Topic7\", \"Topic7\", \"Topic7\", \"Topic7\", \"Topic7\", \"Topic7\", \"Topic7\", \"Topic7\", \"Topic7\", \"Topic7\", \"Topic7\", \"Topic7\", \"Topic7\", \"Topic7\", \"Topic7\", \"Topic7\", \"Topic7\", \"Topic7\", \"Topic7\", \"Topic7\", \"Topic7\", \"Topic7\", \"Topic7\", \"Topic7\", \"Topic7\", \"Topic7\", \"Topic7\", \"Topic7\", \"Topic7\", \"Topic7\", \"Topic7\", \"Topic7\", \"Topic7\", \"Topic7\", \"Topic7\", \"Topic7\", \"Topic7\", \"Topic7\", \"Topic7\", \"Topic7\", \"Topic7\", \"Topic8\", \"Topic8\", \"Topic8\", \"Topic8\", \"Topic8\", \"Topic8\", \"Topic8\", \"Topic8\", \"Topic8\", \"Topic8\", \"Topic8\", \"Topic8\", \"Topic8\", \"Topic8\", \"Topic8\", \"Topic8\", \"Topic8\", \"Topic8\", \"Topic8\", \"Topic8\", \"Topic8\", \"Topic8\", \"Topic8\", \"Topic8\", \"Topic8\", \"Topic8\", \"Topic8\", \"Topic8\", \"Topic8\", \"Topic8\", \"Topic8\", \"Topic8\", \"Topic8\", \"Topic8\", \"Topic8\", \"Topic8\", \"Topic8\", \"Topic8\", \"Topic9\", \"Topic9\", \"Topic9\", \"Topic9\", \"Topic9\", \"Topic9\", \"Topic9\", \"Topic9\", \"Topic9\", \"Topic9\", \"Topic9\", \"Topic9\", \"Topic9\", \"Topic9\", \"Topic9\", \"Topic9\", \"Topic9\", \"Topic9\", \"Topic9\", \"Topic9\", \"Topic9\", \"Topic9\", \"Topic9\", \"Topic9\", \"Topic9\", \"Topic9\", \"Topic9\", \"Topic9\", \"Topic9\", \"Topic9\", \"Topic9\", \"Topic9\", \"Topic9\", \"Topic10\", \"Topic10\", \"Topic10\", \"Topic10\", \"Topic10\", \"Topic10\", \"Topic10\", \"Topic10\", \"Topic10\", \"Topic10\", \"Topic10\", \"Topic10\", \"Topic10\", \"Topic10\", \"Topic10\", \"Topic10\", \"Topic10\", \"Topic10\", \"Topic10\", \"Topic10\", \"Topic10\", \"Topic10\", \"Topic10\", \"Topic10\", \"Topic10\", \"Topic10\", \"Topic10\", \"Topic10\", \"Topic10\", \"Topic10\", \"Topic10\", \"Topic10\", \"Topic10\", \"Topic10\", \"Topic10\", \"Topic10\", \"Topic10\", \"Topic10\", \"Topic11\", \"Topic11\", \"Topic11\", \"Topic11\", \"Topic11\", \"Topic11\", \"Topic11\", \"Topic11\", \"Topic11\", \"Topic11\", \"Topic11\", \"Topic11\", \"Topic11\", \"Topic11\", \"Topic11\", \"Topic11\", \"Topic11\", \"Topic11\", \"Topic11\", \"Topic11\", \"Topic11\", \"Topic11\", \"Topic11\", \"Topic11\", \"Topic11\", \"Topic11\", \"Topic11\", \"Topic11\", \"Topic11\", \"Topic11\", \"Topic11\", \"Topic11\", \"Topic12\", \"Topic12\", \"Topic12\", \"Topic12\", \"Topic12\", \"Topic12\", \"Topic12\", \"Topic12\", \"Topic12\", \"Topic12\", \"Topic12\", \"Topic12\", \"Topic12\", \"Topic12\", \"Topic12\", \"Topic12\", \"Topic12\", \"Topic12\", \"Topic12\", \"Topic12\", \"Topic12\", \"Topic12\", \"Topic12\", \"Topic12\", \"Topic12\", \"Topic12\", \"Topic12\", \"Topic12\", \"Topic12\", \"Topic12\", \"Topic12\", \"Topic12\", \"Topic12\", \"Topic12\", \"Topic12\", \"Topic12\", \"Topic12\", \"Topic12\", \"Topic13\", \"Topic13\", \"Topic13\", \"Topic13\", \"Topic13\", \"Topic13\", \"Topic13\", \"Topic13\", \"Topic13\", \"Topic13\", \"Topic13\", \"Topic13\", \"Topic13\", \"Topic13\", \"Topic13\", \"Topic13\", \"Topic13\", \"Topic13\", \"Topic13\", \"Topic13\", \"Topic13\", \"Topic13\", \"Topic13\", \"Topic13\", \"Topic13\", \"Topic13\", \"Topic13\", \"Topic13\", \"Topic13\", \"Topic13\", \"Topic13\", \"Topic13\", \"Topic13\", \"Topic13\", \"Topic13\", \"Topic13\", \"Topic13\", \"Topic14\", \"Topic14\", \"Topic14\", \"Topic14\", \"Topic14\", \"Topic14\", \"Topic14\", \"Topic14\", \"Topic14\", \"Topic14\", \"Topic14\", \"Topic14\", \"Topic14\", \"Topic14\", \"Topic14\", \"Topic14\", \"Topic14\", \"Topic14\", \"Topic14\", \"Topic14\", \"Topic14\", \"Topic14\", \"Topic14\", \"Topic14\", \"Topic14\", \"Topic14\", \"Topic14\", \"Topic14\", \"Topic14\", \"Topic14\", \"Topic14\", \"Topic15\", \"Topic15\", \"Topic15\", \"Topic15\", \"Topic15\", \"Topic15\", \"Topic15\", \"Topic15\", \"Topic15\", \"Topic15\", \"Topic15\", \"Topic15\", \"Topic15\", \"Topic15\", \"Topic15\", \"Topic15\", \"Topic15\", \"Topic15\", \"Topic15\", \"Topic15\", \"Topic15\", \"Topic15\", \"Topic15\", \"Topic15\", \"Topic15\", \"Topic15\", \"Topic15\", \"Topic15\", \"Topic15\", \"Topic15\", \"Topic15\", \"Topic15\", \"Topic16\", \"Topic16\", \"Topic16\", \"Topic16\", \"Topic16\", \"Topic16\", \"Topic16\", \"Topic16\", \"Topic16\", \"Topic16\", \"Topic16\", \"Topic16\", \"Topic16\", \"Topic16\", \"Topic16\", \"Topic16\", \"Topic16\", \"Topic16\", \"Topic16\", \"Topic16\", \"Topic16\", \"Topic16\", \"Topic16\", \"Topic16\", \"Topic16\", \"Topic16\", \"Topic16\", \"Topic16\", \"Topic16\", \"Topic16\", \"Topic16\", \"Topic16\", \"Topic17\", \"Topic17\", \"Topic17\", \"Topic17\", \"Topic17\", \"Topic17\", \"Topic17\", \"Topic17\", \"Topic17\", \"Topic17\", \"Topic17\", \"Topic17\", \"Topic17\", \"Topic17\", \"Topic17\", \"Topic17\", \"Topic17\", \"Topic17\", \"Topic17\", \"Topic17\", \"Topic17\", \"Topic17\", \"Topic17\", \"Topic17\", \"Topic17\", \"Topic17\", \"Topic17\", \"Topic17\", \"Topic17\", \"Topic17\", \"Topic18\", \"Topic18\", \"Topic18\", \"Topic18\", \"Topic18\", \"Topic18\", \"Topic18\", \"Topic18\", \"Topic18\", \"Topic18\", \"Topic18\", \"Topic18\", \"Topic18\", \"Topic18\", \"Topic18\", \"Topic18\", \"Topic18\", \"Topic18\", \"Topic18\", \"Topic18\", \"Topic18\", \"Topic18\", \"Topic18\", \"Topic18\", \"Topic18\", \"Topic18\", \"Topic18\", \"Topic18\", \"Topic18\", \"Topic18\", \"Topic18\", \"Topic18\", \"Topic18\", \"Topic18\", \"Topic18\", \"Topic18\", \"Topic18\", \"Topic19\", \"Topic19\", \"Topic19\", \"Topic19\", \"Topic19\", \"Topic19\", \"Topic19\", \"Topic19\", \"Topic19\", \"Topic19\", \"Topic19\", \"Topic19\", \"Topic19\", \"Topic19\", \"Topic19\", \"Topic19\", \"Topic19\", \"Topic19\", \"Topic19\", \"Topic19\", \"Topic19\", \"Topic19\", \"Topic19\", \"Topic19\", \"Topic19\", \"Topic19\", \"Topic19\", \"Topic19\", \"Topic19\", \"Topic19\", \"Topic20\", \"Topic20\", \"Topic20\", \"Topic20\", \"Topic20\", \"Topic20\", \"Topic20\", \"Topic20\", \"Topic20\", \"Topic20\", \"Topic20\", \"Topic20\", \"Topic20\", \"Topic20\", \"Topic20\", \"Topic20\", \"Topic20\", \"Topic20\", \"Topic20\", \"Topic20\", \"Topic20\", \"Topic20\", \"Topic20\", \"Topic20\", \"Topic20\", \"Topic20\", \"Topic20\", \"Topic20\", \"Topic20\", \"Topic20\", \"Topic20\", \"Topic20\", \"Topic20\", \"Topic20\", \"Topic20\", \"Topic20\", \"Topic20\", \"Topic20\", \"Topic20\", \"Topic20\", \"Topic20\"], \"Freq\": [61480.0, 24932.0, 18770.0, 14204.0, 4339.0, 16621.0, 11150.0, 3570.0, 15642.0, 12223.0, 5379.0, 10353.0, 3161.0, 2125.0, 2026.0, 4467.0, 10288.0, 5280.0, 7427.0, 2983.0, 3447.0, 4377.0, 2833.0, 1673.0, 7115.0, 8804.0, 2432.0, 2363.0, 13930.0, 3914.0, 11149.1240234375, 4446.76025390625, 2246.18212890625, 2208.04931640625, 1754.8031005859375, 1039.9393310546875, 1026.2108154296875, 1011.9016723632812, 949.8195190429688, 929.3153686523438, 924.625732421875, 893.887451171875, 890.6707763671875, 818.5578002929688, 797.8575439453125, 775.661376953125, 742.9478149414062, 727.1039428710938, 693.2669677734375, 688.070068359375, 671.3772583007812, 620.9988403320312, 589.9169921875, 587.9110107421875, 579.0155029296875, 577.2484741210938, 568.6134033203125, 541.3519897460938, 525.7570190429688, 520.5812377929688, 2388.714111328125, 10064.4619140625, 13843.509765625, 11853.5927734375, 3461.665283203125, 14179.9658203125, 14721.29296875, 3901.5791015625, 21243.529296875, 3793.316650390625, 3009.3798828125, 2494.81689453125, 4645.861328125, 15305.923828125, 1901.1943359375, 5669.95654296875, 8568.69140625, 4612.306640625, 10412.0146484375, 3816.478759765625, 1765.17236328125, 4922.8125, 2636.631103515625, 1502.5274658203125, 5515.55224609375, 5298.6826171875, 3687.1591796875, 3406.47265625, 4124.49267578125, 4000.331787109375, 5159.17333984375, 3107.561279296875, 3390.641357421875, 4025.711669921875, 3383.25927734375, 3695.713134765625, 1961.525146484375, 1662.02490234375, 1502.0306396484375, 1186.2042236328125, 1130.72802734375, 1129.82373046875, 990.8231201171875, 918.1705322265625, 881.1310424804688, 879.99951171875, 840.9588012695312, 818.7001953125, 808.3192138671875, 760.5077514648438, 722.276123046875, 718.2894897460938, 715.4163818359375, 710.8912963867188, 685.0392456054688, 663.0548706054688, 654.0018310546875, 652.1055908203125, 632.569580078125, 556.7858276367188, 544.0567016601562, 531.20361328125, 516.360595703125, 515.2006225585938, 497.4733581542969, 466.91107177734375, 1698.2366943359375, 3473.96240234375, 1213.261474609375, 1689.1368408203125, 955.5830688476562, 1539.087646484375, 1434.3863525390625, 997.16064453125, 7548.31591796875, 5584.3046875, 1111.7275390625, 1629.6741943359375, 3637.25, 1919.02880859375, 3284.432861328125, 4989.72705078125, 2372.07080078125, 1647.6282958984375, 3484.10986328125, 1392.4603271484375, 2874.43896484375, 1747.642333984375, 2107.295166015625, 1939.071044921875, 1195.383056640625, 1820.4212646484375, 1316.1761474609375, 2856.57861328125, 1703.71435546875, 1679.8248291015625, 1628.230712890625, 1733.3271484375, 1660.69287109375, 1492.2056884765625, 3913.56591796875, 2840.227294921875, 2805.597900390625, 2376.389892578125, 2074.432373046875, 1880.26513671875, 1878.5654296875, 1857.8505859375, 1691.8743896484375, 1410.02001953125, 1381.5157470703125, 1360.970703125, 1335.029052734375, 1174.96826171875, 1149.6611328125, 1122.457275390625, 1077.09423828125, 1060.9644775390625, 1048.220458984375, 1014.8355712890625, 1002.1036987304688, 967.8574829101562, 855.909423828125, 776.5232543945312, 767.8297729492188, 742.9468383789062, 2135.1455078125, 729.7153930664062, 700.895263671875, 694.9500732421875, 3177.29443359375, 1501.0303955078125, 1311.169921875, 2415.800048828125, 1555.56298828125, 4879.44091796875, 1804.9681396484375, 2520.7744140625, 1716.3890380859375, 1568.5858154296875, 1602.89697265625, 1401.4420166015625, 1287.6458740234375, 1850.9384765625, 4439.63427734375, 3109.538330078125, 2506.5810546875, 3042.947998046875, 2011.7958984375, 3463.351806640625, 2058.936767578125, 2043.2706298828125, 1833.0927734375, 2122.360107421875, 1628.3079833984375, 1899.0313720703125, 1682.464599609375, 3386.77978515625, 2733.71630859375, 1763.3865966796875, 1448.374755859375, 1314.750244140625, 2176.02001953125, 1132.8104248046875, 1072.0892333984375, 1060.4676513671875, 1013.9967651367188, 979.49267578125, 880.5820922851562, 822.7532958984375, 812.8323974609375, 781.8473510742188, 665.5049438476562, 662.544921875, 612.5111083984375, 556.7098388671875, 521.6412353515625, 507.3416442871094, 488.61114501953125, 486.39178466796875, 485.4154968261719, 477.5901794433594, 477.31243896484375, 451.16864013671875, 435.20574951171875, 427.2223815917969, 423.45806884765625, 635.4573364257812, 1131.2823486328125, 736.275634765625, 1960.0792236328125, 872.2482299804688, 2642.744873046875, 791.0309448242188, 1585.37548828125, 647.6932373046875, 1623.5877685546875, 1589.1064453125, 2091.870361328125, 1055.8553466796875, 1607.28955078125, 1666.56689453125, 1919.449462890625, 1844.4566650390625, 2367.738037109375, 1382.6297607421875, 1055.393310546875, 2038.2344970703125, 2168.439208984375, 1401.46142578125, 1603.8250732421875, 1440.1080322265625, 1126.6513671875, 1134.5614013671875, 1164.1690673828125, 1099.325439453125, 1083.5042724609375, 2982.74951171875, 2831.97119140625, 1891.4423828125, 1619.8349609375, 1322.02978515625, 1099.213623046875, 1010.4022216796875, 901.4378662109375, 750.4757690429688, 722.1223754882812, 707.4378051757812, 687.252685546875, 664.0774536132812, 649.3197631835938, 642.266845703125, 602.08447265625, 584.1612548828125, 568.5123901367188, 564.369873046875, 543.1778564453125, 502.3323059082031, 472.40655517578125, 461.3047790527344, 442.6115417480469, 435.6739501953125, 423.8665771484375, 417.9839172363281, 407.857421875, 407.7920227050781, 378.7962341308594, 1872.239990234375, 716.094482421875, 3477.26416015625, 675.766845703125, 521.386474609375, 578.293212890625, 860.6902465820312, 1003.2894287109375, 889.3404541015625, 722.2553100585938, 1099.141357421875, 780.603515625, 722.1918334960938, 61479.32421875, 4338.61474609375, 247.12188720703125, 200.8402557373047, 186.2698211669922, 169.15243530273438, 146.89344787597656, 141.0839080810547, 116.8916244506836, 84.73934936523438, 55.66231155395508, 53.40540313720703, 50.19987106323242, 44.39372253417969, 42.30586624145508, 42.05746841430664, 39.58805847167969, 39.38592529296875, 37.798519134521484, 36.68877410888672, 35.65171813964844, 32.12205505371094, 31.515625, 11.889364242553711, 6.179031848907471, 0.05438455566763878, 0.05437009781599045, 0.05435197427868843, 0.05433112010359764, 0.05432930216193199, 0.05432929843664169, 13.585387229919434, 6.632101535797119, 6.2231574058532715, 5.630751132965088, 1795.194580078125, 771.9444580078125, 747.8991088867188, 564.0493774414062, 553.3314208984375, 544.2186889648438, 498.4011535644531, 493.03436279296875, 466.6723937988281, 456.5579833984375, 409.6577453613281, 404.0696716308594, 381.8699035644531, 369.9842529296875, 360.0960998535156, 356.8977966308594, 332.22125244140625, 317.2129211425781, 310.1484069824219, 298.6020812988281, 281.9155578613281, 267.80987548828125, 266.1478576660156, 257.1662292480469, 247.85195922851562, 243.82821655273438, 236.16172790527344, 235.4213409423828, 213.7587890625, 212.34292602539062, 2259.023681640625, 401.23944091796875, 733.8619995117188, 337.708251953125, 463.0632019042969, 1614.3262939453125, 899.5459594726562, 888.1177368164062, 770.0031127929688, 1516.119384765625, 1034.4752197265625, 611.1119384765625, 399.83734130859375, 408.4642333984375, 423.9783630371094, 396.3726806640625, 401.93157958984375, 3569.266357421875, 3160.122802734375, 1793.7823486328125, 1492.0699462890625, 1337.7291259765625, 1293.46875, 1069.0584716796875, 911.1563110351562, 901.5280151367188, 850.4669799804688, 846.3452758789062, 831.2290649414062, 800.8313598632812, 779.330810546875, 764.9135131835938, 650.0109252929688, 628.586669921875, 593.4205932617188, 554.62646484375, 431.7384033203125, 416.8565979003906, 404.4673156738281, 400.0981140136719, 378.0652770996094, 299.9656066894531, 284.6361389160156, 281.7893371582031, 270.4071044921875, 269.4966125488281, 240.96339416503906, 977.1953735351562, 1235.302001953125, 476.3915710449219, 636.915771484375, 1000.6738891601562, 470.46697998046875, 711.0814208984375, 458.02459716796875, 503.9189453125, 375.56890869140625, 330.81219482421875, 323.7880859375, 318.7170715332031, 297.12615966796875, 294.8504333496094, 274.6822204589844, 271.7345886230469, 268.6118469238281, 267.76373291015625, 237.56590270996094, 233.80128479003906, 225.56724548339844, 181.25762939453125, 171.1356201171875, 165.68637084960938, 162.97137451171875, 160.6670379638672, 152.98721313476562, 152.5056915283203, 149.5813751220703, 140.01071166992188, 133.5531768798828, 117.55831146240234, 117.29129028320312, 115.22894287109375, 111.0553970336914, 110.2828598022461, 110.15715789794922, 294.7425537109375, 129.42184448242188, 114.27981567382812, 1672.9332275390625, 607.6454467773438, 490.1533508300781, 431.0446472167969, 429.57275390625, 300.2994079589844, 282.0380859375, 276.7814636230469, 154.74343872070312, 126.13916015625, 116.88539123535156, 106.26293182373047, 96.75814819335938, 71.46769714355469, 61.84312057495117, 42.35097885131836, 41.834964752197266, 39.61227035522461, 8.374457359313965, 4.619560241699219, 219.88534545898438, 314.4360046386719, 334.0035400390625, 26.09672737121582, 152.4981689453125, 59.15724563598633, 152.99554443359375, 83.81444549560547, 61.66569137573242, 43.242271423339844, 266.4355163574219, 147.1908416748047, 109.3519515991211, 119.51641845703125, 102.05950927734375, 79.91072845458984, 103.14043426513672, 61.3548698425293, 591.3311157226562, 490.91400146484375, 365.8435974121094, 302.3169860839844, 277.79473876953125, 274.1022644042969, 257.9620666503906, 235.85086059570312, 227.22073364257812, 208.64198303222656, 205.8308868408203, 201.42697143554688, 201.22955322265625, 189.44754028320312, 168.6538848876953, 163.88243103027344, 145.76760864257812, 138.34649658203125, 109.36317443847656, 107.5029525756836, 105.15543365478516, 99.33317565917969, 95.39751434326172, 93.2286376953125, 91.45289611816406, 75.01380920410156, 74.63957977294922, 70.71212005615234, 69.79798126220703, 65.50553131103516, 126.76517486572266, 89.92670440673828, 2124.773681640625, 360.75, 354.5929260253906, 309.26531982421875, 280.52471923828125, 272.35211181640625, 191.1371307373047, 154.80828857421875, 152.3549041748047, 149.29493713378906, 135.78237915039062, 127.71966552734375, 103.07080841064453, 101.88957214355469, 81.63794708251953, 75.47870635986328, 69.65626525878906, 66.82069396972656, 62.222293853759766, 60.68071365356445, 54.16209030151367, 53.69825744628906, 50.95546340942383, 47.443695068359375, 46.29097366333008, 45.024810791015625, 41.556087493896484, 41.26402282714844, 40.531768798828125, 36.61848449707031, 130.96603393554688, 131.7849578857422, 155.4637451171875, 112.31681060791016, 117.59178161621094, 77.91857147216797, 70.91549682617188, 62.54985809326172, 1030.9130859375, 313.8416748046875, 271.5387268066406, 265.02203369140625, 245.30169677734375, 219.2126922607422, 191.5553436279297, 171.0679473876953, 145.18104553222656, 143.4386444091797, 138.95223999023438, 130.9050750732422, 128.155517578125, 115.80769348144531, 110.79205322265625, 93.75202941894531, 89.1383056640625, 84.56646728515625, 83.64434051513672, 80.48805236816406, 76.60493469238281, 75.89568328857422, 74.01712036132812, 71.57467651367188, 64.68144989013672, 60.658424377441406, 58.954010009765625, 58.12171173095703, 56.972129821777344, 48.615936279296875, 262.5509948730469, 358.0252380371094, 118.81346130371094, 92.33126068115234, 99.26395416259766, 85.89295959472656, 74.25467681884766, 2025.9217529296875, 604.8016357421875, 328.4125671386719, 320.1519470214844, 156.99012756347656, 153.8625946044922, 153.0779266357422, 134.71035766601562, 116.76779174804688, 106.1031723022461, 105.45903015136719, 100.1610336303711, 66.94002532958984, 66.29278564453125, 55.288230895996094, 44.526180267333984, 41.93663787841797, 39.021060943603516, 37.02507781982422, 34.69955062866211, 23.311559677124023, 17.4276123046875, 9.091477394104004, 92.23131561279297, 40.74992752075195, 18.946901321411133, 54.310768127441406, 0.051986612379550934, 0.0519862174987793, 0.05198242887854576, 1.537193775177002, 499.26263427734375, 492.9405822753906, 405.2752380371094, 340.62078857421875, 340.2355041503906, 238.43746948242188, 236.77700805664062, 193.53578186035156, 186.60423278808594, 180.97860717773438, 153.76272583007812, 147.9754180908203, 134.74972534179688, 129.30174255371094, 122.32149505615234, 105.87855529785156, 84.23450469970703, 75.17253112792969, 71.197998046875, 51.481361389160156, 48.83351516723633, 47.99944305419922, 31.773771286010742, 30.107332229614258, 27.857067108154297, 27.377708435058594, 22.166030883789062, 22.14351463317871, 10.18187427520752, 9.149084091186523, 53.760475158691406, 34.93843460083008, 294.6089172363281, 287.27789306640625, 274.0462341308594, 253.62159729003906, 253.35743713378906, 246.40774536132812, 218.83685302734375, 169.79014587402344, 162.0597381591797, 149.14593505859375, 147.7332000732422, 143.35853576660156, 131.56060791015625, 117.4372787475586, 116.84346008300781, 115.2011947631836, 111.91120910644531, 101.40145874023438, 97.28801727294922, 86.85079193115234, 80.38044738769531, 78.04906463623047, 65.8039321899414, 62.74989318847656, 60.194332122802734, 52.16508483886719, 49.94614028930664, 48.567115783691406, 48.426578521728516, 48.13731384277344, 214.27688598632812, 76.92545318603516, 644.0665893554688, 470.1638488769531, 317.8439025878906, 225.94149780273438, 220.8750762939453, 150.87831115722656, 124.92665100097656, 75.14286041259766, 69.02127838134766, 66.02696990966797, 47.4887580871582, 35.82601547241211, 26.854705810546875, 19.90513038635254, 18.716686248779297, 18.186124801635742, 16.205121994018555, 14.523428916931152, 9.176405906677246, 4.933809757232666, 0.17969466745853424, 84.86580657958984, 48.3918571472168, 0.03485342860221863, 0.03485259413719177, 0.03485104441642761, 0.03484979644417763, 0.034849975258111954, 0.034849464893341064, 0.0348484143614769, 192.93601989746094, 157.8437957763672, 131.67356872558594, 106.14746856689453, 99.03236389160156, 97.2883529663086, 92.13789367675781, 73.0713119506836, 67.1622543334961, 65.52600860595703, 62.58742904663086, 49.23457336425781, 38.240516662597656, 34.599853515625, 27.0044002532959, 12.832300186157227, 10.660616874694824, 5.398401737213135, 0.7707149982452393, 0.034459780901670456, 0.03445984050631523, 0.03445979580283165, 0.034458402544260025, 0.03445681929588318, 0.03445655480027199, 0.0344562754034996, 0.034455958753824234, 0.034455958753824234, 0.03445593640208244, 0.03445593640208244, 0.03445593640208244, 0.03445593640208244, 0.03445689007639885, 0.034456122666597366, 0.03445649892091751, 0.03445642814040184, 0.034456346184015274, 143.44451904296875, 91.49945831298828, 69.40129852294922, 63.753170013427734, 57.58796691894531, 47.805641174316406, 46.39229965209961, 45.475467681884766, 30.367027282714844, 20.941709518432617, 20.636491775512695, 18.08278465270996, 13.459244728088379, 12.153145790100098, 11.80414867401123, 8.76425838470459, 8.7609281539917, 7.347614288330078, 3.5085551738739014, 2.6618311405181885, 0.7753448486328125, 0.4385193884372711, 0.37831851840019226, 0.2812635004520416, 86.71040344238281, 42.79427719116211, 43.85545349121094, 39.09208679199219, 0.023669211193919182, 0.02366577461361885, 13.790201187133789, 7.696547985076904, 4.894729137420654, 2.303973436355591, 1.7818372249603271, 0.006771834567189217, 0.00677185645326972, 0.00677169905975461, 0.006771699525415897, 0.0067719705402851105, 0.006771675776690245, 0.006771563086658716, 0.006771563086658716, 0.006771563086658716, 0.0067715635523200035, 0.006771563086658716, 0.006771563086658716, 0.006771563086658716, 0.006771563086658716, 0.006771563086658716, 0.0067715514451265335, 0.006771566346287727, 0.006771560292690992, 0.006771523505449295, 0.006771570071578026, 0.006771563086658716, 0.006771489512175322, 0.006771489977836609, 0.006771495100110769, 0.006771475076675415, 0.006771563086658716, 0.006771557033061981, 0.006771883461624384, 0.006771634798496962, 0.006771625950932503, 0.006771575193852186, 0.006771592423319817, 0.006771584507077932, 0.006771597545593977, 0.006771566811949015, 0.006771568674594164], \"Term\": [\"ax\", \"not\", \"line\", \"write\", \"max\", \"organization\", \"article\", \"window\", \"do\", \"be\", \"year\", \"say\", \"card\", \"space\", \"drive\", \"problem\", \"get\", \"system\", \"people\", \"game\", \"state\", \"right\", \"team\", \"key\", \"use\", \"go\", \"bit\", \"government\", \"would\", \"thank\", \"article\", \"have\", \"probably\", \"car\", \"buy\", \"bike\", \"sound\", \"better\", \"pretty\", \"nice\", \"anyway\", \"wonder\", \"steve\", \"obvious\", \"quote\", \"guess\", \"sorry\", \"fine\", \"option\", \"compare\", \"flame\", \"worth\", \"main\", \"mine\", \"edge\", \"engine\", \"cheap\", \"mile\", \"market\", \"measure\", \"lot\", \"get\", \"write\", \"be\", \"nntp_poste\", \"do\", \"organization\", \"much\", \"not\", \"anyone\", \"really\", \"sure\", \"look\", \"line\", \"someone\", \"good\", \"know\", \"want\", \"would\", \"try\", \"hard\", \"host\", \"nntp_posting\", \"big\", \"think\", \"university\", \"could\", \"problem\", \"well\", \"s\", \"make\", \"reply\", \"thing\", \"time\", \"work\", \"go\", \"live\", \"child\", \"president\", \"away\", \"kid\", \"religion\", \"hell\", \"bring\", \"family\", \"woman\", \"drug\", \"war\", \"young\", \"continue\", \"fan\", \"stand\", \"prove\", \"parent\", \"food\", \"learn\", \"story\", \"plan\", \"meet\", \"russian\", \"father\", \"safe\", \"boy\", \"march\", \"eat\", \"doctor\", \"leave\", \"day\", \"face\", \"feel\", \"death\", \"kill\", \"die\", \"later\", \"say\", \"people\", \"begin\", \"happen\", \"come\", \"man\", \"take\", \"go\", \"tell\", \"world\", \"time\", \"talk\", \"see\", \"never\", \"call\", \"first\", \"love\", \"right\", \"place\", \"not\", \"even\", \"s\", \"give\", \"know\", \"make\", \"year\", \"thank\", \"mail\", \"file\", \"available\", \"info\", \"email\", \"sale\", \"standard\", \"ca\", \"page\", \"com\", \"internet\", \"advance\", \"contact\", \"interested\", \"server\", \"user\", \"access\", \"fax\", \"memory\", \"network\", \"product\", \"appreciate\", \"newsgroup\", \"faq\", \"blue\", \"computer\", \"institute\", \"site\", \"library\", \"information\", \"address\", \"code\", \"program\", \"datum\", \"system\", \"software\", \"include\", \"list\", \"keyword\", \"technology\", \"research\", \"box\", \"send\", \"use\", \"new\", \"post\", \"also\", \"number\", \"line\", \"call\", \"need\", \"run\", \"university\", \"support\", \"organization\", \"work\", \"god\", \"christian\", \"exist\", \"view\", \"accept\", \"claim\", \"evidence\", \"bible\", \"study\", \"truth\", \"argument\", \"belief\", \"faith\", \"statement\", \"church\", \"therefore\", \"knowledge\", \"lord\", \"genocide\", \"moral\", \"context\", \"define\", \"atheist\", \"ibm\", \"christ\", \"print\", \"religious\", \"theory\", \"existence\", \"definition\", \"normal\", \"human\", \"rise\", \"word\", \"discussion\", \"believe\", \"apply\", \"true\", \"describe\", \"reason\", \"book\", \"mean\", \"example\", \"fact\", \"must\", \"point\", \"question\", \"may\", \"life\", \"answer\", \"say\", \"would\", \"many\", \"make\", \"people\", \"follow\", \"read\", \"think\", \"also\", \"give\", \"game\", \"team\", \"play\", \"player\", \"hockey\", \"season\", \"hit\", \"canada\", \"goal\", \"score\", \"division\", \"period\", \"matthew\", \"george\", \"chicago\", \"hawk\", \"oil\", \"mike\", \"door\", \"extra\", \"canadian\", \"boston\", \"sport\", \"punishment\", \"hot\", \"msg\", \"somewhere\", \"playoff\", \"richard\", \"internal\", \"win\", \"final\", \"year\", \"king\", \"third\", \"text\", \"lose\", \"last\", \"second\", \"mark\", \"first\", \"run\", \"good\", \"ax\", \"max\", \"usenet\", \"byte\", \"cd\", \"quadra\", \"counter\", \"centris\", \"alaska\", \"assistance\", \"cam\", \"host_acad\", \"alaska_fairbanks\", \"repost\", \"dale\", \"web\", \"rewrite\", \"michael_adam\", \"jacked\", \"learning\", \"california_berkeley\", \"ext\", \"participant\", \"wang\", \"fi\", \"qax\", \"qq\", \"mf\", \"bhjn\", \"biz\", \"pmfq\", \"part\", \"end\", \"reply\", \"university\", \"gun\", \"police\", \"criminal\", \"crime\", \"committee\", \"arrest\", \"weapon\", \"tax\", \"pray\", \"insurance\", \"citizen\", \"trial\", \"congress\", \"clinton\", \"doug\", \"fund\", \"court\", \"federal\", \"constitution\", \"officer\", \"liberal\", \"senate\", \"economic\", \"announcement\", \"additional\", \"taxis\", \"ban\", \"white_house\", \"regulation\", \"united_state\", \"government\", \"legal\", \"protect\", \"freedom\", \"political\", \"law\", \"public\", \"american\", \"country\", \"state\", \"right\", \"national\", \"murder\", \"pay\", \"case\", \"issue\", \"people\", \"window\", \"card\", \"chip\", \"driver\", \"color\", \"graphic\", \"mode\", \"peter\", \"monitor\", \"mac\", \"display\", \"screen\", \"pc\", \"ram\", \"mb\", \"bus\", \"specifically\", \"scsi\", \"feature\", \"meg\", \"output\", \"button\", \"interface\", \"wide\", \"multiple\", \"hi\", \"xterm\", \"md\", \"sweden\", \"window_manager\", \"board\", \"bit\", \"function\", \"speed\", \"problem\", \"fast\", \"run\", \"use\", \"air\", \"hall\", \"purchase\", \"discipline\", \"michigan\", \"van\", \"coverage\", \"panel\", \"complain\", \"feed\", \"rob\", \"escape\", \"manner\", \"dare\", \"super\", \"opposition\", \"shut\", \"espn\", \"june\", \"presentation\", \"documentation\", \"recommendation\", \"canuck\", \"paint\", \"winnipeg_jet\", \"insure\", \"armed\", \"tech\", \"professor\", \"mi\", \"archive\", \"british\", \"german\", \"key\", \"encryption\", \"font\", \"clipper\", \"clipper_chip\", \"secure\", \"proposal\", \"nsa\", \"export\", \"pgp\", \"court_order\", \"david_sternlight\", \"cryptography\", \"escrow\", \"disclose\", \"secrecy\", \"wiretap_chip\", \"made\", \"kept_secret\", \"workable\", \"secret\", \"algorithm\", \"security\", \"fed\", \"trust\", \"random\", \"block\", \"ensure\", \"compromise\", \"finger\", \"bit\", \"message\", \"phone\", \"technology\", \"public\", \"strong\", \"government\", \"system\", \"package\", \"apr\", \"medical\", \"bbs\", \"medicine\", \"disease\", \"patient\", \"ohio_state\", \"last_night\", \"newsletter\", \"treatment\", \"proceed\", \"grain\", \"carnegie_mellon\", \"menu\", \"diet\", \"suitable\", \"chain\", \"eastern\", \"diamond\", \"goaltender\", \"technician\", \"physician\", \"adult\", \"jerry\", \"cure\", \"distortion\", \"tired\", \"invasion\", \"bitnet\", \"park\", \"hospital\", \"space\", \"satellite\", \"water\", \"flight\", \"band\", \"station\", \"mar\", \"music\", \"gov\", \"monthly\", \"sea\", \"cambridge\", \"exit\", \"careful\", \"london\", \"television\", \"execute\", \"organisation\", \"tour\", \"cloud\", \"beaverton\", \"yale\", \"generator\", \"geoff\", \"assistant\", \"alex\", \"tektronix_inc\", \"robert_beauchaine\", \"death_penalty\", \"sean\", \"production\", \"wave\", \"international\", \"facility\", \"technical\", \"experiment\", \"orbit\", \"operation\", \"image\", \"moon\", \"spacecraft\", \"islam\", \"scientist\", \"planet\", \"default\", \"comet\", \"ray\", \"edward\", \"roman\", \"animation\", \"england\", \"solar\", \"jupiter\", \"centre\", \"miracle\", \"mathematic\", \"planetary\", \"galaxy\", \"jpl\", \"phenomenon\", \"beast\", \"observer\", \"simulation\", \"essence\", \"circle\", \"eve\", \"gravity\", \"prof\", \"orbit\", \"earth\", \"surface\", \"energy\", \"mass\", \"star\", \"phase\", \"drive\", \"disk\", \"andrew\", \"unix\", \"sleep\", \"correctly\", \"waco\", \"cult\", \"public_access\", \"bureau\", \"kent_sandvik\", \"floppy\", \"ton\", \"scott_roby\", \"cookamunga_tourist\", \"scout\", \"demonstration\", \"unix_brookline\", \"incidentally\", \"consultant\", \"branch_davidian\", \"warrior\", \"unused\", \"operation\", \"master\", \"shipping\", \"machine\", \"cmo\", \"partition\", \"format\", \"normal\", \"circuit\", \"league\", \"baseball\", \"directory\", \"front\", \"bob\", \"uk\", \"pub\", \"wear\", \"duke\", \"docs\", \"logo\", \"sunday\", \"dodger\", \"virginia\", \"salary\", \"uniform\", \"phillie\", \"met\", \"stadium\", \"chemistry\", \"durham\", \"celebrate\", \"pete\", \"inter\", \"stockholm\", \"dammit\", \"rep\", \"andrew_infante\", \"jersey\", \"red\", \"park\", \"command\", \"morning\", \"gay\", \"marriage\", \"sex\", \"homosexual\", \"husband\", \"marry\", \"gospel\", \"installation\", \"literature\", \"encourage\", \"predict\", \"standing\", \"instruction\", \"homosexuality\", \"daughter\", \"witch\", \"prediction\", \"gross\", \"hmm\", \"preach\", \"discrimination\", \"immoral\", \"cultural\", \"rom\", \"shame\", \"bowl\", \"proclaim\", \"commandment\", \"count\", \"male\", \"israel\", \"israeli\", \"arab\", \"case_western\", \"reserve_university\", \"palestinian\", \"policy_research\", \"host_hela\", \"kent\", \"identity\", \"prisoner\", \"louis\", \"tony_alicea\", \"awareness\", \"govern\", \"arabic\", \"rosicrucian_order\", \"detection\", \"imprisonment\", \"imprison\", \"mystical\", \"center\", \"usa\", \"border\", \"lebanon\", \"civilian\", \"peace\", \"attack\", \"jew\", \"jewish\", \"mhz\", \"professional\", \"jeff\", \"microsoft\", \"lee\", \"dos\", \"pennsylvania\", \"upenn\", \"toolkit\", \"borland\", \"twist\", \"assembly\", \"compiler\", \"scope\", \"wordperfect\", \"cart\", \"negotiable\", \"crt\", \"hv\", \"battery_charger\", \"volt\", \"battery\", \"users_guide\", \"lap\", \"borland_turbo\", \"factory\", \"sanjay_sinha\", \"ambidextrous\", \"halogen\", \"sanjay\", \"intalle\", \"thinngy\", \"utility\", \"lamp\", \"dc\", \"table\", \"plug\", \"jim\", \"gordon_bank\", \"surrender\", \"gordon_banks\", \"jet\", \"chastity\", \"intellect\", \"shameful\", \"paranoid\", \"cooper\", \"oak\", \"delivery\", \"await\", \"recieve\", \"submarine\", \"lunatic\", \"internet_fidonet\", \"encyclopedia\", \"liar_lunatic\", \"tuff\", \"bissell\", \"dan_lawrence\", \"persevere\", \"tablet\", \"pittsburgh\", \"univ\", \"soon\", \"computer_science\", \"tremor\", \"vagus\", \"loop\", \"bend\", \"working\", \"breed\", \"caller\", \"fuselage\", \"pipe\", \"sectional\", \"wind\", \"wing\", \"mc\", \"aplace\", \"incompressible\", \"shoulf\", \"thicken\", \"aptly\", \"supersonic\", \"subtract\", \"squeeze\", \"fluid\", \"hok\", \"stall\", \"trim\", \"mesh\", \"behave\", \"aircraft\", \"allmichael\", \"peter_tryndoch\", \"ohm\", \"gillow\", \"compression\", \"seizure\", \"wire\", \"wiring\", \"outlet\", \"cross\", \"neutral\", \"distribution\", \"ground\", \"vehicle\", \"cable\"], \"Total\": [61480.0, 24932.0, 18770.0, 14204.0, 4339.0, 16621.0, 11150.0, 3570.0, 15642.0, 12223.0, 5379.0, 10353.0, 3161.0, 2125.0, 2026.0, 4467.0, 10288.0, 5280.0, 7427.0, 2983.0, 3447.0, 4377.0, 2833.0, 1673.0, 7115.0, 8804.0, 2432.0, 2363.0, 13930.0, 3914.0, 11150.16015625, 4447.80126953125, 2247.2197265625, 2209.0869140625, 1755.8408203125, 1040.97705078125, 1027.24853515625, 1012.939453125, 950.8572998046875, 930.3531494140625, 925.6635131835938, 894.9252319335938, 891.7085571289062, 819.5955810546875, 798.8953247070312, 776.6991577148438, 743.985595703125, 728.1467895507812, 694.3047485351562, 689.1078491210938, 672.4150390625, 622.03662109375, 590.9547729492188, 588.9487915039062, 580.0532836914062, 578.2862548828125, 569.6511840820312, 542.3897705078125, 526.7947998046875, 521.6190185546875, 2398.201416015625, 10288.5458984375, 14204.6318359375, 12223.7666015625, 3624.725341796875, 15642.0361328125, 16621.279296875, 4220.60302734375, 24932.76171875, 4110.4033203125, 3222.167236328125, 2651.2001953125, 5148.40185546875, 18770.58984375, 2053.48828125, 6814.26171875, 10941.7177734375, 5498.630859375, 13930.208984375, 4544.1328125, 1913.8846435546875, 6152.4990234375, 3139.381591796875, 1629.8099365234375, 8007.6865234375, 7631.560546875, 4911.27685546875, 4467.80322265625, 5842.84521484375, 5681.12646484375, 8428.1484375, 3963.684814453125, 4975.18896484375, 8031.03759765625, 5516.1064453125, 8804.90625, 1962.5660400390625, 1663.0657958984375, 1503.071533203125, 1187.2451171875, 1131.7689208984375, 1130.8646240234375, 991.8640747070312, 919.2114868164062, 882.1719970703125, 881.0404663085938, 841.999755859375, 819.7411499023438, 809.3601684570312, 761.5487060546875, 723.3170776367188, 719.3304443359375, 716.4573364257812, 711.9322509765625, 686.0802001953125, 664.0958251953125, 655.0427856445312, 653.1465454101562, 633.6105346679688, 557.8267822265625, 545.09765625, 532.2445678710938, 517.4015502929688, 516.2415771484375, 498.5141906738281, 467.951904296875, 1703.732421875, 3511.806640625, 1225.54150390625, 1723.390380859375, 967.3201293945312, 1614.637939453125, 1509.9521484375, 1036.4049072265625, 10353.048828125, 7427.24462890625, 1206.1873779296875, 1891.3790283203125, 5115.7705078125, 2369.34033203125, 5087.1044921875, 8804.90625, 3829.120361328125, 2452.578857421875, 8031.03759765625, 1910.18896484375, 6741.474609375, 2955.00341796875, 4333.95458984375, 4392.16943359375, 1558.68310546875, 4377.82666015625, 2087.28759765625, 24932.76171875, 4710.787109375, 5681.12646484375, 5178.8818359375, 10941.7177734375, 8428.1484375, 5379.29248046875, 3914.59228515625, 2841.253662109375, 2806.624267578125, 2377.416259765625, 2075.458740234375, 1881.2918701171875, 1879.5921630859375, 1858.8773193359375, 1692.901123046875, 1411.0467529296875, 1382.54248046875, 1361.9974365234375, 1336.0557861328125, 1175.9949951171875, 1150.6878662109375, 1123.4840087890625, 1078.1209716796875, 1061.9912109375, 1049.2471923828125, 1015.8622436523438, 1003.13037109375, 968.901123046875, 856.9360961914062, 777.5499267578125, 768.8564453125, 743.9735107421875, 2138.1337890625, 730.7420654296875, 701.9219360351562, 695.9767456054688, 3215.59912109375, 1508.5771484375, 1319.175537109375, 2448.515625, 1570.8363037109375, 5280.998046875, 1886.9541015625, 2721.626953125, 1838.9124755859375, 1678.5418701171875, 1723.3792724609375, 1474.29443359375, 1344.32080078125, 2139.862060546875, 7115.13330078125, 4841.646484375, 3879.032958984375, 6862.0927734375, 3428.101806640625, 18770.58984375, 4333.95458984375, 4934.8994140625, 3885.430419921875, 7631.560546875, 2546.094482421875, 16621.279296875, 5516.1064453125, 3387.81884765625, 2734.75537109375, 1764.4259033203125, 1449.4140625, 1315.78955078125, 2177.759033203125, 1133.8497314453125, 1073.1285400390625, 1061.5069580078125, 1015.0360717773438, 980.531982421875, 881.6213989257812, 823.7926025390625, 813.8717041015625, 782.8866577148438, 666.5442504882812, 663.584228515625, 613.5504150390625, 557.7491455078125, 522.6805419921875, 508.3808288574219, 489.65032958984375, 487.43096923828125, 486.4546813964844, 478.6293640136719, 478.35162353515625, 452.20782470703125, 436.24493408203125, 428.2615661621094, 424.49725341796875, 637.9818725585938, 1202.9959716796875, 770.3588256835938, 2259.4580078125, 953.59814453125, 3478.42822265625, 865.7327880859375, 2011.58447265625, 695.182373046875, 2294.781494140625, 2271.8955078125, 3604.68701171875, 1399.998291015625, 2620.940185546875, 2834.310791015625, 3873.839111328125, 4117.7353515625, 6619.82080078125, 2695.633544921875, 1709.6236572265625, 10353.048828125, 13930.208984375, 4057.27685546875, 8428.1484375, 7427.24462890625, 2551.100830078125, 3167.176025390625, 8007.6865234375, 6862.0927734375, 5178.8818359375, 2983.7900390625, 2833.01171875, 1892.4830322265625, 1620.8756103515625, 1323.0704345703125, 1100.2542724609375, 1011.4429321289062, 902.4785766601562, 751.5164794921875, 723.1630859375, 708.478515625, 688.2933959960938, 665.1181640625, 650.3604736328125, 643.3075561523438, 603.1251831054688, 585.2019653320312, 569.5531005859375, 565.4105834960938, 544.2185668945312, 503.3728942871094, 473.4471435546875, 462.3453674316406, 443.6521301269531, 436.71453857421875, 424.90716552734375, 419.0245056152344, 408.89801025390625, 408.8326110839844, 379.8368225097656, 1933.4443359375, 726.6517944335938, 5379.29248046875, 778.9931030273438, 578.0167236328125, 683.512939453125, 1432.257568359375, 2099.825439453125, 1849.6678466796875, 1198.3499755859375, 4392.16943359375, 3885.430419921875, 6814.26171875, 61480.3828125, 4339.6708984375, 248.1771240234375, 201.89549255371094, 187.32505798339844, 170.20767211914062, 147.9486846923828, 142.13914489746094, 117.94686889648438, 85.79459381103516, 56.71755599975586, 54.46064758300781, 51.2551155090332, 45.44896697998047, 43.36111068725586, 43.11271286010742, 40.64330291748047, 40.44116973876953, 38.853763580322266, 37.7440185546875, 36.70696258544922, 33.17729949951172, 32.57086944580078, 12.94460391998291, 47.874961853027344, 1.1096248626708984, 1.1096105575561523, 1.1095924377441406, 1.1095712184906006, 1.1095694303512573, 1.1095694303512573, 2347.244873046875, 2303.37939453125, 3963.684814453125, 7631.560546875, 1796.2335205078125, 772.9834594726562, 748.9381103515625, 565.08837890625, 554.37060546875, 545.2576904296875, 499.4400634765625, 494.0732727050781, 467.7113037109375, 457.5968933105469, 410.6966552734375, 405.10858154296875, 382.9088134765625, 371.0231628417969, 361.135009765625, 357.93670654296875, 333.2601623535156, 318.2518310546875, 311.18731689453125, 299.6409912109375, 282.9544677734375, 268.8487854003906, 267.186767578125, 258.20513916015625, 248.89089965820312, 244.86715698242188, 237.20066833496094, 236.4602813720703, 214.7977294921875, 213.38186645507812, 2363.142333984375, 414.4814453125, 864.6456298828125, 360.1573486328125, 531.717529296875, 2510.818603515625, 1255.0592041015625, 1504.28466796875, 1253.8848876953125, 3447.09423828125, 4377.82666015625, 1447.130615234375, 827.76513671875, 1516.864501953125, 2377.134765625, 1724.329345703125, 7427.24462890625, 3570.292724609375, 3161.149169921875, 1794.808837890625, 1493.096435546875, 1338.755615234375, 1294.4952392578125, 1070.0849609375, 912.1826782226562, 902.5543823242188, 851.4933471679688, 847.3716430664062, 832.2554321289062, 801.8577270507812, 780.357177734375, 765.9398803710938, 651.0372924804688, 629.613037109375, 594.4469604492188, 555.65283203125, 432.7647705078125, 417.8829650878906, 405.4936828613281, 401.1244812011719, 379.0916442871094, 300.9919738769531, 285.6625061035156, 282.8157043457031, 271.4334716796875, 270.5229797363281, 241.98977661132812, 1244.5389404296875, 2432.71728515625, 690.0701904296875, 1198.900390625, 4467.80322265625, 852.0609741210938, 3885.430419921875, 7115.13330078125, 504.96368408203125, 376.6136474609375, 331.85693359375, 324.83282470703125, 319.7618103027344, 298.1708984375, 295.8951721191406, 275.7269592285156, 272.7793273925781, 269.6565856933594, 268.8084716796875, 238.61065673828125, 234.84603881835938, 226.61199951171875, 182.30238342285156, 172.1803741455078, 166.7311248779297, 164.01612854003906, 161.7117919921875, 154.03196716308594, 153.55044555664062, 150.62612915039062, 141.0554656982422, 134.59793090820312, 118.60306549072266, 118.33604431152344, 116.27369689941406, 112.10015106201172, 111.3276138305664, 111.20191192626953, 325.994140625, 205.23660278320312, 413.32281494140625, 1673.98193359375, 608.694091796875, 491.2020263671875, 432.09332275390625, 430.6214294433594, 301.34808349609375, 283.0867614746094, 277.83013916015625, 155.79212951660156, 127.1878433227539, 117.93407440185547, 107.31161499023438, 97.80683135986328, 72.5163803100586, 62.89179992675781, 43.399658203125, 42.883644104003906, 40.66094970703125, 9.423135757446289, 5.668238639831543, 295.515380859375, 434.91925048828125, 512.076416015625, 55.20821762084961, 346.229736328125, 149.2271728515625, 431.8941345214844, 279.9671630859375, 207.8591766357422, 282.6568603515625, 2432.71728515625, 1795.3712158203125, 1223.8619384765625, 1723.3792724609375, 1255.0592041015625, 702.9845581054688, 2363.142333984375, 5280.998046875, 592.3847045898438, 491.9675598144531, 366.89715576171875, 303.37054443359375, 278.8482971191406, 275.15582275390625, 259.015625, 236.90444946289062, 228.27432250976562, 209.69557189941406, 206.8844757080078, 202.48056030273438, 202.28314208984375, 190.50112915039062, 169.7074737548828, 164.93601989746094, 146.82119750976562, 139.40008544921875, 110.41674041748047, 108.5565185546875, 106.20899963378906, 100.3867416381836, 96.45108032226562, 94.2822036743164, 92.50646209716797, 76.06737518310547, 75.69314575195312, 71.76568603515625, 70.85154724121094, 66.55909729003906, 162.70712280273438, 196.6900634765625, 2125.82958984375, 361.8059387207031, 355.64886474609375, 310.3212585449219, 281.5806579589844, 273.4080505371094, 192.1930694580078, 155.86422729492188, 153.4108428955078, 150.3508758544922, 136.83831787109375, 128.77560424804688, 104.1267318725586, 102.94549560546875, 82.6938705444336, 76.53462982177734, 70.71218872070312, 67.87661743164062, 63.27821731567383, 61.736637115478516, 55.218013763427734, 54.754180908203125, 52.01138687133789, 48.49961853027344, 47.34689712524414, 46.08073425292969, 42.61201095581055, 42.3199462890625, 41.58769226074219, 37.674407958984375, 156.9046173095703, 307.6277160644531, 438.6711730957031, 277.8044738769531, 448.1448669433594, 319.62469482421875, 334.4668884277344, 443.5820007324219, 1031.967041015625, 314.89569091796875, 272.5927429199219, 266.0760498046875, 246.355712890625, 220.26670837402344, 192.60935974121094, 172.12196350097656, 146.2350616455078, 144.49266052246094, 140.00625610351562, 131.95909118652344, 129.20953369140625, 116.8616943359375, 111.84605407714844, 94.8060302734375, 90.19230651855469, 85.62046813964844, 84.6983413696289, 81.54205322265625, 77.658935546875, 76.9496841430664, 75.07112121582031, 72.62867736816406, 65.7354507446289, 61.71242904663086, 60.00801467895508, 59.175716400146484, 58.0261344909668, 49.66994094848633, 334.4668884277344, 794.4334716796875, 321.084228515625, 197.87973022460938, 485.41058349609375, 502.0965270996094, 197.92364501953125, 2026.979248046875, 605.8591918945312, 329.47015380859375, 321.20953369140625, 158.0477294921875, 154.92019653320312, 154.13552856445312, 135.76795959472656, 117.82537841796875, 107.16075897216797, 106.51661682128906, 101.21862030029297, 67.99761199951172, 67.35037231445312, 56.3458137512207, 45.583763122558594, 42.99422073364258, 40.078643798828125, 38.08266067504883, 35.75713348388672, 24.369144439697266, 18.485197067260742, 10.149063110351562, 443.5820007324219, 323.39837646484375, 255.65457153320312, 905.2088012695312, 1.1095967292785645, 1.1095941066741943, 1.1096622943878174, 637.9818725585938, 500.3221130371094, 494.00006103515625, 406.334716796875, 341.6802673339844, 341.29498291015625, 239.49696350097656, 237.8365020751953, 194.59527587890625, 187.66372680664062, 182.03810119628906, 154.8222198486328, 149.034912109375, 135.80921936035156, 130.36123657226562, 123.3809814453125, 106.93804168701172, 85.29399108886719, 76.23201751708984, 72.25748443603516, 52.54084396362305, 49.89299774169922, 49.05892562866211, 32.833255767822266, 31.166812896728516, 28.916547775268555, 28.43718910217285, 23.22551155090332, 23.20299530029297, 11.241355895996094, 10.208565711975098, 309.3086242675781, 162.70712280273438, 295.6721496582031, 288.34112548828125, 275.1094665527344, 254.684814453125, 254.420654296875, 247.47096252441406, 219.9000701904297, 170.85336303710938, 163.12295532226562, 150.2091522216797, 148.79641723632812, 144.4217529296875, 132.6238250732422, 118.50048828125, 117.90666961669922, 116.264404296875, 112.97441864013672, 102.46466827392578, 98.35122680664062, 87.91400146484375, 81.44365692138672, 79.11227416992188, 66.86714172363281, 63.8130989074707, 61.257537841796875, 53.22829055786133, 51.00934600830078, 49.63032150268555, 49.489784240722656, 49.20051956176758, 310.5794982910156, 182.48995971679688, 645.1412963867188, 471.2385559082031, 318.9186096191406, 227.01622009277344, 221.94979858398438, 151.95303344726562, 126.0013656616211, 76.21757507324219, 70.09599304199219, 67.1016845703125, 48.5634651184082, 36.90072250366211, 27.929412841796875, 20.97983741760254, 19.791393280029297, 19.260831832885742, 17.279829025268555, 15.598136901855469, 10.251113891601562, 6.008517265319824, 1.2544033527374268, 1724.713623046875, 1287.95654296875, 1.1095929145812988, 1.1095832586288452, 1.1095833778381348, 1.1095999479293823, 1.1096223592758179, 1.1096360683441162, 1.1096162796020508, 194.01112365722656, 158.9188995361328, 132.74867248535156, 107.22256469726562, 100.10746002197266, 98.36344909667969, 93.2129898071289, 74.14640808105469, 68.23735046386719, 66.60110473632812, 63.66252136230469, 50.30966567993164, 39.315608978271484, 35.67494583129883, 28.079492568969727, 13.907391548156738, 11.735708236694336, 6.473493576049805, 1.8458068370819092, 1.1095620393753052, 1.1095738410949707, 1.1095832586288452, 1.1095596551895142, 1.1095561981201172, 1.1095540523529053, 1.1095607280731201, 1.1095526218414307, 1.1095525026321411, 1.1095523834228516, 1.1095523834228516, 1.1095523834228516, 1.1095523834228516, 1.1095843315124512, 1.1095633506774902, 1.109587550163269, 1.109582781791687, 1.1095821857452393, 144.53041076660156, 92.58534240722656, 70.4871826171875, 64.83905792236328, 58.673851013183594, 48.89152526855469, 47.47818374633789, 46.56135177612305, 31.452909469604492, 22.027591705322266, 21.722373962402344, 19.16866683959961, 14.545127868652344, 13.239028930664062, 12.890031814575195, 9.850141525268555, 9.846811294555664, 8.433497428894043, 4.594438552856445, 3.7477142810821533, 1.861228108406067, 1.5244026184082031, 1.464201807975769, 1.3671467304229736, 463.2635498046875, 524.2544555664062, 729.6114501953125, 733.421630859375, 1.1095572710037231, 1.1095499992370605, 14.892973899841309, 8.799320220947266, 5.997501850128174, 3.4067459106445312, 2.8846096992492676, 1.109546422958374, 1.109562873840332, 1.1095455884933472, 1.1095563173294067, 1.1096011400222778, 1.1095532178878784, 1.1095447540283203, 1.1095447540283203, 1.1095447540283203, 1.1095447540283203, 1.1095447540283203, 1.109545111656189, 1.109545350074768, 1.1095465421676636, 1.1095476150512695, 1.109546184539795, 1.1095495223999023, 1.1095503568649292, 1.1095460653305054, 1.1095541715621948, 1.1095527410507202, 1.1095443964004517, 1.1095447540283203, 1.1095470190048218, 1.1095446348190308, 1.1095625162124634, 1.1095651388168335, 1.1096810102462769, 1.1095967292785645, 1.109598159790039, 1.1095885038375854, 1.109596610069275, 1.109601378440857, 1.109637975692749, 1.1095792055130005, 1.109636902809143], \"loglift\": [30.0, 29.0, 28.0, 27.0, 26.0, 25.0, 24.0, 23.0, 22.0, 21.0, 20.0, 19.0, 18.0, 17.0, 16.0, 15.0, 14.0, 13.0, 12.0, 11.0, 10.0, 9.0, 8.0, 7.0, 6.0, 5.0, 4.0, 3.0, 2.0, 1.0, 1.1670000553131104, 1.1669000387191772, 1.166700005531311, 1.166700005531311, 1.1664999723434448, 1.166100025177002, 1.166100025177002, 1.166100025177002, 1.1660000085830688, 1.1660000085830688, 1.1660000085830688, 1.1660000085830688, 1.1660000085830688, 1.1658999919891357, 1.1657999753952026, 1.1657999753952026, 1.1656999588012695, 1.1656999588012695, 1.1655999422073364, 1.1655999422073364, 1.1655999422073364, 1.1655000448226929, 1.1654000282287598, 1.1654000282287598, 1.1653000116348267, 1.1653000116348267, 1.1653000116348267, 1.1651999950408936, 1.1651999950408936, 1.1650999784469604, 1.1632000207901, 1.1450999975204468, 1.1413999795913696, 1.1363999843597412, 1.1210999488830566, 1.069000005722046, 1.045699954032898, 1.0885000228881836, 1.0069999694824219, 1.086899995803833, 1.0987999439239502, 1.1062999963760376, 1.0643999576568604, 0.963100016117096, 1.0901000499725342, 0.983299970626831, 0.9226999878883362, 0.9914000034332275, 0.8759999871253967, 0.9926000237464905, 1.0861999988555908, 0.9441999793052673, 0.9926000237464905, 1.085800051689148, 0.7943000197410583, 0.802299976348877, 0.8805000185966492, 0.8959000110626221, 0.8188999891281128, 0.8163999915122986, 0.6762999892234802, 0.923799991607666, 0.7836999893188477, 0.476500004529953, 0.6783000230789185, 0.29899999499320984, 1.7781000137329102, 1.7781000137329102, 1.777999997138977, 1.7777999639511108, 1.7777999639511108, 1.7777999639511108, 1.7776000499725342, 1.777500033378601, 1.777500033378601, 1.777500033378601, 1.777400016784668, 1.777400016784668, 1.777400016784668, 1.7773000001907349, 1.7771999835968018, 1.7771999835968018, 1.7771999835968018, 1.7771999835968018, 1.7771999835968018, 1.7770999670028687, 1.7770999670028687, 1.7770999670028687, 1.7769999504089355, 1.7768000364303589, 1.7768000364303589, 1.7767000198364258, 1.7767000198364258, 1.7767000198364258, 1.7766000032424927, 1.7764999866485596, 1.7754000425338745, 1.767799973487854, 1.7685999870300293, 1.7585999965667725, 1.7664999961853027, 1.7308000326156616, 1.7273000478744507, 1.7401000261306763, 1.4627000093460083, 1.493499994277954, 1.697100043296814, 1.6297999620437622, 1.437600016593933, 1.5678999423980713, 1.3411999940872192, 1.210800051689148, 1.2998000383377075, 1.3809000253677368, 0.9435999989509583, 1.462499976158142, 0.9262999892234802, 1.2533999681472778, 1.0576000213623047, 0.9610999822616577, 1.5132999420166016, 0.901199996471405, 1.3174999952316284, -0.3878999948501587, 0.7616000175476074, 0.5601999759674072, 0.6215999722480774, -0.06390000134706497, 0.1543000042438507, 0.49639999866485596, 1.8335000276565552, 1.833400011062622, 1.833400011062622, 1.833400011062622, 1.833299994468689, 1.833299994468689, 1.833299994468689, 1.833299994468689, 1.8331999778747559, 1.8330999612808228, 1.8330999612808228, 1.8330999612808228, 1.8329999446868896, 1.832900047302246, 1.832900047302246, 1.832900047302246, 1.832900047302246, 1.832800030708313, 1.832800030708313, 1.832800030708313, 1.832800030708313, 1.8327000141143799, 1.8325999975204468, 1.8324999809265137, 1.8324999809265137, 1.8323999643325806, 1.8323999643325806, 1.8323999643325806, 1.8322999477386475, 1.8322999477386475, 1.8217999935150146, 1.8287999629974365, 1.8277000188827515, 1.8203999996185303, 1.8240000009536743, 1.754699945449829, 1.7893999814987183, 1.757099986076355, 1.7648999691009521, 1.7661000490188599, 1.761299967765808, 1.7831000089645386, 1.7906999588012695, 1.6887999773025513, 1.3622000217437744, 1.3910000324249268, 1.3970999717712402, 1.0205999612808228, 1.3007999658584595, 0.14380000531673431, 1.0894999504089355, 0.9520000219345093, 1.0825999975204468, 0.5540000200271606, 1.3868000507354736, -0.33550000190734863, 0.646399974822998, 2.0058999061584473, 2.0058000087738037, 2.0055999755859375, 2.005500078201294, 2.0053999423980713, 2.0053999423980713, 2.0053000450134277, 2.0053000450134277, 2.005199909210205, 2.005199909210205, 2.005199909210205, 2.005000114440918, 2.005000114440918, 2.0048999786376953, 2.0048999786376953, 2.004699945449829, 2.004699945449829, 2.004499912261963, 2.0044000148773193, 2.004199981689453, 2.004199981689453, 2.0041000843048096, 2.0041000843048096, 2.0041000843048096, 2.0041000843048096, 2.0041000843048096, 2.0039000511169434, 2.0037999153137207, 2.0037999153137207, 2.0037999153137207, 2.0023000240325928, 1.9448000192642212, 1.9609999656677246, 1.8640999794006348, 1.917099952697754, 1.7315000295639038, 1.9160000085830688, 1.7681000232696533, 1.9355000257492065, 1.6601999998092651, 1.648800015449524, 1.4621000289916992, 1.7240999937057495, 1.517199993133545, 1.4752000570297241, 1.3040000200271606, 1.2030999660491943, 0.9781000018119812, 1.3386000394821167, 1.523900032043457, 0.38100001215934753, 0.1462000012397766, 0.9431999921798706, 0.34700000286102295, 0.36579999327659607, 1.1890000104904175, 0.9796000123023987, 0.07779999822378159, 0.17489999532699585, 0.44179999828338623, 2.9026999473571777, 2.9026999473571777, 2.9024999141693115, 2.902400016784668, 2.9022998809814453, 2.902100086212158, 2.902100086212158, 2.901900053024292, 2.901700019836426, 2.901599884033203, 2.901599884033203, 2.901599884033203, 2.9014999866485596, 2.9014999866485596, 2.9014999866485596, 2.901400089263916, 2.9012999534606934, 2.9012999534606934, 2.90120005607605, 2.90120005607605, 2.9010000228881836, 2.900899887084961, 2.9007999897003174, 2.900700092315674, 2.900700092315674, 2.900599956512451, 2.900599956512451, 2.9005000591278076, 2.9005000591278076, 2.9003000259399414, 2.8708999156951904, 2.888400077819824, 2.4667999744415283, 2.7609000205993652, 2.799999952316284, 2.7358999252319336, 2.3938000202178955, 2.1644999980926514, 2.170799970626831, 2.3968000411987305, 1.517799973487854, 1.298200011253357, 0.6585999727249146, 3.0977001190185547, 3.0975000858306885, 3.093400001525879, 3.0924999713897705, 3.092099905014038, 3.0915000438690186, 3.0905001163482666, 3.0903000831604004, 3.08870005607605, 3.0852999687194824, 3.078900098800659, 3.0780999660491943, 3.076900005340576, 3.074199914932251, 3.0731000900268555, 3.0729000568389893, 3.0713999271392822, 3.0713000297546387, 3.070199966430664, 3.0692999362945557, 3.06850004196167, 3.0653998851776123, 3.0648000240325928, 3.012700080871582, 1.0503000020980835, 0.0820000022649765, 0.08179999887943268, 0.08139999955892563, 0.08110000193119049, 0.08100000023841858, 0.08100000023841858, -2.05430006980896, -2.752500057220459, -3.3589000701904297, -4.114099979400635, 3.3601999282836914, 3.359499931335449, 3.3594000339508057, 3.3589999675750732, 3.3589999675750732, 3.3589000701904297, 3.3587000370025635, 3.3587000370025635, 3.358599901199341, 3.358599901199341, 3.358299970626831, 3.358299970626831, 3.358099937438965, 3.3580000400543213, 3.3578999042510986, 3.3578999042510986, 3.3577001094818115, 3.357599973678589, 3.3575000762939453, 3.3573999404907227, 3.357100009918213, 3.3570001125335693, 3.3568999767303467, 3.356800079345703, 3.356600046157837, 3.356600046157837, 3.3564000129699707, 3.3564000129699707, 3.3559999465942383, 3.3559000492095947, 3.3157999515533447, 3.328399896621704, 3.1967999935150146, 3.2964999675750732, 3.222599983215332, 2.919100046157837, 3.0278000831604004, 2.833899974822998, 2.873199939727783, 2.5394999980926514, 1.9182000160217285, 2.498800039291382, 2.63319993019104, 2.048799991607666, 1.6368999481201172, 1.8905999660491943, 0.4442000091075897, 3.476900100708008, 3.476900100708008, 3.4767000675201416, 3.4765000343322754, 3.4765000343322754, 3.4763998985290527, 3.476300001144409, 3.476099967956543, 3.476099967956543, 3.4760000705718994, 3.4760000705718994, 3.4760000705718994, 3.4758999347686768, 3.4758999347686768, 3.4758999347686768, 3.4756999015808105, 3.475600004196167, 3.4755001068115234, 3.475399971008301, 3.474900007247925, 3.4748001098632812, 3.4746999740600586, 3.4746999740600586, 3.4744999408721924, 3.47379994392395, 3.473599910736084, 3.473599910736084, 3.473400115966797, 3.473400115966797, 3.4730000495910645, 3.2353999614715576, 2.799499988555908, 3.1066999435424805, 2.8447000980377197, 1.9809999465942383, 2.8833000659942627, 1.7790000438690186, 0.7342000007629395, 4.793300151824951, 4.792600154876709, 4.792300224304199, 4.792200088500977, 4.792099952697754, 4.791900157928467, 4.791900157928467, 4.791600227355957, 4.791600227355957, 4.791500091552734, 4.791500091552734, 4.790999889373779, 4.790999889373779, 4.790800094604492, 4.789700031280518, 4.789299964904785, 4.789100170135498, 4.789000034332275, 4.788899898529053, 4.788599967956543, 4.788599967956543, 4.78849983215332, 4.788000106811523, 4.787600040435791, 4.786600112915039, 4.786499977111816, 4.786399841308594, 4.785999774932861, 4.785999774932861, 4.785999774932861, 4.6946001052856445, 4.3343000411987305, 3.5097999572753906, 4.845200061798096, 4.844099998474121, 4.843699932098389, 4.843400001525879, 4.843400001525879, 4.842299938201904, 4.842100143432617, 4.8420000076293945, 4.839099884033203, 4.837500095367432, 4.836900234222412, 4.835999965667725, 4.835000038146973, 4.831299781799316, 4.828999996185303, 4.821400165557861, 4.821100234985352, 4.819699764251709, 4.727799892425537, 4.641200065612793, 4.55019998550415, 4.521399974822998, 4.418499946594238, 4.096499919891357, 4.025899887084961, 3.920599937438965, 3.8080999851226807, 3.6398000717163086, 3.63070011138916, 2.968400001525879, 2.634200096130371, 2.344599962234497, 2.4305999279022217, 2.1772000789642334, 2.336400032043457, 2.6714000701904297, 1.7142000198364258, 0.3905999958515167, 4.9415998458862305, 4.941299915313721, 4.940499782562256, 4.939899921417236, 4.939599990844727, 4.939599990844727, 4.939300060272217, 4.939000129699707, 4.938799858093262, 4.938399791717529, 4.938300132751465, 4.938199996948242, 4.938199996948242, 4.937900066375732, 4.93720006942749, 4.936999797821045, 4.936200141906738, 4.935800075531006, 4.933800220489502, 4.933700084686279, 4.933499813079834, 4.9328999519348145, 4.932400226593018, 4.932199954986572, 4.932000160217285, 4.929500102996826, 4.9293999671936035, 4.928599834442139, 4.928400039672852, 4.927499771118164, 4.69379997253418, 4.160799980163574, 4.990600109100342, 4.9882001876831055, 4.988100051879883, 4.98769998550415, 4.987400054931641, 4.987199783325195, 4.985599994659424, 4.984300136566162, 4.9842000007629395, 4.984099864959717, 4.983399868011475, 4.982900142669678, 4.980899810791016, 4.980800151824951, 4.978300094604492, 4.977200031280518, 4.976099967956543, 4.975399971008301, 4.974299907684326, 4.973899841308594, 4.971799850463867, 4.97160005569458, 4.970600128173828, 4.969099998474121, 4.968599796295166, 4.967899799346924, 4.966000080108643, 4.96589994430542, 4.965400218963623, 4.962699890136719, 4.810400009155273, 4.143400192260742, 3.9537999629974365, 4.0854997634887695, 3.6531999111175537, 3.5796000957489014, 3.4400999546051025, 3.0322000980377197, 5.022900104522705, 5.020500183105469, 5.019999980926514, 5.019899845123291, 5.019599914550781, 5.019100189208984, 5.018400192260742, 5.0177998542785645, 5.01669979095459, 5.016600131988525, 5.016300201416016, 5.015900135040283, 5.015699863433838, 5.014800071716309, 5.014400005340576, 5.012700080871582, 5.0121002197265625, 5.011499881744385, 5.01140022277832, 5.010900020599365, 5.010200023651123, 5.0100998878479, 5.009799957275391, 5.009300231933594, 5.007699966430664, 5.006700038909912, 5.006199836730957, 5.005899906158447, 5.0055999755859375, 5.002399921417236, 4.781799793243408, 4.226900100708008, 4.029699802398682, 4.261600017547607, 3.4367001056671143, 3.25819993019104, 4.043499946594238, 5.211599826812744, 5.210299968719482, 5.208899974822998, 5.208799839019775, 5.205399990081787, 5.2052001953125, 5.2052001953125, 5.2042999267578125, 5.203100204467773, 5.202199935913086, 5.202099800109863, 5.201600074768066, 5.196400165557861, 5.196199893951416, 5.1930999755859375, 5.188600063323975, 5.18720006942749, 5.185299873352051, 5.183899879455566, 5.18209981918335, 5.167699813842773, 5.153200149536133, 5.1020002365112305, 3.6414999961853027, 3.1405999660491943, 2.6098999977111816, 2.3986001014709473, 2.1512999534606934, 2.1512999534606934, 2.15120005607605, -0.8162999749183655, 5.269000053405762, 5.268899917602539, 5.268499851226807, 5.26800012588501, 5.26800012588501, 5.266600131988525, 5.266600131988525, 5.265600204467773, 5.265399932861328, 5.265200138092041, 5.264200210571289, 5.263899803161621, 5.263199806213379, 5.262899875640869, 5.262499809265137, 5.261099815368652, 5.258600234985352, 5.2571001052856445, 5.25629997253418, 5.250699996948242, 5.249599933624268, 5.249199867248535, 5.23829984664917, 5.236499786376953, 5.233699798583984, 5.233099937438965, 5.224400043487549, 5.224299907684326, 5.172100067138672, 5.161499977111816, 3.5213000774383545, 3.7327001094818115, 5.2692999839782715, 5.269199848175049, 5.269000053405762, 5.268700122833252, 5.268700122833252, 5.268599987030029, 5.26800012588501, 5.26669979095459, 5.26639986038208, 5.2657999992370605, 5.265699863433838, 5.265500068664551, 5.264800071716309, 5.263899803161621, 5.263800144195557, 5.263700008392334, 5.263400077819824, 5.262499809265137, 5.26200008392334, 5.260700225830078, 5.259799957275391, 5.259399890899658, 5.256899833679199, 5.256100177764893, 5.25540018081665, 5.252699851989746, 5.251800060272217, 5.251200199127197, 5.251200199127197, 5.250999927520752, 4.901700019836426, 4.408999919891357, 5.721199989318848, 5.720600128173828, 5.7195000648498535, 5.718100070953369, 5.7179999351501465, 5.715700149536133, 5.714300155639648, 5.708600044250488, 5.707399845123291, 5.706699848175049, 5.700500011444092, 5.693299770355225, 5.683599948883057, 5.670300006866455, 5.666999816894531, 5.66540002822876, 5.658599853515625, 5.651500225067139, 5.612100124359131, 5.5258002281188965, 3.7797000408172607, 2.7111001014709473, 2.4414000511169434, 2.262200117111206, 2.262200117111206, 2.262200117111206, 2.2620999813079834, 2.2620999813079834, 2.2620999813079834, 2.2620999813079834, 6.035600185394287, 6.03439998626709, 6.033100128173828, 6.031099796295166, 6.030399799346924, 6.030200004577637, 6.029600143432617, 6.026599884033203, 6.025300025939941, 6.024899959564209, 6.024199962615967, 6.019599914550781, 6.013500213623047, 6.0106000900268555, 6.002200126647949, 5.960700035095215, 5.945099830627441, 5.859600067138672, 5.167799949645996, 2.5692999362945557, 2.5692999362945557, 2.5692999362945557, 2.569200038909912, 2.569200038909912, 2.569200038909912, 2.569200038909912, 2.569200038909912, 2.569200038909912, 2.569200038909912, 2.569200038909912, 2.569200038909912, 2.569200038909912, 2.569200038909912, 2.569200038909912, 2.569200038909912, 2.569200038909912, 2.569200038909912, 6.398399829864502, 6.394199848175049, 6.390399932861328, 6.389100074768066, 6.38730001449585, 6.383500099182129, 6.382800102233887, 6.382400035858154, 6.370800018310547, 6.355400085449219, 6.354700088500977, 6.347700119018555, 6.328400135040283, 6.320400238037109, 6.317999839782715, 6.2891998291015625, 6.289100170135498, 6.268099784851074, 6.136300086975098, 6.063799858093262, 5.530300140380859, 5.159999847412109, 5.052599906921387, 4.82480001449585, 4.730299949645996, 3.900399923324585, 3.594399929046631, 3.4742000102996826, 2.5583999156951904, 2.558300018310547, 7.962200164794922, 7.905200004577637, 7.835999965667725, 7.6479997634887695, 7.557400226593018, 2.940200090408325, 2.940200090408325, 2.940200090408325, 2.940200090408325, 2.940200090408325, 2.940200090408325, 2.940200090408325, 2.940200090408325, 2.940200090408325, 2.940200090408325, 2.940200090408325, 2.940200090408325, 2.940200090408325, 2.940200090408325, 2.940200090408325, 2.940200090408325, 2.940200090408325, 2.940200090408325, 2.940200090408325, 2.940200090408325, 2.940200090408325, 2.940200090408325, 2.940200090408325, 2.940200090408325, 2.940200090408325, 2.940200090408325, 2.9400999546051025, 2.9400999546051025, 2.9400999546051025, 2.9400999546051025, 2.9400999546051025, 2.9400999546051025, 2.9400999546051025, 2.9400999546051025, 2.9400999546051025, 2.9400999546051025], \"logprob\": [30.0, 29.0, 28.0, 27.0, 26.0, 25.0, 24.0, 23.0, 22.0, 21.0, 20.0, 19.0, 18.0, 17.0, 16.0, 15.0, 14.0, 13.0, 12.0, 11.0, 10.0, 9.0, 8.0, 7.0, 6.0, 5.0, 4.0, 3.0, 2.0, 1.0, -3.7897000312805176, -4.708899974822998, -5.3917999267578125, -5.408899784088135, -5.638700008392334, -6.161900043487549, -6.17519998550415, -6.189199924468994, -6.252500057220459, -6.274400234222412, -6.279399871826172, -6.313199996948242, -6.316800117492676, -6.401299953460693, -6.4268999099731445, -6.455100059509277, -6.498199939727783, -6.519700050354004, -6.567399978637695, -6.574900150299072, -6.5995001792907715, -6.677499771118164, -6.728799819946289, -6.7322001457214355, -6.747499942779541, -6.750500202178955, -6.765600204467773, -6.814700126647949, -6.843999862670898, -6.853899955749512, -5.3302998542785645, -3.8919999599456787, -3.573199987411499, -3.7283999919891357, -4.9593000411987305, -3.5492000579833984, -3.5118000507354736, -4.839700222015381, -3.1449999809265137, -4.867800235748291, -5.099299907684326, -5.286799907684326, -4.66510009765625, -3.4728000164031982, -5.558599948883057, -4.46589994430542, -4.0528998374938965, -4.672299861907959, -3.858099937438965, -4.861700057983398, -5.632800102233887, -4.6072001457214355, -5.231500148773193, -5.793900012969971, -4.493500232696533, -4.533599853515625, -4.896200180053711, -4.975399971008301, -4.78410005569458, -4.814700126647949, -4.560299873352051, -5.067200183868408, -4.980000019073486, -4.808300018310547, -4.9822001457214355, -4.893899917602539, -4.915800094604492, -5.081500053405762, -5.182700157165527, -5.418700218200684, -5.466599941253662, -5.467400074005127, -5.598700046539307, -5.674900054931641, -5.716100215911865, -5.717299938201904, -5.762700080871582, -5.7895002365112305, -5.802299976348877, -5.86329984664917, -5.914899826049805, -5.920400142669678, -5.9243998527526855, -5.930699825286865, -5.967800140380859, -6.000400066375732, -6.014100074768066, -6.017099857330322, -6.047500133514404, -6.175099849700928, -6.198200225830078, -6.222099781036377, -6.250500202178955, -6.252699851989746, -6.287700176239014, -6.351099967956543, -5.059899806976318, -4.344200134277344, -5.396200180053711, -5.065299987792969, -5.634900093078613, -5.158299922943115, -5.228799819946289, -5.592299938201904, -3.56820011138916, -3.869499921798706, -5.48360013961792, -5.101099967956543, -4.298299789428711, -4.937699794769287, -4.400300025939941, -3.982100009918213, -4.7256999015808105, -5.090199947357178, -4.341300010681152, -5.258399963378906, -4.533599853515625, -5.031199932098389, -4.844099998474121, -4.927299976348877, -5.410999774932861, -4.9903998374938965, -5.314799785614014, -4.539899826049805, -5.056700229644775, -5.070799827575684, -5.1020002365112305, -5.0395002365112305, -5.082300186157227, -5.189199924468994, -4.169899940490723, -4.490499973297119, -4.502799987792969, -4.668799877166748, -4.804699897766113, -4.9029998779296875, -4.903900146484375, -4.914999961853027, -5.008500099182129, -5.190800189971924, -5.21120023727417, -5.226200103759766, -5.2453999519348145, -5.3730998039245605, -5.394899845123291, -5.418900012969971, -5.460100173950195, -5.475200176239014, -5.487299919128418, -5.519599914550781, -5.532299995422363, -5.566999912261963, -5.690000057220459, -5.787300109863281, -5.798600196838379, -5.831500053405762, -4.7758002281188965, -5.8495001792907715, -5.889800071716309, -5.8983001708984375, -4.378300189971924, -5.128200054168701, -5.263500213623047, -4.652299880981445, -5.09250020980835, -3.9493000507354736, -4.94379997253418, -4.609799861907959, -4.994100093841553, -5.084199905395508, -5.062600135803223, -5.196899890899658, -5.281599998474121, -4.918700218200684, -4.043799877166748, -4.399899959564209, -4.615499973297119, -4.421500205993652, -4.835299968719482, -4.292099952697754, -4.81220006942749, -4.819799900054932, -4.928400039672852, -4.781799793243408, -5.046800136566162, -4.89300012588501, -5.014100074768066, -4.142099857330322, -4.356299877166748, -4.7947001457214355, -4.991499900817871, -5.0883002281188965, -4.584499835968018, -5.237299919128418, -5.292300224304199, -5.303199768066406, -5.348100185394287, -5.382699966430664, -5.489099979400635, -5.55709981918335, -5.569200038909912, -5.608099937438965, -5.769199848175049, -5.773600101470947, -5.852099895477295, -5.947700023651123, -6.012700080871582, -6.040500164031982, -6.078100204467773, -6.082699775695801, -6.084700107574463, -6.10099983215332, -6.101500034332275, -6.157899856567383, -6.193900108337402, -6.212399959564209, -6.22130012512207, -5.815400123596191, -5.23859977722168, -5.668099880218506, -4.689000129699707, -5.498600006103516, -4.390100002288818, -5.596399784088135, -4.901100158691406, -5.796299934387207, -4.877299785614014, -4.898799896240234, -4.623899936676025, -5.307600021362305, -4.887400150299072, -4.851200103759766, -4.70989990234375, -4.749800205230713, -4.5, -5.038000106811523, -5.308000087738037, -4.649899959564209, -4.587900161743164, -5.024400234222412, -4.889599800109863, -4.997200012207031, -5.242700099945068, -5.2357001304626465, -5.20989990234375, -5.267300128936768, -5.281799793243408, -3.372299909591675, -3.424099922180176, -3.8278000354766846, -3.982800006866455, -4.1859002113342285, -4.370500087738037, -4.454800128936768, -4.568900108337402, -4.752099990844727, -4.7906999588012695, -4.811200141906738, -4.840199947357178, -4.874499797821045, -4.896900177001953, -4.907899856567383, -4.972499847412109, -5.002699851989746, -5.029799938201904, -5.037099838256836, -5.075399875640869, -5.153600215911865, -5.215000152587891, -5.238800048828125, -5.280200004577637, -5.296000003814697, -5.323400020599365, -5.337399959564209, -5.3618998527526855, -5.362100124359131, -5.4359002113342285, -3.8380000591278076, -4.798999786376953, -3.218899965286255, -4.85699987411499, -5.116399765014648, -5.012800216674805, -4.615099906921387, -4.4618000984191895, -4.582399845123291, -4.790500164031982, -4.37060022354126, -4.712800025939941, -4.790599822998047, -0.1518000066280365, -2.8029000759124756, -5.668399810791016, -5.875699996948242, -5.951000213623047, -6.047399997711182, -6.188499927520752, -6.228899955749512, -6.416999816894531, -6.738699913024902, -7.158899784088135, -7.200300216674805, -7.262199878692627, -7.3850998878479, -7.433300018310547, -7.439199924468994, -7.49970006942749, -7.504799842834473, -7.546000003814697, -7.575799942016602, -7.604400157928467, -7.708700180053711, -7.727799892425537, -8.70259952545166, -9.357099533081055, -14.089900016784668, -14.090200424194336, -14.090499877929688, -14.090900421142578, -14.090900421142578, -14.090900421142578, -8.569199562072754, -9.286299705505371, -9.350000381469727, -9.449999809265137, -3.4221999645233154, -4.266200065612793, -4.297800064086914, -4.579999923706055, -4.5991997718811035, -4.615799903869629, -4.703700065612793, -4.7144999504089355, -4.769499778747559, -4.791399955749512, -4.899799823760986, -4.91349983215332, -4.96999979019165, -5.0015997886657715, -5.02869987487793, -5.037700176239014, -5.109300136566162, -5.1554999351501465, -5.178100109100342, -5.216000080108643, -5.273499965667725, -5.32480001449585, -5.331099987030029, -5.3653998374938965, -5.402299880981445, -5.418600082397461, -5.4506001472473145, -5.453700065612793, -5.550300121307373, -5.5569000244140625, -3.1923999786376953, -4.920599937438965, -4.316800117492676, -5.092899799346924, -4.777200222015381, -3.52839994430542, -4.1132001876831055, -4.125999927520752, -4.268700122833252, -3.591200113296509, -3.9735000133514404, -4.499800205230713, -4.924099922180176, -4.902699947357178, -4.8653998374938965, -4.932799816131592, -4.918799877166748, -2.6185998916625977, -2.740299940109253, -3.3066000938415527, -3.490799903869629, -3.5999999046325684, -3.6335999965667725, -3.824199914932251, -3.9839999675750732, -3.9946000576019287, -4.0528998374938965, -4.057799816131592, -4.075799942016602, -4.113100051879883, -4.1402997970581055, -4.158899784088135, -4.321700096130371, -4.355199813842773, -4.412799835205078, -4.480400085449219, -4.730899810791016, -4.765999794006348, -4.79610013961792, -4.807000160217285, -4.86359977722168, -5.09499979019165, -5.147500038146973, -5.15749979019165, -5.198800086975098, -5.202199935913086, -5.3140997886657715, -3.9140000343322754, -3.6796000003814697, -4.632500171661377, -4.342100143432617, -3.8903000354766846, -4.644999980926514, -4.231900215148926, -4.671800136566162, -3.2581000328063965, -3.5520999431610107, -3.678999900817871, -3.7004001140594482, -3.716200113296509, -3.786400079727173, -3.794100046157837, -3.8649001121520996, -3.875699996948242, -3.8873000144958496, -3.890399932861328, -4.0100998878479, -4.026100158691406, -4.0619001388549805, -4.280600070953369, -4.338099956512451, -4.3703999519348145, -4.38700008392334, -4.401199817657471, -4.450200080871582, -4.4532999992370605, -4.472700119018555, -4.53879976272583, -4.585999965667725, -4.713600158691406, -4.71589994430542, -4.73360013961792, -4.770500183105469, -4.777500152587891, -4.778600215911865, -3.7943999767303467, -4.617400169372559, -4.7418999671936035, -2.0078001022338867, -3.0204999446868896, -3.2353999614715576, -3.3638999462127686, -3.367300033569336, -3.7253000736236572, -3.788100004196167, -3.8069000244140625, -4.388299942016602, -4.592700004577637, -4.668900012969971, -4.764200210571289, -4.857900142669678, -5.160900115966797, -5.305500030517578, -5.684100151062012, -5.696400165557861, -5.750999927520752, -7.304900169372559, -7.899799823760986, -4.0370001792907715, -3.67930006980896, -3.61899995803833, -6.168300151824951, -4.4029998779296875, -5.349899768829346, -4.399700164794922, -5.001500129699707, -5.3084001541137695, -5.663300037384033, -3.8450000286102295, -4.438399791717529, -4.735499858856201, -4.646699905395508, -4.804599761962891, -5.049200057983398, -4.794000148773193, -5.313399791717529, -2.9500999450683594, -3.136199951171875, -3.430299997329712, -3.621000051498413, -3.7056000232696533, -3.7190001010894775, -3.7797000408172607, -3.86929988861084, -3.906599998474121, -3.9918999671936035, -4.005499839782715, -4.027100086212158, -4.02810001373291, -4.088399887084961, -4.204699993133545, -4.233399868011475, -4.350500106811523, -4.4028000831604, -4.637800216674805, -4.65500020980835, -4.67710018157959, -4.734000205993652, -4.774499893188477, -4.797500133514404, -4.816699981689453, -5.014800071716309, -5.019800186157227, -5.07390022277832, -5.086900234222412, -5.150400161743164, -4.490200042724609, -4.833499908447266, -1.6233999729156494, -3.3966000080108643, -3.413800001144409, -3.550600051879883, -3.648200035095215, -3.6777000427246094, -4.031799793243408, -4.242599964141846, -4.258600234985352, -4.278900146484375, -4.373799800872803, -4.434999942779541, -4.649400234222412, -4.660900115966797, -4.882500171661377, -4.960999965667725, -5.041200160980225, -5.082799911499023, -5.154099941253662, -5.179200172424316, -5.292799949645996, -5.301400184631348, -5.353899955749512, -5.425300121307373, -5.449900150299072, -5.47760009765625, -5.557799816131592, -5.564799785614014, -5.582699775695801, -5.684299945831299, -4.409900188446045, -4.403600215911865, -4.238399982452393, -4.563499927520752, -4.517600059509277, -4.929200172424316, -5.0233001708984375, -5.148900032043457, -2.313800096511841, -3.503200054168701, -3.647900104522705, -3.6721999645233154, -3.7495999336242676, -3.861999988555908, -3.9969000816345215, -4.110000133514404, -4.274099826812744, -4.286099910736084, -4.31790018081665, -4.377600193023682, -4.398799896240234, -4.500100135803223, -4.544400215148926, -4.711400032043457, -4.761899948120117, -4.814499855041504, -4.825500011444092, -4.863900184631348, -4.913400173187256, -4.922699928283691, -4.947700023651123, -4.981299877166748, -5.082600116729736, -5.1468000411987305, -5.175300121307373, -5.189499855041504, -5.209499835968018, -5.368100166320801, -3.6816000938415527, -3.3714001178741455, -4.4745001792907715, -4.7266998291015625, -4.654300212860107, -4.798900127410889, -4.944499969482422, -1.4500999450683594, -2.6589999198913574, -3.2695999145507812, -3.295099973678589, -4.007699966430664, -4.0278000831604, -4.032899856567383, -4.160699844360352, -4.303699970245361, -4.399499893188477, -4.4054999351501465, -4.457099914550781, -4.860099792480469, -4.869800090789795, -5.051300048828125, -5.2677998542785645, -5.327700138092041, -5.399799823760986, -5.452300071716309, -5.517099857330322, -5.914899826049805, -6.2058000564575195, -6.856500148773193, -4.539599895477295, -5.356400012969971, -6.122200012207031, -5.0690999031066895, -12.020600318908691, -12.020600318908691, -12.020700454711914, -8.633899688720703, -2.7916998863220215, -2.804500102996826, -3.0002999305725098, -3.174099922180176, -3.1751999855041504, -3.5308001041412354, -3.5376999378204346, -3.7393999099731445, -3.775899887084961, -3.80649995803833, -3.9695000648498535, -4.007800102233887, -4.101399898529053, -4.1427001953125, -4.198200225830078, -4.342599868774414, -4.571300029754639, -4.685100078582764, -4.7393999099731445, -5.063600063323975, -5.116399765014648, -5.133699893951416, -5.546199798583984, -5.600100040435791, -5.677800178527832, -5.695099830627441, -5.906300067901611, -5.907299995422363, -6.684299945831299, -6.791200160980225, -5.020299911499023, -5.451300144195557, -3.3173999786376953, -3.342600107192993, -3.389699935913086, -3.4672000408172607, -3.4681999683380127, -3.4960999488830566, -3.6147000789642334, -3.868499994277954, -3.91510009765625, -3.9981000423431396, -4.007599830627441, -4.037700176239014, -4.123600006103516, -4.237100124359131, -4.242199897766113, -4.256400108337402, -4.285299777984619, -4.383999824523926, -4.4253997802734375, -4.538899898529053, -4.616300106048584, -4.645699977874756, -4.816400051116943, -4.863900184631348, -4.9054999351501465, -5.048600196838379, -5.092100143432617, -5.120100021362305, -5.123000144958496, -5.129000186920166, -3.6357998847961426, -4.660200119018555, -2.0852999687194824, -2.4000000953674316, -2.7915000915527344, -3.1328001022338867, -3.1554999351501465, -3.536600112915039, -3.725399971008301, -4.233699798583984, -4.318699836730957, -4.36299991607666, -4.692599773406982, -4.974400043487549, -5.262700080871582, -5.562099933624268, -5.623700141906738, -5.652400016784668, -5.7677998542785645, -5.877299785614014, -6.33650016784668, -6.956999778747559, -10.269599914550781, -4.111999988555908, -4.673799991607666, -11.909700393676758, -11.909700393676758, -11.909799575805664, -11.909799575805664, -11.909799575805664, -11.909799575805664, -11.909799575805664, -2.972399950027466, -3.173099994659424, -3.3543999195098877, -3.5699000358581543, -3.6393001079559326, -3.657099962234497, -3.7114999294281006, -3.9433000087738037, -4.027599811553955, -4.052299976348877, -4.098199844360352, -4.338099956512451, -4.590799808502197, -4.690899848937988, -4.938700199127197, -5.682799816131592, -5.868199825286865, -6.548600196838379, -8.495200157165527, -11.602700233459473, -11.602700233459473, -11.602700233459473, -11.602700233459473, -11.602800369262695, -11.602800369262695, -11.602800369262695, -11.602800369262695, -11.602800369262695, -11.602800369262695, -11.602800369262695, -11.602800369262695, -11.602800369262695, -11.602800369262695, -11.602800369262695, -11.602800369262695, -11.602800369262695, -11.602800369262695, -2.9040000438690186, -3.353600025177002, -3.6301000118255615, -3.714900016784668, -3.8166000843048096, -4.002799987792969, -4.032800197601318, -4.052800178527832, -4.456600189208984, -4.828199863433838, -4.842899799346924, -4.974999904632568, -5.270299911499023, -5.372399806976318, -5.401500225067139, -5.6992998123168945, -5.699699878692627, -5.8755998611450195, -6.614799976348877, -6.890900135040283, -8.12440013885498, -8.694299697875977, -8.842000007629395, -9.138400077819824, -3.407399892807007, -4.11359977722168, -4.089099884033203, -4.203999996185303, -11.613499641418457, -11.613699913024902, -3.612799882888794, -4.196000099182129, -4.648600101470947, -5.402200222015381, -5.659200191497803, -11.231800079345703, -11.231800079345703, -11.231800079345703, -11.231800079345703, -11.231800079345703, -11.231800079345703, -11.231800079345703, -11.231800079345703, -11.231800079345703, -11.231800079345703, -11.231800079345703, -11.231800079345703, -11.231800079345703, -11.231800079345703, -11.231800079345703, -11.231800079345703, -11.231800079345703, -11.231800079345703, -11.231800079345703, -11.231800079345703, -11.231800079345703, -11.231800079345703, -11.231800079345703, -11.231800079345703, -11.231800079345703, -11.231800079345703, -11.231800079345703, -11.231800079345703, -11.231800079345703, -11.231800079345703, -11.231800079345703, -11.231800079345703, -11.231800079345703, -11.231800079345703, -11.231800079345703, -11.231800079345703]}, \"token.table\": {\"Topic\": [4, 3, 7, 3, 4, 11, 3, 9, 6, 6, 12, 3, 10, 1, 2, 3, 4, 2, 5, 7, 14, 15, 13, 7, 1, 2, 3, 4, 1, 3, 1, 2, 4, 7, 3, 11, 17, 17, 9, 10, 4, 9, 7, 1, 18, 6, 12, 4, 3, 19, 17, 2, 6, 7, 12, 15, 11, 1, 2, 13, 12, 2, 4, 4, 2, 4, 20, 1, 4, 1, 5, 1, 19, 1, 8, 10, 11, 1, 2, 10, 3, 3, 5, 8, 15, 3, 4, 18, 5, 16, 2, 3, 2, 14, 20, 2, 1, 9, 14, 8, 8, 1, 6, 3, 6, 2, 3, 4, 20, 6, 12, 5, 5, 9, 1, 8, 12, 11, 18, 1, 3, 4, 7, 17, 6, 15, 2, 3, 5, 17, 13, 6, 11, 19, 1, 15, 5, 2, 8, 4, 4, 4, 13, 15, 7, 2, 4, 7, 10, 10, 12, 3, 10, 8, 3, 1, 2, 4, 5, 13, 16, 16, 7, 1, 18, 9, 2, 10, 3, 8, 1, 3, 19, 7, 7, 14, 3, 4, 2, 14, 19, 14, 1, 2, 4, 7, 16, 6, 2, 7, 7, 10, 9, 7, 7, 18, 10, 14, 16, 11, 6, 15, 9, 3, 8, 16, 10, 2, 3, 2, 4, 12, 13, 4, 4, 19, 14, 2, 4, 17, 11, 2, 4, 11, 15, 9, 10, 16, 3, 4, 11, 14, 8, 11, 5, 1, 2, 4, 15, 2, 9, 15, 5, 18, 7, 14, 8, 2, 15, 15, 4, 13, 11, 2, 7, 1, 13, 3, 16, 10, 19, 1, 2, 3, 4, 5, 6, 1, 13, 1, 13, 4, 7, 10, 9, 10, 9, 13, 13, 1, 2, 4, 4, 1, 3, 4, 12, 4, 4, 12, 4, 12, 13, 10, 6, 5, 1, 2, 2, 12, 1, 2, 4, 7, 4, 2, 2, 3, 1, 8, 2, 3, 8, 1, 10, 7, 9, 1, 2, 1, 4, 6, 3, 3, 5, 1, 5, 10, 1, 2, 3, 4, 5, 1, 12, 14, 2, 3, 4, 10, 2, 4, 7, 15, 4, 8, 7, 13, 5, 16, 12, 4, 12, 5, 4, 9, 1, 2, 3, 5, 1, 2, 3, 4, 5, 1, 2, 5, 5, 11, 4, 1, 4, 5, 19, 19, 16, 12, 17, 7, 10, 11, 8, 13, 16, 1, 7, 9, 1, 2, 1, 2, 1, 5, 2, 8, 5, 16, 5, 16, 16, 2, 11, 1, 3, 6, 17, 5, 2, 4, 16, 18, 4, 17, 13, 16, 17, 17, 14, 2, 3, 4, 7, 3, 3, 10, 16, 3, 16, 7, 9, 19, 15, 3, 8, 5, 2, 12, 3, 19, 11, 13, 17, 17, 3, 4, 7, 6, 18, 11, 15, 19, 19, 13, 9, 13, 17, 14, 10, 10, 3, 5, 2, 2, 7, 2, 5, 1, 2, 4, 4, 1, 2, 5, 11, 2, 3, 4, 7, 15, 2, 6, 1, 2, 18, 1, 7, 10, 19, 7, 3, 2, 4, 1, 3, 3, 5, 16, 2, 15, 12, 1, 2, 3, 20, 4, 2, 5, 1, 2, 17, 2, 4, 19, 8, 1, 14, 10, 3, 1, 1, 2, 3, 4, 2, 4, 16, 2, 4, 9, 1, 2, 3, 4, 12, 2, 3, 5, 1, 16, 16, 1, 13, 3, 7, 14, 13, 5, 6, 1, 2, 3, 4, 5, 8, 8, 1, 2, 4, 1, 11, 11, 2, 8, 3, 11, 3, 4, 10, 15, 18, 9, 6, 9, 18, 5, 1, 1, 13, 8, 8, 12, 13, 4, 16, 5, 1, 2, 4, 8, 4, 7, 12, 1, 2, 3, 4, 3, 5, 7, 1, 3, 4, 18, 3, 1, 2, 1, 2, 3, 3, 11, 1, 1, 3, 1, 3, 4, 14, 1, 2, 4, 10, 1, 2, 3, 4, 5, 7, 19, 13, 1, 7, 11, 5, 2, 12, 14, 9, 1, 12, 13, 12, 1, 3, 8, 11, 3, 9, 17, 9, 19, 2, 11, 15, 1, 2, 3, 4, 6, 10, 6, 11, 1, 7, 8, 18, 2, 4, 7, 5, 15, 8, 10, 1, 13, 13, 15, 3, 10, 11, 5, 19, 1, 2, 3, 2, 13, 13, 5, 5, 5, 1, 2, 4, 5, 7, 17, 4, 7, 2, 3, 4, 7, 16, 16, 16, 9, 2, 1, 4, 17, 1, 1, 4, 8, 11, 16, 3, 9, 12, 13, 18, 9, 3, 8, 10, 1, 7, 10, 2, 15, 2, 3, 4, 7, 10, 14, 5, 9, 6, 1, 3, 4, 1, 8, 1, 4, 10, 13, 1, 2, 3, 4, 1, 2, 1, 2, 4, 19, 9, 2, 3, 15, 7, 2, 4, 15, 1, 3, 6, 6, 3, 4, 17, 6, 5, 1, 2, 4, 7, 1, 4, 9, 12, 16, 13, 17, 1, 3, 5, 8, 2, 1, 2, 2, 15, 3, 12, 1, 2, 4, 13, 18, 5, 14, 14, 8, 8, 12, 12, 5, 1, 2, 3, 5, 10, 2, 10, 10, 7, 10, 1, 2, 3, 4, 7, 2, 3, 3, 16, 16, 19, 1, 14, 9, 13, 3, 14, 3, 8, 13, 1, 2, 4, 5, 1, 2, 3, 19, 1, 1, 12, 13, 8, 1, 8, 5, 15, 2, 3, 16, 2, 13, 1, 2, 3, 4, 7, 4, 12, 1, 15, 2, 2, 4, 5, 10, 4, 19, 11, 15, 9, 2, 3, 4, 7, 8, 1, 2, 4, 1, 3, 13, 19, 8, 1, 3, 4, 10, 1, 2, 1, 2, 4, 7, 7, 5, 9, 1, 4, 12, 13, 11, 3, 10, 12, 12, 1, 2, 5, 7, 3, 4, 4, 1, 2, 4, 1, 2, 4, 4, 5, 1, 2, 3, 4, 5, 11, 14, 17, 18, 12, 11, 7, 1, 4, 4, 10, 4, 1, 2, 3, 4, 19, 18, 15, 15, 7, 1, 3, 19, 1, 3, 5, 6, 14, 14, 14, 18, 1, 3, 17, 1, 3, 4, 8, 10, 6, 3, 9, 4, 15, 14, 6, 1, 2, 3, 2, 14, 12, 2, 12, 7, 15, 6, 1, 2, 4, 5, 7, 8, 5, 8, 8, 8, 9, 10, 16, 2, 1, 2, 3, 4, 18, 1, 2, 3, 8, 10, 20, 2, 4, 1, 1, 2, 4, 1, 4, 8, 12, 1, 2, 5, 7, 2], \"Freq\": [0.9993999600410461, 0.9990666508674622, 0.9964205026626587, 0.9949772953987122, 0.004640134051442146, 0.9864003658294678, 0.9992097616195679, 0.9980915784835815, 0.9919720888137817, 0.9755123853683472, 0.9765469431877136, 0.2759132981300354, 0.7219731211662292, 0.24919511377811432, 0.14703969657421112, 0.4434507191181183, 0.16015522181987762, 0.15156705677509308, 0.2572651505470276, 0.5903137922286987, 0.9955378174781799, 0.8895723819732666, 0.9927319288253784, 0.995332658290863, 0.1854209303855896, 0.054397936910390854, 0.14213654398918152, 0.617094874382019, 0.9227805137634277, 0.07687810063362122, 0.9992831945419312, 0.033497635275125504, 0.9136768579483032, 0.05197908729314804, 0.9989076256752014, 0.9980332851409912, 0.9971196055412292, 0.9345390796661377, 0.904924213886261, 0.09202619642019272, 0.9984375834465027, 0.9890456795692444, 0.9976934194564819, 0.9998959302902222, 0.9739679098129272, 0.9907383918762207, 0.9715525507926941, 0.9970642924308777, 0.9994043111801147, 0.8937700986862183, 0.9532962441444397, 0.998951256275177, 0.9999775290489197, 0.9949381947517395, 0.9979378581047058, 0.996715247631073, 0.9954822659492493, 0.969750165939331, 0.0301870945841074, 0.9857318997383118, 0.9779417514801025, 0.9219131469726562, 0.07710244506597519, 0.999295175075531, 0.24005095660686493, 0.7598259449005127, 0.9091611504554749, 0.9990725517272949, 0.998948335647583, 0.9221934080123901, 0.07730963081121445, 0.9990614056587219, 0.5372796654701233, 0.3822885751724243, 0.5076627731323242, 0.10934275388717651, 0.991599977016449, 0.36119961738586426, 0.28247663378715515, 0.35425347089767456, 0.9986914992332458, 0.15266698598861694, 0.06187030300498009, 0.7850296497344971, 0.9937495589256287, 0.3001898527145386, 0.6994159817695618, 0.9909745454788208, 0.9969434142112732, 0.9872996807098389, 0.041656725108623505, 0.95810467004776, 0.9972911477088928, 0.9438164830207825, 0.5870704650878906, 0.9986820220947266, 0.36543190479278564, 0.6285428404808044, 0.9891680479049683, 0.998406708240509, 0.9963163733482361, 0.9995211362838745, 0.9955645799636841, 0.9994677305221558, 0.9807403683662415, 0.48616108298301697, 0.4750857353210449, 0.038532938808202744, 0.693334698677063, 0.9873486161231995, 0.9939770698547363, 0.9983616471290588, 0.9972726106643677, 0.992517352104187, 0.9995079636573792, 0.9996364712715149, 0.9908155798912048, 0.992120087146759, 0.9347547292709351, 0.4320327341556549, 0.10348592698574066, 0.2856380045413971, 0.17836599051952362, 0.9955235719680786, 0.9929264187812805, 0.974621593952179, 0.2748282253742218, 0.602418839931488, 0.07305561006069183, 0.04928354546427727, 0.9914981126785278, 0.9919856786727905, 0.9899563789367676, 0.9817652106285095, 0.9988568425178528, 0.9821017384529114, 0.9979674220085144, 0.999359130859375, 0.9995493292808533, 0.9986850619316101, 0.9997237920761108, 0.9988674521446228, 0.9832019805908203, 0.9973574876785278, 0.9983037114143372, 0.0004591876349877566, 0.9991922974586487, 0.9972423315048218, 0.9974697232246399, 0.998556911945343, 0.9880680441856384, 0.993802547454834, 0.0053063444793224335, 0.9994356036186218, 0.9996076226234436, 0.2822644114494324, 0.7109388709068298, 0.006255167070776224, 0.000390947941923514, 0.9934815764427185, 0.9977266788482666, 0.975599467754364, 0.9975276589393616, 0.9983923435211182, 0.9665372371673584, 0.997143030166626, 0.6975876688957214, 0.2982788681983948, 0.9985343217849731, 0.0009353951900266111, 0.5699313879013062, 0.37495484948158264, 0.053175415843725204, 0.997626543045044, 0.9961845874786377, 0.9788256883621216, 0.9991539120674133, 0.9972838759422302, 0.9992794990539551, 0.9761151075363159, 0.953349769115448, 0.994060218334198, 0.750721275806427, 0.19159987568855286, 0.05741887539625168, 0.3058798313140869, 0.6890345215797424, 0.9935877323150635, 0.3852028250694275, 0.6140914559364319, 0.9962186813354492, 0.9920796751976013, 0.9969747066497803, 0.9980739951133728, 0.9987474083900452, 0.7723804712295532, 0.9917507767677307, 0.9943435788154602, 0.9794713258743286, 0.9859680533409119, 0.9686098694801331, 0.9472342729568481, 0.9972993731498718, 0.9905551671981812, 0.008912449702620506, 0.9913748502731323, 0.9877775311470032, 0.989234447479248, 0.010535887442529202, 0.9882974028587341, 0.011371622793376446, 0.9858685731887817, 0.9968363046646118, 0.99867182970047, 0.9964728951454163, 0.9390324354171753, 0.9768754839897156, 0.06760815531015396, 0.9321295022964478, 0.9616532921791077, 0.9948734641075134, 0.9496989846229553, 0.049670446664094925, 0.9943249225616455, 0.9980090260505676, 0.9974361658096313, 0.9858201146125793, 0.987031877040863, 0.08389277756214142, 0.9144313335418701, 0.9957993626594543, 0.9985818862915039, 0.9983813166618347, 0.9908427000045776, 0.997913122177124, 0.906531572341919, 0.08662555366754532, 0.006776611320674419, 0.9946892857551575, 0.9979658126831055, 0.9964151978492737, 0.9895579814910889, 0.9975051879882812, 0.986138641834259, 0.9968571066856384, 0.9995169043540955, 0.9992656707763672, 0.9988126158714294, 0.9942973256111145, 0.9784152507781982, 0.5475600361824036, 0.4506355822086334, 0.9871691465377808, 0.9969626069068909, 0.9955582618713379, 0.9981841444969177, 0.9896696209907532, 0.9993132948875427, 0.9901555776596069, 0.998859703540802, 0.8300233483314514, 0.3507889211177826, 0.36641815304756165, 0.15976525843143463, 0.018668223172426224, 0.10115572065114975, 0.0030390131287276745, 0.5306253433227539, 0.46492886543273926, 0.9977757334709167, 0.9906389713287354, 0.35004106163978577, 0.3464691936969757, 0.30003517866134644, 0.997440755367279, 0.9790891408920288, 0.9938046932220459, 0.9884556531906128, 0.9801318049430847, 0.4574607014656067, 0.3617229759693146, 0.18064922094345093, 0.999250590801239, 0.043571483343839645, 0.20142881572246552, 0.7542866468429565, 0.9899283647537231, 0.9991918802261353, 0.9970542192459106, 0.989179253578186, 0.6820499300956726, 0.2440362125635147, 0.07195939868688583, 0.9949154853820801, 0.9645149111747742, 0.9977608919143677, 0.008975624106824398, 0.989766538143158, 0.5939429402351379, 0.40316125750541687, 0.025563346222043037, 0.3353758454322815, 0.613138735294342, 0.025563346222043037, 0.9990378618240356, 0.9986714720726013, 0.9981791377067566, 0.9988861083984375, 0.4471510946750641, 0.5516037344932556, 0.9979863166809082, 0.9988113641738892, 0.9988251328468323, 0.5071708559989929, 0.4709443747997284, 0.9960665106773376, 0.9975650906562805, 0.01914830319583416, 0.9800449013710022, 0.250652939081192, 0.6057446002960205, 0.125326469540596, 0.9997775554656982, 0.013761749491095543, 0.9853412508964539, 0.9984250664710999, 0.8420103192329407, 0.1521279215812683, 0.13637907803058624, 0.4414674937725067, 0.12112465500831604, 0.05054449662566185, 0.2502180337905884, 0.9978955984115601, 0.9957422614097595, 0.9879605174064636, 0.07526163011789322, 0.48253679275512695, 0.441770076751709, 0.9975528717041016, 0.9984255433082581, 0.05830784887075424, 0.9384787082672119, 0.9962056875228882, 0.3086642622947693, 0.6897848844528198, 0.9973830580711365, 0.9810888767242432, 0.9997352361679077, 0.9959672093391418, 0.9805545210838318, 0.9986568689346313, 0.9690797924995422, 0.9979081153869629, 0.7209860682487488, 0.2758134603500366, 0.978175163269043, 0.003790623042732477, 0.017203597351908684, 0.0006803682772442698, 0.4468145966529846, 0.3143535852432251, 0.021047014743089676, 0.2093115895986557, 0.008496042340993881, 0.41976597905158997, 0.5667294859886169, 0.013515192084014416, 0.9979820847511292, 0.9886167645454407, 0.9997583031654358, 0.8320783972740173, 0.06178218871355057, 0.10595425218343735, 0.9828769564628601, 0.9870593547821045, 0.9931159019470215, 0.9908034801483154, 0.9600132703781128, 0.9559305906295776, 0.04358603432774544, 0.9936566948890686, 0.9988449215888977, 0.9823160171508789, 0.9896034598350525, 0.999099850654602, 0.9993132948875427, 0.9983706474304199, 0.13799455761909485, 0.8618050217628479, 0.9222081303596497, 0.07732963562011719, 0.9998198747634888, 0.998134434223175, 0.9991288185119629, 0.9976807832717896, 0.998573362827301, 0.9822741746902466, 0.9991909265518188, 0.9940560460090637, 0.9891247749328613, 0.5389189124107361, 0.45757266879081726, 0.800162672996521, 0.19975623488426208, 0.9731797575950623, 0.9840250015258789, 0.9983638525009155, 0.059019315987825394, 0.9401527643203735, 0.9959068894386292, 0.541768491268158, 0.9970096349716187, 0.9835818409919739, 0.9990628957748413, 0.9872581362724304, 0.8321520686149597, 0.8779533505439758, 0.9715707898139954, 0.009920536540448666, 0.9262841939926147, 0.05548151955008507, 0.008083400316536427, 0.9992971420288086, 0.9879962801933289, 0.011506409384310246, 0.9919502139091492, 0.9989845156669617, 0.9923102855682373, 0.9986956119537354, 0.9887097477912903, 0.9688660502433777, 0.9683036804199219, 0.9994022250175476, 0.9971966743469238, 0.997796893119812, 0.6428505182266235, 0.353339821100235, 0.9992676377296448, 0.91400146484375, 0.9879812598228455, 0.9959558844566345, 0.9982309341430664, 0.9973716735839844, 0.21399624645709991, 0.5555782914161682, 0.22965450584888458, 0.9780262112617493, 0.9943602085113525, 0.9837150573730469, 0.8816125988960266, 0.988515317440033, 0.9894111752510071, 0.9915149807929993, 0.9955983757972717, 0.9924355745315552, 0.98436439037323, 0.9857617020606995, 0.8489742875099182, 0.9994134306907654, 0.934739887714386, 0.06493731588125229, 0.9993206262588501, 0.9531548619270325, 0.046450041234493256, 0.13093826174736023, 0.8677868843078613, 0.7831494212150574, 0.15838463604450226, 0.058400336652994156, 0.9991195797920227, 0.17239528894424438, 0.34907662868499756, 0.477658748626709, 0.9944176077842712, 0.9619792103767395, 0.03666520491242409, 0.35685572028160095, 0.6428182125091553, 0.9979755878448486, 0.9983499050140381, 0.9802877902984619, 0.002934733172878623, 0.996635377407074, 0.988937258720398, 0.026539186015725136, 0.9674739241600037, 0.0024126532953232527, 0.8706178069114685, 0.9966267943382263, 0.9985966086387634, 0.4867130517959595, 0.5130519270896912, 0.8154245615005493, 0.18449074029922485, 0.9331602454185486, 0.06634356081485748, 0.9946476221084595, 0.9997115731239319, 0.9930558800697327, 0.9916091561317444, 0.902415931224823, 0.0077694011852145195, 0.08973658829927444, 0.9400405883789062, 0.9991028904914856, 0.39867129921913147, 0.6011488437652588, 0.9961631894111633, 0.003752812510356307, 0.9755906462669373, 0.7666728496551514, 0.23224733769893646, 0.9136924743652344, 0.9982461929321289, 0.9390098452568054, 0.05965474620461464, 0.9837448596954346, 0.9995587468147278, 0.9983843564987183, 0.6121154427528381, 0.1970776915550232, 0.00047460009227506816, 0.1903146356344223, 0.5479753613471985, 0.027398766949772835, 0.42194101214408875, 0.8099300861358643, 0.1895042210817337, 0.9963974952697754, 0.28935664892196655, 0.2839342951774597, 0.08084239810705185, 0.34530550241470337, 0.9937923550605774, 0.997594952583313, 0.39637836813926697, 0.6024951338768005, 0.9984912276268005, 0.9973111152648926, 0.9950053095817566, 0.7931429743766785, 0.20395106077194214, 0.81633061170578, 0.05565890669822693, 0.12677861750125885, 0.992753267288208, 0.9983188509941101, 0.9998453855514526, 0.43022313714027405, 0.0016616764478385448, 0.1839928925037384, 0.35771360993385315, 0.026284700259566307, 0.998772919178009, 0.9947189092636108, 0.38505423069000244, 0.03439965844154358, 0.5803555250167847, 0.998813271522522, 0.9975547194480896, 0.9969578385353088, 0.999036431312561, 0.9982328414916992, 0.9991512298583984, 0.9958311915397644, 0.785352885723114, 0.13200612366199493, 0.0818772166967392, 0.9825971722602844, 0.9947883486747742, 0.9891916513442993, 0.9643638134002686, 0.9976175427436829, 0.9885978698730469, 0.9990288615226746, 0.9974377155303955, 0.9983890056610107, 0.9867804050445557, 0.9989861249923706, 0.9993857741355896, 0.9910151958465576, 0.9971556067466736, 0.9986979961395264, 0.9953488111495972, 0.9978650212287903, 0.9245124459266663, 0.011135849170386791, 0.06444576382637024, 0.9967043399810791, 0.5158467888832092, 0.483228862285614, 0.9944552779197693, 0.14924262464046478, 0.11078531295061111, 0.15135954320430756, 0.5881500244140625, 0.4774966239929199, 0.09950725734233856, 0.4222148358821869, 0.5835984945297241, 0.41399019956588745, 0.002026383765041828, 0.9373102784156799, 0.9988731741905212, 0.40812134742736816, 0.5915390849113464, 0.25797009468078613, 0.09955290704965591, 0.6423434615135193, 0.9992927312850952, 0.9966829419136047, 0.9985455274581909, 0.9551068544387817, 0.04469304159283638, 0.8399743437767029, 0.1599041074514389, 0.9953261017799377, 0.003134885337203741, 0.8520516157150269, 0.1145881861448288, 0.033369749784469604, 0.9970120787620544, 0.1379772275686264, 0.13185139000415802, 0.5869137048721313, 0.049006711691617966, 0.06680081784725189, 0.027712129056453705, 0.966745138168335, 0.9913439750671387, 0.9992733001708984, 0.9978607892990112, 0.9961822032928467, 0.9979460835456848, 0.6492598652839661, 0.14202560484409332, 0.20740246772766113, 0.9931445717811584, 0.9981207847595215, 0.2122781127691269, 0.786325991153717, 0.9870851635932922, 0.8856719136238098, 0.11425113677978516, 0.9978870749473572, 0.9976624846458435, 0.9992581605911255, 0.9955576658248901, 0.9937281012535095, 0.9973635077476501, 0.9538068175315857, 0.9986905455589294, 0.7805435657501221, 0.2151104360818863, 0.1371821016073227, 0.2228144109249115, 0.2824588119983673, 0.3395470082759857, 0.005964439362287521, 0.011502848006784916, 0.9824730157852173, 0.9960789084434509, 0.7297949194908142, 0.2689759135246277, 0.9989303350448608, 0.9869868755340576, 0.7518265843391418, 0.19388078153133392, 0.05412505194544792, 0.9981208443641663, 0.9625623226165771, 0.9987034797668457, 0.9906607270240784, 0.6214517951011658, 0.3738815486431122, 0.9876583814620972, 0.9838385581970215, 0.9102333784103394, 0.08906233310699463, 0.9849552512168884, 0.8116330504417419, 0.18779806792736053, 0.2122371643781662, 0.6304833292961121, 0.15666264295578003, 0.99824458360672, 0.9942492246627808, 0.991754949092865, 0.9992163777351379, 0.9994598031044006, 0.997803807258606, 0.34074723720550537, 0.02323276735842228, 0.4953742027282715, 0.14017102122306824, 0.9987277388572693, 0.9920527338981628, 0.12788745760917664, 0.8707630634307861, 0.14230351150035858, 0.6462951302528381, 0.21139289438724518, 0.9984791874885559, 0.9859405755996704, 0.99529629945755, 0.9862611889839172, 0.9933003187179565, 0.9992871284484863, 0.9990984201431274, 0.9971744418144226, 0.9678057432174683, 0.9994572401046753, 0.7623433470726013, 0.013429418206214905, 0.2240474671125412, 0.9926878809928894, 0.9698971509933472, 0.9990699291229248, 0.15933246910572052, 0.8349021077156067, 0.9865121245384216, 0.9942178130149841, 0.9880747199058533, 0.9867202639579773, 0.01306914258748293, 0.9961610436439514, 0.10987160354852676, 0.848902702331543, 0.039322469383478165, 0.997965931892395, 0.9969409704208374, 0.03027745522558689, 0.11792272329330444, 0.05258715897798538, 0.7170976400375366, 0.08127106726169586, 0.9929949045181274, 0.9985300898551941, 0.9974177479743958, 0.9929047226905823, 0.4194052815437317, 0.13235430419445038, 0.44781896471977234, 0.9988793134689331, 0.9982607960700989, 0.18763339519500732, 0.41547393798828125, 0.39537036418914795, 0.9915542602539062, 0.40698716044425964, 0.000631477392744273, 0.23396237194538116, 0.35836341977119446, 0.9338434934616089, 0.06579422950744629, 0.2823798358440399, 0.009586969390511513, 0.7076926231384277, 0.9064108729362488, 0.9958431720733643, 0.45908838510513306, 0.3620978891849518, 0.17458291351795197, 0.996286153793335, 0.9992354512214661, 0.99732905626297, 0.9481534361839294, 0.7841188311576843, 0.2141946256160736, 0.0015137429581955075, 0.9681187868118286, 0.9502850770950317, 0.04883692041039467, 0.9957206845283508, 0.984171986579895, 0.9979634284973145, 0.3472042381763458, 0.41573140025138855, 0.0004568476870190352, 0.23619025945663452, 0.04283718019723892, 0.9553989171981812, 0.9969924092292786, 0.9688103199005127, 0.9769241213798523, 0.9928127527236938, 0.9259350895881653, 0.14412817358970642, 0.47176241874694824, 0.20100733637809753, 0.18299131095409393, 0.9985178709030151, 0.7040857076644897, 0.29571598768234253, 0.9976616501808167, 0.9912281632423401, 0.9996849298477173, 0.9977724552154541, 0.07398786395788193, 0.7290605902671814, 0.1968502253293991, 0.9944969415664673, 0.9810806512832642, 0.9983916878700256, 0.9799500107765198, 0.9871936440467834, 0.9984915256500244, 0.9975658655166626, 0.993873655796051, 0.9820990562438965, 0.9988600015640259, 0.1584068238735199, 0.24977457523345947, 0.11029007285833359, 0.48062682151794434, 0.9677495360374451, 0.2537938952445984, 0.7444620728492737, 0.9955264925956726, 0.3456515371799469, 0.6522464156150818, 0.450198233127594, 0.4263162314891815, 0.0013350194785743952, 0.12208011746406555, 0.9968428611755371, 0.1345881074666977, 0.8650090098381042, 0.9986791014671326, 0.9944161176681519, 0.9802125096321106, 0.9664667844772339, 0.9231206178665161, 0.074319027364254, 0.9956149458885193, 0.9888119697570801, 0.9986865520477295, 0.9933708310127258, 0.9565680623054504, 0.04292632266879082, 0.9926263689994812, 0.9257418513298035, 0.06915062665939331, 0.004382786341011524, 0.9975550174713135, 0.46051907539367676, 0.2412242889404297, 0.23848310112953186, 0.06030607223510742, 0.9986752271652222, 0.998784601688385, 0.9996097683906555, 0.997825562953949, 0.9990262985229492, 0.46792879700660706, 0.5313202142715454, 0.9970901012420654, 0.9706733822822571, 0.9981504678726196, 0.9995280504226685, 0.9873377084732056, 0.8265342712402344, 0.17128179967403412, 0.3936648964881897, 0.0055118887685239315, 0.03655252605676651, 0.12416254729032516, 0.4397906959056854, 0.998928964138031, 0.9948499798774719, 0.9992054104804993, 0.9494609236717224, 0.9984080791473389, 0.15932071208953857, 0.5960301756858826, 0.1294480711221695, 0.11380051076412201, 0.9985803365707397, 0.9309519529342651, 0.9944068193435669, 0.9940415024757385, 0.9928559064865112, 0.04123963043093681, 0.639410674571991, 0.12568268179893494, 0.09936787933111191, 0.09386926144361496, 0.9410831928253174, 0.020745322108268738, 0.037718765437603, 0.1868668496608734, 0.4391371011734009, 0.3706192672252655, 0.9789013862609863, 0.9943702220916748, 0.008331757970154285, 0.9238783717155457, 0.05605001002550125, 0.011550846509635448, 0.35422900319099426, 0.6455538868904114, 0.143441304564476, 0.7287237048149109, 0.1272125393152237, 0.9978277087211609, 0.9964586496353149, 0.9996429085731506, 0.9901859760284424, 0.6114094257354736, 0.04462842643260956, 0.26330772042274475, 0.08033116906881332, 0.9861860275268555, 0.930149257183075, 0.06963063776493073, 0.9856376051902771, 0.9799485802650452, 0.3802439868450165, 0.6194634437561035, 0.8456314206123352, 0.15215513110160828, 0.9998487234115601, 0.9971462488174438, 0.9991834759712219, 0.6815821528434753, 0.14451712369918823, 0.1738627403974533, 0.6888381242752075, 0.1657157838344574, 0.1453603357076645, 0.09688300639390945, 0.9013580083847046, 0.501305103302002, 0.43381690979003906, 0.05142548307776451, 0.011331038549542427, 0.0019922705832868814, 0.9893307685852051, 0.985328733921051, 0.9667227864265442, 0.9818669557571411, 0.9798000454902649, 0.9957247972488403, 0.997263491153717, 0.21127623319625854, 0.7879360914230347, 0.5574333667755127, 0.43901485204696655, 0.9989792704582214, 0.8397641777992249, 0.05809689313173294, 0.01914556697010994, 0.0827440619468689, 0.8004879355430603, 0.9895932078361511, 0.9964828491210938, 0.9848290681838989, 0.9935239553451538, 0.4692377746105194, 0.44825559854507446, 0.08202123641967773, 0.6943534016609192, 0.2780558466911316, 0.0267310980707407, 0.0007862087804824114, 0.9962344169616699, 0.9730868339538574, 0.8867813348770142, 0.9845386147499084, 0.7966107130050659, 0.16460183262825012, 0.03726833686232567, 0.2550900876522064, 0.6240220665931702, 0.055234383791685104, 0.06436984241008759, 0.001264909515157342, 0.9952569007873535, 0.9989602565765381, 0.9960730671882629, 0.9990243911743164, 0.988807201385498, 0.9926329255104065, 0.9270272254943848, 0.8387542366981506, 0.15658442676067352, 0.00436472287401557, 0.9990958571434021, 0.9196547865867615, 0.9981755614280701, 0.568869411945343, 0.42909008264541626, 0.9971166253089905, 0.9964632391929626, 0.9741905927658081, 0.7058205008506775, 0.15437684953212738, 0.08454784750938416, 0.0551101379096508, 0.9938244223594666, 0.9971203804016113, 0.9682202935218811, 0.031032700091600418, 0.9996379017829895, 0.9959098696708679, 0.994915246963501, 0.9793943762779236, 0.9857056140899658, 0.9988190531730652, 0.9989661574363708, 0.0920574739575386, 0.03983256220817566, 0.8674646615982056, 0.9615558385848999, 0.6132948994636536, 0.080854132771492, 0.30492523312568665, 0.0007251491770148277, 0.882108211517334, 0.8336804509162903, 0.6719457507133484, 0.32781821489334106, 0.9983335137367249, 0.7474403381347656, 0.09683989733457565, 0.15563298761844635, 0.9746116995811462, 0.025343846529722214, 0.9971157908439636, 0.9862260818481445, 0.04219885915517807, 0.27735990285873413, 0.6463675498962402, 0.033833444118499756, 0.9983194470405579], \"Term\": [\"accept\", \"access\", \"additional\", \"address\", \"address\", \"adult\", \"advance\", \"air\", \"alaska\", \"alaska_fairbanks\", \"alex\", \"algorithm\", \"algorithm\", \"also\", \"also\", \"also\", \"also\", \"american\", \"american\", \"american\", \"andrew\", \"andrew_infante\", \"animation\", \"announcement\", \"answer\", \"answer\", \"answer\", \"answer\", \"anyone\", \"anyone\", \"anyway\", \"apply\", \"apply\", \"apply\", \"appreciate\", \"apr\", \"arab\", \"arabic\", \"archive\", \"archive\", \"argument\", \"armed\", \"arrest\", \"article\", \"assembly\", \"assistance\", \"assistant\", \"atheist\", \"available\", \"await\", \"awareness\", \"away\", \"ax\", \"ban\", \"band\", \"baseball\", \"bbs\", \"be\", \"be\", \"beast\", \"beaverton\", \"begin\", \"begin\", \"belief\", \"believe\", \"believe\", \"bend\", \"better\", \"bible\", \"big\", \"big\", \"bike\", \"bissell\", \"bit\", \"bit\", \"bit\", \"bitnet\", \"block\", \"block\", \"block\", \"blue\", \"board\", \"board\", \"board\", \"bob\", \"book\", \"book\", \"borland\", \"boston\", \"bowl\", \"box\", \"box\", \"boy\", \"branch_davidian\", \"breed\", \"bring\", \"british\", \"british\", \"bureau\", \"bus\", \"button\", \"buy\", \"byte\", \"ca\", \"california_berkeley\", \"call\", \"call\", \"call\", \"caller\", \"cam\", \"cambridge\", \"canada\", \"canadian\", \"canuck\", \"car\", \"card\", \"careful\", \"carnegie_mellon\", \"cart\", \"case\", \"case\", \"case\", \"case\", \"case_western\", \"cd\", \"celebrate\", \"center\", \"center\", \"center\", \"center\", \"centre\", \"centris\", \"chain\", \"chastity\", \"cheap\", \"chemistry\", \"chicago\", \"child\", \"chip\", \"christ\", \"christian\", \"church\", \"circle\", \"circuit\", \"citizen\", \"claim\", \"claim\", \"clinton\", \"clipper\", \"clipper_chip\", \"cloud\", \"code\", \"code\", \"color\", \"com\", \"come\", \"come\", \"come\", \"come\", \"comet\", \"command\", \"commandment\", \"committee\", \"compare\", \"compiler\", \"complain\", \"compromise\", \"compromise\", \"computer\", \"computer\", \"computer_science\", \"computer_science\", \"computer_science\", \"congress\", \"constitution\", \"consultant\", \"contact\", \"context\", \"continue\", \"cookamunga_tourist\", \"cooper\", \"correctly\", \"could\", \"could\", \"could\", \"count\", \"count\", \"counter\", \"country\", \"country\", \"court\", \"court_order\", \"coverage\", \"crime\", \"criminal\", \"crt\", \"cryptography\", \"cult\", \"cultural\", \"cure\", \"dale\", \"dammit\", \"dare\", \"datum\", \"datum\", \"daughter\", \"david_sternlight\", \"day\", \"day\", \"death\", \"death\", \"death_penalty\", \"default\", \"define\", \"definition\", \"delivery\", \"demonstration\", \"describe\", \"describe\", \"detection\", \"diamond\", \"die\", \"die\", \"diet\", \"directory\", \"discipline\", \"disclose\", \"discrimination\", \"discussion\", \"discussion\", \"disease\", \"disk\", \"display\", \"distortion\", \"division\", \"do\", \"do\", \"do\", \"docs\", \"doctor\", \"documentation\", \"dodger\", \"door\", \"dos\", \"doug\", \"drive\", \"driver\", \"drug\", \"duke\", \"durham\", \"earth\", \"earth\", \"eastern\", \"eat\", \"economic\", \"edge\", \"edward\", \"email\", \"encourage\", \"encryption\", \"encyclopedia\", \"end\", \"end\", \"end\", \"end\", \"end\", \"end\", \"energy\", \"energy\", \"engine\", \"england\", \"ensure\", \"ensure\", \"ensure\", \"escape\", \"escrow\", \"espn\", \"essence\", \"eve\", \"even\", \"even\", \"even\", \"evidence\", \"example\", \"example\", \"example\", \"execute\", \"exist\", \"existence\", \"exit\", \"experiment\", \"experiment\", \"experiment\", \"export\", \"ext\", \"extra\", \"face\", \"face\", \"facility\", \"facility\", \"fact\", \"fact\", \"fact\", \"fact\", \"faith\", \"family\", \"fan\", \"faq\", \"fast\", \"fast\", \"father\", \"fax\", \"feature\", \"fed\", \"fed\", \"federal\", \"feed\", \"feel\", \"feel\", \"fi\", \"fi\", \"fi\", \"file\", \"final\", \"final\", \"fine\", \"finger\", \"finger\", \"first\", \"first\", \"first\", \"first\", \"first\", \"flame\", \"flight\", \"floppy\", \"follow\", \"follow\", \"follow\", \"font\", \"food\", \"freedom\", \"freedom\", \"front\", \"function\", \"function\", \"fund\", \"galaxy\", \"game\", \"gay\", \"generator\", \"genocide\", \"geoff\", \"george\", \"german\", \"german\", \"get\", \"get\", \"get\", \"get\", \"give\", \"give\", \"give\", \"give\", \"give\", \"go\", \"go\", \"go\", \"goal\", \"goaltender\", \"god\", \"good\", \"good\", \"good\", \"gordon_bank\", \"gordon_banks\", \"gospel\", \"gov\", \"govern\", \"government\", \"government\", \"grain\", \"graphic\", \"gravity\", \"gross\", \"guess\", \"gun\", \"hall\", \"happen\", \"happen\", \"hard\", \"hard\", \"have\", \"hawk\", \"hell\", \"hi\", \"hit\", \"hmm\", \"hockey\", \"homosexual\", \"homosexuality\", \"hospital\", \"hospital\", \"host\", \"host\", \"host_acad\", \"host_hela\", \"hot\", \"human\", \"human\", \"husband\", \"hv\", \"ibm\", \"identity\", \"image\", \"immoral\", \"imprison\", \"imprisonment\", \"incidentally\", \"include\", \"include\", \"include\", \"include\", \"info\", \"information\", \"information\", \"installation\", \"institute\", \"instruction\", \"insurance\", \"insure\", \"intellect\", \"inter\", \"interested\", \"interface\", \"internal\", \"international\", \"international\", \"internet\", \"internet_fidonet\", \"invasion\", \"islam\", \"israel\", \"israeli\", \"issue\", \"issue\", \"issue\", \"jacked\", \"jeff\", \"jerry\", \"jersey\", \"jet\", \"jim\", \"jpl\", \"june\", \"jupiter\", \"kent\", \"kent_sandvik\", \"kept_secret\", \"key\", \"keyword\", \"keyword\", \"kid\", \"kill\", \"kill\", \"king\", \"king\", \"know\", \"know\", \"know\", \"knowledge\", \"last\", \"last\", \"last\", \"last_night\", \"later\", \"later\", \"law\", \"law\", \"league\", \"learn\", \"learning\", \"leave\", \"leave\", \"lee\", \"legal\", \"legal\", \"legal\", \"liar_lunatic\", \"liberal\", \"library\", \"life\", \"life\", \"line\", \"line\", \"list\", \"list\", \"literature\", \"live\", \"logo\", \"london\", \"look\", \"look\", \"look\", \"loop\", \"lord\", \"lose\", \"lose\", \"lot\", \"lot\", \"louis\", \"love\", \"love\", \"lunatic\", \"mac\", \"machine\", \"machine\", \"made\", \"mail\", \"main\", \"make\", \"make\", \"make\", \"make\", \"male\", \"male\", \"male\", \"man\", \"man\", \"manner\", \"many\", \"many\", \"many\", \"many\", \"mar\", \"march\", \"mark\", \"mark\", \"market\", \"marriage\", \"marry\", \"mass\", \"mass\", \"master\", \"master\", \"master\", \"mathematic\", \"matthew\", \"max\", \"may\", \"may\", \"may\", \"may\", \"may\", \"mb\", \"md\", \"mean\", \"mean\", \"mean\", \"measure\", \"medical\", \"medicine\", \"meet\", \"meg\", \"memory\", \"menu\", \"message\", \"message\", \"message\", \"met\", \"mhz\", \"mi\", \"michael_adam\", \"michigan\", \"microsoft\", \"mike\", \"mile\", \"mine\", \"miracle\", \"mode\", \"monitor\", \"monthly\", \"moon\", \"moral\", \"morning\", \"msg\", \"much\", \"much\", \"much\", \"multiple\", \"murder\", \"murder\", \"music\", \"must\", \"must\", \"must\", \"must\", \"national\", \"national\", \"national\", \"need\", \"need\", \"need\", \"negotiable\", \"network\", \"never\", \"never\", \"new\", \"new\", \"new\", \"newsgroup\", \"newsletter\", \"nice\", \"nntp_poste\", \"nntp_poste\", \"nntp_posting\", \"nntp_posting\", \"normal\", \"normal\", \"not\", \"not\", \"not\", \"nsa\", \"number\", \"number\", \"number\", \"number\", \"number\", \"number\", \"oak\", \"observer\", \"obvious\", \"officer\", \"ohio_state\", \"oil\", \"operation\", \"operation\", \"operation\", \"opposition\", \"option\", \"orbit\", \"orbit\", \"organisation\", \"organization\", \"organization\", \"output\", \"package\", \"page\", \"paint\", \"palestinian\", \"panel\", \"paranoid\", \"parent\", \"park\", \"park\", \"part\", \"part\", \"part\", \"part\", \"part\", \"part\", \"participant\", \"patient\", \"pay\", \"pay\", \"pc\", \"pennsylvania\", \"people\", \"people\", \"people\", \"period\", \"pete\", \"peter\", \"pgp\", \"phase\", \"phase\", \"phenomenon\", \"phillie\", \"phone\", \"phone\", \"physician\", \"pittsburgh\", \"pittsburgh\", \"place\", \"place\", \"place\", \"plan\", \"planet\", \"planetary\", \"play\", \"player\", \"playoff\", \"point\", \"point\", \"point\", \"point\", \"police\", \"policy_research\", \"political\", \"political\", \"post\", \"post\", \"post\", \"pray\", \"preach\", \"predict\", \"prediction\", \"presentation\", \"president\", \"pretty\", \"print\", \"prisoner\", \"probably\", \"problem\", \"problem\", \"problem\", \"proceed\", \"proclaim\", \"product\", \"production\", \"production\", \"prof\", \"professional\", \"professor\", \"program\", \"program\", \"proposal\", \"protect\", \"protect\", \"protect\", \"prove\", \"pub\", \"public\", \"public\", \"public\", \"public\", \"public\", \"public_access\", \"punishment\", \"purchase\", \"quadra\", \"question\", \"question\", \"question\", \"quote\", \"ram\", \"random\", \"random\", \"random\", \"ray\", \"read\", \"read\", \"read\", \"read\", \"really\", \"really\", \"reason\", \"reason\", \"reason\", \"recieve\", \"recommendation\", \"red\", \"red\", \"red\", \"regulation\", \"religion\", \"religious\", \"rep\", \"reply\", \"reply\", \"reply\", \"repost\", \"research\", \"research\", \"reserve_university\", \"rewrite\", \"richard\", \"right\", \"right\", \"right\", \"right\", \"rise\", \"rise\", \"rob\", \"robert_beauchaine\", \"rom\", \"roman\", \"rosicrucian_order\", \"run\", \"run\", \"run\", \"run\", \"russian\", \"s\", \"s\", \"safe\", \"salary\", \"sale\", \"satellite\", \"say\", \"say\", \"say\", \"scientist\", \"scope\", \"score\", \"scott_roby\", \"scout\", \"screen\", \"scsi\", \"sea\", \"sean\", \"season\", \"second\", \"second\", \"second\", \"second\", \"secrecy\", \"secret\", \"secret\", \"secure\", \"security\", \"security\", \"see\", \"see\", \"see\", \"see\", \"senate\", \"send\", \"send\", \"server\", \"sex\", \"shame\", \"shameful\", \"shipping\", \"shipping\", \"shut\", \"simulation\", \"site\", \"sleep\", \"software\", \"software\", \"solar\", \"someone\", \"someone\", \"someone\", \"somewhere\", \"soon\", \"soon\", \"soon\", \"soon\", \"sorry\", \"sound\", \"space\", \"spacecraft\", \"specifically\", \"speed\", \"speed\", \"sport\", \"stadium\", \"stand\", \"standard\", \"standing\", \"star\", \"star\", \"state\", \"state\", \"state\", \"state\", \"state\", \"statement\", \"station\", \"steve\", \"stockholm\", \"story\", \"strong\", \"strong\", \"strong\", \"strong\", \"study\", \"submarine\", \"suitable\", \"sunday\", \"super\", \"support\", \"support\", \"support\", \"support\", \"support\", \"sure\", \"sure\", \"sure\", \"surface\", \"surface\", \"surface\", \"surrender\", \"sweden\", \"system\", \"system\", \"system\", \"system\", \"take\", \"take\", \"talk\", \"talk\", \"talk\", \"tax\", \"taxis\", \"team\", \"tech\", \"technical\", \"technical\", \"technical\", \"technical\", \"technician\", \"technology\", \"technology\", \"tektronix_inc\", \"television\", \"tell\", \"tell\", \"text\", \"text\", \"thank\", \"theory\", \"therefore\", \"thing\", \"thing\", \"thing\", \"think\", \"think\", \"think\", \"third\", \"third\", \"time\", \"time\", \"time\", \"time\", \"time\", \"tired\", \"ton\", \"tony_alicea\", \"toolkit\", \"tour\", \"treatment\", \"trial\", \"true\", \"true\", \"trust\", \"trust\", \"truth\", \"try\", \"try\", \"try\", \"try\", \"tuff\", \"twist\", \"uk\", \"uniform\", \"united_state\", \"univ\", \"univ\", \"univ\", \"university\", \"university\", \"university\", \"university\", \"unix\", \"unix_brookline\", \"unused\", \"upenn\", \"usa\", \"usa\", \"usa\", \"use\", \"use\", \"use\", \"use\", \"use\", \"usenet\", \"user\", \"van\", \"view\", \"virginia\", \"waco\", \"wang\", \"want\", \"want\", \"want\", \"war\", \"warrior\", \"water\", \"wave\", \"wave\", \"weapon\", \"wear\", \"web\", \"well\", \"well\", \"well\", \"well\", \"white_house\", \"wide\", \"win\", \"win\", \"window\", \"window_manager\", \"winnipeg_jet\", \"wiretap_chip\", \"witch\", \"woman\", \"wonder\", \"word\", \"word\", \"word\", \"wordperfect\", \"work\", \"work\", \"work\", \"work\", \"workable\", \"working\", \"world\", \"world\", \"worth\", \"would\", \"would\", \"would\", \"write\", \"write\", \"xterm\", \"yale\", \"year\", \"year\", \"year\", \"year\", \"young\"]}, \"R\": 30, \"lambda.step\": 0.01, \"plot.opts\": {\"xlab\": \"PC1\", \"ylab\": \"PC2\"}, \"topic.order\": [17, 7, 15, 2, 10, 13, 9, 18, 19, 5, 11, 8, 20, 16, 14, 4, 3, 1, 12, 6]};\n",
       "\n",
       "function LDAvis_load_lib(url, callback){\n",
       "  var s = document.createElement('script');\n",
       "  s.src = url;\n",
       "  s.async = true;\n",
       "  s.onreadystatechange = s.onload = callback;\n",
       "  s.onerror = function(){console.warn(\"failed to load library \" + url);};\n",
       "  document.getElementsByTagName(\"head\")[0].appendChild(s);\n",
       "}\n",
       "\n",
       "if(typeof(LDAvis) !== \"undefined\"){\n",
       "   // already loaded: just create the visualization\n",
       "   !function(LDAvis){\n",
       "       new LDAvis(\"#\" + \"ldavis_el677622883323734725056657014\", ldavis_el677622883323734725056657014_data);\n",
       "   }(LDAvis);\n",
       "}else if(typeof define === \"function\" && define.amd){\n",
       "   // require.js is available: use it to load d3/LDAvis\n",
       "   require.config({paths: {d3: \"https://cdnjs.cloudflare.com/ajax/libs/d3/3.5.5/d3.min\"}});\n",
       "   require([\"d3\"], function(d3){\n",
       "      window.d3 = d3;\n",
       "      LDAvis_load_lib(\"https://cdn.rawgit.com/bmabey/pyLDAvis/files/ldavis.v1.0.0.js\", function(){\n",
       "        new LDAvis(\"#\" + \"ldavis_el677622883323734725056657014\", ldavis_el677622883323734725056657014_data);\n",
       "      });\n",
       "    });\n",
       "}else{\n",
       "    // require.js not available: dynamically load d3 & LDAvis\n",
       "    LDAvis_load_lib(\"https://cdnjs.cloudflare.com/ajax/libs/d3/3.5.5/d3.min.js\", function(){\n",
       "         LDAvis_load_lib(\"https://cdn.rawgit.com/bmabey/pyLDAvis/files/ldavis.v1.0.0.js\", function(){\n",
       "                 new LDAvis(\"#\" + \"ldavis_el677622883323734725056657014\", ldavis_el677622883323734725056657014_data);\n",
       "            })\n",
       "         });\n",
       "}\n",
       "</script>"
      ],
      "text/plain": [
       "PreparedData(topic_coordinates=              x         y  topics  cluster       Freq\n",
       "topic                                                \n",
       "16    -0.381517  0.098510       1        1  31.125778\n",
       "6     -0.353799  0.097590       2        1  16.886122\n",
       "14    -0.300405  0.011902       3        1  15.980350\n",
       "1     -0.335763  0.100181       4        1  13.449508\n",
       "9     -0.169006 -0.087875       5        1   5.485383\n",
       "12    -0.086801 -0.441665       6        1   4.515283\n",
       "8     -0.119968 -0.010541       7        1   3.470651\n",
       "17    -0.037247 -0.094688       8        1   3.089286\n",
       "18     0.130937  0.014550       9        1   0.826760\n",
       "4      0.106664  0.018544      10        1   0.786115\n",
       "10     0.131061  0.015475      11        1   0.713014\n",
       "7      0.129350  0.019005      12        1   0.679806\n",
       "19     0.133950  0.024070      13        1   0.657887\n",
       "15     0.147740  0.027088      14        1   0.545035\n",
       "13     0.150994  0.026952      15        1   0.513808\n",
       "3      0.144250  0.022742      16        1   0.512875\n",
       "2      0.154843  0.031561      17        1   0.327041\n",
       "0      0.180136  0.039779      18        1   0.237871\n",
       "11     0.175686  0.039747      19        1   0.165166\n",
       "5      0.198893  0.047071      20        1   0.032259, topic_info=      Category          Freq            Term         Total  loglift  logprob\n",
       "term                                                                        \n",
       "4102   Default  61480.000000              ax  61480.000000  30.0000  30.0000\n",
       "80     Default  24932.000000             not  24932.000000  29.0000  29.0000\n",
       "21     Default  18770.000000            line  18770.000000  28.0000  28.0000\n",
       "322    Default  14204.000000           write  14204.000000  27.0000  27.0000\n",
       "3679   Default   4339.000000             max   4339.000000  26.0000  26.0000\n",
       "30     Default  16621.000000    organization  16621.000000  25.0000  25.0000\n",
       "53     Default  11150.000000         article  11150.000000  24.0000  24.0000\n",
       "210    Default   3570.000000          window   3570.000000  23.0000  23.0000\n",
       "63     Default  15642.000000              do  15642.000000  22.0000  22.0000\n",
       "241    Default  12223.000000              be  12223.000000  21.0000  21.0000\n",
       "48     Default   5379.000000            year   5379.000000  20.0000  20.0000\n",
       "301    Default  10353.000000             say  10353.000000  19.0000  19.0000\n",
       "58     Default   3161.000000            card   3161.000000  18.0000  18.0000\n",
       "1880   Default   2125.000000           space   2125.000000  17.0000  17.0000\n",
       "260    Default   2026.000000           drive   2026.000000  16.0000  16.0000\n",
       "668    Default   4467.000000         problem   4467.000000  15.0000  15.0000\n",
       "116    Default  10288.000000             get  10288.000000  14.0000  14.0000\n",
       "201    Default   5280.000000          system   5280.000000  13.0000  13.0000\n",
       "410    Default   7427.000000          people   7427.000000  12.0000  12.0000\n",
       "2696   Default   2983.000000            game   2983.000000  11.0000  11.0000\n",
       "336    Default   3447.000000           state   3447.000000  10.0000  10.0000\n",
       "672    Default   4377.000000           right   4377.000000   9.0000   9.0000\n",
       "561    Default   2833.000000            team   2833.000000   8.0000   8.0000\n",
       "747    Default   1673.000000             key   1673.000000   7.0000   7.0000\n",
       "316    Default   7115.000000             use   7115.000000   6.0000   6.0000\n",
       "221    Default   8804.000000              go   8804.000000   5.0000   5.0000\n",
       "106    Default   2432.000000             bit   2432.000000   4.0000   4.0000\n",
       "1344   Default   2363.000000      government   2363.000000   3.0000   3.0000\n",
       "149    Default  13930.000000           would  13930.000000   2.0000   2.0000\n",
       "42     Default   3914.000000           thank   3914.000000   1.0000   1.0000\n",
       "...        ...           ...             ...           ...      ...      ...\n",
       "70453  Topic20      0.006772          aplace      1.109545   2.9402 -11.2318\n",
       "70454  Topic20      0.006772  incompressible      1.109545   2.9402 -11.2318\n",
       "70455  Topic20      0.006772          shoulf      1.109545   2.9402 -11.2318\n",
       "60291  Topic20      0.006772         thicken      1.109545   2.9402 -11.2318\n",
       "25504  Topic20      0.006772           aptly      1.109545   2.9402 -11.2318\n",
       "43946  Topic20      0.006772      supersonic      1.109545   2.9402 -11.2318\n",
       "10886  Topic20      0.006772        subtract      1.109545   2.9402 -11.2318\n",
       "13228  Topic20      0.006772         squeeze      1.109547   2.9402 -11.2318\n",
       "10550  Topic20      0.006772           fluid      1.109548   2.9402 -11.2318\n",
       "21793  Topic20      0.006772             hok      1.109546   2.9402 -11.2318\n",
       "31593  Topic20      0.006772           stall      1.109550   2.9402 -11.2318\n",
       "17264  Topic20      0.006772            trim      1.109550   2.9402 -11.2318\n",
       "36154  Topic20      0.006772            mesh      1.109546   2.9402 -11.2318\n",
       "14026  Topic20      0.006772          behave      1.109554   2.9402 -11.2318\n",
       "16711  Topic20      0.006772        aircraft      1.109553   2.9402 -11.2318\n",
       "69910  Topic20      0.006771      allmichael      1.109544   2.9402 -11.2318\n",
       "7708   Topic20      0.006771  peter_tryndoch      1.109545   2.9402 -11.2318\n",
       "7707   Topic20      0.006771             ohm      1.109547   2.9402 -11.2318\n",
       "65709  Topic20      0.006771          gillow      1.109545   2.9402 -11.2318\n",
       "5279   Topic20      0.006772     compression      1.109563   2.9402 -11.2318\n",
       "10670  Topic20      0.006772         seizure      1.109565   2.9401 -11.2318\n",
       "6275   Topic20      0.006772            wire      1.109681   2.9401 -11.2318\n",
       "7457   Topic20      0.006772          wiring      1.109597   2.9401 -11.2318\n",
       "7450   Topic20      0.006772          outlet      1.109598   2.9401 -11.2318\n",
       "4339   Topic20      0.006772           cross      1.109589   2.9401 -11.2318\n",
       "7448   Topic20      0.006772         neutral      1.109597   2.9401 -11.2318\n",
       "4057   Topic20      0.006772    distribution      1.109601   2.9401 -11.2318\n",
       "5896   Topic20      0.006772          ground      1.109638   2.9401 -11.2318\n",
       "6394   Topic20      0.006772         vehicle      1.109579   2.9401 -11.2318\n",
       "7431   Topic20      0.006772           cable      1.109637   2.9401 -11.2318\n",
       "\n",
       "[851 rows x 6 columns], token_table=      Topic      Freq              Term\n",
       "term                                   \n",
       "2619      4  0.999400            accept\n",
       "2046      3  0.999067            access\n",
       "3230      7  0.996421        additional\n",
       "689       3  0.994977           address\n",
       "689       4  0.004640           address\n",
       "565      11  0.986400             adult\n",
       "339       3  0.999210           advance\n",
       "629       9  0.998092               air\n",
       "905       6  0.991972            alaska\n",
       "906       6  0.975512  alaska_fairbanks\n",
       "3442     12  0.976547              alex\n",
       "498       3  0.275913         algorithm\n",
       "498      10  0.721973         algorithm\n",
       "384       1  0.249195              also\n",
       "384       2  0.147040              also\n",
       "384       3  0.443451              also\n",
       "384       4  0.160155              also\n",
       "1233      2  0.151567          american\n",
       "1233      5  0.257265          american\n",
       "1233      7  0.590314          american\n",
       "2339     14  0.995538            andrew\n",
       "1617     15  0.889572    andrew_infante\n",
       "1778     13  0.992732         animation\n",
       "3379      7  0.995333      announcement\n",
       "52        1  0.185421            answer\n",
       "52        2  0.054398            answer\n",
       "52        3  0.142137            answer\n",
       "52        4  0.617095            answer\n",
       "1         1  0.922781            anyone\n",
       "1         3  0.076878            anyone\n",
       "...     ...       ...               ...\n",
       "686       9  0.994915      winnipeg_jet\n",
       "3441     10  0.979394      wiretap_chip\n",
       "3228     16  0.985706             witch\n",
       "3229      2  0.998819             woman\n",
       "47        1  0.998966            wonder\n",
       "424       2  0.092057              word\n",
       "424       3  0.039833              word\n",
       "424       4  0.867465              word\n",
       "211      18  0.961556       wordperfect\n",
       "425       1  0.613295              work\n",
       "425       2  0.080854              work\n",
       "425       3  0.304925              work\n",
       "425       8  0.000725              work\n",
       "2589     10  0.882108          workable\n",
       "3888     20  0.833680           working\n",
       "495       2  0.671946             world\n",
       "495       4  0.327818             world\n",
       "148       1  0.998334             worth\n",
       "149       1  0.747440             would\n",
       "149       2  0.096840             would\n",
       "149       4  0.155633             would\n",
       "322       1  0.974612             write\n",
       "322       4  0.025344             write\n",
       "2071      8  0.997116             xterm\n",
       "1511     12  0.986226              yale\n",
       "48        1  0.042199              year\n",
       "48        2  0.277360              year\n",
       "48        5  0.646368              year\n",
       "48        7  0.033833              year\n",
       "3360      2  0.998319             young\n",
       "\n",
       "[1036 rows x 3 columns], R=30, lambda_step=0.01, plot_opts={'xlab': 'PC1', 'ylab': 'PC2'}, topic_order=[17, 7, 15, 2, 10, 13, 9, 18, 19, 5, 11, 8, 20, 16, 14, 4, 3, 1, 12, 6])"
      ]
     },
     "execution_count": 34,
     "metadata": {},
     "output_type": "execute_result"
    }
   ],
   "source": [
    "pyLDAvis.enable_notebook()\n",
    "vis = pyLDAvis.gensim.prepare(lda_model, corpus, id2word)\n",
    "vis"
   ]
  },
  {
   "cell_type": "markdown",
   "metadata": {},
   "source": [
    "Each bubble on the left-hand side plot represents a topic. The larger the bubble, the more prevalent is that topic.\n",
    "\n",
    "A good topic model will have fairly big, non-overlapping bubbles scattered throughout the chart instead of being clustered in one quadrant.\n",
    "\n",
    "A model with too many topics, will typically have many overlaps, small sized bubbles clustered in one region of the chart.\n",
    "\n",
    "Alright, if you move the cursor over one of the bubbles, the words and bars on the right-hand side will update. These words are the salient keywords that form the selected topic.\n",
    "\n",
    "We have successfully built a good looking topic model.\n",
    "\n",
    "Given our prior knowledge of the number of natural topics in the document, finding the best model was fairly straightforward.\n",
    "\n",
    "Upnext, we will improve upon this model by using Mallet’s version of LDA algorithm and then we will focus on how to arrive at the optimal number of topics given any large corpus of text."
   ]
  },
  {
   "cell_type": "markdown",
   "metadata": {},
   "source": [
    "## to find the optimal number of topics for LDA"
   ]
  },
  {
   "cell_type": "code",
   "execution_count": 61,
   "metadata": {},
   "outputs": [],
   "source": [
    "def compute_coherence_values(dictionary, corpus, texts, limit, start=2, step=3):\n",
    "    \"\"\"\n",
    "    Compute c_v coherence for various number of topics\n",
    "\n",
    "    Parameters:\n",
    "    ----------\n",
    "    dictionary : Gensim dictionary\n",
    "    corpus : Gensim corpus\n",
    "    texts : List of input texts\n",
    "    limit : Max num of topics\n",
    "\n",
    "    Returns:\n",
    "    -------\n",
    "    model_list : List of LDA topic models\n",
    "    coherence_values : Coherence values corresponding to the LDA model with respective number of topics\n",
    "    \"\"\"\n",
    "    coherence_values = []\n",
    "    model_list = []\n",
    "    for num_topics in range(start, limit, step):\n",
    "        model = gensim.models.ldamodel.LdaModel(corpus=corpus, num_topics=num_topics, id2word=id2word)\n",
    "        model_list.append(model)\n",
    "        coherencemodel = CoherenceModel(model=model, texts=texts, dictionary=dictionary, coherence='c_v')\n",
    "        coherence_values.append(coherencemodel.get_coherence())\n",
    "\n",
    "    return model_list, coherence_values"
   ]
  },
  {
   "cell_type": "code",
   "execution_count": 62,
   "metadata": {},
   "outputs": [],
   "source": [
    "# Can take a long time to run.\n",
    "model_list, coherence_values = compute_coherence_values(dictionary=id2word, corpus=corpus, texts=data_lemmatized, start=2, limit=40, step=6)"
   ]
  },
  {
   "cell_type": "code",
   "execution_count": 63,
   "metadata": {},
   "outputs": [
    {
     "data": {
      "image/png": "[encoded data removed]",
      "text/plain": [
       "<matplotlib.figure.Figure at 0x214d1862710>"
      ]
     },
     "metadata": {
      "needs_background": "light"
     },
     "output_type": "display_data"
    }
   ],
   "source": [
    "# Show graph\n",
    "limit=40; start=2; step=6;\n",
    "x = range(start, limit, step)\n",
    "plt.plot(x, coherence_values)\n",
    "plt.xlabel(\"Num Topics\")\n",
    "plt.ylabel(\"Coherence score\")\n",
    "plt.legend((\"coherence_values\"), loc='best')\n",
    "plt.show()"
   ]
  },
  {
   "cell_type": "code",
   "execution_count": 64,
   "metadata": {},
   "outputs": [
    {
     "name": "stdout",
     "output_type": "stream",
     "text": [
      "Num Topics = 2  has Coherence Value of 0.5334\n",
      "Num Topics = 8  has Coherence Value of 0.4969\n",
      "Num Topics = 14  has Coherence Value of 0.5418\n",
      "Num Topics = 20  has Coherence Value of 0.5483\n",
      "Num Topics = 26  has Coherence Value of 0.512\n",
      "Num Topics = 32  has Coherence Value of 0.4937\n",
      "Num Topics = 38  has Coherence Value of 0.5203\n"
     ]
    }
   ],
   "source": [
    "# Print the coherence scores\n",
    "for m, cv in zip(x, coherence_values):\n",
    "    print(\"Num Topics =\", m, \" has Coherence Value of\", round(cv, 4))"
   ]
  },
  {
   "cell_type": "markdown",
   "metadata": {},
   "source": [
    "If the coherence score seems to keep increasing, it may make better sense to pick the model that gave the highest CV before flattening out. This is exactly the case here.\n",
    "\n",
    "So for further steps I will choose the model with 20 topics itself."
   ]
  },
  {
   "cell_type": "code",
   "execution_count": 65,
   "metadata": {},
   "outputs": [
    {
     "name": "stdout",
     "output_type": "stream",
     "text": [
      "[(0,\n",
      "  '0.019*\"team\" + 0.019*\"game\" + 0.011*\"year\" + 0.011*\"player\" + 0.011*\"win\" + '\n",
      "  '0.010*\"line\" + 0.010*\"play\" + 0.009*\"not\" + 0.008*\"season\" + 0.007*\"get\"'),\n",
      " (1,\n",
      "  '0.015*\"line\" + 0.012*\"organization\" + 0.011*\"window\" + 0.010*\"not\" + '\n",
      "  '0.008*\"do\" + 0.008*\"get\" + 0.008*\"file\" + 0.008*\"use\" + 0.007*\"write\" + '\n",
      "  '0.007*\"problem\"'),\n",
      " (2,\n",
      "  '0.014*\"write\" + 0.013*\"not\" + 0.012*\"article\" + 0.012*\"line\" + '\n",
      "  '0.011*\"organization\" + 0.010*\"get\" + 0.008*\"do\" + 0.007*\"be\" + 0.006*\"know\" '\n",
      "  '+ 0.005*\"would\"'),\n",
      " (3,\n",
      "  '0.018*\"armenian\" + 0.010*\"israel\" + 0.009*\"israeli\" + 0.007*\"jew\" + '\n",
      "  '0.007*\"arab\" + 0.007*\"government\" + 0.007*\"people\" + 0.006*\"turkish\" + '\n",
      "  '0.006*\"turk\" + 0.005*\"war\"'),\n",
      " (4,\n",
      "  '0.011*\"homosexual\" + 0.009*\"israel\" + 0.008*\"write\" + 0.007*\"man\" + '\n",
      "  '0.007*\"article\" + 0.007*\"gay\" + 0.007*\"zoroastrian\" + 0.006*\"line\" + '\n",
      "  '0.006*\"clayton_cramer\" + 0.005*\"organization\"'),\n",
      " (5,\n",
      "  '0.021*\"space\" + 0.007*\"april\" + 0.006*\"national\" + 0.006*\"satellite\" + '\n",
      "  '0.006*\"organization\" + 0.006*\"line\" + 0.005*\"mission\" + 0.005*\"information\" '\n",
      "  '+ 0.005*\"university\" + 0.005*\"include\"'),\n",
      " (6,\n",
      "  '0.021*\"not\" + 0.013*\"say\" + 0.012*\"do\" + 0.009*\"be\" + 0.009*\"go\" + '\n",
      "  '0.008*\"write\" + 0.008*\"would\" + 0.008*\"people\" + 0.008*\"know\" + '\n",
      "  '0.007*\"think\"'),\n",
      " (7,\n",
      "  '0.013*\"not\" + 0.012*\"line\" + 0.010*\"organization\" + 0.009*\"write\" + '\n",
      "  '0.008*\"do\" + 0.008*\"article\" + 0.007*\"be\" + 0.006*\"get\" + 0.005*\"time\" + '\n",
      "  '0.005*\"host\"'),\n",
      " (8,\n",
      "  '0.826*\"ax\" + 0.058*\"max\" + 0.002*\"qax\" + 0.002*\"qq\" + 0.001*\"mf\" + '\n",
      "  '0.001*\"mb\" + 0.001*\"air\" + 0.001*\"mg\" + 0.001*\"rk\" + 0.001*\"giz\"'),\n",
      " (9,\n",
      "  '0.013*\"ott\" + 0.012*\"gfci\" + 0.011*\"line\" + 0.010*\"organization\" + '\n",
      "  '0.010*\"seizure\" + 0.008*\"university\" + 0.005*\"host\" + 0.005*\"write\" + '\n",
      "  '0.004*\"article\" + 0.004*\"outbreak\"'),\n",
      " (10,\n",
      "  '0.017*\"scsi\" + 0.012*\"organization\" + 0.012*\"line\" + 0.012*\"chip\" + '\n",
      "  '0.009*\"mhz\" + 0.008*\"bit\" + 0.007*\"mac\" + 0.007*\"speed\" + 0.006*\"not\" + '\n",
      "  '0.006*\"would\"'),\n",
      " (11,\n",
      "  '0.011*\"gun\" + 0.010*\"government\" + 0.009*\"not\" + 0.009*\"would\" + '\n",
      "  '0.009*\"people\" + 0.008*\"write\" + 0.008*\"state\" + 0.008*\"right\" + '\n",
      "  '0.007*\"article\" + 0.006*\"organization\"'),\n",
      " (12,\n",
      "  '0.010*\"not\" + 0.008*\"would\" + 0.007*\"go\" + 0.007*\"say\" + 0.007*\"do\" + '\n",
      "  '0.005*\"make\" + 0.005*\"president\" + 0.005*\"year\" + 0.005*\"s\" + '\n",
      "  '0.005*\"think\"'),\n",
      " (13,\n",
      "  '0.013*\"not\" + 0.010*\"would\" + 0.008*\"write\" + 0.008*\"say\" + 0.008*\"people\" '\n",
      "  '+ 0.008*\"think\" + 0.008*\"do\" + 0.007*\"line\" + 0.007*\"organization\" + '\n",
      "  '0.006*\"may\"'),\n",
      " (14,\n",
      "  '0.013*\"line\" + 0.011*\"organization\" + 0.010*\"not\" + 0.009*\"article\" + '\n",
      "  '0.009*\"write\" + 0.008*\"would\" + 0.008*\"be\" + 0.006*\"go\" + 0.006*\"do\" + '\n",
      "  '0.005*\"make\"'),\n",
      " (15,\n",
      "  '0.011*\"line\" + 0.009*\"not\" + 0.009*\"organization\" + 0.008*\"key\" + '\n",
      "  '0.007*\"would\" + 0.007*\"get\" + 0.006*\"use\" + 0.005*\"do\" + 0.005*\"know\" + '\n",
      "  '0.005*\"good\"'),\n",
      " (16,\n",
      "  '0.022*\"wire\" + 0.021*\"outlet\" + 0.018*\"ground\" + 0.017*\"neutral\" + '\n",
      "  '0.016*\"wiring\" + 0.011*\"winnipeg\" + 0.009*\"breaker\" + 0.008*\"_\" + '\n",
      "  '0.006*\"gd\" + 0.006*\"prong\"'),\n",
      " (17,\n",
      "  '0.012*\"image\" + 0.010*\"sale\" + 0.010*\"available\" + 0.009*\"line\" + '\n",
      "  '0.008*\"include\" + 0.007*\"organization\" + 0.006*\"graphic\" + 0.006*\"system\" + '\n",
      "  '0.005*\"source\" + 0.005*\"software\"'),\n",
      " (18,\n",
      "  '0.008*\"duo\" + 0.006*\"font\" + 0.005*\"organization\" + 0.005*\"write\" + '\n",
      "  '0.005*\"line\" + 0.005*\"borland\" + 0.004*\"apple\" + 0.004*\"printer\" + '\n",
      "  '0.004*\"not\" + 0.004*\"use\"'),\n",
      " (19,\n",
      "  '0.008*\"adl\" + 0.007*\"onur_yalcin\" + 0.007*\"timer\" + 0.006*\"finland\" + '\n",
      "  '0.006*\"organization\" + 0.006*\"line\" + 0.005*\"broward_horne\" + '\n",
      "  '0.005*\"sinner\" + 0.005*\"article\" + 0.005*\"write\"')]\n"
     ]
    }
   ],
   "source": [
    "# Select the model and print the topics\n",
    "optimal_model = model_list[3] # 3 is the location i.e 0=topic2,1=topic8,2=topic14,3=topic20\n",
    "model_topics = optimal_model.show_topics(formatted=False)\n",
    "pprint(optimal_model.print_topics(num_words=10))"
   ]
  },
  {
   "cell_type": "markdown",
   "metadata": {},
   "source": [
    "### Finding the dominant topic in each sentence"
   ]
  },
  {
   "cell_type": "code",
   "execution_count": 66,
   "metadata": {},
   "outputs": [
    {
     "data": {
      "text/html": [
       "<div>\n",
       "<style scoped>\n",
       "    .dataframe tbody tr th:only-of-type {\n",
       "        vertical-align: middle;\n",
       "    }\n",
       "\n",
       "    .dataframe tbody tr th {\n",
       "        vertical-align: top;\n",
       "    }\n",
       "\n",
       "    .dataframe thead th {\n",
       "        text-align: right;\n",
       "    }\n",
       "</style>\n",
       "<table border=\"1\" class=\"dataframe\">\n",
       "  <thead>\n",
       "    <tr style=\"text-align: right;\">\n",
       "      <th></th>\n",
       "      <th>Document_No</th>\n",
       "      <th>Dominant_Topic</th>\n",
       "      <th>Topic_Perc_Contrib</th>\n",
       "      <th>Keywords</th>\n",
       "      <th>Text</th>\n",
       "    </tr>\n",
       "  </thead>\n",
       "  <tbody>\n",
       "    <tr>\n",
       "      <th>0</th>\n",
       "      <td>0</td>\n",
       "      <td>6.0</td>\n",
       "      <td>0.3476</td>\n",
       "      <td>not, say, do, be, go, write, would, people, know, think</td>\n",
       "      <td>From: (wheres my thing) Subject: WHAT car is this!? Nntp-Posting-Host: rac3.wam.umd.edu Organiza...</td>\n",
       "    </tr>\n",
       "    <tr>\n",
       "      <th>1</th>\n",
       "      <td>1</td>\n",
       "      <td>1.0</td>\n",
       "      <td>0.5667</td>\n",
       "      <td>line, organization, window, not, do, get, file, use, write, problem</td>\n",
       "      <td>From: (Guy Kuo) Subject: SI Clock Poll - Final Call Summary: Final call for SI clock reports Key...</td>\n",
       "    </tr>\n",
       "    <tr>\n",
       "      <th>2</th>\n",
       "      <td>2</td>\n",
       "      <td>7.0</td>\n",
       "      <td>0.4537</td>\n",
       "      <td>not, line, organization, write, do, article, be, get, time, host</td>\n",
       "      <td>From: (Irwin Arnstein) Subject: Re: Recommendation on Duc Summary: Whats it worth? Distribution:...</td>\n",
       "    </tr>\n",
       "    <tr>\n",
       "      <th>3</th>\n",
       "      <td>3</td>\n",
       "      <td>1.0</td>\n",
       "      <td>0.7415</td>\n",
       "      <td>line, organization, window, not, do, get, file, use, write, problem</td>\n",
       "      <td>From: (Tsung-Kun Chen) Subject: ** Software forsale (lots) ** Nntp-Posting-Host: magnusug.magnus...</td>\n",
       "    </tr>\n",
       "    <tr>\n",
       "      <th>4</th>\n",
       "      <td>4</td>\n",
       "      <td>1.0</td>\n",
       "      <td>0.9762</td>\n",
       "      <td>line, organization, window, not, do, get, file, use, write, problem</td>\n",
       "      <td>From: (Don A.B. Lindbergh) Subject: Diamond SS24X, Win 3.1, Mouse cursor Organization: National ...</td>\n",
       "    </tr>\n",
       "    <tr>\n",
       "      <th>5</th>\n",
       "      <td>5</td>\n",
       "      <td>7.0</td>\n",
       "      <td>0.6188</td>\n",
       "      <td>not, line, organization, write, do, article, be, get, time, host</td>\n",
       "      <td>From: (Robert Loper) Subject: Re: SHO and SC Nntp-Posting-Host: sun278.dseg.ti.com Organization:...</td>\n",
       "    </tr>\n",
       "    <tr>\n",
       "      <th>6</th>\n",
       "      <td>6</td>\n",
       "      <td>15.0</td>\n",
       "      <td>0.6169</td>\n",
       "      <td>line, not, organization, key, would, get, use, do, know, good</td>\n",
       "      <td>From: (Kim Richard Man) Subject: SyQuest 44M cartrifge FORSALE Article-I.D.: magnus.1993Apr17.17...</td>\n",
       "    </tr>\n",
       "    <tr>\n",
       "      <th>7</th>\n",
       "      <td>7</td>\n",
       "      <td>1.0</td>\n",
       "      <td>0.5580</td>\n",
       "      <td>line, organization, window, not, do, get, file, use, write, problem</td>\n",
       "      <td>From: (Kirtley Wilson) Subject: Mirosoft Office Package Article-I.D.: news.1993Apr6.183345.28238...</td>\n",
       "    </tr>\n",
       "    <tr>\n",
       "      <th>8</th>\n",
       "      <td>8</td>\n",
       "      <td>6.0</td>\n",
       "      <td>0.5727</td>\n",
       "      <td>not, say, do, be, go, write, would, people, know, think</td>\n",
       "      <td>Subject: Re: Dont more innocents die without the death penalty? From: (Robert Beauchaine) Organi...</td>\n",
       "    </tr>\n",
       "    <tr>\n",
       "      <th>9</th>\n",
       "      <td>9</td>\n",
       "      <td>13.0</td>\n",
       "      <td>0.7104</td>\n",
       "      <td>not, would, write, say, people, think, do, line, organization, may</td>\n",
       "      <td>From: (Jon Livesey) Subject: Re: Genocide is Caused by Atheism Organization: sgi Lines: 38 Distr...</td>\n",
       "    </tr>\n",
       "  </tbody>\n",
       "</table>\n",
       "</div>"
      ],
      "text/plain": [
       "   Document_No  Dominant_Topic  Topic_Perc_Contrib  \\\n",
       "0            0             6.0              0.3476   \n",
       "1            1             1.0              0.5667   \n",
       "2            2             7.0              0.4537   \n",
       "3            3             1.0              0.7415   \n",
       "4            4             1.0              0.9762   \n",
       "5            5             7.0              0.6188   \n",
       "6            6            15.0              0.6169   \n",
       "7            7             1.0              0.5580   \n",
       "8            8             6.0              0.5727   \n",
       "9            9            13.0              0.7104   \n",
       "\n",
       "                                                              Keywords  \\\n",
       "0              not, say, do, be, go, write, would, people, know, think   \n",
       "1  line, organization, window, not, do, get, file, use, write, problem   \n",
       "2     not, line, organization, write, do, article, be, get, time, host   \n",
       "3  line, organization, window, not, do, get, file, use, write, problem   \n",
       "4  line, organization, window, not, do, get, file, use, write, problem   \n",
       "5     not, line, organization, write, do, article, be, get, time, host   \n",
       "6        line, not, organization, key, would, get, use, do, know, good   \n",
       "7  line, organization, window, not, do, get, file, use, write, problem   \n",
       "8              not, say, do, be, go, write, would, people, know, think   \n",
       "9   not, would, write, say, people, think, do, line, organization, may   \n",
       "\n",
       "                                                                                                  Text  \n",
       "0  From: (wheres my thing) Subject: WHAT car is this!? Nntp-Posting-Host: rac3.wam.umd.edu Organiza...  \n",
       "1  From: (Guy Kuo) Subject: SI Clock Poll - Final Call Summary: Final call for SI clock reports Key...  \n",
       "2  From: (Irwin Arnstein) Subject: Re: Recommendation on Duc Summary: Whats it worth? Distribution:...  \n",
       "3  From: (Tsung-Kun Chen) Subject: ** Software forsale (lots) ** Nntp-Posting-Host: magnusug.magnus...  \n",
       "4  From: (Don A.B. Lindbergh) Subject: Diamond SS24X, Win 3.1, Mouse cursor Organization: National ...  \n",
       "5  From: (Robert Loper) Subject: Re: SHO and SC Nntp-Posting-Host: sun278.dseg.ti.com Organization:...  \n",
       "6  From: (Kim Richard Man) Subject: SyQuest 44M cartrifge FORSALE Article-I.D.: magnus.1993Apr17.17...  \n",
       "7  From: (Kirtley Wilson) Subject: Mirosoft Office Package Article-I.D.: news.1993Apr6.183345.28238...  \n",
       "8  Subject: Re: Dont more innocents die without the death penalty? From: (Robert Beauchaine) Organi...  \n",
       "9  From: (Jon Livesey) Subject: Re: Genocide is Caused by Atheism Organization: sgi Lines: 38 Distr...  "
      ]
     },
     "execution_count": 66,
     "metadata": {},
     "output_type": "execute_result"
    }
   ],
   "source": [
    "def format_topics_sentences(ldamodel=lda_model, corpus=corpus, texts=data):\n",
    "    # Init output\n",
    "    sent_topics_df = pd.DataFrame()\n",
    "\n",
    "    # Get main topic in each document\n",
    "    for i, row in enumerate(ldamodel[corpus]):\n",
    "        row = sorted(row, key=lambda x: (x[1]), reverse=True)\n",
    "        # Get the Dominant topic, Perc Contribution and Keywords for each document\n",
    "        for j, (topic_num, prop_topic) in enumerate(row):\n",
    "            if j == 0:  # => dominant topic\n",
    "                wp = ldamodel.show_topic(topic_num)\n",
    "                topic_keywords = \", \".join([word for word, prop in wp])\n",
    "                sent_topics_df = sent_topics_df.append(pd.Series([int(topic_num), round(prop_topic,4), topic_keywords]), ignore_index=True)\n",
    "            else:\n",
    "                break\n",
    "    sent_topics_df.columns = ['Dominant_Topic', 'Perc_Contribution', 'Topic_Keywords']\n",
    "\n",
    "    # Add original text to the end of the output\n",
    "    contents = pd.Series(texts)\n",
    "    sent_topics_df = pd.concat([sent_topics_df, contents], axis=1)\n",
    "    return(sent_topics_df)\n",
    "\n",
    "\n",
    "df_topic_sents_keywords = format_topics_sentences(ldamodel=optimal_model, corpus=corpus, texts=data)\n",
    "\n",
    "# Format\n",
    "df_dominant_topic = df_topic_sents_keywords.reset_index()\n",
    "df_dominant_topic.columns = ['Document_No', 'Dominant_Topic', 'Topic_Perc_Contrib', 'Keywords', 'Text']\n",
    "\n",
    "# Show\n",
    "df_dominant_topic.head(10)"
   ]
  },
  {
   "cell_type": "markdown",
   "metadata": {},
   "source": [
    "### Find the most representative document for each topic"
   ]
  },
  {
   "cell_type": "code",
   "execution_count": 67,
   "metadata": {},
   "outputs": [
    {
     "data": {
      "text/html": [
       "<div>\n",
       "<style scoped>\n",
       "    .dataframe tbody tr th:only-of-type {\n",
       "        vertical-align: middle;\n",
       "    }\n",
       "\n",
       "    .dataframe tbody tr th {\n",
       "        vertical-align: top;\n",
       "    }\n",
       "\n",
       "    .dataframe thead th {\n",
       "        text-align: right;\n",
       "    }\n",
       "</style>\n",
       "<table border=\"1\" class=\"dataframe\">\n",
       "  <thead>\n",
       "    <tr style=\"text-align: right;\">\n",
       "      <th></th>\n",
       "      <th>Topic_Num</th>\n",
       "      <th>Topic_Perc_Contrib</th>\n",
       "      <th>Keywords</th>\n",
       "      <th>Text</th>\n",
       "    </tr>\n",
       "  </thead>\n",
       "  <tbody>\n",
       "    <tr>\n",
       "      <th>0</th>\n",
       "      <td>0.0</td>\n",
       "      <td>0.9955</td>\n",
       "      <td>team, game, year, player, win, line, play, not, season, get</td>\n",
       "      <td>From: (Rocket) Subject: NHL Playoff leaders as of April 19, 1993 Organization: University of New...</td>\n",
       "    </tr>\n",
       "    <tr>\n",
       "      <th>1</th>\n",
       "      <td>1.0</td>\n",
       "      <td>0.9949</td>\n",
       "      <td>line, organization, window, not, do, get, file, use, write, problem</td>\n",
       "      <td>From: (Jan van Loenen) Subject: Re: Diamond SS24X, Win 3.1, Mouse cursor Lines: 47 (Don A.B. Lin...</td>\n",
       "    </tr>\n",
       "    <tr>\n",
       "      <th>2</th>\n",
       "      <td>2.0</td>\n",
       "      <td>0.9924</td>\n",
       "      <td>write, not, article, line, organization, get, do, be, know, would</td>\n",
       "      <td>From: (Gordon Banks) Subject: Re: Update (Help!) [was \"What is This [Is it Lymes?]\"] Reply-To: (...</td>\n",
       "    </tr>\n",
       "    <tr>\n",
       "      <th>3</th>\n",
       "      <td>3.0</td>\n",
       "      <td>0.9947</td>\n",
       "      <td>armenian, israel, israeli, jew, arab, government, people, turkish, turk, war</td>\n",
       "      <td>From: (Ahmed Abu-Abed) Subject: Re: Final Solution in Palestine ? Originator: Nntp-Posting-Host:...</td>\n",
       "    </tr>\n",
       "    <tr>\n",
       "      <th>4</th>\n",
       "      <td>4.0</td>\n",
       "      <td>0.9893</td>\n",
       "      <td>homosexual, israel, write, man, article, gay, zoroastrian, line, clayton_cramer, organization</td>\n",
       "      <td>From: (Clayton Cramer) Subject: New Study Out On Gay Percentage Organization: Optilink Corporati...</td>\n",
       "    </tr>\n",
       "  </tbody>\n",
       "</table>\n",
       "</div>"
      ],
      "text/plain": [
       "   Topic_Num  Topic_Perc_Contrib  \\\n",
       "0        0.0              0.9955   \n",
       "1        1.0              0.9949   \n",
       "2        2.0              0.9924   \n",
       "3        3.0              0.9947   \n",
       "4        4.0              0.9893   \n",
       "\n",
       "                                                                                        Keywords  \\\n",
       "0                                    team, game, year, player, win, line, play, not, season, get   \n",
       "1                            line, organization, window, not, do, get, file, use, write, problem   \n",
       "2                              write, not, article, line, organization, get, do, be, know, would   \n",
       "3                   armenian, israel, israeli, jew, arab, government, people, turkish, turk, war   \n",
       "4  homosexual, israel, write, man, article, gay, zoroastrian, line, clayton_cramer, organization   \n",
       "\n",
       "                                                                                                  Text  \n",
       "0  From: (Rocket) Subject: NHL Playoff leaders as of April 19, 1993 Organization: University of New...  \n",
       "1  From: (Jan van Loenen) Subject: Re: Diamond SS24X, Win 3.1, Mouse cursor Lines: 47 (Don A.B. Lin...  \n",
       "2  From: (Gordon Banks) Subject: Re: Update (Help!) [was \"What is This [Is it Lymes?]\"] Reply-To: (...  \n",
       "3  From: (Ahmed Abu-Abed) Subject: Re: Final Solution in Palestine ? Originator: Nntp-Posting-Host:...  \n",
       "4  From: (Clayton Cramer) Subject: New Study Out On Gay Percentage Organization: Optilink Corporati...  "
      ]
     },
     "execution_count": 67,
     "metadata": {},
     "output_type": "execute_result"
    }
   ],
   "source": [
    "# Group top 5 sentences under each topic\n",
    "sent_topics_sorteddf_mallet = pd.DataFrame()\n",
    "\n",
    "sent_topics_outdf_grpd = df_topic_sents_keywords.groupby('Dominant_Topic')\n",
    "\n",
    "for i, grp in sent_topics_outdf_grpd:\n",
    "    sent_topics_sorteddf_mallet = pd.concat([sent_topics_sorteddf_mallet, \n",
    "                                             grp.sort_values(['Perc_Contribution'], ascending=[0]).head(1)], \n",
    "                                            axis=0)\n",
    "\n",
    "# Reset Index    \n",
    "sent_topics_sorteddf_mallet.reset_index(drop=True, inplace=True)\n",
    "\n",
    "# Format\n",
    "sent_topics_sorteddf_mallet.columns = ['Topic_Num', \"Topic_Perc_Contrib\", \"Keywords\", \"Text\"]\n",
    "\n",
    "# Show\n",
    "sent_topics_sorteddf_mallet.head()"
   ]
  },
  {
   "cell_type": "markdown",
   "metadata": {},
   "source": [
    "### Topic distribution across documents"
   ]
  },
  {
   "cell_type": "code",
   "execution_count": 68,
   "metadata": {},
   "outputs": [
    {
     "data": {
      "text/html": [
       "<div>\n",
       "<style scoped>\n",
       "    .dataframe tbody tr th:only-of-type {\n",
       "        vertical-align: middle;\n",
       "    }\n",
       "\n",
       "    .dataframe tbody tr th {\n",
       "        vertical-align: top;\n",
       "    }\n",
       "\n",
       "    .dataframe thead th {\n",
       "        text-align: right;\n",
       "    }\n",
       "</style>\n",
       "<table border=\"1\" class=\"dataframe\">\n",
       "  <thead>\n",
       "    <tr style=\"text-align: right;\">\n",
       "      <th></th>\n",
       "      <th>Dominant_Topic</th>\n",
       "      <th>Topic_Keywords</th>\n",
       "      <th>Num_Documents</th>\n",
       "      <th>Perc_Documents</th>\n",
       "    </tr>\n",
       "  </thead>\n",
       "  <tbody>\n",
       "    <tr>\n",
       "      <th>0</th>\n",
       "      <td>6.0</td>\n",
       "      <td>not, say, do, be, go, write, would, people, know, think</td>\n",
       "      <td>755.0</td>\n",
       "      <td>0.0667</td>\n",
       "    </tr>\n",
       "    <tr>\n",
       "      <th>1</th>\n",
       "      <td>1.0</td>\n",
       "      <td>line, organization, window, not, do, get, file, use, write, problem</td>\n",
       "      <td>2860.0</td>\n",
       "      <td>0.2528</td>\n",
       "    </tr>\n",
       "    <tr>\n",
       "      <th>2</th>\n",
       "      <td>7.0</td>\n",
       "      <td>not, line, organization, write, do, article, be, get, time, host</td>\n",
       "      <td>430.0</td>\n",
       "      <td>0.0380</td>\n",
       "    </tr>\n",
       "    <tr>\n",
       "      <th>3</th>\n",
       "      <td>1.0</td>\n",
       "      <td>line, organization, window, not, do, get, file, use, write, problem</td>\n",
       "      <td>321.0</td>\n",
       "      <td>0.0284</td>\n",
       "    </tr>\n",
       "    <tr>\n",
       "      <th>4</th>\n",
       "      <td>1.0</td>\n",
       "      <td>line, organization, window, not, do, get, file, use, write, problem</td>\n",
       "      <td>40.0</td>\n",
       "      <td>0.0035</td>\n",
       "    </tr>\n",
       "    <tr>\n",
       "      <th>5</th>\n",
       "      <td>7.0</td>\n",
       "      <td>not, line, organization, write, do, article, be, get, time, host</td>\n",
       "      <td>193.0</td>\n",
       "      <td>0.0171</td>\n",
       "    </tr>\n",
       "    <tr>\n",
       "      <th>6</th>\n",
       "      <td>15.0</td>\n",
       "      <td>line, not, organization, key, would, get, use, do, know, good</td>\n",
       "      <td>1583.0</td>\n",
       "      <td>0.1399</td>\n",
       "    </tr>\n",
       "    <tr>\n",
       "      <th>7</th>\n",
       "      <td>1.0</td>\n",
       "      <td>line, organization, window, not, do, get, file, use, write, problem</td>\n",
       "      <td>944.0</td>\n",
       "      <td>0.0834</td>\n",
       "    </tr>\n",
       "    <tr>\n",
       "      <th>8</th>\n",
       "      <td>6.0</td>\n",
       "      <td>not, say, do, be, go, write, would, people, know, think</td>\n",
       "      <td>12.0</td>\n",
       "      <td>0.0011</td>\n",
       "    </tr>\n",
       "    <tr>\n",
       "      <th>9</th>\n",
       "      <td>13.0</td>\n",
       "      <td>not, would, write, say, people, think, do, line, organization, may</td>\n",
       "      <td>59.0</td>\n",
       "      <td>0.0052</td>\n",
       "    </tr>\n",
       "    <tr>\n",
       "      <th>10</th>\n",
       "      <td>5.0</td>\n",
       "      <td>space, april, national, satellite, organization, line, mission, information, university, include</td>\n",
       "      <td>277.0</td>\n",
       "      <td>0.0245</td>\n",
       "    </tr>\n",
       "    <tr>\n",
       "      <th>11</th>\n",
       "      <td>7.0</td>\n",
       "      <td>not, line, organization, write, do, article, be, get, time, host</td>\n",
       "      <td>527.0</td>\n",
       "      <td>0.0466</td>\n",
       "    </tr>\n",
       "    <tr>\n",
       "      <th>12</th>\n",
       "      <td>6.0</td>\n",
       "      <td>not, say, do, be, go, write, would, people, know, think</td>\n",
       "      <td>407.0</td>\n",
       "      <td>0.0360</td>\n",
       "    </tr>\n",
       "    <tr>\n",
       "      <th>13</th>\n",
       "      <td>14.0</td>\n",
       "      <td>line, organization, not, article, write, would, be, go, do, make</td>\n",
       "      <td>956.0</td>\n",
       "      <td>0.0845</td>\n",
       "    </tr>\n",
       "    <tr>\n",
       "      <th>14</th>\n",
       "      <td>1.0</td>\n",
       "      <td>line, organization, window, not, do, get, file, use, write, problem</td>\n",
       "      <td>446.0</td>\n",
       "      <td>0.0394</td>\n",
       "    </tr>\n",
       "    <tr>\n",
       "      <th>15</th>\n",
       "      <td>14.0</td>\n",
       "      <td>line, organization, not, article, write, would, be, go, do, make</td>\n",
       "      <td>1180.0</td>\n",
       "      <td>0.1043</td>\n",
       "    </tr>\n",
       "    <tr>\n",
       "      <th>16</th>\n",
       "      <td>12.0</td>\n",
       "      <td>not, would, go, say, do, make, president, year, s, think</td>\n",
       "      <td>34.0</td>\n",
       "      <td>0.0030</td>\n",
       "    </tr>\n",
       "    <tr>\n",
       "      <th>17</th>\n",
       "      <td>11.0</td>\n",
       "      <td>gun, government, not, would, people, write, state, right, article, organization</td>\n",
       "      <td>222.0</td>\n",
       "      <td>0.0196</td>\n",
       "    </tr>\n",
       "    <tr>\n",
       "      <th>18</th>\n",
       "      <td>1.0</td>\n",
       "      <td>line, organization, window, not, do, get, file, use, write, problem</td>\n",
       "      <td>27.0</td>\n",
       "      <td>0.0024</td>\n",
       "    </tr>\n",
       "    <tr>\n",
       "      <th>19</th>\n",
       "      <td>12.0</td>\n",
       "      <td>not, would, go, say, do, make, president, year, s, think</td>\n",
       "      <td>41.0</td>\n",
       "      <td>0.0036</td>\n",
       "    </tr>\n",
       "    <tr>\n",
       "      <th>20</th>\n",
       "      <td>6.0</td>\n",
       "      <td>not, say, do, be, go, write, would, people, know, think</td>\n",
       "      <td>NaN</td>\n",
       "      <td>NaN</td>\n",
       "    </tr>\n",
       "    <tr>\n",
       "      <th>21</th>\n",
       "      <td>14.0</td>\n",
       "      <td>line, organization, not, article, write, would, be, go, do, make</td>\n",
       "      <td>NaN</td>\n",
       "      <td>NaN</td>\n",
       "    </tr>\n",
       "    <tr>\n",
       "      <th>22</th>\n",
       "      <td>1.0</td>\n",
       "      <td>line, organization, window, not, do, get, file, use, write, problem</td>\n",
       "      <td>NaN</td>\n",
       "      <td>NaN</td>\n",
       "    </tr>\n",
       "    <tr>\n",
       "      <th>23</th>\n",
       "      <td>9.0</td>\n",
       "      <td>ott, gfci, line, organization, seizure, university, host, write, article, outbreak</td>\n",
       "      <td>NaN</td>\n",
       "      <td>NaN</td>\n",
       "    </tr>\n",
       "    <tr>\n",
       "      <th>24</th>\n",
       "      <td>9.0</td>\n",
       "      <td>ott, gfci, line, organization, seizure, university, host, write, article, outbreak</td>\n",
       "      <td>NaN</td>\n",
       "      <td>NaN</td>\n",
       "    </tr>\n",
       "    <tr>\n",
       "      <th>25</th>\n",
       "      <td>13.0</td>\n",
       "      <td>not, would, write, say, people, think, do, line, organization, may</td>\n",
       "      <td>NaN</td>\n",
       "      <td>NaN</td>\n",
       "    </tr>\n",
       "    <tr>\n",
       "      <th>26</th>\n",
       "      <td>11.0</td>\n",
       "      <td>gun, government, not, would, people, write, state, right, article, organization</td>\n",
       "      <td>NaN</td>\n",
       "      <td>NaN</td>\n",
       "    </tr>\n",
       "    <tr>\n",
       "      <th>27</th>\n",
       "      <td>6.0</td>\n",
       "      <td>not, say, do, be, go, write, would, people, know, think</td>\n",
       "      <td>NaN</td>\n",
       "      <td>NaN</td>\n",
       "    </tr>\n",
       "    <tr>\n",
       "      <th>28</th>\n",
       "      <td>5.0</td>\n",
       "      <td>space, april, national, satellite, organization, line, mission, information, university, include</td>\n",
       "      <td>NaN</td>\n",
       "      <td>NaN</td>\n",
       "    </tr>\n",
       "    <tr>\n",
       "      <th>29</th>\n",
       "      <td>1.0</td>\n",
       "      <td>line, organization, window, not, do, get, file, use, write, problem</td>\n",
       "      <td>NaN</td>\n",
       "      <td>NaN</td>\n",
       "    </tr>\n",
       "    <tr>\n",
       "      <th>...</th>\n",
       "      <td>...</td>\n",
       "      <td>...</td>\n",
       "      <td>...</td>\n",
       "      <td>...</td>\n",
       "    </tr>\n",
       "    <tr>\n",
       "      <th>11284</th>\n",
       "      <td>15.0</td>\n",
       "      <td>line, not, organization, key, would, get, use, do, know, good</td>\n",
       "      <td>NaN</td>\n",
       "      <td>NaN</td>\n",
       "    </tr>\n",
       "    <tr>\n",
       "      <th>11285</th>\n",
       "      <td>0.0</td>\n",
       "      <td>team, game, year, player, win, line, play, not, season, get</td>\n",
       "      <td>NaN</td>\n",
       "      <td>NaN</td>\n",
       "    </tr>\n",
       "    <tr>\n",
       "      <th>11286</th>\n",
       "      <td>6.0</td>\n",
       "      <td>not, say, do, be, go, write, would, people, know, think</td>\n",
       "      <td>NaN</td>\n",
       "      <td>NaN</td>\n",
       "    </tr>\n",
       "    <tr>\n",
       "      <th>11287</th>\n",
       "      <td>11.0</td>\n",
       "      <td>gun, government, not, would, people, write, state, right, article, organization</td>\n",
       "      <td>NaN</td>\n",
       "      <td>NaN</td>\n",
       "    </tr>\n",
       "    <tr>\n",
       "      <th>11288</th>\n",
       "      <td>1.0</td>\n",
       "      <td>line, organization, window, not, do, get, file, use, write, problem</td>\n",
       "      <td>NaN</td>\n",
       "      <td>NaN</td>\n",
       "    </tr>\n",
       "    <tr>\n",
       "      <th>11289</th>\n",
       "      <td>3.0</td>\n",
       "      <td>armenian, israel, israeli, jew, arab, government, people, turkish, turk, war</td>\n",
       "      <td>NaN</td>\n",
       "      <td>NaN</td>\n",
       "    </tr>\n",
       "    <tr>\n",
       "      <th>11290</th>\n",
       "      <td>13.0</td>\n",
       "      <td>not, would, write, say, people, think, do, line, organization, may</td>\n",
       "      <td>NaN</td>\n",
       "      <td>NaN</td>\n",
       "    </tr>\n",
       "    <tr>\n",
       "      <th>11291</th>\n",
       "      <td>1.0</td>\n",
       "      <td>line, organization, window, not, do, get, file, use, write, problem</td>\n",
       "      <td>NaN</td>\n",
       "      <td>NaN</td>\n",
       "    </tr>\n",
       "    <tr>\n",
       "      <th>11292</th>\n",
       "      <td>2.0</td>\n",
       "      <td>write, not, article, line, organization, get, do, be, know, would</td>\n",
       "      <td>NaN</td>\n",
       "      <td>NaN</td>\n",
       "    </tr>\n",
       "    <tr>\n",
       "      <th>11293</th>\n",
       "      <td>14.0</td>\n",
       "      <td>line, organization, not, article, write, would, be, go, do, make</td>\n",
       "      <td>NaN</td>\n",
       "      <td>NaN</td>\n",
       "    </tr>\n",
       "    <tr>\n",
       "      <th>11294</th>\n",
       "      <td>1.0</td>\n",
       "      <td>line, organization, window, not, do, get, file, use, write, problem</td>\n",
       "      <td>NaN</td>\n",
       "      <td>NaN</td>\n",
       "    </tr>\n",
       "    <tr>\n",
       "      <th>11295</th>\n",
       "      <td>1.0</td>\n",
       "      <td>line, organization, window, not, do, get, file, use, write, problem</td>\n",
       "      <td>NaN</td>\n",
       "      <td>NaN</td>\n",
       "    </tr>\n",
       "    <tr>\n",
       "      <th>11296</th>\n",
       "      <td>5.0</td>\n",
       "      <td>space, april, national, satellite, organization, line, mission, information, university, include</td>\n",
       "      <td>NaN</td>\n",
       "      <td>NaN</td>\n",
       "    </tr>\n",
       "    <tr>\n",
       "      <th>11297</th>\n",
       "      <td>6.0</td>\n",
       "      <td>not, say, do, be, go, write, would, people, know, think</td>\n",
       "      <td>NaN</td>\n",
       "      <td>NaN</td>\n",
       "    </tr>\n",
       "    <tr>\n",
       "      <th>11298</th>\n",
       "      <td>6.0</td>\n",
       "      <td>not, say, do, be, go, write, would, people, know, think</td>\n",
       "      <td>NaN</td>\n",
       "      <td>NaN</td>\n",
       "    </tr>\n",
       "    <tr>\n",
       "      <th>11299</th>\n",
       "      <td>5.0</td>\n",
       "      <td>space, april, national, satellite, organization, line, mission, information, university, include</td>\n",
       "      <td>NaN</td>\n",
       "      <td>NaN</td>\n",
       "    </tr>\n",
       "    <tr>\n",
       "      <th>11300</th>\n",
       "      <td>13.0</td>\n",
       "      <td>not, would, write, say, people, think, do, line, organization, may</td>\n",
       "      <td>NaN</td>\n",
       "      <td>NaN</td>\n",
       "    </tr>\n",
       "    <tr>\n",
       "      <th>11301</th>\n",
       "      <td>6.0</td>\n",
       "      <td>not, say, do, be, go, write, would, people, know, think</td>\n",
       "      <td>NaN</td>\n",
       "      <td>NaN</td>\n",
       "    </tr>\n",
       "    <tr>\n",
       "      <th>11302</th>\n",
       "      <td>14.0</td>\n",
       "      <td>line, organization, not, article, write, would, be, go, do, make</td>\n",
       "      <td>NaN</td>\n",
       "      <td>NaN</td>\n",
       "    </tr>\n",
       "    <tr>\n",
       "      <th>11303</th>\n",
       "      <td>6.0</td>\n",
       "      <td>not, say, do, be, go, write, would, people, know, think</td>\n",
       "      <td>NaN</td>\n",
       "      <td>NaN</td>\n",
       "    </tr>\n",
       "    <tr>\n",
       "      <th>11304</th>\n",
       "      <td>1.0</td>\n",
       "      <td>line, organization, window, not, do, get, file, use, write, problem</td>\n",
       "      <td>NaN</td>\n",
       "      <td>NaN</td>\n",
       "    </tr>\n",
       "    <tr>\n",
       "      <th>11305</th>\n",
       "      <td>1.0</td>\n",
       "      <td>line, organization, window, not, do, get, file, use, write, problem</td>\n",
       "      <td>NaN</td>\n",
       "      <td>NaN</td>\n",
       "    </tr>\n",
       "    <tr>\n",
       "      <th>11306</th>\n",
       "      <td>2.0</td>\n",
       "      <td>write, not, article, line, organization, get, do, be, know, would</td>\n",
       "      <td>NaN</td>\n",
       "      <td>NaN</td>\n",
       "    </tr>\n",
       "    <tr>\n",
       "      <th>11307</th>\n",
       "      <td>13.0</td>\n",
       "      <td>not, would, write, say, people, think, do, line, organization, may</td>\n",
       "      <td>NaN</td>\n",
       "      <td>NaN</td>\n",
       "    </tr>\n",
       "    <tr>\n",
       "      <th>11308</th>\n",
       "      <td>15.0</td>\n",
       "      <td>line, not, organization, key, would, get, use, do, know, good</td>\n",
       "      <td>NaN</td>\n",
       "      <td>NaN</td>\n",
       "    </tr>\n",
       "    <tr>\n",
       "      <th>11309</th>\n",
       "      <td>14.0</td>\n",
       "      <td>line, organization, not, article, write, would, be, go, do, make</td>\n",
       "      <td>NaN</td>\n",
       "      <td>NaN</td>\n",
       "    </tr>\n",
       "    <tr>\n",
       "      <th>11310</th>\n",
       "      <td>7.0</td>\n",
       "      <td>not, line, organization, write, do, article, be, get, time, host</td>\n",
       "      <td>NaN</td>\n",
       "      <td>NaN</td>\n",
       "    </tr>\n",
       "    <tr>\n",
       "      <th>11311</th>\n",
       "      <td>0.0</td>\n",
       "      <td>team, game, year, player, win, line, play, not, season, get</td>\n",
       "      <td>NaN</td>\n",
       "      <td>NaN</td>\n",
       "    </tr>\n",
       "    <tr>\n",
       "      <th>11312</th>\n",
       "      <td>1.0</td>\n",
       "      <td>line, organization, window, not, do, get, file, use, write, problem</td>\n",
       "      <td>NaN</td>\n",
       "      <td>NaN</td>\n",
       "    </tr>\n",
       "    <tr>\n",
       "      <th>11313</th>\n",
       "      <td>1.0</td>\n",
       "      <td>line, organization, window, not, do, get, file, use, write, problem</td>\n",
       "      <td>NaN</td>\n",
       "      <td>NaN</td>\n",
       "    </tr>\n",
       "  </tbody>\n",
       "</table>\n",
       "<p>11314 rows × 4 columns</p>\n",
       "</div>"
      ],
      "text/plain": [
       "       Dominant_Topic  \\\n",
       "0                 6.0   \n",
       "1                 1.0   \n",
       "2                 7.0   \n",
       "3                 1.0   \n",
       "4                 1.0   \n",
       "5                 7.0   \n",
       "6                15.0   \n",
       "7                 1.0   \n",
       "8                 6.0   \n",
       "9                13.0   \n",
       "10                5.0   \n",
       "11                7.0   \n",
       "12                6.0   \n",
       "13               14.0   \n",
       "14                1.0   \n",
       "15               14.0   \n",
       "16               12.0   \n",
       "17               11.0   \n",
       "18                1.0   \n",
       "19               12.0   \n",
       "20                6.0   \n",
       "21               14.0   \n",
       "22                1.0   \n",
       "23                9.0   \n",
       "24                9.0   \n",
       "25               13.0   \n",
       "26               11.0   \n",
       "27                6.0   \n",
       "28                5.0   \n",
       "29                1.0   \n",
       "...               ...   \n",
       "11284            15.0   \n",
       "11285             0.0   \n",
       "11286             6.0   \n",
       "11287            11.0   \n",
       "11288             1.0   \n",
       "11289             3.0   \n",
       "11290            13.0   \n",
       "11291             1.0   \n",
       "11292             2.0   \n",
       "11293            14.0   \n",
       "11294             1.0   \n",
       "11295             1.0   \n",
       "11296             5.0   \n",
       "11297             6.0   \n",
       "11298             6.0   \n",
       "11299             5.0   \n",
       "11300            13.0   \n",
       "11301             6.0   \n",
       "11302            14.0   \n",
       "11303             6.0   \n",
       "11304             1.0   \n",
       "11305             1.0   \n",
       "11306             2.0   \n",
       "11307            13.0   \n",
       "11308            15.0   \n",
       "11309            14.0   \n",
       "11310             7.0   \n",
       "11311             0.0   \n",
       "11312             1.0   \n",
       "11313             1.0   \n",
       "\n",
       "                                                                                         Topic_Keywords  \\\n",
       "0                                               not, say, do, be, go, write, would, people, know, think   \n",
       "1                                   line, organization, window, not, do, get, file, use, write, problem   \n",
       "2                                      not, line, organization, write, do, article, be, get, time, host   \n",
       "3                                   line, organization, window, not, do, get, file, use, write, problem   \n",
       "4                                   line, organization, window, not, do, get, file, use, write, problem   \n",
       "5                                      not, line, organization, write, do, article, be, get, time, host   \n",
       "6                                         line, not, organization, key, would, get, use, do, know, good   \n",
       "7                                   line, organization, window, not, do, get, file, use, write, problem   \n",
       "8                                               not, say, do, be, go, write, would, people, know, think   \n",
       "9                                    not, would, write, say, people, think, do, line, organization, may   \n",
       "10     space, april, national, satellite, organization, line, mission, information, university, include   \n",
       "11                                     not, line, organization, write, do, article, be, get, time, host   \n",
       "12                                              not, say, do, be, go, write, would, people, know, think   \n",
       "13                                     line, organization, not, article, write, would, be, go, do, make   \n",
       "14                                  line, organization, window, not, do, get, file, use, write, problem   \n",
       "15                                     line, organization, not, article, write, would, be, go, do, make   \n",
       "16                                             not, would, go, say, do, make, president, year, s, think   \n",
       "17                      gun, government, not, would, people, write, state, right, article, organization   \n",
       "18                                  line, organization, window, not, do, get, file, use, write, problem   \n",
       "19                                             not, would, go, say, do, make, president, year, s, think   \n",
       "20                                              not, say, do, be, go, write, would, people, know, think   \n",
       "21                                     line, organization, not, article, write, would, be, go, do, make   \n",
       "22                                  line, organization, window, not, do, get, file, use, write, problem   \n",
       "23                   ott, gfci, line, organization, seizure, university, host, write, article, outbreak   \n",
       "24                   ott, gfci, line, organization, seizure, university, host, write, article, outbreak   \n",
       "25                                   not, would, write, say, people, think, do, line, organization, may   \n",
       "26                      gun, government, not, would, people, write, state, right, article, organization   \n",
       "27                                              not, say, do, be, go, write, would, people, know, think   \n",
       "28     space, april, national, satellite, organization, line, mission, information, university, include   \n",
       "29                                  line, organization, window, not, do, get, file, use, write, problem   \n",
       "...                                                                                                 ...   \n",
       "11284                                     line, not, organization, key, would, get, use, do, know, good   \n",
       "11285                                       team, game, year, player, win, line, play, not, season, get   \n",
       "11286                                           not, say, do, be, go, write, would, people, know, think   \n",
       "11287                   gun, government, not, would, people, write, state, right, article, organization   \n",
       "11288                               line, organization, window, not, do, get, file, use, write, problem   \n",
       "11289                      armenian, israel, israeli, jew, arab, government, people, turkish, turk, war   \n",
       "11290                                not, would, write, say, people, think, do, line, organization, may   \n",
       "11291                               line, organization, window, not, do, get, file, use, write, problem   \n",
       "11292                                 write, not, article, line, organization, get, do, be, know, would   \n",
       "11293                                  line, organization, not, article, write, would, be, go, do, make   \n",
       "11294                               line, organization, window, not, do, get, file, use, write, problem   \n",
       "11295                               line, organization, window, not, do, get, file, use, write, problem   \n",
       "11296  space, april, national, satellite, organization, line, mission, information, university, include   \n",
       "11297                                           not, say, do, be, go, write, would, people, know, think   \n",
       "11298                                           not, say, do, be, go, write, would, people, know, think   \n",
       "11299  space, april, national, satellite, organization, line, mission, information, university, include   \n",
       "11300                                not, would, write, say, people, think, do, line, organization, may   \n",
       "11301                                           not, say, do, be, go, write, would, people, know, think   \n",
       "11302                                  line, organization, not, article, write, would, be, go, do, make   \n",
       "11303                                           not, say, do, be, go, write, would, people, know, think   \n",
       "11304                               line, organization, window, not, do, get, file, use, write, problem   \n",
       "11305                               line, organization, window, not, do, get, file, use, write, problem   \n",
       "11306                                 write, not, article, line, organization, get, do, be, know, would   \n",
       "11307                                not, would, write, say, people, think, do, line, organization, may   \n",
       "11308                                     line, not, organization, key, would, get, use, do, know, good   \n",
       "11309                                  line, organization, not, article, write, would, be, go, do, make   \n",
       "11310                                  not, line, organization, write, do, article, be, get, time, host   \n",
       "11311                                       team, game, year, player, win, line, play, not, season, get   \n",
       "11312                               line, organization, window, not, do, get, file, use, write, problem   \n",
       "11313                               line, organization, window, not, do, get, file, use, write, problem   \n",
       "\n",
       "       Num_Documents  Perc_Documents  \n",
       "0              755.0          0.0667  \n",
       "1             2860.0          0.2528  \n",
       "2              430.0          0.0380  \n",
       "3              321.0          0.0284  \n",
       "4               40.0          0.0035  \n",
       "5              193.0          0.0171  \n",
       "6             1583.0          0.1399  \n",
       "7              944.0          0.0834  \n",
       "8               12.0          0.0011  \n",
       "9               59.0          0.0052  \n",
       "10             277.0          0.0245  \n",
       "11             527.0          0.0466  \n",
       "12             407.0          0.0360  \n",
       "13             956.0          0.0845  \n",
       "14             446.0          0.0394  \n",
       "15            1180.0          0.1043  \n",
       "16              34.0          0.0030  \n",
       "17             222.0          0.0196  \n",
       "18              27.0          0.0024  \n",
       "19              41.0          0.0036  \n",
       "20               NaN             NaN  \n",
       "21               NaN             NaN  \n",
       "22               NaN             NaN  \n",
       "23               NaN             NaN  \n",
       "24               NaN             NaN  \n",
       "25               NaN             NaN  \n",
       "26               NaN             NaN  \n",
       "27               NaN             NaN  \n",
       "28               NaN             NaN  \n",
       "29               NaN             NaN  \n",
       "...              ...             ...  \n",
       "11284            NaN             NaN  \n",
       "11285            NaN             NaN  \n",
       "11286            NaN             NaN  \n",
       "11287            NaN             NaN  \n",
       "11288            NaN             NaN  \n",
       "11289            NaN             NaN  \n",
       "11290            NaN             NaN  \n",
       "11291            NaN             NaN  \n",
       "11292            NaN             NaN  \n",
       "11293            NaN             NaN  \n",
       "11294            NaN             NaN  \n",
       "11295            NaN             NaN  \n",
       "11296            NaN             NaN  \n",
       "11297            NaN             NaN  \n",
       "11298            NaN             NaN  \n",
       "11299            NaN             NaN  \n",
       "11300            NaN             NaN  \n",
       "11301            NaN             NaN  \n",
       "11302            NaN             NaN  \n",
       "11303            NaN             NaN  \n",
       "11304            NaN             NaN  \n",
       "11305            NaN             NaN  \n",
       "11306            NaN             NaN  \n",
       "11307            NaN             NaN  \n",
       "11308            NaN             NaN  \n",
       "11309            NaN             NaN  \n",
       "11310            NaN             NaN  \n",
       "11311            NaN             NaN  \n",
       "11312            NaN             NaN  \n",
       "11313            NaN             NaN  \n",
       "\n",
       "[11314 rows x 4 columns]"
      ]
     },
     "execution_count": 68,
     "metadata": {},
     "output_type": "execute_result"
    }
   ],
   "source": [
    "# Number of Documents for Each Topic\n",
    "topic_counts = df_topic_sents_keywords['Dominant_Topic'].value_counts()\n",
    "\n",
    "# Percentage of Documents for Each Topic\n",
    "topic_contribution = round(topic_counts/topic_counts.sum(), 4)\n",
    "\n",
    "# Topic Number and Keywords\n",
    "topic_num_keywords = df_topic_sents_keywords[['Dominant_Topic', 'Topic_Keywords']]\n",
    "\n",
    "# Concatenate Column wise\n",
    "df_dominant_topics = pd.concat([topic_num_keywords, topic_counts, topic_contribution], axis=1)\n",
    "\n",
    "# Change Column names\n",
    "df_dominant_topics.columns = ['Dominant_Topic', 'Topic_Keywords', 'Num_Documents', 'Perc_Documents']\n",
    "\n",
    "# Show\n",
    "df_dominant_topics"
   ]
  },
  {
   "cell_type": "code",
   "execution_count": null,
   "metadata": {},
   "outputs": [],
   "source": []
  },
  {
   "cell_type": "markdown",
   "metadata": {},
   "source": [
    "END here if all go fine"
   ]
  },
  {
   "cell_type": "code",
   "execution_count": null,
   "metadata": {},
   "outputs": [],
   "source": []
  },
  {
   "cell_type": "code",
   "execution_count": null,
   "metadata": {},
   "outputs": [],
   "source": []
  },
  {
   "cell_type": "code",
   "execution_count": null,
   "metadata": {},
   "outputs": [],
   "source": []
  },
  {
   "cell_type": "code",
   "execution_count": null,
   "metadata": {},
   "outputs": [],
   "source": []
  },
  {
   "cell_type": "code",
   "execution_count": null,
   "metadata": {},
   "outputs": [],
   "source": []
  },
  {
   "cell_type": "code",
   "execution_count": null,
   "metadata": {},
   "outputs": [],
   "source": []
  },
  {
   "cell_type": "code",
   "execution_count": null,
   "metadata": {},
   "outputs": [],
   "source": []
  },
  {
   "cell_type": "code",
   "execution_count": null,
   "metadata": {},
   "outputs": [],
   "source": []
  },
  {
   "cell_type": "code",
   "execution_count": null,
   "metadata": {},
   "outputs": [],
   "source": []
  },
  {
   "cell_type": "markdown",
   "metadata": {},
   "source": [
    "# 5) Dominant topic and its percentage contribution in each document"
   ]
  },
  {
   "cell_type": "code",
   "execution_count": 54,
   "metadata": {},
   "outputs": [
    {
     "data": {
      "text/html": [
       "<div>\n",
       "<style scoped>\n",
       "    .dataframe tbody tr th:only-of-type {\n",
       "        vertical-align: middle;\n",
       "    }\n",
       "\n",
       "    .dataframe tbody tr th {\n",
       "        vertical-align: top;\n",
       "    }\n",
       "\n",
       "    .dataframe thead th {\n",
       "        text-align: right;\n",
       "    }\n",
       "</style>\n",
       "<table border=\"1\" class=\"dataframe\">\n",
       "  <thead>\n",
       "    <tr style=\"text-align: right;\">\n",
       "      <th></th>\n",
       "      <th>Document_No</th>\n",
       "      <th>Dominant_Topic</th>\n",
       "      <th>Topic_Perc_Contrib</th>\n",
       "      <th>Keywords</th>\n",
       "      <th>Text</th>\n",
       "    </tr>\n",
       "  </thead>\n",
       "  <tbody>\n",
       "    <tr>\n",
       "      <th>0</th>\n",
       "      <td>0</td>\n",
       "      <td>16.0</td>\n",
       "      <td>0.4410</td>\n",
       "      <td>not, line, organization, do, write, be, articl...</td>\n",
       "      <td>[where, s, thing, car, nntp_poste, host, umd, ...</td>\n",
       "    </tr>\n",
       "    <tr>\n",
       "      <th>1</th>\n",
       "      <td>1</td>\n",
       "      <td>14.0</td>\n",
       "      <td>0.4987</td>\n",
       "      <td>system, use, thank, line, information, new, al...</td>\n",
       "      <td>[clock, poll, final, call, summary, final, cal...</td>\n",
       "    </tr>\n",
       "    <tr>\n",
       "      <th>2</th>\n",
       "      <td>2</td>\n",
       "      <td>16.0</td>\n",
       "      <td>0.4403</td>\n",
       "      <td>not, line, organization, do, write, be, articl...</td>\n",
       "      <td>[irwin, arnstein, recommendation, duc, summary...</td>\n",
       "    </tr>\n",
       "    <tr>\n",
       "      <th>3</th>\n",
       "      <td>3</td>\n",
       "      <td>14.0</td>\n",
       "      <td>0.3653</td>\n",
       "      <td>system, use, thank, line, information, new, al...</td>\n",
       "      <td>[tsung, kun, chen, software, forsale, lot, nnt...</td>\n",
       "    </tr>\n",
       "    <tr>\n",
       "      <th>4</th>\n",
       "      <td>4</td>\n",
       "      <td>16.0</td>\n",
       "      <td>0.3843</td>\n",
       "      <td>not, line, organization, do, write, be, articl...</td>\n",
       "      <td>[lindbergh, diamond_ss, win, mouse_cursor, org...</td>\n",
       "    </tr>\n",
       "    <tr>\n",
       "      <th>5</th>\n",
       "      <td>5</td>\n",
       "      <td>16.0</td>\n",
       "      <td>0.5582</td>\n",
       "      <td>not, line, organization, do, write, be, articl...</td>\n",
       "      <td>[robert, loper, sc, nntp_posting, host, sun, d...</td>\n",
       "    </tr>\n",
       "    <tr>\n",
       "      <th>6</th>\n",
       "      <td>6</td>\n",
       "      <td>16.0</td>\n",
       "      <td>0.3101</td>\n",
       "      <td>not, line, organization, do, write, be, articl...</td>\n",
       "      <td>[kim, richard, man, syqu, cartrifge, forsale, ...</td>\n",
       "    </tr>\n",
       "    <tr>\n",
       "      <th>7</th>\n",
       "      <td>7</td>\n",
       "      <td>14.0</td>\n",
       "      <td>0.3545</td>\n",
       "      <td>system, use, thank, line, information, new, al...</td>\n",
       "      <td>[kirtley, wilson, mirosoft, office, package, a...</td>\n",
       "    </tr>\n",
       "    <tr>\n",
       "      <th>8</th>\n",
       "      <td>8</td>\n",
       "      <td>16.0</td>\n",
       "      <td>0.2981</td>\n",
       "      <td>not, line, organization, do, write, be, articl...</td>\n",
       "      <td>[do, not, innocents_die, death_penalty, robert...</td>\n",
       "    </tr>\n",
       "    <tr>\n",
       "      <th>9</th>\n",
       "      <td>9</td>\n",
       "      <td>1.0</td>\n",
       "      <td>0.5462</td>\n",
       "      <td>god, christian, believe, may, claim, would, me...</td>\n",
       "      <td>[jon_livesey, genocide, cause, atheism, organi...</td>\n",
       "    </tr>\n",
       "  </tbody>\n",
       "</table>\n",
       "</div>"
      ],
      "text/plain": [
       "   Document_No  Dominant_Topic  Topic_Perc_Contrib  \\\n",
       "0            0            16.0              0.4410   \n",
       "1            1            14.0              0.4987   \n",
       "2            2            16.0              0.4403   \n",
       "3            3            14.0              0.3653   \n",
       "4            4            16.0              0.3843   \n",
       "5            5            16.0              0.5582   \n",
       "6            6            16.0              0.3101   \n",
       "7            7            14.0              0.3545   \n",
       "8            8            16.0              0.2981   \n",
       "9            9             1.0              0.5462   \n",
       "\n",
       "                                            Keywords  \\\n",
       "0  not, line, organization, do, write, be, articl...   \n",
       "1  system, use, thank, line, information, new, al...   \n",
       "2  not, line, organization, do, write, be, articl...   \n",
       "3  system, use, thank, line, information, new, al...   \n",
       "4  not, line, organization, do, write, be, articl...   \n",
       "5  not, line, organization, do, write, be, articl...   \n",
       "6  not, line, organization, do, write, be, articl...   \n",
       "7  system, use, thank, line, information, new, al...   \n",
       "8  not, line, organization, do, write, be, articl...   \n",
       "9  god, christian, believe, may, claim, would, me...   \n",
       "\n",
       "                                                Text  \n",
       "0  [where, s, thing, car, nntp_poste, host, umd, ...  \n",
       "1  [clock, poll, final, call, summary, final, cal...  \n",
       "2  [irwin, arnstein, recommendation, duc, summary...  \n",
       "3  [tsung, kun, chen, software, forsale, lot, nnt...  \n",
       "4  [lindbergh, diamond_ss, win, mouse_cursor, org...  \n",
       "5  [robert, loper, sc, nntp_posting, host, sun, d...  \n",
       "6  [kim, richard, man, syqu, cartrifge, forsale, ...  \n",
       "7  [kirtley, wilson, mirosoft, office, package, a...  \n",
       "8  [do, not, innocents_die, death_penalty, robert...  \n",
       "9  [jon_livesey, genocide, cause, atheism, organi...  "
      ]
     },
     "execution_count": 54,
     "metadata": {},
     "output_type": "execute_result"
    }
   ],
   "source": [
    "def format_topics_sentences(ldamodel=None, corpus=corpus, texts=data):\n",
    "    # Init output\n",
    "    sent_topics_df = pd.DataFrame()\n",
    "\n",
    "    # Get main topic in each document\n",
    "    for i, row_list in enumerate(ldamodel[corpus]):\n",
    "        row = row_list[0] if ldamodel.per_word_topics else row_list            \n",
    "        # print(row)\n",
    "        row = sorted(row, key=lambda x: (x[1]), reverse=True)\n",
    "        # Get the Dominant topic, Perc Contribution and Keywords for each document\n",
    "        for j, (topic_num, prop_topic) in enumerate(row):\n",
    "            if j == 0:  # => dominant topic\n",
    "                wp = ldamodel.show_topic(topic_num)\n",
    "                topic_keywords = \", \".join([word for word, prop in wp])\n",
    "                sent_topics_df = sent_topics_df.append(pd.Series([int(topic_num), round(prop_topic,4), topic_keywords]), ignore_index=True)\n",
    "            else:\n",
    "                break\n",
    "    sent_topics_df.columns = ['Dominant_Topic', 'Perc_Contribution', 'Topic_Keywords']\n",
    "\n",
    "    # Add original text to the end of the output\n",
    "    contents = pd.Series(texts)\n",
    "    sent_topics_df = pd.concat([sent_topics_df, contents], axis=1)\n",
    "    return(sent_topics_df)\n",
    "\n",
    "\n",
    "df_topic_sents_keywords = format_topics_sentences(ldamodel=lda_model, corpus=corpus, texts=data_lemmatized)\n",
    "\n",
    "# Format\n",
    "df_dominant_topic = df_topic_sents_keywords.reset_index()\n",
    "df_dominant_topic.columns = ['Document_No', 'Dominant_Topic', 'Topic_Perc_Contrib', 'Keywords', 'Text']\n",
    "df_dominant_topic.head(10)"
   ]
  },
  {
   "cell_type": "markdown",
   "metadata": {},
   "source": [
    "### 5.1)-The most representative sentence for each topic"
   ]
  },
  {
   "cell_type": "code",
   "execution_count": 55,
   "metadata": {},
   "outputs": [
    {
     "data": {
      "text/html": [
       "<div>\n",
       "<style scoped>\n",
       "    .dataframe tbody tr th:only-of-type {\n",
       "        vertical-align: middle;\n",
       "    }\n",
       "\n",
       "    .dataframe tbody tr th {\n",
       "        vertical-align: top;\n",
       "    }\n",
       "\n",
       "    .dataframe thead th {\n",
       "        text-align: right;\n",
       "    }\n",
       "</style>\n",
       "<table border=\"1\" class=\"dataframe\">\n",
       "  <thead>\n",
       "    <tr style=\"text-align: right;\">\n",
       "      <th></th>\n",
       "      <th>Topic_Num</th>\n",
       "      <th>Topic_Perc_Contrib</th>\n",
       "      <th>Keywords</th>\n",
       "      <th>Representative Text</th>\n",
       "    </tr>\n",
       "  </thead>\n",
       "  <tbody>\n",
       "    <tr>\n",
       "      <th>0</th>\n",
       "      <td>1.0</td>\n",
       "      <td>0.7208</td>\n",
       "      <td>god, christian, believe, may, claim, would, mean, say, word, point</td>\n",
       "      <td>[mail, server, cause, line, stephen_mcintyre, write, write, stuff_delet, fortunately, convenienc...</td>\n",
       "    </tr>\n",
       "    <tr>\n",
       "      <th>1</th>\n",
       "      <td>6.0</td>\n",
       "      <td>0.6382</td>\n",
       "      <td>say, people, go, come, time, day, take, see, not, tell</td>\n",
       "      <td>[david_davidian, account, anti, armenian, human, right, violation, azerbaijan, summary, part, or...</td>\n",
       "    </tr>\n",
       "    <tr>\n",
       "      <th>2</th>\n",
       "      <td>8.0</td>\n",
       "      <td>0.4259</td>\n",
       "      <td>government, gun, law, state, right, public, american, police, country, criminal</td>\n",
       "      <td>[larry_cipriani, gun, talk, state, legislative, update, organization, ideology_buster, inc, keyw...</td>\n",
       "    </tr>\n",
       "    <tr>\n",
       "      <th>3</th>\n",
       "      <td>9.0</td>\n",
       "      <td>0.7853</td>\n",
       "      <td>year, game, team, play, win, player, hockey, season, first, hit</td>\n",
       "      <td>[nhl, summary_parse, result, game, play, sit, april, cook_charlie, organization, university, lin...</td>\n",
       "    </tr>\n",
       "    <tr>\n",
       "      <th>4</th>\n",
       "      <td>12.0</td>\n",
       "      <td>0.9978</td>\n",
       "      <td>ax, max, usenet, byte, cd, quadra, counter, centris, alaska, assistance</td>\n",
       "      <td>[cliff, reply, cliff, organization, university, south_dakota, line, part, max, ax, ax, ax, ax, a...</td>\n",
       "    </tr>\n",
       "    <tr>\n",
       "      <th>5</th>\n",
       "      <td>13.0</td>\n",
       "      <td>0.2547</td>\n",
       "      <td>circuit, league, baseball, directory, front, bob, uk, pub, wear, duke</td>\n",
       "      <td>[todd, karlin, new, uniform, organization, university, virginia, line, usually, team, change, lo...</td>\n",
       "    </tr>\n",
       "    <tr>\n",
       "      <th>6</th>\n",
       "      <td>14.0</td>\n",
       "      <td>0.6757</td>\n",
       "      <td>system, use, thank, line, information, new, also, mail, file, include</td>\n",
       "      <td>[mark, gregory, avi, file, format, summary, avi, file, format, keyword, avi, file, format, organ...</td>\n",
       "    </tr>\n",
       "    <tr>\n",
       "      <th>7</th>\n",
       "      <td>16.0</td>\n",
       "      <td>0.7572</td>\n",
       "      <td>not, line, organization, do, write, be, article, would, get, know</td>\n",
       "      <td>[bill, big, big, st, bike, organization, cafe, edge, universe, line, woodward, write, weight, si...</td>\n",
       "    </tr>\n",
       "    <tr>\n",
       "      <th>8</th>\n",
       "      <td>17.0</td>\n",
       "      <td>0.5362</td>\n",
       "      <td>window, card, chip, driver, color, graphic, bit, mode, problem, board</td>\n",
       "      <td>[grubb, ide_vs, scsi, organization, state, university, line, distribution_world, nntp_posting, h...</td>\n",
       "    </tr>\n",
       "    <tr>\n",
       "      <th>9</th>\n",
       "      <td>18.0</td>\n",
       "      <td>0.5811</td>\n",
       "      <td>air, hall, purchase, discipline, michigan, van, coverage, archive, panel, complain</td>\n",
       "      <td>[cliff, reply, cliff, organization, university, south_dakota, line, part, nahfnajz, ahf, ajz, kh...</td>\n",
       "    </tr>\n",
       "  </tbody>\n",
       "</table>\n",
       "</div>"
      ],
      "text/plain": [
       "   Topic_Num  Topic_Perc_Contrib  \\\n",
       "0        1.0              0.7208   \n",
       "1        6.0              0.6382   \n",
       "2        8.0              0.4259   \n",
       "3        9.0              0.7853   \n",
       "4       12.0              0.9978   \n",
       "5       13.0              0.2547   \n",
       "6       14.0              0.6757   \n",
       "7       16.0              0.7572   \n",
       "8       17.0              0.5362   \n",
       "9       18.0              0.5811   \n",
       "\n",
       "                                                                             Keywords  \\\n",
       "0                  god, christian, believe, may, claim, would, mean, say, word, point   \n",
       "1                              say, people, go, come, time, day, take, see, not, tell   \n",
       "2     government, gun, law, state, right, public, american, police, country, criminal   \n",
       "3                     year, game, team, play, win, player, hockey, season, first, hit   \n",
       "4             ax, max, usenet, byte, cd, quadra, counter, centris, alaska, assistance   \n",
       "5               circuit, league, baseball, directory, front, bob, uk, pub, wear, duke   \n",
       "6               system, use, thank, line, information, new, also, mail, file, include   \n",
       "7                   not, line, organization, do, write, be, article, would, get, know   \n",
       "8               window, card, chip, driver, color, graphic, bit, mode, problem, board   \n",
       "9  air, hall, purchase, discipline, michigan, van, coverage, archive, panel, complain   \n",
       "\n",
       "                                                                                   Representative Text  \n",
       "0  [mail, server, cause, line, stephen_mcintyre, write, write, stuff_delet, fortunately, convenienc...  \n",
       "1  [david_davidian, account, anti, armenian, human, right, violation, azerbaijan, summary, part, or...  \n",
       "2  [larry_cipriani, gun, talk, state, legislative, update, organization, ideology_buster, inc, keyw...  \n",
       "3  [nhl, summary_parse, result, game, play, sit, april, cook_charlie, organization, university, lin...  \n",
       "4  [cliff, reply, cliff, organization, university, south_dakota, line, part, max, ax, ax, ax, ax, a...  \n",
       "5  [todd, karlin, new, uniform, organization, university, virginia, line, usually, team, change, lo...  \n",
       "6  [mark, gregory, avi, file, format, summary, avi, file, format, keyword, avi, file, format, organ...  \n",
       "7  [bill, big, big, st, bike, organization, cafe, edge, universe, line, woodward, write, weight, si...  \n",
       "8  [grubb, ide_vs, scsi, organization, state, university, line, distribution_world, nntp_posting, h...  \n",
       "9  [cliff, reply, cliff, organization, university, south_dakota, line, part, nahfnajz, ahf, ajz, kh...  "
      ]
     },
     "execution_count": 55,
     "metadata": {},
     "output_type": "execute_result"
    }
   ],
   "source": [
    "# Display setting to show more characters in column\n",
    "pd.options.display.max_colwidth = 100\n",
    "\n",
    "sent_topics_sorteddf_mallet = pd.DataFrame()\n",
    "sent_topics_outdf_grpd = df_topic_sents_keywords.groupby('Dominant_Topic')\n",
    "\n",
    "for i, grp in sent_topics_outdf_grpd:\n",
    "    sent_topics_sorteddf_mallet = pd.concat([sent_topics_sorteddf_mallet, \n",
    "                                             grp.sort_values(['Perc_Contribution'], ascending=False).head(1)], \n",
    "                                            axis=0)\n",
    "\n",
    "# Reset Index    \n",
    "sent_topics_sorteddf_mallet.reset_index(drop=True, inplace=True)\n",
    "\n",
    "# Format\n",
    "sent_topics_sorteddf_mallet.columns = ['Topic_Num', \"Topic_Perc_Contrib\", \"Keywords\", \"Representative Text\"]\n",
    "\n",
    "# Show\n",
    "sent_topics_sorteddf_mallet.head(10)"
   ]
  },
  {
   "cell_type": "markdown",
   "metadata": {},
   "source": [
    "### 5.3)Frequency Distribution of Word Counts in Documents"
   ]
  },
  {
   "cell_type": "code",
   "execution_count": 56,
   "metadata": {},
   "outputs": [
    {
     "data": {
      "image/png": "[encoded data removed]",
      "text/plain": [
       "<matplotlib.figure.Figure at 0x214d58f6c50>"
      ]
     },
     "metadata": {
      "needs_background": "light"
     },
     "output_type": "display_data"
    }
   ],
   "source": [
    "doc_lens = [len(d) for d in df_dominant_topic.Text]\n",
    "\n",
    "# Plot\n",
    "plt.figure(figsize=(16,7), dpi=160)\n",
    "plt.hist(doc_lens, bins = 1000, color='navy')\n",
    "plt.text(750, 100, \"Mean   : \" + str(round(np.mean(doc_lens))))\n",
    "plt.text(750,  90, \"Median : \" + str(round(np.median(doc_lens))))\n",
    "plt.text(750,  80, \"Stdev   : \" + str(round(np.std(doc_lens))))\n",
    "plt.text(750,  70, \"1%ile    : \" + str(round(np.quantile(doc_lens, q=0.01))))\n",
    "plt.text(750,  60, \"99%ile  : \" + str(round(np.quantile(doc_lens, q=0.99))))\n",
    "\n",
    "plt.gca().set(xlim=(0, 1000), ylabel='Number of Documents', xlabel='Document Word Count')\n",
    "plt.tick_params(size=16)\n",
    "plt.xticks(np.linspace(0,1000,9))\n",
    "plt.title('Distribution of Document Word Counts', fontdict=dict(size=22))\n",
    "plt.show()"
   ]
  },
  {
   "cell_type": "code",
   "execution_count": 57,
   "metadata": {},
   "outputs": [
    {
     "name": "stderr",
     "output_type": "stream",
     "text": [
      "C:\\Program Files\\Anaconda3\\lib\\site-packages\\statsmodels\\nonparametric\\kernels.py:59: DeprecationWarning: invalid escape sequence \\l\n",
      "  \"\"\"\n",
      "C:\\Program Files\\Anaconda3\\lib\\site-packages\\statsmodels\\nonparametric\\kernels.py:102: DeprecationWarning: invalid escape sequence \\l\n",
      "  \"\"\"\n",
      "C:\\Program Files\\Anaconda3\\lib\\site-packages\\statsmodels\\nonparametric\\_kernel_base.py:301: DeprecationWarning: invalid escape sequence \\l\n",
      "  \"\"\"\n",
      "C:\\Program Files\\Anaconda3\\lib\\site-packages\\statsmodels\\nonparametric\\_kernel_base.py:326: DeprecationWarning: invalid escape sequence \\i\n",
      "  \"\"\"\n",
      "C:\\Program Files\\Anaconda3\\lib\\site-packages\\statsmodels\\nonparametric\\_kernel_base.py:499: DeprecationWarning: invalid escape sequence \\s\n",
      "  \"\"\"\n",
      "C:\\Program Files\\Anaconda3\\lib\\site-packages\\statsmodels\\nonparametric\\kernel_regression.py:309: DeprecationWarning: invalid escape sequence \\s\n",
      "  \"\"\"\n",
      "C:\\Program Files\\Anaconda3\\lib\\site-packages\\statsmodels\\nonparametric\\kernel_regression.py:635: DeprecationWarning: invalid escape sequence \\s\n",
      "  \"\"\"\n",
      "C:\\Program Files\\Anaconda3\\lib\\site-packages\\statsmodels\\nonparametric\\kernel_regression.py:723: DeprecationWarning: invalid escape sequence \\&\n",
      "  \"\"\"\n"
     ]
    },
    {
     "ename": "ZeroDivisionError",
     "evalue": "0.0 cannot be raised to a negative power",
     "output_type": "error",
     "traceback": [
      "\u001b[1;31m---------------------------------------------------------------------------\u001b[0m",
      "\u001b[1;31mValueError\u001b[0m                                Traceback (most recent call last)",
      "\u001b[1;32mC:\\Program Files\\Anaconda3\\lib\\site-packages\\statsmodels\\nonparametric\\kde.py\u001b[0m in \u001b[0;36mkdensityfft\u001b[1;34m(X, kernel, bw, weights, gridsize, adjust, clip, cut, retgrid)\u001b[0m\n\u001b[0;32m    460\u001b[0m     \u001b[1;32mtry\u001b[0m\u001b[1;33m:\u001b[0m\u001b[1;33m\u001b[0m\u001b[0m\n\u001b[1;32m--> 461\u001b[1;33m         \u001b[0mbw\u001b[0m \u001b[1;33m=\u001b[0m \u001b[0mfloat\u001b[0m\u001b[1;33m(\u001b[0m\u001b[0mbw\u001b[0m\u001b[1;33m)\u001b[0m\u001b[1;33m\u001b[0m\u001b[0m\n\u001b[0m\u001b[0;32m    462\u001b[0m     \u001b[1;32mexcept\u001b[0m\u001b[1;33m:\u001b[0m\u001b[1;33m\u001b[0m\u001b[0m\n",
      "\u001b[1;31mValueError\u001b[0m: could not convert string to float: 'scott'",
      "\nDuring handling of the above exception, another exception occurred:\n",
      "\u001b[1;31mZeroDivisionError\u001b[0m                         Traceback (most recent call last)",
      "\u001b[1;32m<ipython-input-57-cfc41bd4707a>\u001b[0m in \u001b[0;36m<module>\u001b[1;34m\u001b[0m\n\u001b[0;32m     10\u001b[0m     \u001b[0max\u001b[0m\u001b[1;33m.\u001b[0m\u001b[0mhist\u001b[0m\u001b[1;33m(\u001b[0m\u001b[0mdoc_lens\u001b[0m\u001b[1;33m,\u001b[0m \u001b[0mbins\u001b[0m \u001b[1;33m=\u001b[0m \u001b[1;36m1000\u001b[0m\u001b[1;33m,\u001b[0m \u001b[0mcolor\u001b[0m\u001b[1;33m=\u001b[0m\u001b[0mcols\u001b[0m\u001b[1;33m[\u001b[0m\u001b[0mi\u001b[0m\u001b[1;33m]\u001b[0m\u001b[1;33m)\u001b[0m\u001b[1;33m\u001b[0m\u001b[0m\n\u001b[0;32m     11\u001b[0m     \u001b[0max\u001b[0m\u001b[1;33m.\u001b[0m\u001b[0mtick_params\u001b[0m\u001b[1;33m(\u001b[0m\u001b[0maxis\u001b[0m\u001b[1;33m=\u001b[0m\u001b[1;34m'y'\u001b[0m\u001b[1;33m,\u001b[0m \u001b[0mlabelcolor\u001b[0m\u001b[1;33m=\u001b[0m\u001b[0mcols\u001b[0m\u001b[1;33m[\u001b[0m\u001b[0mi\u001b[0m\u001b[1;33m]\u001b[0m\u001b[1;33m,\u001b[0m \u001b[0mcolor\u001b[0m\u001b[1;33m=\u001b[0m\u001b[0mcols\u001b[0m\u001b[1;33m[\u001b[0m\u001b[0mi\u001b[0m\u001b[1;33m]\u001b[0m\u001b[1;33m)\u001b[0m\u001b[1;33m\u001b[0m\u001b[0m\n\u001b[1;32m---> 12\u001b[1;33m     \u001b[0msns\u001b[0m\u001b[1;33m.\u001b[0m\u001b[0mkdeplot\u001b[0m\u001b[1;33m(\u001b[0m\u001b[0mdoc_lens\u001b[0m\u001b[1;33m,\u001b[0m \u001b[0mcolor\u001b[0m\u001b[1;33m=\u001b[0m\u001b[1;34m\"black\"\u001b[0m\u001b[1;33m,\u001b[0m \u001b[0mshade\u001b[0m\u001b[1;33m=\u001b[0m\u001b[1;32mFalse\u001b[0m\u001b[1;33m,\u001b[0m \u001b[0max\u001b[0m\u001b[1;33m=\u001b[0m\u001b[0max\u001b[0m\u001b[1;33m.\u001b[0m\u001b[0mtwinx\u001b[0m\u001b[1;33m(\u001b[0m\u001b[1;33m)\u001b[0m\u001b[1;33m)\u001b[0m\u001b[1;33m\u001b[0m\u001b[0m\n\u001b[0m\u001b[0;32m     13\u001b[0m     \u001b[0max\u001b[0m\u001b[1;33m.\u001b[0m\u001b[0mset\u001b[0m\u001b[1;33m(\u001b[0m\u001b[0mxlim\u001b[0m\u001b[1;33m=\u001b[0m\u001b[1;33m(\u001b[0m\u001b[1;36m0\u001b[0m\u001b[1;33m,\u001b[0m \u001b[1;36m1000\u001b[0m\u001b[1;33m)\u001b[0m\u001b[1;33m,\u001b[0m \u001b[0mxlabel\u001b[0m\u001b[1;33m=\u001b[0m\u001b[1;34m'Document Word Count'\u001b[0m\u001b[1;33m)\u001b[0m\u001b[1;33m\u001b[0m\u001b[0m\n\u001b[0;32m     14\u001b[0m     \u001b[0max\u001b[0m\u001b[1;33m.\u001b[0m\u001b[0mset_ylabel\u001b[0m\u001b[1;33m(\u001b[0m\u001b[1;34m'Number of Documents'\u001b[0m\u001b[1;33m,\u001b[0m \u001b[0mcolor\u001b[0m\u001b[1;33m=\u001b[0m\u001b[0mcols\u001b[0m\u001b[1;33m[\u001b[0m\u001b[0mi\u001b[0m\u001b[1;33m]\u001b[0m\u001b[1;33m)\u001b[0m\u001b[1;33m\u001b[0m\u001b[0m\n",
      "\u001b[1;32mC:\\Program Files\\Anaconda3\\lib\\site-packages\\seaborn\\distributions.py\u001b[0m in \u001b[0;36mkdeplot\u001b[1;34m(data, data2, shade, vertical, kernel, bw, gridsize, cut, clip, legend, cumulative, shade_lowest, cbar, cbar_ax, cbar_kws, ax, **kwargs)\u001b[0m\n\u001b[0;32m    640\u001b[0m         ax = _univariate_kdeplot(data, shade, vertical, kernel, bw,\n\u001b[0;32m    641\u001b[0m                                  \u001b[0mgridsize\u001b[0m\u001b[1;33m,\u001b[0m \u001b[0mcut\u001b[0m\u001b[1;33m,\u001b[0m \u001b[0mclip\u001b[0m\u001b[1;33m,\u001b[0m \u001b[0mlegend\u001b[0m\u001b[1;33m,\u001b[0m \u001b[0max\u001b[0m\u001b[1;33m,\u001b[0m\u001b[1;33m\u001b[0m\u001b[0m\n\u001b[1;32m--> 642\u001b[1;33m                                  cumulative=cumulative, **kwargs)\n\u001b[0m\u001b[0;32m    643\u001b[0m \u001b[1;33m\u001b[0m\u001b[0m\n\u001b[0;32m    644\u001b[0m     \u001b[1;32mreturn\u001b[0m \u001b[0max\u001b[0m\u001b[1;33m\u001b[0m\u001b[0m\n",
      "\u001b[1;32mC:\\Program Files\\Anaconda3\\lib\\site-packages\\seaborn\\distributions.py\u001b[0m in \u001b[0;36m_univariate_kdeplot\u001b[1;34m(data, shade, vertical, kernel, bw, gridsize, cut, clip, legend, ax, cumulative, **kwargs)\u001b[0m\n\u001b[0;32m    267\u001b[0m         x, y = _statsmodels_univariate_kde(data, kernel, bw,\n\u001b[0;32m    268\u001b[0m                                            \u001b[0mgridsize\u001b[0m\u001b[1;33m,\u001b[0m \u001b[0mcut\u001b[0m\u001b[1;33m,\u001b[0m \u001b[0mclip\u001b[0m\u001b[1;33m,\u001b[0m\u001b[1;33m\u001b[0m\u001b[0m\n\u001b[1;32m--> 269\u001b[1;33m                                            cumulative=cumulative)\n\u001b[0m\u001b[0;32m    270\u001b[0m     \u001b[1;32melse\u001b[0m\u001b[1;33m:\u001b[0m\u001b[1;33m\u001b[0m\u001b[0m\n\u001b[0;32m    271\u001b[0m         \u001b[1;31m# Fall back to scipy if missing statsmodels\u001b[0m\u001b[1;33m\u001b[0m\u001b[1;33m\u001b[0m\u001b[0m\n",
      "\u001b[1;32mC:\\Program Files\\Anaconda3\\lib\\site-packages\\seaborn\\distributions.py\u001b[0m in \u001b[0;36m_statsmodels_univariate_kde\u001b[1;34m(data, kernel, bw, gridsize, cut, clip, cumulative)\u001b[0m\n\u001b[0;32m    331\u001b[0m     \u001b[0mfft\u001b[0m \u001b[1;33m=\u001b[0m \u001b[0mkernel\u001b[0m \u001b[1;33m==\u001b[0m \u001b[1;34m\"gau\"\u001b[0m\u001b[1;33m\u001b[0m\u001b[0m\n\u001b[0;32m    332\u001b[0m     \u001b[0mkde\u001b[0m \u001b[1;33m=\u001b[0m \u001b[0msmnp\u001b[0m\u001b[1;33m.\u001b[0m\u001b[0mKDEUnivariate\u001b[0m\u001b[1;33m(\u001b[0m\u001b[0mdata\u001b[0m\u001b[1;33m)\u001b[0m\u001b[1;33m\u001b[0m\u001b[0m\n\u001b[1;32m--> 333\u001b[1;33m     \u001b[0mkde\u001b[0m\u001b[1;33m.\u001b[0m\u001b[0mfit\u001b[0m\u001b[1;33m(\u001b[0m\u001b[0mkernel\u001b[0m\u001b[1;33m,\u001b[0m \u001b[0mbw\u001b[0m\u001b[1;33m,\u001b[0m \u001b[0mfft\u001b[0m\u001b[1;33m,\u001b[0m \u001b[0mgridsize\u001b[0m\u001b[1;33m=\u001b[0m\u001b[0mgridsize\u001b[0m\u001b[1;33m,\u001b[0m \u001b[0mcut\u001b[0m\u001b[1;33m=\u001b[0m\u001b[0mcut\u001b[0m\u001b[1;33m,\u001b[0m \u001b[0mclip\u001b[0m\u001b[1;33m=\u001b[0m\u001b[0mclip\u001b[0m\u001b[1;33m)\u001b[0m\u001b[1;33m\u001b[0m\u001b[0m\n\u001b[0m\u001b[0;32m    334\u001b[0m     \u001b[1;32mif\u001b[0m \u001b[0mcumulative\u001b[0m\u001b[1;33m:\u001b[0m\u001b[1;33m\u001b[0m\u001b[0m\n\u001b[0;32m    335\u001b[0m         \u001b[0mgrid\u001b[0m\u001b[1;33m,\u001b[0m \u001b[0my\u001b[0m \u001b[1;33m=\u001b[0m \u001b[0mkde\u001b[0m\u001b[1;33m.\u001b[0m\u001b[0msupport\u001b[0m\u001b[1;33m,\u001b[0m \u001b[0mkde\u001b[0m\u001b[1;33m.\u001b[0m\u001b[0mcdf\u001b[0m\u001b[1;33m\u001b[0m\u001b[0m\n",
      "\u001b[1;32mC:\\Program Files\\Anaconda3\\lib\\site-packages\\statsmodels\\nonparametric\\kde.py\u001b[0m in \u001b[0;36mfit\u001b[1;34m(self, kernel, bw, fft, weights, gridsize, adjust, cut, clip)\u001b[0m\n\u001b[0;32m    144\u001b[0m             density, grid, bw = kdensityfft(endog, kernel=kernel, bw=bw,\n\u001b[0;32m    145\u001b[0m                     \u001b[0madjust\u001b[0m\u001b[1;33m=\u001b[0m\u001b[0madjust\u001b[0m\u001b[1;33m,\u001b[0m \u001b[0mweights\u001b[0m\u001b[1;33m=\u001b[0m\u001b[0mweights\u001b[0m\u001b[1;33m,\u001b[0m \u001b[0mgridsize\u001b[0m\u001b[1;33m=\u001b[0m\u001b[0mgridsize\u001b[0m\u001b[1;33m,\u001b[0m\u001b[1;33m\u001b[0m\u001b[0m\n\u001b[1;32m--> 146\u001b[1;33m                     clip=clip, cut=cut)\n\u001b[0m\u001b[0;32m    147\u001b[0m         \u001b[1;32melse\u001b[0m\u001b[1;33m:\u001b[0m\u001b[1;33m\u001b[0m\u001b[0m\n\u001b[0;32m    148\u001b[0m             density, grid, bw = kdensity(endog, kernel=kernel, bw=bw,\n",
      "\u001b[1;32mC:\\Program Files\\Anaconda3\\lib\\site-packages\\statsmodels\\nonparametric\\kde.py\u001b[0m in \u001b[0;36mkdensityfft\u001b[1;34m(X, kernel, bw, weights, gridsize, adjust, clip, cut, retgrid)\u001b[0m\n\u001b[0;32m    461\u001b[0m         \u001b[0mbw\u001b[0m \u001b[1;33m=\u001b[0m \u001b[0mfloat\u001b[0m\u001b[1;33m(\u001b[0m\u001b[0mbw\u001b[0m\u001b[1;33m)\u001b[0m\u001b[1;33m\u001b[0m\u001b[0m\n\u001b[0;32m    462\u001b[0m     \u001b[1;32mexcept\u001b[0m\u001b[1;33m:\u001b[0m\u001b[1;33m\u001b[0m\u001b[0m\n\u001b[1;32m--> 463\u001b[1;33m         \u001b[0mbw\u001b[0m \u001b[1;33m=\u001b[0m \u001b[0mbandwidths\u001b[0m\u001b[1;33m.\u001b[0m\u001b[0mselect_bandwidth\u001b[0m\u001b[1;33m(\u001b[0m\u001b[0mX\u001b[0m\u001b[1;33m,\u001b[0m \u001b[0mbw\u001b[0m\u001b[1;33m,\u001b[0m \u001b[0mkern\u001b[0m\u001b[1;33m)\u001b[0m \u001b[1;31m# will cross-val fit this pattern?\u001b[0m\u001b[1;33m\u001b[0m\u001b[0m\n\u001b[0m\u001b[0;32m    464\u001b[0m     \u001b[0mbw\u001b[0m \u001b[1;33m*=\u001b[0m \u001b[0madjust\u001b[0m\u001b[1;33m\u001b[0m\u001b[0m\n\u001b[0;32m    465\u001b[0m \u001b[1;33m\u001b[0m\u001b[0m\n",
      "\u001b[1;32mC:\\Program Files\\Anaconda3\\lib\\site-packages\\statsmodels\\nonparametric\\bandwidths.py\u001b[0m in \u001b[0;36mselect_bandwidth\u001b[1;34m(x, bw, kernel)\u001b[0m\n\u001b[0;32m    172\u001b[0m \u001b[1;31m#TODO: uncomment checks when we have non-rule of thumb bandwidths for diff. kernels\u001b[0m\u001b[1;33m\u001b[0m\u001b[1;33m\u001b[0m\u001b[0m\n\u001b[0;32m    173\u001b[0m \u001b[1;31m#    if kernel == \"gauss\":\u001b[0m\u001b[1;33m\u001b[0m\u001b[1;33m\u001b[0m\u001b[0m\n\u001b[1;32m--> 174\u001b[1;33m     \u001b[1;32mreturn\u001b[0m \u001b[0mbandwidth_funcs\u001b[0m\u001b[1;33m[\u001b[0m\u001b[0mbw\u001b[0m\u001b[1;33m]\u001b[0m\u001b[1;33m(\u001b[0m\u001b[0mx\u001b[0m\u001b[1;33m,\u001b[0m \u001b[0mkernel\u001b[0m\u001b[1;33m)\u001b[0m\u001b[1;33m\u001b[0m\u001b[0m\n\u001b[0m\u001b[0;32m    175\u001b[0m \u001b[1;31m#    else:\u001b[0m\u001b[1;33m\u001b[0m\u001b[1;33m\u001b[0m\u001b[0m\n\u001b[0;32m    176\u001b[0m \u001b[1;31m#        raise ValueError(\"Only Gaussian Kernels are currently supported\")\u001b[0m\u001b[1;33m\u001b[0m\u001b[1;33m\u001b[0m\u001b[0m\n",
      "\u001b[1;32mC:\\Program Files\\Anaconda3\\lib\\site-packages\\statsmodels\\nonparametric\\bandwidths.py\u001b[0m in \u001b[0;36mbw_scott\u001b[1;34m(x, kernel)\u001b[0m\n\u001b[0;32m     55\u001b[0m     \u001b[0mA\u001b[0m \u001b[1;33m=\u001b[0m \u001b[0m_select_sigma\u001b[0m\u001b[1;33m(\u001b[0m\u001b[0mx\u001b[0m\u001b[1;33m)\u001b[0m\u001b[1;33m\u001b[0m\u001b[0m\n\u001b[0;32m     56\u001b[0m     \u001b[0mn\u001b[0m \u001b[1;33m=\u001b[0m \u001b[0mlen\u001b[0m\u001b[1;33m(\u001b[0m\u001b[0mx\u001b[0m\u001b[1;33m)\u001b[0m\u001b[1;33m\u001b[0m\u001b[0m\n\u001b[1;32m---> 57\u001b[1;33m     \u001b[1;32mreturn\u001b[0m \u001b[1;36m1.059\u001b[0m \u001b[1;33m*\u001b[0m \u001b[0mA\u001b[0m \u001b[1;33m*\u001b[0m \u001b[0mn\u001b[0m \u001b[1;33m**\u001b[0m \u001b[1;33m(\u001b[0m\u001b[1;33m-\u001b[0m\u001b[1;36m0.2\u001b[0m\u001b[1;33m)\u001b[0m\u001b[1;33m\u001b[0m\u001b[0m\n\u001b[0m\u001b[0;32m     58\u001b[0m \u001b[1;33m\u001b[0m\u001b[0m\n\u001b[0;32m     59\u001b[0m \u001b[1;32mdef\u001b[0m \u001b[0mbw_silverman\u001b[0m\u001b[1;33m(\u001b[0m\u001b[0mx\u001b[0m\u001b[1;33m,\u001b[0m \u001b[0mkernel\u001b[0m\u001b[1;33m=\u001b[0m\u001b[1;32mNone\u001b[0m\u001b[1;33m)\u001b[0m\u001b[1;33m:\u001b[0m\u001b[1;33m\u001b[0m\u001b[0m\n",
      "\u001b[1;31mZeroDivisionError\u001b[0m: 0.0 cannot be raised to a negative power"
     ]
    },
    {
     "data": {
      "image/png": "[encoded data removed]",
      "text/plain": [
       "<matplotlib.figure.Figure at 0x214cf5dfc50>"
      ]
     },
     "metadata": {
      "needs_background": "light"
     },
     "output_type": "display_data"
    }
   ],
   "source": [
    "import seaborn as sns\n",
    "import matplotlib.colors as mcolors\n",
    "cols = [color for name, color in mcolors.TABLEAU_COLORS.items()]  # more colors: 'mcolors.XKCD_COLORS'\n",
    "\n",
    "fig, axes = plt.subplots(2,2,figsize=(16,14), dpi=160, sharex=True, sharey=True)\n",
    "\n",
    "for i, ax in enumerate(axes.flatten()):    \n",
    "    df_dominant_topic_sub = df_dominant_topic.loc[df_dominant_topic.Dominant_Topic == i, :]\n",
    "    doc_lens = [len(d) for d in df_dominant_topic_sub.Text]\n",
    "    ax.hist(doc_lens, bins = 1000, color=cols[i])\n",
    "    ax.tick_params(axis='y', labelcolor=cols[i], color=cols[i])\n",
    "    sns.kdeplot(doc_lens, color=\"black\", shade=False, ax=ax.twinx())\n",
    "    ax.set(xlim=(0, 1000), xlabel='Document Word Count')\n",
    "    ax.set_ylabel('Number of Documents', color=cols[i])\n",
    "    ax.set_title('Topic: '+str(i), fontdict=dict(size=16, color=cols[i]))\n",
    "\n",
    "fig.tight_layout()\n",
    "fig.subplots_adjust(top=0.90)\n",
    "plt.xticks(np.linspace(0,1000,9))\n",
    "fig.suptitle('Distribution of Document Word Counts by Dominant Topic', fontsize=22)\n",
    "plt.show()"
   ]
  },
  {
   "cell_type": "code",
   "execution_count": null,
   "metadata": {},
   "outputs": [],
   "source": []
  },
  {
   "cell_type": "code",
   "execution_count": null,
   "metadata": {},
   "outputs": [],
   "source": []
  },
  {
   "cell_type": "code",
   "execution_count": null,
   "metadata": {},
   "outputs": [],
   "source": []
  },
  {
   "cell_type": "code",
   "execution_count": null,
   "metadata": {},
   "outputs": [],
   "source": []
  },
  {
   "cell_type": "code",
   "execution_count": null,
   "metadata": {},
   "outputs": [],
   "source": []
  },
  {
   "cell_type": "code",
   "execution_count": null,
   "metadata": {},
   "outputs": [],
   "source": []
  },
  {
   "cell_type": "code",
   "execution_count": null,
   "metadata": {},
   "outputs": [],
   "source": []
  },
  {
   "cell_type": "code",
   "execution_count": null,
   "metadata": {},
   "outputs": [],
   "source": []
  },
  {
   "cell_type": "code",
   "execution_count": null,
   "metadata": {},
   "outputs": [],
   "source": []
  },
  {
   "cell_type": "code",
   "execution_count": null,
   "metadata": {},
   "outputs": [],
   "source": []
  },
  {
   "cell_type": "code",
   "execution_count": null,
   "metadata": {},
   "outputs": [],
   "source": []
  },
  {
   "cell_type": "code",
   "execution_count": null,
   "metadata": {},
   "outputs": [],
   "source": []
  },
  {
   "cell_type": "code",
   "execution_count": null,
   "metadata": {},
   "outputs": [],
   "source": []
  },
  {
   "cell_type": "code",
   "execution_count": null,
   "metadata": {},
   "outputs": [],
   "source": []
  },
  {
   "cell_type": "code",
   "execution_count": null,
   "metadata": {},
   "outputs": [],
   "source": []
  },
  {
   "cell_type": "code",
   "execution_count": null,
   "metadata": {},
   "outputs": [],
   "source": []
  },
  {
   "cell_type": "code",
   "execution_count": null,
   "metadata": {},
   "outputs": [],
   "source": []
  },
  {
   "cell_type": "code",
   "execution_count": null,
   "metadata": {},
   "outputs": [],
   "source": []
  },
  {
   "cell_type": "code",
   "execution_count": null,
   "metadata": {},
   "outputs": [],
   "source": []
  },
  {
   "cell_type": "code",
   "execution_count": null,
   "metadata": {},
   "outputs": [],
   "source": []
  },
  {
   "cell_type": "code",
   "execution_count": null,
   "metadata": {},
   "outputs": [],
   "source": []
  },
  {
   "cell_type": "code",
   "execution_count": null,
   "metadata": {},
   "outputs": [],
   "source": []
  },
  {
   "cell_type": "code",
   "execution_count": null,
   "metadata": {},
   "outputs": [],
   "source": []
  },
  {
   "cell_type": "code",
   "execution_count": null,
   "metadata": {},
   "outputs": [],
   "source": []
  },
  {
   "cell_type": "markdown",
   "metadata": {},
   "source": [
    "### 4.4)-Building LDA Mallet Model"
   ]
  },
  {
   "cell_type": "code",
   "execution_count": 36,
   "metadata": {},
   "outputs": [
    {
     "ename": "CalledProcessError",
     "evalue": "Command 'C:\\users\\biney\\mallet_unzipped\\mallet-2.0.8\\bin\\mallet import-file --preserve-case --keep-sequence --remove-stopwords --token-regex \"\\S+\" --input C:\\Users\\69785hsh\\AppData\\Local\\Temp\\1\\531530_corpus.txt --output C:\\Users\\69785hsh\\AppData\\Local\\Temp\\1\\531530_corpus.mallet' returned non-zero exit status 1.",
     "output_type": "error",
     "traceback": [
      "\u001b[1;31m---------------------------------------------------------------------------\u001b[0m",
      "\u001b[1;31mCalledProcessError\u001b[0m                        Traceback (most recent call last)",
      "\u001b[1;32m<ipython-input-36-1f82187fb328>\u001b[0m in \u001b[0;36m<module>\u001b[1;34m\u001b[0m\n\u001b[0;32m      5\u001b[0m \u001b[1;33m\u001b[0m\u001b[0m\n\u001b[0;32m      6\u001b[0m \u001b[0mmallet_path\u001b[0m \u001b[1;33m=\u001b[0m \u001b[1;34m'C:\\\\users\\\\biney\\\\mallet_unzipped\\\\mallet-2.0.8\\\\bin\\\\mallet'\u001b[0m\u001b[1;33m\u001b[0m\u001b[0m\n\u001b[1;32m----> 7\u001b[1;33m \u001b[0mldamallet\u001b[0m \u001b[1;33m=\u001b[0m \u001b[0mLdaMallet\u001b[0m\u001b[1;33m(\u001b[0m\u001b[0mmallet_path\u001b[0m\u001b[1;33m,\u001b[0m\u001b[0mcorpus\u001b[0m\u001b[1;33m=\u001b[0m\u001b[0mcorpus\u001b[0m\u001b[1;33m,\u001b[0m \u001b[0mnum_topics\u001b[0m\u001b[1;33m=\u001b[0m\u001b[1;36m20\u001b[0m\u001b[1;33m,\u001b[0m \u001b[0mid2word\u001b[0m\u001b[1;33m=\u001b[0m\u001b[0mid2word\u001b[0m\u001b[1;33m,\u001b[0m\u001b[0miterations\u001b[0m\u001b[1;33m=\u001b[0m\u001b[1;36m30\u001b[0m\u001b[1;33m)\u001b[0m\u001b[1;33m\u001b[0m\u001b[0m\n\u001b[0m",
      "\u001b[1;32mC:\\Program Files\\Anaconda3\\lib\\site-packages\\gensim\\models\\wrappers\\ldamallet.py\u001b[0m in \u001b[0;36m__init__\u001b[1;34m(self, mallet_path, corpus, num_topics, alpha, id2word, workers, prefix, optimize_interval, iterations, topic_threshold, random_seed)\u001b[0m\n\u001b[0;32m    130\u001b[0m         \u001b[0mself\u001b[0m\u001b[1;33m.\u001b[0m\u001b[0mrandom_seed\u001b[0m \u001b[1;33m=\u001b[0m \u001b[0mrandom_seed\u001b[0m\u001b[1;33m\u001b[0m\u001b[0m\n\u001b[0;32m    131\u001b[0m         \u001b[1;32mif\u001b[0m \u001b[0mcorpus\u001b[0m \u001b[1;32mis\u001b[0m \u001b[1;32mnot\u001b[0m \u001b[1;32mNone\u001b[0m\u001b[1;33m:\u001b[0m\u001b[1;33m\u001b[0m\u001b[0m\n\u001b[1;32m--> 132\u001b[1;33m             \u001b[0mself\u001b[0m\u001b[1;33m.\u001b[0m\u001b[0mtrain\u001b[0m\u001b[1;33m(\u001b[0m\u001b[0mcorpus\u001b[0m\u001b[1;33m)\u001b[0m\u001b[1;33m\u001b[0m\u001b[0m\n\u001b[0m\u001b[0;32m    133\u001b[0m \u001b[1;33m\u001b[0m\u001b[0m\n\u001b[0;32m    134\u001b[0m     \u001b[1;32mdef\u001b[0m \u001b[0mfinferencer\u001b[0m\u001b[1;33m(\u001b[0m\u001b[0mself\u001b[0m\u001b[1;33m)\u001b[0m\u001b[1;33m:\u001b[0m\u001b[1;33m\u001b[0m\u001b[0m\n",
      "\u001b[1;32mC:\\Program Files\\Anaconda3\\lib\\site-packages\\gensim\\models\\wrappers\\ldamallet.py\u001b[0m in \u001b[0;36mtrain\u001b[1;34m(self, corpus)\u001b[0m\n\u001b[0;32m    271\u001b[0m \u001b[1;33m\u001b[0m\u001b[0m\n\u001b[0;32m    272\u001b[0m         \"\"\"\n\u001b[1;32m--> 273\u001b[1;33m         \u001b[0mself\u001b[0m\u001b[1;33m.\u001b[0m\u001b[0mconvert_input\u001b[0m\u001b[1;33m(\u001b[0m\u001b[0mcorpus\u001b[0m\u001b[1;33m,\u001b[0m \u001b[0minfer\u001b[0m\u001b[1;33m=\u001b[0m\u001b[1;32mFalse\u001b[0m\u001b[1;33m)\u001b[0m\u001b[1;33m\u001b[0m\u001b[0m\n\u001b[0m\u001b[0;32m    274\u001b[0m         \u001b[0mcmd\u001b[0m \u001b[1;33m=\u001b[0m \u001b[0mself\u001b[0m\u001b[1;33m.\u001b[0m\u001b[0mmallet_path\u001b[0m \u001b[1;33m+\u001b[0m \u001b[1;34m' train-topics --input %s --num-topics %s  --alpha %s --optimize-interval %s '\u001b[0m\u001b[0;31m\\\u001b[0m\u001b[1;33m\u001b[0m\u001b[0m\n\u001b[0;32m    275\u001b[0m             \u001b[1;34m'--num-threads %s --output-state %s --output-doc-topics %s --output-topic-keys %s '\u001b[0m\u001b[0;31m\\\u001b[0m\u001b[1;33m\u001b[0m\u001b[0m\n",
      "\u001b[1;32mC:\\Program Files\\Anaconda3\\lib\\site-packages\\gensim\\models\\wrappers\\ldamallet.py\u001b[0m in \u001b[0;36mconvert_input\u001b[1;34m(self, corpus, infer, serialize_corpus)\u001b[0m\n\u001b[0;32m    260\u001b[0m             \u001b[0mcmd\u001b[0m \u001b[1;33m=\u001b[0m \u001b[0mcmd\u001b[0m \u001b[1;33m%\u001b[0m \u001b[1;33m(\u001b[0m\u001b[0mself\u001b[0m\u001b[1;33m.\u001b[0m\u001b[0mfcorpustxt\u001b[0m\u001b[1;33m(\u001b[0m\u001b[1;33m)\u001b[0m\u001b[1;33m,\u001b[0m \u001b[0mself\u001b[0m\u001b[1;33m.\u001b[0m\u001b[0mfcorpusmallet\u001b[0m\u001b[1;33m(\u001b[0m\u001b[1;33m)\u001b[0m\u001b[1;33m)\u001b[0m\u001b[1;33m\u001b[0m\u001b[0m\n\u001b[0;32m    261\u001b[0m         \u001b[0mlogger\u001b[0m\u001b[1;33m.\u001b[0m\u001b[0minfo\u001b[0m\u001b[1;33m(\u001b[0m\u001b[1;34m\"converting temporary corpus to MALLET format with %s\"\u001b[0m\u001b[1;33m,\u001b[0m \u001b[0mcmd\u001b[0m\u001b[1;33m)\u001b[0m\u001b[1;33m\u001b[0m\u001b[0m\n\u001b[1;32m--> 262\u001b[1;33m         \u001b[0mcheck_output\u001b[0m\u001b[1;33m(\u001b[0m\u001b[0margs\u001b[0m\u001b[1;33m=\u001b[0m\u001b[0mcmd\u001b[0m\u001b[1;33m,\u001b[0m \u001b[0mshell\u001b[0m\u001b[1;33m=\u001b[0m\u001b[1;32mTrue\u001b[0m\u001b[1;33m)\u001b[0m\u001b[1;33m\u001b[0m\u001b[0m\n\u001b[0m\u001b[0;32m    263\u001b[0m \u001b[1;33m\u001b[0m\u001b[0m\n\u001b[0;32m    264\u001b[0m     \u001b[1;32mdef\u001b[0m \u001b[0mtrain\u001b[0m\u001b[1;33m(\u001b[0m\u001b[0mself\u001b[0m\u001b[1;33m,\u001b[0m \u001b[0mcorpus\u001b[0m\u001b[1;33m)\u001b[0m\u001b[1;33m:\u001b[0m\u001b[1;33m\u001b[0m\u001b[0m\n",
      "\u001b[1;32mC:\\Program Files\\Anaconda3\\lib\\site-packages\\gensim\\utils.py\u001b[0m in \u001b[0;36mcheck_output\u001b[1;34m(stdout, *popenargs, **kwargs)\u001b[0m\n\u001b[0;32m   1916\u001b[0m             \u001b[0merror\u001b[0m \u001b[1;33m=\u001b[0m \u001b[0msubprocess\u001b[0m\u001b[1;33m.\u001b[0m\u001b[0mCalledProcessError\u001b[0m\u001b[1;33m(\u001b[0m\u001b[0mretcode\u001b[0m\u001b[1;33m,\u001b[0m \u001b[0mcmd\u001b[0m\u001b[1;33m)\u001b[0m\u001b[1;33m\u001b[0m\u001b[0m\n\u001b[0;32m   1917\u001b[0m             \u001b[0merror\u001b[0m\u001b[1;33m.\u001b[0m\u001b[0moutput\u001b[0m \u001b[1;33m=\u001b[0m \u001b[0moutput\u001b[0m\u001b[1;33m\u001b[0m\u001b[0m\n\u001b[1;32m-> 1918\u001b[1;33m             \u001b[1;32mraise\u001b[0m \u001b[0merror\u001b[0m\u001b[1;33m\u001b[0m\u001b[0m\n\u001b[0m\u001b[0;32m   1919\u001b[0m         \u001b[1;32mreturn\u001b[0m \u001b[0moutput\u001b[0m\u001b[1;33m\u001b[0m\u001b[0m\n\u001b[0;32m   1920\u001b[0m     \u001b[1;32mexcept\u001b[0m \u001b[0mKeyboardInterrupt\u001b[0m\u001b[1;33m:\u001b[0m\u001b[1;33m\u001b[0m\u001b[0m\n",
      "\u001b[1;31mCalledProcessError\u001b[0m: Command 'C:\\users\\biney\\mallet_unzipped\\mallet-2.0.8\\bin\\mallet import-file --preserve-case --keep-sequence --remove-stopwords --token-regex \"\\S+\" --input C:\\Users\\69785hsh\\AppData\\Local\\Temp\\1\\531530_corpus.txt --output C:\\Users\\69785hsh\\AppData\\Local\\Temp\\1\\531530_corpus.mallet' returned non-zero exit status 1."
     ]
    }
   ],
   "source": [
    "import os\n",
    "from gensim.models.wrappers import LdaMallet\n",
    "\n",
    "os.environ['MALLET_HOME'] = 'C:\\\\users\\\\biney\\\\mallet_unzipped\\\\mallet-2.0.8'\n",
    "\n",
    "mallet_path = 'C:\\\\users\\\\biney\\\\mallet_unzipped\\\\mallet-2.0.8\\\\bin\\\\mallet'\n",
    "ldamallet = LdaMallet(mallet_path,corpus=corpus, num_topics=20, id2word=id2word,iterations=30)"
   ]
  },
  {
   "cell_type": "code",
   "execution_count": 37,
   "metadata": {},
   "outputs": [
    {
     "ename": "CalledProcessError",
     "evalue": "Command 'C:\\Users\\69785hsh\\Downloads\\Data Science\\Learning Projects\\Topic_Modeling\\20_news\\mallet-2.0.8\\\\bin\\mallet import-file --preserve-case --keep-sequence --remove-stopwords --token-regex \"\\S+\" --input C:\\Users\\69785hsh\\AppData\\Local\\Temp\\1\\fe1cad_corpus.txt --output C:\\Users\\69785hsh\\AppData\\Local\\Temp\\1\\fe1cad_corpus.mallet' returned non-zero exit status 1.",
     "output_type": "error",
     "traceback": [
      "\u001b[1;31m---------------------------------------------------------------------------\u001b[0m",
      "\u001b[1;31mCalledProcessError\u001b[0m                        Traceback (most recent call last)",
      "\u001b[1;32m<ipython-input-37-34e1259016d4>\u001b[0m in \u001b[0;36m<module>\u001b[1;34m\u001b[0m\n\u001b[0;32m      5\u001b[0m \u001b[1;33m\u001b[0m\u001b[0m\n\u001b[0;32m      6\u001b[0m \u001b[0mmallet_path\u001b[0m \u001b[1;33m=\u001b[0m \u001b[1;34m'C:\\\\Users\\\\69785hsh\\\\Downloads\\\\Data Science\\\\Learning Projects\\\\Topic_Modeling\\\\20_news\\\\mallet-2.0.8\\\\\\\\bin\\\\mallet'\u001b[0m\u001b[1;33m\u001b[0m\u001b[0m\n\u001b[1;32m----> 7\u001b[1;33m \u001b[0mldamallet\u001b[0m \u001b[1;33m=\u001b[0m \u001b[0mgensim\u001b[0m\u001b[1;33m.\u001b[0m\u001b[0mmodels\u001b[0m\u001b[1;33m.\u001b[0m\u001b[0mwrappers\u001b[0m\u001b[1;33m.\u001b[0m\u001b[0mLdaMallet\u001b[0m\u001b[1;33m(\u001b[0m\u001b[0mmallet_path\u001b[0m\u001b[1;33m,\u001b[0m \u001b[0mcorpus\u001b[0m\u001b[1;33m=\u001b[0m\u001b[0mcorpus\u001b[0m\u001b[1;33m,\u001b[0m \u001b[0mnum_topics\u001b[0m\u001b[1;33m=\u001b[0m\u001b[1;36m20\u001b[0m\u001b[1;33m,\u001b[0m \u001b[0mid2word\u001b[0m\u001b[1;33m=\u001b[0m\u001b[0mid2word\u001b[0m\u001b[1;33m)\u001b[0m\u001b[1;33m\u001b[0m\u001b[0m\n\u001b[0m",
      "\u001b[1;32mC:\\Program Files\\Anaconda3\\lib\\site-packages\\gensim\\models\\wrappers\\ldamallet.py\u001b[0m in \u001b[0;36m__init__\u001b[1;34m(self, mallet_path, corpus, num_topics, alpha, id2word, workers, prefix, optimize_interval, iterations, topic_threshold, random_seed)\u001b[0m\n\u001b[0;32m    130\u001b[0m         \u001b[0mself\u001b[0m\u001b[1;33m.\u001b[0m\u001b[0mrandom_seed\u001b[0m \u001b[1;33m=\u001b[0m \u001b[0mrandom_seed\u001b[0m\u001b[1;33m\u001b[0m\u001b[0m\n\u001b[0;32m    131\u001b[0m         \u001b[1;32mif\u001b[0m \u001b[0mcorpus\u001b[0m \u001b[1;32mis\u001b[0m \u001b[1;32mnot\u001b[0m \u001b[1;32mNone\u001b[0m\u001b[1;33m:\u001b[0m\u001b[1;33m\u001b[0m\u001b[0m\n\u001b[1;32m--> 132\u001b[1;33m             \u001b[0mself\u001b[0m\u001b[1;33m.\u001b[0m\u001b[0mtrain\u001b[0m\u001b[1;33m(\u001b[0m\u001b[0mcorpus\u001b[0m\u001b[1;33m)\u001b[0m\u001b[1;33m\u001b[0m\u001b[0m\n\u001b[0m\u001b[0;32m    133\u001b[0m \u001b[1;33m\u001b[0m\u001b[0m\n\u001b[0;32m    134\u001b[0m     \u001b[1;32mdef\u001b[0m \u001b[0mfinferencer\u001b[0m\u001b[1;33m(\u001b[0m\u001b[0mself\u001b[0m\u001b[1;33m)\u001b[0m\u001b[1;33m:\u001b[0m\u001b[1;33m\u001b[0m\u001b[0m\n",
      "\u001b[1;32mC:\\Program Files\\Anaconda3\\lib\\site-packages\\gensim\\models\\wrappers\\ldamallet.py\u001b[0m in \u001b[0;36mtrain\u001b[1;34m(self, corpus)\u001b[0m\n\u001b[0;32m    271\u001b[0m \u001b[1;33m\u001b[0m\u001b[0m\n\u001b[0;32m    272\u001b[0m         \"\"\"\n\u001b[1;32m--> 273\u001b[1;33m         \u001b[0mself\u001b[0m\u001b[1;33m.\u001b[0m\u001b[0mconvert_input\u001b[0m\u001b[1;33m(\u001b[0m\u001b[0mcorpus\u001b[0m\u001b[1;33m,\u001b[0m \u001b[0minfer\u001b[0m\u001b[1;33m=\u001b[0m\u001b[1;32mFalse\u001b[0m\u001b[1;33m)\u001b[0m\u001b[1;33m\u001b[0m\u001b[0m\n\u001b[0m\u001b[0;32m    274\u001b[0m         \u001b[0mcmd\u001b[0m \u001b[1;33m=\u001b[0m \u001b[0mself\u001b[0m\u001b[1;33m.\u001b[0m\u001b[0mmallet_path\u001b[0m \u001b[1;33m+\u001b[0m \u001b[1;34m' train-topics --input %s --num-topics %s  --alpha %s --optimize-interval %s '\u001b[0m\u001b[0;31m\\\u001b[0m\u001b[1;33m\u001b[0m\u001b[0m\n\u001b[0;32m    275\u001b[0m             \u001b[1;34m'--num-threads %s --output-state %s --output-doc-topics %s --output-topic-keys %s '\u001b[0m\u001b[0;31m\\\u001b[0m\u001b[1;33m\u001b[0m\u001b[0m\n",
      "\u001b[1;32mC:\\Program Files\\Anaconda3\\lib\\site-packages\\gensim\\models\\wrappers\\ldamallet.py\u001b[0m in \u001b[0;36mconvert_input\u001b[1;34m(self, corpus, infer, serialize_corpus)\u001b[0m\n\u001b[0;32m    260\u001b[0m             \u001b[0mcmd\u001b[0m \u001b[1;33m=\u001b[0m \u001b[0mcmd\u001b[0m \u001b[1;33m%\u001b[0m \u001b[1;33m(\u001b[0m\u001b[0mself\u001b[0m\u001b[1;33m.\u001b[0m\u001b[0mfcorpustxt\u001b[0m\u001b[1;33m(\u001b[0m\u001b[1;33m)\u001b[0m\u001b[1;33m,\u001b[0m \u001b[0mself\u001b[0m\u001b[1;33m.\u001b[0m\u001b[0mfcorpusmallet\u001b[0m\u001b[1;33m(\u001b[0m\u001b[1;33m)\u001b[0m\u001b[1;33m)\u001b[0m\u001b[1;33m\u001b[0m\u001b[0m\n\u001b[0;32m    261\u001b[0m         \u001b[0mlogger\u001b[0m\u001b[1;33m.\u001b[0m\u001b[0minfo\u001b[0m\u001b[1;33m(\u001b[0m\u001b[1;34m\"converting temporary corpus to MALLET format with %s\"\u001b[0m\u001b[1;33m,\u001b[0m \u001b[0mcmd\u001b[0m\u001b[1;33m)\u001b[0m\u001b[1;33m\u001b[0m\u001b[0m\n\u001b[1;32m--> 262\u001b[1;33m         \u001b[0mcheck_output\u001b[0m\u001b[1;33m(\u001b[0m\u001b[0margs\u001b[0m\u001b[1;33m=\u001b[0m\u001b[0mcmd\u001b[0m\u001b[1;33m,\u001b[0m \u001b[0mshell\u001b[0m\u001b[1;33m=\u001b[0m\u001b[1;32mTrue\u001b[0m\u001b[1;33m)\u001b[0m\u001b[1;33m\u001b[0m\u001b[0m\n\u001b[0m\u001b[0;32m    263\u001b[0m \u001b[1;33m\u001b[0m\u001b[0m\n\u001b[0;32m    264\u001b[0m     \u001b[1;32mdef\u001b[0m \u001b[0mtrain\u001b[0m\u001b[1;33m(\u001b[0m\u001b[0mself\u001b[0m\u001b[1;33m,\u001b[0m \u001b[0mcorpus\u001b[0m\u001b[1;33m)\u001b[0m\u001b[1;33m:\u001b[0m\u001b[1;33m\u001b[0m\u001b[0m\n",
      "\u001b[1;32mC:\\Program Files\\Anaconda3\\lib\\site-packages\\gensim\\utils.py\u001b[0m in \u001b[0;36mcheck_output\u001b[1;34m(stdout, *popenargs, **kwargs)\u001b[0m\n\u001b[0;32m   1916\u001b[0m             \u001b[0merror\u001b[0m \u001b[1;33m=\u001b[0m \u001b[0msubprocess\u001b[0m\u001b[1;33m.\u001b[0m\u001b[0mCalledProcessError\u001b[0m\u001b[1;33m(\u001b[0m\u001b[0mretcode\u001b[0m\u001b[1;33m,\u001b[0m \u001b[0mcmd\u001b[0m\u001b[1;33m)\u001b[0m\u001b[1;33m\u001b[0m\u001b[0m\n\u001b[0;32m   1917\u001b[0m             \u001b[0merror\u001b[0m\u001b[1;33m.\u001b[0m\u001b[0moutput\u001b[0m \u001b[1;33m=\u001b[0m \u001b[0moutput\u001b[0m\u001b[1;33m\u001b[0m\u001b[0m\n\u001b[1;32m-> 1918\u001b[1;33m             \u001b[1;32mraise\u001b[0m \u001b[0merror\u001b[0m\u001b[1;33m\u001b[0m\u001b[0m\n\u001b[0m\u001b[0;32m   1919\u001b[0m         \u001b[1;32mreturn\u001b[0m \u001b[0moutput\u001b[0m\u001b[1;33m\u001b[0m\u001b[0m\n\u001b[0;32m   1920\u001b[0m     \u001b[1;32mexcept\u001b[0m \u001b[0mKeyboardInterrupt\u001b[0m\u001b[1;33m:\u001b[0m\u001b[1;33m\u001b[0m\u001b[0m\n",
      "\u001b[1;31mCalledProcessError\u001b[0m: Command 'C:\\Users\\69785hsh\\Downloads\\Data Science\\Learning Projects\\Topic_Modeling\\20_news\\mallet-2.0.8\\\\bin\\mallet import-file --preserve-case --keep-sequence --remove-stopwords --token-regex \"\\S+\" --input C:\\Users\\69785hsh\\AppData\\Local\\Temp\\1\\fe1cad_corpus.txt --output C:\\Users\\69785hsh\\AppData\\Local\\Temp\\1\\fe1cad_corpus.mallet' returned non-zero exit status 1."
     ]
    }
   ],
   "source": [
    "# download, unzip and provide the path to mallet in the unzipped directory to gensim.models.wrappers.LdaMallet\n",
    "import os\n",
    "from gensim.models.wrappers import LdaMallet\n",
    "os.environ['MALLET_HOME'] = 'C:\\\\Users\\\\69785hsh\\\\Downloads\\\\Data Science\\\\Learning Projects\\\\Topic_Modeling\\\\20_news\\\\mallet-2.0.8'\n",
    "\n",
    "mallet_path = 'C:\\\\Users\\\\69785hsh\\\\Downloads\\\\Data Science\\\\Learning Projects\\\\Topic_Modeling\\\\20_news\\\\mallet-2.0.8\\\\\\\\bin\\\\mallet'\n",
    "ldamallet = gensim.models.wrappers.LdaMallet(mallet_path, corpus=corpus, num_topics=20, id2word=id2word)"
   ]
  },
  {
   "cell_type": "code",
   "execution_count": 38,
   "metadata": {},
   "outputs": [
    {
     "name": "stderr",
     "output_type": "stream",
     "text": [
      "<>:1: DeprecationWarning: invalid escape sequence \\m\n",
      "<>:1: DeprecationWarning: invalid escape sequence \\m\n",
      "<>:1: DeprecationWarning: invalid escape sequence \\m\n",
      "<ipython-input-38-c0c8d39d7710>:1: DeprecationWarning: invalid escape sequence \\m\n",
      "  mallet_path = 'mallet-2.0.8\\bin\\mallet'\n"
     ]
    },
    {
     "ename": "CalledProcessError",
     "evalue": "Command 'mallet-2.0.8\bin\\mallet import-file --preserve-case --keep-sequence --remove-stopwords --token-regex \"\\S+\" --input C:\\Users\\69785hsh\\AppData\\Local\\Temp\\1\\a5895b_corpus.txt --output C:\\Users\\69785hsh\\AppData\\Local\\Temp\\1\\a5895b_corpus.mallet' returned non-zero exit status 1.",
     "output_type": "error",
     "traceback": [
      "\u001b[1;31m---------------------------------------------------------------------------\u001b[0m",
      "\u001b[1;31mCalledProcessError\u001b[0m                        Traceback (most recent call last)",
      "\u001b[1;32m<ipython-input-38-c0c8d39d7710>\u001b[0m in \u001b[0;36m<module>\u001b[1;34m\u001b[0m\n\u001b[0;32m      1\u001b[0m \u001b[0mmallet_path\u001b[0m \u001b[1;33m=\u001b[0m \u001b[1;34m'mallet-2.0.8\\bin\\mallet'\u001b[0m\u001b[1;33m\u001b[0m\u001b[0m\n\u001b[1;32m----> 2\u001b[1;33m \u001b[0mldamallet\u001b[0m \u001b[1;33m=\u001b[0m \u001b[0mgensim\u001b[0m\u001b[1;33m.\u001b[0m\u001b[0mmodels\u001b[0m\u001b[1;33m.\u001b[0m\u001b[0mwrappers\u001b[0m\u001b[1;33m.\u001b[0m\u001b[0mLdaMallet\u001b[0m\u001b[1;33m(\u001b[0m\u001b[0mmallet_path\u001b[0m\u001b[1;33m,\u001b[0m \u001b[0mcorpus\u001b[0m\u001b[1;33m=\u001b[0m\u001b[0mcorpus\u001b[0m\u001b[1;33m,\u001b[0m \u001b[0mnum_topics\u001b[0m\u001b[1;33m=\u001b[0m\u001b[1;36m20\u001b[0m\u001b[1;33m,\u001b[0m \u001b[0mid2word\u001b[0m\u001b[1;33m=\u001b[0m\u001b[0mid2word\u001b[0m\u001b[1;33m)\u001b[0m\u001b[1;33m\u001b[0m\u001b[0m\n\u001b[0m",
      "\u001b[1;32mC:\\Program Files\\Anaconda3\\lib\\site-packages\\gensim\\models\\wrappers\\ldamallet.py\u001b[0m in \u001b[0;36m__init__\u001b[1;34m(self, mallet_path, corpus, num_topics, alpha, id2word, workers, prefix, optimize_interval, iterations, topic_threshold, random_seed)\u001b[0m\n\u001b[0;32m    130\u001b[0m         \u001b[0mself\u001b[0m\u001b[1;33m.\u001b[0m\u001b[0mrandom_seed\u001b[0m \u001b[1;33m=\u001b[0m \u001b[0mrandom_seed\u001b[0m\u001b[1;33m\u001b[0m\u001b[0m\n\u001b[0;32m    131\u001b[0m         \u001b[1;32mif\u001b[0m \u001b[0mcorpus\u001b[0m \u001b[1;32mis\u001b[0m \u001b[1;32mnot\u001b[0m \u001b[1;32mNone\u001b[0m\u001b[1;33m:\u001b[0m\u001b[1;33m\u001b[0m\u001b[0m\n\u001b[1;32m--> 132\u001b[1;33m             \u001b[0mself\u001b[0m\u001b[1;33m.\u001b[0m\u001b[0mtrain\u001b[0m\u001b[1;33m(\u001b[0m\u001b[0mcorpus\u001b[0m\u001b[1;33m)\u001b[0m\u001b[1;33m\u001b[0m\u001b[0m\n\u001b[0m\u001b[0;32m    133\u001b[0m \u001b[1;33m\u001b[0m\u001b[0m\n\u001b[0;32m    134\u001b[0m     \u001b[1;32mdef\u001b[0m \u001b[0mfinferencer\u001b[0m\u001b[1;33m(\u001b[0m\u001b[0mself\u001b[0m\u001b[1;33m)\u001b[0m\u001b[1;33m:\u001b[0m\u001b[1;33m\u001b[0m\u001b[0m\n",
      "\u001b[1;32mC:\\Program Files\\Anaconda3\\lib\\site-packages\\gensim\\models\\wrappers\\ldamallet.py\u001b[0m in \u001b[0;36mtrain\u001b[1;34m(self, corpus)\u001b[0m\n\u001b[0;32m    271\u001b[0m \u001b[1;33m\u001b[0m\u001b[0m\n\u001b[0;32m    272\u001b[0m         \"\"\"\n\u001b[1;32m--> 273\u001b[1;33m         \u001b[0mself\u001b[0m\u001b[1;33m.\u001b[0m\u001b[0mconvert_input\u001b[0m\u001b[1;33m(\u001b[0m\u001b[0mcorpus\u001b[0m\u001b[1;33m,\u001b[0m \u001b[0minfer\u001b[0m\u001b[1;33m=\u001b[0m\u001b[1;32mFalse\u001b[0m\u001b[1;33m)\u001b[0m\u001b[1;33m\u001b[0m\u001b[0m\n\u001b[0m\u001b[0;32m    274\u001b[0m         \u001b[0mcmd\u001b[0m \u001b[1;33m=\u001b[0m \u001b[0mself\u001b[0m\u001b[1;33m.\u001b[0m\u001b[0mmallet_path\u001b[0m \u001b[1;33m+\u001b[0m \u001b[1;34m' train-topics --input %s --num-topics %s  --alpha %s --optimize-interval %s '\u001b[0m\u001b[0;31m\\\u001b[0m\u001b[1;33m\u001b[0m\u001b[0m\n\u001b[0;32m    275\u001b[0m             \u001b[1;34m'--num-threads %s --output-state %s --output-doc-topics %s --output-topic-keys %s '\u001b[0m\u001b[0;31m\\\u001b[0m\u001b[1;33m\u001b[0m\u001b[0m\n",
      "\u001b[1;32mC:\\Program Files\\Anaconda3\\lib\\site-packages\\gensim\\models\\wrappers\\ldamallet.py\u001b[0m in \u001b[0;36mconvert_input\u001b[1;34m(self, corpus, infer, serialize_corpus)\u001b[0m\n\u001b[0;32m    260\u001b[0m             \u001b[0mcmd\u001b[0m \u001b[1;33m=\u001b[0m \u001b[0mcmd\u001b[0m \u001b[1;33m%\u001b[0m \u001b[1;33m(\u001b[0m\u001b[0mself\u001b[0m\u001b[1;33m.\u001b[0m\u001b[0mfcorpustxt\u001b[0m\u001b[1;33m(\u001b[0m\u001b[1;33m)\u001b[0m\u001b[1;33m,\u001b[0m \u001b[0mself\u001b[0m\u001b[1;33m.\u001b[0m\u001b[0mfcorpusmallet\u001b[0m\u001b[1;33m(\u001b[0m\u001b[1;33m)\u001b[0m\u001b[1;33m)\u001b[0m\u001b[1;33m\u001b[0m\u001b[0m\n\u001b[0;32m    261\u001b[0m         \u001b[0mlogger\u001b[0m\u001b[1;33m.\u001b[0m\u001b[0minfo\u001b[0m\u001b[1;33m(\u001b[0m\u001b[1;34m\"converting temporary corpus to MALLET format with %s\"\u001b[0m\u001b[1;33m,\u001b[0m \u001b[0mcmd\u001b[0m\u001b[1;33m)\u001b[0m\u001b[1;33m\u001b[0m\u001b[0m\n\u001b[1;32m--> 262\u001b[1;33m         \u001b[0mcheck_output\u001b[0m\u001b[1;33m(\u001b[0m\u001b[0margs\u001b[0m\u001b[1;33m=\u001b[0m\u001b[0mcmd\u001b[0m\u001b[1;33m,\u001b[0m \u001b[0mshell\u001b[0m\u001b[1;33m=\u001b[0m\u001b[1;32mTrue\u001b[0m\u001b[1;33m)\u001b[0m\u001b[1;33m\u001b[0m\u001b[0m\n\u001b[0m\u001b[0;32m    263\u001b[0m \u001b[1;33m\u001b[0m\u001b[0m\n\u001b[0;32m    264\u001b[0m     \u001b[1;32mdef\u001b[0m \u001b[0mtrain\u001b[0m\u001b[1;33m(\u001b[0m\u001b[0mself\u001b[0m\u001b[1;33m,\u001b[0m \u001b[0mcorpus\u001b[0m\u001b[1;33m)\u001b[0m\u001b[1;33m:\u001b[0m\u001b[1;33m\u001b[0m\u001b[0m\n",
      "\u001b[1;32mC:\\Program Files\\Anaconda3\\lib\\site-packages\\gensim\\utils.py\u001b[0m in \u001b[0;36mcheck_output\u001b[1;34m(stdout, *popenargs, **kwargs)\u001b[0m\n\u001b[0;32m   1916\u001b[0m             \u001b[0merror\u001b[0m \u001b[1;33m=\u001b[0m \u001b[0msubprocess\u001b[0m\u001b[1;33m.\u001b[0m\u001b[0mCalledProcessError\u001b[0m\u001b[1;33m(\u001b[0m\u001b[0mretcode\u001b[0m\u001b[1;33m,\u001b[0m \u001b[0mcmd\u001b[0m\u001b[1;33m)\u001b[0m\u001b[1;33m\u001b[0m\u001b[0m\n\u001b[0;32m   1917\u001b[0m             \u001b[0merror\u001b[0m\u001b[1;33m.\u001b[0m\u001b[0moutput\u001b[0m \u001b[1;33m=\u001b[0m \u001b[0moutput\u001b[0m\u001b[1;33m\u001b[0m\u001b[0m\n\u001b[1;32m-> 1918\u001b[1;33m             \u001b[1;32mraise\u001b[0m \u001b[0merror\u001b[0m\u001b[1;33m\u001b[0m\u001b[0m\n\u001b[0m\u001b[0;32m   1919\u001b[0m         \u001b[1;32mreturn\u001b[0m \u001b[0moutput\u001b[0m\u001b[1;33m\u001b[0m\u001b[0m\n\u001b[0;32m   1920\u001b[0m     \u001b[1;32mexcept\u001b[0m \u001b[0mKeyboardInterrupt\u001b[0m\u001b[1;33m:\u001b[0m\u001b[1;33m\u001b[0m\u001b[0m\n",
      "\u001b[1;31mCalledProcessError\u001b[0m: Command 'mallet-2.0.8\bin\\mallet import-file --preserve-case --keep-sequence --remove-stopwords --token-regex \"\\S+\" --input C:\\Users\\69785hsh\\AppData\\Local\\Temp\\1\\a5895b_corpus.txt --output C:\\Users\\69785hsh\\AppData\\Local\\Temp\\1\\a5895b_corpus.mallet' returned non-zero exit status 1."
     ]
    }
   ],
   "source": [
    "mallet_path = 'mallet-2.0.8\\bin\\mallet' \n",
    "ldamallet = gensim.models.wrappers.LdaMallet(mallet_path, corpus=corpus, num_topics=20, id2word=id2word)"
   ]
  },
  {
   "cell_type": "code",
   "execution_count": 39,
   "metadata": {},
   "outputs": [
    {
     "ename": "CalledProcessError",
     "evalue": "Command 'mallet-2.0.8\\\\bin\\\\mallet.bat import-file --preserve-case --keep-sequence --remove-stopwords --token-regex \"\\S+\" --input C:\\Users\\69785hsh\\AppData\\Local\\Temp\\1\\2b0ee6_corpus.txt --output C:\\Users\\69785hsh\\AppData\\Local\\Temp\\1\\2b0ee6_corpus.mallet' returned non-zero exit status 1.",
     "output_type": "error",
     "traceback": [
      "\u001b[1;31m---------------------------------------------------------------------------\u001b[0m",
      "\u001b[1;31mCalledProcessError\u001b[0m                        Traceback (most recent call last)",
      "\u001b[1;32m<ipython-input-39-bc4d84e3430f>\u001b[0m in \u001b[0;36m<module>\u001b[1;34m\u001b[0m\n\u001b[0;32m      1\u001b[0m \u001b[0mmallet_path\u001b[0m \u001b[1;33m=\u001b[0m \u001b[1;34mr'mallet-2.0.8\\\\bin\\\\mallet.bat'\u001b[0m \u001b[1;31m# update this path\u001b[0m\u001b[1;33m\u001b[0m\u001b[0m\n\u001b[1;32m----> 2\u001b[1;33m \u001b[0mldamallet\u001b[0m \u001b[1;33m=\u001b[0m \u001b[0mgensim\u001b[0m\u001b[1;33m.\u001b[0m\u001b[0mmodels\u001b[0m\u001b[1;33m.\u001b[0m\u001b[0mwrappers\u001b[0m\u001b[1;33m.\u001b[0m\u001b[0mLdaMallet\u001b[0m\u001b[1;33m(\u001b[0m\u001b[0mmallet_path\u001b[0m\u001b[1;33m,\u001b[0m \u001b[0mcorpus\u001b[0m\u001b[1;33m=\u001b[0m\u001b[0mcorpus\u001b[0m\u001b[1;33m,\u001b[0m \u001b[0mnum_topics\u001b[0m\u001b[1;33m=\u001b[0m\u001b[1;36m20\u001b[0m\u001b[1;33m,\u001b[0m \u001b[0mid2word\u001b[0m\u001b[1;33m=\u001b[0m\u001b[0mid2word\u001b[0m\u001b[1;33m)\u001b[0m\u001b[1;33m\u001b[0m\u001b[0m\n\u001b[0m",
      "\u001b[1;32mC:\\Program Files\\Anaconda3\\lib\\site-packages\\gensim\\models\\wrappers\\ldamallet.py\u001b[0m in \u001b[0;36m__init__\u001b[1;34m(self, mallet_path, corpus, num_topics, alpha, id2word, workers, prefix, optimize_interval, iterations, topic_threshold, random_seed)\u001b[0m\n\u001b[0;32m    130\u001b[0m         \u001b[0mself\u001b[0m\u001b[1;33m.\u001b[0m\u001b[0mrandom_seed\u001b[0m \u001b[1;33m=\u001b[0m \u001b[0mrandom_seed\u001b[0m\u001b[1;33m\u001b[0m\u001b[0m\n\u001b[0;32m    131\u001b[0m         \u001b[1;32mif\u001b[0m \u001b[0mcorpus\u001b[0m \u001b[1;32mis\u001b[0m \u001b[1;32mnot\u001b[0m \u001b[1;32mNone\u001b[0m\u001b[1;33m:\u001b[0m\u001b[1;33m\u001b[0m\u001b[0m\n\u001b[1;32m--> 132\u001b[1;33m             \u001b[0mself\u001b[0m\u001b[1;33m.\u001b[0m\u001b[0mtrain\u001b[0m\u001b[1;33m(\u001b[0m\u001b[0mcorpus\u001b[0m\u001b[1;33m)\u001b[0m\u001b[1;33m\u001b[0m\u001b[0m\n\u001b[0m\u001b[0;32m    133\u001b[0m \u001b[1;33m\u001b[0m\u001b[0m\n\u001b[0;32m    134\u001b[0m     \u001b[1;32mdef\u001b[0m \u001b[0mfinferencer\u001b[0m\u001b[1;33m(\u001b[0m\u001b[0mself\u001b[0m\u001b[1;33m)\u001b[0m\u001b[1;33m:\u001b[0m\u001b[1;33m\u001b[0m\u001b[0m\n",
      "\u001b[1;32mC:\\Program Files\\Anaconda3\\lib\\site-packages\\gensim\\models\\wrappers\\ldamallet.py\u001b[0m in \u001b[0;36mtrain\u001b[1;34m(self, corpus)\u001b[0m\n\u001b[0;32m    271\u001b[0m \u001b[1;33m\u001b[0m\u001b[0m\n\u001b[0;32m    272\u001b[0m         \"\"\"\n\u001b[1;32m--> 273\u001b[1;33m         \u001b[0mself\u001b[0m\u001b[1;33m.\u001b[0m\u001b[0mconvert_input\u001b[0m\u001b[1;33m(\u001b[0m\u001b[0mcorpus\u001b[0m\u001b[1;33m,\u001b[0m \u001b[0minfer\u001b[0m\u001b[1;33m=\u001b[0m\u001b[1;32mFalse\u001b[0m\u001b[1;33m)\u001b[0m\u001b[1;33m\u001b[0m\u001b[0m\n\u001b[0m\u001b[0;32m    274\u001b[0m         \u001b[0mcmd\u001b[0m \u001b[1;33m=\u001b[0m \u001b[0mself\u001b[0m\u001b[1;33m.\u001b[0m\u001b[0mmallet_path\u001b[0m \u001b[1;33m+\u001b[0m \u001b[1;34m' train-topics --input %s --num-topics %s  --alpha %s --optimize-interval %s '\u001b[0m\u001b[0;31m\\\u001b[0m\u001b[1;33m\u001b[0m\u001b[0m\n\u001b[0;32m    275\u001b[0m             \u001b[1;34m'--num-threads %s --output-state %s --output-doc-topics %s --output-topic-keys %s '\u001b[0m\u001b[0;31m\\\u001b[0m\u001b[1;33m\u001b[0m\u001b[0m\n",
      "\u001b[1;32mC:\\Program Files\\Anaconda3\\lib\\site-packages\\gensim\\models\\wrappers\\ldamallet.py\u001b[0m in \u001b[0;36mconvert_input\u001b[1;34m(self, corpus, infer, serialize_corpus)\u001b[0m\n\u001b[0;32m    260\u001b[0m             \u001b[0mcmd\u001b[0m \u001b[1;33m=\u001b[0m \u001b[0mcmd\u001b[0m \u001b[1;33m%\u001b[0m \u001b[1;33m(\u001b[0m\u001b[0mself\u001b[0m\u001b[1;33m.\u001b[0m\u001b[0mfcorpustxt\u001b[0m\u001b[1;33m(\u001b[0m\u001b[1;33m)\u001b[0m\u001b[1;33m,\u001b[0m \u001b[0mself\u001b[0m\u001b[1;33m.\u001b[0m\u001b[0mfcorpusmallet\u001b[0m\u001b[1;33m(\u001b[0m\u001b[1;33m)\u001b[0m\u001b[1;33m)\u001b[0m\u001b[1;33m\u001b[0m\u001b[0m\n\u001b[0;32m    261\u001b[0m         \u001b[0mlogger\u001b[0m\u001b[1;33m.\u001b[0m\u001b[0minfo\u001b[0m\u001b[1;33m(\u001b[0m\u001b[1;34m\"converting temporary corpus to MALLET format with %s\"\u001b[0m\u001b[1;33m,\u001b[0m \u001b[0mcmd\u001b[0m\u001b[1;33m)\u001b[0m\u001b[1;33m\u001b[0m\u001b[0m\n\u001b[1;32m--> 262\u001b[1;33m         \u001b[0mcheck_output\u001b[0m\u001b[1;33m(\u001b[0m\u001b[0margs\u001b[0m\u001b[1;33m=\u001b[0m\u001b[0mcmd\u001b[0m\u001b[1;33m,\u001b[0m \u001b[0mshell\u001b[0m\u001b[1;33m=\u001b[0m\u001b[1;32mTrue\u001b[0m\u001b[1;33m)\u001b[0m\u001b[1;33m\u001b[0m\u001b[0m\n\u001b[0m\u001b[0;32m    263\u001b[0m \u001b[1;33m\u001b[0m\u001b[0m\n\u001b[0;32m    264\u001b[0m     \u001b[1;32mdef\u001b[0m \u001b[0mtrain\u001b[0m\u001b[1;33m(\u001b[0m\u001b[0mself\u001b[0m\u001b[1;33m,\u001b[0m \u001b[0mcorpus\u001b[0m\u001b[1;33m)\u001b[0m\u001b[1;33m:\u001b[0m\u001b[1;33m\u001b[0m\u001b[0m\n",
      "\u001b[1;32mC:\\Program Files\\Anaconda3\\lib\\site-packages\\gensim\\utils.py\u001b[0m in \u001b[0;36mcheck_output\u001b[1;34m(stdout, *popenargs, **kwargs)\u001b[0m\n\u001b[0;32m   1916\u001b[0m             \u001b[0merror\u001b[0m \u001b[1;33m=\u001b[0m \u001b[0msubprocess\u001b[0m\u001b[1;33m.\u001b[0m\u001b[0mCalledProcessError\u001b[0m\u001b[1;33m(\u001b[0m\u001b[0mretcode\u001b[0m\u001b[1;33m,\u001b[0m \u001b[0mcmd\u001b[0m\u001b[1;33m)\u001b[0m\u001b[1;33m\u001b[0m\u001b[0m\n\u001b[0;32m   1917\u001b[0m             \u001b[0merror\u001b[0m\u001b[1;33m.\u001b[0m\u001b[0moutput\u001b[0m \u001b[1;33m=\u001b[0m \u001b[0moutput\u001b[0m\u001b[1;33m\u001b[0m\u001b[0m\n\u001b[1;32m-> 1918\u001b[1;33m             \u001b[1;32mraise\u001b[0m \u001b[0merror\u001b[0m\u001b[1;33m\u001b[0m\u001b[0m\n\u001b[0m\u001b[0;32m   1919\u001b[0m         \u001b[1;32mreturn\u001b[0m \u001b[0moutput\u001b[0m\u001b[1;33m\u001b[0m\u001b[0m\n\u001b[0;32m   1920\u001b[0m     \u001b[1;32mexcept\u001b[0m \u001b[0mKeyboardInterrupt\u001b[0m\u001b[1;33m:\u001b[0m\u001b[1;33m\u001b[0m\u001b[0m\n",
      "\u001b[1;31mCalledProcessError\u001b[0m: Command 'mallet-2.0.8\\\\bin\\\\mallet.bat import-file --preserve-case --keep-sequence --remove-stopwords --token-regex \"\\S+\" --input C:\\Users\\69785hsh\\AppData\\Local\\Temp\\1\\2b0ee6_corpus.txt --output C:\\Users\\69785hsh\\AppData\\Local\\Temp\\1\\2b0ee6_corpus.mallet' returned non-zero exit status 1."
     ]
    }
   ],
   "source": [
    "mallet_path = r'mallet-2.0.8\\\\bin\\\\mallet.bat' # update this path\n",
    "ldamallet = gensim.models.wrappers.LdaMallet(mallet_path, corpus=corpus, num_topics=20, id2word=id2word)"
   ]
  },
  {
   "cell_type": "code",
   "execution_count": 40,
   "metadata": {},
   "outputs": [
    {
     "ename": "NameError",
     "evalue": "name 'Path' is not defined",
     "output_type": "error",
     "traceback": [
      "\u001b[1;31m---------------------------------------------------------------------------\u001b[0m",
      "\u001b[1;31mNameError\u001b[0m                                 Traceback (most recent call last)",
      "\u001b[1;32m<ipython-input-40-725f7859496c>\u001b[0m in \u001b[0;36m<module>\u001b[1;34m\u001b[0m\n\u001b[0;32m      1\u001b[0m \u001b[1;32mimport\u001b[0m \u001b[0mpathlib\u001b[0m\u001b[1;33m\u001b[0m\u001b[0m\n\u001b[0;32m      2\u001b[0m \u001b[0mos\u001b[0m\u001b[1;33m.\u001b[0m\u001b[0menviron\u001b[0m\u001b[1;33m[\u001b[0m\u001b[1;34m'MALLET_HOME'\u001b[0m\u001b[1;33m]\u001b[0m \u001b[1;33m=\u001b[0m \u001b[1;34mr'C:\\mallet-2.0.8'\u001b[0m\u001b[1;33m\u001b[0m\u001b[0m\n\u001b[1;32m----> 3\u001b[1;33m \u001b[0mmallet_path\u001b[0m \u001b[1;33m=\u001b[0m \u001b[0mPath\u001b[0m\u001b[1;33m(\u001b[0m\u001b[1;34m\"C:\"\u001b[0m\u001b[1;33m,\u001b[0m \u001b[1;34m\"mallet-2.0.8\"\u001b[0m\u001b[1;33m,\u001b[0m \u001b[1;34m\"bin\"\u001b[0m\u001b[1;33m,\u001b[0m\u001b[1;34m\"mallet.bat\"\u001b[0m\u001b[1;33m)\u001b[0m\u001b[1;33m\u001b[0m\u001b[0m\n\u001b[0m\u001b[0;32m      4\u001b[0m \u001b[0mldamallet\u001b[0m \u001b[1;33m=\u001b[0m \u001b[0mgensim\u001b[0m\u001b[1;33m.\u001b[0m\u001b[0mmodels\u001b[0m\u001b[1;33m.\u001b[0m\u001b[0mwrappers\u001b[0m\u001b[1;33m.\u001b[0m\u001b[0mLdaMallet\u001b[0m\u001b[1;33m(\u001b[0m\u001b[0mmallet_path\u001b[0m\u001b[1;33m,\u001b[0m \u001b[0mcorpus\u001b[0m\u001b[1;33m=\u001b[0m\u001b[0mcorpus\u001b[0m\u001b[1;33m,\u001b[0m \u001b[0mnum_topics\u001b[0m\u001b[1;33m=\u001b[0m\u001b[1;36m20\u001b[0m\u001b[1;33m,\u001b[0m \u001b[0mid2word\u001b[0m\u001b[1;33m=\u001b[0m\u001b[0mid2word\u001b[0m\u001b[1;33m)\u001b[0m\u001b[1;33m\u001b[0m\u001b[0m\n",
      "\u001b[1;31mNameError\u001b[0m: name 'Path' is not defined"
     ]
    }
   ],
   "source": [
    "import pathlib\n",
    "os.environ['MALLET_HOME'] = r'C:\\mallet-2.0.8'\n",
    "mallet_path = Path(\"C:\", \"mallet-2.0.8\", \"bin\",\"mallet.bat\")\n",
    "ldamallet = gensim.models.wrappers.LdaMallet(mallet_path, corpus=corpus, num_topics=20, id2word=id2word)"
   ]
  },
  {
   "cell_type": "code",
   "execution_count": 41,
   "metadata": {},
   "outputs": [
    {
     "ename": "SyntaxError",
     "evalue": "unexpected EOF while parsing (<ipython-input-41-b3954b289f5e>, line 3)",
     "output_type": "error",
     "traceback": [
      "\u001b[1;36m  File \u001b[1;32m\"<ipython-input-41-b3954b289f5e>\"\u001b[1;36m, line \u001b[1;32m3\u001b[0m\n\u001b[1;33m    ldamallet = LdaMallet(mallet_path, corpus=corpus, num_topics=20, id2word=id2word\u001b[0m\n\u001b[1;37m                                                                                    ^\u001b[0m\n\u001b[1;31mSyntaxError\u001b[0m\u001b[1;31m:\u001b[0m unexpected EOF while parsing\n"
     ]
    }
   ],
   "source": [
    "os.environ['MALLET_HOME'] = 'C:\\mallet-2.0.8'\n",
    "mallet_path = 'C:\\mallet-2.0.8\\bin\\mallet'\n",
    "ldamallet = LdaMallet(mallet_path, corpus=corpus, num_topics=20, id2word=id2word"
   ]
  },
  {
   "cell_type": "code",
   "execution_count": null,
   "metadata": {},
   "outputs": [],
   "source": []
  },
  {
   "cell_type": "code",
   "execution_count": null,
   "metadata": {},
   "outputs": [],
   "source": []
  },
  {
   "cell_type": "code",
   "execution_count": null,
   "metadata": {},
   "outputs": [],
   "source": []
  },
  {
   "cell_type": "code",
   "execution_count": 42,
   "metadata": {},
   "outputs": [
    {
     "ename": "CalledProcessError",
     "evalue": "Command 'C:\\mallet-2.0.8\\bin\\mallet import-file --preserve-case --keep-sequence --remove-stopwords --token-regex \"\\S+\" --input C:\\Users\\69785hsh\\AppData\\Local\\Temp\\1\\4adbb3_corpus.txt --output C:\\Users\\69785hsh\\AppData\\Local\\Temp\\1\\4adbb3_corpus.mallet' returned non-zero exit status 1.",
     "output_type": "error",
     "traceback": [
      "\u001b[1;31m---------------------------------------------------------------------------\u001b[0m",
      "\u001b[1;31mCalledProcessError\u001b[0m                        Traceback (most recent call last)",
      "\u001b[1;32m<ipython-input-42-475dc07cbf50>\u001b[0m in \u001b[0;36m<module>\u001b[1;34m\u001b[0m\n\u001b[0;32m      4\u001b[0m \u001b[0mmallet_path\u001b[0m \u001b[1;33m=\u001b[0m \u001b[1;34mr'C:\\mallet-2.0.8\\bin\\mallet'\u001b[0m \u001b[1;31m# update this path\u001b[0m\u001b[1;33m\u001b[0m\u001b[0m\n\u001b[0;32m      5\u001b[0m \u001b[1;33m\u001b[0m\u001b[0m\n\u001b[1;32m----> 6\u001b[1;33m \u001b[0mldamallet\u001b[0m \u001b[1;33m=\u001b[0m \u001b[0mgensim\u001b[0m\u001b[1;33m.\u001b[0m\u001b[0mmodels\u001b[0m\u001b[1;33m.\u001b[0m\u001b[0mwrappers\u001b[0m\u001b[1;33m.\u001b[0m\u001b[0mLdaMallet\u001b[0m\u001b[1;33m(\u001b[0m\u001b[0mmallet_path\u001b[0m\u001b[1;33m,\u001b[0m \u001b[0mcorpus\u001b[0m\u001b[1;33m=\u001b[0m\u001b[0mcorpus\u001b[0m\u001b[1;33m,\u001b[0m \u001b[0mnum_topics\u001b[0m\u001b[1;33m=\u001b[0m\u001b[1;36m3\u001b[0m\u001b[1;33m,\u001b[0m \u001b[0mid2word\u001b[0m\u001b[1;33m=\u001b[0m\u001b[0mid2word\u001b[0m\u001b[1;33m)\u001b[0m\u001b[1;33m\u001b[0m\u001b[0m\n\u001b[0m",
      "\u001b[1;32mC:\\Program Files\\Anaconda3\\lib\\site-packages\\gensim\\models\\wrappers\\ldamallet.py\u001b[0m in \u001b[0;36m__init__\u001b[1;34m(self, mallet_path, corpus, num_topics, alpha, id2word, workers, prefix, optimize_interval, iterations, topic_threshold, random_seed)\u001b[0m\n\u001b[0;32m    130\u001b[0m         \u001b[0mself\u001b[0m\u001b[1;33m.\u001b[0m\u001b[0mrandom_seed\u001b[0m \u001b[1;33m=\u001b[0m \u001b[0mrandom_seed\u001b[0m\u001b[1;33m\u001b[0m\u001b[0m\n\u001b[0;32m    131\u001b[0m         \u001b[1;32mif\u001b[0m \u001b[0mcorpus\u001b[0m \u001b[1;32mis\u001b[0m \u001b[1;32mnot\u001b[0m \u001b[1;32mNone\u001b[0m\u001b[1;33m:\u001b[0m\u001b[1;33m\u001b[0m\u001b[0m\n\u001b[1;32m--> 132\u001b[1;33m             \u001b[0mself\u001b[0m\u001b[1;33m.\u001b[0m\u001b[0mtrain\u001b[0m\u001b[1;33m(\u001b[0m\u001b[0mcorpus\u001b[0m\u001b[1;33m)\u001b[0m\u001b[1;33m\u001b[0m\u001b[0m\n\u001b[0m\u001b[0;32m    133\u001b[0m \u001b[1;33m\u001b[0m\u001b[0m\n\u001b[0;32m    134\u001b[0m     \u001b[1;32mdef\u001b[0m \u001b[0mfinferencer\u001b[0m\u001b[1;33m(\u001b[0m\u001b[0mself\u001b[0m\u001b[1;33m)\u001b[0m\u001b[1;33m:\u001b[0m\u001b[1;33m\u001b[0m\u001b[0m\n",
      "\u001b[1;32mC:\\Program Files\\Anaconda3\\lib\\site-packages\\gensim\\models\\wrappers\\ldamallet.py\u001b[0m in \u001b[0;36mtrain\u001b[1;34m(self, corpus)\u001b[0m\n\u001b[0;32m    271\u001b[0m \u001b[1;33m\u001b[0m\u001b[0m\n\u001b[0;32m    272\u001b[0m         \"\"\"\n\u001b[1;32m--> 273\u001b[1;33m         \u001b[0mself\u001b[0m\u001b[1;33m.\u001b[0m\u001b[0mconvert_input\u001b[0m\u001b[1;33m(\u001b[0m\u001b[0mcorpus\u001b[0m\u001b[1;33m,\u001b[0m \u001b[0minfer\u001b[0m\u001b[1;33m=\u001b[0m\u001b[1;32mFalse\u001b[0m\u001b[1;33m)\u001b[0m\u001b[1;33m\u001b[0m\u001b[0m\n\u001b[0m\u001b[0;32m    274\u001b[0m         \u001b[0mcmd\u001b[0m \u001b[1;33m=\u001b[0m \u001b[0mself\u001b[0m\u001b[1;33m.\u001b[0m\u001b[0mmallet_path\u001b[0m \u001b[1;33m+\u001b[0m \u001b[1;34m' train-topics --input %s --num-topics %s  --alpha %s --optimize-interval %s '\u001b[0m\u001b[0;31m\\\u001b[0m\u001b[1;33m\u001b[0m\u001b[0m\n\u001b[0;32m    275\u001b[0m             \u001b[1;34m'--num-threads %s --output-state %s --output-doc-topics %s --output-topic-keys %s '\u001b[0m\u001b[0;31m\\\u001b[0m\u001b[1;33m\u001b[0m\u001b[0m\n",
      "\u001b[1;32mC:\\Program Files\\Anaconda3\\lib\\site-packages\\gensim\\models\\wrappers\\ldamallet.py\u001b[0m in \u001b[0;36mconvert_input\u001b[1;34m(self, corpus, infer, serialize_corpus)\u001b[0m\n\u001b[0;32m    260\u001b[0m             \u001b[0mcmd\u001b[0m \u001b[1;33m=\u001b[0m \u001b[0mcmd\u001b[0m \u001b[1;33m%\u001b[0m \u001b[1;33m(\u001b[0m\u001b[0mself\u001b[0m\u001b[1;33m.\u001b[0m\u001b[0mfcorpustxt\u001b[0m\u001b[1;33m(\u001b[0m\u001b[1;33m)\u001b[0m\u001b[1;33m,\u001b[0m \u001b[0mself\u001b[0m\u001b[1;33m.\u001b[0m\u001b[0mfcorpusmallet\u001b[0m\u001b[1;33m(\u001b[0m\u001b[1;33m)\u001b[0m\u001b[1;33m)\u001b[0m\u001b[1;33m\u001b[0m\u001b[0m\n\u001b[0;32m    261\u001b[0m         \u001b[0mlogger\u001b[0m\u001b[1;33m.\u001b[0m\u001b[0minfo\u001b[0m\u001b[1;33m(\u001b[0m\u001b[1;34m\"converting temporary corpus to MALLET format with %s\"\u001b[0m\u001b[1;33m,\u001b[0m \u001b[0mcmd\u001b[0m\u001b[1;33m)\u001b[0m\u001b[1;33m\u001b[0m\u001b[0m\n\u001b[1;32m--> 262\u001b[1;33m         \u001b[0mcheck_output\u001b[0m\u001b[1;33m(\u001b[0m\u001b[0margs\u001b[0m\u001b[1;33m=\u001b[0m\u001b[0mcmd\u001b[0m\u001b[1;33m,\u001b[0m \u001b[0mshell\u001b[0m\u001b[1;33m=\u001b[0m\u001b[1;32mTrue\u001b[0m\u001b[1;33m)\u001b[0m\u001b[1;33m\u001b[0m\u001b[0m\n\u001b[0m\u001b[0;32m    263\u001b[0m \u001b[1;33m\u001b[0m\u001b[0m\n\u001b[0;32m    264\u001b[0m     \u001b[1;32mdef\u001b[0m \u001b[0mtrain\u001b[0m\u001b[1;33m(\u001b[0m\u001b[0mself\u001b[0m\u001b[1;33m,\u001b[0m \u001b[0mcorpus\u001b[0m\u001b[1;33m)\u001b[0m\u001b[1;33m:\u001b[0m\u001b[1;33m\u001b[0m\u001b[0m\n",
      "\u001b[1;32mC:\\Program Files\\Anaconda3\\lib\\site-packages\\gensim\\utils.py\u001b[0m in \u001b[0;36mcheck_output\u001b[1;34m(stdout, *popenargs, **kwargs)\u001b[0m\n\u001b[0;32m   1916\u001b[0m             \u001b[0merror\u001b[0m \u001b[1;33m=\u001b[0m \u001b[0msubprocess\u001b[0m\u001b[1;33m.\u001b[0m\u001b[0mCalledProcessError\u001b[0m\u001b[1;33m(\u001b[0m\u001b[0mretcode\u001b[0m\u001b[1;33m,\u001b[0m \u001b[0mcmd\u001b[0m\u001b[1;33m)\u001b[0m\u001b[1;33m\u001b[0m\u001b[0m\n\u001b[0;32m   1917\u001b[0m             \u001b[0merror\u001b[0m\u001b[1;33m.\u001b[0m\u001b[0moutput\u001b[0m \u001b[1;33m=\u001b[0m \u001b[0moutput\u001b[0m\u001b[1;33m\u001b[0m\u001b[0m\n\u001b[1;32m-> 1918\u001b[1;33m             \u001b[1;32mraise\u001b[0m \u001b[0merror\u001b[0m\u001b[1;33m\u001b[0m\u001b[0m\n\u001b[0m\u001b[0;32m   1919\u001b[0m         \u001b[1;32mreturn\u001b[0m \u001b[0moutput\u001b[0m\u001b[1;33m\u001b[0m\u001b[0m\n\u001b[0;32m   1920\u001b[0m     \u001b[1;32mexcept\u001b[0m \u001b[0mKeyboardInterrupt\u001b[0m\u001b[1;33m:\u001b[0m\u001b[1;33m\u001b[0m\u001b[0m\n",
      "\u001b[1;31mCalledProcessError\u001b[0m: Command 'C:\\mallet-2.0.8\\bin\\mallet import-file --preserve-case --keep-sequence --remove-stopwords --token-regex \"\\S+\" --input C:\\Users\\69785hsh\\AppData\\Local\\Temp\\1\\4adbb3_corpus.txt --output C:\\Users\\69785hsh\\AppData\\Local\\Temp\\1\\4adbb3_corpus.mallet' returned non-zero exit status 1."
     ]
    }
   ],
   "source": [
    "import os\n",
    "os.environ.update({r'MALLET_HOME':r'C:/mallet-2.0.8/'})\n",
    "\n",
    "mallet_path = r'C:\\mallet-2.0.8\\bin\\mallet' # update this path\n",
    "\n",
    "ldamallet = gensim.models.wrappers.LdaMallet(mallet_path, corpus=corpus, num_topics=3, id2word=id2word)"
   ]
  },
  {
   "cell_type": "code",
   "execution_count": 43,
   "metadata": {},
   "outputs": [
    {
     "ename": "CalledProcessError",
     "evalue": "Command 'C:/new_mallet/mallet-2.0.8/bin/mallet import-file --preserve-case --keep-sequence --remove-stopwords --token-regex \"\\S+\" --input C:\\Users\\69785hsh\\AppData\\Local\\Temp\\1\\24a2fd_corpus.txt --output C:\\Users\\69785hsh\\AppData\\Local\\Temp\\1\\24a2fd_corpus.mallet' returned non-zero exit status 1.",
     "output_type": "error",
     "traceback": [
      "\u001b[1;31m---------------------------------------------------------------------------\u001b[0m",
      "\u001b[1;31mCalledProcessError\u001b[0m                        Traceback (most recent call last)",
      "\u001b[1;32m<ipython-input-43-021d23b7fc4c>\u001b[0m in \u001b[0;36m<module>\u001b[1;34m\u001b[0m\n\u001b[0;32m      5\u001b[0m \u001b[0mmallet_path\u001b[0m \u001b[1;33m=\u001b[0m \u001b[1;34m'C:/new_mallet/mallet-2.0.8/bin/mallet'\u001b[0m \u001b[1;31m# update this path\u001b[0m\u001b[1;33m\u001b[0m\u001b[0m\n\u001b[0;32m      6\u001b[0m \u001b[1;33m\u001b[0m\u001b[0m\n\u001b[1;32m----> 7\u001b[1;33m \u001b[0mldamallet\u001b[0m \u001b[1;33m=\u001b[0m \u001b[0mLdaMallet\u001b[0m\u001b[1;33m(\u001b[0m\u001b[0mmallet_path\u001b[0m\u001b[1;33m,\u001b[0m \u001b[0mcorpus\u001b[0m\u001b[1;33m=\u001b[0m\u001b[0mcorpus\u001b[0m\u001b[1;33m,\u001b[0m \u001b[0mnum_topics\u001b[0m\u001b[1;33m=\u001b[0m\u001b[1;36m20\u001b[0m\u001b[1;33m,\u001b[0m \u001b[0mid2word\u001b[0m\u001b[1;33m=\u001b[0m\u001b[0mid2word\u001b[0m\u001b[1;33m)\u001b[0m\u001b[1;33m\u001b[0m\u001b[0m\n\u001b[0m",
      "\u001b[1;32mC:\\Program Files\\Anaconda3\\lib\\site-packages\\gensim\\models\\wrappers\\ldamallet.py\u001b[0m in \u001b[0;36m__init__\u001b[1;34m(self, mallet_path, corpus, num_topics, alpha, id2word, workers, prefix, optimize_interval, iterations, topic_threshold, random_seed)\u001b[0m\n\u001b[0;32m    130\u001b[0m         \u001b[0mself\u001b[0m\u001b[1;33m.\u001b[0m\u001b[0mrandom_seed\u001b[0m \u001b[1;33m=\u001b[0m \u001b[0mrandom_seed\u001b[0m\u001b[1;33m\u001b[0m\u001b[0m\n\u001b[0;32m    131\u001b[0m         \u001b[1;32mif\u001b[0m \u001b[0mcorpus\u001b[0m \u001b[1;32mis\u001b[0m \u001b[1;32mnot\u001b[0m \u001b[1;32mNone\u001b[0m\u001b[1;33m:\u001b[0m\u001b[1;33m\u001b[0m\u001b[0m\n\u001b[1;32m--> 132\u001b[1;33m             \u001b[0mself\u001b[0m\u001b[1;33m.\u001b[0m\u001b[0mtrain\u001b[0m\u001b[1;33m(\u001b[0m\u001b[0mcorpus\u001b[0m\u001b[1;33m)\u001b[0m\u001b[1;33m\u001b[0m\u001b[0m\n\u001b[0m\u001b[0;32m    133\u001b[0m \u001b[1;33m\u001b[0m\u001b[0m\n\u001b[0;32m    134\u001b[0m     \u001b[1;32mdef\u001b[0m \u001b[0mfinferencer\u001b[0m\u001b[1;33m(\u001b[0m\u001b[0mself\u001b[0m\u001b[1;33m)\u001b[0m\u001b[1;33m:\u001b[0m\u001b[1;33m\u001b[0m\u001b[0m\n",
      "\u001b[1;32mC:\\Program Files\\Anaconda3\\lib\\site-packages\\gensim\\models\\wrappers\\ldamallet.py\u001b[0m in \u001b[0;36mtrain\u001b[1;34m(self, corpus)\u001b[0m\n\u001b[0;32m    271\u001b[0m \u001b[1;33m\u001b[0m\u001b[0m\n\u001b[0;32m    272\u001b[0m         \"\"\"\n\u001b[1;32m--> 273\u001b[1;33m         \u001b[0mself\u001b[0m\u001b[1;33m.\u001b[0m\u001b[0mconvert_input\u001b[0m\u001b[1;33m(\u001b[0m\u001b[0mcorpus\u001b[0m\u001b[1;33m,\u001b[0m \u001b[0minfer\u001b[0m\u001b[1;33m=\u001b[0m\u001b[1;32mFalse\u001b[0m\u001b[1;33m)\u001b[0m\u001b[1;33m\u001b[0m\u001b[0m\n\u001b[0m\u001b[0;32m    274\u001b[0m         \u001b[0mcmd\u001b[0m \u001b[1;33m=\u001b[0m \u001b[0mself\u001b[0m\u001b[1;33m.\u001b[0m\u001b[0mmallet_path\u001b[0m \u001b[1;33m+\u001b[0m \u001b[1;34m' train-topics --input %s --num-topics %s  --alpha %s --optimize-interval %s '\u001b[0m\u001b[0;31m\\\u001b[0m\u001b[1;33m\u001b[0m\u001b[0m\n\u001b[0;32m    275\u001b[0m             \u001b[1;34m'--num-threads %s --output-state %s --output-doc-topics %s --output-topic-keys %s '\u001b[0m\u001b[0;31m\\\u001b[0m\u001b[1;33m\u001b[0m\u001b[0m\n",
      "\u001b[1;32mC:\\Program Files\\Anaconda3\\lib\\site-packages\\gensim\\models\\wrappers\\ldamallet.py\u001b[0m in \u001b[0;36mconvert_input\u001b[1;34m(self, corpus, infer, serialize_corpus)\u001b[0m\n\u001b[0;32m    260\u001b[0m             \u001b[0mcmd\u001b[0m \u001b[1;33m=\u001b[0m \u001b[0mcmd\u001b[0m \u001b[1;33m%\u001b[0m \u001b[1;33m(\u001b[0m\u001b[0mself\u001b[0m\u001b[1;33m.\u001b[0m\u001b[0mfcorpustxt\u001b[0m\u001b[1;33m(\u001b[0m\u001b[1;33m)\u001b[0m\u001b[1;33m,\u001b[0m \u001b[0mself\u001b[0m\u001b[1;33m.\u001b[0m\u001b[0mfcorpusmallet\u001b[0m\u001b[1;33m(\u001b[0m\u001b[1;33m)\u001b[0m\u001b[1;33m)\u001b[0m\u001b[1;33m\u001b[0m\u001b[0m\n\u001b[0;32m    261\u001b[0m         \u001b[0mlogger\u001b[0m\u001b[1;33m.\u001b[0m\u001b[0minfo\u001b[0m\u001b[1;33m(\u001b[0m\u001b[1;34m\"converting temporary corpus to MALLET format with %s\"\u001b[0m\u001b[1;33m,\u001b[0m \u001b[0mcmd\u001b[0m\u001b[1;33m)\u001b[0m\u001b[1;33m\u001b[0m\u001b[0m\n\u001b[1;32m--> 262\u001b[1;33m         \u001b[0mcheck_output\u001b[0m\u001b[1;33m(\u001b[0m\u001b[0margs\u001b[0m\u001b[1;33m=\u001b[0m\u001b[0mcmd\u001b[0m\u001b[1;33m,\u001b[0m \u001b[0mshell\u001b[0m\u001b[1;33m=\u001b[0m\u001b[1;32mTrue\u001b[0m\u001b[1;33m)\u001b[0m\u001b[1;33m\u001b[0m\u001b[0m\n\u001b[0m\u001b[0;32m    263\u001b[0m \u001b[1;33m\u001b[0m\u001b[0m\n\u001b[0;32m    264\u001b[0m     \u001b[1;32mdef\u001b[0m \u001b[0mtrain\u001b[0m\u001b[1;33m(\u001b[0m\u001b[0mself\u001b[0m\u001b[1;33m,\u001b[0m \u001b[0mcorpus\u001b[0m\u001b[1;33m)\u001b[0m\u001b[1;33m:\u001b[0m\u001b[1;33m\u001b[0m\u001b[0m\n",
      "\u001b[1;32mC:\\Program Files\\Anaconda3\\lib\\site-packages\\gensim\\utils.py\u001b[0m in \u001b[0;36mcheck_output\u001b[1;34m(stdout, *popenargs, **kwargs)\u001b[0m\n\u001b[0;32m   1916\u001b[0m             \u001b[0merror\u001b[0m \u001b[1;33m=\u001b[0m \u001b[0msubprocess\u001b[0m\u001b[1;33m.\u001b[0m\u001b[0mCalledProcessError\u001b[0m\u001b[1;33m(\u001b[0m\u001b[0mretcode\u001b[0m\u001b[1;33m,\u001b[0m \u001b[0mcmd\u001b[0m\u001b[1;33m)\u001b[0m\u001b[1;33m\u001b[0m\u001b[0m\n\u001b[0;32m   1917\u001b[0m             \u001b[0merror\u001b[0m\u001b[1;33m.\u001b[0m\u001b[0moutput\u001b[0m \u001b[1;33m=\u001b[0m \u001b[0moutput\u001b[0m\u001b[1;33m\u001b[0m\u001b[0m\n\u001b[1;32m-> 1918\u001b[1;33m             \u001b[1;32mraise\u001b[0m \u001b[0merror\u001b[0m\u001b[1;33m\u001b[0m\u001b[0m\n\u001b[0m\u001b[0;32m   1919\u001b[0m         \u001b[1;32mreturn\u001b[0m \u001b[0moutput\u001b[0m\u001b[1;33m\u001b[0m\u001b[0m\n\u001b[0;32m   1920\u001b[0m     \u001b[1;32mexcept\u001b[0m \u001b[0mKeyboardInterrupt\u001b[0m\u001b[1;33m:\u001b[0m\u001b[1;33m\u001b[0m\u001b[0m\n",
      "\u001b[1;31mCalledProcessError\u001b[0m: Command 'C:/new_mallet/mallet-2.0.8/bin/mallet import-file --preserve-case --keep-sequence --remove-stopwords --token-regex \"\\S+\" --input C:\\Users\\69785hsh\\AppData\\Local\\Temp\\1\\24a2fd_corpus.txt --output C:\\Users\\69785hsh\\AppData\\Local\\Temp\\1\\24a2fd_corpus.mallet' returned non-zero exit status 1."
     ]
    }
   ],
   "source": [
    "import os\n",
    "from gensim.models.wrappers import LdaMallet\n",
    "\n",
    "os.environ.update({'MALLET_HOME':r'C:/new_mallet/mallet-2.0.8/'})\n",
    "mallet_path = 'C:/new_mallet/mallet-2.0.8/bin/mallet' # update this path\n",
    "\n",
    "ldamallet = LdaMallet(mallet_path, corpus=corpus, num_topics=20, id2word=id2word)"
   ]
  },
  {
   "cell_type": "code",
   "execution_count": null,
   "metadata": {},
   "outputs": [],
   "source": []
  },
  {
   "cell_type": "code",
   "execution_count": null,
   "metadata": {},
   "outputs": [],
   "source": []
  },
  {
   "cell_type": "code",
   "execution_count": null,
   "metadata": {},
   "outputs": [],
   "source": []
  },
  {
   "cell_type": "code",
   "execution_count": null,
   "metadata": {},
   "outputs": [],
   "source": [
    "mallet_path = 'mallet-2.0.8//bin//mallet' \n",
    "ldamallet = gensim.models.wrappers.LdaMallet(mallet_path, corpus=corpus, num_topics=20, id2word=id2word)"
   ]
  },
  {
   "cell_type": "code",
   "execution_count": 51,
   "metadata": {},
   "outputs": [],
   "source": [
    "mallet_path = r'mallet-2.0.8//bin//mallet' "
   ]
  },
  {
   "cell_type": "code",
   "execution_count": 52,
   "metadata": {},
   "outputs": [
    {
     "ename": "CalledProcessError",
     "evalue": "Command 'mallet-2.0.8//bin//mallet import-file --preserve-case --keep-sequence --remove-stopwords --token-regex \"\\S+\" --input C:\\Users\\69785hsh\\AppData\\Local\\Temp\\1\\7a9f82_corpus.txt --output C:\\Users\\69785hsh\\AppData\\Local\\Temp\\1\\7a9f82_corpus.mallet' returned non-zero exit status 1.",
     "output_type": "error",
     "traceback": [
      "\u001b[1;31m---------------------------------------------------------------------------\u001b[0m",
      "\u001b[1;31mCalledProcessError\u001b[0m                        Traceback (most recent call last)",
      "\u001b[1;32m<ipython-input-52-6e0dbb876ee6>\u001b[0m in \u001b[0;36m<module>\u001b[1;34m\u001b[0m\n\u001b[1;32m----> 1\u001b[1;33m \u001b[0mldamallet\u001b[0m \u001b[1;33m=\u001b[0m \u001b[0mgensim\u001b[0m\u001b[1;33m.\u001b[0m\u001b[0mmodels\u001b[0m\u001b[1;33m.\u001b[0m\u001b[0mwrappers\u001b[0m\u001b[1;33m.\u001b[0m\u001b[0mLdaMallet\u001b[0m\u001b[1;33m(\u001b[0m\u001b[0mmallet_path\u001b[0m\u001b[1;33m,\u001b[0m \u001b[0mcorpus\u001b[0m\u001b[1;33m=\u001b[0m\u001b[0mcorpus\u001b[0m\u001b[1;33m,\u001b[0m \u001b[0mnum_topics\u001b[0m\u001b[1;33m=\u001b[0m\u001b[1;36m20\u001b[0m\u001b[1;33m,\u001b[0m \u001b[0mid2word\u001b[0m\u001b[1;33m=\u001b[0m\u001b[0mid2word\u001b[0m\u001b[1;33m)\u001b[0m\u001b[1;33m\u001b[0m\u001b[0m\n\u001b[0m",
      "\u001b[1;32mC:\\Program Files\\Anaconda3\\lib\\site-packages\\gensim\\models\\wrappers\\ldamallet.py\u001b[0m in \u001b[0;36m__init__\u001b[1;34m(self, mallet_path, corpus, num_topics, alpha, id2word, workers, prefix, optimize_interval, iterations, topic_threshold, random_seed)\u001b[0m\n\u001b[0;32m    130\u001b[0m         \u001b[0mself\u001b[0m\u001b[1;33m.\u001b[0m\u001b[0mrandom_seed\u001b[0m \u001b[1;33m=\u001b[0m \u001b[0mrandom_seed\u001b[0m\u001b[1;33m\u001b[0m\u001b[0m\n\u001b[0;32m    131\u001b[0m         \u001b[1;32mif\u001b[0m \u001b[0mcorpus\u001b[0m \u001b[1;32mis\u001b[0m \u001b[1;32mnot\u001b[0m \u001b[1;32mNone\u001b[0m\u001b[1;33m:\u001b[0m\u001b[1;33m\u001b[0m\u001b[0m\n\u001b[1;32m--> 132\u001b[1;33m             \u001b[0mself\u001b[0m\u001b[1;33m.\u001b[0m\u001b[0mtrain\u001b[0m\u001b[1;33m(\u001b[0m\u001b[0mcorpus\u001b[0m\u001b[1;33m)\u001b[0m\u001b[1;33m\u001b[0m\u001b[0m\n\u001b[0m\u001b[0;32m    133\u001b[0m \u001b[1;33m\u001b[0m\u001b[0m\n\u001b[0;32m    134\u001b[0m     \u001b[1;32mdef\u001b[0m \u001b[0mfinferencer\u001b[0m\u001b[1;33m(\u001b[0m\u001b[0mself\u001b[0m\u001b[1;33m)\u001b[0m\u001b[1;33m:\u001b[0m\u001b[1;33m\u001b[0m\u001b[0m\n",
      "\u001b[1;32mC:\\Program Files\\Anaconda3\\lib\\site-packages\\gensim\\models\\wrappers\\ldamallet.py\u001b[0m in \u001b[0;36mtrain\u001b[1;34m(self, corpus)\u001b[0m\n\u001b[0;32m    271\u001b[0m \u001b[1;33m\u001b[0m\u001b[0m\n\u001b[0;32m    272\u001b[0m         \"\"\"\n\u001b[1;32m--> 273\u001b[1;33m         \u001b[0mself\u001b[0m\u001b[1;33m.\u001b[0m\u001b[0mconvert_input\u001b[0m\u001b[1;33m(\u001b[0m\u001b[0mcorpus\u001b[0m\u001b[1;33m,\u001b[0m \u001b[0minfer\u001b[0m\u001b[1;33m=\u001b[0m\u001b[1;32mFalse\u001b[0m\u001b[1;33m)\u001b[0m\u001b[1;33m\u001b[0m\u001b[0m\n\u001b[0m\u001b[0;32m    274\u001b[0m         \u001b[0mcmd\u001b[0m \u001b[1;33m=\u001b[0m \u001b[0mself\u001b[0m\u001b[1;33m.\u001b[0m\u001b[0mmallet_path\u001b[0m \u001b[1;33m+\u001b[0m \u001b[1;34m' train-topics --input %s --num-topics %s  --alpha %s --optimize-interval %s '\u001b[0m\u001b[0;31m\\\u001b[0m\u001b[1;33m\u001b[0m\u001b[0m\n\u001b[0;32m    275\u001b[0m             \u001b[1;34m'--num-threads %s --output-state %s --output-doc-topics %s --output-topic-keys %s '\u001b[0m\u001b[0;31m\\\u001b[0m\u001b[1;33m\u001b[0m\u001b[0m\n",
      "\u001b[1;32mC:\\Program Files\\Anaconda3\\lib\\site-packages\\gensim\\models\\wrappers\\ldamallet.py\u001b[0m in \u001b[0;36mconvert_input\u001b[1;34m(self, corpus, infer, serialize_corpus)\u001b[0m\n\u001b[0;32m    260\u001b[0m             \u001b[0mcmd\u001b[0m \u001b[1;33m=\u001b[0m \u001b[0mcmd\u001b[0m \u001b[1;33m%\u001b[0m \u001b[1;33m(\u001b[0m\u001b[0mself\u001b[0m\u001b[1;33m.\u001b[0m\u001b[0mfcorpustxt\u001b[0m\u001b[1;33m(\u001b[0m\u001b[1;33m)\u001b[0m\u001b[1;33m,\u001b[0m \u001b[0mself\u001b[0m\u001b[1;33m.\u001b[0m\u001b[0mfcorpusmallet\u001b[0m\u001b[1;33m(\u001b[0m\u001b[1;33m)\u001b[0m\u001b[1;33m)\u001b[0m\u001b[1;33m\u001b[0m\u001b[0m\n\u001b[0;32m    261\u001b[0m         \u001b[0mlogger\u001b[0m\u001b[1;33m.\u001b[0m\u001b[0minfo\u001b[0m\u001b[1;33m(\u001b[0m\u001b[1;34m\"converting temporary corpus to MALLET format with %s\"\u001b[0m\u001b[1;33m,\u001b[0m \u001b[0mcmd\u001b[0m\u001b[1;33m)\u001b[0m\u001b[1;33m\u001b[0m\u001b[0m\n\u001b[1;32m--> 262\u001b[1;33m         \u001b[0mcheck_output\u001b[0m\u001b[1;33m(\u001b[0m\u001b[0margs\u001b[0m\u001b[1;33m=\u001b[0m\u001b[0mcmd\u001b[0m\u001b[1;33m,\u001b[0m \u001b[0mshell\u001b[0m\u001b[1;33m=\u001b[0m\u001b[1;32mTrue\u001b[0m\u001b[1;33m)\u001b[0m\u001b[1;33m\u001b[0m\u001b[0m\n\u001b[0m\u001b[0;32m    263\u001b[0m \u001b[1;33m\u001b[0m\u001b[0m\n\u001b[0;32m    264\u001b[0m     \u001b[1;32mdef\u001b[0m \u001b[0mtrain\u001b[0m\u001b[1;33m(\u001b[0m\u001b[0mself\u001b[0m\u001b[1;33m,\u001b[0m \u001b[0mcorpus\u001b[0m\u001b[1;33m)\u001b[0m\u001b[1;33m:\u001b[0m\u001b[1;33m\u001b[0m\u001b[0m\n",
      "\u001b[1;32mC:\\Program Files\\Anaconda3\\lib\\site-packages\\gensim\\utils.py\u001b[0m in \u001b[0;36mcheck_output\u001b[1;34m(stdout, *popenargs, **kwargs)\u001b[0m\n\u001b[0;32m   1916\u001b[0m             \u001b[0merror\u001b[0m \u001b[1;33m=\u001b[0m \u001b[0msubprocess\u001b[0m\u001b[1;33m.\u001b[0m\u001b[0mCalledProcessError\u001b[0m\u001b[1;33m(\u001b[0m\u001b[0mretcode\u001b[0m\u001b[1;33m,\u001b[0m \u001b[0mcmd\u001b[0m\u001b[1;33m)\u001b[0m\u001b[1;33m\u001b[0m\u001b[0m\n\u001b[0;32m   1917\u001b[0m             \u001b[0merror\u001b[0m\u001b[1;33m.\u001b[0m\u001b[0moutput\u001b[0m \u001b[1;33m=\u001b[0m \u001b[0moutput\u001b[0m\u001b[1;33m\u001b[0m\u001b[0m\n\u001b[1;32m-> 1918\u001b[1;33m             \u001b[1;32mraise\u001b[0m \u001b[0merror\u001b[0m\u001b[1;33m\u001b[0m\u001b[0m\n\u001b[0m\u001b[0;32m   1919\u001b[0m         \u001b[1;32mreturn\u001b[0m \u001b[0moutput\u001b[0m\u001b[1;33m\u001b[0m\u001b[0m\n\u001b[0;32m   1920\u001b[0m     \u001b[1;32mexcept\u001b[0m \u001b[0mKeyboardInterrupt\u001b[0m\u001b[1;33m:\u001b[0m\u001b[1;33m\u001b[0m\u001b[0m\n",
      "\u001b[1;31mCalledProcessError\u001b[0m: Command 'mallet-2.0.8//bin//mallet import-file --preserve-case --keep-sequence --remove-stopwords --token-regex \"\\S+\" --input C:\\Users\\69785hsh\\AppData\\Local\\Temp\\1\\7a9f82_corpus.txt --output C:\\Users\\69785hsh\\AppData\\Local\\Temp\\1\\7a9f82_corpus.mallet' returned non-zero exit status 1."
     ]
    }
   ],
   "source": [
    "ldamallet = gensim.models.wrappers.LdaMallet(mallet_path, corpus=corpus, num_topics=20, id2word=id2word)"
   ]
  },
  {
   "cell_type": "code",
   "execution_count": null,
   "metadata": {},
   "outputs": [],
   "source": []
  }
 ],
 "metadata": {
  "kernelspec": {
   "display_name": "Python 3",
   "language": "python",
   "name": "python3"
  },
  "language_info": {
   "codemirror_mode": {
    "name": "ipython",
    "version": 3
   },
   "file_extension": ".py",
   "mimetype": "text/x-python",
   "name": "python",
   "nbconvert_exporter": "python",
   "pygments_lexer": "ipython3",
   "version": "3.6.3"
  }
 },
 "nbformat": 4,
 "nbformat_minor": 2
}
