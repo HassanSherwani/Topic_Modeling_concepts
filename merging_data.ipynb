{
 "cells": [
  {
   "cell_type": "markdown",
   "metadata": {},
   "source": [
    "# Working on analysis part of topic modeling"
   ]
  },
  {
   "cell_type": "code",
   "execution_count": 1,
   "metadata": {},
   "outputs": [],
   "source": [
    "import warnings\n",
    "warnings.filterwarnings('ignore')"
   ]
  },
  {
   "cell_type": "code",
   "execution_count": 2,
   "metadata": {},
   "outputs": [],
   "source": [
    "import nltk\n",
    "import sys\n",
    "import re, numpy as np, pandas as pd"
   ]
  },
  {
   "cell_type": "code",
   "execution_count": 3,
   "metadata": {},
   "outputs": [
    {
     "name": "stdout",
     "output_type": "stream",
     "text": [
      "Populating the interactive namespace from numpy and matplotlib\n"
     ]
    }
   ],
   "source": [
    "# Visualization \n",
    "import matplotlib.pyplot as plt\n",
    "import seaborn as sns\n",
    "from pprint import pprint\n",
    "%matplotlib inline\n",
    "%pylab inline"
   ]
  },
  {
   "cell_type": "code",
   "execution_count": 4,
   "metadata": {},
   "outputs": [],
   "source": [
    "# Gensim\n",
    "import gensim, spacy, logging, warnings\n",
    "import gensim.corpora as corpora\n",
    "from gensim.utils import lemmatize, simple_preprocess\n",
    "from gensim.models import CoherenceModel"
   ]
  },
  {
   "cell_type": "code",
   "execution_count": 5,
   "metadata": {},
   "outputs": [],
   "source": [
    "# NLTK Stop words\n",
    "from nltk.corpus import stopwords\n",
    "stop_words = stopwords.words('english')\n",
    "stop_words.extend(['from', 'subject', 're', 'edu', 'use', 'not', 'would', 'say', 'could', '_', 'be', 'know', 'good', 'go', 'get', 'do', 'done', 'try', 'many', 'some', 'nice', 'thank', 'think', 'see', 'rather', 'easy', 'easily', 'lot', 'lack', 'make', 'want', 'seem', 'run', 'need', 'even', 'right', 'line', 'even', 'also', 'may', 'take', 'come'])"
   ]
  },
  {
   "cell_type": "markdown",
   "metadata": {},
   "source": [
    "# Loading file"
   ]
  },
  {
   "cell_type": "code",
   "execution_count": 6,
   "metadata": {},
   "outputs": [],
   "source": [
    "import pickle"
   ]
  },
  {
   "cell_type": "code",
   "execution_count": 9,
   "metadata": {},
   "outputs": [],
   "source": [
    "data = pd.read_pickle('top08_topic_dominant.pkl')"
   ]
  },
  {
   "cell_type": "code",
   "execution_count": 10,
   "metadata": {},
   "outputs": [
    {
     "data": {
      "text/plain": [
       "(68762, 5)"
      ]
     },
     "execution_count": 10,
     "metadata": {},
     "output_type": "execute_result"
    }
   ],
   "source": [
    "data.shape"
   ]
  },
  {
   "cell_type": "code",
   "execution_count": 11,
   "metadata": {},
   "outputs": [
    {
     "data": {
      "text/html": [
       "<div>\n",
       "<style scoped>\n",
       "    .dataframe tbody tr th:only-of-type {\n",
       "        vertical-align: middle;\n",
       "    }\n",
       "\n",
       "    .dataframe tbody tr th {\n",
       "        vertical-align: top;\n",
       "    }\n",
       "\n",
       "    .dataframe thead th {\n",
       "        text-align: right;\n",
       "    }\n",
       "</style>\n",
       "<table border=\"1\" class=\"dataframe\">\n",
       "  <thead>\n",
       "    <tr style=\"text-align: right;\">\n",
       "      <th></th>\n",
       "      <th>Document_No</th>\n",
       "      <th>Dominant_Topic</th>\n",
       "      <th>Topic_Perc_Contrib</th>\n",
       "      <th>Keywords</th>\n",
       "      <th>Text</th>\n",
       "    </tr>\n",
       "  </thead>\n",
       "  <tbody>\n",
       "    <tr>\n",
       "      <th>0</th>\n",
       "      <td>0</td>\n",
       "      <td>2.0</td>\n",
       "      <td>0.4404</td>\n",
       "      <td>charge, battery, module, power, electric, syst...</td>\n",
       "      <td>[electrical, energy, system, include, electric...</td>\n",
       "    </tr>\n",
       "    <tr>\n",
       "      <th>1</th>\n",
       "      <td>1</td>\n",
       "      <td>2.0</td>\n",
       "      <td>0.8034</td>\n",
       "      <td>charge, battery, module, power, electric, syst...</td>\n",
       "      <td>[electrical, energy, system, include, electric...</td>\n",
       "    </tr>\n",
       "    <tr>\n",
       "      <th>2</th>\n",
       "      <td>2</td>\n",
       "      <td>0.0</td>\n",
       "      <td>0.4697</td>\n",
       "      <td>catalyst, exhaust, gas, parking, fuel, tempera...</td>\n",
       "      <td>[object, provide, particulate, trap, diesel, e...</td>\n",
       "    </tr>\n",
       "    <tr>\n",
       "      <th>3</th>\n",
       "      <td>3</td>\n",
       "      <td>6.0</td>\n",
       "      <td>0.4055</td>\n",
       "      <td>side, portion, cover, body, housing, part, sur...</td>\n",
       "      <td>[purpose, obtain, trap, leakage, exhaust, gas,...</td>\n",
       "    </tr>\n",
       "    <tr>\n",
       "      <th>4</th>\n",
       "      <td>4</td>\n",
       "      <td>2.0</td>\n",
       "      <td>0.3990</td>\n",
       "      <td>charge, battery, module, power, electric, syst...</td>\n",
       "      <td>[particulate, trap, diesel, engine, design, ef...</td>\n",
       "    </tr>\n",
       "    <tr>\n",
       "      <th>5</th>\n",
       "      <td>5</td>\n",
       "      <td>0.0</td>\n",
       "      <td>0.4922</td>\n",
       "      <td>catalyst, exhaust, gas, parking, fuel, tempera...</td>\n",
       "      <td>[pct, pct_jp_sec_date, pub, mar, object, provi...</td>\n",
       "    </tr>\n",
       "    <tr>\n",
       "      <th>6</th>\n",
       "      <td>6</td>\n",
       "      <td>6.0</td>\n",
       "      <td>0.6130</td>\n",
       "      <td>side, portion, cover, body, housing, part, sur...</td>\n",
       "      <td>[mix, device, gas, fuel, air, internal, combus...</td>\n",
       "    </tr>\n",
       "    <tr>\n",
       "      <th>7</th>\n",
       "      <td>7</td>\n",
       "      <td>6.0</td>\n",
       "      <td>0.5955</td>\n",
       "      <td>side, portion, cover, body, housing, part, sur...</td>\n",
       "      <td>[mix, device, gas, fuel, air, internal, combus...</td>\n",
       "    </tr>\n",
       "    <tr>\n",
       "      <th>8</th>\n",
       "      <td>8</td>\n",
       "      <td>6.0</td>\n",
       "      <td>0.5115</td>\n",
       "      <td>side, portion, cover, body, housing, part, sur...</td>\n",
       "      <td>[area, mouth, injector, construct, flow, guide...</td>\n",
       "    </tr>\n",
       "    <tr>\n",
       "      <th>9</th>\n",
       "      <td>9</td>\n",
       "      <td>5.0</td>\n",
       "      <td>0.8511</td>\n",
       "      <td>air, gas, fuel, exhaust, tank, pipe, pressure,...</td>\n",
       "      <td>[internal, combustion, engine, least, injectio...</td>\n",
       "    </tr>\n",
       "  </tbody>\n",
       "</table>\n",
       "</div>"
      ],
      "text/plain": [
       "   Document_No  Dominant_Topic  Topic_Perc_Contrib  \\\n",
       "0            0             2.0              0.4404   \n",
       "1            1             2.0              0.8034   \n",
       "2            2             0.0              0.4697   \n",
       "3            3             6.0              0.4055   \n",
       "4            4             2.0              0.3990   \n",
       "5            5             0.0              0.4922   \n",
       "6            6             6.0              0.6130   \n",
       "7            7             6.0              0.5955   \n",
       "8            8             6.0              0.5115   \n",
       "9            9             5.0              0.8511   \n",
       "\n",
       "                                            Keywords  \\\n",
       "0  charge, battery, module, power, electric, syst...   \n",
       "1  charge, battery, module, power, electric, syst...   \n",
       "2  catalyst, exhaust, gas, parking, fuel, tempera...   \n",
       "3  side, portion, cover, body, housing, part, sur...   \n",
       "4  charge, battery, module, power, electric, syst...   \n",
       "5  catalyst, exhaust, gas, parking, fuel, tempera...   \n",
       "6  side, portion, cover, body, housing, part, sur...   \n",
       "7  side, portion, cover, body, housing, part, sur...   \n",
       "8  side, portion, cover, body, housing, part, sur...   \n",
       "9  air, gas, fuel, exhaust, tank, pipe, pressure,...   \n",
       "\n",
       "                                                Text  \n",
       "0  [electrical, energy, system, include, electric...  \n",
       "1  [electrical, energy, system, include, electric...  \n",
       "2  [object, provide, particulate, trap, diesel, e...  \n",
       "3  [purpose, obtain, trap, leakage, exhaust, gas,...  \n",
       "4  [particulate, trap, diesel, engine, design, ef...  \n",
       "5  [pct, pct_jp_sec_date, pub, mar, object, provi...  \n",
       "6  [mix, device, gas, fuel, air, internal, combus...  \n",
       "7  [mix, device, gas, fuel, air, internal, combus...  \n",
       "8  [area, mouth, injector, construct, flow, guide...  \n",
       "9  [internal, combustion, engine, least, injectio...  "
      ]
     },
     "execution_count": 11,
     "metadata": {},
     "output_type": "execute_result"
    }
   ],
   "source": [
    "data.head(10)"
   ]
  },
  {
   "cell_type": "code",
   "execution_count": 12,
   "metadata": {},
   "outputs": [
    {
     "data": {
      "text/plain": [
       "0.0     4470\n",
       "4.0     4699\n",
       "6.0     7048\n",
       "5.0     7338\n",
       "3.0     7860\n",
       "2.0    10316\n",
       "7.0    11195\n",
       "1.0    15836\n",
       "Name: Dominant_Topic, dtype: int64"
      ]
     },
     "execution_count": 12,
     "metadata": {},
     "output_type": "execute_result"
    }
   ],
   "source": [
    "data.Dominant_Topic.value_counts(ascending=True)"
   ]
  },
  {
   "cell_type": "markdown",
   "metadata": {},
   "source": [
    "above table shows Number of patents applications within specific topic"
   ]
  },
  {
   "cell_type": "markdown",
   "metadata": {},
   "source": [
    "# Calculating patent share"
   ]
  },
  {
   "cell_type": "code",
   "execution_count": 13,
   "metadata": {},
   "outputs": [
    {
     "data": {
      "text/plain": [
       "68762"
      ]
     },
     "execution_count": 13,
     "metadata": {},
     "output_type": "execute_result"
    }
   ],
   "source": [
    "len(data)"
   ]
  },
  {
   "cell_type": "code",
   "execution_count": 14,
   "metadata": {},
   "outputs": [
    {
     "data": {
      "text/plain": [
       "1.0    0.230302\n",
       "7.0    0.162808\n",
       "2.0    0.150025\n",
       "3.0    0.114307\n",
       "5.0    0.106716\n",
       "6.0    0.102498\n",
       "4.0    0.068337\n",
       "0.0    0.065007\n",
       "Name: Dominant_Topic, dtype: float64"
      ]
     },
     "execution_count": 14,
     "metadata": {},
     "output_type": "execute_result"
    }
   ],
   "source": [
    "data.Dominant_Topic.value_counts(normalize=True)"
   ]
  },
  {
   "cell_type": "code",
   "execution_count": 15,
   "metadata": {},
   "outputs": [
    {
     "data": {
      "text/plain": [
       "3.4348477356679563"
      ]
     },
     "execution_count": 15,
     "metadata": {},
     "output_type": "execute_result"
    }
   ],
   "source": [
    "data.Dominant_Topic.mean()"
   ]
  },
  {
   "cell_type": "markdown",
   "metadata": {},
   "source": [
    " # 2)-Trends in the number and the share of patents by topics\n",
    " \n",
    " (a) Change in the number of patents over filing year <br>\n",
    " (b) Change in the share of patents over filing year"
   ]
  },
  {
   "cell_type": "markdown",
   "metadata": {},
   "source": [
    "### 2(a) Change in the number of patents over filing year"
   ]
  },
  {
   "cell_type": "code",
   "execution_count": 24,
   "metadata": {
    "scrolled": true
   },
   "outputs": [
    {
     "data": {
      "text/plain": [
       "(68764, 35)"
      ]
     },
     "execution_count": 24,
     "metadata": {},
     "output_type": "execute_result"
    }
   ],
   "source": [
    "import pickle\n",
    "#Loading from firm cleaned file\n",
    "patent = pd.read_pickle('patent_firm_full_clean.pkl')\n",
    "patent.shape"
   ]
  },
  {
   "cell_type": "markdown",
   "metadata": {},
   "source": [
    "**Working with time series and only taking years instead of month and day**"
   ]
  },
  {
   "cell_type": "code",
   "execution_count": 25,
   "metadata": {},
   "outputs": [],
   "source": [
    "filling_date= patent.earliest_filing_date"
   ]
  },
  {
   "cell_type": "code",
   "execution_count": 26,
   "metadata": {},
   "outputs": [],
   "source": [
    "patent['application_date']= pd.to_datetime(filling_date)"
   ]
  },
  {
   "cell_type": "code",
   "execution_count": 27,
   "metadata": {},
   "outputs": [
    {
     "data": {
      "text/plain": [
       "0   1990-07-19\n",
       "1   1990-07-19\n",
       "2   1995-02-28\n",
       "3   1995-02-28\n",
       "4   1995-02-28\n",
       "Name: application_date, dtype: datetime64[ns]"
      ]
     },
     "execution_count": 27,
     "metadata": {},
     "output_type": "execute_result"
    }
   ],
   "source": [
    "patent.application_date[:5]"
   ]
  },
  {
   "cell_type": "markdown",
   "metadata": {},
   "source": [
    "we need to only take care of year and not date and month"
   ]
  },
  {
   "cell_type": "code",
   "execution_count": 29,
   "metadata": {},
   "outputs": [
    {
     "data": {
      "text/html": [
       "<div>\n",
       "<style scoped>\n",
       "    .dataframe tbody tr th:only-of-type {\n",
       "        vertical-align: middle;\n",
       "    }\n",
       "\n",
       "    .dataframe tbody tr th {\n",
       "        vertical-align: top;\n",
       "    }\n",
       "\n",
       "    .dataframe thead th {\n",
       "        text-align: right;\n",
       "    }\n",
       "</style>\n",
       "<table border=\"1\" class=\"dataframe\">\n",
       "  <thead>\n",
       "    <tr style=\"text-align: right;\">\n",
       "      <th></th>\n",
       "      <th>appln</th>\n",
       "      <th>appln_id</th>\n",
       "      <th>family_id</th>\n",
       "      <th>sets</th>\n",
       "      <th>direct</th>\n",
       "      <th>granted</th>\n",
       "      <th>earliest_appln</th>\n",
       "      <th>earliest_filing_date</th>\n",
       "      <th>publn_date</th>\n",
       "      <th>publn</th>\n",
       "      <th>...</th>\n",
       "      <th>citing_appln</th>\n",
       "      <th>citing_appln_id</th>\n",
       "      <th>citing_family_id</th>\n",
       "      <th>num_citing_family</th>\n",
       "      <th>earliest_applt</th>\n",
       "      <th>current_applt</th>\n",
       "      <th>appln_title</th>\n",
       "      <th>appln_abstr</th>\n",
       "      <th>assignee</th>\n",
       "      <th>application_date</th>\n",
       "    </tr>\n",
       "  </thead>\n",
       "  <tbody>\n",
       "    <tr>\n",
       "      <th>68534</th>\n",
       "      <td>AU2018100117A</td>\n",
       "      <td>490768723</td>\n",
       "      <td>61249370</td>\n",
       "      <td>4</td>\n",
       "      <td>1</td>\n",
       "      <td>1</td>\n",
       "      <td>AU2018100117A</td>\n",
       "      <td>2018-01-26</td>\n",
       "      <td>2018-03-01</td>\n",
       "      <td>AU2018100117A4</td>\n",
       "      <td>...</td>\n",
       "      <td>NaN</td>\n",
       "      <td>NaN</td>\n",
       "      <td>NaN</td>\n",
       "      <td>0</td>\n",
       "      <td>ECODRIVE SOLUTIONS LIMITED</td>\n",
       "      <td>ECODRIVE SOLUTIONS LIMITED</td>\n",
       "      <td>IMPROVED OPPOSED-PISTON INTERNAL COMBUSTION EN...</td>\n",
       "      <td>An improved engine directed to a Low friction ...</td>\n",
       "      <td>ecodrive solutions limited</td>\n",
       "      <td>2018-01-26</td>\n",
       "    </tr>\n",
       "    <tr>\n",
       "      <th>68659</th>\n",
       "      <td>KR20180006209A</td>\n",
       "      <td>492385235</td>\n",
       "      <td>61688642</td>\n",
       "      <td>2</td>\n",
       "      <td>1</td>\n",
       "      <td>1</td>\n",
       "      <td>KR20180006209A</td>\n",
       "      <td>2018-01-17</td>\n",
       "      <td>2018-03-07</td>\n",
       "      <td>KR101836061B1</td>\n",
       "      <td>...</td>\n",
       "      <td>NaN</td>\n",
       "      <td>NaN</td>\n",
       "      <td>NaN</td>\n",
       "      <td>0</td>\n",
       "      <td>KANG, IN SU</td>\n",
       "      <td>KANG, IN SU</td>\n",
       "      <td>AUTONOMOUS ELECTRIC VEHICLE</td>\n",
       "      <td>The present invention relates to an autonomous...</td>\n",
       "      <td>kang in su</td>\n",
       "      <td>2018-01-17</td>\n",
       "    </tr>\n",
       "  </tbody>\n",
       "</table>\n",
       "<p>2 rows × 36 columns</p>\n",
       "</div>"
      ],
      "text/plain": [
       "                appln   appln_id  family_id  sets  direct  granted  \\\n",
       "68534   AU2018100117A  490768723   61249370     4       1        1   \n",
       "68659  KR20180006209A  492385235   61688642     2       1        1   \n",
       "\n",
       "       earliest_appln earliest_filing_date  publn_date           publn  \\\n",
       "68534   AU2018100117A           2018-01-26  2018-03-01  AU2018100117A4   \n",
       "68659  KR20180006209A           2018-01-17  2018-03-07   KR101836061B1   \n",
       "\n",
       "            ...        citing_appln citing_appln_id  citing_family_id  \\\n",
       "68534       ...                 NaN             NaN               NaN   \n",
       "68659       ...                 NaN             NaN               NaN   \n",
       "\n",
       "      num_citing_family              earliest_applt  \\\n",
       "68534                 0  ECODRIVE SOLUTIONS LIMITED   \n",
       "68659                 0                 KANG, IN SU   \n",
       "\n",
       "                    current_applt  \\\n",
       "68534  ECODRIVE SOLUTIONS LIMITED   \n",
       "68659                 KANG, IN SU   \n",
       "\n",
       "                                             appln_title  \\\n",
       "68534  IMPROVED OPPOSED-PISTON INTERNAL COMBUSTION EN...   \n",
       "68659                        AUTONOMOUS ELECTRIC VEHICLE   \n",
       "\n",
       "                                             appln_abstr  \\\n",
       "68534  An improved engine directed to a Low friction ...   \n",
       "68659  The present invention relates to an autonomous...   \n",
       "\n",
       "                         assignee application_date  \n",
       "68534  ecodrive solutions limited       2018-01-26  \n",
       "68659                  kang in su       2018-01-17  \n",
       "\n",
       "[2 rows x 36 columns]"
      ]
     },
     "execution_count": 29,
     "metadata": {},
     "output_type": "execute_result"
    }
   ],
   "source": [
    "patent[patent.application_date.dt.year== 2018]"
   ]
  },
  {
   "cell_type": "code",
   "execution_count": 30,
   "metadata": {},
   "outputs": [],
   "source": [
    "# Remove only two rows with year 2018\n",
    "patent.drop([68534,68659], axis=0, inplace=True)"
   ]
  },
  {
   "cell_type": "code",
   "execution_count": 31,
   "metadata": {},
   "outputs": [
    {
     "data": {
      "text/html": [
       "<div>\n",
       "<style scoped>\n",
       "    .dataframe tbody tr th:only-of-type {\n",
       "        vertical-align: middle;\n",
       "    }\n",
       "\n",
       "    .dataframe tbody tr th {\n",
       "        vertical-align: top;\n",
       "    }\n",
       "\n",
       "    .dataframe thead th {\n",
       "        text-align: right;\n",
       "    }\n",
       "</style>\n",
       "<table border=\"1\" class=\"dataframe\">\n",
       "  <thead>\n",
       "    <tr style=\"text-align: right;\">\n",
       "      <th></th>\n",
       "      <th>appln</th>\n",
       "      <th>appln_id</th>\n",
       "      <th>family_id</th>\n",
       "      <th>sets</th>\n",
       "      <th>direct</th>\n",
       "      <th>granted</th>\n",
       "      <th>earliest_appln</th>\n",
       "      <th>earliest_filing_date</th>\n",
       "      <th>publn_date</th>\n",
       "      <th>publn</th>\n",
       "      <th>...</th>\n",
       "      <th>citing_appln</th>\n",
       "      <th>citing_appln_id</th>\n",
       "      <th>citing_family_id</th>\n",
       "      <th>num_citing_family</th>\n",
       "      <th>earliest_applt</th>\n",
       "      <th>current_applt</th>\n",
       "      <th>appln_title</th>\n",
       "      <th>appln_abstr</th>\n",
       "      <th>assignee</th>\n",
       "      <th>application_date</th>\n",
       "    </tr>\n",
       "  </thead>\n",
       "  <tbody>\n",
       "  </tbody>\n",
       "</table>\n",
       "<p>0 rows × 36 columns</p>\n",
       "</div>"
      ],
      "text/plain": [
       "Empty DataFrame\n",
       "Columns: [appln, appln_id, family_id, sets, direct, granted, earliest_appln, earliest_filing_date, publn_date, publn, publn_first_grant, publn_claims, num_cpc_class, cpc_class, num_ipc_class, ipc_class, num_cited_publn, cited_publn_date, cited_publn, cited_appln, cited_appln_id, cited_family_id, num_cited_family, num_citing_publn, citing_publn_date, citing_publn, citing_appln, citing_appln_id, citing_family_id, num_citing_family, earliest_applt, current_applt, appln_title, appln_abstr, assignee, application_date]\n",
       "Index: []\n",
       "\n",
       "[0 rows x 36 columns]"
      ]
     },
     "execution_count": 31,
     "metadata": {},
     "output_type": "execute_result"
    }
   ],
   "source": [
    "patent[patent.application_date.dt.year== 2018]"
   ]
  },
  {
   "cell_type": "code",
   "execution_count": 43,
   "metadata": {},
   "outputs": [],
   "source": [
    "data['year']=patent['application_date'].dt.year"
   ]
  },
  {
   "cell_type": "code",
   "execution_count": 44,
   "metadata": {},
   "outputs": [
    {
     "data": {
      "text/html": [
       "<div>\n",
       "<style scoped>\n",
       "    .dataframe tbody tr th:only-of-type {\n",
       "        vertical-align: middle;\n",
       "    }\n",
       "\n",
       "    .dataframe tbody tr th {\n",
       "        vertical-align: top;\n",
       "    }\n",
       "\n",
       "    .dataframe thead th {\n",
       "        text-align: right;\n",
       "    }\n",
       "</style>\n",
       "<table border=\"1\" class=\"dataframe\">\n",
       "  <thead>\n",
       "    <tr style=\"text-align: right;\">\n",
       "      <th></th>\n",
       "      <th>Document_No</th>\n",
       "      <th>Dominant_Topic</th>\n",
       "      <th>Topic_Perc_Contrib</th>\n",
       "      <th>Keywords</th>\n",
       "      <th>Text</th>\n",
       "      <th>year</th>\n",
       "    </tr>\n",
       "  </thead>\n",
       "  <tbody>\n",
       "    <tr>\n",
       "      <th>0</th>\n",
       "      <td>0</td>\n",
       "      <td>2.0</td>\n",
       "      <td>0.4404</td>\n",
       "      <td>charge, battery, module, power, electric, syst...</td>\n",
       "      <td>[electrical, energy, system, include, electric...</td>\n",
       "      <td>1990.0</td>\n",
       "    </tr>\n",
       "    <tr>\n",
       "      <th>1</th>\n",
       "      <td>1</td>\n",
       "      <td>2.0</td>\n",
       "      <td>0.8034</td>\n",
       "      <td>charge, battery, module, power, electric, syst...</td>\n",
       "      <td>[electrical, energy, system, include, electric...</td>\n",
       "      <td>1990.0</td>\n",
       "    </tr>\n",
       "    <tr>\n",
       "      <th>2</th>\n",
       "      <td>2</td>\n",
       "      <td>0.0</td>\n",
       "      <td>0.4697</td>\n",
       "      <td>catalyst, exhaust, gas, parking, fuel, tempera...</td>\n",
       "      <td>[object, provide, particulate, trap, diesel, e...</td>\n",
       "      <td>1995.0</td>\n",
       "    </tr>\n",
       "    <tr>\n",
       "      <th>3</th>\n",
       "      <td>3</td>\n",
       "      <td>6.0</td>\n",
       "      <td>0.4055</td>\n",
       "      <td>side, portion, cover, body, housing, part, sur...</td>\n",
       "      <td>[purpose, obtain, trap, leakage, exhaust, gas,...</td>\n",
       "      <td>1995.0</td>\n",
       "    </tr>\n",
       "    <tr>\n",
       "      <th>4</th>\n",
       "      <td>4</td>\n",
       "      <td>2.0</td>\n",
       "      <td>0.3990</td>\n",
       "      <td>charge, battery, module, power, electric, syst...</td>\n",
       "      <td>[particulate, trap, diesel, engine, design, ef...</td>\n",
       "      <td>1995.0</td>\n",
       "    </tr>\n",
       "  </tbody>\n",
       "</table>\n",
       "</div>"
      ],
      "text/plain": [
       "   Document_No  Dominant_Topic  Topic_Perc_Contrib  \\\n",
       "0            0             2.0              0.4404   \n",
       "1            1             2.0              0.8034   \n",
       "2            2             0.0              0.4697   \n",
       "3            3             6.0              0.4055   \n",
       "4            4             2.0              0.3990   \n",
       "\n",
       "                                            Keywords  \\\n",
       "0  charge, battery, module, power, electric, syst...   \n",
       "1  charge, battery, module, power, electric, syst...   \n",
       "2  catalyst, exhaust, gas, parking, fuel, tempera...   \n",
       "3  side, portion, cover, body, housing, part, sur...   \n",
       "4  charge, battery, module, power, electric, syst...   \n",
       "\n",
       "                                                Text    year  \n",
       "0  [electrical, energy, system, include, electric...  1990.0  \n",
       "1  [electrical, energy, system, include, electric...  1990.0  \n",
       "2  [object, provide, particulate, trap, diesel, e...  1995.0  \n",
       "3  [purpose, obtain, trap, leakage, exhaust, gas,...  1995.0  \n",
       "4  [particulate, trap, diesel, engine, design, ef...  1995.0  "
      ]
     },
     "execution_count": 44,
     "metadata": {},
     "output_type": "execute_result"
    }
   ],
   "source": [
    "data.head()"
   ]
  },
  {
   "cell_type": "code",
   "execution_count": 38,
   "metadata": {},
   "outputs": [
    {
     "data": {
      "text/plain": [
       "pandas.core.frame.DataFrame"
      ]
     },
     "execution_count": 38,
     "metadata": {},
     "output_type": "execute_result"
    }
   ],
   "source": [
    "type(data)"
   ]
  },
  {
   "cell_type": "code",
   "execution_count": 39,
   "metadata": {},
   "outputs": [
    {
     "data": {
      "text/plain": [
       "2011.0    5737\n",
       "2012.0    5242\n",
       "2010.0    4659\n",
       "2013.0    4247\n",
       "2009.0    3754\n",
       "2006.0    3498\n",
       "2007.0    3444\n",
       "2014.0    3420\n",
       "2008.0    3259\n",
       "2015.0    2686\n",
       "2005.0    2641\n",
       "2003.0    2431\n",
       "2004.0    2310\n",
       "2001.0    2267\n",
       "2002.0    2219\n",
       "2000.0    2211\n",
       "1999.0    2003\n",
       "1998.0    1726\n",
       "1997.0    1581\n",
       "2016.0    1568\n",
       "1996.0    1483\n",
       "1995.0    1285\n",
       "1993.0    1205\n",
       "1994.0    1154\n",
       "1992.0    1008\n",
       "1991.0     732\n",
       "1990.0     631\n",
       "2017.0     359\n",
       "Name: year, dtype: int64"
      ]
     },
     "execution_count": 39,
     "metadata": {},
     "output_type": "execute_result"
    }
   ],
   "source": [
    "data.year.value_counts()"
   ]
  },
  {
   "cell_type": "code",
   "execution_count": 40,
   "metadata": {},
   "outputs": [
    {
     "data": {
      "text/plain": [
       "<matplotlib.axes._subplots.AxesSubplot at 0x19281709fd0>"
      ]
     },
     "execution_count": 40,
     "metadata": {},
     "output_type": "execute_result"
    },
    {
     "data": {
      "image/png": "[encoded data removed]",
      "text/plain": [
       "<matplotlib.figure.Figure at 0x192c8c4c438>"
      ]
     },
     "metadata": {
      "needs_background": "light"
     },
     "output_type": "display_data"
    }
   ],
   "source": [
    "data.year.value_counts().plot(kind='bar')"
   ]
  },
  {
   "cell_type": "code",
   "execution_count": 45,
   "metadata": {},
   "outputs": [],
   "source": [
    "data['assignee']=patent.assignee"
   ]
  },
  {
   "cell_type": "code",
   "execution_count": 46,
   "metadata": {},
   "outputs": [
    {
     "data": {
      "text/html": [
       "<div>\n",
       "<style scoped>\n",
       "    .dataframe tbody tr th:only-of-type {\n",
       "        vertical-align: middle;\n",
       "    }\n",
       "\n",
       "    .dataframe tbody tr th {\n",
       "        vertical-align: top;\n",
       "    }\n",
       "\n",
       "    .dataframe thead th {\n",
       "        text-align: right;\n",
       "    }\n",
       "</style>\n",
       "<table border=\"1\" class=\"dataframe\">\n",
       "  <thead>\n",
       "    <tr style=\"text-align: right;\">\n",
       "      <th></th>\n",
       "      <th>Document_No</th>\n",
       "      <th>Dominant_Topic</th>\n",
       "      <th>Topic_Perc_Contrib</th>\n",
       "      <th>Keywords</th>\n",
       "      <th>Text</th>\n",
       "      <th>year</th>\n",
       "      <th>assignee</th>\n",
       "    </tr>\n",
       "  </thead>\n",
       "  <tbody>\n",
       "    <tr>\n",
       "      <th>0</th>\n",
       "      <td>0</td>\n",
       "      <td>2.0</td>\n",
       "      <td>0.4404</td>\n",
       "      <td>charge, battery, module, power, electric, syst...</td>\n",
       "      <td>[electrical, energy, system, include, electric...</td>\n",
       "      <td>1990.0</td>\n",
       "      <td>luz electric fuel israel ltd</td>\n",
       "    </tr>\n",
       "    <tr>\n",
       "      <th>1</th>\n",
       "      <td>1</td>\n",
       "      <td>2.0</td>\n",
       "      <td>0.8034</td>\n",
       "      <td>charge, battery, module, power, electric, syst...</td>\n",
       "      <td>[electrical, energy, system, include, electric...</td>\n",
       "      <td>1990.0</td>\n",
       "      <td>luz electric fuel israel ltd</td>\n",
       "    </tr>\n",
       "    <tr>\n",
       "      <th>2</th>\n",
       "      <td>2</td>\n",
       "      <td>0.0</td>\n",
       "      <td>0.4697</td>\n",
       "      <td>catalyst, exhaust, gas, parking, fuel, tempera...</td>\n",
       "      <td>[object, provide, particulate, trap, diesel, e...</td>\n",
       "      <td>1995.0</td>\n",
       "      <td>sumitomo electric industries ltd</td>\n",
       "    </tr>\n",
       "    <tr>\n",
       "      <th>3</th>\n",
       "      <td>3</td>\n",
       "      <td>6.0</td>\n",
       "      <td>0.4055</td>\n",
       "      <td>side, portion, cover, body, housing, part, sur...</td>\n",
       "      <td>[purpose, obtain, trap, leakage, exhaust, gas,...</td>\n",
       "      <td>1995.0</td>\n",
       "      <td>sumitomo electric ind ltd</td>\n",
       "    </tr>\n",
       "    <tr>\n",
       "      <th>4</th>\n",
       "      <td>4</td>\n",
       "      <td>2.0</td>\n",
       "      <td>0.3990</td>\n",
       "      <td>charge, battery, module, power, electric, syst...</td>\n",
       "      <td>[particulate, trap, diesel, engine, design, ef...</td>\n",
       "      <td>1995.0</td>\n",
       "      <td>sumitomo electric industries ltd</td>\n",
       "    </tr>\n",
       "  </tbody>\n",
       "</table>\n",
       "</div>"
      ],
      "text/plain": [
       "   Document_No  Dominant_Topic  Topic_Perc_Contrib  \\\n",
       "0            0             2.0              0.4404   \n",
       "1            1             2.0              0.8034   \n",
       "2            2             0.0              0.4697   \n",
       "3            3             6.0              0.4055   \n",
       "4            4             2.0              0.3990   \n",
       "\n",
       "                                            Keywords  \\\n",
       "0  charge, battery, module, power, electric, syst...   \n",
       "1  charge, battery, module, power, electric, syst...   \n",
       "2  catalyst, exhaust, gas, parking, fuel, tempera...   \n",
       "3  side, portion, cover, body, housing, part, sur...   \n",
       "4  charge, battery, module, power, electric, syst...   \n",
       "\n",
       "                                                Text    year  \\\n",
       "0  [electrical, energy, system, include, electric...  1990.0   \n",
       "1  [electrical, energy, system, include, electric...  1990.0   \n",
       "2  [object, provide, particulate, trap, diesel, e...  1995.0   \n",
       "3  [purpose, obtain, trap, leakage, exhaust, gas,...  1995.0   \n",
       "4  [particulate, trap, diesel, engine, design, ef...  1995.0   \n",
       "\n",
       "                           assignee  \n",
       "0      luz electric fuel israel ltd  \n",
       "1      luz electric fuel israel ltd  \n",
       "2  sumitomo electric industries ltd  \n",
       "3         sumitomo electric ind ltd  \n",
       "4  sumitomo electric industries ltd  "
      ]
     },
     "execution_count": 46,
     "metadata": {},
     "output_type": "execute_result"
    }
   ],
   "source": [
    "data.head()"
   ]
  },
  {
   "cell_type": "code",
   "execution_count": 47,
   "metadata": {},
   "outputs": [
    {
     "data": {
      "text/plain": [
       "(68762, 7)"
      ]
     },
     "execution_count": 47,
     "metadata": {},
     "output_type": "execute_result"
    }
   ],
   "source": [
    "data.shape"
   ]
  },
  {
   "cell_type": "code",
   "execution_count": 49,
   "metadata": {},
   "outputs": [
    {
     "data": {
      "text/plain": [
       "Document_No             int64\n",
       "Dominant_Topic        float64\n",
       "Topic_Perc_Contrib    float64\n",
       "Keywords               object\n",
       "Text                   object\n",
       "year                  float64\n",
       "assignee               object\n",
       "dtype: object"
      ]
     },
     "execution_count": 49,
     "metadata": {},
     "output_type": "execute_result"
    }
   ],
   "source": [
    "data.dtypes"
   ]
  },
  {
   "cell_type": "code",
   "execution_count": 48,
   "metadata": {},
   "outputs": [],
   "source": [
    "data.to_pickle('work_on_data.pkl')"
   ]
  }
 ],
 "metadata": {
  "kernelspec": {
   "display_name": "Python 3",
   "language": "python",
   "name": "python3"
  },
  "language_info": {
   "codemirror_mode": {
    "name": "ipython",
    "version": 3
   },
   "file_extension": ".py",
   "mimetype": "text/x-python",
   "name": "python",
   "nbconvert_exporter": "python",
   "pygments_lexer": "ipython3",
   "version": "3.6.3"
  }
 },
 "nbformat": 4,
 "nbformat_minor": 2
}
