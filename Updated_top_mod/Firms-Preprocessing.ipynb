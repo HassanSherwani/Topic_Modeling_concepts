{
 "cells": [
  {
   "cell_type": "markdown",
   "metadata": {},
   "source": [
    "# Working on firm level data"
   ]
  },
  {
   "cell_type": "code",
   "execution_count": null,
   "metadata": {},
   "outputs": [],
   "source": []
  },
  {
   "cell_type": "code",
   "execution_count": 1,
   "metadata": {},
   "outputs": [],
   "source": [
    "import pandas as pd\n",
    "import nltk\n",
    "import numpy as np\n",
    "import requests\n",
    "import pickle"
   ]
  },
  {
   "cell_type": "code",
   "execution_count": 2,
   "metadata": {},
   "outputs": [],
   "source": [
    "patents_new=pd.read_csv('patent_all_en_new.csv')"
   ]
  },
  {
   "cell_type": "code",
   "execution_count": 3,
   "metadata": {},
   "outputs": [],
   "source": [
    "#patents_new[patents_new.current_applt=='TOYOTA MOTOR CORP']"
   ]
  },
  {
   "cell_type": "code",
   "execution_count": 4,
   "metadata": {},
   "outputs": [],
   "source": [
    "#ri[ri.violation == 'Speeding'].driver_gender.value_counts()"
   ]
  },
  {
   "cell_type": "code",
   "execution_count": 5,
   "metadata": {},
   "outputs": [],
   "source": [
    "assignee=patents_new['current_applt']"
   ]
  },
  {
   "cell_type": "code",
   "execution_count": null,
   "metadata": {},
   "outputs": [],
   "source": []
  },
  {
   "cell_type": "code",
   "execution_count": null,
   "metadata": {},
   "outputs": [],
   "source": []
  },
  {
   "cell_type": "code",
   "execution_count": 6,
   "metadata": {},
   "outputs": [],
   "source": [
    "# remove punctuation\n",
    "assignee = patents_new['current_applt'].str.replace('[^\\w\\s]','')"
   ]
  },
  {
   "cell_type": "code",
   "execution_count": 7,
   "metadata": {},
   "outputs": [],
   "source": [
    "assignee = patents_new['current_applt'].replace(\".\", \"\") "
   ]
  },
  {
   "cell_type": "code",
   "execution_count": 8,
   "metadata": {},
   "outputs": [],
   "source": [
    "assignee = patents_new['current_applt'].str.replace('\\[.*?\\]','')"
   ]
  },
  {
   "cell_type": "code",
   "execution_count": 9,
   "metadata": {},
   "outputs": [],
   "source": [
    "assignee = patents_new['current_applt'].str.replace(\",\",\"\")"
   ]
  },
  {
   "cell_type": "code",
   "execution_count": 10,
   "metadata": {},
   "outputs": [],
   "source": [
    "assignee=patents_new['current_applt'].str.split()"
   ]
  },
  {
   "cell_type": "code",
   "execution_count": 11,
   "metadata": {},
   "outputs": [],
   "source": [
    "assignee=patents_new['current_applt'].str.lower()"
   ]
  },
  {
   "cell_type": "code",
   "execution_count": null,
   "metadata": {},
   "outputs": [],
   "source": []
  },
  {
   "cell_type": "code",
   "execution_count": 12,
   "metadata": {},
   "outputs": [],
   "source": [
    "patents_new['assignee']=assignee"
   ]
  },
  {
   "cell_type": "code",
   "execution_count": 13,
   "metadata": {},
   "outputs": [
    {
     "data": {
      "text/plain": [
       "toyota motor corp                                                                                                                                  3602\n",
       "toyota jidosha kabushiki kaisha                                                                                                                    3543\n",
       "robert bosch gmbh                                                                                                                                  2653\n",
       "hyundai motor company                                                                                                                              2230\n",
       "honda motor co ltd                                                                                                                                 1903\n",
       "nissan motor co ltd                                                                                                                                1374\n",
       "honda motor co., ltd.                                                                                                                              1196\n",
       "ford global technologies, llc                                                                                                                      1192\n",
       "nissan motor co., ltd.                                                                                                                             1140\n",
       "honda giken kogyo kabushiki kaisha                                                                                                                  766\n",
       "denso corp                                                                                                                                          603\n",
       "peugeot citroen automobiles sa                                                                                                                      598\n",
       "toyota motor corporation                                                                                                                            474\n",
       "mitsubishi motors corp                                                                                                                              457\n",
       "hitachi, ltd.                                                                                                                                       408\n",
       "denso corporation                                                                                                                                   337\n",
       "daimlerchrysler ag                                                                                                                                  335\n",
       "continental automotive gmbh                                                                                                                         316\n",
       "toyota motor co., ltd.                                                                                                                              312\n",
       "hitachi ltd                                                                                                                                         307\n",
       "siemens aktiengesellschaft                                                                                                                          285\n",
       "gm global technology operations llc                                                                                                                 285\n",
       "yamaha hatsudoki kabushiki kaisha                                                                                                                   280\n",
       "suzuki motor corp                                                                                                                                   272\n",
       "mitsubishi electric corp                                                                                                                            269\n",
       "mitsubishi jidosha kogyo kabushiki kaisha                                                                                                           269\n",
       "mazda motor corp                                                                                                                                    268\n",
       "renault s.a.s.                                                                                                                                      240\n",
       "suzuki motor corporation                                                                                                                            229\n",
       "audi ag                                                                                                                                             226\n",
       "                                                                                                                                                   ... \n",
       "wickman; dominic                                                                                                                                      1\n",
       "shangdong shifeng (group) co., ltd.                                                                                                                   1\n",
       "ito, takao                                                                                                                                            1\n",
       "fujian zhongqing automobile technology co., ltd.                                                                                                      1\n",
       "zhang zhongdong                                                                                                                                       1\n",
       "s and d powernics. co., ltd.                                                                                                                          1\n",
       "gillingham, brian r.                                                                                                                                  1\n",
       "beijing feb. 7th railway transportation equipmentco., ltd.                                                                                            1\n",
       "saito, shingo                                                                                                                                         1\n",
       "sacarto; walter e.                                                                                                                                    1\n",
       "wuling diesel engine, co., ltd., jiangsu                                                                                                              1\n",
       "wuxi longsheng technology co., ltd.                                                                                                                   1\n",
       "wang mingyi                                                                                                                                           1\n",
       "hortop, matthew k.                                                                                                                                    1\n",
       "longkou longbeng fuel injection co., ltd.                                                                                                             1\n",
       "oao 'motorostroitel''                                                                                                                                 1\n",
       "wang jiuyu                                                                                                                                            1\n",
       "brooks, alexander nelson                                                                                                                              1\n",
       "invacare corp.                                                                                                                                        1\n",
       "national pingtung university of science & technology                                                                                                  1\n",
       "academician v. lazarian dnipropetrovsk national university of railway transport                                                                       1\n",
       "taguchi, shinya                                                                                                                                       1\n",
       "loftus, michael edward                                                                                                                                1\n",
       "federal'noe gosudarstvennoe obrazovatel'noe uchrezhdenie vysshego professional'nogo obrazovanija 'gorskij gosudarstvennyj agrarnyj universitet'       1\n",
       "ammermann, stephan                                                                                                                                    1\n",
       "beijing bron s&t ltd.                                                                                                                                 1\n",
       "duvinage frank                                                                                                                                        1\n",
       "huangshan hanhe carbon fiber technology co., ltd.                                                                                                     1\n",
       "peterson, joshua a.                                                                                                                                   1\n",
       "yang shuang                                                                                                                                           1\n",
       "Name: assignee, Length: 14319, dtype: int64"
      ]
     },
     "execution_count": 13,
     "metadata": {},
     "output_type": "execute_result"
    }
   ],
   "source": [
    "patents_new['assignee'].value_counts()"
   ]
  },
  {
   "cell_type": "markdown",
   "metadata": {},
   "source": [
    "# cleaning data"
   ]
  },
  {
   "cell_type": "code",
   "execution_count": 14,
   "metadata": {},
   "outputs": [],
   "source": [
    "assignee=patents_new['current_applt'].str.replace('LUZ ELECTRIC FUEL ISRAEL LTD','luz electric fuel israel ltd')"
   ]
  },
  {
   "cell_type": "code",
   "execution_count": 15,
   "metadata": {},
   "outputs": [],
   "source": [
    "assignee=patents_new['current_applt'].str.replace('Luz Electric Fuel Israel Ltd','Luz Electric Fuel Israel Ltd')"
   ]
  },
  {
   "cell_type": "markdown",
   "metadata": {},
   "source": [
    "### Solving toyota duplication"
   ]
  },
  {
   "cell_type": "code",
   "execution_count": 16,
   "metadata": {},
   "outputs": [],
   "source": [
    "patents_new['assignee']=patents_new['assignee'].str.replace('toyota motor co ltd','toyota motor corp')"
   ]
  },
  {
   "cell_type": "code",
   "execution_count": 17,
   "metadata": {},
   "outputs": [],
   "source": [
    "patents_new['assignee']=patents_new['assignee'].str.replace('toyota jidosha kabushiki kaisha','toyota motor corp')"
   ]
  },
  {
   "cell_type": "code",
   "execution_count": 18,
   "metadata": {},
   "outputs": [],
   "source": [
    "patents_new['assignee']=patents_new['assignee'].str.replace('toyota motor co., ltd.','toyota motor corp')"
   ]
  },
  {
   "cell_type": "code",
   "execution_count": 19,
   "metadata": {},
   "outputs": [],
   "source": [
    "patents_new['assignee']=patents_new['assignee'].str.replace('toyota motor corporation','toyota motor corp')"
   ]
  },
  {
   "cell_type": "code",
   "execution_count": null,
   "metadata": {},
   "outputs": [],
   "source": []
  },
  {
   "cell_type": "code",
   "execution_count": 20,
   "metadata": {},
   "outputs": [
    {
     "data": {
      "text/plain": [
       "toyota motor corp                                                                                                                                  7991\n",
       "robert bosch gmbh                                                                                                                                  2653\n",
       "hyundai motor company                                                                                                                              2230\n",
       "honda motor co ltd                                                                                                                                 1903\n",
       "nissan motor co ltd                                                                                                                                1374\n",
       "honda motor co., ltd.                                                                                                                              1196\n",
       "ford global technologies, llc                                                                                                                      1192\n",
       "nissan motor co., ltd.                                                                                                                             1140\n",
       "honda giken kogyo kabushiki kaisha                                                                                                                  766\n",
       "denso corp                                                                                                                                          603\n",
       "peugeot citroen automobiles sa                                                                                                                      598\n",
       "mitsubishi motors corp                                                                                                                              457\n",
       "hitachi, ltd.                                                                                                                                       408\n",
       "denso corporation                                                                                                                                   337\n",
       "daimlerchrysler ag                                                                                                                                  335\n",
       "continental automotive gmbh                                                                                                                         316\n",
       "hitachi ltd                                                                                                                                         307\n",
       "siemens aktiengesellschaft                                                                                                                          285\n",
       "gm global technology operations llc                                                                                                                 285\n",
       "yamaha hatsudoki kabushiki kaisha                                                                                                                   280\n",
       "suzuki motor corp                                                                                                                                   272\n",
       "mitsubishi jidosha kogyo kabushiki kaisha                                                                                                           269\n",
       "mitsubishi electric corp                                                                                                                            269\n",
       "mazda motor corp                                                                                                                                    268\n",
       "renault s.a.s.                                                                                                                                      240\n",
       "suzuki motor corporation                                                                                                                            229\n",
       "audi ag                                                                                                                                             226\n",
       "hyundai motor co ltd                                                                                                                                217\n",
       "lsis co., ltd.                                                                                                                                      214\n",
       "bayerische motoren werke aktiengesellschaft                                                                                                         212\n",
       "                                                                                                                                                   ... \n",
       "wickman; dominic                                                                                                                                      1\n",
       "shangdong shifeng (group) co., ltd.                                                                                                                   1\n",
       "ito, takao                                                                                                                                            1\n",
       "fujian zhongqing automobile technology co., ltd.                                                                                                      1\n",
       "zhang zhongdong                                                                                                                                       1\n",
       "s and d powernics. co., ltd.                                                                                                                          1\n",
       "gillingham, brian r.                                                                                                                                  1\n",
       "beijing feb. 7th railway transportation equipmentco., ltd.                                                                                            1\n",
       "saito, shingo                                                                                                                                         1\n",
       "sacarto; walter e.                                                                                                                                    1\n",
       "wuling diesel engine, co., ltd., jiangsu                                                                                                              1\n",
       "wuxi longsheng technology co., ltd.                                                                                                                   1\n",
       "wang mingyi                                                                                                                                           1\n",
       "hortop, matthew k.                                                                                                                                    1\n",
       "longkou longbeng fuel injection co., ltd.                                                                                                             1\n",
       "oao 'motorostroitel''                                                                                                                                 1\n",
       "wang jiuyu                                                                                                                                            1\n",
       "brooks, alexander nelson                                                                                                                              1\n",
       "invacare corp.                                                                                                                                        1\n",
       "national pingtung university of science & technology                                                                                                  1\n",
       "academician v. lazarian dnipropetrovsk national university of railway transport                                                                       1\n",
       "taguchi, shinya                                                                                                                                       1\n",
       "loftus, michael edward                                                                                                                                1\n",
       "federal'noe gosudarstvennoe obrazovatel'noe uchrezhdenie vysshego professional'nogo obrazovanija 'gorskij gosudarstvennyj agrarnyj universitet'       1\n",
       "ammermann, stephan                                                                                                                                    1\n",
       "beijing bron s&t ltd.                                                                                                                                 1\n",
       "duvinage frank                                                                                                                                        1\n",
       "huangshan hanhe carbon fiber technology co., ltd.                                                                                                     1\n",
       "peterson, joshua a.                                                                                                                                   1\n",
       "yang shuang                                                                                                                                           1\n",
       "Name: assignee, Length: 14315, dtype: int64"
      ]
     },
     "execution_count": 20,
     "metadata": {},
     "output_type": "execute_result"
    }
   ],
   "source": [
    "patents_new['assignee'].value_counts()"
   ]
  },
  {
   "cell_type": "markdown",
   "metadata": {},
   "source": [
    "### For honda"
   ]
  },
  {
   "cell_type": "code",
   "execution_count": 21,
   "metadata": {},
   "outputs": [],
   "source": [
    "patents_new['assignee']=patents_new['assignee'].str.replace('honda motor co ltd','honda motor co ltd')"
   ]
  },
  {
   "cell_type": "code",
   "execution_count": 22,
   "metadata": {},
   "outputs": [],
   "source": [
    "patents_new['assignee']=patents_new['assignee'].str.replace('honda giken kogyo kabushiki kaisha','honda motor co ltd')"
   ]
  },
  {
   "cell_type": "code",
   "execution_count": 23,
   "metadata": {},
   "outputs": [],
   "source": [
    "patents_new['assignee']=patents_new['assignee'].str.replace('honda motor co., ltd.','honda motor co ltd')"
   ]
  },
  {
   "cell_type": "code",
   "execution_count": 24,
   "metadata": {},
   "outputs": [
    {
     "data": {
      "text/plain": [
       "toyota motor corp                                                                                                                                  7991\n",
       "honda motor co ltd                                                                                                                                 3865\n",
       "robert bosch gmbh                                                                                                                                  2653\n",
       "hyundai motor company                                                                                                                              2230\n",
       "nissan motor co ltd                                                                                                                                1374\n",
       "ford global technologies, llc                                                                                                                      1192\n",
       "nissan motor co., ltd.                                                                                                                             1140\n",
       "denso corp                                                                                                                                          603\n",
       "peugeot citroen automobiles sa                                                                                                                      598\n",
       "mitsubishi motors corp                                                                                                                              457\n",
       "hitachi, ltd.                                                                                                                                       408\n",
       "denso corporation                                                                                                                                   337\n",
       "daimlerchrysler ag                                                                                                                                  335\n",
       "continental automotive gmbh                                                                                                                         316\n",
       "hitachi ltd                                                                                                                                         307\n",
       "siemens aktiengesellschaft                                                                                                                          285\n",
       "gm global technology operations llc                                                                                                                 285\n",
       "yamaha hatsudoki kabushiki kaisha                                                                                                                   280\n",
       "suzuki motor corp                                                                                                                                   272\n",
       "mitsubishi electric corp                                                                                                                            269\n",
       "mitsubishi jidosha kogyo kabushiki kaisha                                                                                                           269\n",
       "mazda motor corp                                                                                                                                    268\n",
       "renault s.a.s.                                                                                                                                      240\n",
       "suzuki motor corporation                                                                                                                            229\n",
       "audi ag                                                                                                                                             226\n",
       "hyundai motor co ltd                                                                                                                                217\n",
       "lsis co., ltd.                                                                                                                                      214\n",
       "bayerische motoren werke aktiengesellschaft                                                                                                         212\n",
       "mitsubishi electric corporation                                                                                                                     205\n",
       "renault s.a.s                                                                                                                                       198\n",
       "                                                                                                                                                   ... \n",
       "ito, takao                                                                                                                                            1\n",
       "fujian zhongqing automobile technology co., ltd.                                                                                                      1\n",
       "zhang zhongdong                                                                                                                                       1\n",
       "s and d powernics. co., ltd.                                                                                                                          1\n",
       "gillingham, brian r.                                                                                                                                  1\n",
       "liang honglang                                                                                                                                        1\n",
       "yatai fuell cell tech co ltd                                                                                                                          1\n",
       "wang haiting                                                                                                                                          1\n",
       "smague, pascal                                                                                                                                        1\n",
       "beijing feb. 7th railway transportation equipmentco., ltd.                                                                                            1\n",
       "taguchi, shinya                                                                                                                                       1\n",
       "hortop, matthew k.                                                                                                                                    1\n",
       "longkou longbeng fuel injection co., ltd.                                                                                                             1\n",
       "oao 'motorostroitel''                                                                                                                                 1\n",
       "wang jiuyu                                                                                                                                            1\n",
       "brooks, alexander nelson                                                                                                                              1\n",
       "invacare corp.                                                                                                                                        1\n",
       "wuling diesel engine, co., ltd., jiangsu                                                                                                              1\n",
       "national pingtung university of science & technology                                                                                                  1\n",
       "loftus, michael edward                                                                                                                                1\n",
       "saito, shingo                                                                                                                                         1\n",
       "federal'noe gosudarstvennoe obrazovatel'noe uchrezhdenie vysshego professional'nogo obrazovanija 'gorskij gosudarstvennyj agrarnyj universitet'       1\n",
       "ammermann, stephan                                                                                                                                    1\n",
       "beijing bron s&t ltd.                                                                                                                                 1\n",
       "duvinage frank                                                                                                                                        1\n",
       "huangshan hanhe carbon fiber technology co., ltd.                                                                                                     1\n",
       "peterson, joshua a.                                                                                                                                   1\n",
       "academician v. lazarian dnipropetrovsk national university of railway transport                                                                       1\n",
       "sacarto; walter e.                                                                                                                                    1\n",
       "yang shuang                                                                                                                                           1\n",
       "Name: assignee, Length: 14313, dtype: int64"
      ]
     },
     "execution_count": 24,
     "metadata": {},
     "output_type": "execute_result"
    }
   ],
   "source": [
    "patents_new['assignee'].value_counts()"
   ]
  },
  {
   "cell_type": "markdown",
   "metadata": {},
   "source": [
    "### nissan"
   ]
  },
  {
   "cell_type": "code",
   "execution_count": null,
   "metadata": {},
   "outputs": [],
   "source": []
  },
  {
   "cell_type": "code",
   "execution_count": 25,
   "metadata": {},
   "outputs": [],
   "source": [
    "patents_new['assignee']=patents_new['assignee'].str.replace('nissan motor co., ltd.','nissan motor co ltd')"
   ]
  },
  {
   "cell_type": "code",
   "execution_count": 26,
   "metadata": {},
   "outputs": [
    {
     "data": {
      "text/plain": [
       "toyota motor corp                                     7991\n",
       "honda motor co ltd                                    3865\n",
       "robert bosch gmbh                                     2653\n",
       "nissan motor co ltd                                   2515\n",
       "hyundai motor company                                 2230\n",
       "ford global technologies, llc                         1192\n",
       "denso corp                                             603\n",
       "peugeot citroen automobiles sa                         598\n",
       "mitsubishi motors corp                                 457\n",
       "hitachi, ltd.                                          408\n",
       "denso corporation                                      337\n",
       "daimlerchrysler ag                                     335\n",
       "continental automotive gmbh                            316\n",
       "hitachi ltd                                            307\n",
       "siemens aktiengesellschaft                             285\n",
       "gm global technology operations llc                    285\n",
       "yamaha hatsudoki kabushiki kaisha                      280\n",
       "suzuki motor corp                                      272\n",
       "mitsubishi electric corp                               269\n",
       "mitsubishi jidosha kogyo kabushiki kaisha              269\n",
       "mazda motor corp                                       268\n",
       "renault s.a.s.                                         240\n",
       "suzuki motor corporation                               229\n",
       "audi ag                                                226\n",
       "hyundai motor co ltd                                   217\n",
       "lsis co., ltd.                                         214\n",
       "bayerische motoren werke aktiengesellschaft            212\n",
       "mitsubishi electric corporation                        205\n",
       "renault s.a.s                                          198\n",
       "general electric company                               195\n",
       "                                                      ... \n",
       "kyushu denryoku kk                                       1\n",
       "kamoshida, toru                                          1\n",
       "buslepp, kenneth j.                                      1\n",
       "harang alain michel                                      1\n",
       "kandi electric vehicle (changxing) co., ltd.             1\n",
       "i-shou university                                        1\n",
       "lucas industries, plc                                    1\n",
       "krestel, richard                                         1\n",
       "li tiancheng                                             1\n",
       "jo, wonjin                                               1\n",
       "sk telecom co., ltd.                                     1\n",
       "wuxi power engineering joint-stock co., ltd.             1\n",
       "philippart, timothy p.                                   1\n",
       "fiat pauehrtrejn teknolodzhiz s.p.a.                     1\n",
       "thien ton consulting service company limited             1\n",
       "tianjin university of technology and education           1\n",
       "idemitsu kosan company limited                           1\n",
       "csr zhuzhou electric locomotive co., ltd.                1\n",
       "mitja victor hinderks                                    1\n",
       "iwanaka, makoto                                          1\n",
       "maki, kentaro                                            1\n",
       "gotoda, kenji                                            1\n",
       "oe toshiaki                                              1\n",
       "zhejiang sowei new energy technology co., ltd.           1\n",
       "wang tse-cheng                                           1\n",
       "samarskij gosudarstvennyj tekhnicheskij universite       1\n",
       "hung, jui-tung                                           1\n",
       "hosoi, keiji                                             1\n",
       "north china electric power university, baoding           1\n",
       "yang shuang                                              1\n",
       "Name: assignee, Length: 14311, dtype: int64"
      ]
     },
     "execution_count": 26,
     "metadata": {},
     "output_type": "execute_result"
    }
   ],
   "source": [
    "patents_new['assignee'].value_counts()"
   ]
  },
  {
   "cell_type": "markdown",
   "metadata": {},
   "source": [
    "### mitsubishi"
   ]
  },
  {
   "cell_type": "code",
   "execution_count": 27,
   "metadata": {},
   "outputs": [],
   "source": [
    "patents_new['assignee']=patents_new['assignee'].str.replace('mitsubishi jidosha kogyo kabushiki kaisha','mitsubishi motors corp')"
   ]
  },
  {
   "cell_type": "code",
   "execution_count": 28,
   "metadata": {},
   "outputs": [],
   "source": [
    "patents_new['assignee']=patents_new['assignee'].str.replace('mitsubishi electric corporation','mitsubishi electric corp')"
   ]
  },
  {
   "cell_type": "code",
   "execution_count": 29,
   "metadata": {},
   "outputs": [],
   "source": [
    "patents_new['assignee']=patents_new['assignee'].str.replace('mitsubishi denki kabushiki kaisha','mitsubishi motors corp')"
   ]
  },
  {
   "cell_type": "code",
   "execution_count": null,
   "metadata": {},
   "outputs": [],
   "source": []
  },
  {
   "cell_type": "code",
   "execution_count": 30,
   "metadata": {},
   "outputs": [
    {
     "data": {
      "text/plain": [
       "toyota motor corp                                                                                                                                  7991\n",
       "honda motor co ltd                                                                                                                                 3865\n",
       "robert bosch gmbh                                                                                                                                  2653\n",
       "nissan motor co ltd                                                                                                                                2515\n",
       "hyundai motor company                                                                                                                              2230\n",
       "ford global technologies, llc                                                                                                                      1192\n",
       "mitsubishi motors corp                                                                                                                              875\n",
       "denso corp                                                                                                                                          603\n",
       "peugeot citroen automobiles sa                                                                                                                      598\n",
       "mitsubishi electric corp                                                                                                                            474\n",
       "hitachi, ltd.                                                                                                                                       408\n",
       "denso corporation                                                                                                                                   337\n",
       "daimlerchrysler ag                                                                                                                                  335\n",
       "continental automotive gmbh                                                                                                                         316\n",
       "hitachi ltd                                                                                                                                         307\n",
       "siemens aktiengesellschaft                                                                                                                          285\n",
       "gm global technology operations llc                                                                                                                 285\n",
       "yamaha hatsudoki kabushiki kaisha                                                                                                                   280\n",
       "suzuki motor corp                                                                                                                                   272\n",
       "mazda motor corp                                                                                                                                    268\n",
       "renault s.a.s.                                                                                                                                      240\n",
       "suzuki motor corporation                                                                                                                            229\n",
       "audi ag                                                                                                                                             226\n",
       "hyundai motor co ltd                                                                                                                                217\n",
       "lsis co., ltd.                                                                                                                                      214\n",
       "bayerische motoren werke aktiengesellschaft                                                                                                         212\n",
       "renault s.a.s                                                                                                                                       198\n",
       "volkswagen aktiengesellschaft                                                                                                                       195\n",
       "general electric company                                                                                                                            195\n",
       "renault sas                                                                                                                                         194\n",
       "                                                                                                                                                   ... \n",
       "wickman; dominic                                                                                                                                      1\n",
       "shangdong shifeng (group) co., ltd.                                                                                                                   1\n",
       "ito, takao                                                                                                                                            1\n",
       "fujian zhongqing automobile technology co., ltd.                                                                                                      1\n",
       "zhang zhongdong                                                                                                                                       1\n",
       "s and d powernics. co., ltd.                                                                                                                          1\n",
       "gillingham, brian r.                                                                                                                                  1\n",
       "beijing feb. 7th railway transportation equipmentco., ltd.                                                                                            1\n",
       "saito, shingo                                                                                                                                         1\n",
       "sacarto; walter e.                                                                                                                                    1\n",
       "wuling diesel engine, co., ltd., jiangsu                                                                                                              1\n",
       "wuxi longsheng technology co., ltd.                                                                                                                   1\n",
       "wang mingyi                                                                                                                                           1\n",
       "hortop, matthew k.                                                                                                                                    1\n",
       "longkou longbeng fuel injection co., ltd.                                                                                                             1\n",
       "oao 'motorostroitel''                                                                                                                                 1\n",
       "wang jiuyu                                                                                                                                            1\n",
       "brooks, alexander nelson                                                                                                                              1\n",
       "invacare corp.                                                                                                                                        1\n",
       "national pingtung university of science & technology                                                                                                  1\n",
       "academician v. lazarian dnipropetrovsk national university of railway transport                                                                       1\n",
       "taguchi, shinya                                                                                                                                       1\n",
       "loftus, michael edward                                                                                                                                1\n",
       "federal'noe gosudarstvennoe obrazovatel'noe uchrezhdenie vysshego professional'nogo obrazovanija 'gorskij gosudarstvennyj agrarnyj universitet'       1\n",
       "ammermann, stephan                                                                                                                                    1\n",
       "beijing bron s&t ltd.                                                                                                                                 1\n",
       "duvinage frank                                                                                                                                        1\n",
       "huangshan hanhe carbon fiber technology co., ltd.                                                                                                     1\n",
       "peterson, joshua a.                                                                                                                                   1\n",
       "yang shuang                                                                                                                                           1\n",
       "Name: assignee, Length: 14308, dtype: int64"
      ]
     },
     "execution_count": 30,
     "metadata": {},
     "output_type": "execute_result"
    }
   ],
   "source": [
    "patents_new['assignee'].value_counts()"
   ]
  },
  {
   "cell_type": "markdown",
   "metadata": {},
   "source": [
    "### hyundai"
   ]
  },
  {
   "cell_type": "code",
   "execution_count": null,
   "metadata": {},
   "outputs": [],
   "source": []
  },
  {
   "cell_type": "code",
   "execution_count": 31,
   "metadata": {},
   "outputs": [],
   "source": [
    "patents_new['assignee']=patents_new['assignee'].str.replace('hyundai motor company','hyundai motor co ltd')"
   ]
  },
  {
   "cell_type": "code",
   "execution_count": 32,
   "metadata": {},
   "outputs": [],
   "source": [
    "patents_new['assignee']=patents_new['assignee'].str.replace('hyundai motor company','hyundai motor co ltd')"
   ]
  },
  {
   "cell_type": "code",
   "execution_count": 33,
   "metadata": {
    "scrolled": true
   },
   "outputs": [
    {
     "data": {
      "text/plain": [
       "toyota motor corp                                                                                                                                  7991\n",
       "honda motor co ltd                                                                                                                                 3865\n",
       "robert bosch gmbh                                                                                                                                  2653\n",
       "nissan motor co ltd                                                                                                                                2515\n",
       "hyundai motor co ltd                                                                                                                               2447\n",
       "ford global technologies, llc                                                                                                                      1192\n",
       "mitsubishi motors corp                                                                                                                              875\n",
       "denso corp                                                                                                                                          603\n",
       "peugeot citroen automobiles sa                                                                                                                      598\n",
       "mitsubishi electric corp                                                                                                                            474\n",
       "hitachi, ltd.                                                                                                                                       408\n",
       "denso corporation                                                                                                                                   337\n",
       "daimlerchrysler ag                                                                                                                                  335\n",
       "continental automotive gmbh                                                                                                                         316\n",
       "hitachi ltd                                                                                                                                         307\n",
       "siemens aktiengesellschaft                                                                                                                          285\n",
       "gm global technology operations llc                                                                                                                 285\n",
       "yamaha hatsudoki kabushiki kaisha                                                                                                                   280\n",
       "suzuki motor corp                                                                                                                                   272\n",
       "mazda motor corp                                                                                                                                    268\n",
       "renault s.a.s.                                                                                                                                      240\n",
       "suzuki motor corporation                                                                                                                            229\n",
       "audi ag                                                                                                                                             226\n",
       "lsis co., ltd.                                                                                                                                      214\n",
       "bayerische motoren werke aktiengesellschaft                                                                                                         212\n",
       "renault s.a.s                                                                                                                                       198\n",
       "volkswagen aktiengesellschaft                                                                                                                       195\n",
       "general electric company                                                                                                                            195\n",
       "renault sas                                                                                                                                         194\n",
       "general motors corporation                                                                                                                          184\n",
       "                                                                                                                                                   ... \n",
       "wickman; dominic                                                                                                                                      1\n",
       "shangdong shifeng (group) co., ltd.                                                                                                                   1\n",
       "ito, takao                                                                                                                                            1\n",
       "fujian zhongqing automobile technology co., ltd.                                                                                                      1\n",
       "zhang zhongdong                                                                                                                                       1\n",
       "s and d powernics. co., ltd.                                                                                                                          1\n",
       "gillingham, brian r.                                                                                                                                  1\n",
       "beijing feb. 7th railway transportation equipmentco., ltd.                                                                                            1\n",
       "saito, shingo                                                                                                                                         1\n",
       "sacarto; walter e.                                                                                                                                    1\n",
       "wuling diesel engine, co., ltd., jiangsu                                                                                                              1\n",
       "wuxi longsheng technology co., ltd.                                                                                                                   1\n",
       "wang mingyi                                                                                                                                           1\n",
       "hortop, matthew k.                                                                                                                                    1\n",
       "longkou longbeng fuel injection co., ltd.                                                                                                             1\n",
       "oao 'motorostroitel''                                                                                                                                 1\n",
       "wang jiuyu                                                                                                                                            1\n",
       "brooks, alexander nelson                                                                                                                              1\n",
       "invacare corp.                                                                                                                                        1\n",
       "national pingtung university of science & technology                                                                                                  1\n",
       "academician v. lazarian dnipropetrovsk national university of railway transport                                                                       1\n",
       "taguchi, shinya                                                                                                                                       1\n",
       "loftus, michael edward                                                                                                                                1\n",
       "federal'noe gosudarstvennoe obrazovatel'noe uchrezhdenie vysshego professional'nogo obrazovanija 'gorskij gosudarstvennyj agrarnyj universitet'       1\n",
       "ammermann, stephan                                                                                                                                    1\n",
       "beijing bron s&t ltd.                                                                                                                                 1\n",
       "duvinage frank                                                                                                                                        1\n",
       "huangshan hanhe carbon fiber technology co., ltd.                                                                                                     1\n",
       "peterson, joshua a.                                                                                                                                   1\n",
       "yang shuang                                                                                                                                           1\n",
       "Name: assignee, Length: 14307, dtype: int64"
      ]
     },
     "execution_count": 33,
     "metadata": {},
     "output_type": "execute_result"
    }
   ],
   "source": [
    "patents_new['assignee'].value_counts()"
   ]
  },
  {
   "cell_type": "code",
   "execution_count": null,
   "metadata": {},
   "outputs": [],
   "source": []
  },
  {
   "cell_type": "code",
   "execution_count": 34,
   "metadata": {},
   "outputs": [],
   "source": [
    "patents_new['assignee']=patents_new['assignee'].str.replace('hitachi, ltd.','hitachi ltd')"
   ]
  },
  {
   "cell_type": "code",
   "execution_count": 35,
   "metadata": {},
   "outputs": [
    {
     "data": {
      "text/plain": [
       "toyota motor corp                                     7991\n",
       "honda motor co ltd                                    3865\n",
       "robert bosch gmbh                                     2653\n",
       "nissan motor co ltd                                   2515\n",
       "hyundai motor co ltd                                  2447\n",
       "ford global technologies, llc                         1192\n",
       "mitsubishi motors corp                                 875\n",
       "hitachi ltd                                            715\n",
       "denso corp                                             603\n",
       "peugeot citroen automobiles sa                         598\n",
       "mitsubishi electric corp                               474\n",
       "denso corporation                                      337\n",
       "daimlerchrysler ag                                     335\n",
       "continental automotive gmbh                            316\n",
       "siemens aktiengesellschaft                             285\n",
       "gm global technology operations llc                    285\n",
       "yamaha hatsudoki kabushiki kaisha                      280\n",
       "suzuki motor corp                                      272\n",
       "mazda motor corp                                       268\n",
       "renault s.a.s.                                         240\n",
       "suzuki motor corporation                               229\n",
       "audi ag                                                226\n",
       "lsis co., ltd.                                         214\n",
       "bayerische motoren werke aktiengesellschaft            212\n",
       "renault s.a.s                                          198\n",
       "general electric company                               195\n",
       "volkswagen aktiengesellschaft                          195\n",
       "renault sas                                            194\n",
       "ford global technologies, inc.                         184\n",
       "general motors corporation                             184\n",
       "volkswagen ag                                          179\n",
       "isuzu motors ltd                                       169\n",
       "aisin aw co., ltd.                                     167\n",
       "daimler ag                                             165\n",
       "fuji heavy ind ltd                                     162\n",
       "ford global tech llc                                   152\n",
       "daihatsu motor co ltd                                  148\n",
       "ford motor company                                     142\n",
       "beiqi foton motor co., ltd.                            138\n",
       "aisin aw co ltd                                        136\n",
       "avl list gmbh                                          134\n",
       "sony corporation                                       134\n",
       "yamaha motor co ltd                                    130\n",
       "renault                                                128\n",
       "jaguar land rover limited                              127\n",
       "byd company limited                                    125\n",
       "korea advanced institute of science and technology     121\n",
       "toshiba corp                                           120\n",
       "kia motors corporation                                 119\n",
       "kawasaki jukogyo kabushiki kaisha                      117\n",
       "Name: assignee, dtype: int64"
      ]
     },
     "execution_count": 35,
     "metadata": {},
     "output_type": "execute_result"
    }
   ],
   "source": [
    "patents_new['assignee'].value_counts()[:50]"
   ]
  },
  {
   "cell_type": "markdown",
   "metadata": {},
   "source": [
    "### ford"
   ]
  },
  {
   "cell_type": "code",
   "execution_count": 36,
   "metadata": {},
   "outputs": [],
   "source": [
    "patents_new['assignee']=patents_new['assignee'].str.replace('ford global tech llc','ford global technologies inc')"
   ]
  },
  {
   "cell_type": "code",
   "execution_count": 37,
   "metadata": {},
   "outputs": [],
   "source": [
    "patents_new['assignee']=patents_new['assignee'].str.replace('ford global technologies, inc.','ford global technologies inc')"
   ]
  },
  {
   "cell_type": "code",
   "execution_count": 38,
   "metadata": {},
   "outputs": [],
   "source": [
    "patents_new['assignee']=patents_new['assignee'].str.replace('ford global technologies, llc','ford global technologies inc')"
   ]
  },
  {
   "cell_type": "code",
   "execution_count": 39,
   "metadata": {},
   "outputs": [],
   "source": [
    "patents_new['assignee']=patents_new['assignee'].str.replace('ford global technologies, llc','ford global technologies inc')"
   ]
  },
  {
   "cell_type": "code",
   "execution_count": 40,
   "metadata": {},
   "outputs": [],
   "source": [
    "patents_new['assignee']=patents_new['assignee'].str.replace('ford global technologies llc','ford global technologies inc')"
   ]
  },
  {
   "cell_type": "code",
   "execution_count": null,
   "metadata": {},
   "outputs": [],
   "source": []
  },
  {
   "cell_type": "code",
   "execution_count": 41,
   "metadata": {},
   "outputs": [
    {
     "data": {
      "text/plain": [
       "toyota motor corp                                     7991\n",
       "honda motor co ltd                                    3865\n",
       "robert bosch gmbh                                     2653\n",
       "nissan motor co ltd                                   2515\n",
       "hyundai motor co ltd                                  2447\n",
       "ford global technologies inc                          1652\n",
       "mitsubishi motors corp                                 875\n",
       "hitachi ltd                                            715\n",
       "denso corp                                             603\n",
       "peugeot citroen automobiles sa                         598\n",
       "mitsubishi electric corp                               474\n",
       "denso corporation                                      337\n",
       "daimlerchrysler ag                                     335\n",
       "continental automotive gmbh                            316\n",
       "siemens aktiengesellschaft                             285\n",
       "gm global technology operations llc                    285\n",
       "yamaha hatsudoki kabushiki kaisha                      280\n",
       "suzuki motor corp                                      272\n",
       "mazda motor corp                                       268\n",
       "renault s.a.s.                                         240\n",
       "suzuki motor corporation                               229\n",
       "audi ag                                                226\n",
       "lsis co., ltd.                                         214\n",
       "bayerische motoren werke aktiengesellschaft            212\n",
       "renault s.a.s                                          198\n",
       "general electric company                               195\n",
       "volkswagen aktiengesellschaft                          195\n",
       "renault sas                                            194\n",
       "general motors corporation                             184\n",
       "volkswagen ag                                          179\n",
       "isuzu motors ltd                                       169\n",
       "aisin aw co., ltd.                                     167\n",
       "daimler ag                                             165\n",
       "fuji heavy ind ltd                                     162\n",
       "daihatsu motor co ltd                                  148\n",
       "ford motor company                                     142\n",
       "beiqi foton motor co., ltd.                            138\n",
       "aisin aw co ltd                                        136\n",
       "sony corporation                                       134\n",
       "avl list gmbh                                          134\n",
       "yamaha motor co ltd                                    130\n",
       "renault                                                128\n",
       "jaguar land rover limited                              127\n",
       "byd company limited                                    125\n",
       "korea advanced institute of science and technology     121\n",
       "toshiba corp                                           120\n",
       "kia motors corporation                                 119\n",
       "kawasaki jukogyo kabushiki kaisha                      117\n",
       "ntn corporation                                        114\n",
       "mahle international gmbh                               113\n",
       "Name: assignee, dtype: int64"
      ]
     },
     "execution_count": 41,
     "metadata": {},
     "output_type": "execute_result"
    }
   ],
   "source": [
    "patents_new['assignee'].value_counts()[:50]"
   ]
  },
  {
   "cell_type": "markdown",
   "metadata": {},
   "source": [
    "### clearing . and ,"
   ]
  },
  {
   "cell_type": "code",
   "execution_count": 42,
   "metadata": {},
   "outputs": [],
   "source": [
    "patents_new['assignee'] = patents_new['assignee'].str.replace(\",\",\"\")"
   ]
  },
  {
   "cell_type": "code",
   "execution_count": 43,
   "metadata": {},
   "outputs": [],
   "source": [
    "patents_new['assignee'] = patents_new['assignee'].str.replace(\".\",\"\")"
   ]
  },
  {
   "cell_type": "code",
   "execution_count": 44,
   "metadata": {},
   "outputs": [
    {
     "data": {
      "text/plain": [
       "toyota motor corp                                     7997\n",
       "honda motor co ltd                                    3899\n",
       "robert bosch gmbh                                     2659\n",
       "nissan motor co ltd                                   2596\n",
       "hyundai motor co ltd                                  2532\n",
       "ford global technologies inc                          1671\n",
       "mitsubishi motors corp                                 899\n",
       "hitachi ltd                                            759\n",
       "denso corp                                             640\n",
       "renault sas                                            632\n",
       "peugeot citroen automobiles sa                         626\n",
       "mitsubishi electric corp                               513\n",
       "daimlerchrysler ag                                     338\n",
       "denso corporation                                      337\n",
       "continental automotive gmbh                            316\n",
       "aisin aw co ltd                                        306\n",
       "suzuki motor corp                                      299\n",
       "gm global technology operations llc                    291\n",
       "siemens aktiengesellschaft                             285\n",
       "yamaha hatsudoki kabushiki kaisha                      280\n",
       "mazda motor corp                                       274\n",
       "lsis co ltd                                            253\n",
       "suzuki motor corporation                               229\n",
       "audi ag                                                226\n",
       "bayerische motoren werke aktiengesellschaft            212\n",
       "general electric company                               199\n",
       "volkswagen aktiengesellschaft                          195\n",
       "isuzu motors ltd                                       194\n",
       "hitachi automotive systems ltd                         192\n",
       "yamaha motor co ltd                                    186\n",
       "general motors corporation                             184\n",
       "volkswagen ag                                          180\n",
       "fuji heavy ind ltd                                     168\n",
       "hino motors ltd                                        168\n",
       "daimler ag                                             165\n",
       "daihatsu motor co ltd                                  159\n",
       "ford motor company                                     142\n",
       "beiqi foton motor co ltd                               138\n",
       "sony corporation                                       134\n",
       "avl list gmbh                                          134\n",
       "renault                                                128\n",
       "jaguar land rover limited                              127\n",
       "byd company limited                                    125\n",
       "toshiba corp                                           123\n",
       "korea advanced institute of science and technology     121\n",
       "nippondenso co ltd                                     120\n",
       "kia motors corporation                                 119\n",
       "kawasaki jukogyo kabushiki kaisha                      117\n",
       "ntn corporation                                        114\n",
       "mahle international gmbh                               113\n",
       "Name: assignee, dtype: int64"
      ]
     },
     "execution_count": 44,
     "metadata": {},
     "output_type": "execute_result"
    }
   ],
   "source": [
    "patents_new['assignee'].value_counts()[:50]"
   ]
  },
  {
   "cell_type": "markdown",
   "metadata": {},
   "source": [
    "### renault sas vs renault"
   ]
  },
  {
   "cell_type": "code",
   "execution_count": 45,
   "metadata": {},
   "outputs": [],
   "source": [
    "patents_new['assignee']=patents_new['assignee'].str.replace('renault','renault sas')"
   ]
  },
  {
   "cell_type": "code",
   "execution_count": 46,
   "metadata": {},
   "outputs": [],
   "source": [
    "patents_new['assignee']=patents_new['assignee'].str.replace('renault sas sas','renault sas')"
   ]
  },
  {
   "cell_type": "code",
   "execution_count": 47,
   "metadata": {},
   "outputs": [
    {
     "data": {
      "text/plain": [
       "toyota motor corp                              7997\n",
       "honda motor co ltd                             3899\n",
       "robert bosch gmbh                              2659\n",
       "nissan motor co ltd                            2596\n",
       "hyundai motor co ltd                           2532\n",
       "ford global technologies inc                   1671\n",
       "mitsubishi motors corp                          899\n",
       "renault sas                                     760\n",
       "hitachi ltd                                     759\n",
       "denso corp                                      640\n",
       "peugeot citroen automobiles sa                  626\n",
       "mitsubishi electric corp                        513\n",
       "daimlerchrysler ag                              338\n",
       "denso corporation                               337\n",
       "continental automotive gmbh                     316\n",
       "aisin aw co ltd                                 306\n",
       "suzuki motor corp                               299\n",
       "gm global technology operations llc             291\n",
       "siemens aktiengesellschaft                      285\n",
       "yamaha hatsudoki kabushiki kaisha               280\n",
       "mazda motor corp                                274\n",
       "lsis co ltd                                     253\n",
       "suzuki motor corporation                        229\n",
       "audi ag                                         226\n",
       "bayerische motoren werke aktiengesellschaft     212\n",
       "general electric company                        199\n",
       "volkswagen aktiengesellschaft                   195\n",
       "isuzu motors ltd                                194\n",
       "hitachi automotive systems ltd                  192\n",
       "yamaha motor co ltd                             186\n",
       "                                               ... \n",
       "mitsubishi heavy ind ltd                         85\n",
       "dr ing hc f porsche aktiengesellschaft           85\n",
       "matsushita electric industrial co ltd            84\n",
       "mann+hummel gmbh                                 83\n",
       "nissan diesel motor co ltd                       80\n",
       "toyota jidosha kk                                78\n",
       "nippon soken inc                                 78\n",
       "delphi technologies inc                          77\n",
       "sony corp                                        75\n",
       "andreas stihl ag & co                            75\n",
       "gm global technology operations inc              74\n",
       "nissan motor company limited                     74\n",
       "fuji electric co ltd                             72\n",
       "honda giken kogyo kk                             71\n",
       "man truck & bus ag                               71\n",
       "mitsubishi heavy industries ltd                  70\n",
       "mtu friedrichshafen gmbh                         70\n",
       "nissan motor                                     69\n",
       "andreas stihl ag & co kg                         65\n",
       "hyundai motor co ltd co ltd                      65\n",
       "tesla motors inc                                 65\n",
       "shenzhen byd auto r&d company limited            63\n",
       "visteon global technologies inc                  61\n",
       "bayerische motoren werke ag                      61\n",
       "anhui jianghuai automobile co ltd                61\n",
       "detroit diesel corporation                       61\n",
       "mitsubishi fuso truck & bus corp                 61\n",
       "peugeot citroën automobiles sa                   60\n",
       "ford motor co                                    60\n",
       "dr ing hcf porsche ag                            59\n",
       "Name: assignee, Length: 100, dtype: int64"
      ]
     },
     "execution_count": 47,
     "metadata": {},
     "output_type": "execute_result"
    }
   ],
   "source": [
    "patents_new['assignee'].value_counts()[:100]"
   ]
  },
  {
   "cell_type": "markdown",
   "metadata": {},
   "source": [
    "### Removing really lower patent ones now"
   ]
  },
  {
   "cell_type": "code",
   "execution_count": 48,
   "metadata": {},
   "outputs": [],
   "source": [
    "patents_new['assignee']=patents_new['assignee'].str.replace('nissan motor company limited','nissan motor co ltd')"
   ]
  },
  {
   "cell_type": "code",
   "execution_count": 49,
   "metadata": {},
   "outputs": [],
   "source": [
    "patents_new['assignee']=patents_new['assignee'].str.replace('aisin seiki kabushiki kaisha','aisin aw co ltd')"
   ]
  },
  {
   "cell_type": "code",
   "execution_count": 50,
   "metadata": {},
   "outputs": [],
   "source": [
    "patents_new['assignee']=patents_new['assignee'].str.replace('hyundai motor co ltd co ltd','hyundai motor co ltd')"
   ]
  },
  {
   "cell_type": "code",
   "execution_count": 54,
   "metadata": {},
   "outputs": [],
   "source": [
    "assignee=patents_new['assignee']"
   ]
  },
  {
   "cell_type": "code",
   "execution_count": 55,
   "metadata": {},
   "outputs": [
    {
     "data": {
      "text/plain": [
       "0        luz electric fuel israel ltd\n",
       "1        luz electric fuel israel ltd\n",
       "2    sumitomo electric industries ltd\n",
       "3           sumitomo electric ind ltd\n",
       "4    sumitomo electric industries ltd\n",
       "5    sumitomo electric industries ltd\n",
       "6             ricardo cayetano algeri\n",
       "7            algeri; ricardo cayetano\n",
       "8                       avl list gmbh\n",
       "9                       avl list gmbh\n",
       "Name: assignee, dtype: object"
      ]
     },
     "execution_count": 55,
     "metadata": {},
     "output_type": "execute_result"
    }
   ],
   "source": [
    "assignee[:10]"
   ]
  },
  {
   "cell_type": "code",
   "execution_count": 56,
   "metadata": {},
   "outputs": [
    {
     "data": {
      "text/plain": [
       "scania cv ab                                     107\n",
       "isuzu motors limited                             106\n",
       "panasonic corporation                            105\n",
       "siemens ag                                       105\n",
       "gm global tech operations inc                    103\n",
       "sanyo electric co ltd                            103\n",
       "bosch gmbh robert                                100\n",
       "renault sas societe par actions simplifiee        99\n",
       "kabushiki kaisha toshiba                          99\n",
       "allison transmission inc                          97\n",
       "chery automobile co ltd                           96\n",
       "qualcomm incorporated                             96\n",
       "samsung sdi co ltd                                93\n",
       "aisin seiki co ltd                                93\n",
       "caterpillar inc                                   93\n",
       "lg electronics inc                                88\n",
       "panasonic corp                                    87\n",
       "volvo lastvagnar ab                               86\n",
       "valeo equipements electriques moteur              86\n",
       "dr ing hc f porsche aktiengesellschaft            85\n",
       "zf friedrichshafen ag                             85\n",
       "mitsubishi heavy ind ltd                          85\n",
       "matsushita electric industrial co ltd             84\n",
       "mann+hummel gmbh                                  83\n",
       "nissan diesel motor co ltd                        80\n",
       "toyota jidosha kk                                 78\n",
       "nippon soken inc                                  78\n",
       "delphi technologies inc                           77\n",
       "andreas stihl ag & co                             75\n",
       "sony corp                                         75\n",
       "                                                ... \n",
       "radev vladimir                                     1\n",
       "schramme martin                                    1\n",
       "delisle gilles l                                   1\n",
       "aisan kogyo kk ohbu                                1\n",
       "changsha leadten electronic technology co ltd      1\n",
       "gregg christopher b                                1\n",
       "niemetz linhard                                    1\n",
       "yokohama tokushu senpaku co ltd                    1\n",
       "rosner stuart                                      1\n",
       "huang quanshan                                     1\n",
       "pishchulin mikhail viktorovich                     1\n",
       "berger alvin h                                     1\n",
       "groer frank s                                      1\n",
       "oh seung chan                                      1\n",
       "savel'ev viktor perfilovich                        1\n",
       "elring klinger ag                                  1\n",
       "sugino soichi                                      1\n",
       "yang zhijun                                        1\n",
       "valeo sys controle moteur sas (fr)                 1\n",
       "showalter dan joseph                               1\n",
       "baum michael                                       1\n",
       "petersson martin                                   1\n",
       "linna jan-roger                                    1\n",
       "gong chao                                          1\n",
       "cordeiro pierre                                    1\n",
       "dalian jiaotong university                         1\n",
       "hong jun hyeon                                     1\n",
       "yu zemin                                           1\n",
       "volkswagen atkiengesellschaft                      1\n",
       "yang shuang                                        1\n",
       "Name: assignee, Length: 13419, dtype: int64"
      ]
     },
     "execution_count": 56,
     "metadata": {},
     "output_type": "execute_result"
    }
   ],
   "source": [
    "assignee.value_counts()[50:]"
   ]
  },
  {
   "cell_type": "code",
   "execution_count": 57,
   "metadata": {},
   "outputs": [],
   "source": [
    "import pickle\n",
    "assignee.to_pickle('firm_clean_data.pkl')"
   ]
  },
  {
   "cell_type": "code",
   "execution_count": null,
   "metadata": {},
   "outputs": [],
   "source": []
  },
  {
   "cell_type": "code",
   "execution_count": null,
   "metadata": {},
   "outputs": [],
   "source": []
  },
  {
   "cell_type": "code",
   "execution_count": null,
   "metadata": {},
   "outputs": [],
   "source": [
    "patents_new['assignee']=patents_new['assignee'].str.replace('toyota jidosha kk','toyota motor corp')"
   ]
  },
  {
   "cell_type": "code",
   "execution_count": null,
   "metadata": {},
   "outputs": [],
   "source": [
    "patents_new['assignee']=patents_new['assignee'].str.replace('ford motor co','ford motor company')"
   ]
  },
  {
   "cell_type": "code",
   "execution_count": null,
   "metadata": {},
   "outputs": [],
   "source": [
    "ford motor company"
   ]
  },
  {
   "cell_type": "code",
   "execution_count": null,
   "metadata": {},
   "outputs": [],
   "source": [
    "ford motor co"
   ]
  },
  {
   "cell_type": "code",
   "execution_count": null,
   "metadata": {},
   "outputs": [],
   "source": [
    "patents_new['assignee'].value_counts()[:100]"
   ]
  },
  {
   "cell_type": "code",
   "execution_count": null,
   "metadata": {},
   "outputs": [],
   "source": [
    "len(patents_new['assignee'])"
   ]
  },
  {
   "cell_type": "code",
   "execution_count": null,
   "metadata": {},
   "outputs": [],
   "source": []
  },
  {
   "cell_type": "code",
   "execution_count": null,
   "metadata": {},
   "outputs": [],
   "source": []
  }
 ],
 "metadata": {
  "kernelspec": {
   "display_name": "Python 3",
   "language": "python",
   "name": "python3"
  },
  "language_info": {
   "codemirror_mode": {
    "name": "ipython",
    "version": 3
   },
   "file_extension": ".py",
   "mimetype": "text/x-python",
   "name": "python",
   "nbconvert_exporter": "python",
   "pygments_lexer": "ipython3",
   "version": "3.6.5"
  }
 },
 "nbformat": 4,
 "nbformat_minor": 2
}
