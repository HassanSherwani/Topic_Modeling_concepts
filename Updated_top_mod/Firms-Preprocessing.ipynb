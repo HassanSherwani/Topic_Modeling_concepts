{
 "cells": [
  {
   "cell_type": "markdown",
   "metadata": {},
   "source": [
    "# Working on firm level data"
   ]
  },
  {
   "cell_type": "code",
   "execution_count": null,
   "metadata": {},
   "outputs": [],
   "source": []
  },
  {
   "cell_type": "code",
   "execution_count": 1,
   "metadata": {},
   "outputs": [],
   "source": [
    "import pandas as pd\n",
    "import nltk\n",
    "import numpy as np\n",
    "import requests\n",
    "import pickle"
   ]
  },
  {
   "cell_type": "code",
   "execution_count": 2,
   "metadata": {},
   "outputs": [],
   "source": [
    "patents_new=pd.read_csv('patent_all_en_new.csv')"
   ]
  },
  {
   "cell_type": "code",
   "execution_count": 3,
   "metadata": {},
   "outputs": [],
   "source": [
    "#patents_new[patents_new.current_applt=='TOYOTA MOTOR CORP']"
   ]
  },
  {
   "cell_type": "code",
   "execution_count": 4,
   "metadata": {},
   "outputs": [],
   "source": [
    "#ri[ri.violation == 'Speeding'].driver_gender.value_counts()"
   ]
  },
  {
   "cell_type": "code",
   "execution_count": 5,
   "metadata": {},
   "outputs": [],
   "source": [
    "assignee=patents_new['current_applt']"
   ]
  },
  {
   "cell_type": "code",
   "execution_count": null,
   "metadata": {},
   "outputs": [],
   "source": []
  },
  {
   "cell_type": "code",
   "execution_count": null,
   "metadata": {},
   "outputs": [],
   "source": []
  },
  {
   "cell_type": "code",
   "execution_count": 6,
   "metadata": {},
   "outputs": [],
   "source": [
    "# remove punctuation\n",
    "assignee = patents_new['current_applt'].str.replace('[^\\w\\s]','')"
   ]
  },
  {
   "cell_type": "code",
   "execution_count": 7,
   "metadata": {},
   "outputs": [],
   "source": [
    "assignee = patents_new['current_applt'].replace(\".\", \"\") "
   ]
  },
  {
   "cell_type": "code",
   "execution_count": 8,
   "metadata": {},
   "outputs": [],
   "source": [
    "assignee = patents_new['current_applt'].str.replace('\\[.*?\\]','')"
   ]
  },
  {
   "cell_type": "code",
   "execution_count": 9,
   "metadata": {},
   "outputs": [],
   "source": [
    "assignee = patents_new['current_applt'].str.replace(\",\",\"\")"
   ]
  },
  {
   "cell_type": "code",
   "execution_count": 10,
   "metadata": {},
   "outputs": [],
   "source": [
    "assignee=patents_new['current_applt'].str.split()"
   ]
  },
  {
   "cell_type": "code",
   "execution_count": 11,
   "metadata": {},
   "outputs": [],
   "source": [
    "assignee=patents_new['current_applt'].str.lower()"
   ]
  },
  {
   "cell_type": "code",
   "execution_count": null,
   "metadata": {},
   "outputs": [],
   "source": []
  },
  {
   "cell_type": "code",
   "execution_count": 12,
   "metadata": {},
   "outputs": [],
   "source": [
    "patents_new['assignee']=assignee"
   ]
  },
  {
   "cell_type": "code",
   "execution_count": 13,
   "metadata": {},
   "outputs": [
    {
     "data": {
      "text/plain": [
       "toyota motor corp                                     3602\n",
       "toyota jidosha kabushiki kaisha                       3543\n",
       "robert bosch gmbh                                     2653\n",
       "hyundai motor company                                 2230\n",
       "honda motor co ltd                                    1903\n",
       "nissan motor co ltd                                   1374\n",
       "honda motor co., ltd.                                 1196\n",
       "ford global technologies, llc                         1192\n",
       "nissan motor co., ltd.                                1140\n",
       "honda giken kogyo kabushiki kaisha                     766\n",
       "denso corp                                             603\n",
       "peugeot citroen automobiles sa                         598\n",
       "toyota motor corporation                               474\n",
       "mitsubishi motors corp                                 457\n",
       "hitachi, ltd.                                          408\n",
       "denso corporation                                      337\n",
       "daimlerchrysler ag                                     335\n",
       "continental automotive gmbh                            316\n",
       "toyota motor co., ltd.                                 312\n",
       "hitachi ltd                                            307\n",
       "siemens aktiengesellschaft                             285\n",
       "gm global technology operations llc                    285\n",
       "yamaha hatsudoki kabushiki kaisha                      280\n",
       "suzuki motor corp                                      272\n",
       "mitsubishi jidosha kogyo kabushiki kaisha              269\n",
       "mitsubishi electric corp                               269\n",
       "mazda motor corp                                       268\n",
       "renault s.a.s.                                         240\n",
       "suzuki motor corporation                               229\n",
       "audi ag                                                226\n",
       "                                                      ... \n",
       "mitsuta, naoki                                           1\n",
       "bito, seiji                                              1\n",
       "green power technologies co., ltd.                       1\n",
       "sagata, koji                                             1\n",
       "oao jaroslavskij zavod dizel'noj apparatury              1\n",
       "champel robert henri emmanuel                            1\n",
       "tama-tlo, ltd.                                           1\n",
       "messina; frank a.                                        1\n",
       "hyundai america technical center inc                     1\n",
       "joo, sang-hoon                                           1\n",
       "kamiya, toshihiko                                        1\n",
       "hänssler, sebastian                                      1\n",
       "amphenol (changzhou) electronic co., ltd.                1\n",
       "koenig, melissa                                          1\n",
       "papajewski, jens                                         1\n",
       "shangdong tianhai electric fitting co., ltd.             1\n",
       "xuji electric co., ltd.                                  1\n",
       "engman, thomas                                           1\n",
       "yang weiwei                                              1\n",
       "honda motor company ltd.                                 1\n",
       "bordrin motor corporation                                1\n",
       "brainworks co. ltd.                                      1\n",
       "negre; guy                                               1\n",
       "voennyj inzhenerno-kosmicheskij universitet im. a.       1\n",
       "yamanaka, akihiro                                        1\n",
       "richert, felix                                           1\n",
       "erunsuto aparatebau gmbh unto co                         1\n",
       "amovis gmbh                                              1\n",
       "evps china co., ltd.                                     1\n",
       "goto shinji                                              1\n",
       "Name: assignee, Length: 14319, dtype: int64"
      ]
     },
     "execution_count": 13,
     "metadata": {},
     "output_type": "execute_result"
    }
   ],
   "source": [
    "patents_new['assignee'].value_counts()"
   ]
  },
  {
   "cell_type": "markdown",
   "metadata": {},
   "source": [
    "# cleaning data"
   ]
  },
  {
   "cell_type": "code",
   "execution_count": 14,
   "metadata": {},
   "outputs": [],
   "source": [
    "assignee=patents_new['current_applt'].str.replace('LUZ ELECTRIC FUEL ISRAEL LTD','luz electric fuel israel ltd')"
   ]
  },
  {
   "cell_type": "code",
   "execution_count": 15,
   "metadata": {},
   "outputs": [],
   "source": [
    "assignee=patents_new['current_applt'].str.replace('Luz Electric Fuel Israel Ltd','Luz Electric Fuel Israel Ltd')"
   ]
  },
  {
   "cell_type": "markdown",
   "metadata": {},
   "source": [
    "### Solving toyota duplication"
   ]
  },
  {
   "cell_type": "code",
   "execution_count": 16,
   "metadata": {},
   "outputs": [],
   "source": [
    "patents_new['assignee']=patents_new['assignee'].str.replace('toyota motor co ltd','toyota motor corp')"
   ]
  },
  {
   "cell_type": "code",
   "execution_count": 17,
   "metadata": {},
   "outputs": [],
   "source": [
    "patents_new['assignee']=patents_new['assignee'].str.replace('toyota jidosha kabushiki kaisha','toyota motor corp')"
   ]
  },
  {
   "cell_type": "code",
   "execution_count": 18,
   "metadata": {},
   "outputs": [],
   "source": [
    "patents_new['assignee']=patents_new['assignee'].str.replace('toyota motor co., ltd.','toyota motor corp')"
   ]
  },
  {
   "cell_type": "code",
   "execution_count": 19,
   "metadata": {},
   "outputs": [],
   "source": [
    "patents_new['assignee']=patents_new['assignee'].str.replace('toyota motor corporation','toyota motor corp')"
   ]
  },
  {
   "cell_type": "code",
   "execution_count": null,
   "metadata": {},
   "outputs": [],
   "source": []
  },
  {
   "cell_type": "code",
   "execution_count": 20,
   "metadata": {},
   "outputs": [
    {
     "data": {
      "text/plain": [
       "toyota motor corp                                                                  7991\n",
       "robert bosch gmbh                                                                  2653\n",
       "hyundai motor company                                                              2230\n",
       "honda motor co ltd                                                                 1903\n",
       "nissan motor co ltd                                                                1374\n",
       "honda motor co., ltd.                                                              1196\n",
       "ford global technologies, llc                                                      1192\n",
       "nissan motor co., ltd.                                                             1140\n",
       "honda giken kogyo kabushiki kaisha                                                  766\n",
       "denso corp                                                                          603\n",
       "peugeot citroen automobiles sa                                                      598\n",
       "mitsubishi motors corp                                                              457\n",
       "hitachi, ltd.                                                                       408\n",
       "denso corporation                                                                   337\n",
       "daimlerchrysler ag                                                                  335\n",
       "continental automotive gmbh                                                         316\n",
       "hitachi ltd                                                                         307\n",
       "siemens aktiengesellschaft                                                          285\n",
       "gm global technology operations llc                                                 285\n",
       "yamaha hatsudoki kabushiki kaisha                                                   280\n",
       "suzuki motor corp                                                                   272\n",
       "mitsubishi jidosha kogyo kabushiki kaisha                                           269\n",
       "mitsubishi electric corp                                                            269\n",
       "mazda motor corp                                                                    268\n",
       "renault s.a.s.                                                                      240\n",
       "suzuki motor corporation                                                            229\n",
       "audi ag                                                                             226\n",
       "hyundai motor co ltd                                                                217\n",
       "lsis co., ltd.                                                                      214\n",
       "bayerische motoren werke aktiengesellschaft                                         212\n",
       "                                                                                   ... \n",
       "williams, anthony                                                                     1\n",
       "academician v. lazarian dnipropetrovsk national university of railway transport       1\n",
       "mitsuta, naoki                                                                        1\n",
       "bito, seiji                                                                           1\n",
       "green power technologies co., ltd.                                                    1\n",
       "sagata, koji                                                                          1\n",
       "oao jaroslavskij zavod dizel'noj apparatury                                           1\n",
       "bordrin motor corporation                                                             1\n",
       "evps china co., ltd.                                                                  1\n",
       "amovis gmbh                                                                           1\n",
       "xuji electric co., ltd.                                                               1\n",
       "renault v.l.                                                                          1\n",
       "matano, shinichi                                                                      1\n",
       "liaoning dj tianli power engineering co., ltd.                                        1\n",
       "rodeh leonid georgievich                                                              1\n",
       "amphenol (changzhou) electronic co., ltd.                                             1\n",
       "koenig, melissa                                                                       1\n",
       "papajewski, jens                                                                      1\n",
       "shangdong tianhai electric fitting co., ltd.                                          1\n",
       "engman, thomas                                                                        1\n",
       "erunsuto aparatebau gmbh unto co                                                      1\n",
       "yang weiwei                                                                           1\n",
       "kamiya, toshihiko                                                                     1\n",
       "honda motor company ltd.                                                              1\n",
       "brainworks co. ltd.                                                                   1\n",
       "negre; guy                                                                            1\n",
       "voennyj inzhenerno-kosmicheskij universitet im. a.                                    1\n",
       "yamanaka, akihiro                                                                     1\n",
       "richert, felix                                                                        1\n",
       "goto shinji                                                                           1\n",
       "Name: assignee, Length: 14315, dtype: int64"
      ]
     },
     "execution_count": 20,
     "metadata": {},
     "output_type": "execute_result"
    }
   ],
   "source": [
    "patents_new['assignee'].value_counts()"
   ]
  },
  {
   "cell_type": "markdown",
   "metadata": {},
   "source": [
    "### For honda"
   ]
  },
  {
   "cell_type": "code",
   "execution_count": 21,
   "metadata": {},
   "outputs": [],
   "source": [
    "patents_new['assignee']=patents_new['assignee'].str.replace('honda motor co ltd','honda motor co ltd')"
   ]
  },
  {
   "cell_type": "code",
   "execution_count": 22,
   "metadata": {},
   "outputs": [],
   "source": [
    "patents_new['assignee']=patents_new['assignee'].str.replace('honda giken kogyo kabushiki kaisha','honda motor co ltd')"
   ]
  },
  {
   "cell_type": "code",
   "execution_count": 23,
   "metadata": {},
   "outputs": [],
   "source": [
    "patents_new['assignee']=patents_new['assignee'].str.replace('honda motor co., ltd.','honda motor co ltd')"
   ]
  },
  {
   "cell_type": "code",
   "execution_count": 24,
   "metadata": {},
   "outputs": [
    {
     "data": {
      "text/plain": [
       "toyota motor corp                                                               7991\n",
       "honda motor co ltd                                                              3865\n",
       "robert bosch gmbh                                                               2653\n",
       "hyundai motor company                                                           2230\n",
       "nissan motor co ltd                                                             1374\n",
       "ford global technologies, llc                                                   1192\n",
       "nissan motor co., ltd.                                                          1140\n",
       "denso corp                                                                       603\n",
       "peugeot citroen automobiles sa                                                   598\n",
       "mitsubishi motors corp                                                           457\n",
       "hitachi, ltd.                                                                    408\n",
       "denso corporation                                                                337\n",
       "daimlerchrysler ag                                                               335\n",
       "continental automotive gmbh                                                      316\n",
       "hitachi ltd                                                                      307\n",
       "siemens aktiengesellschaft                                                       285\n",
       "gm global technology operations llc                                              285\n",
       "yamaha hatsudoki kabushiki kaisha                                                280\n",
       "suzuki motor corp                                                                272\n",
       "mitsubishi jidosha kogyo kabushiki kaisha                                        269\n",
       "mitsubishi electric corp                                                         269\n",
       "mazda motor corp                                                                 268\n",
       "renault s.a.s.                                                                   240\n",
       "suzuki motor corporation                                                         229\n",
       "audi ag                                                                          226\n",
       "hyundai motor co ltd                                                             217\n",
       "lsis co., ltd.                                                                   214\n",
       "bayerische motoren werke aktiengesellschaft                                      212\n",
       "mitsubishi electric corporation                                                  205\n",
       "renault s.a.s                                                                    198\n",
       "                                                                                ... \n",
       "green power technologies co., ltd.                                                 1\n",
       "sagata, koji                                                                       1\n",
       "oao jaroslavskij zavod dizel'noj apparatury                                        1\n",
       "champel robert henri emmanuel                                                      1\n",
       "tama-tlo, ltd.                                                                     1\n",
       "mitsubishi heavy industries engine & turbocharger, ltd.                            1\n",
       "niigata konbaataa kk                                                               1\n",
       "state grid shandong electric power company penglai city power supply company       1\n",
       "messina; frank a.                                                                  1\n",
       "hyundai america technical center inc                                               1\n",
       "honda motor company ltd.                                                           1\n",
       "amphenol (changzhou) electronic co., ltd.                                          1\n",
       "koenig, melissa                                                                    1\n",
       "papajewski, jens                                                                   1\n",
       "shangdong tianhai electric fitting co., ltd.                                       1\n",
       "xuji electric co., ltd.                                                            1\n",
       "engman, thomas                                                                     1\n",
       "yang weiwei                                                                        1\n",
       "kamiya, toshihiko                                                                  1\n",
       "brainworks co. ltd.                                                                1\n",
       "joo, sang-hoon                                                                     1\n",
       "negre; guy                                                                         1\n",
       "voennyj inzhenerno-kosmicheskij universitet im. a.                                 1\n",
       "yamanaka, akihiro                                                                  1\n",
       "richert, felix                                                                     1\n",
       "erunsuto aparatebau gmbh unto co                                                   1\n",
       "amovis gmbh                                                                        1\n",
       "evps china co., ltd.                                                               1\n",
       "bordrin motor corporation                                                          1\n",
       "goto shinji                                                                        1\n",
       "Name: assignee, Length: 14313, dtype: int64"
      ]
     },
     "execution_count": 24,
     "metadata": {},
     "output_type": "execute_result"
    }
   ],
   "source": [
    "patents_new['assignee'].value_counts()"
   ]
  },
  {
   "cell_type": "markdown",
   "metadata": {},
   "source": [
    "### nissan"
   ]
  },
  {
   "cell_type": "code",
   "execution_count": null,
   "metadata": {},
   "outputs": [],
   "source": []
  },
  {
   "cell_type": "code",
   "execution_count": 25,
   "metadata": {},
   "outputs": [],
   "source": [
    "patents_new['assignee']=patents_new['assignee'].str.replace('nissan motor co., ltd.','nissan motor co ltd')"
   ]
  },
  {
   "cell_type": "code",
   "execution_count": 26,
   "metadata": {},
   "outputs": [
    {
     "data": {
      "text/plain": [
       "toyota motor corp                                                               7991\n",
       "honda motor co ltd                                                              3865\n",
       "robert bosch gmbh                                                               2653\n",
       "nissan motor co ltd                                                             2515\n",
       "hyundai motor company                                                           2230\n",
       "ford global technologies, llc                                                   1192\n",
       "denso corp                                                                       603\n",
       "peugeot citroen automobiles sa                                                   598\n",
       "mitsubishi motors corp                                                           457\n",
       "hitachi, ltd.                                                                    408\n",
       "denso corporation                                                                337\n",
       "daimlerchrysler ag                                                               335\n",
       "continental automotive gmbh                                                      316\n",
       "hitachi ltd                                                                      307\n",
       "siemens aktiengesellschaft                                                       285\n",
       "gm global technology operations llc                                              285\n",
       "yamaha hatsudoki kabushiki kaisha                                                280\n",
       "suzuki motor corp                                                                272\n",
       "mitsubishi jidosha kogyo kabushiki kaisha                                        269\n",
       "mitsubishi electric corp                                                         269\n",
       "mazda motor corp                                                                 268\n",
       "renault s.a.s.                                                                   240\n",
       "suzuki motor corporation                                                         229\n",
       "audi ag                                                                          226\n",
       "hyundai motor co ltd                                                             217\n",
       "lsis co., ltd.                                                                   214\n",
       "bayerische motoren werke aktiengesellschaft                                      212\n",
       "mitsubishi electric corporation                                                  205\n",
       "renault s.a.s                                                                    198\n",
       "volkswagen aktiengesellschaft                                                    195\n",
       "                                                                                ... \n",
       "sagata, koji                                                                       1\n",
       "oao jaroslavskij zavod dizel'noj apparatury                                        1\n",
       "champel robert henri emmanuel                                                      1\n",
       "tama-tlo, ltd.                                                                     1\n",
       "mitsubishi heavy industries engine & turbocharger, ltd.                            1\n",
       "niigata konbaataa kk                                                               1\n",
       "xiangfan yuqing electric vehicle co., ltd.                                         1\n",
       "schienemann, mark                                                                  1\n",
       "state grid shandong electric power company penglai city power supply company       1\n",
       "messina; frank a.                                                                  1\n",
       "brainworks co. ltd.                                                                1\n",
       "koenig, melissa                                                                    1\n",
       "papajewski, jens                                                                   1\n",
       "shangdong tianhai electric fitting co., ltd.                                       1\n",
       "xuji electric co., ltd.                                                            1\n",
       "engman, thomas                                                                     1\n",
       "yang weiwei                                                                        1\n",
       "kamiya, toshihiko                                                                  1\n",
       "honda motor company ltd.                                                           1\n",
       "negre; guy                                                                         1\n",
       "hyundai america technical center inc                                               1\n",
       "voennyj inzhenerno-kosmicheskij universitet im. a.                                 1\n",
       "yamanaka, akihiro                                                                  1\n",
       "richert, felix                                                                     1\n",
       "erunsuto aparatebau gmbh unto co                                                   1\n",
       "amovis gmbh                                                                        1\n",
       "evps china co., ltd.                                                               1\n",
       "bordrin motor corporation                                                          1\n",
       "joo, sang-hoon                                                                     1\n",
       "goto shinji                                                                        1\n",
       "Name: assignee, Length: 14311, dtype: int64"
      ]
     },
     "execution_count": 26,
     "metadata": {},
     "output_type": "execute_result"
    }
   ],
   "source": [
    "patents_new['assignee'].value_counts()"
   ]
  },
  {
   "cell_type": "markdown",
   "metadata": {},
   "source": [
    "### mitsubishi"
   ]
  },
  {
   "cell_type": "code",
   "execution_count": 27,
   "metadata": {},
   "outputs": [],
   "source": [
    "patents_new['assignee']=patents_new['assignee'].str.replace('mitsubishi jidosha kogyo kabushiki kaisha','mitsubishi motors corp')"
   ]
  },
  {
   "cell_type": "code",
   "execution_count": 28,
   "metadata": {},
   "outputs": [],
   "source": [
    "patents_new['assignee']=patents_new['assignee'].str.replace('mitsubishi electric corporation','mitsubishi electric corp')"
   ]
  },
  {
   "cell_type": "code",
   "execution_count": 47,
   "metadata": {},
   "outputs": [],
   "source": [
    "patents_new['assignee']=patents_new['assignee'].str.replace('mitsubishi denki kabushiki kaisha','mitsubishi motors corp')"
   ]
  },
  {
   "cell_type": "code",
   "execution_count": null,
   "metadata": {},
   "outputs": [],
   "source": []
  },
  {
   "cell_type": "code",
   "execution_count": 29,
   "metadata": {},
   "outputs": [
    {
     "data": {
      "text/plain": [
       "toyota motor corp                                                               7991\n",
       "honda motor co ltd                                                              3865\n",
       "robert bosch gmbh                                                               2653\n",
       "nissan motor co ltd                                                             2515\n",
       "hyundai motor company                                                           2230\n",
       "ford global technologies, llc                                                   1192\n",
       "mitsubishi motors corp                                                           726\n",
       "denso corp                                                                       603\n",
       "peugeot citroen automobiles sa                                                   598\n",
       "mitsubishi electric corp                                                         474\n",
       "hitachi, ltd.                                                                    408\n",
       "denso corporation                                                                337\n",
       "daimlerchrysler ag                                                               335\n",
       "continental automotive gmbh                                                      316\n",
       "hitachi ltd                                                                      307\n",
       "gm global technology operations llc                                              285\n",
       "siemens aktiengesellschaft                                                       285\n",
       "yamaha hatsudoki kabushiki kaisha                                                280\n",
       "suzuki motor corp                                                                272\n",
       "mazda motor corp                                                                 268\n",
       "renault s.a.s.                                                                   240\n",
       "suzuki motor corporation                                                         229\n",
       "audi ag                                                                          226\n",
       "hyundai motor co ltd                                                             217\n",
       "lsis co., ltd.                                                                   214\n",
       "bayerische motoren werke aktiengesellschaft                                      212\n",
       "renault s.a.s                                                                    198\n",
       "volkswagen aktiengesellschaft                                                    195\n",
       "general electric company                                                         195\n",
       "renault sas                                                                      194\n",
       "                                                                                ... \n",
       "green power technologies co., ltd.                                                 1\n",
       "sagata, koji                                                                       1\n",
       "oao jaroslavskij zavod dizel'noj apparatury                                        1\n",
       "champel robert henri emmanuel                                                      1\n",
       "tama-tlo, ltd.                                                                     1\n",
       "mitsubishi heavy industries engine & turbocharger, ltd.                            1\n",
       "niigata konbaataa kk                                                               1\n",
       "state grid shandong electric power company penglai city power supply company       1\n",
       "messina; frank a.                                                                  1\n",
       "hyundai america technical center inc                                               1\n",
       "honda motor company ltd.                                                           1\n",
       "amphenol (changzhou) electronic co., ltd.                                          1\n",
       "koenig, melissa                                                                    1\n",
       "papajewski, jens                                                                   1\n",
       "shangdong tianhai electric fitting co., ltd.                                       1\n",
       "xuji electric co., ltd.                                                            1\n",
       "engman, thomas                                                                     1\n",
       "yang weiwei                                                                        1\n",
       "kamiya, toshihiko                                                                  1\n",
       "brainworks co. ltd.                                                                1\n",
       "joo, sang-hoon                                                                     1\n",
       "negre; guy                                                                         1\n",
       "voennyj inzhenerno-kosmicheskij universitet im. a.                                 1\n",
       "yamanaka, akihiro                                                                  1\n",
       "richert, felix                                                                     1\n",
       "erunsuto aparatebau gmbh unto co                                                   1\n",
       "amovis gmbh                                                                        1\n",
       "evps china co., ltd.                                                               1\n",
       "bordrin motor corporation                                                          1\n",
       "goto shinji                                                                        1\n",
       "Name: assignee, Length: 14309, dtype: int64"
      ]
     },
     "execution_count": 29,
     "metadata": {},
     "output_type": "execute_result"
    }
   ],
   "source": [
    "patents_new['assignee'].value_counts()"
   ]
  },
  {
   "cell_type": "markdown",
   "metadata": {},
   "source": [
    "### hyundai"
   ]
  },
  {
   "cell_type": "code",
   "execution_count": null,
   "metadata": {},
   "outputs": [],
   "source": []
  },
  {
   "cell_type": "code",
   "execution_count": 30,
   "metadata": {},
   "outputs": [],
   "source": [
    "patents_new['assignee']=patents_new['assignee'].str.replace('hyundai motor company','hyundai motor co ltd')"
   ]
  },
  {
   "cell_type": "code",
   "execution_count": 31,
   "metadata": {},
   "outputs": [],
   "source": [
    "patents_new['assignee']=patents_new['assignee'].str.replace('hyundai motor company','hyundai motor co ltd')"
   ]
  },
  {
   "cell_type": "code",
   "execution_count": 32,
   "metadata": {
    "scrolled": true
   },
   "outputs": [
    {
     "data": {
      "text/plain": [
       "toyota motor corp                                                               7991\n",
       "honda motor co ltd                                                              3865\n",
       "robert bosch gmbh                                                               2653\n",
       "nissan motor co ltd                                                             2515\n",
       "hyundai motor co ltd                                                            2447\n",
       "ford global technologies, llc                                                   1192\n",
       "mitsubishi motors corp                                                           726\n",
       "denso corp                                                                       603\n",
       "peugeot citroen automobiles sa                                                   598\n",
       "mitsubishi electric corp                                                         474\n",
       "hitachi, ltd.                                                                    408\n",
       "denso corporation                                                                337\n",
       "daimlerchrysler ag                                                               335\n",
       "continental automotive gmbh                                                      316\n",
       "hitachi ltd                                                                      307\n",
       "siemens aktiengesellschaft                                                       285\n",
       "gm global technology operations llc                                              285\n",
       "yamaha hatsudoki kabushiki kaisha                                                280\n",
       "suzuki motor corp                                                                272\n",
       "mazda motor corp                                                                 268\n",
       "renault s.a.s.                                                                   240\n",
       "suzuki motor corporation                                                         229\n",
       "audi ag                                                                          226\n",
       "lsis co., ltd.                                                                   214\n",
       "bayerische motoren werke aktiengesellschaft                                      212\n",
       "renault s.a.s                                                                    198\n",
       "general electric company                                                         195\n",
       "volkswagen aktiengesellschaft                                                    195\n",
       "renault sas                                                                      194\n",
       "general motors corporation                                                       184\n",
       "                                                                                ... \n",
       "green power technologies co., ltd.                                                 1\n",
       "sagata, koji                                                                       1\n",
       "oao jaroslavskij zavod dizel'noj apparatury                                        1\n",
       "champel robert henri emmanuel                                                      1\n",
       "tama-tlo, ltd.                                                                     1\n",
       "mitsubishi heavy industries engine & turbocharger, ltd.                            1\n",
       "niigata konbaataa kk                                                               1\n",
       "state grid shandong electric power company penglai city power supply company       1\n",
       "messina; frank a.                                                                  1\n",
       "hyundai america technical center inc                                               1\n",
       "honda motor company ltd.                                                           1\n",
       "amphenol (changzhou) electronic co., ltd.                                          1\n",
       "koenig, melissa                                                                    1\n",
       "papajewski, jens                                                                   1\n",
       "shangdong tianhai electric fitting co., ltd.                                       1\n",
       "xuji electric co., ltd.                                                            1\n",
       "engman, thomas                                                                     1\n",
       "yang weiwei                                                                        1\n",
       "kamiya, toshihiko                                                                  1\n",
       "brainworks co. ltd.                                                                1\n",
       "joo, sang-hoon                                                                     1\n",
       "negre; guy                                                                         1\n",
       "voennyj inzhenerno-kosmicheskij universitet im. a.                                 1\n",
       "yamanaka, akihiro                                                                  1\n",
       "richert, felix                                                                     1\n",
       "erunsuto aparatebau gmbh unto co                                                   1\n",
       "amovis gmbh                                                                        1\n",
       "evps china co., ltd.                                                               1\n",
       "bordrin motor corporation                                                          1\n",
       "goto shinji                                                                        1\n",
       "Name: assignee, Length: 14308, dtype: int64"
      ]
     },
     "execution_count": 32,
     "metadata": {},
     "output_type": "execute_result"
    }
   ],
   "source": [
    "patents_new['assignee'].value_counts()"
   ]
  },
  {
   "cell_type": "code",
   "execution_count": null,
   "metadata": {},
   "outputs": [],
   "source": []
  },
  {
   "cell_type": "code",
   "execution_count": 33,
   "metadata": {},
   "outputs": [],
   "source": [
    "patents_new['assignee']=patents_new['assignee'].str.replace('hitachi, ltd.','hitachi ltd')"
   ]
  },
  {
   "cell_type": "code",
   "execution_count": 34,
   "metadata": {},
   "outputs": [
    {
     "data": {
      "text/plain": [
       "toyota motor corp                                     7991\n",
       "honda motor co ltd                                    3865\n",
       "robert bosch gmbh                                     2653\n",
       "nissan motor co ltd                                   2515\n",
       "hyundai motor co ltd                                  2447\n",
       "ford global technologies, llc                         1192\n",
       "mitsubishi motors corp                                 726\n",
       "hitachi ltd                                            715\n",
       "denso corp                                             603\n",
       "peugeot citroen automobiles sa                         598\n",
       "mitsubishi electric corp                               474\n",
       "denso corporation                                      337\n",
       "daimlerchrysler ag                                     335\n",
       "continental automotive gmbh                            316\n",
       "gm global technology operations llc                    285\n",
       "siemens aktiengesellschaft                             285\n",
       "yamaha hatsudoki kabushiki kaisha                      280\n",
       "suzuki motor corp                                      272\n",
       "mazda motor corp                                       268\n",
       "renault s.a.s.                                         240\n",
       "suzuki motor corporation                               229\n",
       "audi ag                                                226\n",
       "lsis co., ltd.                                         214\n",
       "bayerische motoren werke aktiengesellschaft            212\n",
       "renault s.a.s                                          198\n",
       "general electric company                               195\n",
       "volkswagen aktiengesellschaft                          195\n",
       "renault sas                                            194\n",
       "ford global technologies, inc.                         184\n",
       "general motors corporation                             184\n",
       "volkswagen ag                                          179\n",
       "isuzu motors ltd                                       169\n",
       "aisin aw co., ltd.                                     167\n",
       "daimler ag                                             165\n",
       "fuji heavy ind ltd                                     162\n",
       "ford global tech llc                                   152\n",
       "mitsubishi denki kabushiki kaisha                      149\n",
       "daihatsu motor co ltd                                  148\n",
       "ford motor company                                     142\n",
       "beiqi foton motor co., ltd.                            138\n",
       "aisin aw co ltd                                        136\n",
       "sony corporation                                       134\n",
       "avl list gmbh                                          134\n",
       "yamaha motor co ltd                                    130\n",
       "renault                                                128\n",
       "jaguar land rover limited                              127\n",
       "byd company limited                                    125\n",
       "korea advanced institute of science and technology     121\n",
       "toshiba corp                                           120\n",
       "kia motors corporation                                 119\n",
       "Name: assignee, dtype: int64"
      ]
     },
     "execution_count": 34,
     "metadata": {},
     "output_type": "execute_result"
    }
   ],
   "source": [
    "patents_new['assignee'].value_counts()[:50]"
   ]
  },
  {
   "cell_type": "markdown",
   "metadata": {},
   "source": [
    "### ford"
   ]
  },
  {
   "cell_type": "code",
   "execution_count": 41,
   "metadata": {},
   "outputs": [],
   "source": [
    "patents_new['assignee']=patents_new['assignee'].str.replace('ford global tech llc','ford global technologies inc')"
   ]
  },
  {
   "cell_type": "code",
   "execution_count": 42,
   "metadata": {},
   "outputs": [],
   "source": [
    "patents_new['assignee']=patents_new['assignee'].str.replace('ford global technologies, inc.','ford global technologies inc')"
   ]
  },
  {
   "cell_type": "code",
   "execution_count": 43,
   "metadata": {},
   "outputs": [],
   "source": [
    "patents_new['assignee']=patents_new['assignee'].str.replace('ford global technologies, llc','ford global technologies inc')"
   ]
  },
  {
   "cell_type": "code",
   "execution_count": 45,
   "metadata": {},
   "outputs": [],
   "source": [
    "patents_new['assignee']=patents_new['assignee'].str.replace('ford global technologies, llc','ford global technologies inc')"
   ]
  },
  {
   "cell_type": "code",
   "execution_count": 49,
   "metadata": {},
   "outputs": [],
   "source": [
    "patents_new['assignee']=patents_new['assignee'].str.replace('ford global technologies llc','ford global technologies inc')"
   ]
  },
  {
   "cell_type": "code",
   "execution_count": null,
   "metadata": {},
   "outputs": [],
   "source": []
  },
  {
   "cell_type": "code",
   "execution_count": 50,
   "metadata": {},
   "outputs": [
    {
     "data": {
      "text/plain": [
       "toyota motor corp                                     7991\n",
       "honda motor co ltd                                    3865\n",
       "robert bosch gmbh                                     2653\n",
       "nissan motor co ltd                                   2515\n",
       "hyundai motor co ltd                                  2447\n",
       "ford global technologies inc                          1652\n",
       "mitsubishi motors corp                                 875\n",
       "hitachi ltd                                            715\n",
       "denso corp                                             603\n",
       "peugeot citroen automobiles sa                         598\n",
       "mitsubishi electric corp                               474\n",
       "denso corporation                                      337\n",
       "daimlerchrysler ag                                     335\n",
       "continental automotive gmbh                            316\n",
       "gm global technology operations llc                    285\n",
       "siemens aktiengesellschaft                             285\n",
       "yamaha hatsudoki kabushiki kaisha                      280\n",
       "suzuki motor corp                                      272\n",
       "mazda motor corp                                       268\n",
       "renault s.a.s.                                         240\n",
       "suzuki motor corporation                               229\n",
       "audi ag                                                226\n",
       "lsis co., ltd.                                         214\n",
       "bayerische motoren werke aktiengesellschaft            212\n",
       "renault s.a.s                                          198\n",
       "general electric company                               195\n",
       "volkswagen aktiengesellschaft                          195\n",
       "renault sas                                            194\n",
       "general motors corporation                             184\n",
       "volkswagen ag                                          179\n",
       "isuzu motors ltd                                       169\n",
       "aisin aw co., ltd.                                     167\n",
       "daimler ag                                             165\n",
       "fuji heavy ind ltd                                     162\n",
       "daihatsu motor co ltd                                  148\n",
       "ford motor company                                     142\n",
       "beiqi foton motor co., ltd.                            138\n",
       "aisin aw co ltd                                        136\n",
       "sony corporation                                       134\n",
       "avl list gmbh                                          134\n",
       "yamaha motor co ltd                                    130\n",
       "renault                                                128\n",
       "jaguar land rover limited                              127\n",
       "byd company limited                                    125\n",
       "korea advanced institute of science and technology     121\n",
       "toshiba corp                                           120\n",
       "kia motors corporation                                 119\n",
       "kawasaki jukogyo kabushiki kaisha                      117\n",
       "ntn corporation                                        114\n",
       "mahle international gmbh                               113\n",
       "Name: assignee, dtype: int64"
      ]
     },
     "execution_count": 50,
     "metadata": {},
     "output_type": "execute_result"
    }
   ],
   "source": [
    "patents_new['assignee'].value_counts()[:50]"
   ]
  },
  {
   "cell_type": "code",
   "execution_count": 51,
   "metadata": {},
   "outputs": [],
   "source": [
    "patents_new['assignee']=patents_new['assignee'].str.replace('renault s.a.s','renault sas')"
   ]
  },
  {
   "cell_type": "code",
   "execution_count": 52,
   "metadata": {},
   "outputs": [],
   "source": [
    "patents_new['assignee']=patents_new['assignee'].str.replace('renault s.a.s.','renault sas')"
   ]
  },
  {
   "cell_type": "code",
   "execution_count": 54,
   "metadata": {},
   "outputs": [],
   "source": [
    "patents_new['assignee']=patents_new['assignee'].str.replace('renault sas.','renault sas')"
   ]
  },
  {
   "cell_type": "code",
   "execution_count": 55,
   "metadata": {},
   "outputs": [
    {
     "data": {
      "text/plain": [
       "toyota motor corp                                     7991\n",
       "honda motor co ltd                                    3865\n",
       "robert bosch gmbh                                     2653\n",
       "nissan motor co ltd                                   2515\n",
       "hyundai motor co ltd                                  2447\n",
       "ford global technologies inc                          1652\n",
       "mitsubishi motors corp                                 875\n",
       "hitachi ltd                                            715\n",
       "renault sas                                            632\n",
       "denso corp                                             603\n",
       "peugeot citroen automobiles sa                         598\n",
       "mitsubishi electric corp                               474\n",
       "denso corporation                                      337\n",
       "daimlerchrysler ag                                     335\n",
       "continental automotive gmbh                            316\n",
       "gm global technology operations llc                    285\n",
       "siemens aktiengesellschaft                             285\n",
       "yamaha hatsudoki kabushiki kaisha                      280\n",
       "suzuki motor corp                                      272\n",
       "mazda motor corp                                       268\n",
       "suzuki motor corporation                               229\n",
       "audi ag                                                226\n",
       "lsis co., ltd.                                         214\n",
       "bayerische motoren werke aktiengesellschaft            212\n",
       "volkswagen aktiengesellschaft                          195\n",
       "general electric company                               195\n",
       "general motors corporation                             184\n",
       "volkswagen ag                                          179\n",
       "isuzu motors ltd                                       169\n",
       "aisin aw co., ltd.                                     167\n",
       "daimler ag                                             165\n",
       "fuji heavy ind ltd                                     162\n",
       "daihatsu motor co ltd                                  148\n",
       "ford motor company                                     142\n",
       "beiqi foton motor co., ltd.                            138\n",
       "aisin aw co ltd                                        136\n",
       "avl list gmbh                                          134\n",
       "sony corporation                                       134\n",
       "yamaha motor co ltd                                    130\n",
       "renault                                                128\n",
       "jaguar land rover limited                              127\n",
       "byd company limited                                    125\n",
       "korea advanced institute of science and technology     121\n",
       "toshiba corp                                           120\n",
       "kia motors corporation                                 119\n",
       "kawasaki jukogyo kabushiki kaisha                      117\n",
       "ntn corporation                                        114\n",
       "mahle international gmbh                               113\n",
       "scania cv ab                                           107\n",
       "isuzu motors limited                                   106\n",
       "Name: assignee, dtype: int64"
      ]
     },
     "execution_count": 55,
     "metadata": {},
     "output_type": "execute_result"
    }
   ],
   "source": [
    "patents_new['assignee'].value_counts()[:50]"
   ]
  }
 ],
 "metadata": {
  "kernelspec": {
   "display_name": "Python 3",
   "language": "python",
   "name": "python3"
  },
  "language_info": {
   "codemirror_mode": {
    "name": "ipython",
    "version": 3
   },
   "file_extension": ".py",
   "mimetype": "text/x-python",
   "name": "python",
   "nbconvert_exporter": "python",
   "pygments_lexer": "ipython3",
   "version": "3.6.5"
  }
 },
 "nbformat": 4,
 "nbformat_minor": 2
}
