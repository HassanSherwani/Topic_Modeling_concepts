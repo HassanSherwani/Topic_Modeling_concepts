{
 "cells": [
  {
   "cell_type": "markdown",
   "metadata": {},
   "source": [
    "# Working on firm level data"
   ]
  },
  {
   "cell_type": "code",
   "execution_count": null,
   "metadata": {},
   "outputs": [],
   "source": []
  },
  {
   "cell_type": "code",
   "execution_count": 1,
   "metadata": {},
   "outputs": [],
   "source": [
    "import pandas as pd\n",
    "import nltk\n",
    "import numpy as np\n",
    "import requests\n",
    "import pickle"
   ]
  },
  {
   "cell_type": "code",
   "execution_count": 2,
   "metadata": {},
   "outputs": [],
   "source": [
    "data = pd.read_pickle('firm_clean_data.pkl')"
   ]
  },
  {
   "cell_type": "code",
   "execution_count": 3,
   "metadata": {},
   "outputs": [
    {
     "data": {
      "text/plain": [
       "0        luz electric fuel israel ltd\n",
       "1        luz electric fuel israel ltd\n",
       "2    sumitomo electric industries ltd\n",
       "3           sumitomo electric ind ltd\n",
       "4    sumitomo electric industries ltd\n",
       "5    sumitomo electric industries ltd\n",
       "6             ricardo cayetano algeri\n",
       "7            algeri; ricardo cayetano\n",
       "8                       avl list gmbh\n",
       "9                       avl list gmbh\n",
       "Name: assignee, dtype: object"
      ]
     },
     "execution_count": 3,
     "metadata": {},
     "output_type": "execute_result"
    }
   ],
   "source": [
    "data[:10]"
   ]
  },
  {
   "cell_type": "code",
   "execution_count": 4,
   "metadata": {},
   "outputs": [],
   "source": [
    "#patents_new[patents_new.current_applt=='TOYOTA MOTOR CORP']"
   ]
  },
  {
   "cell_type": "code",
   "execution_count": 5,
   "metadata": {},
   "outputs": [],
   "source": [
    "#ri[ri.violation == 'Speeding'].driver_gender.value_counts()"
   ]
  },
  {
   "cell_type": "code",
   "execution_count": 6,
   "metadata": {},
   "outputs": [],
   "source": [
    "data = data.str.replace(\",\",\"\")"
   ]
  },
  {
   "cell_type": "code",
   "execution_count": 7,
   "metadata": {},
   "outputs": [],
   "source": [
    "data = data.str.replace(\".\",\"\")"
   ]
  },
  {
   "cell_type": "code",
   "execution_count": 8,
   "metadata": {},
   "outputs": [
    {
     "data": {
      "text/plain": [
       "toyota motor corp                                     7997\n",
       "honda motor co ltd                                    3899\n",
       "nissan motor co ltd                                   2670\n",
       "robert bosch gmbh                                     2659\n",
       "hyundai motor co ltd                                  2597\n",
       "ford global technologies inc                          1671\n",
       "mitsubishi motors corp                                 899\n",
       "renault sas                                            760\n",
       "hitachi ltd                                            759\n",
       "denso corp                                             640\n",
       "peugeot citroen automobiles sa                         626\n",
       "mitsubishi electric corp                               513\n",
       "aisin aw co ltd                                        365\n",
       "daimlerchrysler ag                                     338\n",
       "denso corporation                                      337\n",
       "continental automotive gmbh                            316\n",
       "suzuki motor corp                                      299\n",
       "gm global technology operations llc                    291\n",
       "siemens aktiengesellschaft                             285\n",
       "yamaha hatsudoki kabushiki kaisha                      280\n",
       "mazda motor corp                                       274\n",
       "lsis co ltd                                            253\n",
       "suzuki motor corporation                               229\n",
       "audi ag                                                226\n",
       "bayerische motoren werke aktiengesellschaft            212\n",
       "general electric company                               199\n",
       "volkswagen aktiengesellschaft                          195\n",
       "isuzu motors ltd                                       194\n",
       "hitachi automotive systems ltd                         192\n",
       "yamaha motor co ltd                                    186\n",
       "general motors corporation                             184\n",
       "volkswagen ag                                          180\n",
       "hino motors ltd                                        168\n",
       "fuji heavy ind ltd                                     168\n",
       "daimler ag                                             165\n",
       "daihatsu motor co ltd                                  159\n",
       "ford motor company                                     142\n",
       "beiqi foton motor co ltd                               138\n",
       "sony corporation                                       134\n",
       "avl list gmbh                                          134\n",
       "jaguar land rover limited                              127\n",
       "byd company limited                                    125\n",
       "toshiba corp                                           123\n",
       "korea advanced institute of science and technology     121\n",
       "nippondenso co ltd                                     120\n",
       "kia motors corporation                                 119\n",
       "kawasaki jukogyo kabushiki kaisha                      117\n",
       "ntn corporation                                        114\n",
       "mahle international gmbh                               113\n",
       "jatco ltd                                              112\n",
       "Name: assignee, dtype: int64"
      ]
     },
     "execution_count": 8,
     "metadata": {},
     "output_type": "execute_result"
    }
   ],
   "source": [
    "data.value_counts()[:50]"
   ]
  },
  {
   "cell_type": "code",
   "execution_count": 11,
   "metadata": {},
   "outputs": [
    {
     "data": {
      "text/plain": [
       "133"
      ]
     },
     "execution_count": 11,
     "metadata": {},
     "output_type": "execute_result"
    }
   ],
   "source": [
    "data.value_counts().nunique()"
   ]
  },
  {
   "cell_type": "code",
   "execution_count": 12,
   "metadata": {},
   "outputs": [
    {
     "data": {
      "text/plain": [
       "array([7997, 3899, 2670, 2659, 2597, 1671,  899,  760,  759,  640,  626,\n",
       "        513,  365,  338,  337,  316,  299,  291,  285,  280,  274,  253,\n",
       "        229,  226,  212,  199,  195,  194,  192,  186,  184,  180,  168,\n",
       "        165,  159,  142,  138,  134,  127,  125,  123,  121,  120,  119,\n",
       "        117,  114,  113,  112,  107,  106,  105,  103,  100,   99,   97,\n",
       "         96,   93,   88,   87,   86,   85,   84,   83,   80,   78,   77,\n",
       "         75,   74,   72,   71,   70,   69,   65,   63,   61,   60,   59,\n",
       "         58,   57,   55,   54,   53,   52,   51,   50,   49,   48,   47,\n",
       "         46,   45,   43,   42,   41,   40,   39,   38,   37,   36,   35,\n",
       "         34,   33,   32,   31,   30,   29,   28,   27,   26,   25,   24,\n",
       "         23,   22,   21,   20,   19,   18,   17,   16,   15,   14,   13,\n",
       "         12,   11,   10,    9,    8,    7,    6,    5,    4,    3,    2,\n",
       "          1], dtype=int64)"
      ]
     },
     "execution_count": 12,
     "metadata": {},
     "output_type": "execute_result"
    }
   ],
   "source": [
    "data.value_counts().unique()"
   ]
  },
  {
   "cell_type": "code",
   "execution_count": 14,
   "metadata": {},
   "outputs": [
    {
     "data": {
      "text/plain": [
       "13469"
      ]
     },
     "execution_count": 14,
     "metadata": {},
     "output_type": "execute_result"
    }
   ],
   "source": [
    "data.nunique()"
   ]
  },
  {
   "cell_type": "code",
   "execution_count": null,
   "metadata": {},
   "outputs": [],
   "source": []
  }
 ],
 "metadata": {
  "kernelspec": {
   "display_name": "Python 3",
   "language": "python",
   "name": "python3"
  },
  "language_info": {
   "codemirror_mode": {
    "name": "ipython",
    "version": 3
   },
   "file_extension": ".py",
   "mimetype": "text/x-python",
   "name": "python",
   "nbconvert_exporter": "python",
   "pygments_lexer": "ipython3",
   "version": "3.6.5"
  }
 },
 "nbformat": 4,
 "nbformat_minor": 2
}
