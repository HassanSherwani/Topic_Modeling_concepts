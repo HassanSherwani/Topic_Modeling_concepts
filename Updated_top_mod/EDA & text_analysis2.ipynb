{
 "cells": [
  {
   "cell_type": "markdown",
   "metadata": {},
   "source": [
    "# Patent analysis for EV"
   ]
  },
  {
   "cell_type": "markdown",
   "metadata": {},
   "source": [
    "- set 1 is fuel cell\n",
    "- set 2 is electric vehicle\n",
    "- set 4 is internal combustion\n",
    "- set 8 is hybrid"
   ]
  },
  {
   "cell_type": "code",
   "execution_count": 1,
   "metadata": {},
   "outputs": [],
   "source": [
    "import warnings\n",
    "warnings.filterwarnings('ignore')"
   ]
  },
  {
   "cell_type": "code",
   "execution_count": 2,
   "metadata": {},
   "outputs": [],
   "source": [
    "import pandas as pd\n",
    "import nltk"
   ]
  },
  {
   "cell_type": "code",
   "execution_count": 3,
   "metadata": {},
   "outputs": [
    {
     "name": "stdout",
     "output_type": "stream",
     "text": [
      "Populating the interactive namespace from numpy and matplotlib\n"
     ]
    }
   ],
   "source": [
    "# Visualization \n",
    "import matplotlib.pyplot as plt\n",
    "import seaborn as sns\n",
    "%matplotlib inline\n",
    "%pylab inline"
   ]
  },
  {
   "cell_type": "code",
   "execution_count": 8,
   "metadata": {},
   "outputs": [],
   "source": [
    "patent=pd.read_csv('patent_all_en_new.csv')"
   ]
  },
  {
   "cell_type": "code",
   "execution_count": 9,
   "metadata": {},
   "outputs": [
    {
     "data": {
      "text/plain": [
       "(68764, 34)"
      ]
     },
     "execution_count": 9,
     "metadata": {},
     "output_type": "execute_result"
    }
   ],
   "source": [
    "patent.shape"
   ]
  },
  {
   "cell_type": "code",
   "execution_count": 10,
   "metadata": {},
   "outputs": [
    {
     "data": {
      "text/plain": [
       "4     29749\n",
       "2     16968\n",
       "8     12825\n",
       "1      5877\n",
       "10     1867\n",
       "12     1095\n",
       "3       160\n",
       "14      112\n",
       "9        49\n",
       "5        26\n",
       "6        20\n",
       "11       16\n",
       "Name: sets, dtype: int64"
      ]
     },
     "execution_count": 10,
     "metadata": {},
     "output_type": "execute_result"
    }
   ],
   "source": [
    "patent.sets.value_counts()"
   ]
  },
  {
   "cell_type": "code",
   "execution_count": 11,
   "metadata": {},
   "outputs": [
    {
     "data": {
      "text/html": [
       "<div>\n",
       "<style scoped>\n",
       "    .dataframe tbody tr th:only-of-type {\n",
       "        vertical-align: middle;\n",
       "    }\n",
       "\n",
       "    .dataframe tbody tr th {\n",
       "        vertical-align: top;\n",
       "    }\n",
       "\n",
       "    .dataframe thead th {\n",
       "        text-align: right;\n",
       "    }\n",
       "</style>\n",
       "<table border=\"1\" class=\"dataframe\">\n",
       "  <thead>\n",
       "    <tr style=\"text-align: right;\">\n",
       "      <th></th>\n",
       "      <th>appln</th>\n",
       "      <th>appln_id</th>\n",
       "      <th>family_id</th>\n",
       "      <th>sets</th>\n",
       "      <th>direct</th>\n",
       "      <th>granted</th>\n",
       "      <th>earliest_appln</th>\n",
       "      <th>earliest_filing_date</th>\n",
       "      <th>publn_date</th>\n",
       "      <th>publn</th>\n",
       "      <th>...</th>\n",
       "      <th>citing_publn_date</th>\n",
       "      <th>citing_publn</th>\n",
       "      <th>citing_appln</th>\n",
       "      <th>citing_appln_id</th>\n",
       "      <th>citing_family_id</th>\n",
       "      <th>num_citing_family</th>\n",
       "      <th>earliest_applt</th>\n",
       "      <th>current_applt</th>\n",
       "      <th>appln_title</th>\n",
       "      <th>appln_abstr</th>\n",
       "    </tr>\n",
       "  </thead>\n",
       "  <tbody>\n",
       "    <tr>\n",
       "      <th>0</th>\n",
       "      <td>WO9105114W</td>\n",
       "      <td>47158713</td>\n",
       "      <td>1239277</td>\n",
       "      <td>2</td>\n",
       "      <td>1</td>\n",
       "      <td>1</td>\n",
       "      <td>US55592190A</td>\n",
       "      <td>1990-07-19</td>\n",
       "      <td>1993-02-18</td>\n",
       "      <td>WO9303532A1</td>\n",
       "      <td>...</td>\n",
       "      <td>2002-07-11</td>\n",
       "      <td>WO0199222A3</td>\n",
       "      <td>WO0119827W</td>\n",
       "      <td>45621927</td>\n",
       "      <td>24395918</td>\n",
       "      <td>30</td>\n",
       "      <td>LUZ ELECTRIC FUEL ISRAEL LTD.</td>\n",
       "      <td>LUZ ELECTRIC FUEL ISRAEL LTD.</td>\n",
       "      <td>ELECTRICAL ENERGY SYSTEM</td>\n",
       "      <td>An electrical energy system including an elect...</td>\n",
       "    </tr>\n",
       "    <tr>\n",
       "      <th>1</th>\n",
       "      <td>US55592190A</td>\n",
       "      <td>51797454</td>\n",
       "      <td>1239277</td>\n",
       "      <td>2</td>\n",
       "      <td>1</td>\n",
       "      <td>1</td>\n",
       "      <td>US55592190A</td>\n",
       "      <td>1990-07-19</td>\n",
       "      <td>1992-06-09</td>\n",
       "      <td>US5121044A</td>\n",
       "      <td>...</td>\n",
       "      <td>1993-05-04\\n1994-03-09\\n1994-09-20\\n1995-07-18...</td>\n",
       "      <td>US5208526A\\nEP0557287A4\\nUS5349535A\\nUS5434020...</td>\n",
       "      <td>US63645090A\\nEP91915464A\\nUS96399792A\\nUS15296...</td>\n",
       "      <td>52393850\\n16916549\\n54353461\\n48212422\\n457802...</td>\n",
       "      <td>27071024\\n1239277\\n25508001\\n22545199\\n2636904...</td>\n",
       "      <td>30</td>\n",
       "      <td>Luz Electric Fuel Israel, Ltd.</td>\n",
       "      <td>Luz Electric Fuel Israel, Ltd.</td>\n",
       "      <td>Electrical energy system</td>\n",
       "      <td>An electrical energy system including an elect...</td>\n",
       "    </tr>\n",
       "    <tr>\n",
       "      <th>2</th>\n",
       "      <td>EP96927918A</td>\n",
       "      <td>17205496</td>\n",
       "      <td>1341188</td>\n",
       "      <td>4</td>\n",
       "      <td>0</td>\n",
       "      <td>0</td>\n",
       "      <td>JP4059995A</td>\n",
       "      <td>1995-02-28</td>\n",
       "      <td>1998-08-12</td>\n",
       "      <td>EP0857862A1</td>\n",
       "      <td>...</td>\n",
       "      <td>2002-01-02\\n2002-01-10\\n2002-08-29\\n2017-12-06</td>\n",
       "      <td>EP1167708A2\\nDE10029978A1\\nDE10105233A1\\nEP220...</td>\n",
       "      <td>EP01115227A\\nDE10029978A\\nDE10105233A\\nEP08842...</td>\n",
       "      <td>15814252\\n12936842\\n12970055\\n57178895</td>\n",
       "      <td>7646156\\n7646156\\n7672964\\n40580359</td>\n",
       "      <td>31</td>\n",
       "      <td>SUMITOMO ELECTRIC INDUSTRIES, LTD.</td>\n",
       "      <td>SUMITOMO ELECTRIC INDUSTRIES, LTD.</td>\n",
       "      <td>PARTICULATE TRAP FOR A DIESEL ENGINE</td>\n",
       "      <td>An object is to provide a particulate trap for...</td>\n",
       "    </tr>\n",
       "    <tr>\n",
       "      <th>3</th>\n",
       "      <td>JP4059995A</td>\n",
       "      <td>27121457</td>\n",
       "      <td>1341188</td>\n",
       "      <td>4</td>\n",
       "      <td>1</td>\n",
       "      <td>0</td>\n",
       "      <td>JP4059995A</td>\n",
       "      <td>1995-02-28</td>\n",
       "      <td>1996-09-10</td>\n",
       "      <td>JPH08229330A</td>\n",
       "      <td>...</td>\n",
       "      <td>2010-09-27\\n2011-01-27\\n2013-05-02\\n2014-03-18...</td>\n",
       "      <td>KR20100103462A\\nJP2011502743A\\nJP2013078764A\\n...</td>\n",
       "      <td>KR20107010572A\\nJP2010531202A\\nJP2012279486A\\n...</td>\n",
       "      <td>328440678\\n332201837\\n406999716\\n378212937\\n41...</td>\n",
       "      <td>40580359\\n40580359\\n40580359\\n40580359\\n405803...</td>\n",
       "      <td>31</td>\n",
       "      <td>SUMITOMO ELECTRIC IND LTD</td>\n",
       "      <td>SUMITOMO ELECTRIC IND LTD</td>\n",
       "      <td>PARTICULATE TRAP FOR DIESEL ENGINE</td>\n",
       "      <td>PURPOSE: To obtain a trap by which the leakage...</td>\n",
       "    </tr>\n",
       "    <tr>\n",
       "      <th>4</th>\n",
       "      <td>WO9602405W</td>\n",
       "      <td>30070806</td>\n",
       "      <td>1341188</td>\n",
       "      <td>4</td>\n",
       "      <td>0</td>\n",
       "      <td>0</td>\n",
       "      <td>JP4059995A</td>\n",
       "      <td>1995-02-28</td>\n",
       "      <td>1998-03-05</td>\n",
       "      <td>WO9809059A1</td>\n",
       "      <td>...</td>\n",
       "      <td>NaN</td>\n",
       "      <td>NaN</td>\n",
       "      <td>NaN</td>\n",
       "      <td>NaN</td>\n",
       "      <td>NaN</td>\n",
       "      <td>31</td>\n",
       "      <td>Sumitomo Electric Industries, Ltd.</td>\n",
       "      <td>Sumitomo Electric Industries, Ltd.</td>\n",
       "      <td>PARTICULATE TRAP FOR A DIESEL ENGINE</td>\n",
       "      <td>A particulate trap for a diesel engine designe...</td>\n",
       "    </tr>\n",
       "  </tbody>\n",
       "</table>\n",
       "<p>5 rows × 34 columns</p>\n",
       "</div>"
      ],
      "text/plain": [
       "         appln  appln_id  family_id  sets  direct  granted earliest_appln  \\\n",
       "0   WO9105114W  47158713    1239277     2       1        1    US55592190A   \n",
       "1  US55592190A  51797454    1239277     2       1        1    US55592190A   \n",
       "2  EP96927918A  17205496    1341188     4       0        0     JP4059995A   \n",
       "3   JP4059995A  27121457    1341188     4       1        0     JP4059995A   \n",
       "4   WO9602405W  30070806    1341188     4       0        0     JP4059995A   \n",
       "\n",
       "  earliest_filing_date  publn_date         publn  \\\n",
       "0           1990-07-19  1993-02-18   WO9303532A1   \n",
       "1           1990-07-19  1992-06-09    US5121044A   \n",
       "2           1995-02-28  1998-08-12   EP0857862A1   \n",
       "3           1995-02-28  1996-09-10  JPH08229330A   \n",
       "4           1995-02-28  1998-03-05   WO9809059A1   \n",
       "\n",
       "                         ...                          \\\n",
       "0                        ...                           \n",
       "1                        ...                           \n",
       "2                        ...                           \n",
       "3                        ...                           \n",
       "4                        ...                           \n",
       "\n",
       "                                   citing_publn_date  \\\n",
       "0                                         2002-07-11   \n",
       "1  1993-05-04\\n1994-03-09\\n1994-09-20\\n1995-07-18...   \n",
       "2     2002-01-02\\n2002-01-10\\n2002-08-29\\n2017-12-06   \n",
       "3  2010-09-27\\n2011-01-27\\n2013-05-02\\n2014-03-18...   \n",
       "4                                                NaN   \n",
       "\n",
       "                                        citing_publn  \\\n",
       "0                                        WO0199222A3   \n",
       "1  US5208526A\\nEP0557287A4\\nUS5349535A\\nUS5434020...   \n",
       "2  EP1167708A2\\nDE10029978A1\\nDE10105233A1\\nEP220...   \n",
       "3  KR20100103462A\\nJP2011502743A\\nJP2013078764A\\n...   \n",
       "4                                                NaN   \n",
       "\n",
       "                                        citing_appln  \\\n",
       "0                                         WO0119827W   \n",
       "1  US63645090A\\nEP91915464A\\nUS96399792A\\nUS15296...   \n",
       "2  EP01115227A\\nDE10029978A\\nDE10105233A\\nEP08842...   \n",
       "3  KR20107010572A\\nJP2010531202A\\nJP2012279486A\\n...   \n",
       "4                                                NaN   \n",
       "\n",
       "                                     citing_appln_id  \\\n",
       "0                                           45621927   \n",
       "1  52393850\\n16916549\\n54353461\\n48212422\\n457802...   \n",
       "2             15814252\\n12936842\\n12970055\\n57178895   \n",
       "3  328440678\\n332201837\\n406999716\\n378212937\\n41...   \n",
       "4                                                NaN   \n",
       "\n",
       "                                    citing_family_id num_citing_family  \\\n",
       "0                                           24395918                30   \n",
       "1  27071024\\n1239277\\n25508001\\n22545199\\n2636904...                30   \n",
       "2                7646156\\n7646156\\n7672964\\n40580359                31   \n",
       "3  40580359\\n40580359\\n40580359\\n40580359\\n405803...                31   \n",
       "4                                                NaN                31   \n",
       "\n",
       "                       earliest_applt                       current_applt  \\\n",
       "0       LUZ ELECTRIC FUEL ISRAEL LTD.       LUZ ELECTRIC FUEL ISRAEL LTD.   \n",
       "1      Luz Electric Fuel Israel, Ltd.      Luz Electric Fuel Israel, Ltd.   \n",
       "2  SUMITOMO ELECTRIC INDUSTRIES, LTD.  SUMITOMO ELECTRIC INDUSTRIES, LTD.   \n",
       "3           SUMITOMO ELECTRIC IND LTD           SUMITOMO ELECTRIC IND LTD   \n",
       "4  Sumitomo Electric Industries, Ltd.  Sumitomo Electric Industries, Ltd.   \n",
       "\n",
       "                            appln_title  \\\n",
       "0              ELECTRICAL ENERGY SYSTEM   \n",
       "1              Electrical energy system   \n",
       "2  PARTICULATE TRAP FOR A DIESEL ENGINE   \n",
       "3    PARTICULATE TRAP FOR DIESEL ENGINE   \n",
       "4  PARTICULATE TRAP FOR A DIESEL ENGINE   \n",
       "\n",
       "                                         appln_abstr  \n",
       "0  An electrical energy system including an elect...  \n",
       "1  An electrical energy system including an elect...  \n",
       "2  An object is to provide a particulate trap for...  \n",
       "3  PURPOSE: To obtain a trap by which the leakage...  \n",
       "4  A particulate trap for a diesel engine designe...  \n",
       "\n",
       "[5 rows x 34 columns]"
      ]
     },
     "execution_count": 11,
     "metadata": {},
     "output_type": "execute_result"
    }
   ],
   "source": [
    "patent.head()"
   ]
  },
  {
   "cell_type": "markdown",
   "metadata": {},
   "source": [
    "- appln                     The identifier of the application (with letter at the end, seems Google omits that)\n",
    "- appln_id                  The (internal) patstat identifier of the application\n",
    "- family_id                 The (internal) patstat identifier of the family that the application is a member of sets  - sets                      Indicate which sets (fuel-cell = 1, electric  vehicle = 2, both = 3) was matched\n",
    "- direct                    Indicate whether this application was found directly (title/abstract/cpc/ipc) or      indirectly (family association)\n",
    "- granted                   Whether or not the application was granted\n",
    "- earliest_appln            Per family, the earliest application\n",
    "- earliest_filing_date      The date of the family's earliest application\n",
    "- publn                     Identifiers of publications associated with this application (*)\n",
    "- publn_date                The dates of associated publications (*)\n",
    "- publn_first_grant         Indicates for each publication if its the first one with granted status\n",
    "- num_cpc_class             The number of CPC classes for this application\n",
    "- cpc_class                 The CPC class symbols for this application\n",
    "- num_ipc_class             The number of IPC classes for this application\n",
    "- ipc_class                 The IPC class symbols for this application\n",
    "- num_cited_publn           The number of forward citations (this applications refers to other publications)\n",
    "- cited_publn_date          The dates of cited publications (**)\n",
    "- cited_publn               The identifiers of cited publications (**)\n",
    "- cited_appln               The identifiers of the applications  associated with cited publications (**)\n",
    "- cited_appln_id            The (internal) patstat identifiers of the  applications associated with cited publications (**)\n",
    "- cited_family_id           The (internal) patstat identifiers of the  family associated with cited publications (**)\n",
    "- num_cited_family          The total number of distinct families  associated with cited publications (***)\n",
    "- num_citing_publn          The number of backward citations (other  publications refer to this application)\n",
    "- citing_publn_date         The dates of citing publications (**)\n",
    "- citing_publn              The identifiers of citing publications (**)\n",
    "- citing_appln              The identifiers of the applications  associated with citing publications (**)\n",
    "- citing_appln_id           The (internal) patstat identifiers of the  applications associated with citing publications (**)\n",
    "- citing_family_id          The (internal) patstat identifiers of the  family associated with citing publications (**)\n",
    "- num_citing_family         The total number of distinct families  associated with citing publications (***)\n",
    "- earliest_applt            The name of the (first) applicant of the  earliest publication of this application \n",
    "- current_applt             The name of the (first) applicant of the most recent publication of this application\n",
    "- appln_title               The title of this application\n",
    ">>\n",
    ">> (*/**) These are one per line, in consistent order\n",
    "\n",
    "\n",
    ">> (***) These seem to be the numbers that google uses to count citations. You can get this from the export if you aggregate all applications within a family and discard duplicates.\n"
   ]
  },
  {
   "cell_type": "code",
   "execution_count": 12,
   "metadata": {},
   "outputs": [
    {
     "data": {
      "text/plain": [
       "(68764, 34)"
      ]
     },
     "execution_count": 12,
     "metadata": {},
     "output_type": "execute_result"
    }
   ],
   "source": [
    "patent.shape"
   ]
  },
  {
   "cell_type": "markdown",
   "metadata": {},
   "source": [
    "# 1) EDA"
   ]
  },
  {
   "cell_type": "markdown",
   "metadata": {},
   "source": [
    "## 1.1)-Types of features in our dataset"
   ]
  },
  {
   "cell_type": "code",
   "execution_count": 13,
   "metadata": {},
   "outputs": [
    {
     "data": {
      "text/plain": [
       "object    23\n",
       "int64     11\n",
       "dtype: int64"
      ]
     },
     "execution_count": 13,
     "metadata": {},
     "output_type": "execute_result"
    }
   ],
   "source": [
    "patent.dtypes.value_counts()"
   ]
  },
  {
   "cell_type": "code",
   "execution_count": 14,
   "metadata": {},
   "outputs": [
    {
     "data": {
      "text/html": [
       "<div>\n",
       "<style scoped>\n",
       "    .dataframe tbody tr th:only-of-type {\n",
       "        vertical-align: middle;\n",
       "    }\n",
       "\n",
       "    .dataframe tbody tr th {\n",
       "        vertical-align: top;\n",
       "    }\n",
       "\n",
       "    .dataframe thead th {\n",
       "        text-align: right;\n",
       "    }\n",
       "</style>\n",
       "<table border=\"1\" class=\"dataframe\">\n",
       "  <thead>\n",
       "    <tr style=\"text-align: right;\">\n",
       "      <th></th>\n",
       "      <th>Data Type</th>\n",
       "    </tr>\n",
       "  </thead>\n",
       "  <tbody>\n",
       "    <tr>\n",
       "      <th>num_cited_publn</th>\n",
       "      <td>int64</td>\n",
       "    </tr>\n",
       "    <tr>\n",
       "      <th>appln_id</th>\n",
       "      <td>int64</td>\n",
       "    </tr>\n",
       "    <tr>\n",
       "      <th>family_id</th>\n",
       "      <td>int64</td>\n",
       "    </tr>\n",
       "    <tr>\n",
       "      <th>sets</th>\n",
       "      <td>int64</td>\n",
       "    </tr>\n",
       "    <tr>\n",
       "      <th>direct</th>\n",
       "      <td>int64</td>\n",
       "    </tr>\n",
       "    <tr>\n",
       "      <th>granted</th>\n",
       "      <td>int64</td>\n",
       "    </tr>\n",
       "    <tr>\n",
       "      <th>num_cited_family</th>\n",
       "      <td>int64</td>\n",
       "    </tr>\n",
       "    <tr>\n",
       "      <th>num_citing_publn</th>\n",
       "      <td>int64</td>\n",
       "    </tr>\n",
       "    <tr>\n",
       "      <th>num_citing_family</th>\n",
       "      <td>int64</td>\n",
       "    </tr>\n",
       "    <tr>\n",
       "      <th>num_ipc_class</th>\n",
       "      <td>int64</td>\n",
       "    </tr>\n",
       "    <tr>\n",
       "      <th>num_cpc_class</th>\n",
       "      <td>int64</td>\n",
       "    </tr>\n",
       "    <tr>\n",
       "      <th>citing_publn_date</th>\n",
       "      <td>object</td>\n",
       "    </tr>\n",
       "    <tr>\n",
       "      <th>citing_publn</th>\n",
       "      <td>object</td>\n",
       "    </tr>\n",
       "    <tr>\n",
       "      <th>citing_family_id</th>\n",
       "      <td>object</td>\n",
       "    </tr>\n",
       "    <tr>\n",
       "      <th>citing_appln_id</th>\n",
       "      <td>object</td>\n",
       "    </tr>\n",
       "    <tr>\n",
       "      <th>cited_family_id</th>\n",
       "      <td>object</td>\n",
       "    </tr>\n",
       "    <tr>\n",
       "      <th>earliest_applt</th>\n",
       "      <td>object</td>\n",
       "    </tr>\n",
       "    <tr>\n",
       "      <th>current_applt</th>\n",
       "      <td>object</td>\n",
       "    </tr>\n",
       "    <tr>\n",
       "      <th>citing_appln</th>\n",
       "      <td>object</td>\n",
       "    </tr>\n",
       "    <tr>\n",
       "      <th>cited_appln_id</th>\n",
       "      <td>object</td>\n",
       "    </tr>\n",
       "    <tr>\n",
       "      <th>appln</th>\n",
       "      <td>object</td>\n",
       "    </tr>\n",
       "    <tr>\n",
       "      <th>cited_publn</th>\n",
       "      <td>object</td>\n",
       "    </tr>\n",
       "    <tr>\n",
       "      <th>cited_publn_date</th>\n",
       "      <td>object</td>\n",
       "    </tr>\n",
       "    <tr>\n",
       "      <th>appln_title</th>\n",
       "      <td>object</td>\n",
       "    </tr>\n",
       "    <tr>\n",
       "      <th>ipc_class</th>\n",
       "      <td>object</td>\n",
       "    </tr>\n",
       "    <tr>\n",
       "      <th>cpc_class</th>\n",
       "      <td>object</td>\n",
       "    </tr>\n",
       "    <tr>\n",
       "      <th>publn_claims</th>\n",
       "      <td>object</td>\n",
       "    </tr>\n",
       "    <tr>\n",
       "      <th>publn_first_grant</th>\n",
       "      <td>object</td>\n",
       "    </tr>\n",
       "    <tr>\n",
       "      <th>publn</th>\n",
       "      <td>object</td>\n",
       "    </tr>\n",
       "    <tr>\n",
       "      <th>publn_date</th>\n",
       "      <td>object</td>\n",
       "    </tr>\n",
       "    <tr>\n",
       "      <th>earliest_filing_date</th>\n",
       "      <td>object</td>\n",
       "    </tr>\n",
       "    <tr>\n",
       "      <th>earliest_appln</th>\n",
       "      <td>object</td>\n",
       "    </tr>\n",
       "    <tr>\n",
       "      <th>cited_appln</th>\n",
       "      <td>object</td>\n",
       "    </tr>\n",
       "    <tr>\n",
       "      <th>appln_abstr</th>\n",
       "      <td>object</td>\n",
       "    </tr>\n",
       "  </tbody>\n",
       "</table>\n",
       "</div>"
      ],
      "text/plain": [
       "                     Data Type\n",
       "num_cited_publn          int64\n",
       "appln_id                 int64\n",
       "family_id                int64\n",
       "sets                     int64\n",
       "direct                   int64\n",
       "granted                  int64\n",
       "num_cited_family         int64\n",
       "num_citing_publn         int64\n",
       "num_citing_family        int64\n",
       "num_ipc_class            int64\n",
       "num_cpc_class            int64\n",
       "citing_publn_date       object\n",
       "citing_publn            object\n",
       "citing_family_id        object\n",
       "citing_appln_id         object\n",
       "cited_family_id         object\n",
       "earliest_applt          object\n",
       "current_applt           object\n",
       "citing_appln            object\n",
       "cited_appln_id          object\n",
       "appln                   object\n",
       "cited_publn             object\n",
       "cited_publn_date        object\n",
       "appln_title             object\n",
       "ipc_class               object\n",
       "cpc_class               object\n",
       "publn_claims            object\n",
       "publn_first_grant       object\n",
       "publn                   object\n",
       "publn_date              object\n",
       "earliest_filing_date    object\n",
       "earliest_appln          object\n",
       "cited_appln             object\n",
       "appln_abstr             object"
      ]
     },
     "execution_count": 14,
     "metadata": {},
     "output_type": "execute_result"
    }
   ],
   "source": [
    "# Checking all variables with their data-type\n",
    "def _tbl_dtype(dataset):\n",
    "    sum_dtype = pd.DataFrame(dataset.dtypes).sort_values(0).rename(columns = {0:'Data Type'})\n",
    "    return sum_dtype\n",
    "\n",
    "table_dtype = _tbl_dtype(patent)\n",
    "table_dtype"
   ]
  },
  {
   "cell_type": "markdown",
   "metadata": {},
   "source": [
    "## 1.2)-Checking missing values"
   ]
  },
  {
   "cell_type": "code",
   "execution_count": 15,
   "metadata": {},
   "outputs": [],
   "source": [
    "def find_missing_values(df, columns):\n",
    "    \"\"\"\n",
    "    Finds number of rows where certain columns are missing values.\n",
    "    ::param_df:: = target dataframe\n",
    "    ::param_columns:: = list of columns\n",
    "    \"\"\"\n",
    "    missing_vals = {}\n",
    "    print(\"Number of missing or NaN values for each column:\")\n",
    "    df_length = len(df)\n",
    "    for column in columns:\n",
    "        total_column_values = df[column].value_counts().sum()\n",
    "        missing_vals[column] = df_length-total_column_values\n",
    "        #missing_vals.append(str(column)+ \" column has {} missing or NaN values.\".format())\n",
    "    return missing_vals"
   ]
  },
  {
   "cell_type": "code",
   "execution_count": 16,
   "metadata": {},
   "outputs": [
    {
     "name": "stdout",
     "output_type": "stream",
     "text": [
      "Number of missing or NaN values for each column:\n"
     ]
    },
    {
     "data": {
      "text/plain": [
       "{'appln': 0,\n",
       " 'appln_id': 0,\n",
       " 'family_id': 0,\n",
       " 'sets': 0,\n",
       " 'direct': 0,\n",
       " 'granted': 0,\n",
       " 'earliest_appln': 0,\n",
       " 'earliest_filing_date': 0,\n",
       " 'publn_date': 0,\n",
       " 'publn': 0,\n",
       " 'publn_first_grant': 0,\n",
       " 'publn_claims': 0,\n",
       " 'num_cpc_class': 0,\n",
       " 'cpc_class': 6336,\n",
       " 'num_ipc_class': 0,\n",
       " 'ipc_class': 60,\n",
       " 'num_cited_publn': 0,\n",
       " 'cited_publn_date': 22319,\n",
       " 'cited_publn': 22319,\n",
       " 'cited_appln': 22319,\n",
       " 'cited_appln_id': 22319,\n",
       " 'cited_family_id': 22319,\n",
       " 'num_cited_family': 0,\n",
       " 'num_citing_publn': 0,\n",
       " 'citing_publn_date': 24950,\n",
       " 'citing_publn': 24950,\n",
       " 'citing_appln': 24950,\n",
       " 'citing_appln_id': 24950,\n",
       " 'citing_family_id': 24950,\n",
       " 'num_citing_family': 0,\n",
       " 'earliest_applt': 508,\n",
       " 'current_applt': 508,\n",
       " 'appln_title': 0,\n",
       " 'appln_abstr': 0}"
      ]
     },
     "execution_count": 16,
     "metadata": {},
     "output_type": "execute_result"
    }
   ],
   "source": [
    "missing_values = find_missing_values(patent, columns=patent.columns)\n",
    "missing_values"
   ]
  },
  {
   "cell_type": "code",
   "execution_count": 17,
   "metadata": {},
   "outputs": [
    {
     "data": {
      "text/plain": [
       "<matplotlib.axes._subplots.AxesSubplot at 0x18310a76b00>"
      ]
     },
     "execution_count": 17,
     "metadata": {},
     "output_type": "execute_result"
    },
    {
     "data": {
      "image/png": "[encoded data removed]",
      "text/plain": [
       "<matplotlib.figure.Figure at 0x183107d2208>"
      ]
     },
     "metadata": {
      "needs_background": "light"
     },
     "output_type": "display_data"
    }
   ],
   "source": [
    "import missingno\n",
    "missingno.matrix(patent, figsize = (30,10))"
   ]
  },
  {
   "cell_type": "code",
   "execution_count": 18,
   "metadata": {},
   "outputs": [
    {
     "name": "stdout",
     "output_type": "stream",
     "text": [
      "No. of fields:  68764\n",
      "No. of missing fields:  14\n"
     ]
    },
    {
     "data": {
      "text/html": [
       "<div>\n",
       "<style scoped>\n",
       "    .dataframe tbody tr th:only-of-type {\n",
       "        vertical-align: middle;\n",
       "    }\n",
       "\n",
       "    .dataframe tbody tr th {\n",
       "        vertical-align: top;\n",
       "    }\n",
       "\n",
       "    .dataframe thead th {\n",
       "        text-align: right;\n",
       "    }\n",
       "</style>\n",
       "<table border=\"1\" class=\"dataframe\">\n",
       "  <thead>\n",
       "    <tr style=\"text-align: right;\">\n",
       "      <th></th>\n",
       "      <th>No. of mising Value</th>\n",
       "      <th>%age of missing Value</th>\n",
       "    </tr>\n",
       "  </thead>\n",
       "  <tbody>\n",
       "    <tr>\n",
       "      <th>citing_publn</th>\n",
       "      <td>24950</td>\n",
       "      <td>36.3</td>\n",
       "    </tr>\n",
       "    <tr>\n",
       "      <th>citing_appln</th>\n",
       "      <td>24950</td>\n",
       "      <td>36.3</td>\n",
       "    </tr>\n",
       "    <tr>\n",
       "      <th>citing_publn_date</th>\n",
       "      <td>24950</td>\n",
       "      <td>36.3</td>\n",
       "    </tr>\n",
       "    <tr>\n",
       "      <th>citing_family_id</th>\n",
       "      <td>24950</td>\n",
       "      <td>36.3</td>\n",
       "    </tr>\n",
       "    <tr>\n",
       "      <th>citing_appln_id</th>\n",
       "      <td>24950</td>\n",
       "      <td>36.3</td>\n",
       "    </tr>\n",
       "    <tr>\n",
       "      <th>cited_appln_id</th>\n",
       "      <td>22319</td>\n",
       "      <td>32.5</td>\n",
       "    </tr>\n",
       "    <tr>\n",
       "      <th>cited_family_id</th>\n",
       "      <td>22319</td>\n",
       "      <td>32.5</td>\n",
       "    </tr>\n",
       "    <tr>\n",
       "      <th>cited_publn</th>\n",
       "      <td>22319</td>\n",
       "      <td>32.5</td>\n",
       "    </tr>\n",
       "    <tr>\n",
       "      <th>cited_publn_date</th>\n",
       "      <td>22319</td>\n",
       "      <td>32.5</td>\n",
       "    </tr>\n",
       "    <tr>\n",
       "      <th>cited_appln</th>\n",
       "      <td>22319</td>\n",
       "      <td>32.5</td>\n",
       "    </tr>\n",
       "    <tr>\n",
       "      <th>cpc_class</th>\n",
       "      <td>6336</td>\n",
       "      <td>9.2</td>\n",
       "    </tr>\n",
       "    <tr>\n",
       "      <th>earliest_applt</th>\n",
       "      <td>508</td>\n",
       "      <td>0.7</td>\n",
       "    </tr>\n",
       "    <tr>\n",
       "      <th>current_applt</th>\n",
       "      <td>508</td>\n",
       "      <td>0.7</td>\n",
       "    </tr>\n",
       "    <tr>\n",
       "      <th>ipc_class</th>\n",
       "      <td>60</td>\n",
       "      <td>0.1</td>\n",
       "    </tr>\n",
       "  </tbody>\n",
       "</table>\n",
       "</div>"
      ],
      "text/plain": [
       "                   No. of mising Value  %age of missing Value\n",
       "citing_publn                     24950                   36.3\n",
       "citing_appln                     24950                   36.3\n",
       "citing_publn_date                24950                   36.3\n",
       "citing_family_id                 24950                   36.3\n",
       "citing_appln_id                  24950                   36.3\n",
       "cited_appln_id                   22319                   32.5\n",
       "cited_family_id                  22319                   32.5\n",
       "cited_publn                      22319                   32.5\n",
       "cited_publn_date                 22319                   32.5\n",
       "cited_appln                      22319                   32.5\n",
       "cpc_class                         6336                    9.2\n",
       "earliest_applt                     508                    0.7\n",
       "current_applt                      508                    0.7\n",
       "ipc_class                           60                    0.1"
      ]
     },
     "execution_count": 18,
     "metadata": {},
     "output_type": "execute_result"
    }
   ],
   "source": [
    "def summary_missing(dataset):\n",
    "    n_miss = dataset.isnull().sum()\n",
    "    n_obs = dataset.shape[0]\n",
    "    n_miss_per = n_miss/n_obs*100\n",
    "    n_miss_tbl = pd.concat([n_miss, n_miss_per], axis = 1).sort_values(1, ascending = False).round(1)\n",
    "    n_miss_tbl = n_miss_tbl[n_miss_tbl[1] != 0]\n",
    "    print('No. of fields: ', dataset.shape[0])\n",
    "    print('No. of missing fields: ', n_miss_tbl.shape[0])\n",
    "    n_miss_tbl = n_miss_tbl.rename(columns = {0:'No. of mising Value', 1:'%age of missing Value'})\n",
    "    return n_miss_tbl\n",
    "\n",
    "summary_missing(patent)"
   ]
  },
  {
   "cell_type": "code",
   "execution_count": 19,
   "metadata": {},
   "outputs": [
    {
     "data": {
      "text/plain": [
       "4     29749\n",
       "2     16968\n",
       "8     12825\n",
       "1      5877\n",
       "10     1867\n",
       "12     1095\n",
       "3       160\n",
       "14      112\n",
       "9        49\n",
       "5        26\n",
       "6        20\n",
       "11       16\n",
       "Name: sets, dtype: int64"
      ]
     },
     "execution_count": 19,
     "metadata": {},
     "output_type": "execute_result"
    }
   ],
   "source": [
    "patent.sets.value_counts()"
   ]
  },
  {
   "cell_type": "markdown",
   "metadata": {},
   "source": [
    "- set 1 is fuel cell and contains 4411 values\n",
    "- set 2 is electric vehicle and contains 16947 values\n",
    "- set 4 is internal combustion and contains 1900 values\n",
    "- set 8 is hybrid and contains 8048 values"
   ]
  },
  {
   "cell_type": "markdown",
   "metadata": {},
   "source": [
    "# 2) Comparing groups"
   ]
  },
  {
   "cell_type": "code",
   "execution_count": 20,
   "metadata": {},
   "outputs": [
    {
     "data": {
      "text/plain": [
       "0    1\n",
       "1    1\n",
       "2    0\n",
       "3    0\n",
       "4    0\n",
       "Name: granted, dtype: int64"
      ]
     },
     "execution_count": 20,
     "metadata": {},
     "output_type": "execute_result"
    }
   ],
   "source": [
    "patent['granted'][:5]"
   ]
  },
  {
   "cell_type": "code",
   "execution_count": 21,
   "metadata": {},
   "outputs": [
    {
     "data": {
      "text/plain": [
       "1    52447\n",
       "0    16317\n",
       "Name: granted, dtype: int64"
      ]
     },
     "execution_count": 21,
     "metadata": {},
     "output_type": "execute_result"
    }
   ],
   "source": [
    "patent['granted'].value_counts()"
   ]
  },
  {
   "cell_type": "code",
   "execution_count": 22,
   "metadata": {},
   "outputs": [
    {
     "data": {
      "text/plain": [
       "TOYOTA MOTOR CORP                                           3602\n",
       "Toyota Jidosha Kabushiki Kaisha                             2992\n",
       "Robert Bosch GmbH                                           2508\n",
       "Hyundai Motor Company                                       2228\n",
       "HONDA MOTOR CO LTD                                          1903\n",
       "NISSAN MOTOR CO LTD                                         1374\n",
       "Ford Global Technologies, LLC                               1190\n",
       "Nissan Motor Co., Ltd.                                       818\n",
       "Honda Motor Co., Ltd.                                        782\n",
       "Honda Giken Kogyo Kabushiki Kaisha                           611\n",
       "DENSO CORP                                                   603\n",
       "Peugeot Citroen Automobiles SA                               595\n",
       "TOYOTA JIDOSHA KABUSHIKI KAISHA                              551\n",
       "Toyota Motor Corporation                                     474\n",
       "MITSUBISHI MOTORS CORP                                       457\n",
       "HONDA MOTOR CO., LTD.                                        407\n",
       "Hitachi, Ltd.                                                351\n",
       "DaimlerChrysler AG                                           335\n",
       "NISSAN MOTOR CO., LTD.                                       322\n",
       "TOYOTA MOTOR CO., LTD.                                       312\n",
       "HITACHI LTD                                                  307\n",
       "GM Global Technology Operations LLC                          285\n",
       "Denso Corporation                                            275\n",
       "SUZUKI MOTOR CORP                                            272\n",
       "MITSUBISHI ELECTRIC CORP                                     269\n",
       "MAZDA MOTOR CORP                                             268\n",
       "Siemens Aktiengesellschaft                                   236\n",
       "Mitsubishi Jidosha Kogyo Kabushiki Kaisha                    231\n",
       "Yamaha Hatsudoki Kabushiki Kaisha                            231\n",
       "HYUNDAI MOTOR CO LTD                                         217\n",
       "                                                            ... \n",
       "Bell, Laurence D.                                              1\n",
       "Roth, Andreas                                                  1\n",
       "Nishikiori, Takashi                                            1\n",
       "Kappelmann, Peter                                              1\n",
       "Guimarin; David C.                                             1\n",
       "RADAN MOTOR                                                    1\n",
       "JIANGSU NICONIA ELECTRIC VEHICLE MANUFACTURING CO., LTD.       1\n",
       "ETH ZUERICH, ETH TRANSFER                                      1\n",
       "GUO SHULIANG                                                   1\n",
       "Yoshikawa, Masato                                              1\n",
       "Kobayashi, Masanori                                            1\n",
       "Tanaka, Keiko                                                  1\n",
       "TANG, CHIN-HSIANG                                              1\n",
       "MAGNA STEYR FAHRZEUGTECHNIK AG                                 1\n",
       "Tajima, Kentarou                                               1\n",
       "CHENGDU XINGXINYUAN TECHNOLOGY CO.,LTD.                        1\n",
       "Dalian University of Technology                                1\n",
       "THYSSENKRUPP AUTOMOTIVE AG                                     1\n",
       "BORGWARD TRADEMARK HOLDINGS GmbH                               1\n",
       "Kitano, Eiji                                                   1\n",
       "Lück, Harald                                                   1\n",
       "Schröder, Matthias                                             1\n",
       "WU GUOLONG                                                     1\n",
       "Luz Electric Fuel Israel, Ltd.                                 1\n",
       "TXR-S TECHNOLOGY INVESTMENT CO., LTD.                          1\n",
       "Renault V.L.                                                   1\n",
       "FRANCE-DESIGN                                                  1\n",
       "Smiljanovski, Vanco                                            1\n",
       "Kim, Chi Myung                                                 1\n",
       "New Ventures Gear, Inc.                                        1\n",
       "Name: current_applt, Length: 15292, dtype: int64"
      ]
     },
     "execution_count": 22,
     "metadata": {},
     "output_type": "execute_result"
    }
   ],
   "source": [
    "patent['current_applt'].value_counts()"
   ]
  },
  {
   "cell_type": "code",
   "execution_count": 23,
   "metadata": {},
   "outputs": [
    {
     "data": {
      "text/plain": [
       "1    1813\n",
       "0     415\n",
       "Name: granted, dtype: int64"
      ]
     },
     "execution_count": 23,
     "metadata": {},
     "output_type": "execute_result"
    }
   ],
   "source": [
    "# suppose we want to see how many patents are granted to Hyundai Motor Company \n",
    "\n",
    "patent[patent.current_applt == 'Hyundai Motor Company'].granted.value_counts()"
   ]
  },
  {
   "cell_type": "code",
   "execution_count": 24,
   "metadata": {},
   "outputs": [
    {
     "data": {
      "text/plain": [
       "1    0.813734\n",
       "0    0.186266\n",
       "Name: granted, dtype: float64"
      ]
     },
     "execution_count": 24,
     "metadata": {},
     "output_type": "execute_result"
    }
   ],
   "source": [
    "# if we wanna see %age\n",
    "patent[patent.current_applt == 'Hyundai Motor Company'].granted.value_counts(normalize=True)"
   ]
  },
  {
   "cell_type": "code",
   "execution_count": 26,
   "metadata": {},
   "outputs": [
    {
     "data": {
      "text/plain": [
       "granted  current_applt                                                                                                                                                                    \n",
       "0        Toyota Jidosha Kabushiki Kaisha                                                                                                                                                      1485\n",
       "         Robert Bosch GmbH                                                                                                                                                                     891\n",
       "         Hyundai Motor Company                                                                                                                                                                 415\n",
       "         Nissan Motor Co., Ltd.                                                                                                                                                                324\n",
       "         Ford Global Technologies, LLC                                                                                                                                                         292\n",
       "         Honda Motor Co., Ltd.                                                                                                                                                                 237\n",
       "         HONDA MOTOR CO LTD                                                                                                                                                                    197\n",
       "         TOYOTA MOTOR CORP                                                                                                                                                                     170\n",
       "         Peugeot Citroen Automobiles SA                                                                                                                                                        169\n",
       "         TOYOTA JIDOSHA KABUSHIKI KAISHA                                                                                                                                                       154\n",
       "         RENAULT S.A.S.                                                                                                                                                                        120\n",
       "         CONTINENTAL AUTOMOTIVE GMBH                                                                                                                                                           112\n",
       "         Bayerische Motoren Werke Aktiengesellschaft                                                                                                                                            96\n",
       "         HYUNDAI MOTOR CO LTD                                                                                                                                                                   96\n",
       "         RENAULT S.A.S                                                                                                                                                                          92\n",
       "         Mitsubishi Electric Corporation                                                                                                                                                        91\n",
       "         Siemens Aktiengesellschaft                                                                                                                                                             91\n",
       "         DaimlerChrysler AG                                                                                                                                                                     84\n",
       "         HONDA MOTOR CO., LTD.                                                                                                                                                                  84\n",
       "         Sony Corporation                                                                                                                                                                       84\n",
       "         General Electric Company                                                                                                                                                               81\n",
       "         YAMAHA MOTOR CO LTD                                                                                                                                                                    77\n",
       "         Kawasaki Jukogyo Kabushiki Kaisha                                                                                                                                                      76\n",
       "         NISSAN MOTOR CO., LTD.                                                                                                                                                                 76\n",
       "         Kia Motors Corporation                                                                                                                                                                 69\n",
       "         Volkswagen Aktiengesellschaft                                                                                                                                                          65\n",
       "         Yamaha Hatsudoki Kabushiki Kaisha                                                                                                                                                      65\n",
       "         Denso Corporation                                                                                                                                                                      64\n",
       "         NISSAN MOTOR CO LTD                                                                                                                                                                    64\n",
       "         Mitsubishi Jidosha Kogyo Kabushiki Kaisha                                                                                                                                              63\n",
       "                                                                                                                                                                                              ... \n",
       "1        Zhang; Chaojiong                                                                                                                                                                        1\n",
       "         Zhejiang Geely Holding Group Co., Ltd                                                                                                                                                   1\n",
       "         Zhongliyuan (Zhenjiang) Electric Vehicle Technology Co., Ltd.                                                                                                                           1\n",
       "         Zhou, Wesley                                                                                                                                                                            1\n",
       "         Zhou; Shijian                                                                                                                                                                           1\n",
       "         Zhu, Douglas                                                                                                                                                                            1\n",
       "         Ziegler, Ralf                                                                                                                                                                           1\n",
       "         Zimmerschied, Ralf                                                                                                                                                                      1\n",
       "         Zodiac International                                                                                                                                                                    1\n",
       "         Zoeller, Herbert                                                                                                                                                                        1\n",
       "         Zollner, Tobias                                                                                                                                                                         1\n",
       "         Zwimpfer, Markus                                                                                                                                                                        1\n",
       "         becker marine systems GmbH & Co. KG                                                                                                                                                     1\n",
       "         de Versterre, William I.                                                                                                                                                                1\n",
       "         de la Torre Bueno, Jose                                                                                                                                                                 1\n",
       "         diro GmbH & Co. KG                                                                                                                                                                      1\n",
       "         dmc2 Degussa Metals Catalysts Cerdec AG                                                                                                                                                 1\n",
       "         dspace digital signal processing and control engineering GmbH                                                                                                                           1\n",
       "         e-AAM Driveline Systems AB                                                                                                                                                              1\n",
       "         enTec Consulting GmbH                                                                                                                                                                   1\n",
       "         federalnoe gosudarstvennoe avtonomnoe obrazovatelnoe uchrezhdenie vysshego obrazovaniya 'Yuzhno-Uralskij gosudarstvennyj universitet (natsionalnyj issledovatelskij universitet)'       1\n",
       "         federalnoe gosudarstvennoe byudzhetnoe obrazovatelnoe uchrezhdenie vysshego obrazovaniya 'Altajskij gosudarstvennyj tekhnicheskij universitet im. I.I. Polzunova' (AltGTU)              1\n",
       "         federalnoe gosudarstvennoe byudzhetnoe obrazovatelnoe uchrezhdenie vysshego obrazovaniya 'Volgogradskij gosudarstvennyj agrarnyj universitet' (FGBOU VO Volgogradskij GAU)              1\n",
       "         iHi Charging Systems International GmbH                                                                                                                                                 1\n",
       "         innogy SE                                                                                                                                                                               1\n",
       "         smk systeme metall kunststoff gmbh & co. kg.                                                                                                                                            1\n",
       "         swissauto powersport llc                                                                                                                                                                1\n",
       "         von Riesen; Clark W.                                                                                                                                                                    1\n",
       "         ČESKÉ VYSOKÉ UČENÍ TECHNICKÉ V PRAZE, FAKULTA STROJNÍ, CENTRUM KOMPETENCE AUTOMOBILOVÉHO PRŮMYSLU JOSEFA BOŽKA                                                                          1\n",
       "         České vysoké učení technické v Praze, Fakulta strojní, Výzkumné centrum spalovacích motorů a automobilů Josefa Božka                                                                    1\n",
       "Name: current_applt, Length: 16906, dtype: int64"
      ]
     },
     "execution_count": 26,
     "metadata": {},
     "output_type": "execute_result"
    }
   ],
   "source": [
    "# Use groupby\n",
    "patent.groupby('granted').current_applt.value_counts()"
   ]
  },
  {
   "cell_type": "markdown",
   "metadata": {},
   "source": [
    "# 3)- Working with time series\n",
    "\n",
    "Check which year has least and most patents granted <br>\n",
    "earliest_filing_date= no. of patents' application"
   ]
  },
  {
   "cell_type": "code",
   "execution_count": 27,
   "metadata": {},
   "outputs": [
    {
     "data": {
      "text/plain": [
       "0        1990\n",
       "1        1990\n",
       "2        1995\n",
       "3        1995\n",
       "4        1995\n",
       "5        1995\n",
       "6        2000\n",
       "7        2000\n",
       "8        1998\n",
       "9        1998\n",
       "10       1993\n",
       "11       2000\n",
       "12       2000\n",
       "13       2000\n",
       "14       2000\n",
       "15       2000\n",
       "16       2000\n",
       "17       2002\n",
       "18       2002\n",
       "19       1998\n",
       "20       1998\n",
       "21       2000\n",
       "22       2002\n",
       "23       2002\n",
       "24       2002\n",
       "25       1990\n",
       "26       1994\n",
       "27       2000\n",
       "28       2000\n",
       "29       2000\n",
       "         ... \n",
       "68734    2017\n",
       "68735    2017\n",
       "68736    2017\n",
       "68737    2017\n",
       "68738    2017\n",
       "68739    2017\n",
       "68740    2016\n",
       "68741    2016\n",
       "68742    2016\n",
       "68743    2016\n",
       "68744    2005\n",
       "68745    2005\n",
       "68746    2005\n",
       "68747    2014\n",
       "68748    2017\n",
       "68749    2016\n",
       "68750    2014\n",
       "68751    2014\n",
       "68752    2014\n",
       "68753    2016\n",
       "68754    2016\n",
       "68755    2016\n",
       "68756    2016\n",
       "68757    2016\n",
       "68758    2016\n",
       "68759    2017\n",
       "68760    2017\n",
       "68761    2017\n",
       "68762    2015\n",
       "68763    2017\n",
       "Name: earliest_filing_date, Length: 68764, dtype: object"
      ]
     },
     "execution_count": 27,
     "metadata": {},
     "output_type": "execute_result"
    }
   ],
   "source": [
    "patent.earliest_filing_date.str.slice(0,4)"
   ]
  },
  {
   "cell_type": "code",
   "execution_count": 28,
   "metadata": {},
   "outputs": [
    {
     "data": {
      "text/plain": [
       "2011    5737\n",
       "2012    5242\n",
       "2010    4659\n",
       "2013    4247\n",
       "2009    3754\n",
       "2006    3498\n",
       "2007    3444\n",
       "2014    3420\n",
       "2008    3259\n",
       "2015    2687\n",
       "2005    2641\n",
       "2003    2431\n",
       "2004    2310\n",
       "2001    2267\n",
       "2002    2219\n",
       "2000    2211\n",
       "1999    2003\n",
       "1998    1726\n",
       "1997    1581\n",
       "2016    1568\n",
       "1996    1483\n",
       "1995    1285\n",
       "1993    1205\n",
       "1994    1154\n",
       "1992    1008\n",
       "1991     732\n",
       "1990     631\n",
       "2017     360\n",
       "2018       2\n",
       "Name: earliest_filing_date, dtype: int64"
      ]
     },
     "execution_count": 28,
     "metadata": {},
     "output_type": "execute_result"
    }
   ],
   "source": [
    "patent.earliest_filing_date.str.slice(0,4).value_counts()"
   ]
  },
  {
   "cell_type": "code",
   "execution_count": 29,
   "metadata": {},
   "outputs": [],
   "source": [
    "# alternative way\n",
    "filling_date= patent.earliest_filing_date\n",
    "patent['application_date']= pd.to_datetime(filling_date)"
   ]
  },
  {
   "cell_type": "code",
   "execution_count": 30,
   "metadata": {},
   "outputs": [
    {
     "data": {
      "text/plain": [
       "appln                           object\n",
       "appln_id                         int64\n",
       "family_id                        int64\n",
       "sets                             int64\n",
       "direct                           int64\n",
       "granted                          int64\n",
       "earliest_appln                  object\n",
       "earliest_filing_date            object\n",
       "publn_date                      object\n",
       "publn                           object\n",
       "publn_first_grant               object\n",
       "publn_claims                    object\n",
       "num_cpc_class                    int64\n",
       "cpc_class                       object\n",
       "num_ipc_class                    int64\n",
       "ipc_class                       object\n",
       "num_cited_publn                  int64\n",
       "cited_publn_date                object\n",
       "cited_publn                     object\n",
       "cited_appln                     object\n",
       "cited_appln_id                  object\n",
       "cited_family_id                 object\n",
       "num_cited_family                 int64\n",
       "num_citing_publn                 int64\n",
       "citing_publn_date               object\n",
       "citing_publn                    object\n",
       "citing_appln                    object\n",
       "citing_appln_id                 object\n",
       "citing_family_id                object\n",
       "num_citing_family                int64\n",
       "earliest_applt                  object\n",
       "current_applt                   object\n",
       "appln_title                     object\n",
       "appln_abstr                     object\n",
       "application_date        datetime64[ns]\n",
       "dtype: object"
      ]
     },
     "execution_count": 30,
     "metadata": {},
     "output_type": "execute_result"
    }
   ],
   "source": [
    "patent.dtypes"
   ]
  },
  {
   "cell_type": "markdown",
   "metadata": {},
   "source": [
    "application_date ..................       datetime64[ns]"
   ]
  },
  {
   "cell_type": "code",
   "execution_count": 31,
   "metadata": {},
   "outputs": [
    {
     "data": {
      "text/plain": [
       "0        1990\n",
       "1        1990\n",
       "2        1995\n",
       "3        1995\n",
       "4        1995\n",
       "5        1995\n",
       "6        2000\n",
       "7        2000\n",
       "8        1998\n",
       "9        1998\n",
       "10       1993\n",
       "11       2000\n",
       "12       2000\n",
       "13       2000\n",
       "14       2000\n",
       "15       2000\n",
       "16       2000\n",
       "17       2002\n",
       "18       2002\n",
       "19       1998\n",
       "20       1998\n",
       "21       2000\n",
       "22       2002\n",
       "23       2002\n",
       "24       2002\n",
       "25       1990\n",
       "26       1994\n",
       "27       2000\n",
       "28       2000\n",
       "29       2000\n",
       "         ... \n",
       "68734    2017\n",
       "68735    2017\n",
       "68736    2017\n",
       "68737    2017\n",
       "68738    2017\n",
       "68739    2017\n",
       "68740    2016\n",
       "68741    2016\n",
       "68742    2016\n",
       "68743    2016\n",
       "68744    2005\n",
       "68745    2005\n",
       "68746    2005\n",
       "68747    2014\n",
       "68748    2017\n",
       "68749    2016\n",
       "68750    2014\n",
       "68751    2014\n",
       "68752    2014\n",
       "68753    2016\n",
       "68754    2016\n",
       "68755    2016\n",
       "68756    2016\n",
       "68757    2016\n",
       "68758    2016\n",
       "68759    2017\n",
       "68760    2017\n",
       "68761    2017\n",
       "68762    2015\n",
       "68763    2017\n",
       "Name: application_date, Length: 68764, dtype: int64"
      ]
     },
     "execution_count": 31,
     "metadata": {},
     "output_type": "execute_result"
    }
   ],
   "source": [
    "patent['application_date'].dt.year"
   ]
  },
  {
   "cell_type": "code",
   "execution_count": 32,
   "metadata": {},
   "outputs": [
    {
     "data": {
      "text/plain": [
       "2011    5737\n",
       "2012    5242\n",
       "2010    4659\n",
       "2013    4247\n",
       "2009    3754\n",
       "2006    3498\n",
       "2007    3444\n",
       "2014    3420\n",
       "2008    3259\n",
       "2015    2687\n",
       "2005    2641\n",
       "2003    2431\n",
       "2004    2310\n",
       "2001    2267\n",
       "2002    2219\n",
       "2000    2211\n",
       "1999    2003\n",
       "1998    1726\n",
       "1997    1581\n",
       "2016    1568\n",
       "1996    1483\n",
       "1995    1285\n",
       "1993    1205\n",
       "1994    1154\n",
       "1992    1008\n",
       "1991     732\n",
       "1990     631\n",
       "2017     360\n",
       "2018       2\n",
       "Name: application_date, dtype: int64"
      ]
     },
     "execution_count": 32,
     "metadata": {},
     "output_type": "execute_result"
    }
   ],
   "source": [
    "# checking for highest patent in a year\n",
    "patent['application_date'].dt.year.value_counts()"
   ]
  },
  {
   "cell_type": "code",
   "execution_count": 33,
   "metadata": {},
   "outputs": [
    {
     "data": {
      "text/plain": [
       "2018       2\n",
       "2017     360\n",
       "1990     631\n",
       "1991     732\n",
       "1992    1008\n",
       "1994    1154\n",
       "1993    1205\n",
       "1995    1285\n",
       "1996    1483\n",
       "2016    1568\n",
       "1997    1581\n",
       "1998    1726\n",
       "1999    2003\n",
       "2000    2211\n",
       "2002    2219\n",
       "2001    2267\n",
       "2004    2310\n",
       "2003    2431\n",
       "2005    2641\n",
       "2015    2687\n",
       "2008    3259\n",
       "2014    3420\n",
       "2007    3444\n",
       "2006    3498\n",
       "2009    3754\n",
       "2013    4247\n",
       "2010    4659\n",
       "2012    5242\n",
       "2011    5737\n",
       "Name: application_date, dtype: int64"
      ]
     },
     "execution_count": 33,
     "metadata": {},
     "output_type": "execute_result"
    }
   ],
   "source": [
    "# checking for least patents per year\n",
    "patent['application_date'].dt.year.value_counts().sort_values()"
   ]
  },
  {
   "cell_type": "code",
   "execution_count": 34,
   "metadata": {},
   "outputs": [
    {
     "data": {
      "text/plain": [
       "2018       2\n",
       "2017     360\n",
       "1990     631\n",
       "1991     732\n",
       "1992    1008\n",
       "1994    1154\n",
       "1993    1205\n",
       "1995    1285\n",
       "1996    1483\n",
       "2016    1568\n",
       "1997    1581\n",
       "1998    1726\n",
       "1999    2003\n",
       "2000    2211\n",
       "2002    2219\n",
       "2001    2267\n",
       "2004    2310\n",
       "2003    2431\n",
       "2005    2641\n",
       "2015    2687\n",
       "2008    3259\n",
       "2014    3420\n",
       "2007    3444\n",
       "2006    3498\n",
       "2009    3754\n",
       "2013    4247\n",
       "2010    4659\n",
       "2012    5242\n",
       "2011    5737\n",
       "Name: application_date, dtype: int64"
      ]
     },
     "execution_count": 34,
     "metadata": {},
     "output_type": "execute_result"
    }
   ],
   "source": [
    "patent['application_date'].dt.year.value_counts(ascending= True)"
   ]
  },
  {
   "cell_type": "code",
   "execution_count": 35,
   "metadata": {},
   "outputs": [
    {
     "data": {
      "text/plain": [
       "2018"
      ]
     },
     "execution_count": 35,
     "metadata": {},
     "output_type": "execute_result"
    }
   ],
   "source": [
    "#We can even pick least patent year\n",
    "patent.application_date.dt.year.value_counts().sort_values().index[0]"
   ]
  },
  {
   "cell_type": "code",
   "execution_count": 36,
   "metadata": {},
   "outputs": [
    {
     "data": {
      "text/plain": [
       "2011"
      ]
     },
     "execution_count": 36,
     "metadata": {},
     "output_type": "execute_result"
    }
   ],
   "source": [
    "# For highest year\n",
    "patent.application_date.dt.year.value_counts().index[0]"
   ]
  },
  {
   "cell_type": "markdown",
   "metadata": {},
   "source": [
    "## 3.1)- Distribution of the patent applications over application years\n",
    "\n",
    "use earliest_filing_date and granted variables\n",
    "figure 3 in paper"
   ]
  },
  {
   "cell_type": "code",
   "execution_count": 37,
   "metadata": {},
   "outputs": [
    {
     "data": {
      "text/html": [
       "<div>\n",
       "<style scoped>\n",
       "    .dataframe tbody tr th:only-of-type {\n",
       "        vertical-align: middle;\n",
       "    }\n",
       "\n",
       "    .dataframe tbody tr th {\n",
       "        vertical-align: top;\n",
       "    }\n",
       "\n",
       "    .dataframe thead th {\n",
       "        text-align: right;\n",
       "    }\n",
       "</style>\n",
       "<table border=\"1\" class=\"dataframe\">\n",
       "  <thead>\n",
       "    <tr style=\"text-align: right;\">\n",
       "      <th></th>\n",
       "      <th>appln</th>\n",
       "      <th>appln_id</th>\n",
       "      <th>family_id</th>\n",
       "      <th>sets</th>\n",
       "      <th>direct</th>\n",
       "      <th>granted</th>\n",
       "      <th>earliest_appln</th>\n",
       "      <th>earliest_filing_date</th>\n",
       "      <th>publn_date</th>\n",
       "      <th>publn</th>\n",
       "      <th>...</th>\n",
       "      <th>citing_publn</th>\n",
       "      <th>citing_appln</th>\n",
       "      <th>citing_appln_id</th>\n",
       "      <th>citing_family_id</th>\n",
       "      <th>num_citing_family</th>\n",
       "      <th>earliest_applt</th>\n",
       "      <th>current_applt</th>\n",
       "      <th>appln_title</th>\n",
       "      <th>appln_abstr</th>\n",
       "      <th>application_date</th>\n",
       "    </tr>\n",
       "  </thead>\n",
       "  <tbody>\n",
       "    <tr>\n",
       "      <th>0</th>\n",
       "      <td>WO9105114W</td>\n",
       "      <td>47158713</td>\n",
       "      <td>1239277</td>\n",
       "      <td>2</td>\n",
       "      <td>1</td>\n",
       "      <td>1</td>\n",
       "      <td>US55592190A</td>\n",
       "      <td>1990-07-19</td>\n",
       "      <td>1993-02-18</td>\n",
       "      <td>WO9303532A1</td>\n",
       "      <td>...</td>\n",
       "      <td>WO0199222A3</td>\n",
       "      <td>WO0119827W</td>\n",
       "      <td>45621927</td>\n",
       "      <td>24395918</td>\n",
       "      <td>30</td>\n",
       "      <td>LUZ ELECTRIC FUEL ISRAEL LTD.</td>\n",
       "      <td>LUZ ELECTRIC FUEL ISRAEL LTD.</td>\n",
       "      <td>ELECTRICAL ENERGY SYSTEM</td>\n",
       "      <td>An electrical energy system including an elect...</td>\n",
       "      <td>1990-07-19</td>\n",
       "    </tr>\n",
       "    <tr>\n",
       "      <th>1</th>\n",
       "      <td>US55592190A</td>\n",
       "      <td>51797454</td>\n",
       "      <td>1239277</td>\n",
       "      <td>2</td>\n",
       "      <td>1</td>\n",
       "      <td>1</td>\n",
       "      <td>US55592190A</td>\n",
       "      <td>1990-07-19</td>\n",
       "      <td>1992-06-09</td>\n",
       "      <td>US5121044A</td>\n",
       "      <td>...</td>\n",
       "      <td>US5208526A\\nEP0557287A4\\nUS5349535A\\nUS5434020...</td>\n",
       "      <td>US63645090A\\nEP91915464A\\nUS96399792A\\nUS15296...</td>\n",
       "      <td>52393850\\n16916549\\n54353461\\n48212422\\n457802...</td>\n",
       "      <td>27071024\\n1239277\\n25508001\\n22545199\\n2636904...</td>\n",
       "      <td>30</td>\n",
       "      <td>Luz Electric Fuel Israel, Ltd.</td>\n",
       "      <td>Luz Electric Fuel Israel, Ltd.</td>\n",
       "      <td>Electrical energy system</td>\n",
       "      <td>An electrical energy system including an elect...</td>\n",
       "      <td>1990-07-19</td>\n",
       "    </tr>\n",
       "    <tr>\n",
       "      <th>2</th>\n",
       "      <td>EP96927918A</td>\n",
       "      <td>17205496</td>\n",
       "      <td>1341188</td>\n",
       "      <td>4</td>\n",
       "      <td>0</td>\n",
       "      <td>0</td>\n",
       "      <td>JP4059995A</td>\n",
       "      <td>1995-02-28</td>\n",
       "      <td>1998-08-12</td>\n",
       "      <td>EP0857862A1</td>\n",
       "      <td>...</td>\n",
       "      <td>EP1167708A2\\nDE10029978A1\\nDE10105233A1\\nEP220...</td>\n",
       "      <td>EP01115227A\\nDE10029978A\\nDE10105233A\\nEP08842...</td>\n",
       "      <td>15814252\\n12936842\\n12970055\\n57178895</td>\n",
       "      <td>7646156\\n7646156\\n7672964\\n40580359</td>\n",
       "      <td>31</td>\n",
       "      <td>SUMITOMO ELECTRIC INDUSTRIES, LTD.</td>\n",
       "      <td>SUMITOMO ELECTRIC INDUSTRIES, LTD.</td>\n",
       "      <td>PARTICULATE TRAP FOR A DIESEL ENGINE</td>\n",
       "      <td>An object is to provide a particulate trap for...</td>\n",
       "      <td>1995-02-28</td>\n",
       "    </tr>\n",
       "    <tr>\n",
       "      <th>3</th>\n",
       "      <td>JP4059995A</td>\n",
       "      <td>27121457</td>\n",
       "      <td>1341188</td>\n",
       "      <td>4</td>\n",
       "      <td>1</td>\n",
       "      <td>0</td>\n",
       "      <td>JP4059995A</td>\n",
       "      <td>1995-02-28</td>\n",
       "      <td>1996-09-10</td>\n",
       "      <td>JPH08229330A</td>\n",
       "      <td>...</td>\n",
       "      <td>KR20100103462A\\nJP2011502743A\\nJP2013078764A\\n...</td>\n",
       "      <td>KR20107010572A\\nJP2010531202A\\nJP2012279486A\\n...</td>\n",
       "      <td>328440678\\n332201837\\n406999716\\n378212937\\n41...</td>\n",
       "      <td>40580359\\n40580359\\n40580359\\n40580359\\n405803...</td>\n",
       "      <td>31</td>\n",
       "      <td>SUMITOMO ELECTRIC IND LTD</td>\n",
       "      <td>SUMITOMO ELECTRIC IND LTD</td>\n",
       "      <td>PARTICULATE TRAP FOR DIESEL ENGINE</td>\n",
       "      <td>PURPOSE: To obtain a trap by which the leakage...</td>\n",
       "      <td>1995-02-28</td>\n",
       "    </tr>\n",
       "    <tr>\n",
       "      <th>4</th>\n",
       "      <td>WO9602405W</td>\n",
       "      <td>30070806</td>\n",
       "      <td>1341188</td>\n",
       "      <td>4</td>\n",
       "      <td>0</td>\n",
       "      <td>0</td>\n",
       "      <td>JP4059995A</td>\n",
       "      <td>1995-02-28</td>\n",
       "      <td>1998-03-05</td>\n",
       "      <td>WO9809059A1</td>\n",
       "      <td>...</td>\n",
       "      <td>NaN</td>\n",
       "      <td>NaN</td>\n",
       "      <td>NaN</td>\n",
       "      <td>NaN</td>\n",
       "      <td>31</td>\n",
       "      <td>Sumitomo Electric Industries, Ltd.</td>\n",
       "      <td>Sumitomo Electric Industries, Ltd.</td>\n",
       "      <td>PARTICULATE TRAP FOR A DIESEL ENGINE</td>\n",
       "      <td>A particulate trap for a diesel engine designe...</td>\n",
       "      <td>1995-02-28</td>\n",
       "    </tr>\n",
       "  </tbody>\n",
       "</table>\n",
       "<p>5 rows × 35 columns</p>\n",
       "</div>"
      ],
      "text/plain": [
       "         appln  appln_id  family_id  sets  direct  granted earliest_appln  \\\n",
       "0   WO9105114W  47158713    1239277     2       1        1    US55592190A   \n",
       "1  US55592190A  51797454    1239277     2       1        1    US55592190A   \n",
       "2  EP96927918A  17205496    1341188     4       0        0     JP4059995A   \n",
       "3   JP4059995A  27121457    1341188     4       1        0     JP4059995A   \n",
       "4   WO9602405W  30070806    1341188     4       0        0     JP4059995A   \n",
       "\n",
       "  earliest_filing_date  publn_date         publn       ...         \\\n",
       "0           1990-07-19  1993-02-18   WO9303532A1       ...          \n",
       "1           1990-07-19  1992-06-09    US5121044A       ...          \n",
       "2           1995-02-28  1998-08-12   EP0857862A1       ...          \n",
       "3           1995-02-28  1996-09-10  JPH08229330A       ...          \n",
       "4           1995-02-28  1998-03-05   WO9809059A1       ...          \n",
       "\n",
       "                                        citing_publn  \\\n",
       "0                                        WO0199222A3   \n",
       "1  US5208526A\\nEP0557287A4\\nUS5349535A\\nUS5434020...   \n",
       "2  EP1167708A2\\nDE10029978A1\\nDE10105233A1\\nEP220...   \n",
       "3  KR20100103462A\\nJP2011502743A\\nJP2013078764A\\n...   \n",
       "4                                                NaN   \n",
       "\n",
       "                                        citing_appln  \\\n",
       "0                                         WO0119827W   \n",
       "1  US63645090A\\nEP91915464A\\nUS96399792A\\nUS15296...   \n",
       "2  EP01115227A\\nDE10029978A\\nDE10105233A\\nEP08842...   \n",
       "3  KR20107010572A\\nJP2010531202A\\nJP2012279486A\\n...   \n",
       "4                                                NaN   \n",
       "\n",
       "                                     citing_appln_id  \\\n",
       "0                                           45621927   \n",
       "1  52393850\\n16916549\\n54353461\\n48212422\\n457802...   \n",
       "2             15814252\\n12936842\\n12970055\\n57178895   \n",
       "3  328440678\\n332201837\\n406999716\\n378212937\\n41...   \n",
       "4                                                NaN   \n",
       "\n",
       "                                    citing_family_id  num_citing_family  \\\n",
       "0                                           24395918                 30   \n",
       "1  27071024\\n1239277\\n25508001\\n22545199\\n2636904...                 30   \n",
       "2                7646156\\n7646156\\n7672964\\n40580359                 31   \n",
       "3  40580359\\n40580359\\n40580359\\n40580359\\n405803...                 31   \n",
       "4                                                NaN                 31   \n",
       "\n",
       "                       earliest_applt                       current_applt  \\\n",
       "0       LUZ ELECTRIC FUEL ISRAEL LTD.       LUZ ELECTRIC FUEL ISRAEL LTD.   \n",
       "1      Luz Electric Fuel Israel, Ltd.      Luz Electric Fuel Israel, Ltd.   \n",
       "2  SUMITOMO ELECTRIC INDUSTRIES, LTD.  SUMITOMO ELECTRIC INDUSTRIES, LTD.   \n",
       "3           SUMITOMO ELECTRIC IND LTD           SUMITOMO ELECTRIC IND LTD   \n",
       "4  Sumitomo Electric Industries, Ltd.  Sumitomo Electric Industries, Ltd.   \n",
       "\n",
       "                            appln_title  \\\n",
       "0              ELECTRICAL ENERGY SYSTEM   \n",
       "1              Electrical energy system   \n",
       "2  PARTICULATE TRAP FOR A DIESEL ENGINE   \n",
       "3    PARTICULATE TRAP FOR DIESEL ENGINE   \n",
       "4  PARTICULATE TRAP FOR A DIESEL ENGINE   \n",
       "\n",
       "                                         appln_abstr application_date  \n",
       "0  An electrical energy system including an elect...       1990-07-19  \n",
       "1  An electrical energy system including an elect...       1990-07-19  \n",
       "2  An object is to provide a particulate trap for...       1995-02-28  \n",
       "3  PURPOSE: To obtain a trap by which the leakage...       1995-02-28  \n",
       "4  A particulate trap for a diesel engine designe...       1995-02-28  \n",
       "\n",
       "[5 rows x 35 columns]"
      ]
     },
     "execution_count": 37,
     "metadata": {},
     "output_type": "execute_result"
    }
   ],
   "source": [
    "patent.head()"
   ]
  },
  {
   "cell_type": "code",
   "execution_count": 38,
   "metadata": {},
   "outputs": [
    {
     "data": {
      "text/plain": [
       "1    52447\n",
       "0    16317\n",
       "Name: granted, dtype: int64"
      ]
     },
     "execution_count": 38,
     "metadata": {},
     "output_type": "execute_result"
    }
   ],
   "source": [
    "patent['granted'].value_counts()"
   ]
  },
  {
   "cell_type": "code",
   "execution_count": 39,
   "metadata": {},
   "outputs": [
    {
     "data": {
      "text/plain": [
       "1    0.76271\n",
       "0    0.23729\n",
       "Name: granted, dtype: float64"
      ]
     },
     "execution_count": 39,
     "metadata": {},
     "output_type": "execute_result"
    }
   ],
   "source": [
    "patent['granted'].value_counts(normalize=True)"
   ]
  },
  {
   "cell_type": "code",
   "execution_count": 40,
   "metadata": {},
   "outputs": [
    {
     "data": {
      "text/plain": [
       "0.7627101390262346"
      ]
     },
     "execution_count": 40,
     "metadata": {},
     "output_type": "execute_result"
    }
   ],
   "source": [
    "patent.granted.mean()"
   ]
  },
  {
   "cell_type": "code",
   "execution_count": 41,
   "metadata": {},
   "outputs": [
    {
     "data": {
      "text/plain": [
       "application_date\n",
       "1990     631\n",
       "1991     732\n",
       "1992    1008\n",
       "1993    1205\n",
       "1994    1154\n",
       "1995    1285\n",
       "1996    1483\n",
       "1997    1581\n",
       "1998    1726\n",
       "1999    2003\n",
       "2000    2211\n",
       "2001    2267\n",
       "2002    2219\n",
       "2003    2431\n",
       "2004    2310\n",
       "2005    2641\n",
       "2006    3498\n",
       "2007    3444\n",
       "2008    3259\n",
       "2009    3754\n",
       "2010    4659\n",
       "2011    5737\n",
       "2012    5242\n",
       "2013    4247\n",
       "2014    3420\n",
       "2015    2687\n",
       "2016    1568\n",
       "2017     360\n",
       "2018       2\n",
       "Name: granted, dtype: int64"
      ]
     },
     "execution_count": 41,
     "metadata": {},
     "output_type": "execute_result"
    }
   ],
   "source": [
    "patent.groupby(patent.application_date.dt.year).granted.count()"
   ]
  },
  {
   "cell_type": "code",
   "execution_count": 42,
   "metadata": {},
   "outputs": [
    {
     "data": {
      "text/plain": [
       "<matplotlib.axes._subplots.AxesSubplot at 0x18313c60470>"
      ]
     },
     "execution_count": 42,
     "metadata": {},
     "output_type": "execute_result"
    },
    {
     "data": {
      "image/png": "[encoded data removed]",
      "text/plain": [
       "<matplotlib.figure.Figure at 0x183136d2b70>"
      ]
     },
     "metadata": {
      "needs_background": "light"
     },
     "output_type": "display_data"
    }
   ],
   "source": [
    "patent.groupby(patent.application_date.dt.year).granted.count().plot()"
   ]
  },
  {
   "cell_type": "code",
   "execution_count": 43,
   "metadata": {},
   "outputs": [
    {
     "data": {
      "text/plain": [
       "application_date\n",
       "2018       2\n",
       "2017     360\n",
       "1990     631\n",
       "1991     732\n",
       "1992    1008\n",
       "1994    1154\n",
       "1993    1205\n",
       "1995    1285\n",
       "1996    1483\n",
       "2016    1568\n",
       "1997    1581\n",
       "1998    1726\n",
       "1999    2003\n",
       "2000    2211\n",
       "2002    2219\n",
       "2001    2267\n",
       "2004    2310\n",
       "2003    2431\n",
       "2005    2641\n",
       "2015    2687\n",
       "2008    3259\n",
       "2014    3420\n",
       "2007    3444\n",
       "2006    3498\n",
       "2009    3754\n",
       "2013    4247\n",
       "2010    4659\n",
       "2012    5242\n",
       "2011    5737\n",
       "Name: granted, dtype: int64"
      ]
     },
     "execution_count": 43,
     "metadata": {},
     "output_type": "execute_result"
    }
   ],
   "source": [
    "patent.groupby(patent.application_date.dt.year).granted.count().sort_values()"
   ]
  },
  {
   "cell_type": "markdown",
   "metadata": {},
   "source": [
    "**The steep drop in patent applications in 2013 is due to the patent ﬁlling process at the USPTO, which involves a signiﬁcant time lag between the ﬁling and disclosure or registration of applications, ranging from several months to over two years.**\n",
    "\n",
    "So work uptill fig 3 is done"
   ]
  },
  {
   "cell_type": "markdown",
   "metadata": {},
   "source": [
    "# 3.2) Top assignees of the vehicle related patents.\n"
   ]
  },
  {
   "cell_type": "code",
   "execution_count": 44,
   "metadata": {},
   "outputs": [
    {
     "data": {
      "text/plain": [
       "TOYOTA MOTOR CORP                  3602\n",
       "Toyota Jidosha Kabushiki Kaisha    2992\n",
       "Robert Bosch GmbH                  2508\n",
       "Hyundai Motor Company              2228\n",
       "HONDA MOTOR CO LTD                 1903\n",
       "Name: current_applt, dtype: int64"
      ]
     },
     "execution_count": 44,
     "metadata": {},
     "output_type": "execute_result"
    }
   ],
   "source": [
    "patent['current_applt'].value_counts().head()"
   ]
  },
  {
   "cell_type": "code",
   "execution_count": null,
   "metadata": {},
   "outputs": [],
   "source": []
  },
  {
   "cell_type": "code",
   "execution_count": 45,
   "metadata": {},
   "outputs": [],
   "source": [
    "assigne_data=patent['current_applt'].value_counts()"
   ]
  },
  {
   "cell_type": "code",
   "execution_count": 46,
   "metadata": {},
   "outputs": [],
   "source": [
    "df_assigne= pd.DataFrame(data=assigne_data)"
   ]
  },
  {
   "cell_type": "code",
   "execution_count": 47,
   "metadata": {},
   "outputs": [
    {
     "data": {
      "text/html": [
       "<div>\n",
       "<style scoped>\n",
       "    .dataframe tbody tr th:only-of-type {\n",
       "        vertical-align: middle;\n",
       "    }\n",
       "\n",
       "    .dataframe tbody tr th {\n",
       "        vertical-align: top;\n",
       "    }\n",
       "\n",
       "    .dataframe thead th {\n",
       "        text-align: right;\n",
       "    }\n",
       "</style>\n",
       "<table border=\"1\" class=\"dataframe\">\n",
       "  <thead>\n",
       "    <tr style=\"text-align: right;\">\n",
       "      <th></th>\n",
       "      <th>current_applt</th>\n",
       "    </tr>\n",
       "  </thead>\n",
       "  <tbody>\n",
       "    <tr>\n",
       "      <th>TOYOTA MOTOR CORP</th>\n",
       "      <td>3602</td>\n",
       "    </tr>\n",
       "    <tr>\n",
       "      <th>Toyota Jidosha Kabushiki Kaisha</th>\n",
       "      <td>2992</td>\n",
       "    </tr>\n",
       "    <tr>\n",
       "      <th>Robert Bosch GmbH</th>\n",
       "      <td>2508</td>\n",
       "    </tr>\n",
       "    <tr>\n",
       "      <th>Hyundai Motor Company</th>\n",
       "      <td>2228</td>\n",
       "    </tr>\n",
       "    <tr>\n",
       "      <th>HONDA MOTOR CO LTD</th>\n",
       "      <td>1903</td>\n",
       "    </tr>\n",
       "  </tbody>\n",
       "</table>\n",
       "</div>"
      ],
      "text/plain": [
       "                                 current_applt\n",
       "TOYOTA MOTOR CORP                         3602\n",
       "Toyota Jidosha Kabushiki Kaisha           2992\n",
       "Robert Bosch GmbH                         2508\n",
       "Hyundai Motor Company                     2228\n",
       "HONDA MOTOR CO LTD                        1903"
      ]
     },
     "execution_count": 47,
     "metadata": {},
     "output_type": "execute_result"
    }
   ],
   "source": [
    "df_assigne.head()"
   ]
  },
  {
   "cell_type": "code",
   "execution_count": 48,
   "metadata": {},
   "outputs": [],
   "source": [
    "df_assigne['Commulative']=patent['current_applt'].value_counts(normalize=True)"
   ]
  },
  {
   "cell_type": "code",
   "execution_count": 49,
   "metadata": {},
   "outputs": [
    {
     "data": {
      "text/html": [
       "<div>\n",
       "<style scoped>\n",
       "    .dataframe tbody tr th:only-of-type {\n",
       "        vertical-align: middle;\n",
       "    }\n",
       "\n",
       "    .dataframe tbody tr th {\n",
       "        vertical-align: top;\n",
       "    }\n",
       "\n",
       "    .dataframe thead th {\n",
       "        text-align: right;\n",
       "    }\n",
       "</style>\n",
       "<table border=\"1\" class=\"dataframe\">\n",
       "  <thead>\n",
       "    <tr style=\"text-align: right;\">\n",
       "      <th></th>\n",
       "      <th>current_applt</th>\n",
       "      <th>Commulative</th>\n",
       "    </tr>\n",
       "  </thead>\n",
       "  <tbody>\n",
       "    <tr>\n",
       "      <th>TOYOTA MOTOR CORP</th>\n",
       "      <td>3602</td>\n",
       "      <td>0.052772</td>\n",
       "    </tr>\n",
       "    <tr>\n",
       "      <th>Toyota Jidosha Kabushiki Kaisha</th>\n",
       "      <td>2992</td>\n",
       "      <td>0.043835</td>\n",
       "    </tr>\n",
       "    <tr>\n",
       "      <th>Robert Bosch GmbH</th>\n",
       "      <td>2508</td>\n",
       "      <td>0.036744</td>\n",
       "    </tr>\n",
       "    <tr>\n",
       "      <th>Hyundai Motor Company</th>\n",
       "      <td>2228</td>\n",
       "      <td>0.032642</td>\n",
       "    </tr>\n",
       "    <tr>\n",
       "      <th>HONDA MOTOR CO LTD</th>\n",
       "      <td>1903</td>\n",
       "      <td>0.027880</td>\n",
       "    </tr>\n",
       "  </tbody>\n",
       "</table>\n",
       "</div>"
      ],
      "text/plain": [
       "                                 current_applt  Commulative\n",
       "TOYOTA MOTOR CORP                         3602     0.052772\n",
       "Toyota Jidosha Kabushiki Kaisha           2992     0.043835\n",
       "Robert Bosch GmbH                         2508     0.036744\n",
       "Hyundai Motor Company                     2228     0.032642\n",
       "HONDA MOTOR CO LTD                        1903     0.027880"
      ]
     },
     "execution_count": 49,
     "metadata": {},
     "output_type": "execute_result"
    }
   ],
   "source": [
    "df_assigne.head()"
   ]
  },
  {
   "cell_type": "code",
   "execution_count": 50,
   "metadata": {},
   "outputs": [],
   "source": [
    "df_assigne=df_assigne.rename(index=str, columns={\" \": \"Assigne\", \"current_applt\": \"# of patents\"})"
   ]
  },
  {
   "cell_type": "code",
   "execution_count": 57,
   "metadata": {},
   "outputs": [
    {
     "data": {
      "text/html": [
       "<div>\n",
       "<style scoped>\n",
       "    .dataframe tbody tr th:only-of-type {\n",
       "        vertical-align: middle;\n",
       "    }\n",
       "\n",
       "    .dataframe tbody tr th {\n",
       "        vertical-align: top;\n",
       "    }\n",
       "\n",
       "    .dataframe thead th {\n",
       "        text-align: right;\n",
       "    }\n",
       "</style>\n",
       "<table border=\"1\" class=\"dataframe\">\n",
       "  <thead>\n",
       "    <tr style=\"text-align: right;\">\n",
       "      <th></th>\n",
       "      <th># of patents</th>\n",
       "      <th>Commulative</th>\n",
       "    </tr>\n",
       "  </thead>\n",
       "  <tbody>\n",
       "    <tr>\n",
       "      <th>TOYOTA MOTOR CORP</th>\n",
       "      <td>3602</td>\n",
       "      <td>0.052772</td>\n",
       "    </tr>\n",
       "    <tr>\n",
       "      <th>Toyota Jidosha Kabushiki Kaisha</th>\n",
       "      <td>2992</td>\n",
       "      <td>0.043835</td>\n",
       "    </tr>\n",
       "    <tr>\n",
       "      <th>Robert Bosch GmbH</th>\n",
       "      <td>2508</td>\n",
       "      <td>0.036744</td>\n",
       "    </tr>\n",
       "    <tr>\n",
       "      <th>Hyundai Motor Company</th>\n",
       "      <td>2228</td>\n",
       "      <td>0.032642</td>\n",
       "    </tr>\n",
       "    <tr>\n",
       "      <th>HONDA MOTOR CO LTD</th>\n",
       "      <td>1903</td>\n",
       "      <td>0.027880</td>\n",
       "    </tr>\n",
       "    <tr>\n",
       "      <th>NISSAN MOTOR CO LTD</th>\n",
       "      <td>1374</td>\n",
       "      <td>0.020130</td>\n",
       "    </tr>\n",
       "    <tr>\n",
       "      <th>Ford Global Technologies, LLC</th>\n",
       "      <td>1190</td>\n",
       "      <td>0.017434</td>\n",
       "    </tr>\n",
       "    <tr>\n",
       "      <th>Nissan Motor Co., Ltd.</th>\n",
       "      <td>818</td>\n",
       "      <td>0.011984</td>\n",
       "    </tr>\n",
       "    <tr>\n",
       "      <th>Honda Motor Co., Ltd.</th>\n",
       "      <td>782</td>\n",
       "      <td>0.011457</td>\n",
       "    </tr>\n",
       "    <tr>\n",
       "      <th>Honda Giken Kogyo Kabushiki Kaisha</th>\n",
       "      <td>611</td>\n",
       "      <td>0.008952</td>\n",
       "    </tr>\n",
       "    <tr>\n",
       "      <th>DENSO CORP</th>\n",
       "      <td>603</td>\n",
       "      <td>0.008834</td>\n",
       "    </tr>\n",
       "    <tr>\n",
       "      <th>Peugeot Citroen Automobiles SA</th>\n",
       "      <td>595</td>\n",
       "      <td>0.008717</td>\n",
       "    </tr>\n",
       "    <tr>\n",
       "      <th>TOYOTA JIDOSHA KABUSHIKI KAISHA</th>\n",
       "      <td>551</td>\n",
       "      <td>0.008073</td>\n",
       "    </tr>\n",
       "    <tr>\n",
       "      <th>Toyota Motor Corporation</th>\n",
       "      <td>474</td>\n",
       "      <td>0.006944</td>\n",
       "    </tr>\n",
       "    <tr>\n",
       "      <th>MITSUBISHI MOTORS CORP</th>\n",
       "      <td>457</td>\n",
       "      <td>0.006695</td>\n",
       "    </tr>\n",
       "    <tr>\n",
       "      <th>HONDA MOTOR CO., LTD.</th>\n",
       "      <td>407</td>\n",
       "      <td>0.005963</td>\n",
       "    </tr>\n",
       "    <tr>\n",
       "      <th>Hitachi, Ltd.</th>\n",
       "      <td>351</td>\n",
       "      <td>0.005142</td>\n",
       "    </tr>\n",
       "    <tr>\n",
       "      <th>DaimlerChrysler AG</th>\n",
       "      <td>335</td>\n",
       "      <td>0.004908</td>\n",
       "    </tr>\n",
       "    <tr>\n",
       "      <th>NISSAN MOTOR CO., LTD.</th>\n",
       "      <td>322</td>\n",
       "      <td>0.004718</td>\n",
       "    </tr>\n",
       "    <tr>\n",
       "      <th>TOYOTA MOTOR CO., LTD.</th>\n",
       "      <td>312</td>\n",
       "      <td>0.004571</td>\n",
       "    </tr>\n",
       "    <tr>\n",
       "      <th>HITACHI LTD</th>\n",
       "      <td>307</td>\n",
       "      <td>0.004498</td>\n",
       "    </tr>\n",
       "    <tr>\n",
       "      <th>GM Global Technology Operations LLC</th>\n",
       "      <td>285</td>\n",
       "      <td>0.004175</td>\n",
       "    </tr>\n",
       "    <tr>\n",
       "      <th>Denso Corporation</th>\n",
       "      <td>275</td>\n",
       "      <td>0.004029</td>\n",
       "    </tr>\n",
       "    <tr>\n",
       "      <th>SUZUKI MOTOR CORP</th>\n",
       "      <td>272</td>\n",
       "      <td>0.003985</td>\n",
       "    </tr>\n",
       "    <tr>\n",
       "      <th>MITSUBISHI ELECTRIC CORP</th>\n",
       "      <td>269</td>\n",
       "      <td>0.003941</td>\n",
       "    </tr>\n",
       "    <tr>\n",
       "      <th>MAZDA MOTOR CORP</th>\n",
       "      <td>268</td>\n",
       "      <td>0.003926</td>\n",
       "    </tr>\n",
       "    <tr>\n",
       "      <th>Siemens Aktiengesellschaft</th>\n",
       "      <td>236</td>\n",
       "      <td>0.003458</td>\n",
       "    </tr>\n",
       "    <tr>\n",
       "      <th>Mitsubishi Jidosha Kogyo Kabushiki Kaisha</th>\n",
       "      <td>231</td>\n",
       "      <td>0.003384</td>\n",
       "    </tr>\n",
       "    <tr>\n",
       "      <th>Yamaha Hatsudoki Kabushiki Kaisha</th>\n",
       "      <td>231</td>\n",
       "      <td>0.003384</td>\n",
       "    </tr>\n",
       "    <tr>\n",
       "      <th>HYUNDAI MOTOR CO LTD</th>\n",
       "      <td>217</td>\n",
       "      <td>0.003179</td>\n",
       "    </tr>\n",
       "  </tbody>\n",
       "</table>\n",
       "</div>"
      ],
      "text/plain": [
       "                                           # of patents  Commulative\n",
       "TOYOTA MOTOR CORP                                  3602     0.052772\n",
       "Toyota Jidosha Kabushiki Kaisha                    2992     0.043835\n",
       "Robert Bosch GmbH                                  2508     0.036744\n",
       "Hyundai Motor Company                              2228     0.032642\n",
       "HONDA MOTOR CO LTD                                 1903     0.027880\n",
       "NISSAN MOTOR CO LTD                                1374     0.020130\n",
       "Ford Global Technologies, LLC                      1190     0.017434\n",
       "Nissan Motor Co., Ltd.                              818     0.011984\n",
       "Honda Motor Co., Ltd.                               782     0.011457\n",
       "Honda Giken Kogyo Kabushiki Kaisha                  611     0.008952\n",
       "DENSO CORP                                          603     0.008834\n",
       "Peugeot Citroen Automobiles SA                      595     0.008717\n",
       "TOYOTA JIDOSHA KABUSHIKI KAISHA                     551     0.008073\n",
       "Toyota Motor Corporation                            474     0.006944\n",
       "MITSUBISHI MOTORS CORP                              457     0.006695\n",
       "HONDA MOTOR CO., LTD.                               407     0.005963\n",
       "Hitachi, Ltd.                                       351     0.005142\n",
       "DaimlerChrysler AG                                  335     0.004908\n",
       "NISSAN MOTOR CO., LTD.                              322     0.004718\n",
       "TOYOTA MOTOR CO., LTD.                              312     0.004571\n",
       "HITACHI LTD                                         307     0.004498\n",
       "GM Global Technology Operations LLC                 285     0.004175\n",
       "Denso Corporation                                   275     0.004029\n",
       "SUZUKI MOTOR CORP                                   272     0.003985\n",
       "MITSUBISHI ELECTRIC CORP                            269     0.003941\n",
       "MAZDA MOTOR CORP                                    268     0.003926\n",
       "Siemens Aktiengesellschaft                          236     0.003458\n",
       "Mitsubishi Jidosha Kogyo Kabushiki Kaisha           231     0.003384\n",
       "Yamaha Hatsudoki Kabushiki Kaisha                   231     0.003384\n",
       "HYUNDAI MOTOR CO LTD                                217     0.003179"
      ]
     },
     "execution_count": 57,
     "metadata": {},
     "output_type": "execute_result"
    }
   ],
   "source": [
    "df_assigne.head(30)"
   ]
  },
  {
   "cell_type": "markdown",
   "metadata": {},
   "source": [
    "**Problem of duplicate assignee**"
   ]
  },
  {
   "cell_type": "markdown",
   "metadata": {},
   "source": [
    "# 4 Text Mining"
   ]
  },
  {
   "cell_type": "markdown",
   "metadata": {},
   "source": [
    "## 4.1 )-Checking data for text analysis"
   ]
  },
  {
   "cell_type": "code",
   "execution_count": 52,
   "metadata": {},
   "outputs": [],
   "source": [
    "patent_abst=patent['appln_abstr']"
   ]
  },
  {
   "cell_type": "code",
   "execution_count": 53,
   "metadata": {},
   "outputs": [
    {
     "name": "stdout",
     "output_type": "stream",
     "text": [
      "Patent data has chars 68764\n",
      "Patent data has unique chars 60325\n"
     ]
    }
   ],
   "source": [
    "chars = list(set(patent_abst)) \n",
    "data_size, vocab_size = len(patent_abst), len(chars)\n",
    "print (\"Patent data has chars\", data_size)\n",
    "print (\"Patent data has unique chars\", vocab_size)"
   ]
  },
  {
   "cell_type": "markdown",
   "metadata": {},
   "source": [
    "**still there are alot of unique letters. Seems like patents do use key words alot**"
   ]
  },
  {
   "cell_type": "code",
   "execution_count": 54,
   "metadata": {},
   "outputs": [],
   "source": [
    "import warnings\n",
    "warnings.filterwarnings(action='ignore', category=UserWarning, module='gensim')\n",
    "\n",
    "import nltk\n",
    "import gensim"
   ]
  },
  {
   "cell_type": "code",
   "execution_count": 56,
   "metadata": {},
   "outputs": [
    {
     "data": {
      "image/png": "[encoded data removed]",
      "text/plain": [
       "<matplotlib.figure.Figure at 0x18314b609e8>"
      ]
     },
     "metadata": {
      "needs_background": "light"
     },
     "output_type": "display_data"
    }
   ],
   "source": [
    "from wordcloud import WordCloud, STOPWORDS\n",
    "stopwords=set(STOPWORDS)\n",
    "\n",
    "def Mywordcloud (data, title=None):\n",
    "    wordcloud=WordCloud(\n",
    "    background_color='white',\n",
    "    stopwords=stopwords,\n",
    "    max_words= 50 ,\n",
    "    max_font_size=40 ,\n",
    "    scale=3,\n",
    "    random_state=1\n",
    "    ).generate(str(data))\n",
    "    \n",
    "    fig=plt.figure(1 , figsize(20, 20))\n",
    "    plt.axis('off')\n",
    "    if title:\n",
    "        fig.suptitle(title, fontsize=20)\n",
    "        fig.subplots_adjust(top=2.3)\n",
    "    \n",
    "    plt.imshow(wordcloud)\n",
    "    plt.show()\n",
    "Mywordcloud(patent['appln_abstr'].dropna())"
   ]
  },
  {
   "cell_type": "code",
   "execution_count": null,
   "metadata": {},
   "outputs": [],
   "source": []
  }
 ],
 "metadata": {
  "kernelspec": {
   "display_name": "Python 3",
   "language": "python",
   "name": "python3"
  },
  "language_info": {
   "codemirror_mode": {
    "name": "ipython",
    "version": 3
   },
   "file_extension": ".py",
   "mimetype": "text/x-python",
   "name": "python",
   "nbconvert_exporter": "python",
   "pygments_lexer": "ipython3",
   "version": "3.6.3"
  }
 },
 "nbformat": 4,
 "nbformat_minor": 2
}
