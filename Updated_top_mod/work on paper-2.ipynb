{
 "cells": [
  {
   "cell_type": "markdown",
   "metadata": {},
   "source": [
    "# Working on analysis part of topic modeling"
   ]
  },
  {
   "cell_type": "code",
   "execution_count": null,
   "metadata": {},
   "outputs": [],
   "source": []
  },
  {
   "cell_type": "code",
   "execution_count": 1,
   "metadata": {},
   "outputs": [],
   "source": [
    "import warnings\n",
    "warnings.filterwarnings('ignore')"
   ]
  },
  {
   "cell_type": "code",
   "execution_count": 2,
   "metadata": {},
   "outputs": [],
   "source": [
    "import nltk\n",
    "import sys\n",
    "import re, numpy as np, pandas as pd"
   ]
  },
  {
   "cell_type": "code",
   "execution_count": 3,
   "metadata": {},
   "outputs": [
    {
     "name": "stdout",
     "output_type": "stream",
     "text": [
      "Populating the interactive namespace from numpy and matplotlib\n"
     ]
    }
   ],
   "source": [
    "# Visualization \n",
    "import matplotlib.pyplot as plt\n",
    "import seaborn as sns\n",
    "from pprint import pprint\n",
    "%matplotlib inline\n",
    "%pylab inline"
   ]
  },
  {
   "cell_type": "code",
   "execution_count": 4,
   "metadata": {},
   "outputs": [],
   "source": [
    "# Gensim\n",
    "import gensim, spacy, logging, warnings\n",
    "import gensim.corpora as corpora\n",
    "from gensim.utils import lemmatize, simple_preprocess\n",
    "from gensim.models import CoherenceModel"
   ]
  },
  {
   "cell_type": "code",
   "execution_count": 5,
   "metadata": {},
   "outputs": [],
   "source": [
    "# NLTK Stop words\n",
    "from nltk.corpus import stopwords\n",
    "stop_words = stopwords.words('english')\n",
    "stop_words.extend(['from', 'subject', 're', 'edu', 'use', 'not', 'would', 'say', 'could', '_', 'be', 'know', 'good', 'go', 'get', 'do', 'done', 'try', 'many', 'some', 'nice', 'thank', 'think', 'see', 'rather', 'easy', 'easily', 'lot', 'lack', 'make', 'want', 'seem', 'run', 'need', 'even', 'right', 'line', 'even', 'also', 'may', 'take', 'come'])"
   ]
  },
  {
   "cell_type": "markdown",
   "metadata": {},
   "source": [
    "# Loading file"
   ]
  },
  {
   "cell_type": "code",
   "execution_count": 6,
   "metadata": {},
   "outputs": [],
   "source": [
    "import pickle"
   ]
  },
  {
   "cell_type": "code",
   "execution_count": 7,
   "metadata": {},
   "outputs": [],
   "source": [
    "data = pd.read_pickle('top10_topic_dominant.pkl')"
   ]
  },
  {
   "cell_type": "code",
   "execution_count": 8,
   "metadata": {},
   "outputs": [
    {
     "data": {
      "text/html": [
       "<div>\n",
       "<style scoped>\n",
       "    .dataframe tbody tr th:only-of-type {\n",
       "        vertical-align: middle;\n",
       "    }\n",
       "\n",
       "    .dataframe tbody tr th {\n",
       "        vertical-align: top;\n",
       "    }\n",
       "\n",
       "    .dataframe thead th {\n",
       "        text-align: right;\n",
       "    }\n",
       "</style>\n",
       "<table border=\"1\" class=\"dataframe\">\n",
       "  <thead>\n",
       "    <tr style=\"text-align: right;\">\n",
       "      <th></th>\n",
       "      <th>Document_No</th>\n",
       "      <th>Dominant_Topic</th>\n",
       "      <th>Topic_Perc_Contrib</th>\n",
       "      <th>Keywords</th>\n",
       "      <th>Text</th>\n",
       "    </tr>\n",
       "  </thead>\n",
       "  <tbody>\n",
       "    <tr>\n",
       "      <th>0</th>\n",
       "      <td>0</td>\n",
       "      <td>1.0</td>\n",
       "      <td>0.4353</td>\n",
       "      <td>hydrogen, fuel, water, tank, cell, diesel, oil...</td>\n",
       "      <td>[electrical, energy, system, include, electric...</td>\n",
       "    </tr>\n",
       "    <tr>\n",
       "      <th>1</th>\n",
       "      <td>1</td>\n",
       "      <td>5.0</td>\n",
       "      <td>0.6834</td>\n",
       "      <td>battery, power, voltage, electric, charge, ene...</td>\n",
       "      <td>[electrical, energy, system, include, electric...</td>\n",
       "    </tr>\n",
       "    <tr>\n",
       "      <th>2</th>\n",
       "      <td>2</td>\n",
       "      <td>9.0</td>\n",
       "      <td>0.6159</td>\n",
       "      <td>catalyst, exhaust, gas, powertrain, fuel, cell...</td>\n",
       "      <td>[object, provide, particulate, trap, diesel, e...</td>\n",
       "    </tr>\n",
       "    <tr>\n",
       "      <th>3</th>\n",
       "      <td>3</td>\n",
       "      <td>7.0</td>\n",
       "      <td>0.3142</td>\n",
       "      <td>body, plate, support, fix, part, lock, member,...</td>\n",
       "      <td>[purpose, obtain, trap, leakage, exhaust, gas,...</td>\n",
       "    </tr>\n",
       "    <tr>\n",
       "      <th>4</th>\n",
       "      <td>4</td>\n",
       "      <td>9.0</td>\n",
       "      <td>0.4365</td>\n",
       "      <td>catalyst, exhaust, gas, powertrain, fuel, cell...</td>\n",
       "      <td>[particulate, trap, diesel, engine, design, ef...</td>\n",
       "    </tr>\n",
       "    <tr>\n",
       "      <th>5</th>\n",
       "      <td>5</td>\n",
       "      <td>9.0</td>\n",
       "      <td>0.6045</td>\n",
       "      <td>catalyst, exhaust, gas, powertrain, fuel, cell...</td>\n",
       "      <td>[pct, pct_jp_sec_date, pub, mar, object, provi...</td>\n",
       "    </tr>\n",
       "    <tr>\n",
       "      <th>6</th>\n",
       "      <td>6</td>\n",
       "      <td>13.0</td>\n",
       "      <td>0.6788</td>\n",
       "      <td>air, pipe, filter, fuel, cool, oil, inlet, flo...</td>\n",
       "      <td>[mix, device, gas, fuel, air, internal, combus...</td>\n",
       "    </tr>\n",
       "    <tr>\n",
       "      <th>7</th>\n",
       "      <td>7</td>\n",
       "      <td>13.0</td>\n",
       "      <td>0.6586</td>\n",
       "      <td>air, pipe, filter, fuel, cool, oil, inlet, flo...</td>\n",
       "      <td>[mix, device, gas, fuel, air, internal, combus...</td>\n",
       "    </tr>\n",
       "    <tr>\n",
       "      <th>8</th>\n",
       "      <td>8</td>\n",
       "      <td>7.0</td>\n",
       "      <td>0.4477</td>\n",
       "      <td>body, plate, support, fix, part, lock, member,...</td>\n",
       "      <td>[area, mouth, injector, construct, flow, guide...</td>\n",
       "    </tr>\n",
       "    <tr>\n",
       "      <th>9</th>\n",
       "      <td>9</td>\n",
       "      <td>13.0</td>\n",
       "      <td>0.5354</td>\n",
       "      <td>air, pipe, filter, fuel, cool, oil, inlet, flo...</td>\n",
       "      <td>[internal, combustion, engine, least, injectio...</td>\n",
       "    </tr>\n",
       "  </tbody>\n",
       "</table>\n",
       "</div>"
      ],
      "text/plain": [
       "   Document_No  Dominant_Topic  Topic_Perc_Contrib  \\\n",
       "0            0             1.0              0.4353   \n",
       "1            1             5.0              0.6834   \n",
       "2            2             9.0              0.6159   \n",
       "3            3             7.0              0.3142   \n",
       "4            4             9.0              0.4365   \n",
       "5            5             9.0              0.6045   \n",
       "6            6            13.0              0.6788   \n",
       "7            7            13.0              0.6586   \n",
       "8            8             7.0              0.4477   \n",
       "9            9            13.0              0.5354   \n",
       "\n",
       "                                            Keywords  \\\n",
       "0  hydrogen, fuel, water, tank, cell, diesel, oil...   \n",
       "1  battery, power, voltage, electric, charge, ene...   \n",
       "2  catalyst, exhaust, gas, powertrain, fuel, cell...   \n",
       "3  body, plate, support, fix, part, lock, member,...   \n",
       "4  catalyst, exhaust, gas, powertrain, fuel, cell...   \n",
       "5  catalyst, exhaust, gas, powertrain, fuel, cell...   \n",
       "6  air, pipe, filter, fuel, cool, oil, inlet, flo...   \n",
       "7  air, pipe, filter, fuel, cool, oil, inlet, flo...   \n",
       "8  body, plate, support, fix, part, lock, member,...   \n",
       "9  air, pipe, filter, fuel, cool, oil, inlet, flo...   \n",
       "\n",
       "                                                Text  \n",
       "0  [electrical, energy, system, include, electric...  \n",
       "1  [electrical, energy, system, include, electric...  \n",
       "2  [object, provide, particulate, trap, diesel, e...  \n",
       "3  [purpose, obtain, trap, leakage, exhaust, gas,...  \n",
       "4  [particulate, trap, diesel, engine, design, ef...  \n",
       "5  [pct, pct_jp_sec_date, pub, mar, object, provi...  \n",
       "6  [mix, device, gas, fuel, air, internal, combus...  \n",
       "7  [mix, device, gas, fuel, air, internal, combus...  \n",
       "8  [area, mouth, injector, construct, flow, guide...  \n",
       "9  [internal, combustion, engine, least, injectio...  "
      ]
     },
     "execution_count": 8,
     "metadata": {},
     "output_type": "execute_result"
    }
   ],
   "source": [
    "data.head(10)"
   ]
  },
  {
   "cell_type": "code",
   "execution_count": 9,
   "metadata": {},
   "outputs": [
    {
     "data": {
      "text/plain": [
       "2.0         4\n",
       "6.0        19\n",
       "0.0        88\n",
       "12.0      229\n",
       "3.0       424\n",
       "1.0      2873\n",
       "9.0      4082\n",
       "8.0      4687\n",
       "7.0      6001\n",
       "4.0      6019\n",
       "5.0      7149\n",
       "10.0     7205\n",
       "13.0     7644\n",
       "11.0    22340\n",
       "Name: Dominant_Topic, dtype: int64"
      ]
     },
     "execution_count": 9,
     "metadata": {},
     "output_type": "execute_result"
    }
   ],
   "source": [
    "data.Dominant_Topic.value_counts(ascending=True)"
   ]
  },
  {
   "cell_type": "markdown",
   "metadata": {},
   "source": [
    "above table shows Number of patents applications within specific topic"
   ]
  },
  {
   "cell_type": "markdown",
   "metadata": {},
   "source": [
    "# Calculating patent share"
   ]
  },
  {
   "cell_type": "code",
   "execution_count": 10,
   "metadata": {},
   "outputs": [
    {
     "data": {
      "text/plain": [
       "68764"
      ]
     },
     "execution_count": 10,
     "metadata": {},
     "output_type": "execute_result"
    }
   ],
   "source": [
    "len(data)"
   ]
  },
  {
   "cell_type": "code",
   "execution_count": 11,
   "metadata": {},
   "outputs": [
    {
     "data": {
      "text/plain": [
       "11.0    0.324879\n",
       "13.0    0.111163\n",
       "10.0    0.104779\n",
       "5.0     0.103964\n",
       "4.0     0.087531\n",
       "7.0     0.087270\n",
       "8.0     0.068161\n",
       "9.0     0.059362\n",
       "1.0     0.041781\n",
       "3.0     0.006166\n",
       "12.0    0.003330\n",
       "0.0     0.001280\n",
       "6.0     0.000276\n",
       "2.0     0.000058\n",
       "Name: Dominant_Topic, dtype: float64"
      ]
     },
     "execution_count": 11,
     "metadata": {},
     "output_type": "execute_result"
    }
   ],
   "source": [
    "data.Dominant_Topic.value_counts(normalize=True)"
   ]
  },
  {
   "cell_type": "code",
   "execution_count": 12,
   "metadata": {},
   "outputs": [
    {
     "data": {
      "text/plain": [
       "8.728971554883369"
      ]
     },
     "execution_count": 12,
     "metadata": {},
     "output_type": "execute_result"
    }
   ],
   "source": [
    "data.Dominant_Topic.mean()"
   ]
  },
  {
   "cell_type": "markdown",
   "metadata": {},
   "source": [
    " # 2)-Trends in the number and the share of patents by topics\n",
    " \n",
    " (a) Change in the number of patents over filing year <br>\n",
    " (b) Change in the share of patents over filing year"
   ]
  },
  {
   "cell_type": "markdown",
   "metadata": {},
   "source": [
    "### 2(a) Change in the number of patents over filing year"
   ]
  },
  {
   "cell_type": "code",
   "execution_count": 13,
   "metadata": {},
   "outputs": [
    {
     "data": {
      "text/html": [
       "<div>\n",
       "<style scoped>\n",
       "    .dataframe tbody tr th:only-of-type {\n",
       "        vertical-align: middle;\n",
       "    }\n",
       "\n",
       "    .dataframe tbody tr th {\n",
       "        vertical-align: top;\n",
       "    }\n",
       "\n",
       "    .dataframe thead th {\n",
       "        text-align: right;\n",
       "    }\n",
       "</style>\n",
       "<table border=\"1\" class=\"dataframe\">\n",
       "  <thead>\n",
       "    <tr style=\"text-align: right;\">\n",
       "      <th></th>\n",
       "      <th>appln</th>\n",
       "      <th>appln_id</th>\n",
       "      <th>family_id</th>\n",
       "      <th>sets</th>\n",
       "      <th>direct</th>\n",
       "      <th>granted</th>\n",
       "      <th>earliest_appln</th>\n",
       "      <th>earliest_filing_date</th>\n",
       "      <th>publn_date</th>\n",
       "      <th>publn</th>\n",
       "      <th>...</th>\n",
       "      <th>citing_publn_date</th>\n",
       "      <th>citing_publn</th>\n",
       "      <th>citing_appln</th>\n",
       "      <th>citing_appln_id</th>\n",
       "      <th>citing_family_id</th>\n",
       "      <th>num_citing_family</th>\n",
       "      <th>earliest_applt</th>\n",
       "      <th>current_applt</th>\n",
       "      <th>appln_title</th>\n",
       "      <th>appln_abstr</th>\n",
       "    </tr>\n",
       "  </thead>\n",
       "  <tbody>\n",
       "    <tr>\n",
       "      <th>0</th>\n",
       "      <td>WO9105114W</td>\n",
       "      <td>47158713</td>\n",
       "      <td>1239277</td>\n",
       "      <td>2</td>\n",
       "      <td>1</td>\n",
       "      <td>1</td>\n",
       "      <td>US55592190A</td>\n",
       "      <td>1990-07-19</td>\n",
       "      <td>1993-02-18</td>\n",
       "      <td>WO9303532A1</td>\n",
       "      <td>...</td>\n",
       "      <td>2002-07-11</td>\n",
       "      <td>WO0199222A3</td>\n",
       "      <td>WO0119827W</td>\n",
       "      <td>45621927</td>\n",
       "      <td>24395918</td>\n",
       "      <td>30</td>\n",
       "      <td>LUZ ELECTRIC FUEL ISRAEL LTD.</td>\n",
       "      <td>LUZ ELECTRIC FUEL ISRAEL LTD.</td>\n",
       "      <td>ELECTRICAL ENERGY SYSTEM</td>\n",
       "      <td>An electrical energy system including an elect...</td>\n",
       "    </tr>\n",
       "    <tr>\n",
       "      <th>1</th>\n",
       "      <td>US55592190A</td>\n",
       "      <td>51797454</td>\n",
       "      <td>1239277</td>\n",
       "      <td>2</td>\n",
       "      <td>1</td>\n",
       "      <td>1</td>\n",
       "      <td>US55592190A</td>\n",
       "      <td>1990-07-19</td>\n",
       "      <td>1992-06-09</td>\n",
       "      <td>US5121044A</td>\n",
       "      <td>...</td>\n",
       "      <td>1993-05-04\\n1994-03-09\\n1994-09-20\\n1995-07-18...</td>\n",
       "      <td>US5208526A\\nEP0557287A4\\nUS5349535A\\nUS5434020...</td>\n",
       "      <td>US63645090A\\nEP91915464A\\nUS96399792A\\nUS15296...</td>\n",
       "      <td>52393850\\n16916549\\n54353461\\n48212422\\n457802...</td>\n",
       "      <td>27071024\\n1239277\\n25508001\\n22545199\\n2636904...</td>\n",
       "      <td>30</td>\n",
       "      <td>Luz Electric Fuel Israel, Ltd.</td>\n",
       "      <td>Luz Electric Fuel Israel, Ltd.</td>\n",
       "      <td>Electrical energy system</td>\n",
       "      <td>An electrical energy system including an elect...</td>\n",
       "    </tr>\n",
       "    <tr>\n",
       "      <th>2</th>\n",
       "      <td>DE19512512A</td>\n",
       "      <td>13386323</td>\n",
       "      <td>3505305</td>\n",
       "      <td>2</td>\n",
       "      <td>1</td>\n",
       "      <td>0</td>\n",
       "      <td>AT104194A</td>\n",
       "      <td>1994-05-20</td>\n",
       "      <td>1995-11-23</td>\n",
       "      <td>DE19512512A1</td>\n",
       "      <td>...</td>\n",
       "      <td>1999-04-14\\n2003-02-27\\n2007-05-22\\n2011-05-05...</td>\n",
       "      <td>EP0834977A3\\nDE10137908A1\\nUS7221062B2\\nWO2010...</td>\n",
       "      <td>EP97810450A\\nDE10137908A\\nUS48552204A\\nWO20100...</td>\n",
       "      <td>17254227\\n12994897\\n51255594\\n315713854\\n33380...</td>\n",
       "      <td>4222203\\n7694132\\n7694132\\n43298243\\n44288075\\...</td>\n",
       "      <td>4</td>\n",
       "      <td>STEYR-DAIMLER-PUCH AG, WIEN, AT</td>\n",
       "      <td>STEYR-DAIMLER-PUCH AG, WIEN, AT</td>\n",
       "      <td>Regulating circuit for battery-operated electr...</td>\n",
       "      <td>The regulating circuit has a microprocessor re...</td>\n",
       "    </tr>\n",
       "    <tr>\n",
       "      <th>3</th>\n",
       "      <td>DE4417432A</td>\n",
       "      <td>11295467</td>\n",
       "      <td>3505504</td>\n",
       "      <td>2</td>\n",
       "      <td>1</td>\n",
       "      <td>0</td>\n",
       "      <td>AT105093A</td>\n",
       "      <td>1993-05-28</td>\n",
       "      <td>1994-12-01</td>\n",
       "      <td>DE4417432A1</td>\n",
       "      <td>...</td>\n",
       "      <td>1996-06-07\\n1996-06-13\\n1997-10-21\\n1998-11-26...</td>\n",
       "      <td>FR2727654A1\\nDE4442867A1\\nUS5678646A\\nDE197215...</td>\n",
       "      <td>FR9514218A\\nDE4442867A\\nUS56615095A\\nDE1972152...</td>\n",
       "      <td>20508327\\n11314571\\n51875327\\n13472609\\n172965...</td>\n",
       "      <td>6534688\\n6534688\\n6534688\\n7830237\\n7831607\\n7...</td>\n",
       "      <td>39</td>\n",
       "      <td>STEYR-DAIMLER-PUCH AG, WIEN, AT</td>\n",
       "      <td>STEYR-DAIMLER-PUCH AG, WIEN, AT</td>\n",
       "      <td>Liquid-cooled drive unit for an electric vehicle</td>\n",
       "      <td>A drive unit for an electric vehicle comprises...</td>\n",
       "    </tr>\n",
       "    <tr>\n",
       "      <th>4</th>\n",
       "      <td>US25087194A</td>\n",
       "      <td>49013353</td>\n",
       "      <td>3505504</td>\n",
       "      <td>2</td>\n",
       "      <td>0</td>\n",
       "      <td>1</td>\n",
       "      <td>AT105093A</td>\n",
       "      <td>1993-05-28</td>\n",
       "      <td>1996-12-17</td>\n",
       "      <td>US5585681A</td>\n",
       "      <td>...</td>\n",
       "      <td>1998-08-27\\n2001-03-06\\n2002-10-02\\n2003-03-05...</td>\n",
       "      <td>WO9828833A3\\nUS6198183B1\\nEP0951131A3\\nEP12880...</td>\n",
       "      <td>WO9702146W\\nUS29465599A\\nEP99106967A\\nEP020179...</td>\n",
       "      <td>43603749\\n49378246\\n17378403\\n15912913\\n487780...</td>\n",
       "      <td>20405163\\n7865025\\n7865025\\n19091319\\n19091319...</td>\n",
       "      <td>39</td>\n",
       "      <td>Steyr-Daimler Puch AG</td>\n",
       "      <td>Steyr-Daimler Puch AG</td>\n",
       "      <td>Liquid-cooled drive unit for an electric motor...</td>\n",
       "      <td>A drive unit for an electric motor car compris...</td>\n",
       "    </tr>\n",
       "  </tbody>\n",
       "</table>\n",
       "<p>5 rows × 34 columns</p>\n",
       "</div>"
      ],
      "text/plain": [
       "         appln  appln_id  family_id  sets  direct  granted earliest_appln  \\\n",
       "0   WO9105114W  47158713    1239277     2       1        1    US55592190A   \n",
       "1  US55592190A  51797454    1239277     2       1        1    US55592190A   \n",
       "2  DE19512512A  13386323    3505305     2       1        0      AT104194A   \n",
       "3   DE4417432A  11295467    3505504     2       1        0      AT105093A   \n",
       "4  US25087194A  49013353    3505504     2       0        1      AT105093A   \n",
       "\n",
       "  earliest_filing_date  publn_date         publn  \\\n",
       "0           1990-07-19  1993-02-18   WO9303532A1   \n",
       "1           1990-07-19  1992-06-09    US5121044A   \n",
       "2           1994-05-20  1995-11-23  DE19512512A1   \n",
       "3           1993-05-28  1994-12-01   DE4417432A1   \n",
       "4           1993-05-28  1996-12-17    US5585681A   \n",
       "\n",
       "                         ...                          \\\n",
       "0                        ...                           \n",
       "1                        ...                           \n",
       "2                        ...                           \n",
       "3                        ...                           \n",
       "4                        ...                           \n",
       "\n",
       "                                   citing_publn_date  \\\n",
       "0                                         2002-07-11   \n",
       "1  1993-05-04\\n1994-03-09\\n1994-09-20\\n1995-07-18...   \n",
       "2  1999-04-14\\n2003-02-27\\n2007-05-22\\n2011-05-05...   \n",
       "3  1996-06-07\\n1996-06-13\\n1997-10-21\\n1998-11-26...   \n",
       "4  1998-08-27\\n2001-03-06\\n2002-10-02\\n2003-03-05...   \n",
       "\n",
       "                                        citing_publn  \\\n",
       "0                                        WO0199222A3   \n",
       "1  US5208526A\\nEP0557287A4\\nUS5349535A\\nUS5434020...   \n",
       "2  EP0834977A3\\nDE10137908A1\\nUS7221062B2\\nWO2010...   \n",
       "3  FR2727654A1\\nDE4442867A1\\nUS5678646A\\nDE197215...   \n",
       "4  WO9828833A3\\nUS6198183B1\\nEP0951131A3\\nEP12880...   \n",
       "\n",
       "                                        citing_appln  \\\n",
       "0                                         WO0119827W   \n",
       "1  US63645090A\\nEP91915464A\\nUS96399792A\\nUS15296...   \n",
       "2  EP97810450A\\nDE10137908A\\nUS48552204A\\nWO20100...   \n",
       "3  FR9514218A\\nDE4442867A\\nUS56615095A\\nDE1972152...   \n",
       "4  WO9702146W\\nUS29465599A\\nEP99106967A\\nEP020179...   \n",
       "\n",
       "                                     citing_appln_id  \\\n",
       "0                                           45621927   \n",
       "1  52393850\\n16916549\\n54353461\\n48212422\\n457802...   \n",
       "2  17254227\\n12994897\\n51255594\\n315713854\\n33380...   \n",
       "3  20508327\\n11314571\\n51875327\\n13472609\\n172965...   \n",
       "4  43603749\\n49378246\\n17378403\\n15912913\\n487780...   \n",
       "\n",
       "                                    citing_family_id num_citing_family  \\\n",
       "0                                           24395918                30   \n",
       "1  27071024\\n1239277\\n25508001\\n22545199\\n2636904...                30   \n",
       "2  4222203\\n7694132\\n7694132\\n43298243\\n44288075\\...                 4   \n",
       "3  6534688\\n6534688\\n6534688\\n7830237\\n7831607\\n7...                39   \n",
       "4  20405163\\n7865025\\n7865025\\n19091319\\n19091319...                39   \n",
       "\n",
       "                    earliest_applt                    current_applt  \\\n",
       "0    LUZ ELECTRIC FUEL ISRAEL LTD.    LUZ ELECTRIC FUEL ISRAEL LTD.   \n",
       "1   Luz Electric Fuel Israel, Ltd.   Luz Electric Fuel Israel, Ltd.   \n",
       "2  STEYR-DAIMLER-PUCH AG, WIEN, AT  STEYR-DAIMLER-PUCH AG, WIEN, AT   \n",
       "3  STEYR-DAIMLER-PUCH AG, WIEN, AT  STEYR-DAIMLER-PUCH AG, WIEN, AT   \n",
       "4            Steyr-Daimler Puch AG            Steyr-Daimler Puch AG   \n",
       "\n",
       "                                         appln_title  \\\n",
       "0                           ELECTRICAL ENERGY SYSTEM   \n",
       "1                           Electrical energy system   \n",
       "2  Regulating circuit for battery-operated electr...   \n",
       "3   Liquid-cooled drive unit for an electric vehicle   \n",
       "4  Liquid-cooled drive unit for an electric motor...   \n",
       "\n",
       "                                         appln_abstr  \n",
       "0  An electrical energy system including an elect...  \n",
       "1  An electrical energy system including an elect...  \n",
       "2  The regulating circuit has a microprocessor re...  \n",
       "3  A drive unit for an electric vehicle comprises...  \n",
       "4  A drive unit for an electric motor car compris...  \n",
       "\n",
       "[5 rows x 34 columns]"
      ]
     },
     "execution_count": 13,
     "metadata": {},
     "output_type": "execute_result"
    }
   ],
   "source": [
    "data_patent = pd.read_pickle('patent_orginal.pkl')\n",
    "data_patent.head()"
   ]
  },
  {
   "cell_type": "code",
   "execution_count": 14,
   "metadata": {},
   "outputs": [],
   "source": [
    "filling_date= data_patent.earliest_filing_date"
   ]
  },
  {
   "cell_type": "code",
   "execution_count": 15,
   "metadata": {},
   "outputs": [],
   "source": [
    "data['application_date']= pd.to_datetime(filling_date)"
   ]
  },
  {
   "cell_type": "code",
   "execution_count": 16,
   "metadata": {},
   "outputs": [
    {
     "data": {
      "text/html": [
       "<div>\n",
       "<style scoped>\n",
       "    .dataframe tbody tr th:only-of-type {\n",
       "        vertical-align: middle;\n",
       "    }\n",
       "\n",
       "    .dataframe tbody tr th {\n",
       "        vertical-align: top;\n",
       "    }\n",
       "\n",
       "    .dataframe thead th {\n",
       "        text-align: right;\n",
       "    }\n",
       "</style>\n",
       "<table border=\"1\" class=\"dataframe\">\n",
       "  <thead>\n",
       "    <tr style=\"text-align: right;\">\n",
       "      <th></th>\n",
       "      <th>Document_No</th>\n",
       "      <th>Dominant_Topic</th>\n",
       "      <th>Topic_Perc_Contrib</th>\n",
       "      <th>Keywords</th>\n",
       "      <th>Text</th>\n",
       "      <th>application_date</th>\n",
       "    </tr>\n",
       "  </thead>\n",
       "  <tbody>\n",
       "    <tr>\n",
       "      <th>0</th>\n",
       "      <td>0</td>\n",
       "      <td>1.0</td>\n",
       "      <td>0.4353</td>\n",
       "      <td>hydrogen, fuel, water, tank, cell, diesel, oil...</td>\n",
       "      <td>[electrical, energy, system, include, electric...</td>\n",
       "      <td>1990-07-19</td>\n",
       "    </tr>\n",
       "    <tr>\n",
       "      <th>1</th>\n",
       "      <td>1</td>\n",
       "      <td>5.0</td>\n",
       "      <td>0.6834</td>\n",
       "      <td>battery, power, voltage, electric, charge, ene...</td>\n",
       "      <td>[electrical, energy, system, include, electric...</td>\n",
       "      <td>1990-07-19</td>\n",
       "    </tr>\n",
       "    <tr>\n",
       "      <th>2</th>\n",
       "      <td>2</td>\n",
       "      <td>9.0</td>\n",
       "      <td>0.6159</td>\n",
       "      <td>catalyst, exhaust, gas, powertrain, fuel, cell...</td>\n",
       "      <td>[object, provide, particulate, trap, diesel, e...</td>\n",
       "      <td>1994-05-20</td>\n",
       "    </tr>\n",
       "    <tr>\n",
       "      <th>3</th>\n",
       "      <td>3</td>\n",
       "      <td>7.0</td>\n",
       "      <td>0.3142</td>\n",
       "      <td>body, plate, support, fix, part, lock, member,...</td>\n",
       "      <td>[purpose, obtain, trap, leakage, exhaust, gas,...</td>\n",
       "      <td>1993-05-28</td>\n",
       "    </tr>\n",
       "    <tr>\n",
       "      <th>4</th>\n",
       "      <td>4</td>\n",
       "      <td>9.0</td>\n",
       "      <td>0.4365</td>\n",
       "      <td>catalyst, exhaust, gas, powertrain, fuel, cell...</td>\n",
       "      <td>[particulate, trap, diesel, engine, design, ef...</td>\n",
       "      <td>1993-05-28</td>\n",
       "    </tr>\n",
       "  </tbody>\n",
       "</table>\n",
       "</div>"
      ],
      "text/plain": [
       "   Document_No  Dominant_Topic  Topic_Perc_Contrib  \\\n",
       "0            0             1.0              0.4353   \n",
       "1            1             5.0              0.6834   \n",
       "2            2             9.0              0.6159   \n",
       "3            3             7.0              0.3142   \n",
       "4            4             9.0              0.4365   \n",
       "\n",
       "                                            Keywords  \\\n",
       "0  hydrogen, fuel, water, tank, cell, diesel, oil...   \n",
       "1  battery, power, voltage, electric, charge, ene...   \n",
       "2  catalyst, exhaust, gas, powertrain, fuel, cell...   \n",
       "3  body, plate, support, fix, part, lock, member,...   \n",
       "4  catalyst, exhaust, gas, powertrain, fuel, cell...   \n",
       "\n",
       "                                                Text application_date  \n",
       "0  [electrical, energy, system, include, electric...       1990-07-19  \n",
       "1  [electrical, energy, system, include, electric...       1990-07-19  \n",
       "2  [object, provide, particulate, trap, diesel, e...       1994-05-20  \n",
       "3  [purpose, obtain, trap, leakage, exhaust, gas,...       1993-05-28  \n",
       "4  [particulate, trap, diesel, engine, design, ef...       1993-05-28  "
      ]
     },
     "execution_count": 16,
     "metadata": {},
     "output_type": "execute_result"
    }
   ],
   "source": [
    "data.head()"
   ]
  },
  {
   "cell_type": "code",
   "execution_count": 17,
   "metadata": {},
   "outputs": [
    {
     "data": {
      "text/html": [
       "<div>\n",
       "<style scoped>\n",
       "    .dataframe tbody tr th:only-of-type {\n",
       "        vertical-align: middle;\n",
       "    }\n",
       "\n",
       "    .dataframe tbody tr th {\n",
       "        vertical-align: top;\n",
       "    }\n",
       "\n",
       "    .dataframe thead th {\n",
       "        text-align: right;\n",
       "    }\n",
       "</style>\n",
       "<table border=\"1\" class=\"dataframe\">\n",
       "  <thead>\n",
       "    <tr style=\"text-align: right;\">\n",
       "      <th></th>\n",
       "      <th></th>\n",
       "      <th>Document_No</th>\n",
       "      <th>Topic_Perc_Contrib</th>\n",
       "      <th>Keywords</th>\n",
       "      <th>Text</th>\n",
       "    </tr>\n",
       "    <tr>\n",
       "      <th>application_date</th>\n",
       "      <th>Dominant_Topic</th>\n",
       "      <th></th>\n",
       "      <th></th>\n",
       "      <th></th>\n",
       "      <th></th>\n",
       "    </tr>\n",
       "  </thead>\n",
       "  <tbody>\n",
       "    <tr>\n",
       "      <th>1990-01-31</th>\n",
       "      <th>10.0</th>\n",
       "      <td>1</td>\n",
       "      <td>1</td>\n",
       "      <td>1</td>\n",
       "      <td>1</td>\n",
       "    </tr>\n",
       "    <tr>\n",
       "      <th rowspan=\"2\" valign=\"top\">1990-02-08</th>\n",
       "      <th>4.0</th>\n",
       "      <td>1</td>\n",
       "      <td>1</td>\n",
       "      <td>1</td>\n",
       "      <td>1</td>\n",
       "    </tr>\n",
       "    <tr>\n",
       "      <th>13.0</th>\n",
       "      <td>1</td>\n",
       "      <td>1</td>\n",
       "      <td>1</td>\n",
       "      <td>1</td>\n",
       "    </tr>\n",
       "    <tr>\n",
       "      <th rowspan=\"2\" valign=\"top\">1990-02-28</th>\n",
       "      <th>7.0</th>\n",
       "      <td>1</td>\n",
       "      <td>1</td>\n",
       "      <td>1</td>\n",
       "      <td>1</td>\n",
       "    </tr>\n",
       "    <tr>\n",
       "      <th>13.0</th>\n",
       "      <td>2</td>\n",
       "      <td>2</td>\n",
       "      <td>2</td>\n",
       "      <td>2</td>\n",
       "    </tr>\n",
       "    <tr>\n",
       "      <th rowspan=\"2\" valign=\"top\">1990-03-08</th>\n",
       "      <th>10.0</th>\n",
       "      <td>1</td>\n",
       "      <td>1</td>\n",
       "      <td>1</td>\n",
       "      <td>1</td>\n",
       "    </tr>\n",
       "    <tr>\n",
       "      <th>11.0</th>\n",
       "      <td>2</td>\n",
       "      <td>2</td>\n",
       "      <td>2</td>\n",
       "      <td>2</td>\n",
       "    </tr>\n",
       "    <tr>\n",
       "      <th>1990-03-30</th>\n",
       "      <th>13.0</th>\n",
       "      <td>1</td>\n",
       "      <td>1</td>\n",
       "      <td>1</td>\n",
       "      <td>1</td>\n",
       "    </tr>\n",
       "    <tr>\n",
       "      <th rowspan=\"2\" valign=\"top\">1990-04-04</th>\n",
       "      <th>7.0</th>\n",
       "      <td>1</td>\n",
       "      <td>1</td>\n",
       "      <td>1</td>\n",
       "      <td>1</td>\n",
       "    </tr>\n",
       "    <tr>\n",
       "      <th>13.0</th>\n",
       "      <td>1</td>\n",
       "      <td>1</td>\n",
       "      <td>1</td>\n",
       "      <td>1</td>\n",
       "    </tr>\n",
       "    <tr>\n",
       "      <th rowspan=\"2\" valign=\"top\">1990-04-06</th>\n",
       "      <th>7.0</th>\n",
       "      <td>2</td>\n",
       "      <td>2</td>\n",
       "      <td>2</td>\n",
       "      <td>2</td>\n",
       "    </tr>\n",
       "    <tr>\n",
       "      <th>13.0</th>\n",
       "      <td>1</td>\n",
       "      <td>1</td>\n",
       "      <td>1</td>\n",
       "      <td>1</td>\n",
       "    </tr>\n",
       "    <tr>\n",
       "      <th>1990-04-11</th>\n",
       "      <th>11.0</th>\n",
       "      <td>1</td>\n",
       "      <td>1</td>\n",
       "      <td>1</td>\n",
       "      <td>1</td>\n",
       "    </tr>\n",
       "    <tr>\n",
       "      <th rowspan=\"3\" valign=\"top\">1990-04-18</th>\n",
       "      <th>9.0</th>\n",
       "      <td>1</td>\n",
       "      <td>1</td>\n",
       "      <td>1</td>\n",
       "      <td>1</td>\n",
       "    </tr>\n",
       "    <tr>\n",
       "      <th>11.0</th>\n",
       "      <td>3</td>\n",
       "      <td>3</td>\n",
       "      <td>3</td>\n",
       "      <td>3</td>\n",
       "    </tr>\n",
       "    <tr>\n",
       "      <th>13.0</th>\n",
       "      <td>3</td>\n",
       "      <td>3</td>\n",
       "      <td>3</td>\n",
       "      <td>3</td>\n",
       "    </tr>\n",
       "    <tr>\n",
       "      <th>1990-04-27</th>\n",
       "      <th>11.0</th>\n",
       "      <td>1</td>\n",
       "      <td>1</td>\n",
       "      <td>1</td>\n",
       "      <td>1</td>\n",
       "    </tr>\n",
       "    <tr>\n",
       "      <th>1990-04-30</th>\n",
       "      <th>13.0</th>\n",
       "      <td>2</td>\n",
       "      <td>2</td>\n",
       "      <td>2</td>\n",
       "      <td>2</td>\n",
       "    </tr>\n",
       "    <tr>\n",
       "      <th rowspan=\"2\" valign=\"top\">1990-05-16</th>\n",
       "      <th>7.0</th>\n",
       "      <td>1</td>\n",
       "      <td>1</td>\n",
       "      <td>1</td>\n",
       "      <td>1</td>\n",
       "    </tr>\n",
       "    <tr>\n",
       "      <th>13.0</th>\n",
       "      <td>1</td>\n",
       "      <td>1</td>\n",
       "      <td>1</td>\n",
       "      <td>1</td>\n",
       "    </tr>\n",
       "  </tbody>\n",
       "</table>\n",
       "</div>"
      ],
      "text/plain": [
       "                                 Document_No  Topic_Perc_Contrib  Keywords  \\\n",
       "application_date Dominant_Topic                                              \n",
       "1990-01-31       10.0                      1                   1         1   \n",
       "1990-02-08       4.0                       1                   1         1   \n",
       "                 13.0                      1                   1         1   \n",
       "1990-02-28       7.0                       1                   1         1   \n",
       "                 13.0                      2                   2         2   \n",
       "1990-03-08       10.0                      1                   1         1   \n",
       "                 11.0                      2                   2         2   \n",
       "1990-03-30       13.0                      1                   1         1   \n",
       "1990-04-04       7.0                       1                   1         1   \n",
       "                 13.0                      1                   1         1   \n",
       "1990-04-06       7.0                       2                   2         2   \n",
       "                 13.0                      1                   1         1   \n",
       "1990-04-11       11.0                      1                   1         1   \n",
       "1990-04-18       9.0                       1                   1         1   \n",
       "                 11.0                      3                   3         3   \n",
       "                 13.0                      3                   3         3   \n",
       "1990-04-27       11.0                      1                   1         1   \n",
       "1990-04-30       13.0                      2                   2         2   \n",
       "1990-05-16       7.0                       1                   1         1   \n",
       "                 13.0                      1                   1         1   \n",
       "\n",
       "                                 Text  \n",
       "application_date Dominant_Topic        \n",
       "1990-01-31       10.0               1  \n",
       "1990-02-08       4.0                1  \n",
       "                 13.0               1  \n",
       "1990-02-28       7.0                1  \n",
       "                 13.0               2  \n",
       "1990-03-08       10.0               1  \n",
       "                 11.0               2  \n",
       "1990-03-30       13.0               1  \n",
       "1990-04-04       7.0                1  \n",
       "                 13.0               1  \n",
       "1990-04-06       7.0                2  \n",
       "                 13.0               1  \n",
       "1990-04-11       11.0               1  \n",
       "1990-04-18       9.0                1  \n",
       "                 11.0               3  \n",
       "                 13.0               3  \n",
       "1990-04-27       11.0               1  \n",
       "1990-04-30       13.0               2  \n",
       "1990-05-16       7.0                1  \n",
       "                 13.0               1  "
      ]
     },
     "execution_count": 17,
     "metadata": {},
     "output_type": "execute_result"
    }
   ],
   "source": [
    "data.groupby([\"application_date\",\"Dominant_Topic\"]).count().head(20)"
   ]
  },
  {
   "cell_type": "code",
   "execution_count": 18,
   "metadata": {},
   "outputs": [
    {
     "data": {
      "text/plain": [
       "<matplotlib.axes._subplots.AxesSubplot at 0x1fe88ea32e8>"
      ]
     },
     "execution_count": 18,
     "metadata": {},
     "output_type": "execute_result"
    },
    {
     "data": {
      "image/png": "[encoded data removed]",
      "text/plain": [
       "<matplotlib.figure.Figure at 0x1fe86604978>"
      ]
     },
     "metadata": {
      "needs_background": "light"
     },
     "output_type": "display_data"
    }
   ],
   "source": [
    "data.groupby([\"application_date\",\"Dominant_Topic\"]).count().plot()"
   ]
  },
  {
   "cell_type": "markdown",
   "metadata": {},
   "source": [
    "**The problem is occuring as it is taking mponths and days in application date as well. We need to use dt.year to focus only on year**"
   ]
  },
  {
   "cell_type": "code",
   "execution_count": null,
   "metadata": {},
   "outputs": [],
   "source": []
  },
  {
   "cell_type": "code",
   "execution_count": 19,
   "metadata": {},
   "outputs": [
    {
     "data": {
      "text/plain": [
       "Document_No                    int64\n",
       "Dominant_Topic               float64\n",
       "Topic_Perc_Contrib           float64\n",
       "Keywords                      object\n",
       "Text                          object\n",
       "application_date      datetime64[ns]\n",
       "dtype: object"
      ]
     },
     "execution_count": 19,
     "metadata": {},
     "output_type": "execute_result"
    }
   ],
   "source": [
    "data.dtypes"
   ]
  },
  {
   "cell_type": "code",
   "execution_count": 20,
   "metadata": {},
   "outputs": [
    {
     "data": {
      "text/plain": [
       "0        1990.0\n",
       "1        1990.0\n",
       "2        1994.0\n",
       "3        1993.0\n",
       "4        1993.0\n",
       "5        1991.0\n",
       "6        1995.0\n",
       "7        1992.0\n",
       "8        2002.0\n",
       "9        2002.0\n",
       "10       2002.0\n",
       "11       1999.0\n",
       "12       1999.0\n",
       "13       1999.0\n",
       "14       1999.0\n",
       "15       1999.0\n",
       "16       1999.0\n",
       "17       1999.0\n",
       "18       1999.0\n",
       "19       1999.0\n",
       "20       1999.0\n",
       "21       1999.0\n",
       "22       1999.0\n",
       "23       1999.0\n",
       "24       1999.0\n",
       "25       1999.0\n",
       "26       1999.0\n",
       "27       1999.0\n",
       "28       1996.0\n",
       "29       1999.0\n",
       "          ...  \n",
       "68734       NaN\n",
       "68735       NaN\n",
       "68736       NaN\n",
       "68737       NaN\n",
       "68738       NaN\n",
       "68739       NaN\n",
       "68740       NaN\n",
       "68741       NaN\n",
       "68742       NaN\n",
       "68743       NaN\n",
       "68744       NaN\n",
       "68745       NaN\n",
       "68746       NaN\n",
       "68747       NaN\n",
       "68748       NaN\n",
       "68749       NaN\n",
       "68750       NaN\n",
       "68751       NaN\n",
       "68752       NaN\n",
       "68753       NaN\n",
       "68754       NaN\n",
       "68755       NaN\n",
       "68756       NaN\n",
       "68757       NaN\n",
       "68758       NaN\n",
       "68759       NaN\n",
       "68760       NaN\n",
       "68761       NaN\n",
       "68762       NaN\n",
       "68763       NaN\n",
       "Name: application_date, Length: 68764, dtype: float64"
      ]
     },
     "execution_count": 20,
     "metadata": {},
     "output_type": "execute_result"
    }
   ],
   "source": [
    "data['application_date'].dt.year"
   ]
  },
  {
   "cell_type": "code",
   "execution_count": null,
   "metadata": {},
   "outputs": [],
   "source": []
  },
  {
   "cell_type": "code",
   "execution_count": 21,
   "metadata": {},
   "outputs": [
    {
     "data": {
      "text/plain": [
       "application_date  Dominant_Topic\n",
       "1990.0            13.0               29\n",
       "                  11.0               19\n",
       "                  7.0                11\n",
       "                  9.0                 8\n",
       "                  5.0                 7\n",
       "                  10.0                5\n",
       "                  4.0                 3\n",
       "                  8.0                 2\n",
       "                  1.0                 1\n",
       "                  3.0                 1\n",
       "1991.0            13.0               45\n",
       "                  11.0               30\n",
       "                  10.0               25\n",
       "                  7.0                21\n",
       "                  4.0                13\n",
       "                  9.0                12\n",
       "                  8.0                 7\n",
       "                  5.0                 6\n",
       "                  1.0                 3\n",
       "                  12.0                1\n",
       "1992.0            10.0               62\n",
       "                  13.0               60\n",
       "                  11.0               45\n",
       "                  7.0                35\n",
       "                  9.0                19\n",
       "                  4.0                10\n",
       "                  5.0                 7\n",
       "                  1.0                 4\n",
       "                  8.0                 4\n",
       "                  12.0                4\n",
       "                                   ... \n",
       "2015.0            4.0               159\n",
       "                  10.0              148\n",
       "                  9.0               137\n",
       "                  7.0               131\n",
       "                  1.0                96\n",
       "                  8.0                89\n",
       "                  12.0               12\n",
       "                  3.0                11\n",
       "                  0.0                 1\n",
       "2016.0            11.0              396\n",
       "                  10.0              122\n",
       "                  5.0               111\n",
       "                  4.0                95\n",
       "                  13.0               95\n",
       "                  7.0                75\n",
       "                  9.0                70\n",
       "                  1.0                41\n",
       "                  8.0                28\n",
       "                  3.0                 4\n",
       "                  12.0                3\n",
       "2017.0            11.0               60\n",
       "                  10.0               37\n",
       "                  4.0                20\n",
       "                  7.0                17\n",
       "                  13.0               17\n",
       "                  5.0                16\n",
       "                  9.0                14\n",
       "                  1.0                11\n",
       "                  8.0                 6\n",
       "2018.0            11.0                1\n",
       "Name: Dominant_Topic, Length: 321, dtype: int64"
      ]
     },
     "execution_count": 21,
     "metadata": {},
     "output_type": "execute_result"
    }
   ],
   "source": [
    "data.groupby(data.application_date.dt.year).Dominant_Topic.value_counts()"
   ]
  },
  {
   "cell_type": "code",
   "execution_count": 22,
   "metadata": {},
   "outputs": [
    {
     "data": {
      "text/plain": [
       "<matplotlib.axes._subplots.AxesSubplot at 0x1fe88f0ca90>"
      ]
     },
     "execution_count": 22,
     "metadata": {},
     "output_type": "execute_result"
    },
    {
     "data": {
      "image/png": "[encoded data removed]",
      "text/plain": [
       "<matplotlib.figure.Figure at 0x1fe88fa6390>"
      ]
     },
     "metadata": {
      "needs_background": "light"
     },
     "output_type": "display_data"
    }
   ],
   "source": [
    "data.groupby(data.application_date.dt.year).Dominant_Topic.value_counts().plot(kind='barh')"
   ]
  },
  {
   "cell_type": "code",
   "execution_count": 23,
   "metadata": {},
   "outputs": [
    {
     "data": {
      "text/plain": [
       "<matplotlib.axes._subplots.AxesSubplot at 0x1fe8917e908>"
      ]
     },
     "execution_count": 23,
     "metadata": {},
     "output_type": "execute_result"
    },
    {
     "data": {
      "image/png": "[encoded data removed]",
      "text/plain": [
       "<matplotlib.figure.Figure at 0x1fe891a8c88>"
      ]
     },
     "metadata": {
      "needs_background": "light"
     },
     "output_type": "display_data"
    }
   ],
   "source": [
    "data.groupby(data.application_date.dt.year).Dominant_Topic.count().plot()"
   ]
  },
  {
   "cell_type": "code",
   "execution_count": 24,
   "metadata": {},
   "outputs": [
    {
     "data": {
      "text/plain": [
       "<matplotlib.axes._subplots.AxesSubplot at 0x1fe89260908>"
      ]
     },
     "execution_count": 24,
     "metadata": {},
     "output_type": "execute_result"
    },
    {
     "data": {
      "image/png": "[encoded data removed]",
      "text/plain": [
       "<matplotlib.figure.Figure at 0x1fe8a1ed908>"
      ]
     },
     "metadata": {
      "needs_background": "light"
     },
     "output_type": "display_data"
    }
   ],
   "source": [
    "data.groupby(data.application_date.dt.year).Dominant_Topic.sum().plot()"
   ]
  },
  {
   "cell_type": "markdown",
   "metadata": {},
   "source": [
    "# For rough work"
   ]
  },
  {
   "cell_type": "code",
   "execution_count": 25,
   "metadata": {},
   "outputs": [
    {
     "data": {
      "text/plain": [
       "0    1.0\n",
       "1    5.0\n",
       "2    9.0\n",
       "3    7.0\n",
       "4    9.0\n",
       "Name: Dominant_Topic, dtype: float64"
      ]
     },
     "execution_count": 25,
     "metadata": {},
     "output_type": "execute_result"
    }
   ],
   "source": [
    "topic=data['Dominant_Topic']\n",
    "topic.head()"
   ]
  },
  {
   "cell_type": "code",
   "execution_count": 26,
   "metadata": {},
   "outputs": [
    {
     "data": {
      "text/html": [
       "<div>\n",
       "<style scoped>\n",
       "    .dataframe tbody tr th:only-of-type {\n",
       "        vertical-align: middle;\n",
       "    }\n",
       "\n",
       "    .dataframe tbody tr th {\n",
       "        vertical-align: top;\n",
       "    }\n",
       "\n",
       "    .dataframe thead th {\n",
       "        text-align: right;\n",
       "    }\n",
       "</style>\n",
       "<table border=\"1\" class=\"dataframe\">\n",
       "  <thead>\n",
       "    <tr style=\"text-align: right;\">\n",
       "      <th></th>\n",
       "      <th>Document_No</th>\n",
       "      <th>Dominant_Topic</th>\n",
       "      <th>Topic_Perc_Contrib</th>\n",
       "      <th>Keywords</th>\n",
       "      <th>Text</th>\n",
       "      <th>application_date</th>\n",
       "    </tr>\n",
       "  </thead>\n",
       "  <tbody>\n",
       "    <tr>\n",
       "      <th>0</th>\n",
       "      <td>0</td>\n",
       "      <td>1.0</td>\n",
       "      <td>0.4353</td>\n",
       "      <td>hydrogen, fuel, water, tank, cell, diesel, oil...</td>\n",
       "      <td>[electrical, energy, system, include, electric...</td>\n",
       "      <td>1990-07-19</td>\n",
       "    </tr>\n",
       "    <tr>\n",
       "      <th>1</th>\n",
       "      <td>1</td>\n",
       "      <td>5.0</td>\n",
       "      <td>0.6834</td>\n",
       "      <td>battery, power, voltage, electric, charge, ene...</td>\n",
       "      <td>[electrical, energy, system, include, electric...</td>\n",
       "      <td>1990-07-19</td>\n",
       "    </tr>\n",
       "    <tr>\n",
       "      <th>2</th>\n",
       "      <td>2</td>\n",
       "      <td>9.0</td>\n",
       "      <td>0.6159</td>\n",
       "      <td>catalyst, exhaust, gas, powertrain, fuel, cell...</td>\n",
       "      <td>[object, provide, particulate, trap, diesel, e...</td>\n",
       "      <td>1994-05-20</td>\n",
       "    </tr>\n",
       "    <tr>\n",
       "      <th>3</th>\n",
       "      <td>3</td>\n",
       "      <td>7.0</td>\n",
       "      <td>0.3142</td>\n",
       "      <td>body, plate, support, fix, part, lock, member,...</td>\n",
       "      <td>[purpose, obtain, trap, leakage, exhaust, gas,...</td>\n",
       "      <td>1993-05-28</td>\n",
       "    </tr>\n",
       "    <tr>\n",
       "      <th>4</th>\n",
       "      <td>4</td>\n",
       "      <td>9.0</td>\n",
       "      <td>0.4365</td>\n",
       "      <td>catalyst, exhaust, gas, powertrain, fuel, cell...</td>\n",
       "      <td>[particulate, trap, diesel, engine, design, ef...</td>\n",
       "      <td>1993-05-28</td>\n",
       "    </tr>\n",
       "  </tbody>\n",
       "</table>\n",
       "</div>"
      ],
      "text/plain": [
       "   Document_No  Dominant_Topic  Topic_Perc_Contrib  \\\n",
       "0            0             1.0              0.4353   \n",
       "1            1             5.0              0.6834   \n",
       "2            2             9.0              0.6159   \n",
       "3            3             7.0              0.3142   \n",
       "4            4             9.0              0.4365   \n",
       "\n",
       "                                            Keywords  \\\n",
       "0  hydrogen, fuel, water, tank, cell, diesel, oil...   \n",
       "1  battery, power, voltage, electric, charge, ene...   \n",
       "2  catalyst, exhaust, gas, powertrain, fuel, cell...   \n",
       "3  body, plate, support, fix, part, lock, member,...   \n",
       "4  catalyst, exhaust, gas, powertrain, fuel, cell...   \n",
       "\n",
       "                                                Text application_date  \n",
       "0  [electrical, energy, system, include, electric...       1990-07-19  \n",
       "1  [electrical, energy, system, include, electric...       1990-07-19  \n",
       "2  [object, provide, particulate, trap, diesel, e...       1994-05-20  \n",
       "3  [purpose, obtain, trap, leakage, exhaust, gas,...       1993-05-28  \n",
       "4  [particulate, trap, diesel, engine, design, ef...       1993-05-28  "
      ]
     },
     "execution_count": 26,
     "metadata": {},
     "output_type": "execute_result"
    }
   ],
   "source": [
    "data.head()"
   ]
  },
  {
   "cell_type": "code",
   "execution_count": 27,
   "metadata": {},
   "outputs": [
    {
     "data": {
      "text/plain": [
       "0   1990-07-19\n",
       "1   1990-07-19\n",
       "2   1994-05-20\n",
       "3   1993-05-28\n",
       "4   1993-05-28\n",
       "Name: application_date, dtype: datetime64[ns]"
      ]
     },
     "execution_count": 27,
     "metadata": {},
     "output_type": "execute_result"
    }
   ],
   "source": [
    "filling_date=data['application_date']\n",
    "filling_date.head()"
   ]
  },
  {
   "cell_type": "code",
   "execution_count": 28,
   "metadata": {},
   "outputs": [
    {
     "data": {
      "text/plain": [
       "(68764,)"
      ]
     },
     "execution_count": 28,
     "metadata": {},
     "output_type": "execute_result"
    }
   ],
   "source": [
    "filling_date.shape"
   ]
  },
  {
   "cell_type": "code",
   "execution_count": 29,
   "metadata": {},
   "outputs": [],
   "source": [
    "df = pd.DataFrame({'TOPIC':topic,\n",
    "                   'Filling_Date':filling_date})"
   ]
  },
  {
   "cell_type": "code",
   "execution_count": 30,
   "metadata": {},
   "outputs": [
    {
     "data": {
      "text/html": [
       "<div>\n",
       "<style scoped>\n",
       "    .dataframe tbody tr th:only-of-type {\n",
       "        vertical-align: middle;\n",
       "    }\n",
       "\n",
       "    .dataframe tbody tr th {\n",
       "        vertical-align: top;\n",
       "    }\n",
       "\n",
       "    .dataframe thead th {\n",
       "        text-align: right;\n",
       "    }\n",
       "</style>\n",
       "<table border=\"1\" class=\"dataframe\">\n",
       "  <thead>\n",
       "    <tr style=\"text-align: right;\">\n",
       "      <th></th>\n",
       "      <th>TOPIC</th>\n",
       "      <th>Filling_Date</th>\n",
       "    </tr>\n",
       "  </thead>\n",
       "  <tbody>\n",
       "    <tr>\n",
       "      <th>0</th>\n",
       "      <td>1.0</td>\n",
       "      <td>1990-07-19</td>\n",
       "    </tr>\n",
       "    <tr>\n",
       "      <th>1</th>\n",
       "      <td>5.0</td>\n",
       "      <td>1990-07-19</td>\n",
       "    </tr>\n",
       "    <tr>\n",
       "      <th>2</th>\n",
       "      <td>9.0</td>\n",
       "      <td>1994-05-20</td>\n",
       "    </tr>\n",
       "    <tr>\n",
       "      <th>3</th>\n",
       "      <td>7.0</td>\n",
       "      <td>1993-05-28</td>\n",
       "    </tr>\n",
       "    <tr>\n",
       "      <th>4</th>\n",
       "      <td>9.0</td>\n",
       "      <td>1993-05-28</td>\n",
       "    </tr>\n",
       "  </tbody>\n",
       "</table>\n",
       "</div>"
      ],
      "text/plain": [
       "   TOPIC Filling_Date\n",
       "0    1.0   1990-07-19\n",
       "1    5.0   1990-07-19\n",
       "2    9.0   1994-05-20\n",
       "3    7.0   1993-05-28\n",
       "4    9.0   1993-05-28"
      ]
     },
     "execution_count": 30,
     "metadata": {},
     "output_type": "execute_result"
    }
   ],
   "source": [
    "df.head()"
   ]
  },
  {
   "cell_type": "markdown",
   "metadata": {},
   "source": [
    "Now get counts per category, per year:"
   ]
  },
  {
   "cell_type": "code",
   "execution_count": 31,
   "metadata": {},
   "outputs": [
    {
     "ename": "AttributeError",
     "evalue": "'Series' object has no attribute 'TOPIC'",
     "output_type": "error",
     "traceback": [
      "\u001b[1;31m---------------------------------------------------------------------------\u001b[0m",
      "\u001b[1;31mAttributeError\u001b[0m                            Traceback (most recent call last)",
      "\u001b[1;32m<ipython-input-31-b5bb8a90186b>\u001b[0m in \u001b[0;36m<module>\u001b[1;34m\u001b[0m\n\u001b[0;32m      1\u001b[0m ctdf = (df.reset_index()\n\u001b[1;32m----> 2\u001b[1;33m           \u001b[1;33m.\u001b[0m\u001b[0mgroupby\u001b[0m\u001b[1;33m(\u001b[0m\u001b[1;33m(\u001b[0m\u001b[0mdf\u001b[0m\u001b[1;33m.\u001b[0m\u001b[0mFilling_Date\u001b[0m\u001b[1;33m.\u001b[0m\u001b[0mdt\u001b[0m\u001b[1;33m.\u001b[0m\u001b[0myear\u001b[0m\u001b[1;33m)\u001b[0m\u001b[1;33m.\u001b[0m\u001b[0mTOPIC\u001b[0m\u001b[1;33m,\u001b[0m \u001b[0mas_index\u001b[0m\u001b[1;33m=\u001b[0m\u001b[1;32mFalse\u001b[0m\u001b[1;33m)\u001b[0m\u001b[1;33m\u001b[0m\u001b[0m\n\u001b[0m\u001b[0;32m      3\u001b[0m           \u001b[1;33m.\u001b[0m\u001b[0mvalue_counts\u001b[0m\u001b[1;33m(\u001b[0m\u001b[1;33m)\u001b[0m\u001b[1;33m\u001b[0m\u001b[0m\n\u001b[0;32m      4\u001b[0m           \u001b[1;31m# rename isn't strictly necessary here, it's just for readability\u001b[0m\u001b[1;33m\u001b[0m\u001b[1;33m\u001b[0m\u001b[0m\n\u001b[0;32m      5\u001b[0m           \u001b[1;33m.\u001b[0m\u001b[0mrename\u001b[0m\u001b[1;33m(\u001b[0m\u001b[0mcolumns\u001b[0m\u001b[1;33m=\u001b[0m\u001b[1;33m{\u001b[0m\u001b[1;34m'index'\u001b[0m\u001b[1;33m:\u001b[0m\u001b[1;34m'ct'\u001b[0m\u001b[1;33m}\u001b[0m\u001b[1;33m)\u001b[0m\u001b[1;33m\u001b[0m\u001b[0m\n",
      "\u001b[1;32m~\\AppData\\Roaming\\Python\\Python36\\site-packages\\pandas\\core\\generic.py\u001b[0m in \u001b[0;36m__getattr__\u001b[1;34m(self, name)\u001b[0m\n\u001b[0;32m   4374\u001b[0m             \u001b[1;32mif\u001b[0m \u001b[0mself\u001b[0m\u001b[1;33m.\u001b[0m\u001b[0m_info_axis\u001b[0m\u001b[1;33m.\u001b[0m\u001b[0m_can_hold_identifiers_and_holds_name\u001b[0m\u001b[1;33m(\u001b[0m\u001b[0mname\u001b[0m\u001b[1;33m)\u001b[0m\u001b[1;33m:\u001b[0m\u001b[1;33m\u001b[0m\u001b[0m\n\u001b[0;32m   4375\u001b[0m                 \u001b[1;32mreturn\u001b[0m \u001b[0mself\u001b[0m\u001b[1;33m[\u001b[0m\u001b[0mname\u001b[0m\u001b[1;33m]\u001b[0m\u001b[1;33m\u001b[0m\u001b[0m\n\u001b[1;32m-> 4376\u001b[1;33m             \u001b[1;32mreturn\u001b[0m \u001b[0mobject\u001b[0m\u001b[1;33m.\u001b[0m\u001b[0m__getattribute__\u001b[0m\u001b[1;33m(\u001b[0m\u001b[0mself\u001b[0m\u001b[1;33m,\u001b[0m \u001b[0mname\u001b[0m\u001b[1;33m)\u001b[0m\u001b[1;33m\u001b[0m\u001b[0m\n\u001b[0m\u001b[0;32m   4377\u001b[0m \u001b[1;33m\u001b[0m\u001b[0m\n\u001b[0;32m   4378\u001b[0m     \u001b[1;32mdef\u001b[0m \u001b[0m__setattr__\u001b[0m\u001b[1;33m(\u001b[0m\u001b[0mself\u001b[0m\u001b[1;33m,\u001b[0m \u001b[0mname\u001b[0m\u001b[1;33m,\u001b[0m \u001b[0mvalue\u001b[0m\u001b[1;33m)\u001b[0m\u001b[1;33m:\u001b[0m\u001b[1;33m\u001b[0m\u001b[0m\n",
      "\u001b[1;31mAttributeError\u001b[0m: 'Series' object has no attribute 'TOPIC'"
     ]
    }
   ],
   "source": [
    "ctdf = (df.reset_index()\n",
    "          .groupby((df.Filling_Date.dt.year).TOPIC, as_index=False)\n",
    "          .value_counts()\n",
    "          # rename isn't strictly necessary here, it's just for readability\n",
    "          .rename(columns={'index':'ct'})\n",
    "       )"
   ]
  },
  {
   "cell_type": "code",
   "execution_count": 32,
   "metadata": {},
   "outputs": [],
   "source": [
    "ctdf=df.groupby(df.Filling_Date.dt.year).TOPIC.value_counts()"
   ]
  },
  {
   "cell_type": "code",
   "execution_count": 33,
   "metadata": {},
   "outputs": [
    {
     "data": {
      "text/plain": [
       "Filling_Date  TOPIC\n",
       "1990.0        13.0     29\n",
       "              11.0     19\n",
       "              7.0      11\n",
       "              9.0       8\n",
       "              5.0       7\n",
       "Name: TOPIC, dtype: int64"
      ]
     },
     "execution_count": 33,
     "metadata": {},
     "output_type": "execute_result"
    }
   ],
   "source": [
    "ctdf.head()"
   ]
  },
  {
   "cell_type": "code",
   "execution_count": 34,
   "metadata": {},
   "outputs": [
    {
     "data": {
      "image/png": "[encoded data removed]",
      "text/plain": [
       "<matplotlib.figure.Figure at 0x1fe8a2cfdd8>"
      ]
     },
     "metadata": {
      "needs_background": "light"
     },
     "output_type": "display_data"
    }
   ],
   "source": [
    "from matplotlib import pyplot as plt\n",
    "fig, ax = plt.subplots()\n",
    "\n",
    "# key gives the group name (i.e. category), data gives the actual values\n",
    "for key, data in ctdf.groupby('TOPIC'):\n",
    "    data.plot(x='Filling_Date', y='ct', ax=ax, label=key)"
   ]
  },
  {
   "cell_type": "code",
   "execution_count": 35,
   "metadata": {},
   "outputs": [
    {
     "ename": "AttributeError",
     "evalue": "'Series' object has no attribute 'application_date'",
     "output_type": "error",
     "traceback": [
      "\u001b[1;31m---------------------------------------------------------------------------\u001b[0m",
      "\u001b[1;31mAttributeError\u001b[0m                            Traceback (most recent call last)",
      "\u001b[1;32m<ipython-input-35-6f7bb2e8c6c1>\u001b[0m in \u001b[0;36m<module>\u001b[1;34m\u001b[0m\n\u001b[1;32m----> 1\u001b[1;33m \u001b[0mdata\u001b[0m\u001b[1;33m.\u001b[0m\u001b[0mgroupby\u001b[0m\u001b[1;33m(\u001b[0m\u001b[0mdata\u001b[0m\u001b[1;33m.\u001b[0m\u001b[0mapplication_date\u001b[0m\u001b[1;33m.\u001b[0m\u001b[0mdt\u001b[0m\u001b[1;33m.\u001b[0m\u001b[0myear\u001b[0m\u001b[1;33m)\u001b[0m\u001b[1;33m.\u001b[0m\u001b[0mDominant_Topic\u001b[0m\u001b[1;33m.\u001b[0m\u001b[0mvalue_counts\u001b[0m\u001b[1;33m(\u001b[0m\u001b[1;33m)\u001b[0m\u001b[1;33m\u001b[0m\u001b[0m\n\u001b[0m",
      "\u001b[1;32m~\\AppData\\Roaming\\Python\\Python36\\site-packages\\pandas\\core\\generic.py\u001b[0m in \u001b[0;36m__getattr__\u001b[1;34m(self, name)\u001b[0m\n\u001b[0;32m   4374\u001b[0m             \u001b[1;32mif\u001b[0m \u001b[0mself\u001b[0m\u001b[1;33m.\u001b[0m\u001b[0m_info_axis\u001b[0m\u001b[1;33m.\u001b[0m\u001b[0m_can_hold_identifiers_and_holds_name\u001b[0m\u001b[1;33m(\u001b[0m\u001b[0mname\u001b[0m\u001b[1;33m)\u001b[0m\u001b[1;33m:\u001b[0m\u001b[1;33m\u001b[0m\u001b[0m\n\u001b[0;32m   4375\u001b[0m                 \u001b[1;32mreturn\u001b[0m \u001b[0mself\u001b[0m\u001b[1;33m[\u001b[0m\u001b[0mname\u001b[0m\u001b[1;33m]\u001b[0m\u001b[1;33m\u001b[0m\u001b[0m\n\u001b[1;32m-> 4376\u001b[1;33m             \u001b[1;32mreturn\u001b[0m \u001b[0mobject\u001b[0m\u001b[1;33m.\u001b[0m\u001b[0m__getattribute__\u001b[0m\u001b[1;33m(\u001b[0m\u001b[0mself\u001b[0m\u001b[1;33m,\u001b[0m \u001b[0mname\u001b[0m\u001b[1;33m)\u001b[0m\u001b[1;33m\u001b[0m\u001b[0m\n\u001b[0m\u001b[0;32m   4377\u001b[0m \u001b[1;33m\u001b[0m\u001b[0m\n\u001b[0;32m   4378\u001b[0m     \u001b[1;32mdef\u001b[0m \u001b[0m__setattr__\u001b[0m\u001b[1;33m(\u001b[0m\u001b[0mself\u001b[0m\u001b[1;33m,\u001b[0m \u001b[0mname\u001b[0m\u001b[1;33m,\u001b[0m \u001b[0mvalue\u001b[0m\u001b[1;33m)\u001b[0m\u001b[1;33m:\u001b[0m\u001b[1;33m\u001b[0m\u001b[0m\n",
      "\u001b[1;31mAttributeError\u001b[0m: 'Series' object has no attribute 'application_date'"
     ]
    }
   ],
   "source": [
    "data.groupby(data.application_date.dt.year).Dominant_Topic.value_counts()"
   ]
  },
  {
   "cell_type": "code",
   "execution_count": 36,
   "metadata": {},
   "outputs": [
    {
     "data": {
      "text/plain": [
       "Filling_Date  TOPIC\n",
       "1990.0        13.0      29\n",
       "              11.0      19\n",
       "              7.0       11\n",
       "              9.0        8\n",
       "              5.0        7\n",
       "              10.0       5\n",
       "              4.0        3\n",
       "              8.0        2\n",
       "              1.0        1\n",
       "              3.0        1\n",
       "1991.0        13.0      45\n",
       "              11.0      30\n",
       "              10.0      25\n",
       "              7.0       21\n",
       "              4.0       13\n",
       "              9.0       12\n",
       "              8.0        7\n",
       "              5.0        6\n",
       "              1.0        3\n",
       "              12.0       1\n",
       "1992.0        10.0      62\n",
       "              13.0      60\n",
       "              11.0      45\n",
       "              7.0       35\n",
       "              9.0       19\n",
       "              4.0       10\n",
       "              5.0        7\n",
       "              1.0        4\n",
       "              8.0        4\n",
       "              12.0       4\n",
       "                      ... \n",
       "2015.0        4.0      159\n",
       "              10.0     148\n",
       "              9.0      137\n",
       "              7.0      131\n",
       "              1.0       96\n",
       "              8.0       89\n",
       "              12.0      12\n",
       "              3.0       11\n",
       "              0.0        1\n",
       "2016.0        11.0     396\n",
       "              10.0     122\n",
       "              5.0      111\n",
       "              4.0       95\n",
       "              13.0      95\n",
       "              7.0       75\n",
       "              9.0       70\n",
       "              1.0       41\n",
       "              8.0       28\n",
       "              3.0        4\n",
       "              12.0       3\n",
       "2017.0        11.0      60\n",
       "              10.0      37\n",
       "              4.0       20\n",
       "              7.0       17\n",
       "              13.0      17\n",
       "              5.0       16\n",
       "              9.0       14\n",
       "              1.0       11\n",
       "              8.0        6\n",
       "2018.0        11.0       1\n",
       "Name: TOPIC, Length: 321, dtype: int64"
      ]
     },
     "execution_count": 36,
     "metadata": {},
     "output_type": "execute_result"
    }
   ],
   "source": [
    "df.groupby(df.Filling_Date.dt.year).TOPIC.value_counts()"
   ]
  },
  {
   "cell_type": "code",
   "execution_count": 37,
   "metadata": {},
   "outputs": [
    {
     "data": {
      "text/plain": [
       "Filling_Date  TOPIC\n",
       "False         11.0     21547\n",
       "              13.0      7378\n",
       "              5.0       6998\n",
       "              10.0      6995\n",
       "              7.0       5854\n",
       "              4.0       5807\n",
       "              8.0       4598\n",
       "              9.0       3908\n",
       "              1.0       2771\n",
       "              3.0        406\n",
       "              12.0       226\n",
       "              0.0         88\n",
       "              6.0         19\n",
       "              2.0          4\n",
       "True          11.0       793\n",
       "              13.0       266\n",
       "              4.0        212\n",
       "              10.0       210\n",
       "              9.0        174\n",
       "              5.0        151\n",
       "              7.0        147\n",
       "              1.0        102\n",
       "              8.0         89\n",
       "              3.0         18\n",
       "              12.0         3\n",
       "Name: TOPIC, dtype: int64"
      ]
     },
     "execution_count": 37,
     "metadata": {},
     "output_type": "execute_result"
    }
   ],
   "source": [
    "# For year 2014 only, number of patent applications per topic\n",
    "df.groupby(df.Filling_Date.dt.year==2014).TOPIC.value_counts()"
   ]
  },
  {
   "cell_type": "markdown",
   "metadata": {},
   "source": [
    "### (b) Change in the share of patents over filing year"
   ]
  },
  {
   "cell_type": "code",
   "execution_count": 42,
   "metadata": {},
   "outputs": [
    {
     "data": {
      "text/plain": [
       "Filling_Date  TOPIC\n",
       "1990          2.0      0.337209\n",
       "              6.0      0.267442\n",
       "              5.0      0.244186\n",
       "              8.0      0.081395\n",
       "              3.0      0.034884\n",
       "              1.0      0.011628\n",
       "              4.0      0.011628\n",
       "              7.0      0.011628\n",
       "1991          2.0      0.245399\n",
       "              6.0      0.226994\n",
       "              5.0      0.202454\n",
       "              8.0      0.128834\n",
       "              1.0      0.085890\n",
       "              9.0      0.049080\n",
       "              4.0      0.030675\n",
       "              7.0      0.030675\n",
       "1992          6.0      0.300000\n",
       "              2.0      0.292000\n",
       "              5.0      0.144000\n",
       "              8.0      0.120000\n",
       "              1.0      0.076000\n",
       "              4.0      0.024000\n",
       "              7.0      0.016000\n",
       "              9.0      0.016000\n",
       "              3.0      0.012000\n",
       "1993          2.0      0.314607\n",
       "              8.0      0.252809\n",
       "              6.0      0.132022\n",
       "              1.0      0.089888\n",
       "              5.0      0.087079\n",
       "                         ...   \n",
       "2015          2.0      0.325688\n",
       "              6.0      0.262615\n",
       "              8.0      0.111812\n",
       "              5.0      0.092890\n",
       "              1.0      0.082569\n",
       "              7.0      0.048165\n",
       "              4.0      0.032110\n",
       "              9.0      0.028670\n",
       "              3.0      0.012041\n",
       "              0.0      0.003440\n",
       "2016          2.0      0.383654\n",
       "              8.0      0.188462\n",
       "              6.0      0.139423\n",
       "              5.0      0.100000\n",
       "              1.0      0.091346\n",
       "              7.0      0.043269\n",
       "              9.0      0.027885\n",
       "              4.0      0.016346\n",
       "              3.0      0.008654\n",
       "              0.0      0.000962\n",
       "2017          2.0      0.489899\n",
       "              8.0      0.242424\n",
       "              6.0      0.101010\n",
       "              5.0      0.070707\n",
       "              1.0      0.025253\n",
       "              7.0      0.025253\n",
       "              3.0      0.020202\n",
       "              9.0      0.015152\n",
       "              4.0      0.010101\n",
       "2018          2.0      1.000000\n",
       "Name: TOPIC, Length: 268, dtype: float64"
      ]
     },
     "execution_count": 42,
     "metadata": {},
     "output_type": "execute_result"
    }
   ],
   "source": [
    "df.groupby(df.Filling_Date.dt.year).TOPIC.value_counts(normalize=True)"
   ]
  },
  {
   "cell_type": "code",
   "execution_count": 38,
   "metadata": {},
   "outputs": [],
   "source": [
    "ctdf2=df.groupby(df.Filling_Date.dt.year).TOPIC.value_counts(normalize=True)"
   ]
  },
  {
   "cell_type": "code",
   "execution_count": 39,
   "metadata": {},
   "outputs": [
    {
     "data": {
      "image/png": "[encoded data removed]",
      "text/plain": [
       "<matplotlib.figure.Figure at 0x1fe8a466080>"
      ]
     },
     "metadata": {
      "needs_background": "light"
     },
     "output_type": "display_data"
    }
   ],
   "source": [
    "from matplotlib import pyplot as plt\n",
    "fig, ax = plt.subplots()\n",
    "\n",
    "# key gives the group name (i.e. category), data gives the actual values\n",
    "for key, data in ctdf2.groupby('TOPIC'):\n",
    "    data.plot(x='Filling_Date', y='ct', ax=ax, label=key)"
   ]
  },
  {
   "cell_type": "markdown",
   "metadata": {},
   "source": [
    "# 4)- Share of patents by  technological topics\n",
    "\n",
    "table 3 in paper"
   ]
  },
  {
   "cell_type": "code",
   "execution_count": 40,
   "metadata": {},
   "outputs": [
    {
     "data": {
      "text/plain": [
       "Filling_Date  TOPIC\n",
       "False         11.0     21491\n",
       "              13.0      7215\n",
       "              5.0       6985\n",
       "              10.0      6842\n",
       "              4.0       5821\n",
       "              7.0       5780\n",
       "              8.0       4621\n",
       "              9.0       3770\n",
       "              1.0       2685\n",
       "              3.0        394\n",
       "              12.0       212\n",
       "              0.0         76\n",
       "              6.0         19\n",
       "              2.0          4\n",
       "True          11.0       849\n",
       "              13.0       429\n",
       "              10.0       363\n",
       "              9.0        312\n",
       "              7.0        221\n",
       "              4.0        198\n",
       "              1.0        188\n",
       "              5.0        164\n",
       "              8.0         66\n",
       "              3.0         30\n",
       "              12.0        17\n",
       "              0.0         12\n",
       "Name: TOPIC, dtype: int64"
      ]
     },
     "execution_count": 40,
     "metadata": {},
     "output_type": "execute_result"
    }
   ],
   "source": [
    "# start with 2010\n",
    "df.groupby(df.Filling_Date.dt.year==2010).TOPIC.value_counts()"
   ]
  },
  {
   "cell_type": "markdown",
   "metadata": {},
   "source": [
    "2849 for 2010<br>\n",
    "2849/34223=8.32 %"
   ]
  },
  {
   "cell_type": "code",
   "execution_count": 41,
   "metadata": {},
   "outputs": [
    {
     "data": {
      "text/plain": [
       "Filling_Date  TOPIC\n",
       "False         11.0     21309\n",
       "              13.0      7065\n",
       "              5.0       6909\n",
       "              10.0      6670\n",
       "              4.0       5733\n",
       "              7.0       5657\n",
       "              8.0       4571\n",
       "              9.0       3746\n",
       "              1.0       2578\n",
       "              3.0        398\n",
       "              12.0       216\n",
       "              0.0         74\n",
       "              6.0         18\n",
       "              2.0          4\n",
       "True          11.0      1031\n",
       "              13.0       579\n",
       "              10.0       535\n",
       "              7.0        344\n",
       "              9.0        336\n",
       "              1.0        295\n",
       "              4.0        286\n",
       "              5.0        240\n",
       "              8.0        116\n",
       "              3.0         26\n",
       "              0.0         14\n",
       "              12.0        13\n",
       "              6.0          1\n",
       "Name: TOPIC, dtype: int64"
      ]
     },
     "execution_count": 41,
     "metadata": {},
     "output_type": "execute_result"
    }
   ],
   "source": [
    "# For 2011\n",
    "df.groupby(df.Filling_Date.dt.year==2011).TOPIC.value_counts()"
   ]
  },
  {
   "cell_type": "markdown",
   "metadata": {},
   "source": [
    "for year 2010, we have told of 3816 which has patent share of <br>\n",
    "\n",
    "3816/34223=11.15%"
   ]
  },
  {
   "cell_type": "code",
   "execution_count": 42,
   "metadata": {},
   "outputs": [
    {
     "data": {
      "text/plain": [
       "Filling_Date  TOPIC\n",
       "False         11.0     21366\n",
       "              13.0      7186\n",
       "              5.0       6921\n",
       "              10.0      6756\n",
       "              4.0       5803\n",
       "              7.0       5714\n",
       "              8.0       4628\n",
       "              9.0       3784\n",
       "              1.0       2658\n",
       "              3.0        390\n",
       "              12.0       222\n",
       "              0.0         84\n",
       "              6.0         17\n",
       "              2.0          4\n",
       "True          11.0       974\n",
       "              13.0       458\n",
       "              10.0       449\n",
       "              9.0        298\n",
       "              7.0        287\n",
       "              5.0        228\n",
       "              4.0        216\n",
       "              1.0        215\n",
       "              8.0         59\n",
       "              3.0         34\n",
       "              12.0         7\n",
       "              0.0          4\n",
       "              6.0          2\n",
       "Name: TOPIC, dtype: int64"
      ]
     },
     "execution_count": 42,
     "metadata": {},
     "output_type": "execute_result"
    }
   ],
   "source": [
    "# for 2012\n",
    "df.groupby(df.Filling_Date.dt.year==2012).TOPIC.value_counts()"
   ]
  },
  {
   "cell_type": "markdown",
   "metadata": {},
   "source": [
    "For 2012, 3231 <br>\n",
    "9.44%"
   ]
  },
  {
   "cell_type": "code",
   "execution_count": 43,
   "metadata": {},
   "outputs": [
    {
     "data": {
      "text/plain": [
       "Filling_Date  TOPIC\n",
       "False         11.0     21582\n",
       "              13.0      7290\n",
       "              5.0       6940\n",
       "              10.0      6880\n",
       "              7.0       5776\n",
       "              4.0       5764\n",
       "              8.0       4608\n",
       "              9.0       3871\n",
       "              1.0       2706\n",
       "              3.0        398\n",
       "              12.0       224\n",
       "              0.0         88\n",
       "              6.0         18\n",
       "              2.0          4\n",
       "True          11.0       758\n",
       "              13.0       354\n",
       "              10.0       325\n",
       "              4.0        255\n",
       "              7.0        225\n",
       "              9.0        211\n",
       "              5.0        209\n",
       "              1.0        167\n",
       "              8.0         79\n",
       "              3.0         26\n",
       "              12.0         5\n",
       "              6.0          1\n",
       "Name: TOPIC, dtype: int64"
      ]
     },
     "execution_count": 43,
     "metadata": {},
     "output_type": "execute_result"
    }
   ],
   "source": [
    "# for 2013\n",
    "df.groupby(df.Filling_Date.dt.year==2013).TOPIC.value_counts()"
   ]
  },
  {
   "cell_type": "code",
   "execution_count": 44,
   "metadata": {},
   "outputs": [
    {
     "data": {
      "text/plain": [
       "Filling_Date\n",
       "False    66149\n",
       "True      2615\n",
       "Name: TOPIC, dtype: int64"
      ]
     },
     "execution_count": 44,
     "metadata": {},
     "output_type": "execute_result"
    }
   ],
   "source": [
    "# for 2013, count function used instead of summing all one by one\n",
    "df.groupby(df.Filling_Date.dt.year==2013).TOPIC.count()"
   ]
  },
  {
   "cell_type": "code",
   "execution_count": 45,
   "metadata": {},
   "outputs": [
    {
     "data": {
      "text/plain": [
       "0.07641060105776817"
      ]
     },
     "execution_count": 45,
     "metadata": {},
     "output_type": "execute_result"
    }
   ],
   "source": [
    "2615/34223"
   ]
  },
  {
   "cell_type": "code",
   "execution_count": 46,
   "metadata": {},
   "outputs": [
    {
     "data": {
      "text/plain": [
       "Filling_Date\n",
       "False    66599\n",
       "True      2165\n",
       "Name: TOPIC, dtype: int64"
      ]
     },
     "execution_count": 46,
     "metadata": {},
     "output_type": "execute_result"
    }
   ],
   "source": [
    "# for 2014, count function used instead of summing all one by one\n",
    "df.groupby(df.Filling_Date.dt.year==2014).TOPIC.count()"
   ]
  },
  {
   "cell_type": "code",
   "execution_count": 47,
   "metadata": {},
   "outputs": [
    {
     "data": {
      "text/plain": [
       "0.06326154925050405"
      ]
     },
     "execution_count": 47,
     "metadata": {},
     "output_type": "execute_result"
    }
   ],
   "source": [
    "2165/34223"
   ]
  },
  {
   "cell_type": "code",
   "execution_count": 48,
   "metadata": {},
   "outputs": [
    {
     "data": {
      "text/plain": [
       "Filling_Date\n",
       "False    67020\n",
       "True      1744\n",
       "Name: TOPIC, dtype: int64"
      ]
     },
     "execution_count": 48,
     "metadata": {},
     "output_type": "execute_result"
    }
   ],
   "source": [
    "# for 2015, count function used instead of summing all one by one\n",
    "df.groupby(df.Filling_Date.dt.year==2015).TOPIC.count()"
   ]
  },
  {
   "cell_type": "code",
   "execution_count": 49,
   "metadata": {},
   "outputs": [
    {
     "data": {
      "text/plain": [
       "0.050959880781930283"
      ]
     },
     "execution_count": 49,
     "metadata": {},
     "output_type": "execute_result"
    }
   ],
   "source": [
    "1744/34223"
   ]
  },
  {
   "cell_type": "code",
   "execution_count": 50,
   "metadata": {},
   "outputs": [
    {
     "data": {
      "text/plain": [
       "Filling_Date\n",
       "False    67724\n",
       "True      1040\n",
       "Name: TOPIC, dtype: int64"
      ]
     },
     "execution_count": 50,
     "metadata": {},
     "output_type": "execute_result"
    }
   ],
   "source": [
    "# for 2016, count function used instead of summing all one by one\n",
    "df.groupby(df.Filling_Date.dt.year==2016).TOPIC.count()"
   ]
  },
  {
   "cell_type": "code",
   "execution_count": 51,
   "metadata": {},
   "outputs": [
    {
     "data": {
      "text/plain": [
       "0.030388919732343745"
      ]
     },
     "execution_count": 51,
     "metadata": {},
     "output_type": "execute_result"
    }
   ],
   "source": [
    "1040/34223"
   ]
  },
  {
   "cell_type": "code",
   "execution_count": 52,
   "metadata": {},
   "outputs": [
    {
     "data": {
      "text/plain": [
       "Filling_Date\n",
       "False    68566\n",
       "True       198\n",
       "Name: TOPIC, dtype: int64"
      ]
     },
     "execution_count": 52,
     "metadata": {},
     "output_type": "execute_result"
    }
   ],
   "source": [
    "# for 2017, count function used instead of summing all one by one\n",
    "df.groupby(df.Filling_Date.dt.year==2017).TOPIC.count()"
   ]
  },
  {
   "cell_type": "code",
   "execution_count": 53,
   "metadata": {},
   "outputs": [
    {
     "data": {
      "text/plain": [
       "0.005785582795196213"
      ]
     },
     "execution_count": 53,
     "metadata": {},
     "output_type": "execute_result"
    }
   ],
   "source": [
    "198/34223"
   ]
  },
  {
   "cell_type": "code",
   "execution_count": 54,
   "metadata": {},
   "outputs": [
    {
     "data": {
      "text/plain": [
       "Filling_Date\n",
       "False    68763\n",
       "True         1\n",
       "Name: TOPIC, dtype: int64"
      ]
     },
     "execution_count": 54,
     "metadata": {},
     "output_type": "execute_result"
    }
   ],
   "source": [
    "# for 2018, count function used instead of summing all one by one\n",
    "df.groupby(df.Filling_Date.dt.year==2018).TOPIC.count()"
   ]
  },
  {
   "cell_type": "code",
   "execution_count": 55,
   "metadata": {},
   "outputs": [
    {
     "data": {
      "text/plain": [
       "2.92201151272536e-05"
      ]
     },
     "execution_count": 55,
     "metadata": {},
     "output_type": "execute_result"
    }
   ],
   "source": [
    "1/34223"
   ]
  },
  {
   "cell_type": "markdown",
   "metadata": {},
   "source": [
    "**The average patent share in 2012 by topic was 9.44%. So, we will take it as reference value to determine whether given patent is samll or large**"
   ]
  },
  {
   "cell_type": "code",
   "execution_count": 56,
   "metadata": {},
   "outputs": [
    {
     "data": {
      "text/plain": [
       "Filling_Date  TOPIC\n",
       "False         11.0     21366\n",
       "              13.0      7186\n",
       "              5.0       6921\n",
       "              10.0      6756\n",
       "              4.0       5803\n",
       "              7.0       5714\n",
       "              8.0       4628\n",
       "              9.0       3784\n",
       "              1.0       2658\n",
       "              3.0        390\n",
       "              12.0       222\n",
       "              0.0         84\n",
       "              6.0         17\n",
       "              2.0          4\n",
       "True          11.0       974\n",
       "              13.0       458\n",
       "              10.0       449\n",
       "              9.0        298\n",
       "              7.0        287\n",
       "              5.0        228\n",
       "              4.0        216\n",
       "              1.0        215\n",
       "              8.0         59\n",
       "              3.0         34\n",
       "              12.0         7\n",
       "              0.0          4\n",
       "              6.0          2\n",
       "Name: TOPIC, dtype: int64"
      ]
     },
     "execution_count": 56,
     "metadata": {},
     "output_type": "execute_result"
    }
   ],
   "source": [
    "## for 2012\n",
    "df.groupby(df.Filling_Date.dt.year==2012).TOPIC.value_counts()"
   ]
  },
  {
   "cell_type": "code",
   "execution_count": 57,
   "metadata": {},
   "outputs": [
    {
     "data": {
      "text/plain": [
       "Filling_Date\n",
       "False    65533\n",
       "True      3231\n",
       "Name: TOPIC, dtype: int64"
      ]
     },
     "execution_count": 57,
     "metadata": {},
     "output_type": "execute_result"
    }
   ],
   "source": [
    "df.groupby(df.Filling_Date.dt.year==2012).TOPIC.count()"
   ]
  },
  {
   "cell_type": "code",
   "execution_count": 58,
   "metadata": {},
   "outputs": [
    {
     "data": {
      "text/plain": [
       "Filling_Date  TOPIC\n",
       "False         11.0     0.326034\n",
       "              13.0     0.109655\n",
       "              5.0      0.105611\n",
       "              10.0     0.103093\n",
       "              4.0      0.088551\n",
       "              7.0      0.087193\n",
       "              8.0      0.070621\n",
       "              9.0      0.057742\n",
       "              1.0      0.040560\n",
       "              3.0      0.005951\n",
       "              12.0     0.003388\n",
       "              0.0      0.001282\n",
       "              6.0      0.000259\n",
       "              2.0      0.000061\n",
       "True          11.0     0.301455\n",
       "              13.0     0.141752\n",
       "              10.0     0.138966\n",
       "              9.0      0.092232\n",
       "              7.0      0.088827\n",
       "              5.0      0.070566\n",
       "              4.0      0.066852\n",
       "              1.0      0.066543\n",
       "              8.0      0.018261\n",
       "              3.0      0.010523\n",
       "              12.0     0.002167\n",
       "              0.0      0.001238\n",
       "              6.0      0.000619\n",
       "Name: TOPIC, dtype: float64"
      ]
     },
     "execution_count": 58,
     "metadata": {},
     "output_type": "execute_result"
    }
   ],
   "source": [
    "# For 2012,current patent share\n",
    "df.groupby(df.Filling_Date.dt.year==2012).TOPIC.value_counts(normalize=True)"
   ]
  },
  {
   "cell_type": "markdown",
   "metadata": {},
   "source": [
    "### Calculate CAGR\n",
    "https://www.investopedia.com/terms/c/cagr.asp\n",
    "\n",
    "We will consider years from 2010-2014"
   ]
  },
  {
   "cell_type": "code",
   "execution_count": 59,
   "metadata": {},
   "outputs": [
    {
     "data": {
      "text/plain": [
       "Filling_Date  TOPIC\n",
       "False         11.0     21491\n",
       "              13.0      7215\n",
       "              5.0       6985\n",
       "              10.0      6842\n",
       "              4.0       5821\n",
       "              7.0       5780\n",
       "              8.0       4621\n",
       "              9.0       3770\n",
       "              1.0       2685\n",
       "              3.0        394\n",
       "              12.0       212\n",
       "              0.0         76\n",
       "              6.0         19\n",
       "              2.0          4\n",
       "True          11.0       849\n",
       "              13.0       429\n",
       "              10.0       363\n",
       "              9.0        312\n",
       "              7.0        221\n",
       "              4.0        198\n",
       "              1.0        188\n",
       "              5.0        164\n",
       "              8.0         66\n",
       "              3.0         30\n",
       "              12.0        17\n",
       "              0.0         12\n",
       "Name: TOPIC, dtype: int64"
      ]
     },
     "execution_count": 59,
     "metadata": {},
     "output_type": "execute_result"
    }
   ],
   "source": [
    "df.groupby(df.Filling_Date.dt.year==2010).TOPIC.value_counts()"
   ]
  },
  {
   "cell_type": "markdown",
   "metadata": {},
   "source": [
    "Initial values for patent share are given "
   ]
  },
  {
   "cell_type": "code",
   "execution_count": 60,
   "metadata": {},
   "outputs": [
    {
     "data": {
      "text/plain": [
       "Filling_Date  TOPIC\n",
       "False         11.0     21765\n",
       "              13.0      7438\n",
       "              10.0      7057\n",
       "              5.0       6970\n",
       "              7.0       5870\n",
       "              4.0       5860\n",
       "              8.0       4598\n",
       "              9.0       3945\n",
       "              1.0       2777\n",
       "              3.0        413\n",
       "              12.0       217\n",
       "              0.0         87\n",
       "              6.0         19\n",
       "              2.0          4\n",
       "True          11.0       575\n",
       "              13.0       206\n",
       "              5.0        179\n",
       "              4.0        159\n",
       "              10.0       148\n",
       "              9.0        137\n",
       "              7.0        131\n",
       "              1.0         96\n",
       "              8.0         89\n",
       "              12.0        12\n",
       "              3.0         11\n",
       "              0.0          1\n",
       "Name: TOPIC, dtype: int64"
      ]
     },
     "execution_count": 60,
     "metadata": {},
     "output_type": "execute_result"
    }
   ],
   "source": [
    "df.groupby(df.Filling_Date.dt.year==2015).TOPIC.value_counts()"
   ]
  },
  {
   "cell_type": "code",
   "execution_count": null,
   "metadata": {},
   "outputs": [],
   "source": []
  },
  {
   "cell_type": "code",
   "execution_count": null,
   "metadata": {},
   "outputs": [],
   "source": []
  }
 ],
 "metadata": {
  "kernelspec": {
   "display_name": "Python 3",
   "language": "python",
   "name": "python3"
  },
  "language_info": {
   "codemirror_mode": {
    "name": "ipython",
    "version": 3
   },
   "file_extension": ".py",
   "mimetype": "text/x-python",
   "name": "python",
   "nbconvert_exporter": "python",
   "pygments_lexer": "ipython3",
   "version": "3.6.3"
  }
 },
 "nbformat": 4,
 "nbformat_minor": 2
}
