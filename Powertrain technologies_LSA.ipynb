{
 "cells": [
  {
   "cell_type": "markdown",
   "metadata": {},
   "source": [
    "# Patent analysis on Powertrain technologies\n",
    "Data collected on multiple powertrain technologies such as electric vehicle, hybrid electric vehicle, fuel cells vehicles and internal combusion engine(traditional vehicles) patent. We have made a text analysis on these technologies and performed topic modeling.<br>\n",
    "\n",
    "We will use LSA model for this notebook"
   ]
  },
  {
   "cell_type": "markdown",
   "metadata": {},
   "source": [
    "# 1) Importing key modules"
   ]
  },
  {
   "cell_type": "code",
   "execution_count": 1,
   "metadata": {},
   "outputs": [],
   "source": [
    "# Let's be rebels and ignore warnings for now\n",
    "import warnings\n",
    "warnings.filterwarnings('ignore')"
   ]
  },
  {
   "cell_type": "code",
   "execution_count": 2,
   "metadata": {},
   "outputs": [
    {
     "name": "stdout",
     "output_type": "stream",
     "text": [
      "Populating the interactive namespace from numpy and matplotlib\n"
     ]
    }
   ],
   "source": [
    "# Visualization \n",
    "import matplotlib.pyplot as plt\n",
    "import seaborn as sns\n",
    "%matplotlib inline\n",
    "%pylab inline"
   ]
  },
  {
   "cell_type": "code",
   "execution_count": 3,
   "metadata": {},
   "outputs": [],
   "source": [
    "import nltk\n",
    "import pandas as pd"
   ]
  },
  {
   "cell_type": "markdown",
   "metadata": {},
   "source": [
    "# 2) Loading data"
   ]
  },
  {
   "cell_type": "code",
   "execution_count": 4,
   "metadata": {},
   "outputs": [],
   "source": [
    "assignments = pd.read_csv('patent_ev.csv')"
   ]
  },
  {
   "cell_type": "code",
   "execution_count": 5,
   "metadata": {},
   "outputs": [
    {
     "data": {
      "text/html": [
       "<div>\n",
       "<style scoped>\n",
       "    .dataframe tbody tr th:only-of-type {\n",
       "        vertical-align: middle;\n",
       "    }\n",
       "\n",
       "    .dataframe tbody tr th {\n",
       "        vertical-align: top;\n",
       "    }\n",
       "\n",
       "    .dataframe thead th {\n",
       "        text-align: right;\n",
       "    }\n",
       "</style>\n",
       "<table border=\"1\" class=\"dataframe\">\n",
       "  <thead>\n",
       "    <tr style=\"text-align: right;\">\n",
       "      <th></th>\n",
       "      <th>appln</th>\n",
       "      <th>appln_id</th>\n",
       "      <th>family_id</th>\n",
       "      <th>sets</th>\n",
       "      <th>direct</th>\n",
       "      <th>granted</th>\n",
       "      <th>earliest_appln</th>\n",
       "      <th>earliest_filing_date</th>\n",
       "      <th>publn_date</th>\n",
       "      <th>publn</th>\n",
       "      <th>...</th>\n",
       "      <th>num_citing_publn</th>\n",
       "      <th>citing_publn_date</th>\n",
       "      <th>citing_publn</th>\n",
       "      <th>citing_appln</th>\n",
       "      <th>citing_appln_id</th>\n",
       "      <th>citing_family_id</th>\n",
       "      <th>num_citing_family</th>\n",
       "      <th>earliest_applt</th>\n",
       "      <th>current_applt</th>\n",
       "      <th>appln_title</th>\n",
       "    </tr>\n",
       "  </thead>\n",
       "  <tbody>\n",
       "    <tr>\n",
       "      <th>0</th>\n",
       "      <td>DE69118393A</td>\n",
       "      <td>14285742</td>\n",
       "      <td>1239277</td>\n",
       "      <td>2</td>\n",
       "      <td>0</td>\n",
       "      <td>0</td>\n",
       "      <td>WO9105114W</td>\n",
       "      <td>1991-08-07</td>\n",
       "      <td>1996-05-02</td>\n",
       "      <td>DE69118393D1</td>\n",
       "      <td>...</td>\n",
       "      <td>0</td>\n",
       "      <td>NaN</td>\n",
       "      <td>NaN</td>\n",
       "      <td>NaN</td>\n",
       "      <td>NaN</td>\n",
       "      <td>NaN</td>\n",
       "      <td>30</td>\n",
       "      <td>ELECTRIC FUEL (E.F.L.) LTD., JERUSALEM, IL</td>\n",
       "      <td>ELECTRIC FUEL (E.F.L.) LTD., JERUSALEM, IL</td>\n",
       "      <td>ELEKTRISCHES ENERGIESYSTEM</td>\n",
       "    </tr>\n",
       "    <tr>\n",
       "      <th>1</th>\n",
       "      <td>DE69118393T</td>\n",
       "      <td>14285743</td>\n",
       "      <td>1239277</td>\n",
       "      <td>2</td>\n",
       "      <td>0</td>\n",
       "      <td>1</td>\n",
       "      <td>WO9105114W</td>\n",
       "      <td>1991-08-07</td>\n",
       "      <td>1996-09-05</td>\n",
       "      <td>DE69118393T2</td>\n",
       "      <td>...</td>\n",
       "      <td>2</td>\n",
       "      <td>2016-02-25\\n2018-05-22</td>\n",
       "      <td>DE102014216372A1\\nUS9975438B2</td>\n",
       "      <td>DE102014216372A\\nUS201715436024A</td>\n",
       "      <td>449479509\\n479351260</td>\n",
       "      <td>53836089\\n53836089</td>\n",
       "      <td>30</td>\n",
       "      <td>ELECTRIC FUEL (E.F.L.) LTD., JERUSALEM, IL</td>\n",
       "      <td>ELECTRIC FUEL (E.F.L.) LTD., JERUSALEM, IL</td>\n",
       "      <td>ELEKTRISCHES ENERGIESYSTEM</td>\n",
       "    </tr>\n",
       "    <tr>\n",
       "      <th>2</th>\n",
       "      <td>EP91915464A</td>\n",
       "      <td>16916549</td>\n",
       "      <td>1239277</td>\n",
       "      <td>2</td>\n",
       "      <td>0</td>\n",
       "      <td>1</td>\n",
       "      <td>WO9105114W</td>\n",
       "      <td>1991-08-07</td>\n",
       "      <td>1993-09-01\\n1994-03-09\\n1996-03-27</td>\n",
       "      <td>EP0557287A1\\nEP0557287A4\\nEP0557287B1</td>\n",
       "      <td>...</td>\n",
       "      <td>1</td>\n",
       "      <td>2007-12-25</td>\n",
       "      <td>US7313469B2</td>\n",
       "      <td>US51676105A</td>\n",
       "      <td>51497271</td>\n",
       "      <td>29718835</td>\n",
       "      <td>30</td>\n",
       "      <td>ELECTRIC FUEL (E.F.L.) LTD.</td>\n",
       "      <td>ELECTRIC FUEL (E.F.L.) LTD.</td>\n",
       "      <td>ELECTRICAL ENERGY SYSTEM</td>\n",
       "    </tr>\n",
       "    <tr>\n",
       "      <th>3</th>\n",
       "      <td>WO9105114W</td>\n",
       "      <td>47158713</td>\n",
       "      <td>1239277</td>\n",
       "      <td>2</td>\n",
       "      <td>1</td>\n",
       "      <td>1</td>\n",
       "      <td>US55592190A</td>\n",
       "      <td>1990-07-19</td>\n",
       "      <td>1993-02-18</td>\n",
       "      <td>WO9303532A1</td>\n",
       "      <td>...</td>\n",
       "      <td>1</td>\n",
       "      <td>2002-07-11</td>\n",
       "      <td>WO0199222A3</td>\n",
       "      <td>WO0119827W</td>\n",
       "      <td>45621927</td>\n",
       "      <td>24395918</td>\n",
       "      <td>30</td>\n",
       "      <td>LUZ ELECTRIC FUEL ISRAEL LTD.</td>\n",
       "      <td>LUZ ELECTRIC FUEL ISRAEL LTD.</td>\n",
       "      <td>ELECTRICAL ENERGY SYSTEM</td>\n",
       "    </tr>\n",
       "    <tr>\n",
       "      <th>4</th>\n",
       "      <td>US55592190A</td>\n",
       "      <td>51797454</td>\n",
       "      <td>1239277</td>\n",
       "      <td>2</td>\n",
       "      <td>1</td>\n",
       "      <td>1</td>\n",
       "      <td>US55592190A</td>\n",
       "      <td>1990-07-19</td>\n",
       "      <td>1992-06-09</td>\n",
       "      <td>US5121044A</td>\n",
       "      <td>...</td>\n",
       "      <td>44</td>\n",
       "      <td>1993-05-04\\n1994-03-09\\n1994-09-20\\n1995-07-18...</td>\n",
       "      <td>US5208526A\\nEP0557287A4\\nUS5349535A\\nUS5434020...</td>\n",
       "      <td>US63645090A\\nEP91915464A\\nUS96399792A\\nUS15296...</td>\n",
       "      <td>52393850\\n16916549\\n54353461\\n48212422\\n457802...</td>\n",
       "      <td>27071024\\n1239277\\n25508001\\n22545199\\n2636904...</td>\n",
       "      <td>30</td>\n",
       "      <td>Luz Electric Fuel Israel, Ltd.</td>\n",
       "      <td>Luz Electric Fuel Israel, Ltd.</td>\n",
       "      <td>Electrical energy system</td>\n",
       "    </tr>\n",
       "  </tbody>\n",
       "</table>\n",
       "<p>5 rows × 32 columns</p>\n",
       "</div>"
      ],
      "text/plain": [
       "         appln  appln_id  family_id  sets  direct  granted earliest_appln  \\\n",
       "0  DE69118393A  14285742    1239277     2       0        0     WO9105114W   \n",
       "1  DE69118393T  14285743    1239277     2       0        1     WO9105114W   \n",
       "2  EP91915464A  16916549    1239277     2       0        1     WO9105114W   \n",
       "3   WO9105114W  47158713    1239277     2       1        1    US55592190A   \n",
       "4  US55592190A  51797454    1239277     2       1        1    US55592190A   \n",
       "\n",
       "  earliest_filing_date                          publn_date  \\\n",
       "0           1991-08-07                          1996-05-02   \n",
       "1           1991-08-07                          1996-09-05   \n",
       "2           1991-08-07  1993-09-01\\n1994-03-09\\n1996-03-27   \n",
       "3           1990-07-19                          1993-02-18   \n",
       "4           1990-07-19                          1992-06-09   \n",
       "\n",
       "                                   publn             ...              \\\n",
       "0                           DE69118393D1             ...               \n",
       "1                           DE69118393T2             ...               \n",
       "2  EP0557287A1\\nEP0557287A4\\nEP0557287B1             ...               \n",
       "3                            WO9303532A1             ...               \n",
       "4                             US5121044A             ...               \n",
       "\n",
       "  num_citing_publn                                  citing_publn_date  \\\n",
       "0                0                                                NaN   \n",
       "1                2                             2016-02-25\\n2018-05-22   \n",
       "2                1                                         2007-12-25   \n",
       "3                1                                         2002-07-11   \n",
       "4               44  1993-05-04\\n1994-03-09\\n1994-09-20\\n1995-07-18...   \n",
       "\n",
       "                                        citing_publn  \\\n",
       "0                                                NaN   \n",
       "1                      DE102014216372A1\\nUS9975438B2   \n",
       "2                                        US7313469B2   \n",
       "3                                        WO0199222A3   \n",
       "4  US5208526A\\nEP0557287A4\\nUS5349535A\\nUS5434020...   \n",
       "\n",
       "                                        citing_appln  \\\n",
       "0                                                NaN   \n",
       "1                   DE102014216372A\\nUS201715436024A   \n",
       "2                                        US51676105A   \n",
       "3                                         WO0119827W   \n",
       "4  US63645090A\\nEP91915464A\\nUS96399792A\\nUS15296...   \n",
       "\n",
       "                                     citing_appln_id  \\\n",
       "0                                                NaN   \n",
       "1                               449479509\\n479351260   \n",
       "2                                           51497271   \n",
       "3                                           45621927   \n",
       "4  52393850\\n16916549\\n54353461\\n48212422\\n457802...   \n",
       "\n",
       "                                    citing_family_id num_citing_family  \\\n",
       "0                                                NaN                30   \n",
       "1                                 53836089\\n53836089                30   \n",
       "2                                           29718835                30   \n",
       "3                                           24395918                30   \n",
       "4  27071024\\n1239277\\n25508001\\n22545199\\n2636904...                30   \n",
       "\n",
       "                               earliest_applt  \\\n",
       "0  ELECTRIC FUEL (E.F.L.) LTD., JERUSALEM, IL   \n",
       "1  ELECTRIC FUEL (E.F.L.) LTD., JERUSALEM, IL   \n",
       "2                 ELECTRIC FUEL (E.F.L.) LTD.   \n",
       "3               LUZ ELECTRIC FUEL ISRAEL LTD.   \n",
       "4              Luz Electric Fuel Israel, Ltd.   \n",
       "\n",
       "                                current_applt                 appln_title  \n",
       "0  ELECTRIC FUEL (E.F.L.) LTD., JERUSALEM, IL  ELEKTRISCHES ENERGIESYSTEM  \n",
       "1  ELECTRIC FUEL (E.F.L.) LTD., JERUSALEM, IL  ELEKTRISCHES ENERGIESYSTEM  \n",
       "2                 ELECTRIC FUEL (E.F.L.) LTD.    ELECTRICAL ENERGY SYSTEM  \n",
       "3               LUZ ELECTRIC FUEL ISRAEL LTD.    ELECTRICAL ENERGY SYSTEM  \n",
       "4              Luz Electric Fuel Israel, Ltd.    Electrical energy system  \n",
       "\n",
       "[5 rows x 32 columns]"
      ]
     },
     "execution_count": 5,
     "metadata": {},
     "output_type": "execute_result"
    }
   ],
   "source": [
    "assignments.head()"
   ]
  },
  {
   "cell_type": "code",
   "execution_count": 6,
   "metadata": {},
   "outputs": [
    {
     "data": {
      "text/plain": [
       "1    16981\n",
       "0     6851\n",
       "Name: granted, dtype: int64"
      ]
     },
     "execution_count": 6,
     "metadata": {},
     "output_type": "execute_result"
    }
   ],
   "source": [
    "assignments['granted'].value_counts()"
   ]
  },
  {
   "cell_type": "code",
   "execution_count": 7,
   "metadata": {},
   "outputs": [
    {
     "name": "stdout",
     "output_type": "stream",
     "text": [
      "1    16981\n",
      "0     6851\n",
      "Name: granted, dtype: int64\n"
     ]
    },
    {
     "data": {
      "image/png": "[encoded data removed]",
      "text/plain": [
       "<Figure size 1440x72 with 1 Axes>"
      ]
     },
     "metadata": {},
     "output_type": "display_data"
    }
   ],
   "source": [
    "fig = plt.figure(figsize=(20,1))\n",
    "sns.countplot(y='granted', data=assignments);\n",
    "print(assignments.granted.value_counts())"
   ]
  },
  {
   "cell_type": "code",
   "execution_count": 8,
   "metadata": {},
   "outputs": [
    {
     "data": {
      "text/plain": [
       "(23832, 32)"
      ]
     },
     "execution_count": 8,
     "metadata": {},
     "output_type": "execute_result"
    }
   ],
   "source": [
    "assignments.shape"
   ]
  },
  {
   "cell_type": "code",
   "execution_count": 9,
   "metadata": {},
   "outputs": [],
   "source": [
    "patent=assignments['appln_title']"
   ]
  },
  {
   "cell_type": "code",
   "execution_count": 10,
   "metadata": {},
   "outputs": [
    {
     "data": {
      "text/plain": [
       "0    ELEKTRISCHES ENERGIESYSTEM\n",
       "1    ELEKTRISCHES ENERGIESYSTEM\n",
       "2      ELECTRICAL ENERGY SYSTEM\n",
       "Name: appln_title, dtype: object"
      ]
     },
     "execution_count": 10,
     "metadata": {},
     "output_type": "execute_result"
    }
   ],
   "source": [
    "patent[:3]"
   ]
  },
  {
   "cell_type": "markdown",
   "metadata": {},
   "source": [
    "**Need full abstract or atleast full title of given patent**"
   ]
  },
  {
   "cell_type": "markdown",
   "metadata": {},
   "source": [
    "## a) Types of features in our dataset"
   ]
  },
  {
   "cell_type": "code",
   "execution_count": 11,
   "metadata": {},
   "outputs": [
    {
     "data": {
      "text/plain": [
       "object    21\n",
       "int64     11\n",
       "dtype: int64"
      ]
     },
     "execution_count": 11,
     "metadata": {},
     "output_type": "execute_result"
    }
   ],
   "source": [
    "assignments.dtypes.value_counts()"
   ]
  },
  {
   "cell_type": "code",
   "execution_count": 12,
   "metadata": {},
   "outputs": [
    {
     "data": {
      "text/html": [
       "<div>\n",
       "<style scoped>\n",
       "    .dataframe tbody tr th:only-of-type {\n",
       "        vertical-align: middle;\n",
       "    }\n",
       "\n",
       "    .dataframe tbody tr th {\n",
       "        vertical-align: top;\n",
       "    }\n",
       "\n",
       "    .dataframe thead th {\n",
       "        text-align: right;\n",
       "    }\n",
       "</style>\n",
       "<table border=\"1\" class=\"dataframe\">\n",
       "  <thead>\n",
       "    <tr style=\"text-align: right;\">\n",
       "      <th></th>\n",
       "      <th>Data Type</th>\n",
       "    </tr>\n",
       "  </thead>\n",
       "  <tbody>\n",
       "    <tr>\n",
       "      <th>num_cited_publn</th>\n",
       "      <td>int64</td>\n",
       "    </tr>\n",
       "    <tr>\n",
       "      <th>appln_id</th>\n",
       "      <td>int64</td>\n",
       "    </tr>\n",
       "    <tr>\n",
       "      <th>family_id</th>\n",
       "      <td>int64</td>\n",
       "    </tr>\n",
       "    <tr>\n",
       "      <th>sets</th>\n",
       "      <td>int64</td>\n",
       "    </tr>\n",
       "    <tr>\n",
       "      <th>direct</th>\n",
       "      <td>int64</td>\n",
       "    </tr>\n",
       "    <tr>\n",
       "      <th>granted</th>\n",
       "      <td>int64</td>\n",
       "    </tr>\n",
       "    <tr>\n",
       "      <th>num_cited_family</th>\n",
       "      <td>int64</td>\n",
       "    </tr>\n",
       "    <tr>\n",
       "      <th>num_citing_family</th>\n",
       "      <td>int64</td>\n",
       "    </tr>\n",
       "    <tr>\n",
       "      <th>num_citing_publn</th>\n",
       "      <td>int64</td>\n",
       "    </tr>\n",
       "    <tr>\n",
       "      <th>num_ipc_class</th>\n",
       "      <td>int64</td>\n",
       "    </tr>\n",
       "    <tr>\n",
       "      <th>num_cpc_class</th>\n",
       "      <td>int64</td>\n",
       "    </tr>\n",
       "    <tr>\n",
       "      <th>citing_publn_date</th>\n",
       "      <td>object</td>\n",
       "    </tr>\n",
       "    <tr>\n",
       "      <th>citing_appln_id</th>\n",
       "      <td>object</td>\n",
       "    </tr>\n",
       "    <tr>\n",
       "      <th>citing_appln</th>\n",
       "      <td>object</td>\n",
       "    </tr>\n",
       "    <tr>\n",
       "      <th>cited_family_id</th>\n",
       "      <td>object</td>\n",
       "    </tr>\n",
       "    <tr>\n",
       "      <th>citing_family_id</th>\n",
       "      <td>object</td>\n",
       "    </tr>\n",
       "    <tr>\n",
       "      <th>earliest_applt</th>\n",
       "      <td>object</td>\n",
       "    </tr>\n",
       "    <tr>\n",
       "      <th>citing_publn</th>\n",
       "      <td>object</td>\n",
       "    </tr>\n",
       "    <tr>\n",
       "      <th>cited_appln_id</th>\n",
       "      <td>object</td>\n",
       "    </tr>\n",
       "    <tr>\n",
       "      <th>appln</th>\n",
       "      <td>object</td>\n",
       "    </tr>\n",
       "    <tr>\n",
       "      <th>cited_publn</th>\n",
       "      <td>object</td>\n",
       "    </tr>\n",
       "    <tr>\n",
       "      <th>cited_publn_date</th>\n",
       "      <td>object</td>\n",
       "    </tr>\n",
       "    <tr>\n",
       "      <th>current_applt</th>\n",
       "      <td>object</td>\n",
       "    </tr>\n",
       "    <tr>\n",
       "      <th>ipc_class</th>\n",
       "      <td>object</td>\n",
       "    </tr>\n",
       "    <tr>\n",
       "      <th>cpc_class</th>\n",
       "      <td>object</td>\n",
       "    </tr>\n",
       "    <tr>\n",
       "      <th>publn_first_grant</th>\n",
       "      <td>object</td>\n",
       "    </tr>\n",
       "    <tr>\n",
       "      <th>publn</th>\n",
       "      <td>object</td>\n",
       "    </tr>\n",
       "    <tr>\n",
       "      <th>publn_date</th>\n",
       "      <td>object</td>\n",
       "    </tr>\n",
       "    <tr>\n",
       "      <th>earliest_filing_date</th>\n",
       "      <td>object</td>\n",
       "    </tr>\n",
       "    <tr>\n",
       "      <th>earliest_appln</th>\n",
       "      <td>object</td>\n",
       "    </tr>\n",
       "    <tr>\n",
       "      <th>cited_appln</th>\n",
       "      <td>object</td>\n",
       "    </tr>\n",
       "    <tr>\n",
       "      <th>appln_title</th>\n",
       "      <td>object</td>\n",
       "    </tr>\n",
       "  </tbody>\n",
       "</table>\n",
       "</div>"
      ],
      "text/plain": [
       "                     Data Type\n",
       "num_cited_publn          int64\n",
       "appln_id                 int64\n",
       "family_id                int64\n",
       "sets                     int64\n",
       "direct                   int64\n",
       "granted                  int64\n",
       "num_cited_family         int64\n",
       "num_citing_family        int64\n",
       "num_citing_publn         int64\n",
       "num_ipc_class            int64\n",
       "num_cpc_class            int64\n",
       "citing_publn_date       object\n",
       "citing_appln_id         object\n",
       "citing_appln            object\n",
       "cited_family_id         object\n",
       "citing_family_id        object\n",
       "earliest_applt          object\n",
       "citing_publn            object\n",
       "cited_appln_id          object\n",
       "appln                   object\n",
       "cited_publn             object\n",
       "cited_publn_date        object\n",
       "current_applt           object\n",
       "ipc_class               object\n",
       "cpc_class               object\n",
       "publn_first_grant       object\n",
       "publn                   object\n",
       "publn_date              object\n",
       "earliest_filing_date    object\n",
       "earliest_appln          object\n",
       "cited_appln             object\n",
       "appln_title             object"
      ]
     },
     "execution_count": 12,
     "metadata": {},
     "output_type": "execute_result"
    }
   ],
   "source": [
    "# Checking all variables with their data-type\n",
    "def _tbl_dtype(dataset):\n",
    "    sum_dtype = pd.DataFrame(dataset.dtypes).sort_values(0).rename(columns = {0:'Data Type'})\n",
    "    return sum_dtype\n",
    "\n",
    "table_dtype = _tbl_dtype(assignments)\n",
    "table_dtype"
   ]
  },
  {
   "cell_type": "markdown",
   "metadata": {},
   "source": [
    "## b) Checking missing values"
   ]
  },
  {
   "cell_type": "code",
   "execution_count": 13,
   "metadata": {},
   "outputs": [],
   "source": [
    "def find_missing_values(df, columns):\n",
    "    \"\"\"\n",
    "    Finds number of rows where certain columns are missing values.\n",
    "    ::param_df:: = target dataframe\n",
    "    ::param_columns:: = list of columns\n",
    "    \"\"\"\n",
    "    missing_vals = {}\n",
    "    print(\"Number of missing or NaN values for each column:\")\n",
    "    df_length = len(df)\n",
    "    for column in columns:\n",
    "        total_column_values = df[column].value_counts().sum()\n",
    "        missing_vals[column] = df_length-total_column_values\n",
    "        #missing_vals.append(str(column)+ \" column has {} missing or NaN values.\".format())\n",
    "    return missing_vals"
   ]
  },
  {
   "cell_type": "code",
   "execution_count": 14,
   "metadata": {},
   "outputs": [
    {
     "name": "stdout",
     "output_type": "stream",
     "text": [
      "Number of missing or NaN values for each column:\n"
     ]
    },
    {
     "data": {
      "text/plain": [
       "{'appln': 0,\n",
       " 'appln_id': 0,\n",
       " 'family_id': 0,\n",
       " 'sets': 0,\n",
       " 'direct': 0,\n",
       " 'granted': 0,\n",
       " 'earliest_appln': 0,\n",
       " 'earliest_filing_date': 0,\n",
       " 'publn_date': 0,\n",
       " 'publn': 0,\n",
       " 'publn_first_grant': 0,\n",
       " 'num_cpc_class': 0,\n",
       " 'cpc_class': 1624,\n",
       " 'num_ipc_class': 0,\n",
       " 'ipc_class': 85,\n",
       " 'num_cited_publn': 0,\n",
       " 'cited_publn_date': 9456,\n",
       " 'cited_publn': 9456,\n",
       " 'cited_appln': 9456,\n",
       " 'cited_appln_id': 9456,\n",
       " 'cited_family_id': 9456,\n",
       " 'num_cited_family': 0,\n",
       " 'num_citing_publn': 0,\n",
       " 'citing_publn_date': 10499,\n",
       " 'citing_publn': 10499,\n",
       " 'citing_appln': 10499,\n",
       " 'citing_appln_id': 10499,\n",
       " 'citing_family_id': 10499,\n",
       " 'num_citing_family': 0,\n",
       " 'earliest_applt': 843,\n",
       " 'current_applt': 843,\n",
       " 'appln_title': 0}"
      ]
     },
     "execution_count": 14,
     "metadata": {},
     "output_type": "execute_result"
    }
   ],
   "source": [
    "missing_values = find_missing_values(assignments, columns=assignments.columns)\n",
    "missing_values"
   ]
  },
  {
   "cell_type": "code",
   "execution_count": 15,
   "metadata": {},
   "outputs": [
    {
     "data": {
      "text/plain": [
       "<matplotlib.axes._subplots.AxesSubplot at 0x2f653457cc0>"
      ]
     },
     "execution_count": 15,
     "metadata": {},
     "output_type": "execute_result"
    },
    {
     "data": {
      "image/png": "[encoded data removed]",
      "text/plain": [
       "<Figure size 2160x720 with 2 Axes>"
      ]
     },
     "metadata": {},
     "output_type": "display_data"
    }
   ],
   "source": [
    "import missingno\n",
    "missingno.matrix(assignments, figsize = (30,10))"
   ]
  },
  {
   "cell_type": "code",
   "execution_count": 16,
   "metadata": {},
   "outputs": [
    {
     "name": "stdout",
     "output_type": "stream",
     "text": [
      "No. of fields:  23832\n",
      "No. of missing fields:  14\n"
     ]
    },
    {
     "data": {
      "text/html": [
       "<div>\n",
       "<style scoped>\n",
       "    .dataframe tbody tr th:only-of-type {\n",
       "        vertical-align: middle;\n",
       "    }\n",
       "\n",
       "    .dataframe tbody tr th {\n",
       "        vertical-align: top;\n",
       "    }\n",
       "\n",
       "    .dataframe thead th {\n",
       "        text-align: right;\n",
       "    }\n",
       "</style>\n",
       "<table border=\"1\" class=\"dataframe\">\n",
       "  <thead>\n",
       "    <tr style=\"text-align: right;\">\n",
       "      <th></th>\n",
       "      <th>No. of mising Value</th>\n",
       "      <th>%age of missing Value</th>\n",
       "    </tr>\n",
       "  </thead>\n",
       "  <tbody>\n",
       "    <tr>\n",
       "      <th>citing_publn</th>\n",
       "      <td>10499</td>\n",
       "      <td>44.1</td>\n",
       "    </tr>\n",
       "    <tr>\n",
       "      <th>citing_publn_date</th>\n",
       "      <td>10499</td>\n",
       "      <td>44.1</td>\n",
       "    </tr>\n",
       "    <tr>\n",
       "      <th>citing_family_id</th>\n",
       "      <td>10499</td>\n",
       "      <td>44.1</td>\n",
       "    </tr>\n",
       "    <tr>\n",
       "      <th>citing_appln_id</th>\n",
       "      <td>10499</td>\n",
       "      <td>44.1</td>\n",
       "    </tr>\n",
       "    <tr>\n",
       "      <th>citing_appln</th>\n",
       "      <td>10499</td>\n",
       "      <td>44.1</td>\n",
       "    </tr>\n",
       "    <tr>\n",
       "      <th>cited_publn</th>\n",
       "      <td>9456</td>\n",
       "      <td>39.7</td>\n",
       "    </tr>\n",
       "    <tr>\n",
       "      <th>cited_appln_id</th>\n",
       "      <td>9456</td>\n",
       "      <td>39.7</td>\n",
       "    </tr>\n",
       "    <tr>\n",
       "      <th>cited_family_id</th>\n",
       "      <td>9456</td>\n",
       "      <td>39.7</td>\n",
       "    </tr>\n",
       "    <tr>\n",
       "      <th>cited_publn_date</th>\n",
       "      <td>9456</td>\n",
       "      <td>39.7</td>\n",
       "    </tr>\n",
       "    <tr>\n",
       "      <th>cited_appln</th>\n",
       "      <td>9456</td>\n",
       "      <td>39.7</td>\n",
       "    </tr>\n",
       "    <tr>\n",
       "      <th>cpc_class</th>\n",
       "      <td>1624</td>\n",
       "      <td>6.8</td>\n",
       "    </tr>\n",
       "    <tr>\n",
       "      <th>earliest_applt</th>\n",
       "      <td>843</td>\n",
       "      <td>3.5</td>\n",
       "    </tr>\n",
       "    <tr>\n",
       "      <th>current_applt</th>\n",
       "      <td>843</td>\n",
       "      <td>3.5</td>\n",
       "    </tr>\n",
       "    <tr>\n",
       "      <th>ipc_class</th>\n",
       "      <td>85</td>\n",
       "      <td>0.4</td>\n",
       "    </tr>\n",
       "  </tbody>\n",
       "</table>\n",
       "</div>"
      ],
      "text/plain": [
       "                   No. of mising Value  %age of missing Value\n",
       "citing_publn                     10499                   44.1\n",
       "citing_publn_date                10499                   44.1\n",
       "citing_family_id                 10499                   44.1\n",
       "citing_appln_id                  10499                   44.1\n",
       "citing_appln                     10499                   44.1\n",
       "cited_publn                       9456                   39.7\n",
       "cited_appln_id                    9456                   39.7\n",
       "cited_family_id                   9456                   39.7\n",
       "cited_publn_date                  9456                   39.7\n",
       "cited_appln                       9456                   39.7\n",
       "cpc_class                         1624                    6.8\n",
       "earliest_applt                     843                    3.5\n",
       "current_applt                      843                    3.5\n",
       "ipc_class                           85                    0.4"
      ]
     },
     "execution_count": 16,
     "metadata": {},
     "output_type": "execute_result"
    }
   ],
   "source": [
    "def summary_missing(dataset):\n",
    "    n_miss = dataset.isnull().sum()\n",
    "    n_obs = dataset.shape[0]\n",
    "    n_miss_per = n_miss/n_obs*100\n",
    "    n_miss_tbl = pd.concat([n_miss, n_miss_per], axis = 1).sort_values(1, ascending = False).round(1)\n",
    "    n_miss_tbl = n_miss_tbl[n_miss_tbl[1] != 0]\n",
    "    print('No. of fields: ', dataset.shape[0])\n",
    "    print('No. of missing fields: ', n_miss_tbl.shape[0])\n",
    "    n_miss_tbl = n_miss_tbl.rename(columns = {0:'No. of mising Value', 1:'%age of missing Value'})\n",
    "    return n_miss_tbl\n",
    "\n",
    "summary_missing(assignments)"
   ]
  },
  {
   "cell_type": "markdown",
   "metadata": {},
   "source": [
    "## c) Checking data for text analysis"
   ]
  },
  {
   "cell_type": "code",
   "execution_count": 17,
   "metadata": {},
   "outputs": [
    {
     "name": "stdout",
     "output_type": "stream",
     "text": [
      "Patent data has chars 23832\n",
      "Patent data has unique chars 16419\n"
     ]
    }
   ],
   "source": [
    "chars = list(set(patent)) \n",
    "data_size, vocab_size = len(patent), len(chars)\n",
    "print (\"Patent data has chars\", data_size)\n",
    "print (\"Patent data has unique chars\", vocab_size)"
   ]
  },
  {
   "cell_type": "markdown",
   "metadata": {},
   "source": [
    "**We do not have have a higher difference in unique words and total chars. That's why we need abstract or atleast full title**"
   ]
  },
  {
   "cell_type": "markdown",
   "metadata": {},
   "source": [
    "### Creating a dataframe for data exploring\n"
   ]
  },
  {
   "cell_type": "code",
   "execution_count": 18,
   "metadata": {},
   "outputs": [],
   "source": [
    "data_text = assignments[['appln_title']]"
   ]
  },
  {
   "cell_type": "code",
   "execution_count": 19,
   "metadata": {},
   "outputs": [
    {
     "data": {
      "text/plain": [
       "pandas.core.frame.DataFrame"
      ]
     },
     "execution_count": 19,
     "metadata": {},
     "output_type": "execute_result"
    }
   ],
   "source": [
    "type(data_text)"
   ]
  },
  {
   "cell_type": "code",
   "execution_count": 20,
   "metadata": {},
   "outputs": [
    {
     "data": {
      "text/html": [
       "<div>\n",
       "<style scoped>\n",
       "    .dataframe tbody tr th:only-of-type {\n",
       "        vertical-align: middle;\n",
       "    }\n",
       "\n",
       "    .dataframe tbody tr th {\n",
       "        vertical-align: top;\n",
       "    }\n",
       "\n",
       "    .dataframe thead th {\n",
       "        text-align: right;\n",
       "    }\n",
       "</style>\n",
       "<table border=\"1\" class=\"dataframe\">\n",
       "  <thead>\n",
       "    <tr style=\"text-align: right;\">\n",
       "      <th></th>\n",
       "      <th>appln_title</th>\n",
       "    </tr>\n",
       "  </thead>\n",
       "  <tbody>\n",
       "    <tr>\n",
       "      <th>0</th>\n",
       "      <td>ELEKTRISCHES ENERGIESYSTEM</td>\n",
       "    </tr>\n",
       "    <tr>\n",
       "      <th>1</th>\n",
       "      <td>ELEKTRISCHES ENERGIESYSTEM</td>\n",
       "    </tr>\n",
       "    <tr>\n",
       "      <th>2</th>\n",
       "      <td>ELECTRICAL ENERGY SYSTEM</td>\n",
       "    </tr>\n",
       "    <tr>\n",
       "      <th>3</th>\n",
       "      <td>ELECTRICAL ENERGY SYSTEM</td>\n",
       "    </tr>\n",
       "    <tr>\n",
       "      <th>4</th>\n",
       "      <td>Electrical energy system</td>\n",
       "    </tr>\n",
       "  </tbody>\n",
       "</table>\n",
       "</div>"
      ],
      "text/plain": [
       "                  appln_title\n",
       "0  ELEKTRISCHES ENERGIESYSTEM\n",
       "1  ELEKTRISCHES ENERGIESYSTEM\n",
       "2    ELECTRICAL ENERGY SYSTEM\n",
       "3    ELECTRICAL ENERGY SYSTEM\n",
       "4    Electrical energy system"
      ]
     },
     "execution_count": 20,
     "metadata": {},
     "output_type": "execute_result"
    }
   ],
   "source": [
    "data_text[:5]"
   ]
  },
  {
   "cell_type": "code",
   "execution_count": 21,
   "metadata": {},
   "outputs": [],
   "source": [
    "data_text['index'] = data_text.index\n",
    "documents = data_text"
   ]
  },
  {
   "cell_type": "code",
   "execution_count": 22,
   "metadata": {},
   "outputs": [
    {
     "data": {
      "text/html": [
       "<div>\n",
       "<style scoped>\n",
       "    .dataframe tbody tr th:only-of-type {\n",
       "        vertical-align: middle;\n",
       "    }\n",
       "\n",
       "    .dataframe tbody tr th {\n",
       "        vertical-align: top;\n",
       "    }\n",
       "\n",
       "    .dataframe thead th {\n",
       "        text-align: right;\n",
       "    }\n",
       "</style>\n",
       "<table border=\"1\" class=\"dataframe\">\n",
       "  <thead>\n",
       "    <tr style=\"text-align: right;\">\n",
       "      <th></th>\n",
       "      <th>appln_title</th>\n",
       "      <th>index</th>\n",
       "    </tr>\n",
       "  </thead>\n",
       "  <tbody>\n",
       "    <tr>\n",
       "      <th>0</th>\n",
       "      <td>ELEKTRISCHES ENERGIESYSTEM</td>\n",
       "      <td>0</td>\n",
       "    </tr>\n",
       "    <tr>\n",
       "      <th>1</th>\n",
       "      <td>ELEKTRISCHES ENERGIESYSTEM</td>\n",
       "      <td>1</td>\n",
       "    </tr>\n",
       "    <tr>\n",
       "      <th>2</th>\n",
       "      <td>ELECTRICAL ENERGY SYSTEM</td>\n",
       "      <td>2</td>\n",
       "    </tr>\n",
       "    <tr>\n",
       "      <th>3</th>\n",
       "      <td>ELECTRICAL ENERGY SYSTEM</td>\n",
       "      <td>3</td>\n",
       "    </tr>\n",
       "    <tr>\n",
       "      <th>4</th>\n",
       "      <td>Electrical energy system</td>\n",
       "      <td>4</td>\n",
       "    </tr>\n",
       "  </tbody>\n",
       "</table>\n",
       "</div>"
      ],
      "text/plain": [
       "                  appln_title  index\n",
       "0  ELEKTRISCHES ENERGIESYSTEM      0\n",
       "1  ELEKTRISCHES ENERGIESYSTEM      1\n",
       "2    ELECTRICAL ENERGY SYSTEM      2\n",
       "3    ELECTRICAL ENERGY SYSTEM      3\n",
       "4    Electrical energy system      4"
      ]
     },
     "execution_count": 22,
     "metadata": {},
     "output_type": "execute_result"
    }
   ],
   "source": [
    "documents.head()"
   ]
  },
  {
   "cell_type": "code",
   "execution_count": 23,
   "metadata": {},
   "outputs": [
    {
     "name": "stdout",
     "output_type": "stream",
     "text": [
      "23832\n"
     ]
    }
   ],
   "source": [
    "print(len(documents))"
   ]
  },
  {
   "cell_type": "code",
   "execution_count": 24,
   "metadata": {},
   "outputs": [],
   "source": [
    "import warnings\n",
    "warnings.filterwarnings(action='ignore', category=UserWarning, module='gensim')\n",
    "\n",
    "import nltk\n",
    "import gensim"
   ]
  },
  {
   "cell_type": "code",
   "execution_count": 25,
   "metadata": {},
   "outputs": [
    {
     "data": {
      "image/png": "[encoded data removed]",
      "text/plain": [
       "<Figure size 1440x1440 with 1 Axes>"
      ]
     },
     "metadata": {},
     "output_type": "display_data"
    }
   ],
   "source": [
    "from wordcloud import WordCloud, STOPWORDS\n",
    "stopwords=set(STOPWORDS)\n",
    "\n",
    "def Mywordcloud (data, title=None):\n",
    "    wordcloud=WordCloud(\n",
    "    background_color='white',\n",
    "    stopwords=stopwords,\n",
    "    max_words= 100 ,\n",
    "    max_font_size=40 ,\n",
    "    scale=3,\n",
    "    random_state=1\n",
    "    ).generate(str(data))\n",
    "    \n",
    "    fig=plt.figure(1 , figsize(20, 20))\n",
    "    plt.axis('off')\n",
    "    if title:\n",
    "        fig.suptitle(title, fontsize=20)\n",
    "        fig.subplots_adjust(top=2.3)\n",
    "    \n",
    "    plt.imshow(wordcloud)\n",
    "    plt.show()\n",
    "Mywordcloud(documents['appln_title'].dropna())"
   ]
  },
  {
   "cell_type": "markdown",
   "metadata": {},
   "source": [
    "# 3) Cleaning and Preprocessing"
   ]
  },
  {
   "cell_type": "code",
   "execution_count": 26,
   "metadata": {},
   "outputs": [],
   "source": [
    "import warnings\n",
    "warnings.filterwarnings(action='ignore', category=UserWarning, module='gensim')\n",
    "\n",
    "import nltk\n",
    "import gensim"
   ]
  },
  {
   "cell_type": "markdown",
   "metadata": {},
   "source": [
    "### 3.1 tokenize\n",
    "The first thing we have to do is **tokenize** our words. A naive way to do this would be to split our string based on spaces (e.g. str.split(\" \")), which is sometimes OK but has many edge cases (alternative punctuation marks like —, for example) and will fail to work as expected for larger problems.\n",
    "\n",
    "nltk comes with a built-in word tokenizer that we can take advantage of."
   ]
  },
  {
   "cell_type": "code",
   "execution_count": 27,
   "metadata": {},
   "outputs": [],
   "source": [
    "titles = assignments['appln_title'] "
   ]
  },
  {
   "cell_type": "code",
   "execution_count": 28,
   "metadata": {},
   "outputs": [
    {
     "data": {
      "text/plain": [
       "pandas.core.series.Series"
      ]
     },
     "execution_count": 28,
     "metadata": {},
     "output_type": "execute_result"
    }
   ],
   "source": [
    "type(titles)"
   ]
  },
  {
   "cell_type": "code",
   "execution_count": 29,
   "metadata": {},
   "outputs": [
    {
     "name": "stdout",
     "output_type": "stream",
     "text": [
      "[nltk_data] Downloading package punkt to\n",
      "[nltk_data]     C:\\Users\\Hassan\\AppData\\Roaming\\nltk_data...\n",
      "[nltk_data]   Package punkt is already up-to-date!\n"
     ]
    },
    {
     "data": {
      "text/plain": [
       "True"
      ]
     },
     "execution_count": 29,
     "metadata": {},
     "output_type": "execute_result"
    }
   ],
   "source": [
    "nltk.download('punkt')"
   ]
  },
  {
   "cell_type": "code",
   "execution_count": 30,
   "metadata": {},
   "outputs": [],
   "source": [
    "title_tokens = [nltk.word_tokenize(title) for title in\\\n",
    "                    np.concatenate(titles.map(str).map(str.title).map(lambda s: s.split(\"|\")))]"
   ]
  },
  {
   "cell_type": "code",
   "execution_count": 31,
   "metadata": {},
   "outputs": [],
   "source": [
    "#Keeping token >1\n",
    "title_tokens = [title for title in title_tokens if len(title_tokens) > 1]"
   ]
  },
  {
   "cell_type": "code",
   "execution_count": 32,
   "metadata": {},
   "outputs": [
    {
     "data": {
      "text/plain": [
       "23832"
      ]
     },
     "execution_count": 32,
     "metadata": {},
     "output_type": "execute_result"
    }
   ],
   "source": [
    "len(title_tokens)"
   ]
  },
  {
   "cell_type": "code",
   "execution_count": 33,
   "metadata": {},
   "outputs": [
    {
     "data": {
      "text/plain": [
       "[['Elektrisches', 'Energiesystem'],\n",
       " ['Elektrisches', 'Energiesystem'],\n",
       " ['Electrical', 'Energy', 'System']]"
      ]
     },
     "execution_count": 33,
     "metadata": {},
     "output_type": "execute_result"
    }
   ],
   "source": [
    "title_tokens[:3]"
   ]
  },
  {
   "cell_type": "code",
   "execution_count": 34,
   "metadata": {},
   "outputs": [
    {
     "name": "stdout",
     "output_type": "stream",
     "text": [
      "['Battery', 'Charge', 'Controller', 'For', 'Electric', 'Vehicle']\n"
     ]
    }
   ],
   "source": [
    "print(title_tokens[500])"
   ]
  },
  {
   "cell_type": "markdown",
   "metadata": {},
   "source": [
    "### 3.2) stem\n",
    "Next, we will stem our words. Stemming is a procedure in natural language processing where we chop off everything except for the root of a word. So for example, the words go, going, and gone will all map to the same root—go.\n",
    "This is a good thing to do, particularly given the small size of our documents, because it increases the accuracy of classifications—more things end up being the same.\n",
    "nltk comes with several stemmers installed, we'll use the PorterStemmer"
   ]
  },
  {
   "cell_type": "code",
   "execution_count": 35,
   "metadata": {},
   "outputs": [],
   "source": [
    "stemmer = nltk.stem.PorterStemmer()\n",
    "titles_stemmed = [[stemmer.stem(token) for token in tokens] for tokens in title_tokens]"
   ]
  },
  {
   "cell_type": "code",
   "execution_count": 36,
   "metadata": {},
   "outputs": [
    {
     "data": {
      "text/plain": [
       "[['elektrisch', 'energiesystem'],\n",
       " ['elektrisch', 'energiesystem'],\n",
       " ['electr', 'energi', 'system']]"
      ]
     },
     "execution_count": 36,
     "metadata": {},
     "output_type": "execute_result"
    }
   ],
   "source": [
    "titles_stemmed[:3]"
   ]
  },
  {
   "cell_type": "code",
   "execution_count": 37,
   "metadata": {},
   "outputs": [
    {
     "name": "stdout",
     "output_type": "stream",
     "text": [
      "['batteri', 'charg', 'control', 'for', 'electr', 'vehicl']\n"
     ]
    }
   ],
   "source": [
    "print(titles_stemmed[500])"
   ]
  },
  {
   "cell_type": "markdown",
   "metadata": {},
   "source": [
    "If we examine a list of words, we see that the most common English-language words dominate"
   ]
  },
  {
   "cell_type": "code",
   "execution_count": 38,
   "metadata": {},
   "outputs": [
    {
     "name": "stdout",
     "output_type": "stream",
     "text": [
      "electr                                                           17946\n",
      "vehicl                                                           15697\n",
      "for                                                              10774\n",
      "and                                                               8723\n",
      "system                                                            6838\n",
      "control                                                           6368\n",
      "method                                                            6109\n",
      "Of                                                                5967\n",
      "charg                                                             4934\n",
      "devic                                                             4381\n",
      "power                                                             3953\n",
      ",                                                                 3799\n",
      "batteri                                                           3610\n",
      "hybrid                                                            3094\n",
      "A                                                                 2661\n",
      "apparatu                                                          2045\n",
      "automobil                                                         1888\n",
      "An                                                                1646\n",
      "drive                                                             1614\n",
      "motor                                                             1584\n",
      "In                                                                1434\n",
      "with                                                              1244\n",
      "the                                                               1208\n",
      "suppli                                                            1139\n",
      "energi                                                            1113\n",
      "De                                                                1030\n",
      "car                                                               1027\n",
      "manag                                                              904\n",
      "To                                                                 796\n",
      "same                                                               772\n",
      "                                                                 ...  \n",
      "電気自動車充電ステーション用コネクタのためのドッキングステーション                                    1\n",
      "conversor                                                            1\n",
      "express                                                              1\n",
      "電気車両のための駆動回路、及びコンタクタコイルと電圧駆動部との間に接地電圧への短絡回路が現れたことを決定するための診断方法        1\n",
      "converterless                                                        1\n",
      "fahrzeugladeschaltkreisen                                            1\n",
      "leistungsrelai                                                       1\n",
      "reli                                                                 1\n",
      "barra                                                                1\n",
      "charger-invert                                                       1\n",
      "zocalo                                                               1\n",
      "emc                                                                  1\n",
      "analog                                                               1\n",
      "regenerativt                                                         1\n",
      "downhol                                                              1\n",
      "verriegelungsvorrichtung                                             1\n",
      "queri                                                                1\n",
      "fixe                                                                 1\n",
      "bundl                                                                1\n",
      "vibrationsverringerungsregelung                                      1\n",
      "traction-typ                                                         1\n",
      "fahrzeug-zu-netzregelung                                             1\n",
      "batterieladestel                                                     1\n",
      "one-ped                                                              1\n",
      "multi-convertisseur                                                  1\n",
      "ziehen                                                               1\n",
      "車両の電源システムおよびそれを備える電動車両                                               1\n",
      "spenningsforskjel                                                    1\n",
      "heurist                                                              1\n",
      "takmontert                                                           1\n",
      "Length: 7226, dtype: int64\n"
     ]
    }
   ],
   "source": [
    "print(pd.Series(np.concatenate(titles_stemmed)).value_counts())"
   ]
  },
  {
   "cell_type": "markdown",
   "metadata": {},
   "source": [
    "These words carry no meaning and aren't very interesting.For example, we can see \",\" has occurance of 3799. \n",
    "They're known as stopwords in NLP, and we're going to once again use nltk builtins to remove them from consideration."
   ]
  },
  {
   "cell_type": "markdown",
   "metadata": {},
   "source": [
    "### 3.3) stopwords"
   ]
  },
  {
   "cell_type": "code",
   "execution_count": 39,
   "metadata": {},
   "outputs": [
    {
     "name": "stdout",
     "output_type": "stream",
     "text": [
      "[nltk_data] Downloading package stopwords to\n",
      "[nltk_data]     C:\\Users\\Hassan\\AppData\\Roaming\\nltk_data...\n",
      "[nltk_data]   Package stopwords is already up-to-date!\n"
     ]
    },
    {
     "data": {
      "text/plain": [
       "True"
      ]
     },
     "execution_count": 39,
     "metadata": {},
     "output_type": "execute_result"
    }
   ],
   "source": [
    "nltk.download(\"stopwords\")"
   ]
  },
  {
   "cell_type": "code",
   "execution_count": 40,
   "metadata": {},
   "outputs": [],
   "source": [
    "from nltk.corpus import stopwords\n",
    "english_stopwords = set([word.title() for word in stopwords.words(\"english\")])"
   ]
  },
  {
   "cell_type": "code",
   "execution_count": 41,
   "metadata": {},
   "outputs": [],
   "source": [
    "stemmed_title_words = [[word for word in title if word not in english_stopwords] for title in titles_stemmed]"
   ]
  },
  {
   "cell_type": "code",
   "execution_count": 42,
   "metadata": {},
   "outputs": [
    {
     "data": {
      "text/plain": [
       "[['elektrisch', 'energiesystem'],\n",
       " ['elektrisch', 'energiesystem'],\n",
       " ['electr', 'energi', 'system']]"
      ]
     },
     "execution_count": 42,
     "metadata": {},
     "output_type": "execute_result"
    }
   ],
   "source": [
    "stemmed_title_words[:3]"
   ]
  },
  {
   "cell_type": "code",
   "execution_count": 43,
   "metadata": {},
   "outputs": [
    {
     "name": "stdout",
     "output_type": "stream",
     "text": [
      "['batteri', 'charg', 'control', 'for', 'electr', 'vehicl']\n"
     ]
    }
   ],
   "source": [
    "print(stemmed_title_words[500])"
   ]
  },
  {
   "cell_type": "code",
   "execution_count": 44,
   "metadata": {},
   "outputs": [],
   "source": [
    "word_counts = pd.Series(np.concatenate(stemmed_title_words)).value_counts()\n",
    "singular_words = set(word_counts[pd.Series(np.concatenate(stemmed_title_words)).value_counts() == 1].index)"
   ]
  },
  {
   "cell_type": "code",
   "execution_count": 45,
   "metadata": {},
   "outputs": [],
   "source": [
    "stemmed_title_common_words = [[word for word in title if word not in singular_words] for title in stemmed_title_words]"
   ]
  },
  {
   "cell_type": "code",
   "execution_count": 46,
   "metadata": {},
   "outputs": [
    {
     "data": {
      "text/plain": [
       "[['elektrisch', 'energiesystem'],\n",
       " ['elektrisch', 'energiesystem'],\n",
       " ['electr', 'energi', 'system'],\n",
       " ['electr', 'energi', 'system'],\n",
       " ['electr', 'energi', 'system']]"
      ]
     },
     "execution_count": 46,
     "metadata": {},
     "output_type": "execute_result"
    }
   ],
   "source": [
    "stemmed_title_common_words[:5]"
   ]
  },
  {
   "cell_type": "markdown",
   "metadata": {},
   "source": [
    "Next, let's consider the opposite problem: words that occur to infrequently to be useful. Words that only ever appear once, for example, don't carry any information. Remember, we're going to split all of our patent titles into some small number of classes; just as in any other dataset, a data point which is only populated once isn't interesting, and can be safely dropped.\n",
    "\n",
    "In fact, we could probably drop a lot of words from consideration, not just ones appearing once but ones appearing tens or even hundreds of times. This would speed up our algorithms and won't significantly impact our results.\n",
    "\n",
    "After a certain point words do start to matter, however; figuring out where that point is is up to you.\n",
    "\n",
    "In our case we'll just be lazy and cut off at words that appear only once, and leave words appearing twice or more intact."
   ]
  },
  {
   "cell_type": "code",
   "execution_count": 47,
   "metadata": {},
   "outputs": [],
   "source": [
    "non_empty_indices = [i for i in range(len(stemmed_title_common_words)) if len(stemmed_title_common_words[i]) > 0]"
   ]
  },
  {
   "cell_type": "code",
   "execution_count": 48,
   "metadata": {},
   "outputs": [
    {
     "data": {
      "text/plain": [
       "5007"
      ]
     },
     "execution_count": 48,
     "metadata": {},
     "output_type": "execute_result"
    }
   ],
   "source": [
    "non_empty_indices[5000]"
   ]
  },
  {
   "cell_type": "markdown",
   "metadata": {},
   "source": [
    "Notice that discarding words from our set has resulted in a handful of empty titles. Apparently a few patents have nothing but unique words!"
   ]
  },
  {
   "cell_type": "code",
   "execution_count": 49,
   "metadata": {},
   "outputs": [],
   "source": [
    "stemmed_title_common_words_nonnull = np.asarray(stemmed_title_common_words)[non_empty_indices]"
   ]
  },
  {
   "cell_type": "code",
   "execution_count": 50,
   "metadata": {},
   "outputs": [],
   "source": [
    "classifiable_titles = np.asarray(title_tokens)[non_empty_indices]"
   ]
  },
  {
   "cell_type": "code",
   "execution_count": 51,
   "metadata": {},
   "outputs": [
    {
     "data": {
      "text/plain": [
       "array([list(['Elektrisches', 'Energiesystem']),\n",
       "       list(['Elektrisches', 'Energiesystem']),\n",
       "       list(['Electrical', 'Energy', 'System']),\n",
       "       list(['Electrical', 'Energy', 'System']),\n",
       "       list(['Electrical', 'Energy', 'System'])], dtype=object)"
      ]
     },
     "execution_count": 51,
     "metadata": {},
     "output_type": "execute_result"
    }
   ],
   "source": [
    "classifiable_titles[:5]"
   ]
  },
  {
   "cell_type": "markdown",
   "metadata": {},
   "source": [
    "With our titles adequately processed, now we switch over to gensim. The first thing we have to do is build a dictionary of words, which associates each word [stem] with a particular index number:"
   ]
  },
  {
   "cell_type": "markdown",
   "metadata": {},
   "source": [
    "# 4) Bag of words"
   ]
  },
  {
   "cell_type": "code",
   "execution_count": 52,
   "metadata": {},
   "outputs": [],
   "source": [
    "dictionary = gensim.corpora.Dictionary(stemmed_title_common_words_nonnull)"
   ]
  },
  {
   "cell_type": "code",
   "execution_count": 53,
   "metadata": {},
   "outputs": [
    {
     "data": {
      "text/plain": [
       "'{\\'elektrisch\\': 0, \\'energiesystem\\': 1, \\'electr\\': 2, \\'energi\\': 3, \\'system\\': 4, \\'batteriebetrieben\\': 5, \\'fahrzeug\\': 6, \\'für\\': 7, \\'regelschaltung\\': 8, \\'battery-oper\\': 9, \\'circuit\\': 10, \\'for\\': 11, \\'regul\\': 12, \\'vehicl\\': 13, \\'.\\': 14, \\'batteri\\': 15, \"d\\'accumulateur\": 16, \\'dispositif\\': 17, \\'par\\': 18, \\'pour\\': 19, \\'une\\': 20, \\'véhicul\\': 21, \\'antriebseinheit\\': 22, \\'ein\\': 23, \\'elektromobil\\': 24, \\'drive\\': 25, \\'liquid-cool\\': 26, \\'unit\\': 27, \"d\\'entraîn\": 28, \\'ensembl\\': 29, \\'électromobil\\': 30, \\'motor\\': 31, \\'elektrofahrzeug\\': 32, \\'battery-driven\\': 33, \\'control\\': 34, \\'(\\': 35, \\')\\': 36, \\'n/a\\': 37, \\'ladevorrichtung\\': 38, \\'charg\\': 39, \\'driven\\': 40, \\'De\\': 41, \\'Un\\': 42, \\'vehicul\\': 43, \\'and\\': 44, \\'brushless\\': 45, \\'high\\': 46, \\'perform\\': 47, \\'ansteuerung\\': 48, \\'bürstenlos\\': 49, \\'elektrofahrzeugmotorisierung\\': 50, \\'hochleistungsmotor\\': 51, \\'und\\': 52, \\'convert\\': 53, \\'power\\': 54, \\'traction\\': 55, \\'type\\': 56, \\'-\\': 57, \\'extend\\': 58, \\'life\\': 59, \\'oper\\': 60, \\'optimis\\': 61, \\'temp\\': 62, \\'use\\': 63, \\'work\\': 64, \\'apparatu\\': 6'"
      ]
     },
     "execution_count": 53,
     "metadata": {},
     "output_type": "execute_result"
    }
   ],
   "source": [
    "str(dictionary.token2id)[:1000]"
   ]
  },
  {
   "cell_type": "markdown",
   "metadata": {},
   "source": [
    "Why are we doing this? Because shortly we're going to throw our corpus into a tf-idf algorithm. TF-IDF is an algorithm in information retrieval which converts a list of word \"vectors\" to a scaled Euclidian normal vector. It turns a count of the number of each word in our document into a unit vector in N-dimensional space, where N is, believe it or not, the number of individual words that we have in our dictionary (above).\n",
    "\n",
    "That means that, in this case, we have a \"dataset\" matrix with hundreds of thousands of columns in it!\n",
    "The beauty of TD-IDF is that it scales the words according to how frequent or rare they are. Words that appear a lot in your text but also appear a lot in the rest of the corpus are weighed less heavily than words that appear a lot in your text but more rarely outside of it.\n",
    "\n",
    "Thus we first use gensim to convert our words to word incidence vectors..."
   ]
  },
  {
   "cell_type": "code",
   "execution_count": 54,
   "metadata": {},
   "outputs": [],
   "source": [
    "corpus = [dictionary.doc2bow(text) for text in stemmed_title_common_words_nonnull]"
   ]
  },
  {
   "cell_type": "code",
   "execution_count": 55,
   "metadata": {},
   "outputs": [
    {
     "data": {
      "text/plain": [
       "(['elektrisch', 'energiesystem'], [(0, 1), (1, 1)])"
      ]
     },
     "execution_count": 55,
     "metadata": {},
     "output_type": "execute_result"
    }
   ],
   "source": [
    "stemmed_title_common_words_nonnull[0], corpus[0]"
   ]
  },
  {
   "cell_type": "code",
   "execution_count": 56,
   "metadata": {},
   "outputs": [
    {
     "name": "stdout",
     "output_type": "stream",
     "text": [
      "['electr', 'energi', 'system'] [(2, 1), (3, 1), (4, 1)]\n"
     ]
    }
   ],
   "source": [
    "print(stemmed_title_common_words_nonnull[2], corpus[2])"
   ]
  },
  {
   "cell_type": "code",
   "execution_count": 57,
   "metadata": {},
   "outputs": [
    {
     "name": "stdout",
     "output_type": "stream",
     "text": [
      "['drive', 'devic', 'for', 'electr', 'motorcar'] [(2, 1), (11, 1), (25, 1), (72, 1), (245, 1)]\n"
     ]
    }
   ],
   "source": [
    "print(stemmed_title_common_words_nonnull[100], corpus[100])"
   ]
  },
  {
   "cell_type": "markdown",
   "metadata": {},
   "source": [
    "run TfidfModel from gensim on them to turn them into our word vectors!"
   ]
  },
  {
   "cell_type": "markdown",
   "metadata": {},
   "source": [
    "# 5) Tfidf Model"
   ]
  },
  {
   "cell_type": "code",
   "execution_count": 58,
   "metadata": {},
   "outputs": [],
   "source": [
    "from gensim.models import TfidfModel\n",
    "tfidf = TfidfModel(corpus)"
   ]
  },
  {
   "cell_type": "code",
   "execution_count": 59,
   "metadata": {},
   "outputs": [
    {
     "data": {
      "text/plain": [
       "(['elektrisch', 'energiesystem'],\n",
       " [(0, 1), (1, 1)],\n",
       " [(0, 0.4264195246232712), (1, 0.9045255049030201)])"
      ]
     },
     "execution_count": 59,
     "metadata": {},
     "output_type": "execute_result"
    }
   ],
   "source": [
    "stemmed_title_common_words_nonnull[0], corpus[0], tfidf[corpus[0]]"
   ]
  },
  {
   "cell_type": "code",
   "execution_count": 60,
   "metadata": {},
   "outputs": [
    {
     "name": "stdout",
     "output_type": "stream",
     "text": [
      "['electr', 'energi', 'system'] [(2, 1), (3, 1), (4, 1)] [(2, 0.11489137452816378), (3, 0.9199760521533868), (4, 0.3747586363558524)]\n"
     ]
    }
   ],
   "source": [
    "print(stemmed_title_common_words_nonnull[2], corpus[2], tfidf[corpus[2]])"
   ]
  },
  {
   "cell_type": "markdown",
   "metadata": {},
   "source": [
    "With our words suitibly datified, we can now move on to fitting a model. Since our words are now, effectively, a very large dataset, it's possible to use any general purpose classifier to fit it. For example,We could use a scipy KMeans clustering algorithm to arrive at its topics.\n",
    "\n",
    "We'll instead use a model specifically adapted to natural language processing from the gensim built-ins, LsiModel"
   ]
  },
  {
   "cell_type": "markdown",
   "metadata": {},
   "source": [
    "# 6) LSI Model"
   ]
  },
  {
   "cell_type": "code",
   "execution_count": 61,
   "metadata": {},
   "outputs": [],
   "source": [
    "from gensim.models import LsiModel"
   ]
  },
  {
   "cell_type": "code",
   "execution_count": 63,
   "metadata": {},
   "outputs": [],
   "source": [
    "corpus_tfidf = tfidf[corpus]\n",
    "lsi_tfidf = LsiModel(tfidf[corpus], id2word=dictionary, num_topics=10)\n",
    "corpus_lsi = lsi_tfidf[corpus_tfidf]"
   ]
  },
  {
   "cell_type": "markdown",
   "metadata": {},
   "source": [
    "Here's a printout of what words are important to our various topics. Notice that certain extremely common words, like semiconductor, appear in different positions in multiple classifiers. Also, note that this display is cut off at a certain number of displayed words; in reality the model considers far more than these (you can specify how many to display here, however, using the num_words parameter)."
   ]
  },
  {
   "cell_type": "code",
   "execution_count": 64,
   "metadata": {},
   "outputs": [
    {
     "data": {
      "text/plain": [
       "[(0,\n",
       "  '0.440*\"vehicl\" + 0.413*\"control\" + 0.350*\"electr\" + 0.251*\"devic\" + 0.251*\"for\" + 0.232*\"charg\" + 0.230*\"system\" + 0.224*\"method\" + 0.217*\"hybrid\" + 0.212*\"and\"'),\n",
       " (1,\n",
       "  '-0.655*\"vehicl\" + -0.491*\"electr\" + 0.237*\"control\" + 0.188*\"devic\" + 0.185*\"method\" + 0.177*\"charg\" + 0.174*\"and\" + 0.139*\",\" + 0.137*\"power\" + 0.131*\"system\"'),\n",
       " (2,\n",
       "  '-0.515*\"control\" + 0.508*\"charg\" + -0.411*\"hybrid\" + 0.279*\"system\" + 0.241*\"batteri\" + 0.178*\"power\" + 0.154*\",\" + -0.137*\"devic\" + 0.118*\"suppli\" + 0.116*\"station\"'),\n",
       " (3,\n",
       "  '-0.570*\"power\" + -0.432*\"suppli\" + 0.371*\"charg\" + -0.361*\"devic\" + 0.293*\"hybrid\" + 0.185*\"method\" + 0.156*\"apparatu\" + -0.111*\"automobil\" + -0.106*\",\" + 0.095*\"batteri\"'),\n",
       " (4,\n",
       "  '-0.551*\"devic\" + 0.474*\"hybrid\" + -0.342*\"charg\" + 0.326*\"power\" + 0.243*\"system\" + -0.237*\"control\" + 0.199*\"suppli\" + 0.128*\"manag\" + 0.123*\"method\" + 0.101*\"and\"'),\n",
       " (5,\n",
       "  '0.689*\"drive\" + 0.425*\"automobil\" + 0.239*\"motor\" + -0.216*\"control\" + -0.215*\"apparatu\" + 0.187*\"system\" + -0.165*\"power\" + -0.145*\"suppli\" + -0.142*\"method\" + -0.113*\",\"'),\n",
       " (6,\n",
       "  '-0.548*\"apparatu\" + 0.481*\"hybrid\" + -0.357*\"drive\" + -0.321*\"motor\" + 0.270*\"devic\" + 0.191*\"automobil\" + 0.166*\"charg\" + -0.131*\",\" + -0.108*\"control\" + -0.104*\"and\"'),\n",
       " (7,\n",
       "  '0.651*\"automobil\" + -0.395*\"drive\" + 0.320*\"control\" + -0.297*\"devic\" + -0.234*\"hybrid\" + 0.199*\"batteri\" + -0.196*\",\" + -0.172*\"charg\" + 0.074*\"electr\" + 0.066*\"structur\"'),\n",
       " (8,\n",
       "  '0.589*\"batteri\" + 0.442*\",\" + -0.297*\"charg\" + -0.278*\"system\" + 0.211*\"devic\" + 0.184*\"pack\" + -0.180*\"suppli\" + -0.152*\"control\" + -0.149*\"power\" + -0.139*\"drive\"'),\n",
       " (9,\n",
       "  '-0.624*\"apparatu\" + 0.351*\"system\" + -0.251*\"hybrid\" + 0.238*\",\" + -0.232*\"automobil\" + 0.206*\"method\" + 0.201*\"control\" + 0.189*\"motor\" + 0.177*\"and\" + -0.157*\"charg\"')]"
      ]
     },
     "execution_count": 64,
     "metadata": {},
     "output_type": "execute_result"
    }
   ],
   "source": [
    "lsi_tfidf.print_topics(10)"
   ]
  },
  {
   "cell_type": "markdown",
   "metadata": {},
   "source": [
    "### Running with bag of words corpus"
   ]
  },
  {
   "cell_type": "code",
   "execution_count": 65,
   "metadata": {},
   "outputs": [],
   "source": [
    "lsi_bow = LsiModel(corpus, id2word=dictionary, num_topics=10)\n",
    "corpus_lsi_bow = lsi_bow[corpus]"
   ]
  },
  {
   "cell_type": "code",
   "execution_count": 66,
   "metadata": {},
   "outputs": [
    {
     "data": {
      "text/plain": [
       "[(0,\n",
       "  '0.550*\"electr\" + 0.489*\"vehicl\" + 0.348*\"for\" + 0.306*\"and\" + 0.208*\"method\" + 0.204*\"system\" + 0.195*\"control\" + 0.166*\",\" + 0.146*\"charg\" + 0.125*\"devic\"'),\n",
       " (1,\n",
       "  '0.624*\",\" + 0.413*\"and\" + -0.341*\"electr\" + -0.329*\"vehicl\" + 0.229*\"method\" + 0.199*\"system\" + 0.165*\"power\" + 0.141*\"batteri\" + -0.127*\"for\" + 0.122*\"devic\"'),\n",
       " (2,\n",
       "  '0.449*\",\" + 0.427*\"electr\" + -0.409*\"for\" + -0.401*\"method\" + -0.295*\"control\" + -0.286*\"and\" + 0.192*\"power\" + -0.138*\"hybrid\" + 0.119*\"batteri\" + 0.091*\"vehicl\"'),\n",
       " (3,\n",
       "  '0.622*\"control\" + -0.462*\"charg\" + -0.335*\"for\" + -0.318*\"system\" + -0.181*\"batteri\" + 0.181*\",\" + 0.180*\"hybrid\" + 0.164*\"vehicl\" + 0.139*\"devic\" + 0.084*\"method\"'),\n",
       " (4,\n",
       "  '0.575*\"system\" + -0.418*\"for\" + -0.416*\"devic\" + -0.278*\"charg\" + -0.271*\",\" + 0.244*\"and\" + 0.203*\"power\" + -0.137*\"batteri\" + 0.113*\"electr\" + 0.088*\"method\"'),\n",
       " (5,\n",
       "  '-0.542*\"charg\" + 0.536*\"for\" + 0.466*\"power\" + -0.215*\"vehicl\" + -0.213*\"and\" + 0.168*\"system\" + 0.136*\"suppli\" + -0.128*\"method\" + 0.101*\"devic\" + -0.080*\"electr\"'),\n",
       " (6,\n",
       "  '0.504*\"vehicl\" + -0.362*\"devic\" + -0.329*\"electr\" + -0.314*\"automobil\" + -0.311*\"control\" + -0.274*\"charg\" + 0.251*\",\" + 0.233*\"batteri\" + -0.188*\"power\" + 0.169*\"hybrid\"'),\n",
       " (7,\n",
       "  '0.485*\"system\" + 0.473*\"control\" + -0.447*\"and\" + 0.342*\"charg\" + 0.271*\"De\" + -0.192*\"electr\" + -0.187*\"method\" + 0.099*\"vehicl\" + 0.083*\",\" + -0.076*\"the\"'),\n",
       " (8,\n",
       "  '-0.493*\"power\" + 0.391*\"batteri\" + -0.389*\"vehicl\" + -0.333*\"devic\" + 0.314*\"electr\" + 0.229*\"automobil\" + -0.222*\"charg\" + 0.177*\"De\" + -0.148*\"suppli\" + 0.143*\"control\"'),\n",
       " (9,\n",
       "  '-0.822*\"De\" + 0.325*\"batteri\" + 0.196*\"control\" + -0.180*\"para\" + -0.113*\"and\" + 0.109*\"system\" + -0.096*\"power\" + -0.095*\"carga\" + -0.092*\"Un\" + -0.079*\"veículo\"')]"
      ]
     },
     "execution_count": 66,
     "metadata": {},
     "output_type": "execute_result"
    }
   ],
   "source": [
    "lsi_bow.print_topics(10)"
   ]
  },
  {
   "cell_type": "markdown",
   "metadata": {},
   "source": [
    "# 7) Testing - Classification of the topics"
   ]
  },
  {
   "cell_type": "code",
   "execution_count": 67,
   "metadata": {},
   "outputs": [
    {
     "name": "stdout",
     "output_type": "stream",
     "text": [
      "['Battery', 'Charge', 'Controller', 'For', 'Electric', 'Vehicle']\n"
     ]
    }
   ],
   "source": [
    "print(classifiable_titles[500])"
   ]
  },
  {
   "cell_type": "markdown",
   "metadata": {},
   "source": [
    "### With TFIDF"
   ]
  },
  {
   "cell_type": "code",
   "execution_count": 68,
   "metadata": {},
   "outputs": [
    {
     "name": "stdout",
     "output_type": "stream",
     "text": [
      "\n",
      "Score: 0.564549696864019\t \n",
      "Topic: 0.440*\"vehicl\" + 0.413*\"control\" + 0.350*\"electr\" + 0.251*\"devic\" + 0.251*\"for\" + 0.232*\"charg\" + 0.230*\"system\" + 0.224*\"method\" + 0.217*\"hybrid\" + 0.212*\"and\"\n",
      "\n",
      "Score: 0.26003173147063197\t \n",
      "Topic: -0.570*\"power\" + -0.432*\"suppli\" + 0.371*\"charg\" + -0.361*\"devic\" + 0.293*\"hybrid\" + 0.185*\"method\" + 0.156*\"apparatu\" + -0.111*\"automobil\" + -0.106*\",\" + 0.095*\"batteri\"\n",
      "\n",
      "Score: 0.22216711114767432\t \n",
      "Topic: -0.515*\"control\" + 0.508*\"charg\" + -0.411*\"hybrid\" + 0.279*\"system\" + 0.241*\"batteri\" + 0.178*\"power\" + 0.154*\",\" + -0.137*\"devic\" + 0.118*\"suppli\" + 0.116*\"station\"\n",
      "\n",
      "Score: 0.18223074403634612\t \n",
      "Topic: 0.651*\"automobil\" + -0.395*\"drive\" + 0.320*\"control\" + -0.297*\"devic\" + -0.234*\"hybrid\" + 0.199*\"batteri\" + -0.196*\",\" + -0.172*\"charg\" + 0.074*\"electr\" + 0.066*\"structur\"\n",
      "\n",
      "Score: 0.13337998185930802\t \n",
      "Topic: 0.589*\"batteri\" + 0.442*\",\" + -0.297*\"charg\" + -0.278*\"system\" + 0.211*\"devic\" + 0.184*\"pack\" + -0.180*\"suppli\" + -0.152*\"control\" + -0.149*\"power\" + -0.139*\"drive\"\n",
      "\n",
      "Score: 0.1330252095074743\t \n",
      "Topic: -0.655*\"vehicl\" + -0.491*\"electr\" + 0.237*\"control\" + 0.188*\"devic\" + 0.185*\"method\" + 0.177*\"charg\" + 0.174*\"and\" + 0.139*\",\" + 0.137*\"power\" + 0.131*\"system\"\n",
      "\n",
      "Score: 0.05949849216266741\t \n",
      "Topic: -0.548*\"apparatu\" + 0.481*\"hybrid\" + -0.357*\"drive\" + -0.321*\"motor\" + 0.270*\"devic\" + 0.191*\"automobil\" + 0.166*\"charg\" + -0.131*\",\" + -0.108*\"control\" + -0.104*\"and\"\n",
      "\n",
      "Score: -0.0564054515526273\t \n",
      "Topic: 0.689*\"drive\" + 0.425*\"automobil\" + 0.239*\"motor\" + -0.216*\"control\" + -0.215*\"apparatu\" + 0.187*\"system\" + -0.165*\"power\" + -0.145*\"suppli\" + -0.142*\"method\" + -0.113*\",\"\n",
      "\n",
      "Score: -0.08852811424641045\t \n",
      "Topic: -0.624*\"apparatu\" + 0.351*\"system\" + -0.251*\"hybrid\" + 0.238*\",\" + -0.232*\"automobil\" + 0.206*\"method\" + 0.201*\"control\" + 0.189*\"motor\" + 0.177*\"and\" + -0.157*\"charg\"\n",
      "\n",
      "Score: -0.25715582345413335\t \n",
      "Topic: -0.551*\"devic\" + 0.474*\"hybrid\" + -0.342*\"charg\" + 0.326*\"power\" + 0.243*\"system\" + -0.237*\"control\" + 0.199*\"suppli\" + 0.128*\"manag\" + 0.123*\"method\" + 0.101*\"and\"\n"
     ]
    }
   ],
   "source": [
    "for index, score in sorted(lsi_tfidf[corpus_tfidf[500]], key=lambda tup: -1*tup[1]):\n",
    "    print(\"\\nScore: {}\\t \\nTopic: {}\".format(score, lsi_tfidf.print_topic(index, 10)))"
   ]
  },
  {
   "cell_type": "markdown",
   "metadata": {},
   "source": [
    "### For bag of words"
   ]
  },
  {
   "cell_type": "code",
   "execution_count": 69,
   "metadata": {},
   "outputs": [
    {
     "name": "stdout",
     "output_type": "stream",
     "text": [
      "\n",
      "Score: 1.8313683172232271\t \n",
      "Topic: 0.550*\"electr\" + 0.489*\"vehicl\" + 0.348*\"for\" + 0.306*\"and\" + 0.208*\"method\" + 0.204*\"system\" + 0.195*\"control\" + 0.166*\",\" + 0.146*\"charg\" + 0.125*\"devic\"\n",
      "\n",
      "Score: 0.792687728226142\t \n",
      "Topic: 0.485*\"system\" + 0.473*\"control\" + -0.447*\"and\" + 0.342*\"charg\" + 0.271*\"De\" + -0.192*\"electr\" + -0.187*\"method\" + 0.099*\"vehicl\" + 0.083*\",\" + -0.076*\"the\"\n",
      "\n",
      "Score: 0.45375073189618337\t \n",
      "Topic: -0.822*\"De\" + 0.325*\"batteri\" + 0.196*\"control\" + -0.180*\"para\" + -0.113*\"and\" + 0.109*\"system\" + -0.096*\"power\" + -0.095*\"carga\" + -0.092*\"Un\" + -0.079*\"veículo\"\n",
      "\n",
      "Score: 0.34106440613394295\t \n",
      "Topic: -0.493*\"power\" + 0.391*\"batteri\" + -0.389*\"vehicl\" + -0.333*\"devic\" + 0.314*\"electr\" + 0.229*\"automobil\" + -0.222*\"charg\" + 0.177*\"De\" + -0.148*\"suppli\" + 0.143*\"control\"\n",
      "\n",
      "Score: -0.07073886566882714\t \n",
      "Topic: 0.504*\"vehicl\" + -0.362*\"devic\" + -0.329*\"electr\" + -0.314*\"automobil\" + -0.311*\"control\" + -0.274*\"charg\" + 0.251*\",\" + 0.233*\"batteri\" + -0.188*\"power\" + 0.169*\"hybrid\"\n",
      "\n",
      "Score: -0.15459911551311312\t \n",
      "Topic: 0.449*\",\" + 0.427*\"electr\" + -0.409*\"for\" + -0.401*\"method\" + -0.295*\"control\" + -0.286*\"and\" + 0.192*\"power\" + -0.138*\"hybrid\" + 0.119*\"batteri\" + 0.091*\"vehicl\"\n",
      "\n",
      "Score: -0.18546439632681844\t \n",
      "Topic: -0.542*\"charg\" + 0.536*\"for\" + 0.466*\"power\" + -0.215*\"vehicl\" + -0.213*\"and\" + 0.168*\"system\" + 0.136*\"suppli\" + -0.128*\"method\" + 0.101*\"devic\" + -0.080*\"electr\"\n",
      "\n",
      "Score: -0.21956457884378094\t \n",
      "Topic: 0.622*\"control\" + -0.462*\"charg\" + -0.335*\"for\" + -0.318*\"system\" + -0.181*\"batteri\" + 0.181*\",\" + 0.180*\"hybrid\" + 0.164*\"vehicl\" + 0.139*\"devic\" + 0.084*\"method\"\n",
      "\n",
      "Score: -0.5183052605477276\t \n",
      "Topic: 0.624*\",\" + 0.413*\"and\" + -0.341*\"electr\" + -0.329*\"vehicl\" + 0.229*\"method\" + 0.199*\"system\" + 0.165*\"power\" + 0.141*\"batteri\" + -0.127*\"for\" + 0.122*\"devic\"\n",
      "\n",
      "Score: -0.7471763030581404\t \n",
      "Topic: 0.575*\"system\" + -0.418*\"for\" + -0.416*\"devic\" + -0.278*\"charg\" + -0.271*\",\" + 0.244*\"and\" + 0.203*\"power\" + -0.137*\"batteri\" + 0.113*\"electr\" + 0.088*\"method\"\n"
     ]
    }
   ],
   "source": [
    "for index, score in sorted(lsi_bow[corpus[500]], key=lambda tup: -1*tup[1]):\n",
    "    print(\"\\nScore: {}\\t \\nTopic: {}\".format(score, lsi_bow.print_topic(index, 10)))"
   ]
  }
 ],
 "metadata": {
  "kernelspec": {
   "display_name": "Python 3",
   "language": "python",
   "name": "python3"
  },
  "language_info": {
   "codemirror_mode": {
    "name": "ipython",
    "version": 3
   },
   "file_extension": ".py",
   "mimetype": "text/x-python",
   "name": "python",
   "nbconvert_exporter": "python",
   "pygments_lexer": "ipython3",
   "version": "3.6.5"
  }
 },
 "nbformat": 4,
 "nbformat_minor": 2
}
