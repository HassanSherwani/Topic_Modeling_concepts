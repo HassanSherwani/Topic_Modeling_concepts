{
 "cells": [
  {
   "cell_type": "markdown",
   "metadata": {},
   "source": [
    "# Working on analysis part of topic modeling"
   ]
  },
  {
   "cell_type": "code",
   "execution_count": null,
   "metadata": {},
   "outputs": [],
   "source": []
  },
  {
   "cell_type": "code",
   "execution_count": 1,
   "metadata": {},
   "outputs": [],
   "source": [
    "import warnings\n",
    "warnings.filterwarnings('ignore')"
   ]
  },
  {
   "cell_type": "code",
   "execution_count": 2,
   "metadata": {},
   "outputs": [],
   "source": [
    "import nltk\n",
    "import sys\n",
    "import re, numpy as np, pandas as pd"
   ]
  },
  {
   "cell_type": "code",
   "execution_count": 3,
   "metadata": {},
   "outputs": [
    {
     "name": "stdout",
     "output_type": "stream",
     "text": [
      "Populating the interactive namespace from numpy and matplotlib\n"
     ]
    }
   ],
   "source": [
    "# Visualization \n",
    "import matplotlib.pyplot as plt\n",
    "import seaborn as sns\n",
    "from pprint import pprint\n",
    "%matplotlib inline\n",
    "%pylab inline"
   ]
  },
  {
   "cell_type": "code",
   "execution_count": 4,
   "metadata": {},
   "outputs": [],
   "source": [
    "# Gensim\n",
    "import gensim, spacy, logging, warnings\n",
    "import gensim.corpora as corpora\n",
    "from gensim.utils import lemmatize, simple_preprocess\n",
    "from gensim.models import CoherenceModel"
   ]
  },
  {
   "cell_type": "code",
   "execution_count": 5,
   "metadata": {},
   "outputs": [],
   "source": [
    "# NLTK Stop words\n",
    "from nltk.corpus import stopwords\n",
    "stop_words = stopwords.words('english')\n",
    "stop_words.extend(['from', 'subject', 're', 'edu', 'use', 'not', 'would', 'say', 'could', '_', 'be', 'know', 'good', 'go', 'get', 'do', 'done', 'try', 'many', 'some', 'nice', 'thank', 'think', 'see', 'rather', 'easy', 'easily', 'lot', 'lack', 'make', 'want', 'seem', 'run', 'need', 'even', 'right', 'line', 'even', 'also', 'may', 'take', 'come'])"
   ]
  },
  {
   "cell_type": "markdown",
   "metadata": {},
   "source": [
    "# Loading file"
   ]
  },
  {
   "cell_type": "code",
   "execution_count": 6,
   "metadata": {},
   "outputs": [],
   "source": [
    "import pickle"
   ]
  },
  {
   "cell_type": "code",
   "execution_count": 7,
   "metadata": {},
   "outputs": [],
   "source": [
    "data = pd.read_pickle('work_on_data.pkl')"
   ]
  },
  {
   "cell_type": "code",
   "execution_count": 8,
   "metadata": {},
   "outputs": [
    {
     "data": {
      "text/plain": [
       "(68762, 7)"
      ]
     },
     "execution_count": 8,
     "metadata": {},
     "output_type": "execute_result"
    }
   ],
   "source": [
    "data.shape"
   ]
  },
  {
   "cell_type": "code",
   "execution_count": 9,
   "metadata": {},
   "outputs": [
    {
     "data": {
      "text/html": [
       "<div>\n",
       "<style scoped>\n",
       "    .dataframe tbody tr th:only-of-type {\n",
       "        vertical-align: middle;\n",
       "    }\n",
       "\n",
       "    .dataframe tbody tr th {\n",
       "        vertical-align: top;\n",
       "    }\n",
       "\n",
       "    .dataframe thead th {\n",
       "        text-align: right;\n",
       "    }\n",
       "</style>\n",
       "<table border=\"1\" class=\"dataframe\">\n",
       "  <thead>\n",
       "    <tr style=\"text-align: right;\">\n",
       "      <th></th>\n",
       "      <th>Document_No</th>\n",
       "      <th>Dominant_Topic</th>\n",
       "      <th>Topic_Perc_Contrib</th>\n",
       "      <th>Keywords</th>\n",
       "      <th>Text</th>\n",
       "      <th>year</th>\n",
       "      <th>assignee</th>\n",
       "    </tr>\n",
       "  </thead>\n",
       "  <tbody>\n",
       "    <tr>\n",
       "      <th>0</th>\n",
       "      <td>0</td>\n",
       "      <td>2.0</td>\n",
       "      <td>0.4404</td>\n",
       "      <td>charge, battery, module, power, electric, syst...</td>\n",
       "      <td>[electrical, energy, system, include, electric...</td>\n",
       "      <td>1990.0</td>\n",
       "      <td>luz electric fuel israel ltd</td>\n",
       "    </tr>\n",
       "    <tr>\n",
       "      <th>1</th>\n",
       "      <td>1</td>\n",
       "      <td>2.0</td>\n",
       "      <td>0.8034</td>\n",
       "      <td>charge, battery, module, power, electric, syst...</td>\n",
       "      <td>[electrical, energy, system, include, electric...</td>\n",
       "      <td>1990.0</td>\n",
       "      <td>luz electric fuel israel ltd</td>\n",
       "    </tr>\n",
       "    <tr>\n",
       "      <th>2</th>\n",
       "      <td>2</td>\n",
       "      <td>0.0</td>\n",
       "      <td>0.4697</td>\n",
       "      <td>catalyst, exhaust, gas, parking, fuel, tempera...</td>\n",
       "      <td>[object, provide, particulate, trap, diesel, e...</td>\n",
       "      <td>1995.0</td>\n",
       "      <td>sumitomo electric industries ltd</td>\n",
       "    </tr>\n",
       "    <tr>\n",
       "      <th>3</th>\n",
       "      <td>3</td>\n",
       "      <td>6.0</td>\n",
       "      <td>0.4055</td>\n",
       "      <td>side, portion, cover, body, housing, part, sur...</td>\n",
       "      <td>[purpose, obtain, trap, leakage, exhaust, gas,...</td>\n",
       "      <td>1995.0</td>\n",
       "      <td>sumitomo electric ind ltd</td>\n",
       "    </tr>\n",
       "    <tr>\n",
       "      <th>4</th>\n",
       "      <td>4</td>\n",
       "      <td>2.0</td>\n",
       "      <td>0.3990</td>\n",
       "      <td>charge, battery, module, power, electric, syst...</td>\n",
       "      <td>[particulate, trap, diesel, engine, design, ef...</td>\n",
       "      <td>1995.0</td>\n",
       "      <td>sumitomo electric industries ltd</td>\n",
       "    </tr>\n",
       "    <tr>\n",
       "      <th>5</th>\n",
       "      <td>5</td>\n",
       "      <td>0.0</td>\n",
       "      <td>0.4922</td>\n",
       "      <td>catalyst, exhaust, gas, parking, fuel, tempera...</td>\n",
       "      <td>[pct, pct_jp_sec_date, pub, mar, object, provi...</td>\n",
       "      <td>1995.0</td>\n",
       "      <td>sumitomo electric industries ltd</td>\n",
       "    </tr>\n",
       "    <tr>\n",
       "      <th>6</th>\n",
       "      <td>6</td>\n",
       "      <td>6.0</td>\n",
       "      <td>0.6130</td>\n",
       "      <td>side, portion, cover, body, housing, part, sur...</td>\n",
       "      <td>[mix, device, gas, fuel, air, internal, combus...</td>\n",
       "      <td>2000.0</td>\n",
       "      <td>ricardo cayetano algeri</td>\n",
       "    </tr>\n",
       "    <tr>\n",
       "      <th>7</th>\n",
       "      <td>7</td>\n",
       "      <td>6.0</td>\n",
       "      <td>0.5955</td>\n",
       "      <td>side, portion, cover, body, housing, part, sur...</td>\n",
       "      <td>[mix, device, gas, fuel, air, internal, combus...</td>\n",
       "      <td>2000.0</td>\n",
       "      <td>algeri; ricardo cayetano</td>\n",
       "    </tr>\n",
       "    <tr>\n",
       "      <th>8</th>\n",
       "      <td>8</td>\n",
       "      <td>6.0</td>\n",
       "      <td>0.5115</td>\n",
       "      <td>side, portion, cover, body, housing, part, sur...</td>\n",
       "      <td>[area, mouth, injector, construct, flow, guide...</td>\n",
       "      <td>1998.0</td>\n",
       "      <td>avl list gmbh</td>\n",
       "    </tr>\n",
       "    <tr>\n",
       "      <th>9</th>\n",
       "      <td>9</td>\n",
       "      <td>5.0</td>\n",
       "      <td>0.8511</td>\n",
       "      <td>air, gas, fuel, exhaust, tank, pipe, pressure,...</td>\n",
       "      <td>[internal, combustion, engine, least, injectio...</td>\n",
       "      <td>1998.0</td>\n",
       "      <td>avl list gmbh</td>\n",
       "    </tr>\n",
       "  </tbody>\n",
       "</table>\n",
       "</div>"
      ],
      "text/plain": [
       "   Document_No  Dominant_Topic  Topic_Perc_Contrib  \\\n",
       "0            0             2.0              0.4404   \n",
       "1            1             2.0              0.8034   \n",
       "2            2             0.0              0.4697   \n",
       "3            3             6.0              0.4055   \n",
       "4            4             2.0              0.3990   \n",
       "5            5             0.0              0.4922   \n",
       "6            6             6.0              0.6130   \n",
       "7            7             6.0              0.5955   \n",
       "8            8             6.0              0.5115   \n",
       "9            9             5.0              0.8511   \n",
       "\n",
       "                                            Keywords  \\\n",
       "0  charge, battery, module, power, electric, syst...   \n",
       "1  charge, battery, module, power, electric, syst...   \n",
       "2  catalyst, exhaust, gas, parking, fuel, tempera...   \n",
       "3  side, portion, cover, body, housing, part, sur...   \n",
       "4  charge, battery, module, power, electric, syst...   \n",
       "5  catalyst, exhaust, gas, parking, fuel, tempera...   \n",
       "6  side, portion, cover, body, housing, part, sur...   \n",
       "7  side, portion, cover, body, housing, part, sur...   \n",
       "8  side, portion, cover, body, housing, part, sur...   \n",
       "9  air, gas, fuel, exhaust, tank, pipe, pressure,...   \n",
       "\n",
       "                                                Text    year  \\\n",
       "0  [electrical, energy, system, include, electric...  1990.0   \n",
       "1  [electrical, energy, system, include, electric...  1990.0   \n",
       "2  [object, provide, particulate, trap, diesel, e...  1995.0   \n",
       "3  [purpose, obtain, trap, leakage, exhaust, gas,...  1995.0   \n",
       "4  [particulate, trap, diesel, engine, design, ef...  1995.0   \n",
       "5  [pct, pct_jp_sec_date, pub, mar, object, provi...  1995.0   \n",
       "6  [mix, device, gas, fuel, air, internal, combus...  2000.0   \n",
       "7  [mix, device, gas, fuel, air, internal, combus...  2000.0   \n",
       "8  [area, mouth, injector, construct, flow, guide...  1998.0   \n",
       "9  [internal, combustion, engine, least, injectio...  1998.0   \n",
       "\n",
       "                           assignee  \n",
       "0      luz electric fuel israel ltd  \n",
       "1      luz electric fuel israel ltd  \n",
       "2  sumitomo electric industries ltd  \n",
       "3         sumitomo electric ind ltd  \n",
       "4  sumitomo electric industries ltd  \n",
       "5  sumitomo electric industries ltd  \n",
       "6           ricardo cayetano algeri  \n",
       "7          algeri; ricardo cayetano  \n",
       "8                     avl list gmbh  \n",
       "9                     avl list gmbh  "
      ]
     },
     "execution_count": 9,
     "metadata": {},
     "output_type": "execute_result"
    }
   ],
   "source": [
    "data.head(10)"
   ]
  },
  {
   "cell_type": "markdown",
   "metadata": {},
   "source": [
    "# Figure 3"
   ]
  },
  {
   "cell_type": "code",
   "execution_count": 10,
   "metadata": {},
   "outputs": [
    {
     "data": {
      "text/plain": [
       "year\n",
       "1990.0     631\n",
       "1991.0     732\n",
       "1992.0    1008\n",
       "1993.0    1205\n",
       "1994.0    1154\n",
       "1995.0    1285\n",
       "1996.0    1483\n",
       "1997.0    1581\n",
       "1998.0    1726\n",
       "1999.0    2003\n",
       "2000.0    2211\n",
       "2001.0    2267\n",
       "2002.0    2219\n",
       "2003.0    2431\n",
       "2004.0    2310\n",
       "2005.0    2641\n",
       "2006.0    3498\n",
       "2007.0    3444\n",
       "2008.0    3259\n",
       "2009.0    3754\n",
       "2010.0    4659\n",
       "2011.0    5737\n",
       "2012.0    5242\n",
       "2013.0    4247\n",
       "2014.0    3420\n",
       "2015.0    2686\n",
       "2016.0    1568\n",
       "2017.0     359\n",
       "dtype: int64"
      ]
     },
     "execution_count": 10,
     "metadata": {},
     "output_type": "execute_result"
    }
   ],
   "source": [
    "data.groupby(data.year).size()"
   ]
  },
  {
   "cell_type": "code",
   "execution_count": 11,
   "metadata": {},
   "outputs": [],
   "source": [
    "dist=data.groupby(data.year).size()"
   ]
  },
  {
   "cell_type": "code",
   "execution_count": 12,
   "metadata": {},
   "outputs": [
    {
     "data": {
      "image/png": "[encoded data removed]",
      "text/plain": [
       "<matplotlib.figure.Figure at 0x20a3b46d240>"
      ]
     },
     "metadata": {
      "needs_background": "light"
     },
     "output_type": "display_data"
    }
   ],
   "source": [
    "dist.plot()\n",
    "plt.xlabel('Application years')\n",
    "plt.ylabel('Number of patent applications')\n",
    "plt.title('distribution of patent applications over years')\n",
    "#plt.legend()\n",
    "plt.show()"
   ]
  },
  {
   "cell_type": "markdown",
   "metadata": {},
   "source": [
    "# Table1"
   ]
  },
  {
   "cell_type": "code",
   "execution_count": 13,
   "metadata": {},
   "outputs": [],
   "source": [
    "total_patents=data.assignee.value_counts()"
   ]
  },
  {
   "cell_type": "code",
   "execution_count": 14,
   "metadata": {},
   "outputs": [
    {
     "data": {
      "text/html": [
       "<div>\n",
       "<style scoped>\n",
       "    .dataframe tbody tr th:only-of-type {\n",
       "        vertical-align: middle;\n",
       "    }\n",
       "\n",
       "    .dataframe tbody tr th {\n",
       "        vertical-align: top;\n",
       "    }\n",
       "\n",
       "    .dataframe thead th {\n",
       "        text-align: right;\n",
       "    }\n",
       "</style>\n",
       "<table border=\"1\" class=\"dataframe\">\n",
       "  <thead>\n",
       "    <tr style=\"text-align: right;\">\n",
       "      <th></th>\n",
       "      <th>assignee</th>\n",
       "    </tr>\n",
       "  </thead>\n",
       "  <tbody>\n",
       "    <tr>\n",
       "      <th>toyota motor corp</th>\n",
       "      <td>8125</td>\n",
       "    </tr>\n",
       "    <tr>\n",
       "      <th>honda motor co ltd</th>\n",
       "      <td>3977</td>\n",
       "    </tr>\n",
       "    <tr>\n",
       "      <th>nissan motor co ltd</th>\n",
       "      <td>2885</td>\n",
       "    </tr>\n",
       "    <tr>\n",
       "      <th>bosch corp</th>\n",
       "      <td>2770</td>\n",
       "    </tr>\n",
       "    <tr>\n",
       "      <th>hyundai motor co ltd</th>\n",
       "      <td>2597</td>\n",
       "    </tr>\n",
       "  </tbody>\n",
       "</table>\n",
       "</div>"
      ],
      "text/plain": [
       "                      assignee\n",
       "toyota motor corp         8125\n",
       "honda motor co ltd        3977\n",
       "nissan motor co ltd       2885\n",
       "bosch corp                2770\n",
       "hyundai motor co ltd      2597"
      ]
     },
     "execution_count": 14,
     "metadata": {},
     "output_type": "execute_result"
    }
   ],
   "source": [
    "df_assigne= pd.DataFrame(data=total_patents)\n",
    "df_assigne.head()"
   ]
  },
  {
   "cell_type": "code",
   "execution_count": 15,
   "metadata": {},
   "outputs": [
    {
     "data": {
      "text/html": [
       "<div>\n",
       "<style scoped>\n",
       "    .dataframe tbody tr th:only-of-type {\n",
       "        vertical-align: middle;\n",
       "    }\n",
       "\n",
       "    .dataframe tbody tr th {\n",
       "        vertical-align: top;\n",
       "    }\n",
       "\n",
       "    .dataframe thead th {\n",
       "        text-align: right;\n",
       "    }\n",
       "</style>\n",
       "<table border=\"1\" class=\"dataframe\">\n",
       "  <thead>\n",
       "    <tr style=\"text-align: right;\">\n",
       "      <th></th>\n",
       "      <th>assignee</th>\n",
       "      <th>Commulative</th>\n",
       "    </tr>\n",
       "  </thead>\n",
       "  <tbody>\n",
       "    <tr>\n",
       "      <th>toyota motor corp</th>\n",
       "      <td>8125</td>\n",
       "      <td>0.119044</td>\n",
       "    </tr>\n",
       "    <tr>\n",
       "      <th>honda motor co ltd</th>\n",
       "      <td>3977</td>\n",
       "      <td>0.058269</td>\n",
       "    </tr>\n",
       "    <tr>\n",
       "      <th>nissan motor co ltd</th>\n",
       "      <td>2885</td>\n",
       "      <td>0.042270</td>\n",
       "    </tr>\n",
       "    <tr>\n",
       "      <th>bosch corp</th>\n",
       "      <td>2770</td>\n",
       "      <td>0.040585</td>\n",
       "    </tr>\n",
       "    <tr>\n",
       "      <th>hyundai motor co ltd</th>\n",
       "      <td>2597</td>\n",
       "      <td>0.038050</td>\n",
       "    </tr>\n",
       "    <tr>\n",
       "      <th>ford global technologies inc</th>\n",
       "      <td>1671</td>\n",
       "      <td>0.024483</td>\n",
       "    </tr>\n",
       "    <tr>\n",
       "      <th>denso corp</th>\n",
       "      <td>1097</td>\n",
       "      <td>0.016073</td>\n",
       "    </tr>\n",
       "    <tr>\n",
       "      <th>mitsubishi motors corp</th>\n",
       "      <td>899</td>\n",
       "      <td>0.013172</td>\n",
       "    </tr>\n",
       "    <tr>\n",
       "      <th>renault sas</th>\n",
       "      <td>859</td>\n",
       "      <td>0.012586</td>\n",
       "    </tr>\n",
       "    <tr>\n",
       "      <th>hitachi ltd</th>\n",
       "      <td>759</td>\n",
       "      <td>0.011121</td>\n",
       "    </tr>\n",
       "    <tr>\n",
       "      <th>peugeot citroen automobiles</th>\n",
       "      <td>688</td>\n",
       "      <td>0.010080</td>\n",
       "    </tr>\n",
       "    <tr>\n",
       "      <th>suzuki motor corp</th>\n",
       "      <td>528</td>\n",
       "      <td>0.007736</td>\n",
       "    </tr>\n",
       "    <tr>\n",
       "      <th>mitsubishi electric corp</th>\n",
       "      <td>513</td>\n",
       "      <td>0.007516</td>\n",
       "    </tr>\n",
       "    <tr>\n",
       "      <th>aisin aw co ltd</th>\n",
       "      <td>458</td>\n",
       "      <td>0.006710</td>\n",
       "    </tr>\n",
       "    <tr>\n",
       "      <th>volkswagen group</th>\n",
       "      <td>375</td>\n",
       "      <td>0.005494</td>\n",
       "    </tr>\n",
       "    <tr>\n",
       "      <th>daimlerchrysler ag</th>\n",
       "      <td>338</td>\n",
       "      <td>0.004952</td>\n",
       "    </tr>\n",
       "    <tr>\n",
       "      <th>continental automotive gmbh</th>\n",
       "      <td>316</td>\n",
       "      <td>0.004630</td>\n",
       "    </tr>\n",
       "    <tr>\n",
       "      <th>isuzu motors ltd</th>\n",
       "      <td>300</td>\n",
       "      <td>0.004395</td>\n",
       "    </tr>\n",
       "    <tr>\n",
       "      <th>gm global technology operations llc</th>\n",
       "      <td>291</td>\n",
       "      <td>0.004264</td>\n",
       "    </tr>\n",
       "    <tr>\n",
       "      <th>siemens aktiengesellschaft</th>\n",
       "      <td>285</td>\n",
       "      <td>0.004176</td>\n",
       "    </tr>\n",
       "  </tbody>\n",
       "</table>\n",
       "</div>"
      ],
      "text/plain": [
       "                                     assignee  Commulative\n",
       "toyota motor corp                        8125     0.119044\n",
       "honda motor co ltd                       3977     0.058269\n",
       "nissan motor co ltd                      2885     0.042270\n",
       "bosch corp                               2770     0.040585\n",
       "hyundai motor co ltd                     2597     0.038050\n",
       "ford global technologies inc             1671     0.024483\n",
       "denso corp                               1097     0.016073\n",
       "mitsubishi motors corp                    899     0.013172\n",
       "renault sas                               859     0.012586\n",
       "hitachi ltd                               759     0.011121\n",
       "peugeot citroen automobiles               688     0.010080\n",
       "suzuki motor corp                         528     0.007736\n",
       "mitsubishi electric corp                  513     0.007516\n",
       "aisin aw co ltd                           458     0.006710\n",
       "volkswagen group                          375     0.005494\n",
       "daimlerchrysler ag                        338     0.004952\n",
       "continental automotive gmbh               316     0.004630\n",
       "isuzu motors ltd                          300     0.004395\n",
       "gm global technology operations llc       291     0.004264\n",
       "siemens aktiengesellschaft                285     0.004176"
      ]
     },
     "execution_count": 15,
     "metadata": {},
     "output_type": "execute_result"
    }
   ],
   "source": [
    "df_assigne['Commulative']=data['assignee'].value_counts(normalize=True)\n",
    "df_assigne.head(20)"
   ]
  },
  {
   "cell_type": "markdown",
   "metadata": {},
   "source": [
    "### 4a) Change in the number of patents "
   ]
  },
  {
   "cell_type": "code",
   "execution_count": 16,
   "metadata": {},
   "outputs": [
    {
     "data": {
      "text/plain": [
       "<matplotlib.axes._subplots.AxesSubplot at 0x20a360f2b38>"
      ]
     },
     "execution_count": 16,
     "metadata": {},
     "output_type": "execute_result"
    },
    {
     "data": {
      "image/png": "[encoded data removed]",
      "text/plain": [
       "<matplotlib.figure.Figure at 0x20a1f1d5c18>"
      ]
     },
     "metadata": {
      "needs_background": "light"
     },
     "output_type": "display_data"
    }
   ],
   "source": [
    "d=data\n",
    "d=d.groupby([\"year\",\"Dominant_Topic\"]).size()\n",
    "d=d.unstack('Dominant_Topic')\n",
    "d.plot()"
   ]
  },
  {
   "cell_type": "code",
   "execution_count": 17,
   "metadata": {},
   "outputs": [
    {
     "data": {
      "text/plain": [
       "1.0    15836\n",
       "7.0    11195\n",
       "2.0    10316\n",
       "3.0     7860\n",
       "5.0     7338\n",
       "6.0     7048\n",
       "4.0     4699\n",
       "0.0     4470\n",
       "Name: Dominant_Topic, dtype: int64"
      ]
     },
     "execution_count": 17,
     "metadata": {},
     "output_type": "execute_result"
    }
   ],
   "source": [
    "data.Dominant_Topic.value_counts()"
   ]
  },
  {
   "cell_type": "markdown",
   "metadata": {},
   "source": [
    "**Alternative way**"
   ]
  },
  {
   "cell_type": "code",
   "execution_count": 18,
   "metadata": {},
   "outputs": [],
   "source": [
    "f=data.groupby(data.year).Dominant_Topic.value_counts()"
   ]
  },
  {
   "cell_type": "code",
   "execution_count": 19,
   "metadata": {},
   "outputs": [],
   "source": [
    "f=f.unstack('Dominant_Topic')"
   ]
  },
  {
   "cell_type": "code",
   "execution_count": 20,
   "metadata": {},
   "outputs": [
    {
     "data": {
      "image/png": "[encoded data removed]",
      "text/plain": [
       "<matplotlib.figure.Figure at 0x20a35fd69e8>"
      ]
     },
     "metadata": {
      "needs_background": "light"
     },
     "output_type": "display_data"
    }
   ],
   "source": [
    "f.plot()\n",
    "plt.xlabel('Filling years')\n",
    "plt.ylabel('patent Share')\n",
    "plt.title('Change in the share of patents over filling years')\n",
    "plt.legend()\n",
    "plt.show()"
   ]
  },
  {
   "cell_type": "markdown",
   "metadata": {},
   "source": [
    "**result of figure 4a**"
   ]
  },
  {
   "cell_type": "markdown",
   "metadata": {},
   "source": [
    "### 4(b) Change in the share of patents over filing year"
   ]
  },
  {
   "cell_type": "code",
   "execution_count": 21,
   "metadata": {},
   "outputs": [
    {
     "data": {
      "text/plain": [
       "1.0    0.230302\n",
       "7.0    0.162808\n",
       "2.0    0.150025\n",
       "3.0    0.114307\n",
       "5.0    0.106716\n",
       "6.0    0.102498\n",
       "4.0    0.068337\n",
       "0.0    0.065007\n",
       "Name: Dominant_Topic, dtype: float64"
      ]
     },
     "execution_count": 21,
     "metadata": {},
     "output_type": "execute_result"
    }
   ],
   "source": [
    "data.Dominant_Topic.value_counts(normalize=True)"
   ]
  },
  {
   "cell_type": "code",
   "execution_count": 22,
   "metadata": {},
   "outputs": [
    {
     "data": {
      "text/plain": [
       "year    Dominant_Topic\n",
       "1990.0  3.0               0.199683\n",
       "        1.0               0.175911\n",
       "        5.0               0.152139\n",
       "        6.0               0.147385\n",
       "        0.0               0.115689\n",
       "        7.0               0.088748\n",
       "        2.0               0.072900\n",
       "        4.0               0.047544\n",
       "1991.0  1.0               0.191257\n",
       "        3.0               0.184426\n",
       "        5.0               0.136612\n",
       "        6.0               0.124317\n",
       "        0.0               0.120219\n",
       "        2.0               0.091530\n",
       "        7.0               0.091530\n",
       "        4.0               0.060109\n",
       "1992.0  5.0               0.177579\n",
       "        1.0               0.156746\n",
       "        3.0               0.145833\n",
       "        6.0               0.138889\n",
       "        0.0               0.121032\n",
       "        7.0               0.098214\n",
       "        2.0               0.082341\n",
       "        4.0               0.079365\n",
       "1993.0  1.0               0.181743\n",
       "        5.0               0.176763\n",
       "        3.0               0.160996\n",
       "        6.0               0.141909\n",
       "        2.0               0.120332\n",
       "        4.0               0.080498\n",
       "                            ...   \n",
       "2014.0  7.0               0.194737\n",
       "        3.0               0.079825\n",
       "        4.0               0.075731\n",
       "        6.0               0.070175\n",
       "        5.0               0.067251\n",
       "        0.0               0.028947\n",
       "2015.0  1.0               0.253165\n",
       "        2.0               0.246463\n",
       "        7.0               0.205138\n",
       "        4.0               0.097915\n",
       "        6.0               0.075577\n",
       "        3.0               0.053611\n",
       "        5.0               0.048399\n",
       "        0.0               0.019732\n",
       "2016.0  2.0               0.344388\n",
       "        4.0               0.177934\n",
       "        1.0               0.170918\n",
       "        7.0               0.133291\n",
       "        6.0               0.069515\n",
       "        5.0               0.050383\n",
       "        3.0               0.041454\n",
       "        0.0               0.012117\n",
       "2017.0  2.0               0.311978\n",
       "        7.0               0.231198\n",
       "        4.0               0.225627\n",
       "        6.0               0.097493\n",
       "        5.0               0.072423\n",
       "        1.0               0.033426\n",
       "        0.0               0.016713\n",
       "        3.0               0.011142\n",
       "Name: Dominant_Topic, Length: 224, dtype: float64"
      ]
     },
     "execution_count": 22,
     "metadata": {},
     "output_type": "execute_result"
    }
   ],
   "source": [
    "data.groupby(data.year).Dominant_Topic.value_counts(normalize=True)"
   ]
  },
  {
   "cell_type": "code",
   "execution_count": 23,
   "metadata": {},
   "outputs": [],
   "source": [
    "c=data.groupby(data.year).Dominant_Topic.value_counts(normalize=True)"
   ]
  },
  {
   "cell_type": "code",
   "execution_count": 24,
   "metadata": {},
   "outputs": [],
   "source": [
    "c=c.unstack('Dominant_Topic')"
   ]
  },
  {
   "cell_type": "code",
   "execution_count": 25,
   "metadata": {},
   "outputs": [
    {
     "data": {
      "text/html": [
       "<div>\n",
       "<style scoped>\n",
       "    .dataframe tbody tr th:only-of-type {\n",
       "        vertical-align: middle;\n",
       "    }\n",
       "\n",
       "    .dataframe tbody tr th {\n",
       "        vertical-align: top;\n",
       "    }\n",
       "\n",
       "    .dataframe thead th {\n",
       "        text-align: right;\n",
       "    }\n",
       "</style>\n",
       "<table border=\"1\" class=\"dataframe\">\n",
       "  <thead>\n",
       "    <tr style=\"text-align: right;\">\n",
       "      <th>Dominant_Topic</th>\n",
       "      <th>0.0</th>\n",
       "      <th>1.0</th>\n",
       "      <th>2.0</th>\n",
       "      <th>3.0</th>\n",
       "      <th>4.0</th>\n",
       "      <th>5.0</th>\n",
       "      <th>6.0</th>\n",
       "      <th>7.0</th>\n",
       "    </tr>\n",
       "    <tr>\n",
       "      <th>year</th>\n",
       "      <th></th>\n",
       "      <th></th>\n",
       "      <th></th>\n",
       "      <th></th>\n",
       "      <th></th>\n",
       "      <th></th>\n",
       "      <th></th>\n",
       "      <th></th>\n",
       "    </tr>\n",
       "  </thead>\n",
       "  <tbody>\n",
       "    <tr>\n",
       "      <th>1990.0</th>\n",
       "      <td>0.115689</td>\n",
       "      <td>0.175911</td>\n",
       "      <td>0.072900</td>\n",
       "      <td>0.199683</td>\n",
       "      <td>0.047544</td>\n",
       "      <td>0.152139</td>\n",
       "      <td>0.147385</td>\n",
       "      <td>0.088748</td>\n",
       "    </tr>\n",
       "    <tr>\n",
       "      <th>1991.0</th>\n",
       "      <td>0.120219</td>\n",
       "      <td>0.191257</td>\n",
       "      <td>0.091530</td>\n",
       "      <td>0.184426</td>\n",
       "      <td>0.060109</td>\n",
       "      <td>0.136612</td>\n",
       "      <td>0.124317</td>\n",
       "      <td>0.091530</td>\n",
       "    </tr>\n",
       "    <tr>\n",
       "      <th>1992.0</th>\n",
       "      <td>0.121032</td>\n",
       "      <td>0.156746</td>\n",
       "      <td>0.082341</td>\n",
       "      <td>0.145833</td>\n",
       "      <td>0.079365</td>\n",
       "      <td>0.177579</td>\n",
       "      <td>0.138889</td>\n",
       "      <td>0.098214</td>\n",
       "    </tr>\n",
       "    <tr>\n",
       "      <th>1993.0</th>\n",
       "      <td>0.074689</td>\n",
       "      <td>0.181743</td>\n",
       "      <td>0.120332</td>\n",
       "      <td>0.160996</td>\n",
       "      <td>0.080498</td>\n",
       "      <td>0.176763</td>\n",
       "      <td>0.141909</td>\n",
       "      <td>0.063071</td>\n",
       "    </tr>\n",
       "    <tr>\n",
       "      <th>1994.0</th>\n",
       "      <td>0.069324</td>\n",
       "      <td>0.224437</td>\n",
       "      <td>0.103986</td>\n",
       "      <td>0.143847</td>\n",
       "      <td>0.058059</td>\n",
       "      <td>0.168111</td>\n",
       "      <td>0.138648</td>\n",
       "      <td>0.093588</td>\n",
       "    </tr>\n",
       "    <tr>\n",
       "      <th>1995.0</th>\n",
       "      <td>0.054475</td>\n",
       "      <td>0.221012</td>\n",
       "      <td>0.077821</td>\n",
       "      <td>0.137743</td>\n",
       "      <td>0.061479</td>\n",
       "      <td>0.156420</td>\n",
       "      <td>0.152529</td>\n",
       "      <td>0.138521</td>\n",
       "    </tr>\n",
       "    <tr>\n",
       "      <th>1996.0</th>\n",
       "      <td>0.056642</td>\n",
       "      <td>0.211059</td>\n",
       "      <td>0.067431</td>\n",
       "      <td>0.206339</td>\n",
       "      <td>0.054619</td>\n",
       "      <td>0.143628</td>\n",
       "      <td>0.151045</td>\n",
       "      <td>0.109238</td>\n",
       "    </tr>\n",
       "    <tr>\n",
       "      <th>1997.0</th>\n",
       "      <td>0.060089</td>\n",
       "      <td>0.217584</td>\n",
       "      <td>0.077166</td>\n",
       "      <td>0.162555</td>\n",
       "      <td>0.050601</td>\n",
       "      <td>0.161923</td>\n",
       "      <td>0.136622</td>\n",
       "      <td>0.133460</td>\n",
       "    </tr>\n",
       "    <tr>\n",
       "      <th>1998.0</th>\n",
       "      <td>0.079374</td>\n",
       "      <td>0.208575</td>\n",
       "      <td>0.060255</td>\n",
       "      <td>0.162225</td>\n",
       "      <td>0.046350</td>\n",
       "      <td>0.158169</td>\n",
       "      <td>0.136153</td>\n",
       "      <td>0.148899</td>\n",
       "    </tr>\n",
       "    <tr>\n",
       "      <th>1999.0</th>\n",
       "      <td>0.080879</td>\n",
       "      <td>0.221168</td>\n",
       "      <td>0.094858</td>\n",
       "      <td>0.178233</td>\n",
       "      <td>0.049925</td>\n",
       "      <td>0.135297</td>\n",
       "      <td>0.115826</td>\n",
       "      <td>0.123814</td>\n",
       "    </tr>\n",
       "    <tr>\n",
       "      <th>2000.0</th>\n",
       "      <td>0.117594</td>\n",
       "      <td>0.197648</td>\n",
       "      <td>0.080507</td>\n",
       "      <td>0.169607</td>\n",
       "      <td>0.042515</td>\n",
       "      <td>0.159656</td>\n",
       "      <td>0.093171</td>\n",
       "      <td>0.139303</td>\n",
       "    </tr>\n",
       "    <tr>\n",
       "      <th>2001.0</th>\n",
       "      <td>0.101456</td>\n",
       "      <td>0.208205</td>\n",
       "      <td>0.097927</td>\n",
       "      <td>0.162770</td>\n",
       "      <td>0.048522</td>\n",
       "      <td>0.131892</td>\n",
       "      <td>0.097486</td>\n",
       "      <td>0.151742</td>\n",
       "    </tr>\n",
       "    <tr>\n",
       "      <th>2002.0</th>\n",
       "      <td>0.118071</td>\n",
       "      <td>0.203245</td>\n",
       "      <td>0.093285</td>\n",
       "      <td>0.122578</td>\n",
       "      <td>0.075259</td>\n",
       "      <td>0.135196</td>\n",
       "      <td>0.113565</td>\n",
       "      <td>0.138801</td>\n",
       "    </tr>\n",
       "    <tr>\n",
       "      <th>2003.0</th>\n",
       "      <td>0.114768</td>\n",
       "      <td>0.197861</td>\n",
       "      <td>0.101604</td>\n",
       "      <td>0.150555</td>\n",
       "      <td>0.065405</td>\n",
       "      <td>0.139860</td>\n",
       "      <td>0.100782</td>\n",
       "      <td>0.129165</td>\n",
       "    </tr>\n",
       "    <tr>\n",
       "      <th>2004.0</th>\n",
       "      <td>0.101732</td>\n",
       "      <td>0.208658</td>\n",
       "      <td>0.081385</td>\n",
       "      <td>0.133766</td>\n",
       "      <td>0.062338</td>\n",
       "      <td>0.140693</td>\n",
       "      <td>0.116017</td>\n",
       "      <td>0.155411</td>\n",
       "    </tr>\n",
       "    <tr>\n",
       "      <th>2005.0</th>\n",
       "      <td>0.100341</td>\n",
       "      <td>0.206361</td>\n",
       "      <td>0.092011</td>\n",
       "      <td>0.149565</td>\n",
       "      <td>0.061719</td>\n",
       "      <td>0.141992</td>\n",
       "      <td>0.110186</td>\n",
       "      <td>0.137827</td>\n",
       "    </tr>\n",
       "    <tr>\n",
       "      <th>2006.0</th>\n",
       "      <td>0.092053</td>\n",
       "      <td>0.233848</td>\n",
       "      <td>0.100057</td>\n",
       "      <td>0.132361</td>\n",
       "      <td>0.051172</td>\n",
       "      <td>0.116066</td>\n",
       "      <td>0.103488</td>\n",
       "      <td>0.170955</td>\n",
       "    </tr>\n",
       "    <tr>\n",
       "      <th>2007.0</th>\n",
       "      <td>0.076945</td>\n",
       "      <td>0.258420</td>\n",
       "      <td>0.118467</td>\n",
       "      <td>0.105110</td>\n",
       "      <td>0.049942</td>\n",
       "      <td>0.113821</td>\n",
       "      <td>0.100465</td>\n",
       "      <td>0.176829</td>\n",
       "    </tr>\n",
       "    <tr>\n",
       "      <th>2008.0</th>\n",
       "      <td>0.067505</td>\n",
       "      <td>0.223075</td>\n",
       "      <td>0.170911</td>\n",
       "      <td>0.098496</td>\n",
       "      <td>0.068426</td>\n",
       "      <td>0.123351</td>\n",
       "      <td>0.089598</td>\n",
       "      <td>0.158638</td>\n",
       "    </tr>\n",
       "    <tr>\n",
       "      <th>2009.0</th>\n",
       "      <td>0.040490</td>\n",
       "      <td>0.229888</td>\n",
       "      <td>0.183271</td>\n",
       "      <td>0.084976</td>\n",
       "      <td>0.077251</td>\n",
       "      <td>0.084443</td>\n",
       "      <td>0.098295</td>\n",
       "      <td>0.201385</td>\n",
       "    </tr>\n",
       "    <tr>\n",
       "      <th>2010.0</th>\n",
       "      <td>0.052157</td>\n",
       "      <td>0.256493</td>\n",
       "      <td>0.181799</td>\n",
       "      <td>0.092080</td>\n",
       "      <td>0.070616</td>\n",
       "      <td>0.078987</td>\n",
       "      <td>0.092938</td>\n",
       "      <td>0.174930</td>\n",
       "    </tr>\n",
       "    <tr>\n",
       "      <th>2011.0</th>\n",
       "      <td>0.035210</td>\n",
       "      <td>0.259892</td>\n",
       "      <td>0.216315</td>\n",
       "      <td>0.077915</td>\n",
       "      <td>0.073558</td>\n",
       "      <td>0.064145</td>\n",
       "      <td>0.095869</td>\n",
       "      <td>0.177096</td>\n",
       "    </tr>\n",
       "    <tr>\n",
       "      <th>2012.0</th>\n",
       "      <td>0.043495</td>\n",
       "      <td>0.238459</td>\n",
       "      <td>0.198588</td>\n",
       "      <td>0.083937</td>\n",
       "      <td>0.068676</td>\n",
       "      <td>0.068104</td>\n",
       "      <td>0.101870</td>\n",
       "      <td>0.196871</td>\n",
       "    </tr>\n",
       "    <tr>\n",
       "      <th>2013.0</th>\n",
       "      <td>0.030374</td>\n",
       "      <td>0.274311</td>\n",
       "      <td>0.196138</td>\n",
       "      <td>0.085237</td>\n",
       "      <td>0.062868</td>\n",
       "      <td>0.064752</td>\n",
       "      <td>0.078408</td>\n",
       "      <td>0.207911</td>\n",
       "    </tr>\n",
       "    <tr>\n",
       "      <th>2014.0</th>\n",
       "      <td>0.028947</td>\n",
       "      <td>0.285965</td>\n",
       "      <td>0.197368</td>\n",
       "      <td>0.079825</td>\n",
       "      <td>0.075731</td>\n",
       "      <td>0.067251</td>\n",
       "      <td>0.070175</td>\n",
       "      <td>0.194737</td>\n",
       "    </tr>\n",
       "    <tr>\n",
       "      <th>2015.0</th>\n",
       "      <td>0.019732</td>\n",
       "      <td>0.253165</td>\n",
       "      <td>0.246463</td>\n",
       "      <td>0.053611</td>\n",
       "      <td>0.097915</td>\n",
       "      <td>0.048399</td>\n",
       "      <td>0.075577</td>\n",
       "      <td>0.205138</td>\n",
       "    </tr>\n",
       "    <tr>\n",
       "      <th>2016.0</th>\n",
       "      <td>0.012117</td>\n",
       "      <td>0.170918</td>\n",
       "      <td>0.344388</td>\n",
       "      <td>0.041454</td>\n",
       "      <td>0.177934</td>\n",
       "      <td>0.050383</td>\n",
       "      <td>0.069515</td>\n",
       "      <td>0.133291</td>\n",
       "    </tr>\n",
       "    <tr>\n",
       "      <th>2017.0</th>\n",
       "      <td>0.016713</td>\n",
       "      <td>0.033426</td>\n",
       "      <td>0.311978</td>\n",
       "      <td>0.011142</td>\n",
       "      <td>0.225627</td>\n",
       "      <td>0.072423</td>\n",
       "      <td>0.097493</td>\n",
       "      <td>0.231198</td>\n",
       "    </tr>\n",
       "  </tbody>\n",
       "</table>\n",
       "</div>"
      ],
      "text/plain": [
       "Dominant_Topic       0.0       1.0       2.0       3.0       4.0       5.0  \\\n",
       "year                                                                         \n",
       "1990.0          0.115689  0.175911  0.072900  0.199683  0.047544  0.152139   \n",
       "1991.0          0.120219  0.191257  0.091530  0.184426  0.060109  0.136612   \n",
       "1992.0          0.121032  0.156746  0.082341  0.145833  0.079365  0.177579   \n",
       "1993.0          0.074689  0.181743  0.120332  0.160996  0.080498  0.176763   \n",
       "1994.0          0.069324  0.224437  0.103986  0.143847  0.058059  0.168111   \n",
       "1995.0          0.054475  0.221012  0.077821  0.137743  0.061479  0.156420   \n",
       "1996.0          0.056642  0.211059  0.067431  0.206339  0.054619  0.143628   \n",
       "1997.0          0.060089  0.217584  0.077166  0.162555  0.050601  0.161923   \n",
       "1998.0          0.079374  0.208575  0.060255  0.162225  0.046350  0.158169   \n",
       "1999.0          0.080879  0.221168  0.094858  0.178233  0.049925  0.135297   \n",
       "2000.0          0.117594  0.197648  0.080507  0.169607  0.042515  0.159656   \n",
       "2001.0          0.101456  0.208205  0.097927  0.162770  0.048522  0.131892   \n",
       "2002.0          0.118071  0.203245  0.093285  0.122578  0.075259  0.135196   \n",
       "2003.0          0.114768  0.197861  0.101604  0.150555  0.065405  0.139860   \n",
       "2004.0          0.101732  0.208658  0.081385  0.133766  0.062338  0.140693   \n",
       "2005.0          0.100341  0.206361  0.092011  0.149565  0.061719  0.141992   \n",
       "2006.0          0.092053  0.233848  0.100057  0.132361  0.051172  0.116066   \n",
       "2007.0          0.076945  0.258420  0.118467  0.105110  0.049942  0.113821   \n",
       "2008.0          0.067505  0.223075  0.170911  0.098496  0.068426  0.123351   \n",
       "2009.0          0.040490  0.229888  0.183271  0.084976  0.077251  0.084443   \n",
       "2010.0          0.052157  0.256493  0.181799  0.092080  0.070616  0.078987   \n",
       "2011.0          0.035210  0.259892  0.216315  0.077915  0.073558  0.064145   \n",
       "2012.0          0.043495  0.238459  0.198588  0.083937  0.068676  0.068104   \n",
       "2013.0          0.030374  0.274311  0.196138  0.085237  0.062868  0.064752   \n",
       "2014.0          0.028947  0.285965  0.197368  0.079825  0.075731  0.067251   \n",
       "2015.0          0.019732  0.253165  0.246463  0.053611  0.097915  0.048399   \n",
       "2016.0          0.012117  0.170918  0.344388  0.041454  0.177934  0.050383   \n",
       "2017.0          0.016713  0.033426  0.311978  0.011142  0.225627  0.072423   \n",
       "\n",
       "Dominant_Topic       6.0       7.0  \n",
       "year                                \n",
       "1990.0          0.147385  0.088748  \n",
       "1991.0          0.124317  0.091530  \n",
       "1992.0          0.138889  0.098214  \n",
       "1993.0          0.141909  0.063071  \n",
       "1994.0          0.138648  0.093588  \n",
       "1995.0          0.152529  0.138521  \n",
       "1996.0          0.151045  0.109238  \n",
       "1997.0          0.136622  0.133460  \n",
       "1998.0          0.136153  0.148899  \n",
       "1999.0          0.115826  0.123814  \n",
       "2000.0          0.093171  0.139303  \n",
       "2001.0          0.097486  0.151742  \n",
       "2002.0          0.113565  0.138801  \n",
       "2003.0          0.100782  0.129165  \n",
       "2004.0          0.116017  0.155411  \n",
       "2005.0          0.110186  0.137827  \n",
       "2006.0          0.103488  0.170955  \n",
       "2007.0          0.100465  0.176829  \n",
       "2008.0          0.089598  0.158638  \n",
       "2009.0          0.098295  0.201385  \n",
       "2010.0          0.092938  0.174930  \n",
       "2011.0          0.095869  0.177096  \n",
       "2012.0          0.101870  0.196871  \n",
       "2013.0          0.078408  0.207911  \n",
       "2014.0          0.070175  0.194737  \n",
       "2015.0          0.075577  0.205138  \n",
       "2016.0          0.069515  0.133291  \n",
       "2017.0          0.097493  0.231198  "
      ]
     },
     "execution_count": 25,
     "metadata": {},
     "output_type": "execute_result"
    }
   ],
   "source": [
    "c"
   ]
  },
  {
   "cell_type": "code",
   "execution_count": 26,
   "metadata": {},
   "outputs": [
    {
     "data": {
      "image/png": "[encoded data removed]",
      "text/plain": [
       "<matplotlib.figure.Figure at 0x20a33b75a20>"
      ]
     },
     "metadata": {
      "needs_background": "light"
     },
     "output_type": "display_data"
    }
   ],
   "source": [
    "c.plot()\n",
    "plt.xlabel('Filling years')\n",
    "plt.ylabel('patent Share')\n",
    "plt.title('Change in the share of patents over filling years')\n",
    "plt.legend()\n",
    "plt.show()"
   ]
  },
  {
   "cell_type": "markdown",
   "metadata": {},
   "source": [
    "# Share of patents by  technological topics\n",
    "\n",
    "table 3 in paper"
   ]
  },
  {
   "cell_type": "code",
   "execution_count": null,
   "metadata": {},
   "outputs": [],
   "source": [
    "# start with 2010\n",
    "df.groupby(df.Filling_Date.dt.year==2010).TOPIC.value_counts()"
   ]
  },
  {
   "cell_type": "markdown",
   "metadata": {},
   "source": [
    "2849 for 2010<br>\n",
    "2849/34223=8.32 %"
   ]
  },
  {
   "cell_type": "code",
   "execution_count": null,
   "metadata": {},
   "outputs": [],
   "source": [
    "# For 2011\n",
    "df.groupby(df.Filling_Date.dt.year==2011).TOPIC.value_counts()"
   ]
  },
  {
   "cell_type": "markdown",
   "metadata": {},
   "source": [
    "for year 2010, we have told of 3816 which has patent share of <br>\n",
    "\n",
    "3816/34223=11.15%"
   ]
  },
  {
   "cell_type": "code",
   "execution_count": null,
   "metadata": {},
   "outputs": [],
   "source": [
    "# for 2012\n",
    "df.groupby(df.Filling_Date.dt.year==2012).TOPIC.value_counts()"
   ]
  },
  {
   "cell_type": "markdown",
   "metadata": {},
   "source": [
    "For 2012, 3231 <br>\n",
    "9.44%"
   ]
  },
  {
   "cell_type": "code",
   "execution_count": null,
   "metadata": {},
   "outputs": [],
   "source": [
    "# for 2013\n",
    "df.groupby(df.Filling_Date.dt.year==2013).TOPIC.value_counts()"
   ]
  },
  {
   "cell_type": "code",
   "execution_count": null,
   "metadata": {},
   "outputs": [],
   "source": [
    "# for 2013, count function used instead of summing all one by one\n",
    "df.groupby(df.Filling_Date.dt.year==2013).TOPIC.count()"
   ]
  },
  {
   "cell_type": "code",
   "execution_count": null,
   "metadata": {},
   "outputs": [],
   "source": [
    "2615/34223"
   ]
  },
  {
   "cell_type": "code",
   "execution_count": null,
   "metadata": {},
   "outputs": [],
   "source": [
    "# for 2014, count function used instead of summing all one by one\n",
    "df.groupby(df.Filling_Date.dt.year==2014).TOPIC.count()"
   ]
  },
  {
   "cell_type": "code",
   "execution_count": null,
   "metadata": {},
   "outputs": [],
   "source": [
    "2165/34223"
   ]
  },
  {
   "cell_type": "code",
   "execution_count": null,
   "metadata": {},
   "outputs": [],
   "source": [
    "# for 2015, count function used instead of summing all one by one\n",
    "df.groupby(df.Filling_Date.dt.year==2015).TOPIC.count()"
   ]
  },
  {
   "cell_type": "code",
   "execution_count": null,
   "metadata": {},
   "outputs": [],
   "source": [
    "1744/34223"
   ]
  },
  {
   "cell_type": "code",
   "execution_count": null,
   "metadata": {},
   "outputs": [],
   "source": [
    "# for 2016, count function used instead of summing all one by one\n",
    "df.groupby(df.Filling_Date.dt.year==2016).TOPIC.count()"
   ]
  },
  {
   "cell_type": "code",
   "execution_count": null,
   "metadata": {},
   "outputs": [],
   "source": [
    "1040/34223"
   ]
  },
  {
   "cell_type": "code",
   "execution_count": null,
   "metadata": {},
   "outputs": [],
   "source": [
    "# for 2017, count function used instead of summing all one by one\n",
    "df.groupby(df.Filling_Date.dt.year==2017).TOPIC.count()"
   ]
  },
  {
   "cell_type": "code",
   "execution_count": null,
   "metadata": {},
   "outputs": [],
   "source": [
    "198/34223"
   ]
  },
  {
   "cell_type": "code",
   "execution_count": null,
   "metadata": {},
   "outputs": [],
   "source": [
    "# for 2018, count function used instead of summing all one by one\n",
    "df.groupby(df.Filling_Date.dt.year==2018).TOPIC.count()"
   ]
  },
  {
   "cell_type": "code",
   "execution_count": null,
   "metadata": {},
   "outputs": [],
   "source": [
    "1/34223"
   ]
  },
  {
   "cell_type": "markdown",
   "metadata": {},
   "source": [
    "**The average patent share in 2012 by topic was 9.44%. So, we will take it as reference value to determine whether given patent is samll or large**"
   ]
  },
  {
   "cell_type": "code",
   "execution_count": null,
   "metadata": {},
   "outputs": [],
   "source": [
    "## for 2012\n",
    "df.groupby(df.Filling_Date.dt.year==2012).TOPIC.value_counts()"
   ]
  },
  {
   "cell_type": "code",
   "execution_count": null,
   "metadata": {},
   "outputs": [],
   "source": [
    "df.groupby(df.Filling_Date.dt.year==2012).TOPIC.count()"
   ]
  },
  {
   "cell_type": "code",
   "execution_count": null,
   "metadata": {},
   "outputs": [],
   "source": [
    "# For 2012,current patent share\n",
    "df.groupby(df.Filling_Date.dt.year==2012).TOPIC.value_counts(normalize=True)"
   ]
  },
  {
   "cell_type": "markdown",
   "metadata": {},
   "source": [
    "### Calculate CAGR\n",
    "https://www.investopedia.com/terms/c/cagr.asp\n",
    "\n",
    "We will consider years from 2010-2014"
   ]
  },
  {
   "cell_type": "code",
   "execution_count": null,
   "metadata": {},
   "outputs": [],
   "source": [
    "df.groupby(df.Filling_Date.dt.year==2010).TOPIC.value_counts()"
   ]
  },
  {
   "cell_type": "markdown",
   "metadata": {},
   "source": [
    "Initial values for patent share are given "
   ]
  },
  {
   "cell_type": "code",
   "execution_count": null,
   "metadata": {},
   "outputs": [],
   "source": [
    "df.groupby(df.Filling_Date.dt.year==2015).TOPIC.value_counts()"
   ]
  },
  {
   "cell_type": "markdown",
   "metadata": {},
   "source": [
    "# 4) Firm-level analysis"
   ]
  },
  {
   "cell_type": "code",
   "execution_count": null,
   "metadata": {},
   "outputs": [],
   "source": [
    "patent=pd.read_csv('patent_all_en_new.csv')"
   ]
  },
  {
   "cell_type": "code",
   "execution_count": null,
   "metadata": {},
   "outputs": [],
   "source": [
    "patent.head()"
   ]
  },
  {
   "cell_type": "code",
   "execution_count": null,
   "metadata": {},
   "outputs": [],
   "source": [
    "data = pd.read_pickle('top10_topic_dominant.pkl')"
   ]
  },
  {
   "cell_type": "code",
   "execution_count": null,
   "metadata": {},
   "outputs": [],
   "source": [
    "data['assignee']=patent['earliest_applt']"
   ]
  },
  {
   "cell_type": "code",
   "execution_count": null,
   "metadata": {},
   "outputs": [],
   "source": [
    "data.head()"
   ]
  },
  {
   "cell_type": "code",
   "execution_count": null,
   "metadata": {},
   "outputs": [],
   "source": [
    "# checking value count of topics\n",
    "data.Dominant_Topic.value_counts()"
   ]
  },
  {
   "cell_type": "code",
   "execution_count": null,
   "metadata": {},
   "outputs": [],
   "source": []
  },
  {
   "cell_type": "code",
   "execution_count": null,
   "metadata": {},
   "outputs": [],
   "source": []
  },
  {
   "cell_type": "code",
   "execution_count": null,
   "metadata": {},
   "outputs": [],
   "source": []
  },
  {
   "cell_type": "code",
   "execution_count": null,
   "metadata": {},
   "outputs": [],
   "source": [
    "type(data)"
   ]
  },
  {
   "cell_type": "code",
   "execution_count": null,
   "metadata": {},
   "outputs": [],
   "source": [
    "data.assignee.value_counts().head()"
   ]
  },
  {
   "cell_type": "markdown",
   "metadata": {},
   "source": [
    "There are 15292 firm names in our datasets. We got to be sure there are no duplicates.<br>\n",
    "By duplicates mean the names with different case letter, different name representation etc"
   ]
  },
  {
   "cell_type": "code",
   "execution_count": null,
   "metadata": {},
   "outputs": [],
   "source": []
  },
  {
   "cell_type": "code",
   "execution_count": null,
   "metadata": {},
   "outputs": [],
   "source": [
    "assignee_topic=data.groupby(data.assignee).Dominant_Topic.value_counts()"
   ]
  },
  {
   "cell_type": "code",
   "execution_count": null,
   "metadata": {},
   "outputs": [],
   "source": [
    "df_assigne_topic= pd.DataFrame(data=assignee_topic)"
   ]
  },
  {
   "cell_type": "code",
   "execution_count": null,
   "metadata": {},
   "outputs": [],
   "source": [
    "df_assigne_topic.head(30)"
   ]
  },
  {
   "cell_type": "code",
   "execution_count": null,
   "metadata": {},
   "outputs": [],
   "source": []
  }
 ],
 "metadata": {
  "kernelspec": {
   "display_name": "Python 3",
   "language": "python",
   "name": "python3"
  },
  "language_info": {
   "codemirror_mode": {
    "name": "ipython",
    "version": 3
   },
   "file_extension": ".py",
   "mimetype": "text/x-python",
   "name": "python",
   "nbconvert_exporter": "python",
   "pygments_lexer": "ipython3",
   "version": "3.6.3"
  }
 },
 "nbformat": 4,
 "nbformat_minor": 2
}
